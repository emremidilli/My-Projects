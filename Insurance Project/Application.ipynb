{
 "cells": [
  {
   "cell_type": "code",
   "execution_count": 417,
   "id": "d0c93419",
   "metadata": {},
   "outputs": [],
   "source": [
    "import pandas as pd\n",
    "import numpy as np\n",
    "import seaborn as sns"
   ]
  },
  {
   "cell_type": "code",
   "execution_count": 418,
   "id": "ae7a207a",
   "metadata": {},
   "outputs": [],
   "source": [
    "pd.set_option(\"display.max_columns\", None)\n",
    "from IPython.core.interactiveshell import InteractiveShell\n",
    "\n",
    "InteractiveShell.ast_node_interactivity = \"all\""
   ]
  },
  {
   "cell_type": "code",
   "execution_count": 419,
   "id": "9014fc37",
   "metadata": {},
   "outputs": [],
   "source": [
    "dfPolicyData = pd.read_csv(\"PolicyData.csv\", delimiter = \";\", encoding='latin-1')\n",
    "dfPolicyData.set_index(\"policy_guid\", inplace = True)\n",
    "\n",
    "dfInvoiceData = pd.read_csv(\"InvoiceData.csv\", delimiter = \";\")\n",
    "dfInvoiceData.set_index(\"invoice_guid\", inplace = True)\n"
   ]
  },
  {
   "cell_type": "code",
   "execution_count": 420,
   "id": "2b8568fa",
   "metadata": {},
   "outputs": [],
   "source": [
    "# 1: Invoice is paid late\n",
    "# 0: Invoice is not paid late\n",
    "aLabels = [1, 0]\n",
    "aConditions = [\n",
    "    (dfInvoiceData[\"due_date\"] < dfInvoiceData[\"paid_date\"]),\n",
    "    (dfInvoiceData[\"due_date\"] >= dfInvoiceData[\"paid_date\"])\n",
    "]\n",
    "\n",
    "dfInvoiceData[\"is_it_paid_late\"] = np.select(aConditions, aLabels)"
   ]
  },
  {
   "cell_type": "code",
   "execution_count": 421,
   "id": "7d5c8be0",
   "metadata": {},
   "outputs": [],
   "source": [
    "# In the dataset not all policies are ended. It s a snapshot probably around June 2018.\n",
    "# There could be 3 status of policies: \"Ended on time\", \"Terminated\" and \"Ongoing\"\n",
    "# We can build model not based on policy status, but based on number of issued invoices.\n",
    "\n",
    "oInvocieGroupByPolicy = dfInvoiceData[[\"policy_guid\", \"is_it_paid_late\"]].groupby([\"policy_guid\"])\n",
    "\n",
    "dfInvoiceIssueStatistics = oInvocieGroupByPolicy.agg([\"count\", \"sum\"])\n",
    "\n",
    "dfInvoiceIssueStatistics = dfInvoiceIssueStatistics[\"is_it_paid_late\"] \n",
    "\n",
    "dfInvoiceIssueStatistics.columns = [\"number_of_invoices\", \"number_of_late_payments\"]\n",
    "\n",
    "dfInvoiceIssueStatistics[\"late_payment_ratio\"] = dfInvoiceIssueStatistics[\"number_of_late_payments\"]/dfInvoiceIssueStatistics[\"number_of_invoices\"]\n",
    "\n",
    "\n",
    "dfPolicyData = dfPolicyData.join(dfInvoiceIssueStatistics)"
   ]
  },
  {
   "cell_type": "code",
   "execution_count": 422,
   "id": "19ece68b",
   "metadata": {},
   "outputs": [],
   "source": [
    "# 1: Policy is paid late at least once\n",
    "# 0: Policy is never paid late\n",
    "aLabels = [1, 0]\n",
    "aConditions = [\n",
    "    (dfPolicyData[\"number_of_late_payments\"] >= 1),\n",
    "    (dfPolicyData[\"number_of_late_payments\"] == 0)\n",
    "]\n",
    "\n",
    "dfPolicyData[\"is_it_paid_late\"] = np.select(aConditions, aLabels)"
   ]
  },
  {
   "cell_type": "code",
   "execution_count": 423,
   "id": "32f9788e",
   "metadata": {},
   "outputs": [],
   "source": [
    "# 1: Policy is still active\n",
    "# 0: Policy is ended or terminated\n",
    "dfPolicyData[\"is_policy_active\"] = 0\n",
    "\n",
    "dfPolicyData.loc[(dfPolicyData[\"number_of_invoices\"] < dfPolicyData[\"Nb_of_payments\"]) & (dfPolicyData[\"Terminated\"] == 0), \"is_policy_active\"] = 1\n"
   ]
  },
  {
   "cell_type": "code",
   "execution_count": 424,
   "id": "1ff55568",
   "metadata": {
    "code_folding": []
   },
   "outputs": [
    {
     "name": "stdout",
     "output_type": "stream",
     "text": [
      "<class 'pandas.core.frame.DataFrame'>\n",
      "Index: 68638 entries, {E4FD3CD8-4141-4E55-A74C-C983ED7EFD8E} to {81D48EF2-6ED1-4784-AE0C-9481151186F9}\n",
      "Data columns (total 43 columns):\n",
      " #   Column                        Non-Null Count  Dtype  \n",
      "---  ------                        --------------  -----  \n",
      " 0   Country                       68638 non-null  object \n",
      " 1   VehicleType                   68638 non-null  object \n",
      " 2   VehicleUsage                  68638 non-null  object \n",
      " 3   Power                         68638 non-null  int64  \n",
      " 4   Weight                        68638 non-null  int64  \n",
      " 5   VehicleFirstRegistrationYear  68638 non-null  int64  \n",
      " 6   Mark                          68638 non-null  object \n",
      " 7   Model                         68638 non-null  object \n",
      " 8   Deductible_general            68636 non-null  float64\n",
      " 9   Fire                          68638 non-null  int64  \n",
      " 10  Theft                         68638 non-null  int64  \n",
      " 11  Natural_disasters             68638 non-null  int64  \n",
      " 12  Road_assistance               68638 non-null  int64  \n",
      " 13  Total_loss                    68638 non-null  int64  \n",
      " 14  Vandalism                     68638 non-null  int64  \n",
      " 15  Glass                         68638 non-null  int64  \n",
      " 16  Accident                      68638 non-null  int64  \n",
      " 17  Replacement_car               68638 non-null  int64  \n",
      " 18  Gender                        68638 non-null  object \n",
      " 19  ClientBirthday                68595 non-null  object \n",
      " 20  Region                        68638 non-null  object \n",
      " 21  BMClassMOD                    68622 non-null  object \n",
      " 22  Leasing                       68638 non-null  int64  \n",
      " 23  PolicyIssueDate               68638 non-null  object \n",
      " 24  PolicyStartDate               68638 non-null  object \n",
      " 25  PolicyEndDate                 68638 non-null  object \n",
      " 26  PolicyActualEndDate           68638 non-null  object \n",
      " 27  Nb_of_payments                68638 non-null  int64  \n",
      " 28  Premium                       68638 non-null  float64\n",
      " 29  Channel                       68638 non-null  object \n",
      " 30  FuelType                      68638 non-null  object \n",
      " 31  avgFuelConsumption            40680 non-null  float64\n",
      " 32  DriveTrain                    68638 non-null  object \n",
      " 33  RenewalIndicator              68638 non-null  int64  \n",
      " 34  IsRenewed                     68638 non-null  int64  \n",
      " 35  BalticRating                  68638 non-null  int64  \n",
      " 36  Terminated                    68638 non-null  int64  \n",
      " 37  sales_type                    68638 non-null  object \n",
      " 38  number_of_invoices            68638 non-null  int64  \n",
      " 39  number_of_late_payments       68638 non-null  int32  \n",
      " 40  late_payment_ratio            68638 non-null  float64\n",
      " 41  is_it_paid_late               68638 non-null  int32  \n",
      " 42  is_policy_active              68638 non-null  int64  \n",
      "dtypes: float64(4), int32(2), int64(20), object(17)\n",
      "memory usage: 25.0+ MB\n",
      "<class 'pandas.core.frame.DataFrame'>\n",
      "Index: 358850 entries, {55B3ABD8-B64E-498E-A617-3C6E88C4D06F} to {58E12CC8-A879-4FD4-B20E-E33714DB2A02}\n",
      "Data columns (total 6 columns):\n",
      " #   Column           Non-Null Count   Dtype  \n",
      "---  ------           --------------   -----  \n",
      " 0   payment_status   358850 non-null  object \n",
      " 1   policy_guid      358850 non-null  object \n",
      " 2   amount_premium   358850 non-null  float64\n",
      " 3   due_date         358850 non-null  object \n",
      " 4   paid_date        358850 non-null  object \n",
      " 5   is_it_paid_late  358850 non-null  int32  \n",
      "dtypes: float64(1), int32(1), object(4)\n",
      "memory usage: 27.8+ MB\n"
     ]
    }
   ],
   "source": [
    "# They are converted from object to float\n",
    "dfInvoiceData[\"amount_premium\"] = dfInvoiceData[\"amount_premium\"].apply(lambda x: x.replace(',','.'), ).astype(float, errors = 'raise')\n",
    "dfPolicyData[\"Premium\"] = dfPolicyData[\"Premium\"].apply(lambda x: x.replace(',','.'), ).astype(float, errors = 'raise')\n",
    "\n",
    "dfPolicyData.info()\n",
    "dfInvoiceData.info()"
   ]
  },
  {
   "cell_type": "code",
   "execution_count": 425,
   "id": "129ee339",
   "metadata": {},
   "outputs": [
    {
     "data": {
      "text/plain": [
       "['Deductible_general', 'ClientBirthday', 'BMClassMOD', 'avgFuelConsumption']"
      ]
     },
     "execution_count": 425,
     "metadata": {},
     "output_type": "execute_result"
    },
    {
     "data": {
      "text/plain": [
       "['Region', 'FuelType', 'DriveTrain']"
      ]
     },
     "execution_count": 425,
     "metadata": {},
     "output_type": "execute_result"
    }
   ],
   "source": [
    "# Columns that are NaN or 'Missing' in policy dataset\n",
    "\n",
    "dfPolicyData.columns[dfPolicyData.isna().any()].tolist()\n",
    "\n",
    "dfMissing = dfPolicyData.astype(str) == \"Missing\"\n",
    "dfPolicyData.columns[dfMissing.any()].tolist()\n"
   ]
  },
  {
   "cell_type": "code",
   "execution_count": 426,
   "id": "a16a7f95",
   "metadata": {},
   "outputs": [
    {
     "data": {
      "text/plain": [
       "[]"
      ]
     },
     "execution_count": 426,
     "metadata": {},
     "output_type": "execute_result"
    },
    {
     "data": {
      "text/plain": [
       "[]"
      ]
     },
     "execution_count": 426,
     "metadata": {},
     "output_type": "execute_result"
    }
   ],
   "source": [
    "# Columns that are NaN or 'Missing' in invoice dataset.\n",
    "# There is no missing data invoice dataset. \n",
    "\n",
    "dfInvoiceData.columns[dfInvoiceData.isna().any()].tolist()\n",
    "\n",
    "dfMissing = dfInvoiceData.astype(str) == \"Missing\"\n",
    "dfInvoiceData.columns[dfMissing.any()].tolist()"
   ]
  },
  {
   "cell_type": "code",
   "execution_count": 427,
   "id": "3b38bbdc",
   "metadata": {},
   "outputs": [],
   "source": [
    "# There are policies where number of invoices are greater than number of issued invoices.\n",
    "dfToQuestion = dfPolicyData[dfPolicyData[\"number_of_invoices\"] > dfPolicyData[\"Nb_of_payments\"]].loc[:, [\"number_of_invoices\", \"Nb_of_payments\"]]"
   ]
  },
  {
   "cell_type": "markdown",
   "id": "daabac02",
   "metadata": {},
   "source": [
    "MISSING DATA MANUPULATIONS"
   ]
  },
  {
   "cell_type": "markdown",
   "id": "0c800d70",
   "metadata": {},
   "source": [
    "Deductible_general:\n",
    "\n",
    "There are only 2 rows where Deductible_general is missing. \n",
    "\n",
    "Since they are relatively small amount of rows for this dataset, these rows are deleted."
   ]
  },
  {
   "cell_type": "code",
   "execution_count": 428,
   "id": "1ebc2530",
   "metadata": {},
   "outputs": [],
   "source": [
    "dfMissingDecutibleGeneral = dfPolicyData[dfPolicyData[\"Deductible_general\"].isna()]\n",
    "dfPolicyData.drop(dfMissingDecutibleGeneral.index, inplace = True)"
   ]
  },
  {
   "cell_type": "markdown",
   "id": "adbf4856",
   "metadata": {},
   "source": [
    "ClientBirthday:\n",
    "    \n",
    "There are only 43 rows where ClientBirthday is missing.\n",
    "\n",
    "Since they are relatively small amount of rows for this dataset, these rows are deleted."
   ]
  },
  {
   "cell_type": "code",
   "execution_count": 429,
   "id": "bfdf81d8",
   "metadata": {},
   "outputs": [],
   "source": [
    "dfMissingClientBirthday = dfPolicyData[dfPolicyData[\"ClientBirthday\"].isna()]\n",
    "dfPolicyData.drop(dfMissingClientBirthday.index, inplace = True)"
   ]
  },
  {
   "cell_type": "markdown",
   "id": "8cf49a9b",
   "metadata": {},
   "source": [
    "BMClassMOD:\n",
    "\n",
    "There are only 14 rows where BMClassMOD is missing.\n",
    "\n",
    "Since they are relatively small amount of rows for this dataset, these rows are deleted."
   ]
  },
  {
   "cell_type": "code",
   "execution_count": 430,
   "id": "a8704cfa",
   "metadata": {},
   "outputs": [],
   "source": [
    "dfMissingBmClassMod = dfPolicyData[dfPolicyData[\"BMClassMOD\"].isna()]\n",
    "dfPolicyData.drop(dfMissingBmClassMod.index, inplace = True)"
   ]
  },
  {
   "cell_type": "markdown",
   "id": "073ebbc1",
   "metadata": {},
   "source": [
    "avgFuelConsumption:\n",
    "\n",
    "There are 27927 rows where avgFuelConsumption is missing.\n",
    "Since it s a big amount of rows, correlation between avgFuelConsumption and late payment are investigated for the non-missing avgFuelConsumption.\n",
    "\n",
    "As it can be seen from heatmap, correlation coefficient is not even 0.10 which implies weak relationship between late payment attributes.\n",
    "\n",
    "Due to high amount of missing and weak correlation, this field is excluded from policy dataset."
   ]
  },
  {
   "cell_type": "code",
   "execution_count": 431,
   "id": "ab943561",
   "metadata": {},
   "outputs": [
    {
     "data": {
      "text/plain": [
       "<matplotlib.axes._subplots.AxesSubplot at 0x24804d59d48>"
      ]
     },
     "execution_count": 431,
     "metadata": {},
     "output_type": "execute_result"
    },
    {
     "data": {
      "image/png": "[encoded data removed]",
      "text/plain": [
       "<Figure size 842.4x595.44 with 2 Axes>"
      ]
     },
     "metadata": {},
     "output_type": "display_data"
    }
   ],
   "source": [
    "dfMissingAvgFuelConsumption = dfPolicyData[dfPolicyData[\"avgFuelConsumption\"].isna()]\n",
    "dfNonMissingAvgFuelConsumption = dfPolicyData.drop(dfMissingAvgFuelConsumption.index, inplace = False)\n",
    "\n",
    "dfCorr = dfNonMissingAvgFuelConsumption[[\"avgFuelConsumption\", \"is_it_paid_late\", \"late_payment_ratio\"]].corr()\n",
    "\n",
    "sns.heatmap(dfCorr, vmin=-1, vmax=1, annot=True)\n"
   ]
  },
  {
   "cell_type": "code",
   "execution_count": null,
   "id": "94921e7c",
   "metadata": {},
   "outputs": [],
   "source": []
  }
 ],
 "metadata": {
  "kernelspec": {
   "display_name": "Python 3",
   "language": "python",
   "name": "python3"
  },
  "language_info": {
   "codemirror_mode": {
    "name": "ipython",
    "version": 3
   },
   "file_extension": ".py",
   "mimetype": "text/x-python",
   "name": "python",
   "nbconvert_exporter": "python",
   "pygments_lexer": "ipython3",
   "version": "3.7.10"
  },
  "varInspector": {
   "cols": {
    "lenName": 16,
    "lenType": 16,
    "lenVar": 40
   },
   "kernels_config": {
    "python": {
     "delete_cmd_postfix": "",
     "delete_cmd_prefix": "del ",
     "library": "var_list.py",
     "varRefreshCmd": "print(var_dic_list())"
    },
    "r": {
     "delete_cmd_postfix": ") ",
     "delete_cmd_prefix": "rm(",
     "library": "var_list.r",
     "varRefreshCmd": "cat(var_dic_list()) "
    }
   },
   "types_to_exclude": [
    "module",
    "function",
    "builtin_function_or_method",
    "instance",
    "_Feature"
   ],
   "window_display": false
  }
 },
 "nbformat": 4,
 "nbformat_minor": 5
}
