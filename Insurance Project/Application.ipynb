{
 "cells": [
  {
   "cell_type": "code",
   "execution_count": 915,
   "id": "d0c93419",
   "metadata": {},
   "outputs": [],
   "source": [
    "import pandas as pd\n",
    "import numpy as np\n",
    "import seaborn as sns\n",
    "import matplotlib.pyplot as plt\n",
    "from IPython.core.interactiveshell import InteractiveShell\n",
    "from sklearn.preprocessing import LabelEncoder\n",
    "from sklearn.preprocessing import StandardScaler\n",
    "from sklearn.model_selection import train_test_split\n",
    "from sklearn.ensemble import RandomForestClassifier\n",
    "\n",
    "from sklearn import metrics"
   ]
  },
  {
   "cell_type": "code",
   "execution_count": 916,
   "id": "ae7a207a",
   "metadata": {},
   "outputs": [
    {
     "data": {
      "text/plain": [
       "<Figure size 1008x576 with 0 Axes>"
      ]
     },
     "execution_count": 916,
     "metadata": {},
     "output_type": "execute_result"
    },
    {
     "data": {
      "text/plain": [
       "<Figure size 1008x576 with 0 Axes>"
      ]
     },
     "metadata": {},
     "output_type": "display_data"
    }
   ],
   "source": [
    "pd.set_option(\"display.max_columns\", None)\n",
    "\n",
    "InteractiveShell.ast_node_interactivity = \"all\"\n",
    "\n",
    "plt.figure(figsize=(14,8))"
   ]
  },
  {
   "cell_type": "code",
   "execution_count": 917,
   "id": "9014fc37",
   "metadata": {},
   "outputs": [],
   "source": [
    "dfPolicyData = pd.read_csv(\"PolicyData.csv\", delimiter = \";\", encoding='latin-1')\n",
    "dfPolicyData.set_index(\"policy_guid\", inplace = True)\n",
    "\n",
    "dfInvoiceData = pd.read_csv(\"InvoiceData.csv\", delimiter = \";\")\n",
    "dfInvoiceData.set_index(\"invoice_guid\", inplace = True)\n"
   ]
  },
  {
   "cell_type": "code",
   "execution_count": 918,
   "id": "94b60525",
   "metadata": {},
   "outputs": [],
   "source": [
    "# They are converted from object to float\n",
    "dfInvoiceData[\"amount_premium\"] = dfInvoiceData[\"amount_premium\"].apply(lambda x: x.replace(',','.'), ).astype(float, errors = 'raise')\n",
    "dfPolicyData[\"Premium\"] = dfPolicyData[\"Premium\"].apply(lambda x: x.replace(',','.'), ).astype(float, errors = 'raise')"
   ]
  },
  {
   "cell_type": "code",
   "execution_count": 919,
   "id": "2b8568fa",
   "metadata": {},
   "outputs": [],
   "source": [
    "# 1: Invoice is paid late\n",
    "# 0: Invoice is not paid late\n",
    "aLabels = [1, 0]\n",
    "aConditions = [\n",
    "    (dfInvoiceData[\"due_date\"] < dfInvoiceData[\"paid_date\"]),\n",
    "    (dfInvoiceData[\"due_date\"] >= dfInvoiceData[\"paid_date\"])\n",
    "]\n",
    "\n",
    "dfInvoiceData[\"is_it_paid_late\"] = np.select(aConditions, aLabels)"
   ]
  },
  {
   "cell_type": "code",
   "execution_count": 920,
   "id": "7d5c8be0",
   "metadata": {},
   "outputs": [],
   "source": [
    "# In the dataset not all policies are ended. It s a snapshot probably around June 2018.\n",
    "# There could be 3 status of policies: \"Ended on time\", \"Terminated\" and \"Ongoing\"\n",
    "# We can build model not based on policy status, but based on number of issued invoices.\n",
    "\n",
    "oInvocieGroupByPolicy = dfInvoiceData[[\"policy_guid\", \"is_it_paid_late\"]].groupby([\"policy_guid\"])\n",
    "\n",
    "dfInvoiceIssueStatistics = oInvocieGroupByPolicy.agg([\"count\", \"sum\"])\n",
    "\n",
    "dfInvoiceIssueStatistics = dfInvoiceIssueStatistics[\"is_it_paid_late\"] \n",
    "\n",
    "dfInvoiceIssueStatistics.columns = [\"number_of_invoices\", \"number_of_late_payments\"]\n",
    "\n",
    "dfInvoiceIssueStatistics[\"late_payment_ratio\"] = dfInvoiceIssueStatistics[\"number_of_late_payments\"]/dfInvoiceIssueStatistics[\"number_of_invoices\"]\n",
    "\n",
    "\n",
    "dfModelData = dfPolicyData.join(dfInvoiceIssueStatistics)"
   ]
  },
  {
   "cell_type": "code",
   "execution_count": 921,
   "id": "19ece68b",
   "metadata": {},
   "outputs": [],
   "source": [
    "# 1: Policy is paid late at least once\n",
    "# 0: Policy is never paid late\n",
    "aLabels = [1, 0]\n",
    "aConditions = [\n",
    "    (dfModelData[\"number_of_late_payments\"] >= 1),\n",
    "    (dfModelData[\"number_of_late_payments\"] == 0)\n",
    "]\n",
    "\n",
    "dfModelData[\"is_it_paid_late\"] = np.select(aConditions, aLabels)"
   ]
  },
  {
   "cell_type": "code",
   "execution_count": 922,
   "id": "32f9788e",
   "metadata": {},
   "outputs": [],
   "source": [
    "# 1: Policy is still active\n",
    "# 0: Policy is ended or terminated\n",
    "dfModelData[\"is_policy_active\"] = 0\n",
    "\n",
    "dfModelData.loc[(dfModelData[\"number_of_invoices\"] < dfModelData[\"Nb_of_payments\"]) & (dfModelData[\"Terminated\"] == 0), \"is_policy_active\"] = 1\n"
   ]
  },
  {
   "cell_type": "code",
   "execution_count": 923,
   "id": "bf05db3c",
   "metadata": {},
   "outputs": [
    {
     "data": {
      "text/plain": [
       "['Deductible_general', 'ClientBirthday', 'BMClassMOD', 'avgFuelConsumption']"
      ]
     },
     "execution_count": 923,
     "metadata": {},
     "output_type": "execute_result"
    },
    {
     "data": {
      "text/plain": [
       "['Region', 'FuelType', 'DriveTrain']"
      ]
     },
     "execution_count": 923,
     "metadata": {},
     "output_type": "execute_result"
    }
   ],
   "source": [
    "# Columns that are NaN or 'Missing' in policy dataset\n",
    "\n",
    "dfPolicyData.columns[dfPolicyData.isna().any()].tolist()\n",
    "\n",
    "dfMissing = dfPolicyData.astype(str) == \"Missing\"\n",
    "dfPolicyData.columns[dfMissing.any()].tolist()\n"
   ]
  },
  {
   "cell_type": "code",
   "execution_count": 924,
   "id": "369faf1b",
   "metadata": {},
   "outputs": [
    {
     "data": {
      "text/plain": [
       "[]"
      ]
     },
     "execution_count": 924,
     "metadata": {},
     "output_type": "execute_result"
    },
    {
     "data": {
      "text/plain": [
       "[]"
      ]
     },
     "execution_count": 924,
     "metadata": {},
     "output_type": "execute_result"
    }
   ],
   "source": [
    "# Columns that are NaN or 'Missing' in invoice dataset.\n",
    "# There is no missing data invoice dataset. \n",
    "\n",
    "dfInvoiceData.columns[dfInvoiceData.isna().any()].tolist()\n",
    "\n",
    "dfMissing = dfInvoiceData.astype(str) == \"Missing\"\n",
    "dfInvoiceData.columns[dfMissing.any()].tolist()"
   ]
  },
  {
   "cell_type": "code",
   "execution_count": 925,
   "id": "3b38bbdc",
   "metadata": {},
   "outputs": [],
   "source": [
    "# There are policies where number of invoices are greater than number of issued invoices.\n",
    "dfToQuestion = dfModelData[dfModelData[\"number_of_invoices\"] > dfModelData[\"Nb_of_payments\"]].loc[:, [\"number_of_invoices\", \"Nb_of_payments\"]]"
   ]
  },
  {
   "cell_type": "markdown",
   "id": "187e90b4",
   "metadata": {},
   "source": [
    "MISSING DATA MANUPULATIONS"
   ]
  },
  {
   "cell_type": "markdown",
   "id": "39098e58",
   "metadata": {},
   "source": [
    "Deductible_general:\n",
    "\n",
    "There are only 2 rows where Deductible_general is missing. \n",
    "\n",
    "Since they are relatively small amount of rows for this dataset, these rows are deleted."
   ]
  },
  {
   "cell_type": "code",
   "execution_count": 926,
   "id": "6dfc4e22",
   "metadata": {},
   "outputs": [],
   "source": [
    "dfMissingDecutibleGeneral = dfModelData[dfModelData[\"Deductible_general\"].isna()]\n",
    "dfModelData.drop(dfMissingDecutibleGeneral.index, inplace = True)"
   ]
  },
  {
   "cell_type": "markdown",
   "id": "44cdc2b1",
   "metadata": {},
   "source": [
    "ClientBirthday:\n",
    "    \n",
    "There are only 43 rows where ClientBirthday is missing.\n",
    "\n",
    "Since they are relatively small amount of rows for this dataset, these rows are deleted."
   ]
  },
  {
   "cell_type": "code",
   "execution_count": 927,
   "id": "641bf7e0",
   "metadata": {},
   "outputs": [],
   "source": [
    "dfMissingClientBirthday = dfModelData[dfModelData[\"ClientBirthday\"].isna()]\n",
    "dfModelData.drop(dfMissingClientBirthday.index, inplace = True)"
   ]
  },
  {
   "cell_type": "markdown",
   "id": "f1df4496",
   "metadata": {},
   "source": [
    "BMClassMOD:\n",
    "\n",
    "There are only 14 rows where BMClassMOD is missing.\n",
    "\n",
    "Since they are relatively small amount of rows for this dataset, these rows are deleted."
   ]
  },
  {
   "cell_type": "code",
   "execution_count": 928,
   "id": "4755c5b7",
   "metadata": {},
   "outputs": [],
   "source": [
    "dfMissingBmClassMod = dfModelData[dfModelData[\"BMClassMOD\"].isna()]\n",
    "dfModelData.drop(dfMissingBmClassMod.index, inplace = True)"
   ]
  },
  {
   "cell_type": "markdown",
   "id": "bee24835",
   "metadata": {},
   "source": [
    "avgFuelConsumption:\n",
    "\n",
    "There are 27927 rows where avgFuelConsumption is missing.\n",
    "\n",
    "Since it s a big amount of rows, correlation between avgFuelConsumption and other fields are calculated for non-missing data.\n",
    "\n",
    "It is found out that avgFuelConsumption has fair linear correlation with the attributes of Power, Weight,  VehicleFirstRegistrationYear and Premium.\n",
    "\n",
    "Missing data is filled based on random forest classifier model since avgFuelConsumption field contains cardinal-categorical data."
   ]
  },
  {
   "cell_type": "code",
   "execution_count": 929,
   "id": "c5210552",
   "metadata": {
    "scrolled": true
   },
   "outputs": [
    {
     "data": {
      "text/plain": [
       "<matplotlib.axes._subplots.AxesSubplot at 0x2483e38b808>"
      ]
     },
     "execution_count": 929,
     "metadata": {},
     "output_type": "execute_result"
    },
    {
     "data": {
      "text/plain": [
       "RandomForestClassifier()"
      ]
     },
     "execution_count": 929,
     "metadata": {},
     "output_type": "execute_result"
    },
    {
     "name": "stdout",
     "output_type": "stream",
     "text": [
      "RMSE:  0.06962210921728557\n",
      "R2:  0.6773552877292002\n",
      "Accuracy:  0.8766808789767137\n",
      "Recall:  0.8766808789767137\n",
      "Precision:  0.9282861607918041\n",
      "F1-Score:  0.9017458041663152\n"
     ]
    },
    {
     "data": {
      "image/png": "[encoded data removed]",
      "text/plain": [
       "<Figure size 842.4x595.44 with 2 Axes>"
      ]
     },
     "metadata": {},
     "output_type": "display_data"
    }
   ],
   "source": [
    "dfMissingAvgFuelConsumption = dfModelData[dfModelData[\"avgFuelConsumption\"].isna()]\n",
    "dfNonMissingAvgFuelConsumption = dfModelData.drop(dfMissingAvgFuelConsumption.index, inplace = False)\n",
    "\n",
    "aUniqueAvgFuelConsumption = dfNonMissingAvgFuelConsumption[\"avgFuelConsumption\"].unique()\n",
    "\n",
    "\n",
    "dfAvgFuelConsumptionClassified = pd.get_dummies(dfNonMissingAvgFuelConsumption[\"avgFuelConsumption\"])\n",
    "dfNonMissingAvgFuelConsumption[aUniqueAvgFuelConsumption] = dfAvgFuelConsumptionClassified\n",
    "\n",
    "dfCorr = dfNonMissingAvgFuelConsumption[[\"avgFuelConsumption\", \"Power\", \"Weight\", \"VehicleFirstRegistrationYear\", \"Premium\"]].corr()\n",
    "\n",
    "sns.heatmap(dfCorr.abs(), vmin=0, vmax=1, annot = True, cmap=\"Greens\")\n",
    "\n",
    "dfX = dfNonMissingAvgFuelConsumption[[\"Power\", \"Weight\", \"VehicleFirstRegistrationYear\", \"Premium\"]]\n",
    "dfY = dfNonMissingAvgFuelConsumption[aUniqueAvgFuelConsumption]\n",
    "\n",
    "X_train, X_test, y_train, y_test = train_test_split(dfX, dfY, test_size=0.3, random_state=1)\n",
    "\n",
    "\n",
    "scaler = StandardScaler()\n",
    "X_train = scaler.fit_transform(X_train)\n",
    "X_test = scaler.transform(X_test)\n",
    "\n",
    "oRandForModel = RandomForestClassifier()\n",
    "oRandForModel.fit(X_train, y_train)\n",
    "\n",
    "y_pred = oRandForModel.predict(X_test)\n",
    "\n",
    "print('RMSE: ', metrics.mean_squared_error(y_test, y_pred, squared = False))\n",
    "\n",
    "print('R2: ', metrics.r2_score(y_test, y_pred))\n",
    "\n",
    "print('Accuracy: ', metrics.accuracy_score(y_test, y_pred))\n",
    "\n",
    "print('Recall: ', metrics.recall_score(y_test, y_pred,zero_division=0,  average = 'micro'))\n",
    "\n",
    "print('Precision: ', metrics.precision_score(y_test, y_pred,zero_division=0,  average = 'micro'))\n",
    "\n",
    "print('F1-Score: ', metrics.f1_score(y_test, y_pred,zero_division=0,  average = 'micro'))\n",
    "\n",
    "aPredictedClassesForMissing = oRandForModel.predict(dfMissingAvgFuelConsumption[[\"Power\", \"Weight\", \"VehicleFirstRegistrationYear\", \"Premium\"]])\n",
    "\n",
    "dfPredictedClassesForMissing = pd.DataFrame(data = aPredictedClassesForMissing ,  columns = aUniqueAvgFuelConsumption, index = dfMissingAvgFuelConsumption.index )\n",
    "\n",
    "sPredictedLabels = dfPredictedClassesForMissing.idxmax(axis=1)\n",
    "\n",
    "dfModelData[\"avgFuelConsumption\"].fillna(sPredictedLabels, inplace = True)"
   ]
  },
  {
   "cell_type": "code",
   "execution_count": 930,
   "id": "cbc83e9c",
   "metadata": {
    "scrolled": true
   },
   "outputs": [],
   "source": [
    "dfModelData[\"Region\"] = dfModelData[\"Region\"].astype(str).apply(\n",
    "    lambda x: x.replace('Missing','Missing_Region'), )\n",
    "\n",
    "aUniqueRegions = dfModelData[\"Region\"].unique()\n",
    "\n",
    "dfRegionsClassified = pd.get_dummies(dfModelData[\"Region\"])\n",
    "\n",
    "dfModelData[aUniqueRegions] = dfRegionsClassified\n"
   ]
  },
  {
   "cell_type": "code",
   "execution_count": 931,
   "id": "0da45750",
   "metadata": {},
   "outputs": [],
   "source": [
    "dfModelData[\"FuelType\"] = dfModelData[\"FuelType\"].astype(str).apply(\n",
    "    lambda x: x.replace('Missing','Missing_FuelType'), )\n",
    "\n",
    "aUniqueFuelTypes = dfModelData[\"FuelType\"].unique()\n",
    "\n",
    "dfFuelTypesClassified = pd.get_dummies(dfModelData[\"FuelType\"])\n",
    "dfModelData[aUniqueFuelTypes] = dfFuelTypesClassified\n"
   ]
  },
  {
   "cell_type": "code",
   "execution_count": 932,
   "id": "09eee21f",
   "metadata": {},
   "outputs": [],
   "source": [
    "dfModelData[\"DriveTrain\"] = dfModelData[\"DriveTrain\"].astype(str).apply(\n",
    "    lambda x: x.replace('Missing','Missing_DriveTrain'), )\n",
    "\n",
    "aUniqueDriveTrains = dfModelData[\"DriveTrain\"].unique()\n",
    "\n",
    "dfDriveTrainsClassified = pd.get_dummies(dfModelData[\"DriveTrain\"])\n",
    "dfModelData[aUniqueDriveTrains] = dfDriveTrainsClassified\n"
   ]
  },
  {
   "cell_type": "code",
   "execution_count": null,
   "id": "12c6f236",
   "metadata": {},
   "outputs": [],
   "source": []
  }
 ],
 "metadata": {
  "kernelspec": {
   "display_name": "Python 3",
   "language": "python",
   "name": "python3"
  },
  "language_info": {
   "codemirror_mode": {
    "name": "ipython",
    "version": 3
   },
   "file_extension": ".py",
   "mimetype": "text/x-python",
   "name": "python",
   "nbconvert_exporter": "python",
   "pygments_lexer": "ipython3",
   "version": "3.7.10"
  },
  "varInspector": {
   "cols": {
    "lenName": 16,
    "lenType": 16,
    "lenVar": 40
   },
   "kernels_config": {
    "python": {
     "delete_cmd_postfix": "",
     "delete_cmd_prefix": "del ",
     "library": "var_list.py",
     "varRefreshCmd": "print(var_dic_list())"
    },
    "r": {
     "delete_cmd_postfix": ") ",
     "delete_cmd_prefix": "rm(",
     "library": "var_list.r",
     "varRefreshCmd": "cat(var_dic_list()) "
    }
   },
   "types_to_exclude": [
    "module",
    "function",
    "builtin_function_or_method",
    "instance",
    "_Feature"
   ],
   "window_display": false
  }
 },
 "nbformat": 4,
 "nbformat_minor": 5
}
