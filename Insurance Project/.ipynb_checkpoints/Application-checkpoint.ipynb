{
 "cells": [
  {
   "cell_type": "code",
   "execution_count": 60,
   "id": "d0c93419",
   "metadata": {},
   "outputs": [],
   "source": [
    "import pandas as pd\n",
    "import numpy as np\n",
    "\n",
    "pd.set_option(\"display.max_columns\", None)\n",
    "\n",
    "dfPolicyData = pd.read_csv(\"PolicyData.csv\", delimiter = \";\", encoding='latin-1')\n",
    "\n",
    "dfInvoiceData = pd.read_csv(\"InvoiceData.csv\", delimiter = \";\")"
   ]
  },
  {
   "cell_type": "code",
   "execution_count": 61,
   "id": "a8517c0d",
   "metadata": {},
   "outputs": [],
   "source": [
    "# 1: Invoice is paid late\n",
    "# 0: Invoice is not paid late\n",
    "aLabels = [1, 0]\n",
    "aConditions = [\n",
    "    (dfInvoiceData[\"due_date\"] < dfInvoiceData[\"paid_date\"]),\n",
    "    (dfInvoiceData[\"due_date\"] >= dfInvoiceData[\"paid_date\"])\n",
    "]\n",
    "\n",
    "dfInvoiceData[\"label\"] = np.select(aConditions, aLabels)"
   ]
  },
  {
   "cell_type": "code",
   "execution_count": 62,
   "id": "ac0bcc7b",
   "metadata": {
    "collapsed": true
   },
   "outputs": [
    {
     "name": "stdout",
     "output_type": "stream",
     "text": [
      "<class 'pandas.core.frame.DataFrame'>\n",
      "RangeIndex: 68638 entries, 0 to 68637\n",
      "Data columns (total 39 columns):\n",
      " #   Column                        Non-Null Count  Dtype  \n",
      "---  ------                        --------------  -----  \n",
      " 0   policy_guid                   68638 non-null  object \n",
      " 1   Country                       68638 non-null  object \n",
      " 2   VehicleType                   68638 non-null  object \n",
      " 3   VehicleUsage                  68638 non-null  object \n",
      " 4   Power                         68638 non-null  int64  \n",
      " 5   Weight                        68638 non-null  int64  \n",
      " 6   VehicleFirstRegistrationYear  68638 non-null  int64  \n",
      " 7   Mark                          68638 non-null  object \n",
      " 8   Model                         68638 non-null  object \n",
      " 9   Deductible_general            68636 non-null  float64\n",
      " 10  Fire                          68638 non-null  int64  \n",
      " 11  Theft                         68638 non-null  int64  \n",
      " 12  Natural_disasters             68638 non-null  int64  \n",
      " 13  Road_assistance               68638 non-null  int64  \n",
      " 14  Total_loss                    68638 non-null  int64  \n",
      " 15  Vandalism                     68638 non-null  int64  \n",
      " 16  Glass                         68638 non-null  int64  \n",
      " 17  Accident                      68638 non-null  int64  \n",
      " 18  Replacement_car               68638 non-null  int64  \n",
      " 19  Gender                        68638 non-null  object \n",
      " 20  ClientBirthday                68595 non-null  object \n",
      " 21  Region                        68638 non-null  object \n",
      " 22  BMClassMOD                    68622 non-null  object \n",
      " 23  Leasing                       68638 non-null  int64  \n",
      " 24  PolicyIssueDate               68638 non-null  object \n",
      " 25  PolicyStartDate               68638 non-null  object \n",
      " 26  PolicyEndDate                 68638 non-null  object \n",
      " 27  PolicyActualEndDate           68638 non-null  object \n",
      " 28  Nb_of_payments                68638 non-null  int64  \n",
      " 29  Premium                       5 non-null      float64\n",
      " 30  Channel                       68638 non-null  object \n",
      " 31  FuelType                      68638 non-null  object \n",
      " 32  avgFuelConsumption            40680 non-null  float64\n",
      " 33  DriveTrain                    68638 non-null  object \n",
      " 34  RenewalIndicator              68638 non-null  int64  \n",
      " 35  IsRenewed                     68638 non-null  int64  \n",
      " 36  BalticRating                  68638 non-null  int64  \n",
      " 37  Terminated                    68638 non-null  int64  \n",
      " 38  sales_type                    68638 non-null  object \n",
      "dtypes: float64(3), int64(18), object(18)\n",
      "memory usage: 20.4+ MB\n",
      "<class 'pandas.core.frame.DataFrame'>\n",
      "RangeIndex: 358850 entries, 0 to 358849\n",
      "Data columns (total 7 columns):\n",
      " #   Column          Non-Null Count   Dtype  \n",
      "---  ------          --------------   -----  \n",
      " 0   invoice_guid    358850 non-null  object \n",
      " 1   payment_status  358850 non-null  object \n",
      " 2   policy_guid     358850 non-null  object \n",
      " 3   amount_premium  358850 non-null  float64\n",
      " 4   due_date        358850 non-null  object \n",
      " 5   paid_date       358850 non-null  object \n",
      " 6   label           358850 non-null  int32  \n",
      "dtypes: float64(1), int32(1), object(5)\n",
      "memory usage: 17.8+ MB\n"
     ]
    }
   ],
   "source": [
    "#they are converted from object to float\n",
    "dfInvoiceData[\"amount_premium\"] = dfInvoiceData[\"amount_premium\"].apply(lambda x: x.replace(',','.'), ).astype(float, errors = 'raise')\n",
    "dfPolicyData[\"Premium\"] = dfPolicyData[\"Premium\"].apply(lambda x: x.replace(',','.'), ).head().astype(float, errors = 'raise')\n",
    "\n",
    "dfPolicyData.info()\n",
    "dfInvoiceData.info()"
   ]
  },
  {
   "cell_type": "code",
   "execution_count": null,
   "id": "db3309bb",
   "metadata": {},
   "outputs": [],
   "source": []
  }
 ],
 "metadata": {
  "kernelspec": {
   "display_name": "Python 3",
   "language": "python",
   "name": "python3"
  },
  "language_info": {
   "codemirror_mode": {
    "name": "ipython",
    "version": 3
   },
   "file_extension": ".py",
   "mimetype": "text/x-python",
   "name": "python",
   "nbconvert_exporter": "python",
   "pygments_lexer": "ipython3",
   "version": "3.7.10"
  },
  "varInspector": {
   "cols": {
    "lenName": 16,
    "lenType": 16,
    "lenVar": 40
   },
   "kernels_config": {
    "python": {
     "delete_cmd_postfix": "",
     "delete_cmd_prefix": "del ",
     "library": "var_list.py",
     "varRefreshCmd": "print(var_dic_list())"
    },
    "r": {
     "delete_cmd_postfix": ") ",
     "delete_cmd_prefix": "rm(",
     "library": "var_list.r",
     "varRefreshCmd": "cat(var_dic_list()) "
    }
   },
   "types_to_exclude": [
    "module",
    "function",
    "builtin_function_or_method",
    "instance",
    "_Feature"
   ],
   "window_display": false
  }
 },
 "nbformat": 4,
 "nbformat_minor": 5
}
