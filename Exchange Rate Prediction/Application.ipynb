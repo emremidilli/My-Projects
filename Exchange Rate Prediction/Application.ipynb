{
 "cells": [
  {
   "cell_type": "markdown",
   "id": "d4d78e1f-e08c-4ea4-9448-81f915546cd2",
   "metadata": {
    "tags": []
   },
   "source": [
    "# IMPORT LIBRARIES"
   ]
  },
  {
   "cell_type": "code",
   "execution_count": 1,
   "id": "0611acbc",
   "metadata": {},
   "outputs": [],
   "source": [
    "import pandas as pd\n",
    "\n",
    "import numpy as np\n",
    "\n",
    "import itertools\n",
    "\n",
    "from datetime import datetime\n",
    "\n",
    "import time\n",
    "\n",
    "import pytz\n",
    "import sys\n",
    "import pickle\n",
    "\n",
    "from sklearn.preprocessing import StandardScaler\n",
    "from sklearn.model_selection import train_test_split\n",
    "from sklearn.metrics import mean_absolute_error, mean_squared_error, max_error, r2_score\n",
    "\n",
    "import seaborn as sns\n",
    "\n",
    "import matplotlib.pyplot as plt\n",
    "\n",
    "import os\n",
    "os.environ['TF_CPP_MIN_LOG_LEVEL'] = '2' \n",
    "\n",
    "import tensorflow as tf\n",
    "from tensorflow import keras\n",
    "from tensorflow.keras.layers import Dense\n",
    "from tensorflow.keras.callbacks import EarlyStopping"
   ]
  },
  {
   "cell_type": "markdown",
   "id": "a54d4875-8ad8-478e-b63a-313ed6fdb418",
   "metadata": {
    "tags": []
   },
   "source": [
    "# CONFIGURATION"
   ]
  },
  {
   "cell_type": "code",
   "execution_count": 2,
   "id": "6c2b43fc",
   "metadata": {},
   "outputs": [],
   "source": [
    "sOutputSymbol = \"BTCUSD\"\n",
    "\n",
    "iBackwardTimeWindow = 3\n",
    "iForwardTimeWindow = 3\n",
    "iBatchSize = 90\n",
    "iNrOfHiddenNeurons = 102\n",
    "sModelType = 'MLP'"
   ]
  },
  {
   "cell_type": "code",
   "execution_count": 3,
   "id": "137167f1",
   "metadata": {},
   "outputs": [],
   "source": [
    "sModelName = os.path.join(sOutputSymbol , sModelType + '_' +str(iBackwardTimeWindow) + '_'+ str(iForwardTimeWindow) +  '_'+ str(iBatchSize) +  '_'+  str(iNrOfHiddenNeurons) )"
   ]
  },
  {
   "cell_type": "markdown",
   "id": "8d915683",
   "metadata": {
    "jp-MarkdownHeadingCollapsed": true,
    "tags": []
   },
   "source": [
    "# LOAD DATA"
   ]
  },
  {
   "cell_type": "markdown",
   "id": "daa23be1",
   "metadata": {
    "jp-MarkdownHeadingCollapsed": true,
    "tags": []
   },
   "source": [
    "## Cryptocurrency List"
   ]
  },
  {
   "cell_type": "code",
   "execution_count": 4,
   "id": "0ac336b8",
   "metadata": {},
   "outputs": [
    {
     "data": {
      "text/html": [
       "<div>\n",
       "<style scoped>\n",
       "    .dataframe tbody tr th:only-of-type {\n",
       "        vertical-align: middle;\n",
       "    }\n",
       "\n",
       "    .dataframe tbody tr th {\n",
       "        vertical-align: top;\n",
       "    }\n",
       "\n",
       "    .dataframe thead th {\n",
       "        text-align: right;\n",
       "    }\n",
       "</style>\n",
       "<table border=\"1\" class=\"dataframe\">\n",
       "  <thead>\n",
       "    <tr style=\"text-align: right;\">\n",
       "      <th></th>\n",
       "      <th>Symbol</th>\n",
       "    </tr>\n",
       "  </thead>\n",
       "  <tbody>\n",
       "    <tr>\n",
       "      <th>0</th>\n",
       "      <td>BTCUSD</td>\n",
       "    </tr>\n",
       "    <tr>\n",
       "      <th>1</th>\n",
       "      <td>ETHUSD</td>\n",
       "    </tr>\n",
       "    <tr>\n",
       "      <th>2</th>\n",
       "      <td>BCHUSD</td>\n",
       "    </tr>\n",
       "    <tr>\n",
       "      <th>3</th>\n",
       "      <td>LTCUSD</td>\n",
       "    </tr>\n",
       "    <tr>\n",
       "      <th>4</th>\n",
       "      <td>RPLUSD</td>\n",
       "    </tr>\n",
       "  </tbody>\n",
       "</table>\n",
       "</div>"
      ],
      "text/plain": [
       "   Symbol\n",
       "0  BTCUSD\n",
       "1  ETHUSD\n",
       "2  BCHUSD\n",
       "3  LTCUSD\n",
       "4  RPLUSD"
      ]
     },
     "execution_count": 4,
     "metadata": {},
     "output_type": "execute_result"
    }
   ],
   "source": [
    "dfCrpytocurrencies = pd.read_csv('Static Data\\cryptocurrencies.csv')\n",
    "dfCrpytocurrencies.head()"
   ]
  },
  {
   "cell_type": "markdown",
   "id": "369ae0af",
   "metadata": {
    "jp-MarkdownHeadingCollapsed": true,
    "tags": []
   },
   "source": [
    "## Market Data"
   ]
  },
  {
   "cell_type": "code",
   "execution_count": 5,
   "id": "889e4365",
   "metadata": {},
   "outputs": [],
   "source": [
    "dfOhlc = pd.read_csv('Static Data\\dfOhlc.csv')\n",
    "dfOhlc['timestamp'] = pd.DatetimeIndex(dfOhlc['timestamp'])\n",
    "dfOhlc.set_index('timestamp', inplace=True)"
   ]
  },
  {
   "cell_type": "markdown",
   "id": "34801cd6",
   "metadata": {
    "jp-MarkdownHeadingCollapsed": true,
    "tags": []
   },
   "source": [
    "# PREPROCESSING"
   ]
  },
  {
   "cell_type": "markdown",
   "id": "fa542c9e",
   "metadata": {
    "jp-MarkdownHeadingCollapsed": true,
    "tags": []
   },
   "source": [
    "## Split Data"
   ]
  },
  {
   "cell_type": "code",
   "execution_count": 6,
   "id": "70088c21",
   "metadata": {
    "code_folding": []
   },
   "outputs": [],
   "source": [
    "fTrainingRatio = 0.7\n",
    "fValidationRatio = 0.15\n",
    "fTestRatio = 0.15\n",
    "\n",
    "ixTrain, ixTest = train_test_split(\n",
    "    dfOhlc.index,\n",
    "    test_size=1-fTrainingRatio,\n",
    "    shuffle=False)\n",
    "\n",
    "ixValidation, ixTest = train_test_split(\n",
    "    ixTest,\n",
    "    test_size=fTestRatio/(fTestRatio + fValidationRatio),\n",
    "    shuffle=False)"
   ]
  },
  {
   "cell_type": "markdown",
   "id": "a48e73e3",
   "metadata": {
    "jp-MarkdownHeadingCollapsed": true,
    "tags": []
   },
   "source": [
    "## Scale Data"
   ]
  },
  {
   "cell_type": "code",
   "execution_count": 7,
   "id": "32c7b72c",
   "metadata": {},
   "outputs": [],
   "source": [
    "dfScaledOhlc = pd.DataFrame(index = dfOhlc.index, columns  = dfOhlc.columns)\n",
    "\n",
    "for sColumn in dfOhlc.columns:\n",
    "    oScaler = StandardScaler()\n",
    "    \n",
    "    dfTrain = pd.DataFrame(dfOhlc.loc[ixTrain, sColumn])\n",
    "    dfValidation = pd.DataFrame(dfOhlc.loc[ixValidation, sColumn])\n",
    "    dfTest = pd.DataFrame(dfOhlc.loc[ixTest, sColumn])\n",
    "    \n",
    "    oScaler.fit(dfTrain.append(dfValidation))\n",
    "    \n",
    "    dfScaledOhlc.loc[ixTrain, sColumn] = np.reshape(oScaler.transform(dfTrain), (-1))\n",
    "    dfScaledOhlc.loc[ixValidation, sColumn] = np.reshape(oScaler.transform(dfValidation), (-1))\n",
    "    dfScaledOhlc.loc[ixTest, sColumn] = np.reshape(oScaler.transform(dfTest), (-1))\n",
    "\n",
    "    sScalerFilePath = os.path.join(sModelName , \"__scalers__\")\n",
    "    sScalerFilePath = os.path.join(sScalerFilePath , sColumn + \".sav\")\n",
    "    os.makedirs(os.path.dirname(sScalerFilePath), exist_ok=True)\n",
    "    \n",
    "    pickle.dump(oScaler, open(sScalerFilePath, 'wb'))"
   ]
  },
  {
   "cell_type": "markdown",
   "id": "ec96ca9f-f07a-4e1b-bc3c-aa34164c1d24",
   "metadata": {
    "jp-MarkdownHeadingCollapsed": true,
    "tags": []
   },
   "source": [
    "## Input Dataset"
   ]
  },
  {
   "cell_type": "code",
   "execution_count": 8,
   "id": "1449fbb7",
   "metadata": {},
   "outputs": [
    {
     "data": {
      "text/html": [
       "<div>\n",
       "<style scoped>\n",
       "    .dataframe tbody tr th:only-of-type {\n",
       "        vertical-align: middle;\n",
       "    }\n",
       "\n",
       "    .dataframe tbody tr th {\n",
       "        vertical-align: top;\n",
       "    }\n",
       "\n",
       "    .dataframe thead tr th {\n",
       "        text-align: left;\n",
       "    }\n",
       "\n",
       "    .dataframe thead tr:last-of-type th {\n",
       "        text-align: right;\n",
       "    }\n",
       "</style>\n",
       "<table border=\"1\" class=\"dataframe\">\n",
       "  <thead>\n",
       "    <tr>\n",
       "      <th>time_step</th>\n",
       "      <th colspan=\"10\" halign=\"left\">-3</th>\n",
       "      <th>...</th>\n",
       "      <th colspan=\"10\" halign=\"left\">-1</th>\n",
       "    </tr>\n",
       "    <tr>\n",
       "      <th>feature</th>\n",
       "      <th>BTCUSD:weekday</th>\n",
       "      <th>BTCUSD:hour</th>\n",
       "      <th>BTCUSD:minute</th>\n",
       "      <th>BTCUSD:upper_shadow</th>\n",
       "      <th>BTCUSD:lower_shadow</th>\n",
       "      <th>BTCUSD:return</th>\n",
       "      <th>ETHUSD:weekday</th>\n",
       "      <th>ETHUSD:hour</th>\n",
       "      <th>ETHUSD:minute</th>\n",
       "      <th>ETHUSD:upper_shadow</th>\n",
       "      <th>...</th>\n",
       "      <th>LTCUSD:minute</th>\n",
       "      <th>LTCUSD:upper_shadow</th>\n",
       "      <th>LTCUSD:lower_shadow</th>\n",
       "      <th>LTCUSD:return</th>\n",
       "      <th>RPLUSD:weekday</th>\n",
       "      <th>RPLUSD:hour</th>\n",
       "      <th>RPLUSD:minute</th>\n",
       "      <th>RPLUSD:upper_shadow</th>\n",
       "      <th>RPLUSD:lower_shadow</th>\n",
       "      <th>RPLUSD:return</th>\n",
       "    </tr>\n",
       "    <tr>\n",
       "      <th>timestamp</th>\n",
       "      <th></th>\n",
       "      <th></th>\n",
       "      <th></th>\n",
       "      <th></th>\n",
       "      <th></th>\n",
       "      <th></th>\n",
       "      <th></th>\n",
       "      <th></th>\n",
       "      <th></th>\n",
       "      <th></th>\n",
       "      <th></th>\n",
       "      <th></th>\n",
       "      <th></th>\n",
       "      <th></th>\n",
       "      <th></th>\n",
       "      <th></th>\n",
       "      <th></th>\n",
       "      <th></th>\n",
       "      <th></th>\n",
       "      <th></th>\n",
       "      <th></th>\n",
       "    </tr>\n",
       "  </thead>\n",
       "  <tbody>\n",
       "    <tr>\n",
       "      <th>2021-09-01 01:30:00</th>\n",
       "      <td>-0.003076</td>\n",
       "      <td>-1.662613</td>\n",
       "      <td>-1.0</td>\n",
       "      <td>0.272382</td>\n",
       "      <td>-0.344248</td>\n",
       "      <td>0.367626</td>\n",
       "      <td>-0.003076</td>\n",
       "      <td>-1.662613</td>\n",
       "      <td>-1.0</td>\n",
       "      <td>0.101196</td>\n",
       "      <td>...</td>\n",
       "      <td>-1.0</td>\n",
       "      <td>0.247703</td>\n",
       "      <td>-0.356995</td>\n",
       "      <td>-0.691235</td>\n",
       "      <td>-0.003076</td>\n",
       "      <td>-1.517929</td>\n",
       "      <td>-1.0</td>\n",
       "      <td>0.042302</td>\n",
       "      <td>1.24257</td>\n",
       "      <td>-2.245317</td>\n",
       "    </tr>\n",
       "    <tr>\n",
       "      <th>2021-09-01 02:00:00</th>\n",
       "      <td>-0.003076</td>\n",
       "      <td>-1.662613</td>\n",
       "      <td>1.0</td>\n",
       "      <td>1.482079</td>\n",
       "      <td>-0.838114</td>\n",
       "      <td>-0.274886</td>\n",
       "      <td>-0.003076</td>\n",
       "      <td>-1.662613</td>\n",
       "      <td>1.0</td>\n",
       "      <td>2.108089</td>\n",
       "      <td>...</td>\n",
       "      <td>1.0</td>\n",
       "      <td>-0.676376</td>\n",
       "      <td>0.086697</td>\n",
       "      <td>0.736124</td>\n",
       "      <td>-0.003076</td>\n",
       "      <td>-1.517929</td>\n",
       "      <td>1.0</td>\n",
       "      <td>-0.388771</td>\n",
       "      <td>0.235062</td>\n",
       "      <td>1.631002</td>\n",
       "    </tr>\n",
       "    <tr>\n",
       "      <th>2021-09-01 02:30:00</th>\n",
       "      <td>-0.003076</td>\n",
       "      <td>-1.517929</td>\n",
       "      <td>-1.0</td>\n",
       "      <td>0.09279</td>\n",
       "      <td>-0.050609</td>\n",
       "      <td>-0.230078</td>\n",
       "      <td>-0.003076</td>\n",
       "      <td>-1.517929</td>\n",
       "      <td>-1.0</td>\n",
       "      <td>0.5739</td>\n",
       "      <td>...</td>\n",
       "      <td>-1.0</td>\n",
       "      <td>-0.849824</td>\n",
       "      <td>-0.029284</td>\n",
       "      <td>0.450547</td>\n",
       "      <td>-0.003076</td>\n",
       "      <td>-1.373245</td>\n",
       "      <td>-1.0</td>\n",
       "      <td>0.136139</td>\n",
       "      <td>1.074724</td>\n",
       "      <td>0.541948</td>\n",
       "    </tr>\n",
       "    <tr>\n",
       "      <th>2021-09-01 03:00:00</th>\n",
       "      <td>-0.003076</td>\n",
       "      <td>-1.517929</td>\n",
       "      <td>1.0</td>\n",
       "      <td>-0.792066</td>\n",
       "      <td>-0.003061</td>\n",
       "      <td>0.948749</td>\n",
       "      <td>-0.003076</td>\n",
       "      <td>-1.517929</td>\n",
       "      <td>1.0</td>\n",
       "      <td>-0.693713</td>\n",
       "      <td>...</td>\n",
       "      <td>1.0</td>\n",
       "      <td>0.508944</td>\n",
       "      <td>-0.675575</td>\n",
       "      <td>0.071885</td>\n",
       "      <td>-0.003076</td>\n",
       "      <td>-1.373245</td>\n",
       "      <td>1.0</td>\n",
       "      <td>3.148526</td>\n",
       "      <td>-0.76391</td>\n",
       "      <td>0.835947</td>\n",
       "    </tr>\n",
       "    <tr>\n",
       "      <th>2021-09-01 03:30:00</th>\n",
       "      <td>-0.003076</td>\n",
       "      <td>-1.373245</td>\n",
       "      <td>-1.0</td>\n",
       "      <td>-0.402557</td>\n",
       "      <td>-0.069069</td>\n",
       "      <td>0.438649</td>\n",
       "      <td>-0.003076</td>\n",
       "      <td>-1.373245</td>\n",
       "      <td>-1.0</td>\n",
       "      <td>-0.541873</td>\n",
       "      <td>...</td>\n",
       "      <td>-1.0</td>\n",
       "      <td>1.236206</td>\n",
       "      <td>0.260103</td>\n",
       "      <td>-0.531665</td>\n",
       "      <td>-0.003076</td>\n",
       "      <td>-1.228561</td>\n",
       "      <td>-1.0</td>\n",
       "      <td>2.070256</td>\n",
       "      <td>2.147994</td>\n",
       "      <td>0.002064</td>\n",
       "    </tr>\n",
       "  </tbody>\n",
       "</table>\n",
       "<p>5 rows × 90 columns</p>\n",
       "</div>"
      ],
      "text/plain": [
       "time_step                       -3                            \\\n",
       "feature             BTCUSD:weekday BTCUSD:hour BTCUSD:minute   \n",
       "timestamp                                                      \n",
       "2021-09-01 01:30:00      -0.003076   -1.662613          -1.0   \n",
       "2021-09-01 02:00:00      -0.003076   -1.662613           1.0   \n",
       "2021-09-01 02:30:00      -0.003076   -1.517929          -1.0   \n",
       "2021-09-01 03:00:00      -0.003076   -1.517929           1.0   \n",
       "2021-09-01 03:30:00      -0.003076   -1.373245          -1.0   \n",
       "\n",
       "time_step                                                                  \\\n",
       "feature             BTCUSD:upper_shadow BTCUSD:lower_shadow BTCUSD:return   \n",
       "timestamp                                                                   \n",
       "2021-09-01 01:30:00            0.272382           -0.344248      0.367626   \n",
       "2021-09-01 02:00:00            1.482079           -0.838114     -0.274886   \n",
       "2021-09-01 02:30:00             0.09279           -0.050609     -0.230078   \n",
       "2021-09-01 03:00:00           -0.792066           -0.003061      0.948749   \n",
       "2021-09-01 03:30:00           -0.402557           -0.069069      0.438649   \n",
       "\n",
       "time_step                                                     \\\n",
       "feature             ETHUSD:weekday ETHUSD:hour ETHUSD:minute   \n",
       "timestamp                                                      \n",
       "2021-09-01 01:30:00      -0.003076   -1.662613          -1.0   \n",
       "2021-09-01 02:00:00      -0.003076   -1.662613           1.0   \n",
       "2021-09-01 02:30:00      -0.003076   -1.517929          -1.0   \n",
       "2021-09-01 03:00:00      -0.003076   -1.517929           1.0   \n",
       "2021-09-01 03:30:00      -0.003076   -1.373245          -1.0   \n",
       "\n",
       "time_step                                ...            -1  \\\n",
       "feature             ETHUSD:upper_shadow  ... LTCUSD:minute   \n",
       "timestamp                                ...                 \n",
       "2021-09-01 01:30:00            0.101196  ...          -1.0   \n",
       "2021-09-01 02:00:00            2.108089  ...           1.0   \n",
       "2021-09-01 02:30:00              0.5739  ...          -1.0   \n",
       "2021-09-01 03:00:00           -0.693713  ...           1.0   \n",
       "2021-09-01 03:30:00           -0.541873  ...          -1.0   \n",
       "\n",
       "time_step                                                                  \\\n",
       "feature             LTCUSD:upper_shadow LTCUSD:lower_shadow LTCUSD:return   \n",
       "timestamp                                                                   \n",
       "2021-09-01 01:30:00            0.247703           -0.356995     -0.691235   \n",
       "2021-09-01 02:00:00           -0.676376            0.086697      0.736124   \n",
       "2021-09-01 02:30:00           -0.849824           -0.029284      0.450547   \n",
       "2021-09-01 03:00:00            0.508944           -0.675575      0.071885   \n",
       "2021-09-01 03:30:00            1.236206            0.260103     -0.531665   \n",
       "\n",
       "time_step                                                     \\\n",
       "feature             RPLUSD:weekday RPLUSD:hour RPLUSD:minute   \n",
       "timestamp                                                      \n",
       "2021-09-01 01:30:00      -0.003076   -1.517929          -1.0   \n",
       "2021-09-01 02:00:00      -0.003076   -1.517929           1.0   \n",
       "2021-09-01 02:30:00      -0.003076   -1.373245          -1.0   \n",
       "2021-09-01 03:00:00      -0.003076   -1.373245           1.0   \n",
       "2021-09-01 03:30:00      -0.003076   -1.228561          -1.0   \n",
       "\n",
       "time_step                                                                  \n",
       "feature             RPLUSD:upper_shadow RPLUSD:lower_shadow RPLUSD:return  \n",
       "timestamp                                                                  \n",
       "2021-09-01 01:30:00            0.042302             1.24257     -2.245317  \n",
       "2021-09-01 02:00:00           -0.388771            0.235062      1.631002  \n",
       "2021-09-01 02:30:00            0.136139            1.074724      0.541948  \n",
       "2021-09-01 03:00:00            3.148526            -0.76391      0.835947  \n",
       "2021-09-01 03:30:00            2.070256            2.147994      0.002064  \n",
       "\n",
       "[5 rows x 90 columns]"
      ]
     },
     "execution_count": 8,
     "metadata": {},
     "output_type": "execute_result"
    }
   ],
   "source": [
    "aInputSymbols = dfCrpytocurrencies['Symbol'].values\n",
    "aInputFeatures = ['weekday', 'hour', 'minute' ,'upper_shadow', 'lower_shadow' ,'return']\n",
    "aInputFeatures = list(map(\":\".join, itertools.product(aInputSymbols, aInputFeatures)))\n",
    "\n",
    "iNrInputFeatures = len(aInputFeatures)\n",
    "\n",
    "aBackwardTimeSteps = range(-iBackwardTimeWindow, 0)\n",
    "\n",
    "aTplInputColumns = list(itertools.product(aBackwardTimeSteps, aInputFeatures))\n",
    "aIxInputColumns = pd.MultiIndex.from_tuples(aTplInputColumns, names= ['time_step', 'feature'])\n",
    "\n",
    "dfInput = pd.DataFrame(columns = aIxInputColumns)\n",
    "\n",
    "for tplColumn in list(dfInput.columns):\n",
    "    dfInput.loc[:, tplColumn] = dfScaledOhlc[(tplColumn[1])].shift(-tplColumn[0])\n",
    "\n",
    "    \n",
    "ixNas = dfInput[dfInput.isna().any(axis=1)].index\n",
    "dfInput.drop(ixNas, inplace = True, errors = 'ignore') \n",
    "ixTrain= ixTrain.drop(ixNas, errors = 'ignore') \n",
    "ixValidation= ixValidation.drop(ixNas,   errors = 'ignore') \n",
    "ixTest = ixTest.drop(ixNas,   errors = 'ignore') \n",
    "\n",
    "dfInput.head()"
   ]
  },
  {
   "cell_type": "markdown",
   "id": "7a8011a0",
   "metadata": {
    "jp-MarkdownHeadingCollapsed": true,
    "tags": []
   },
   "source": [
    "## Output Dataset"
   ]
  },
  {
   "cell_type": "code",
   "execution_count": 9,
   "id": "ce152a53",
   "metadata": {},
   "outputs": [
    {
     "data": {
      "text/html": [
       "<div>\n",
       "<style scoped>\n",
       "    .dataframe tbody tr th:only-of-type {\n",
       "        vertical-align: middle;\n",
       "    }\n",
       "\n",
       "    .dataframe tbody tr th {\n",
       "        vertical-align: top;\n",
       "    }\n",
       "\n",
       "    .dataframe thead tr th {\n",
       "        text-align: left;\n",
       "    }\n",
       "\n",
       "    .dataframe thead tr:last-of-type th {\n",
       "        text-align: right;\n",
       "    }\n",
       "</style>\n",
       "<table border=\"1\" class=\"dataframe\">\n",
       "  <thead>\n",
       "    <tr>\n",
       "      <th>time_step</th>\n",
       "      <th>0</th>\n",
       "      <th>1</th>\n",
       "      <th>2</th>\n",
       "    </tr>\n",
       "    <tr>\n",
       "      <th>feature</th>\n",
       "      <th>BTCUSD:return</th>\n",
       "      <th>BTCUSD:return</th>\n",
       "      <th>BTCUSD:return</th>\n",
       "    </tr>\n",
       "    <tr>\n",
       "      <th>timestamp</th>\n",
       "      <th></th>\n",
       "      <th></th>\n",
       "      <th></th>\n",
       "    </tr>\n",
       "  </thead>\n",
       "  <tbody>\n",
       "    <tr>\n",
       "      <th>2021-09-01 00:00:00</th>\n",
       "      <td>0.001941</td>\n",
       "      <td>-0.001465</td>\n",
       "      <td>-0.001227</td>\n",
       "    </tr>\n",
       "    <tr>\n",
       "      <th>2021-09-01 00:30:00</th>\n",
       "      <td>-0.001465</td>\n",
       "      <td>-0.001227</td>\n",
       "      <td>0.005021</td>\n",
       "    </tr>\n",
       "    <tr>\n",
       "      <th>2021-09-01 01:00:00</th>\n",
       "      <td>-0.001227</td>\n",
       "      <td>0.005021</td>\n",
       "      <td>0.002318</td>\n",
       "    </tr>\n",
       "    <tr>\n",
       "      <th>2021-09-01 01:30:00</th>\n",
       "      <td>0.005021</td>\n",
       "      <td>0.002318</td>\n",
       "      <td>-0.002022</td>\n",
       "    </tr>\n",
       "    <tr>\n",
       "      <th>2021-09-01 02:00:00</th>\n",
       "      <td>0.002318</td>\n",
       "      <td>-0.002022</td>\n",
       "      <td>-0.001229</td>\n",
       "    </tr>\n",
       "  </tbody>\n",
       "</table>\n",
       "</div>"
      ],
      "text/plain": [
       "time_step                       0             1             2\n",
       "feature             BTCUSD:return BTCUSD:return BTCUSD:return\n",
       "timestamp                                                    \n",
       "2021-09-01 00:00:00      0.001941     -0.001465     -0.001227\n",
       "2021-09-01 00:30:00     -0.001465     -0.001227      0.005021\n",
       "2021-09-01 01:00:00     -0.001227      0.005021      0.002318\n",
       "2021-09-01 01:30:00      0.005021      0.002318     -0.002022\n",
       "2021-09-01 02:00:00      0.002318     -0.002022     -0.001229"
      ]
     },
     "execution_count": 9,
     "metadata": {},
     "output_type": "execute_result"
    }
   ],
   "source": [
    "aOutputFeatures = ['return']\n",
    "aOutputFeatures = list(map(\":\".join, itertools.product([sOutputSymbol], aOutputFeatures)))\n",
    "iNrOutputFeatures = len(aOutputFeatures)\n",
    "\n",
    "aForwardTimeSteps = range(0, iForwardTimeWindow)\n",
    "\n",
    "\n",
    "aTplOutputColumns = list(itertools.product(aForwardTimeSteps, aOutputFeatures))\n",
    "aIxOutputColumns = pd.MultiIndex.from_tuples(aTplOutputColumns, names= ['time_step', 'feature'])\n",
    "\n",
    "dfOutput = pd.DataFrame(columns = aIxOutputColumns)\n",
    "\n",
    "for tplColumn in list(dfOutput.columns):\n",
    "    dfOutput.loc[:, tplColumn] =  dfOhlc[(tplColumn[1])].shift(-tplColumn[0])\n",
    "\n",
    "ixNas = dfOutput[dfOutput.isna().any(axis=1)].index\n",
    "dfOutput.drop(ixNas, inplace = True, errors = 'ignore') \n",
    "ixTrain= ixTrain.drop(ixNas, errors = 'ignore') \n",
    "ixValidation= ixValidation.drop(ixNas,   errors = 'ignore') \n",
    "ixTest = ixTest.drop(ixNas,   errors = 'ignore') \n",
    "dfOutput.head()"
   ]
  },
  {
   "cell_type": "markdown",
   "id": "802a6d3a-353a-45c3-a8eb-f49af789c4a6",
   "metadata": {
    "jp-MarkdownHeadingCollapsed": true,
    "tags": []
   },
   "source": [
    "## Reshape Datasets"
   ]
  },
  {
   "cell_type": "code",
   "execution_count": 10,
   "id": "296eec07",
   "metadata": {},
   "outputs": [],
   "source": [
    "axMerged = dfInput.index.join(dfOutput.index, how = 'inner')\n",
    "\n",
    "dfInput = dfInput.loc[axMerged]\n",
    "dfOutput = dfOutput.loc[axMerged]\n",
    "\n",
    "ixTrain = ixTrain.join(axMerged, how = \"inner\")\n",
    "ixValidation = ixValidation.join(axMerged, how = \"inner\")\n",
    "ixTest = ixTest.join(axMerged, how = \"inner\")"
   ]
  },
  {
   "cell_type": "code",
   "execution_count": 11,
   "id": "96e399d4",
   "metadata": {},
   "outputs": [],
   "source": [
    "dfInputTrain = dfInput.loc[ixTrain]\n",
    "aInputTrain = np.reshape(dfInputTrain.values, (dfInputTrain.shape[0], iBackwardTimeWindow, iNrInputFeatures))\n",
    "\n",
    "dfInputValidation = dfInput.loc[ixValidation]\n",
    "aInputValidation = np.reshape(dfInputValidation.values, (dfInputValidation.shape[0], iBackwardTimeWindow, iNrInputFeatures))\n",
    "\n",
    "dfInputTest = dfInput.loc[ixTest]\n",
    "aInputTest = np.reshape(dfInputTest.values, (dfInputTest.shape[0], iBackwardTimeWindow, iNrInputFeatures))\n",
    "\n",
    "dfOutputTrain = dfOutput.loc[ixTrain]\n",
    "aOutputTrain = np.reshape(dfOutputTrain.values, (dfOutputTrain.shape[0], iForwardTimeWindow, iNrOutputFeatures))\n",
    "\n",
    "dfOutputValidation = dfOutput.loc[ixValidation]\n",
    "aOutputValidation = np.reshape(dfOutputValidation.values, (dfOutputValidation.shape[0], iForwardTimeWindow, iNrOutputFeatures))\n",
    "\n",
    "dfOutputTest = dfOutput.loc[ixTest]\n",
    "aOutputTest = np.reshape(dfOutputTest.values, (dfOutputTest.shape[0], iForwardTimeWindow, iNrOutputFeatures))"
   ]
  },
  {
   "cell_type": "code",
   "execution_count": 12,
   "id": "76ce37ad",
   "metadata": {},
   "outputs": [],
   "source": [
    "aInputTrain = np.asarray(aInputTrain, np.float32)\n",
    "aInputValidation = np.asarray(aInputValidation, np.float32)\n",
    "aInputTest = np.asarray(aInputTest, np.float32)\n",
    "aOutputTrain = np.asarray(aOutputTrain, np.float32)\n",
    "aOutputValidation = np.asarray(aOutputValidation, np.float32)\n",
    "aOutputTest = np.asarray(aOutputTest, np.float32)"
   ]
  },
  {
   "cell_type": "markdown",
   "id": "52944fb0",
   "metadata": {
    "tags": []
   },
   "source": [
    "#  MODEL DEVELOPMENT"
   ]
  },
  {
   "cell_type": "markdown",
   "id": "e253bd8c",
   "metadata": {
    "jp-MarkdownHeadingCollapsed": true,
    "tags": []
   },
   "source": [
    "## Set Hyperparameters"
   ]
  },
  {
   "cell_type": "code",
   "execution_count": 13,
   "id": "a484f077",
   "metadata": {},
   "outputs": [],
   "source": [
    "iEpochSize = 10000\n",
    "oEarlyStop = EarlyStopping(\n",
    "    monitor = 'val_loss', \n",
    "    mode = 'min', \n",
    "    verbose = 0 , \n",
    "    patience = 20, \n",
    "    restore_best_weights = True)"
   ]
  },
  {
   "cell_type": "markdown",
   "id": "27edd3cd",
   "metadata": {
    "jp-MarkdownHeadingCollapsed": true,
    "tags": []
   },
   "source": [
    "## Define Loss Function"
   ]
  },
  {
   "cell_type": "code",
   "execution_count": 14,
   "id": "032b92b1",
   "metadata": {},
   "outputs": [],
   "source": [
    "def fCalculateLoss(aActual, aPrediction):\n",
    "    aErrors = tf.abs(\n",
    "        tf.subtract(aActual, aPrediction) \n",
    "    ) #(row: iBatchSize, col: iForwardTimeWindow-1)\n",
    "\n",
    "    fBiggestError = tf.math.reduce_max(aErrors)\n",
    "    \n",
    "    aLossesDueToErrors = tf.reduce_sum(aErrors, 0) #(row: 1, col: iForwardTimeWindow)\n",
    "    \n",
    "    \n",
    "    aDeltaSignsOfReturns = tf.abs(\n",
    "        tf.sign(aActual) - tf.sign(aPrediction)\n",
    "    ) # will be between [0 : no sign diff, 2: diff signs]  (row: iBatchSize, col: iForwardTimeWindow)\n",
    "    \n",
    "    aLossesDueToSignsOfReturns = tf.math.reduce_sum(aDeltaSignsOfReturns, 0) #(row: 1, col: iForwardTimeWindow)\n",
    "    aTotalLosses = aLossesDueToErrors * aLossesDueToSignsOfReturns * fBiggestError\n",
    "    \n",
    "    fLoss = tf.math.reduce_mean(aTotalLosses)\n",
    "    \n",
    "    return fLoss"
   ]
  },
  {
   "cell_type": "markdown",
   "id": "a75b209e",
   "metadata": {
    "jp-MarkdownHeadingCollapsed": true,
    "tags": []
   },
   "source": [
    "## Build Model"
   ]
  },
  {
   "cell_type": "markdown",
   "id": "2a48d744-a348-4435-b0c7-88054f26e20e",
   "metadata": {
    "jp-MarkdownHeadingCollapsed": true,
    "tags": []
   },
   "source": [
    "### MLP"
   ]
  },
  {
   "cell_type": "code",
   "execution_count": 15,
   "id": "7fa552d5-8eb4-4008-b068-b6d5683a8fa0",
   "metadata": {},
   "outputs": [],
   "source": [
    "if sModelType == 'MLP':\n",
    "    aInputMlp = keras.Input(\n",
    "        shape=(iBackwardTimeWindow, iNrInputFeatures))\n",
    "\n",
    "    aW = keras.layers.Flatten()(aInputMlp)\n",
    "    aW = keras.layers.Dense(iNrOfHiddenNeurons)(aW)\n",
    "    aW = keras.layers.Dense(iForwardTimeWindow*iNrOutputFeatures)(aW)\n",
    "    aW = keras.layers.Reshape((iForwardTimeWindow, iNrOutputFeatures))(aW)\n",
    "\n",
    "    aOutputMlp = aW\n",
    "    oModelMlp = keras.Model(\n",
    "        inputs=aInputMlp,\n",
    "        outputs=aOutputMlp\n",
    "    )\n",
    "\n",
    "    oOptimizerMlp = tf.keras.optimizers.Adam(learning_rate=1e-04)\n",
    "    oModelMlp.compile(optimizer=oOptimizerMlp,\n",
    "                             loss = fCalculateLoss\n",
    "                            )\n",
    "\n",
    "    oPredictiveModel = oModelMlp\n",
    "\n",
    "    tf.keras.utils.plot_model(oModelMlp,  show_shapes=True, to_file=sModelName +'\\Model architecture.png')"
   ]
  },
  {
   "cell_type": "markdown",
   "id": "66367dfb",
   "metadata": {
    "jp-MarkdownHeadingCollapsed": true,
    "tags": []
   },
   "source": [
    "### LSTM"
   ]
  },
  {
   "cell_type": "code",
   "execution_count": 16,
   "id": "2e48a9a2-527b-4226-98d8-39d7d4a79c8e",
   "metadata": {
    "code_folding": []
   },
   "outputs": [],
   "source": [
    "if sModelType == 'LSTM':\n",
    "    aInputDeepLstm = keras.Input(\n",
    "        shape=(iBackwardTimeWindow, iNrInputFeatures))\n",
    "\n",
    "    aW = keras.layers.LSTM(64, return_sequences = True)(aInputDeepLstm)\n",
    "    aW = keras.layers.Flatten()(aW)\n",
    "    aW = keras.layers.Dense(iForwardTimeWindow*iNrOutputFeatures)(aW)\n",
    "    aW = keras.layers.Reshape((iForwardTimeWindow, iNrOutputFeatures))(aW)\n",
    "\n",
    "    aOutputDeepLstm = aW\n",
    "    oModelDeepLstm = keras.Model(\n",
    "        inputs=aInputDeepLstm,\n",
    "        outputs=aOutputDeepLstm\n",
    "    )\n",
    "\n",
    "    oOptimizerDeepLstm = tf.keras.optimizers.Adam(learning_rate=1e-04)\n",
    "    oModelDeepLstm.compile(optimizer=oOptimizerDeepLstm,\n",
    "                             loss = fCalculateLoss\n",
    "                            )\n",
    "\n",
    "    oPredictiveModel = oModelDeepLstm\n",
    "\n",
    "    tf.keras.utils.plot_model(oModelDeepLstm,  show_shapes=True, to_file=sModelName+'\\Model architecture.png')"
   ]
  },
  {
   "cell_type": "markdown",
   "id": "1f365ab5",
   "metadata": {
    "jp-MarkdownHeadingCollapsed": true,
    "tags": []
   },
   "source": [
    "### Deep CNN"
   ]
  },
  {
   "cell_type": "code",
   "execution_count": 17,
   "id": "a6776588",
   "metadata": {},
   "outputs": [],
   "source": [
    "if sModelType == 'Deep CNN':\n",
    "    aInputDeepCnn = keras.Input(\n",
    "        shape=(iBackwardTimeWindow, iNrInputFeatures))\n",
    "\n",
    "    aW = keras.layers.LSTM(64, return_sequences = True)(aInputDeepCnn)\n",
    "    aW = keras.layers.Flatten()(aW)\n",
    "    aW = keras.layers.Dense(iNrOfBins*iForwardTimeWindow*iNrOutputFeatures)(aW)\n",
    "    aW = keras.layers.Reshape((iNrOutputFeatures * iNrOfBins, iForwardTimeWindow, 1))(aW)\n",
    "    aW = keras.layers.Conv2D(64, (4,4), (1,1), padding = \"same\" )(aW)\n",
    "    aW = keras.layers.MaxPool2D(pool_size = (4, 4))(aW)\n",
    "    aW = keras.layers.Flatten()(aW)\n",
    "    aW = keras.layers.Dense(iNrOfBins*iForwardTimeWindow*iNrOutputFeatures)(aW)\n",
    "    aW = keras.layers.Reshape((iNrOutputFeatures, iNrOfBins, iForwardTimeWindow))(aW)\n",
    "\n",
    "    aOutputDeepCnn = aW\n",
    "    oModelDeepCnn = keras.Model(\n",
    "        inputs=aInputDeepCnn,\n",
    "        outputs=aOutputDeepCnn\n",
    "    )\n",
    "\n",
    "    oOptimizerDeepCnn = tf.keras.optimizers.Adam(learning_rate=1e-05)\n",
    "    oModelDeepCnn.compile(optimizer=oOptimizerDeepCnn,\n",
    "                             loss = fCalculateLoss\n",
    "                            )\n",
    "\n",
    "    tf.keras.utils.plot_model(oModelDeepCnn,  show_shapes=True, to_file=sModelName+'\\Model architecture.png')"
   ]
  },
  {
   "cell_type": "markdown",
   "id": "d11b935e",
   "metadata": {
    "jp-MarkdownHeadingCollapsed": true,
    "tags": []
   },
   "source": [
    "### Convolutional Encoder-Decoder Model"
   ]
  },
  {
   "cell_type": "code",
   "execution_count": 18,
   "id": "bf77ce35-7d29-43c1-990e-a80a0fef20fa",
   "metadata": {},
   "outputs": [],
   "source": [
    "if sModelType == 'Convolutional Encoder Decoder':\n",
    "    aInputs = keras.Input(\n",
    "        shape=(iBackwardTimeWindow, iNrInputFeatures))\n",
    "\n",
    "    aEncoderHiddens, aFinalH, aFinalC = keras.layers.LSTM(iNrOfHiddenNeurons,\n",
    "                                             return_state = True, \n",
    "                                             return_sequences = True\n",
    "                                            )(aInputs)\n",
    "    aFinalH = keras.layers.BatchNormalization()(aFinalH)\n",
    "    aFinalC = keras.layers.BatchNormalization()(aFinalC)\n",
    "\n",
    "    aFeatureMap = keras.layers.Conv1D(64, 2)(aEncoderHiddens)\n",
    "    aFeatureMap = keras.layers.MaxPooling1D(2)(aFeatureMap)\n",
    "    aFlatted = keras.layers.Flatten()(aFeatureMap)\n",
    "\n",
    "    aDecoderInputs = keras.layers.RepeatVector(iForwardTimeWindow)(aFlatted)\n",
    "\n",
    "    aDecoderHiddens = keras.layers.LSTM(iNrOfHiddenNeurons, \n",
    "                           return_state = False, \n",
    "                           return_sequences = True\n",
    "                          )(aDecoderInputs, initial_state=[aFinalH, aFinalC])\n",
    "\n",
    "\n",
    "    aOutputs = keras.layers.TimeDistributed(\n",
    "        Dense(iNrOutputFeatures)\n",
    "    )(aDecoderHiddens)\n",
    "\n",
    "    oPredictiveModel = keras.Model(\n",
    "        inputs=aInputs,\n",
    "        outputs=aOutputs\n",
    "    )\n",
    "\n",
    "    oOptimizer = tf.keras.optimizers.Adam(learning_rate=1e-05)\n",
    "    oPredictiveModel.compile(loss = fCalculateLoss,\n",
    "                             optimizer=oOptimizer\n",
    "                            )\n",
    "\n",
    "    tf.keras.utils.plot_model(oPredictiveModel,  show_shapes=True, to_file=sModelName+'\\Model architecture.png')"
   ]
  },
  {
   "cell_type": "markdown",
   "id": "fc1ed1a7",
   "metadata": {
    "jp-MarkdownHeadingCollapsed": true,
    "tags": []
   },
   "source": [
    "### Luong's Attention Model"
   ]
  },
  {
   "cell_type": "code",
   "execution_count": 19,
   "id": "b6b49d3c",
   "metadata": {},
   "outputs": [],
   "source": [
    "if sModelType == 'Luongs Attention':\n",
    "    aEncoderInputs = keras.Input(\n",
    "        shape=(iBackwardTimeWindow, iNrInputFeatures))\n",
    "\n",
    "    aEncoderHiddens, aFinalH, aFinalC = keras.layers.LSTM(iNrOfHiddenNeurons,\n",
    "                                             return_state = True, \n",
    "                                             return_sequences = True\n",
    "                                            )(aEncoderInputs)\n",
    "    aFinalH = keras.layers.BatchNormalization()(aFinalH)\n",
    "    aFinalC = keras.layers.BatchNormalization()(aFinalC)\n",
    "\n",
    "    aDecoderInputs = keras.layers.RepeatVector(iForwardTimeWindow)(aFinalH)\n",
    "\n",
    "    aDecoderHiddens = keras.layers.LSTM(iNrOfHiddenNeurons, \n",
    "                           return_state = False, \n",
    "                           return_sequences = True\n",
    "                          )(aDecoderInputs, initial_state=[aFinalH, aFinalC])\n",
    "\n",
    "    aAttentions = keras.layers.dot([aDecoderHiddens, aEncoderHiddens], axes=[2, 2])\n",
    "    aAttentions = keras.layers.Activation('softmax')(aAttentions)\n",
    "\n",
    "    aContextVector = keras.layers.dot([aAttentions, aEncoderHiddens], axes=[2,1])\n",
    "    aContextVector = keras.layers.BatchNormalization()(aContextVector)\n",
    "    aContextVector = keras.layers.concatenate([aContextVector, aDecoderHiddens])\n",
    "\n",
    "    aDecoderOutputs = keras.layers.TimeDistributed(\n",
    "        Dense(iNrOutputFeatures)\n",
    "    )(aContextVector)\n",
    "\n",
    "    oPredictiveModel = keras.Model(\n",
    "        inputs=aEncoderInputs,\n",
    "        outputs=aDecoderOutputs\n",
    "    )\n",
    "\n",
    "    oOptimizer = tf.keras.optimizers.Adam(learning_rate=1e-05)\n",
    "    oPredictiveModel.compile(loss = fCalculateLoss, \n",
    "                             optimizer=oOptimizer\n",
    "                            )\n",
    "\n",
    "    tf.keras.utils.plot_model(oPredictiveModel,  show_shapes=True+'\\Model architecture.png')"
   ]
  },
  {
   "cell_type": "markdown",
   "id": "dedaa4fc",
   "metadata": {
    "jp-MarkdownHeadingCollapsed": true,
    "tags": []
   },
   "source": [
    "## Fit Model"
   ]
  },
  {
   "cell_type": "code",
   "execution_count": 20,
   "id": "3871f87c",
   "metadata": {},
   "outputs": [
    {
     "name": "stdout",
     "output_type": "stream",
     "text": [
      "Epoch 1/10000\n",
      "51/51 [==============================] - 1s 7ms/step - loss: 54036.2461 - val_loss: 33771.5078\n",
      "Epoch 2/10000\n",
      "51/51 [==============================] - 0s 2ms/step - loss: 32855.8633 - val_loss: 20598.0430\n",
      "Epoch 3/10000\n",
      "51/51 [==============================] - 0s 3ms/step - loss: 21857.4082 - val_loss: 14084.1123\n",
      "Epoch 4/10000\n",
      "51/51 [==============================] - 0s 2ms/step - loss: 14934.4854 - val_loss: 9753.9336\n",
      "Epoch 5/10000\n",
      "51/51 [==============================] - 0s 2ms/step - loss: 11552.1602 - val_loss: 7173.7046\n",
      "Epoch 6/10000\n",
      "51/51 [==============================] - 0s 2ms/step - loss: 9224.5400 - val_loss: 5185.9932\n",
      "Epoch 7/10000\n",
      "51/51 [==============================] - 0s 2ms/step - loss: 7261.3223 - val_loss: 4270.2969\n",
      "Epoch 8/10000\n",
      "51/51 [==============================] - 0s 2ms/step - loss: 5994.0264 - val_loss: 3472.1975\n",
      "Epoch 9/10000\n",
      "51/51 [==============================] - 0s 3ms/step - loss: 5301.9282 - val_loss: 2932.5991\n",
      "Epoch 10/10000\n",
      "51/51 [==============================] - 0s 3ms/step - loss: 4821.4497 - val_loss: 2552.7432\n",
      "Epoch 11/10000\n",
      "51/51 [==============================] - 0s 3ms/step - loss: 4128.5483 - val_loss: 2284.2458\n",
      "Epoch 12/10000\n",
      "51/51 [==============================] - 0s 2ms/step - loss: 3736.7512 - val_loss: 2089.0437\n",
      "Epoch 13/10000\n",
      "51/51 [==============================] - 0s 3ms/step - loss: 3256.5320 - val_loss: 1878.7737\n",
      "Epoch 14/10000\n",
      "51/51 [==============================] - 0s 2ms/step - loss: 3278.9758 - val_loss: 1756.8966\n",
      "Epoch 15/10000\n",
      "51/51 [==============================] - 0s 3ms/step - loss: 2945.4683 - val_loss: 1656.2142\n",
      "Epoch 16/10000\n",
      "51/51 [==============================] - 0s 3ms/step - loss: 2594.6279 - val_loss: 1543.6537\n",
      "Epoch 17/10000\n",
      "51/51 [==============================] - 0s 3ms/step - loss: 2552.3303 - val_loss: 1426.6124\n",
      "Epoch 18/10000\n",
      "51/51 [==============================] - 0s 2ms/step - loss: 2330.3345 - val_loss: 1304.1658\n",
      "Epoch 19/10000\n",
      "51/51 [==============================] - 0s 3ms/step - loss: 2065.9558 - val_loss: 1163.6273\n",
      "Epoch 20/10000\n",
      "51/51 [==============================] - 0s 2ms/step - loss: 1921.8107 - val_loss: 1112.9330\n",
      "Epoch 21/10000\n",
      "51/51 [==============================] - 0s 2ms/step - loss: 1741.0658 - val_loss: 1034.5540\n",
      "Epoch 22/10000\n",
      "51/51 [==============================] - 0s 2ms/step - loss: 1692.5293 - val_loss: 956.1239\n",
      "Epoch 23/10000\n",
      "51/51 [==============================] - 0s 2ms/step - loss: 1513.1619 - val_loss: 883.9578\n",
      "Epoch 24/10000\n",
      "51/51 [==============================] - 0s 2ms/step - loss: 1388.5601 - val_loss: 847.9461\n",
      "Epoch 25/10000\n",
      "51/51 [==============================] - 0s 3ms/step - loss: 1268.0952 - val_loss: 781.0473\n",
      "Epoch 26/10000\n",
      "51/51 [==============================] - 0s 2ms/step - loss: 1204.8701 - val_loss: 744.1415\n",
      "Epoch 27/10000\n",
      "51/51 [==============================] - 0s 2ms/step - loss: 1112.2094 - val_loss: 692.5210\n",
      "Epoch 28/10000\n",
      "51/51 [==============================] - 0s 2ms/step - loss: 1031.7345 - val_loss: 641.8936\n",
      "Epoch 29/10000\n",
      "51/51 [==============================] - 0s 3ms/step - loss: 931.0809 - val_loss: 619.4163\n",
      "Epoch 30/10000\n",
      "51/51 [==============================] - 0s 3ms/step - loss: 837.0162 - val_loss: 571.3586\n",
      "Epoch 31/10000\n",
      "51/51 [==============================] - 0s 3ms/step - loss: 774.0522 - val_loss: 545.8212\n",
      "Epoch 32/10000\n",
      "51/51 [==============================] - 0s 3ms/step - loss: 729.1926 - val_loss: 518.3249\n",
      "Epoch 33/10000\n",
      "51/51 [==============================] - 0s 2ms/step - loss: 666.3066 - val_loss: 461.6999\n",
      "Epoch 34/10000\n",
      "51/51 [==============================] - 0s 2ms/step - loss: 603.3913 - val_loss: 437.0379\n",
      "Epoch 35/10000\n",
      "51/51 [==============================] - 0s 3ms/step - loss: 558.2590 - val_loss: 408.2151\n",
      "Epoch 36/10000\n",
      "51/51 [==============================] - 0s 3ms/step - loss: 511.8512 - val_loss: 379.2689\n",
      "Epoch 37/10000\n",
      "51/51 [==============================] - 0s 3ms/step - loss: 470.0771 - val_loss: 350.9998\n",
      "Epoch 38/10000\n",
      "51/51 [==============================] - 0s 3ms/step - loss: 426.8158 - val_loss: 321.7656\n",
      "Epoch 39/10000\n",
      "51/51 [==============================] - 0s 3ms/step - loss: 394.2856 - val_loss: 299.3319\n",
      "Epoch 40/10000\n",
      "51/51 [==============================] - 0s 2ms/step - loss: 359.1139 - val_loss: 291.2591\n",
      "Epoch 41/10000\n",
      "51/51 [==============================] - 0s 2ms/step - loss: 347.3297 - val_loss: 261.8387\n",
      "Epoch 42/10000\n",
      "51/51 [==============================] - 0s 2ms/step - loss: 310.3615 - val_loss: 252.8439\n",
      "Epoch 43/10000\n",
      "51/51 [==============================] - 0s 2ms/step - loss: 291.5861 - val_loss: 230.6210\n",
      "Epoch 44/10000\n",
      "51/51 [==============================] - 0s 2ms/step - loss: 266.1126 - val_loss: 209.3635\n",
      "Epoch 45/10000\n",
      "51/51 [==============================] - 0s 2ms/step - loss: 250.7537 - val_loss: 186.5167\n",
      "Epoch 46/10000\n",
      "51/51 [==============================] - 0s 2ms/step - loss: 223.0499 - val_loss: 177.0616\n",
      "Epoch 47/10000\n",
      "51/51 [==============================] - 0s 2ms/step - loss: 206.3012 - val_loss: 166.4817\n",
      "Epoch 48/10000\n",
      "51/51 [==============================] - 0s 2ms/step - loss: 194.4343 - val_loss: 148.8468\n",
      "Epoch 49/10000\n",
      "51/51 [==============================] - 0s 2ms/step - loss: 182.7042 - val_loss: 134.5338\n",
      "Epoch 50/10000\n",
      "51/51 [==============================] - 0s 3ms/step - loss: 156.7147 - val_loss: 123.9311\n",
      "Epoch 51/10000\n",
      "51/51 [==============================] - 0s 3ms/step - loss: 150.1801 - val_loss: 114.4910\n",
      "Epoch 52/10000\n",
      "51/51 [==============================] - 0s 3ms/step - loss: 136.3020 - val_loss: 108.6534\n",
      "Epoch 53/10000\n",
      "51/51 [==============================] - 0s 3ms/step - loss: 123.3734 - val_loss: 102.1063\n",
      "Epoch 54/10000\n",
      "51/51 [==============================] - 0s 2ms/step - loss: 116.7356 - val_loss: 91.5407\n",
      "Epoch 55/10000\n",
      "51/51 [==============================] - 0s 2ms/step - loss: 108.3366 - val_loss: 84.7197\n",
      "Epoch 56/10000\n",
      "51/51 [==============================] - 0s 3ms/step - loss: 95.9003 - val_loss: 79.7257\n",
      "Epoch 57/10000\n",
      "51/51 [==============================] - 0s 2ms/step - loss: 88.9790 - val_loss: 68.3337\n",
      "Epoch 58/10000\n",
      "51/51 [==============================] - 0s 3ms/step - loss: 80.1636 - val_loss: 61.6206\n",
      "Epoch 59/10000\n",
      "51/51 [==============================] - 0s 3ms/step - loss: 73.2966 - val_loss: 59.7573\n",
      "Epoch 60/10000\n",
      "51/51 [==============================] - 0s 3ms/step - loss: 67.8545 - val_loss: 54.5031\n",
      "Epoch 61/10000\n",
      "51/51 [==============================] - 0s 3ms/step - loss: 59.3518 - val_loss: 47.5210\n",
      "Epoch 62/10000\n",
      "51/51 [==============================] - 0s 3ms/step - loss: 54.2427 - val_loss: 41.7341\n",
      "Epoch 63/10000\n",
      "51/51 [==============================] - 0s 3ms/step - loss: 51.1047 - val_loss: 38.4136\n",
      "Epoch 64/10000\n",
      "51/51 [==============================] - 0s 3ms/step - loss: 45.2425 - val_loss: 34.6165\n",
      "Epoch 65/10000\n",
      "51/51 [==============================] - 0s 3ms/step - loss: 40.6255 - val_loss: 35.5953\n",
      "Epoch 66/10000\n",
      "51/51 [==============================] - 0s 3ms/step - loss: 37.8298 - val_loss: 30.1166\n",
      "Epoch 67/10000\n",
      "51/51 [==============================] - 0s 3ms/step - loss: 35.6539 - val_loss: 26.2679\n",
      "Epoch 68/10000\n",
      "51/51 [==============================] - 0s 3ms/step - loss: 31.7504 - val_loss: 23.9923\n",
      "Epoch 69/10000\n",
      "51/51 [==============================] - 0s 2ms/step - loss: 27.7479 - val_loss: 20.9330\n",
      "Epoch 70/10000\n",
      "51/51 [==============================] - 0s 3ms/step - loss: 26.2587 - val_loss: 19.4116\n",
      "Epoch 71/10000\n",
      "51/51 [==============================] - 0s 2ms/step - loss: 23.2226 - val_loss: 17.6377\n",
      "Epoch 72/10000\n",
      "51/51 [==============================] - 0s 2ms/step - loss: 22.4614 - val_loss: 15.8171\n",
      "Epoch 73/10000\n",
      "51/51 [==============================] - 0s 3ms/step - loss: 19.6960 - val_loss: 14.1351\n",
      "Epoch 74/10000\n",
      "51/51 [==============================] - 0s 3ms/step - loss: 16.2010 - val_loss: 12.7080\n",
      "Epoch 75/10000\n",
      "51/51 [==============================] - 0s 3ms/step - loss: 16.2110 - val_loss: 11.9486\n",
      "Epoch 76/10000\n",
      "51/51 [==============================] - 0s 3ms/step - loss: 14.6278 - val_loss: 10.1508\n",
      "Epoch 77/10000\n",
      "51/51 [==============================] - 0s 3ms/step - loss: 12.7738 - val_loss: 9.2006\n",
      "Epoch 78/10000\n",
      "51/51 [==============================] - 0s 3ms/step - loss: 11.6416 - val_loss: 8.4169\n",
      "Epoch 79/10000\n",
      "51/51 [==============================] - 0s 3ms/step - loss: 10.4069 - val_loss: 7.4233\n",
      "Epoch 80/10000\n",
      "51/51 [==============================] - 0s 3ms/step - loss: 10.1447 - val_loss: 6.2957\n",
      "Epoch 81/10000\n",
      "51/51 [==============================] - 0s 3ms/step - loss: 8.6202 - val_loss: 5.5079\n",
      "Epoch 82/10000\n",
      "51/51 [==============================] - 0s 3ms/step - loss: 8.8396 - val_loss: 4.9195\n",
      "Epoch 83/10000\n",
      "51/51 [==============================] - 0s 4ms/step - loss: 7.2236 - val_loss: 4.3938\n",
      "Epoch 84/10000\n",
      "51/51 [==============================] - 0s 3ms/step - loss: 6.4247 - val_loss: 3.9804\n",
      "Epoch 85/10000\n",
      "51/51 [==============================] - 0s 3ms/step - loss: 5.8194 - val_loss: 3.7554\n",
      "Epoch 86/10000\n",
      "51/51 [==============================] - 0s 3ms/step - loss: 5.5407 - val_loss: 2.9824\n",
      "Epoch 87/10000\n",
      "51/51 [==============================] - 0s 2ms/step - loss: 4.7968 - val_loss: 3.1765\n",
      "Epoch 88/10000\n",
      "51/51 [==============================] - 0s 3ms/step - loss: 4.7121 - val_loss: 2.5241\n",
      "Epoch 89/10000\n",
      "51/51 [==============================] - 0s 3ms/step - loss: 4.4383 - val_loss: 2.9765\n",
      "Epoch 90/10000\n",
      "51/51 [==============================] - 0s 3ms/step - loss: 4.3836 - val_loss: 2.1983\n",
      "Epoch 91/10000\n",
      "51/51 [==============================] - 0s 3ms/step - loss: 4.0355 - val_loss: 1.9627\n",
      "Epoch 92/10000\n",
      "51/51 [==============================] - 0s 3ms/step - loss: 3.5413 - val_loss: 1.8832\n",
      "Epoch 93/10000\n",
      "51/51 [==============================] - 0s 3ms/step - loss: 3.7581 - val_loss: 1.6928\n",
      "Epoch 94/10000\n",
      "51/51 [==============================] - 0s 3ms/step - loss: 3.4167 - val_loss: 2.3118\n",
      "Epoch 95/10000\n",
      "51/51 [==============================] - 0s 2ms/step - loss: 4.6534 - val_loss: 1.3682\n",
      "Epoch 96/10000\n",
      "51/51 [==============================] - 0s 3ms/step - loss: 2.8705 - val_loss: 1.3994\n",
      "Epoch 97/10000\n",
      "51/51 [==============================] - 0s 3ms/step - loss: 3.0838 - val_loss: 1.5950\n",
      "Epoch 98/10000\n",
      "51/51 [==============================] - 0s 3ms/step - loss: 3.4577 - val_loss: 1.3430\n",
      "Epoch 99/10000\n",
      "51/51 [==============================] - 0s 3ms/step - loss: 3.0613 - val_loss: 1.1273\n",
      "Epoch 100/10000\n",
      "51/51 [==============================] - 0s 3ms/step - loss: 2.6140 - val_loss: 1.6598\n",
      "Epoch 101/10000\n",
      "51/51 [==============================] - 0s 3ms/step - loss: 3.1993 - val_loss: 1.9034\n",
      "Epoch 102/10000\n",
      "51/51 [==============================] - 0s 3ms/step - loss: 3.2903 - val_loss: 1.2102\n",
      "Epoch 103/10000\n",
      "51/51 [==============================] - 0s 4ms/step - loss: 4.3552 - val_loss: 1.4586\n",
      "Epoch 104/10000\n",
      "51/51 [==============================] - 0s 4ms/step - loss: 2.6074 - val_loss: 2.7679\n",
      "Epoch 105/10000\n",
      "51/51 [==============================] - 0s 4ms/step - loss: 4.5328 - val_loss: 1.0646\n",
      "Epoch 106/10000\n",
      "51/51 [==============================] - 0s 2ms/step - loss: 3.1608 - val_loss: 1.4268\n",
      "Epoch 107/10000\n",
      "51/51 [==============================] - 0s 5ms/step - loss: 4.0943 - val_loss: 1.2728\n",
      "Epoch 108/10000\n",
      "51/51 [==============================] - 0s 4ms/step - loss: 2.8769 - val_loss: 1.2789\n",
      "Epoch 109/10000\n",
      "51/51 [==============================] - 0s 3ms/step - loss: 3.0668 - val_loss: 1.1118\n",
      "Epoch 110/10000\n",
      "51/51 [==============================] - 0s 3ms/step - loss: 2.7525 - val_loss: 2.3951\n",
      "Epoch 111/10000\n",
      "51/51 [==============================] - 0s 3ms/step - loss: 3.5098 - val_loss: 2.0715\n",
      "Epoch 112/10000\n",
      "51/51 [==============================] - 0s 4ms/step - loss: 4.2864 - val_loss: 1.1254\n",
      "Epoch 113/10000\n",
      "51/51 [==============================] - 0s 3ms/step - loss: 2.5436 - val_loss: 1.7618\n",
      "Epoch 114/10000\n",
      "51/51 [==============================] - 0s 3ms/step - loss: 3.2809 - val_loss: 1.9694\n",
      "Epoch 115/10000\n",
      "51/51 [==============================] - 0s 3ms/step - loss: 4.0849 - val_loss: 1.1604\n",
      "Epoch 116/10000\n",
      "51/51 [==============================] - 0s 4ms/step - loss: 3.7063 - val_loss: 1.6106\n",
      "Epoch 117/10000\n",
      "51/51 [==============================] - 0s 4ms/step - loss: 2.2859 - val_loss: 1.3056\n",
      "Epoch 118/10000\n",
      "51/51 [==============================] - 0s 4ms/step - loss: 3.2803 - val_loss: 2.0786\n",
      "Epoch 119/10000\n",
      "51/51 [==============================] - 0s 3ms/step - loss: 3.3909 - val_loss: 1.3872\n",
      "Epoch 120/10000\n",
      "51/51 [==============================] - 0s 3ms/step - loss: 5.1864 - val_loss: 2.0892\n",
      "Epoch 121/10000\n",
      "51/51 [==============================] - 0s 2ms/step - loss: 3.6809 - val_loss: 2.1227\n",
      "Epoch 122/10000\n",
      "51/51 [==============================] - 0s 3ms/step - loss: 3.8620 - val_loss: 1.9970\n",
      "Epoch 123/10000\n",
      "51/51 [==============================] - 0s 3ms/step - loss: 3.5400 - val_loss: 6.3650\n",
      "Epoch 124/10000\n",
      "51/51 [==============================] - 0s 3ms/step - loss: 6.6914 - val_loss: 1.9754\n",
      "Epoch 125/10000\n",
      "51/51 [==============================] - 0s 3ms/step - loss: 3.6720 - val_loss: 2.6891\n"
     ]
    },
    {
     "data": {
      "text/plain": [
       "<tensorflow.python.keras.callbacks.History at 0x210bb7bc208>"
      ]
     },
     "execution_count": 20,
     "metadata": {},
     "output_type": "execute_result"
    }
   ],
   "source": [
    "oPredictiveModel.fit(\n",
    "    aInputTrain, \n",
    "    aOutputTrain, \n",
    "    epochs=iEpochSize, \n",
    "    batch_size=iBatchSize, \n",
    "    verbose=1, \n",
    "    validation_data= (aInputValidation, aOutputValidation),\n",
    "    validation_batch_size= iBatchSize\n",
    "    ,callbacks=[oEarlyStop]\n",
    ")"
   ]
  },
  {
   "cell_type": "markdown",
   "id": "857470db-83a8-4c90-ac73-bb6300ef196a",
   "metadata": {
    "jp-MarkdownHeadingCollapsed": true,
    "tags": []
   },
   "source": [
    "## Model Epochs"
   ]
  },
  {
   "cell_type": "code",
   "execution_count": 21,
   "id": "141bb9fc",
   "metadata": {},
   "outputs": [
    {
     "data": {
      "image/png": "[encoded data removed]",
      "text/plain": [
       "<Figure size 1440x720 with 1 Axes>"
      ]
     },
     "metadata": {
      "needs_background": "light"
     },
     "output_type": "display_data"
    }
   ],
   "source": [
    "plt.figure(figsize = (20,10))\n",
    "oFig = sns.lineplot(data = pd.DataFrame(oPredictiveModel.history.history))\n",
    "oFig.get_figure().savefig(sModelName + '\\epochs.png')"
   ]
  },
  {
   "cell_type": "markdown",
   "id": "680ac53a",
   "metadata": {
    "jp-MarkdownHeadingCollapsed": true,
    "tags": []
   },
   "source": [
    "## Save Model"
   ]
  },
  {
   "cell_type": "code",
   "execution_count": 22,
   "id": "e8f88fe1",
   "metadata": {},
   "outputs": [],
   "source": [
    "oPredictiveModel.save_weights(sModelName)"
   ]
  },
  {
   "cell_type": "markdown",
   "id": "75633cc0",
   "metadata": {
    "jp-MarkdownHeadingCollapsed": true,
    "tags": []
   },
   "source": [
    "## Test Model"
   ]
  },
  {
   "cell_type": "code",
   "execution_count": 23,
   "id": "4d372e80",
   "metadata": {},
   "outputs": [],
   "source": [
    "oPredictiveModel.load_weights(sModelName)\n",
    "\n",
    "aPrediction = oPredictiveModel.predict(aInputTest)\n",
    "aPrediction = aPrediction.reshape((-1, iForwardTimeWindow * iNrOutputFeatures))\n",
    "dfPrediction = pd.DataFrame(data = aPrediction, index = ixTest, columns = aIxOutputColumns)\n",
    "\n",
    "aActual = aOutputTest.reshape((-1, iForwardTimeWindow * iNrOutputFeatures))\n",
    "dfActual =  pd.DataFrame(data = aActual, index = ixTest, columns = aIxOutputColumns).copy()"
   ]
  },
  {
   "cell_type": "markdown",
   "id": "dd31b058-6e14-4012-b227-97cf02dc0099",
   "metadata": {
    "jp-MarkdownHeadingCollapsed": true,
    "tags": []
   },
   "source": [
    "## Save Results"
   ]
  },
  {
   "cell_type": "code",
   "execution_count": 24,
   "id": "76dfeae2-ea8d-4b16-aae1-a854d1b70708",
   "metadata": {},
   "outputs": [],
   "source": [
    "dfActual.to_csv(sModelName + '\\dfActual.csv')\n",
    "dfPrediction.to_csv(sModelName + '\\dfPrediction.csv')"
   ]
  },
  {
   "cell_type": "markdown",
   "id": "75ca3ab0",
   "metadata": {
    "jp-MarkdownHeadingCollapsed": true,
    "tags": []
   },
   "source": [
    "# REFERENCES"
   ]
  },
  {
   "cell_type": "markdown",
   "id": "49501761",
   "metadata": {},
   "source": [
    "https://www.tensorflow.org/guide/keras/train_and_evaluate#passing_data_to_multi-input_multi-output_models\n",
    "\n",
    "https://www.tensorflow.org/guide/keras/writing_a_training_loop_from_scratch/\n",
    "\n",
    "https://www.tensorflow.org/guide/keras/customizing_what_happens_in_fit/\n",
    "\n",
    "https://towardsdatascience.com/customize-loss-function-to-make-lstm-model-more-applicable-in-stock-price-prediction-b1c50e50b16c\n",
    "\n",
    "https://keras.io/getting_started/faq/\n",
    "\n",
    "https://machinelearningmastery.com/how-to-develop-lstm-models-for-multi-step-time-series-forecasting-of-household-power-consumption/\n",
    "\n",
    "https://www.tensorflow.org/tutorials/structured_data/time_series\n",
    "\n",
    "https://towardsdatascience.com/encoder-decoder-model-for-multistep-time-series-forecasting-using-pytorch-5d54c6af6e60\n",
    "\n",
    "https://levelup.gitconnected.com/building-seq2seq-lstm-with-luong-attention-in-keras-for-time-series-forecasting-1ee00958decb"
   ]
  }
 ],
 "metadata": {
  "kernelspec": {
   "display_name": "Python 3",
   "language": "python",
   "name": "python3"
  },
  "language_info": {
   "codemirror_mode": {
    "name": "ipython",
    "version": 3
   },
   "file_extension": ".py",
   "mimetype": "text/x-python",
   "name": "python",
   "nbconvert_exporter": "python",
   "pygments_lexer": "ipython3",
   "version": "3.7.10"
  },
  "toc-autonumbering": true,
  "varInspector": {
   "cols": {
    "lenName": 16,
    "lenType": 16,
    "lenVar": 40
   },
   "kernels_config": {
    "python": {
     "delete_cmd_postfix": "",
     "delete_cmd_prefix": "del ",
     "library": "var_list.py",
     "varRefreshCmd": "print(var_dic_list())"
    },
    "r": {
     "delete_cmd_postfix": ") ",
     "delete_cmd_prefix": "rm(",
     "library": "var_list.r",
     "varRefreshCmd": "cat(var_dic_list()) "
    }
   },
   "types_to_exclude": [
    "module",
    "function",
    "builtin_function_or_method",
    "instance",
    "_Feature"
   ],
   "window_display": false
  }
 },
 "nbformat": 4,
 "nbformat_minor": 5
}
