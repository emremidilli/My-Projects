{
 "cells": [
  {
   "cell_type": "code",
   "execution_count": 24,
   "id": "0611acbc",
   "metadata": {},
   "outputs": [],
   "source": [
    "import pandas as pd\n",
    "\n",
    "import numpy as np\n",
    "\n",
    "import itertools\n",
    "\n",
    "from datetime import datetime\n",
    "\n",
    "import pytz\n",
    "import sys\n",
    "import pickle\n",
    "\n",
    "from sklearn.preprocessing import StandardScaler\n",
    "from sklearn.model_selection import train_test_split\n",
    "from sklearn.metrics import mean_absolute_error, mean_squared_error, max_error, r2_score\n",
    "\n",
    "import seaborn as sns\n",
    "\n",
    "import MetaTrader5 as mt5\n",
    "\n",
    "import os\n",
    "os.environ['TF_CPP_MIN_LOG_LEVEL'] = '2' \n",
    "\n",
    "import tensorflow as tf\n",
    "from tensorflow import keras\n",
    "from tensorflow.keras import Sequential\n",
    "from tensorflow.keras.layers import Dense\n",
    "from tensorflow.keras.callbacks import EarlyStopping"
   ]
  },
  {
   "cell_type": "code",
   "execution_count": 2,
   "id": "a71f63b1",
   "metadata": {
    "code_folding": []
   },
   "outputs": [],
   "source": [
    "gc_o_TIME_ZONE = pytz.timezone(\"Etc/UTC\")\n",
    "gc_dt_FROM = datetime(2021, 11, 1, tzinfo=gc_o_TIME_ZONE)\n",
    "gc_dt_TO = datetime(2021, 11, 20, tzinfo=gc_o_TIME_ZONE)\n",
    "def dfGetMarketOhlc(sSymbol):\n",
    "    if not mt5.initialize():\n",
    "        print(\"initialize() failed, error code =\", mt5.last_error())\n",
    "        sys.exit()\n",
    "\n",
    "    aSymbolInfo = mt5.symbol_info(sSymbol)\n",
    "    if not aSymbolInfo:\n",
    "        print(\"symbol_info() failed, error code =\", mt5.last_error())\n",
    "        sys.exit()\n",
    "    \n",
    "    dfOhlc = mt5.copy_rates_range(\n",
    "        sSymbol,\n",
    "        mt5.TIMEFRAME_M1,\n",
    "        gc_dt_FROM, \n",
    "        gc_dt_TO,\n",
    "    )\n",
    "\n",
    "    if len(dfOhlc) == 0:\n",
    "        print(\"copy_rates_range() failed, error code =\", mt5.last_error())\n",
    "        sys.exit()\n",
    "\n",
    "    mt5.shutdown()\n",
    "    \n",
    "    dfOhlc = pd.DataFrame(dfOhlc)\n",
    "\n",
    "    dfOhlc['timestamp'] = pd.to_datetime(dfOhlc['time'], unit= \"s\")\n",
    "    dfOhlc.set_index('timestamp', inplace=True)\n",
    "        \n",
    "    \n",
    "    return dfOhlc "
   ]
  },
  {
   "cell_type": "code",
   "execution_count": 3,
   "id": "ca3eba12",
   "metadata": {
    "code_folding": []
   },
   "outputs": [],
   "source": [
    "def dfScaleData(sSubModelName, sScalerName,dfTrain,dfValidation, dfTest):\n",
    "    sScalersDirectory = os.path.join(sSubModelName , \"__scalers__\")\n",
    "    oScaler = StandardScaler()\n",
    "\n",
    "    oScaler.fit(dfTrain)\n",
    "\n",
    "    aScaledTrain = oScaler.transform(dfTrain)\n",
    "    aScaledValidation = oScaler.transform(dfValidation)\n",
    "    aScaledTest = oScaler.transform(dfTest)\n",
    "\n",
    "    dfScaledTrain = pd.DataFrame(aScaledTrain, columns = dfTrain.columns, index = dfTrain.index)\n",
    "    dfScaledValidation = pd.DataFrame(aScaledValidation, columns = dfValidation.columns, index = dfValidation.index)\n",
    "    dfScaledTest = pd.DataFrame(aScaledTest, columns = dfTest.columns, index = dfTest.index)\n",
    "\n",
    "    sScalerFilePath =os.path.join(sScalersDirectory, sScalerName + \".sav\")\n",
    "    os.makedirs(os.path.dirname(sScalerFilePath), exist_ok=True)\n",
    "    pickle.dump(oScaler, open(sScalerFilePath, 'wb'))\n",
    "    \n",
    "    \n",
    "    return dfScaledTrain, dfScaledValidation, dfScaledTest"
   ]
  },
  {
   "cell_type": "code",
   "execution_count": 4,
   "id": "a44508f4",
   "metadata": {
    "code_folding": []
   },
   "outputs": [],
   "source": [
    "sSymbol = \"NAT.GAS\""
   ]
  },
  {
   "cell_type": "code",
   "execution_count": 5,
   "id": "7bd3b945",
   "metadata": {},
   "outputs": [],
   "source": [
    "dfOhlc = dfGetMarketOhlc(sSymbol)"
   ]
  },
  {
   "cell_type": "code",
   "execution_count": 6,
   "id": "66398f37",
   "metadata": {},
   "outputs": [],
   "source": [
    "dfOhlc[\"weekday\"] = dfOhlc.index.weekday\n",
    "dfOhlc[\"hour\"] = dfOhlc.index.hour\n",
    "dfOhlc[\"minute\"] = dfOhlc.index.minute"
   ]
  },
  {
   "cell_type": "code",
   "execution_count": 7,
   "id": "93639e4e",
   "metadata": {},
   "outputs": [],
   "source": [
    "dfOhlc.drop([\"time\"], axis = 1 , inplace = True)"
   ]
  },
  {
   "cell_type": "code",
   "execution_count": 8,
   "id": "171c9aac",
   "metadata": {},
   "outputs": [
    {
     "data": {
      "text/html": [
       "<div>\n",
       "<style scoped>\n",
       "    .dataframe tbody tr th:only-of-type {\n",
       "        vertical-align: middle;\n",
       "    }\n",
       "\n",
       "    .dataframe tbody tr th {\n",
       "        vertical-align: top;\n",
       "    }\n",
       "\n",
       "    .dataframe thead th {\n",
       "        text-align: right;\n",
       "    }\n",
       "</style>\n",
       "<table border=\"1\" class=\"dataframe\">\n",
       "  <thead>\n",
       "    <tr style=\"text-align: right;\">\n",
       "      <th></th>\n",
       "      <th>open</th>\n",
       "      <th>high</th>\n",
       "      <th>low</th>\n",
       "      <th>close</th>\n",
       "      <th>tick_volume</th>\n",
       "      <th>spread</th>\n",
       "      <th>real_volume</th>\n",
       "      <th>weekday</th>\n",
       "      <th>hour</th>\n",
       "      <th>minute</th>\n",
       "    </tr>\n",
       "    <tr>\n",
       "      <th>timestamp</th>\n",
       "      <th></th>\n",
       "      <th></th>\n",
       "      <th></th>\n",
       "      <th></th>\n",
       "      <th></th>\n",
       "      <th></th>\n",
       "      <th></th>\n",
       "      <th></th>\n",
       "      <th></th>\n",
       "      <th></th>\n",
       "    </tr>\n",
       "  </thead>\n",
       "  <tbody>\n",
       "    <tr>\n",
       "      <th>2021-11-01 00:00:00</th>\n",
       "      <td>5.341</td>\n",
       "      <td>5.366</td>\n",
       "      <td>5.335</td>\n",
       "      <td>5.338</td>\n",
       "      <td>160</td>\n",
       "      <td>4</td>\n",
       "      <td>1597000</td>\n",
       "      <td>0</td>\n",
       "      <td>0</td>\n",
       "      <td>0</td>\n",
       "    </tr>\n",
       "    <tr>\n",
       "      <th>2021-11-01 00:01:00</th>\n",
       "      <td>5.340</td>\n",
       "      <td>5.342</td>\n",
       "      <td>5.330</td>\n",
       "      <td>5.332</td>\n",
       "      <td>55</td>\n",
       "      <td>4</td>\n",
       "      <td>550000</td>\n",
       "      <td>0</td>\n",
       "      <td>0</td>\n",
       "      <td>1</td>\n",
       "    </tr>\n",
       "    <tr>\n",
       "      <th>2021-11-01 00:02:00</th>\n",
       "      <td>5.332</td>\n",
       "      <td>5.345</td>\n",
       "      <td>5.332</td>\n",
       "      <td>5.342</td>\n",
       "      <td>42</td>\n",
       "      <td>10</td>\n",
       "      <td>420000</td>\n",
       "      <td>0</td>\n",
       "      <td>0</td>\n",
       "      <td>2</td>\n",
       "    </tr>\n",
       "    <tr>\n",
       "      <th>2021-11-01 00:03:00</th>\n",
       "      <td>5.343</td>\n",
       "      <td>5.346</td>\n",
       "      <td>5.334</td>\n",
       "      <td>5.334</td>\n",
       "      <td>27</td>\n",
       "      <td>10</td>\n",
       "      <td>267000</td>\n",
       "      <td>0</td>\n",
       "      <td>0</td>\n",
       "      <td>3</td>\n",
       "    </tr>\n",
       "    <tr>\n",
       "      <th>2021-11-01 00:04:00</th>\n",
       "      <td>5.333</td>\n",
       "      <td>5.333</td>\n",
       "      <td>5.324</td>\n",
       "      <td>5.328</td>\n",
       "      <td>14</td>\n",
       "      <td>10</td>\n",
       "      <td>137000</td>\n",
       "      <td>0</td>\n",
       "      <td>0</td>\n",
       "      <td>4</td>\n",
       "    </tr>\n",
       "    <tr>\n",
       "      <th>...</th>\n",
       "      <td>...</td>\n",
       "      <td>...</td>\n",
       "      <td>...</td>\n",
       "      <td>...</td>\n",
       "      <td>...</td>\n",
       "      <td>...</td>\n",
       "      <td>...</td>\n",
       "      <td>...</td>\n",
       "      <td>...</td>\n",
       "      <td>...</td>\n",
       "    </tr>\n",
       "    <tr>\n",
       "      <th>2021-11-19 23:55:00</th>\n",
       "      <td>5.132</td>\n",
       "      <td>5.134</td>\n",
       "      <td>5.131</td>\n",
       "      <td>5.134</td>\n",
       "      <td>6</td>\n",
       "      <td>10</td>\n",
       "      <td>60000</td>\n",
       "      <td>4</td>\n",
       "      <td>23</td>\n",
       "      <td>55</td>\n",
       "    </tr>\n",
       "    <tr>\n",
       "      <th>2021-11-19 23:56:00</th>\n",
       "      <td>5.136</td>\n",
       "      <td>5.136</td>\n",
       "      <td>5.135</td>\n",
       "      <td>5.135</td>\n",
       "      <td>4</td>\n",
       "      <td>10</td>\n",
       "      <td>40000</td>\n",
       "      <td>4</td>\n",
       "      <td>23</td>\n",
       "      <td>56</td>\n",
       "    </tr>\n",
       "    <tr>\n",
       "      <th>2021-11-19 23:57:00</th>\n",
       "      <td>5.137</td>\n",
       "      <td>5.137</td>\n",
       "      <td>5.133</td>\n",
       "      <td>5.133</td>\n",
       "      <td>7</td>\n",
       "      <td>10</td>\n",
       "      <td>70000</td>\n",
       "      <td>4</td>\n",
       "      <td>23</td>\n",
       "      <td>57</td>\n",
       "    </tr>\n",
       "    <tr>\n",
       "      <th>2021-11-19 23:58:00</th>\n",
       "      <td>5.135</td>\n",
       "      <td>5.138</td>\n",
       "      <td>5.132</td>\n",
       "      <td>5.138</td>\n",
       "      <td>4</td>\n",
       "      <td>15</td>\n",
       "      <td>40000</td>\n",
       "      <td>4</td>\n",
       "      <td>23</td>\n",
       "      <td>58</td>\n",
       "    </tr>\n",
       "    <tr>\n",
       "      <th>2021-11-19 23:59:00</th>\n",
       "      <td>5.140</td>\n",
       "      <td>5.147</td>\n",
       "      <td>5.138</td>\n",
       "      <td>5.144</td>\n",
       "      <td>19</td>\n",
       "      <td>10</td>\n",
       "      <td>187000</td>\n",
       "      <td>4</td>\n",
       "      <td>23</td>\n",
       "      <td>59</td>\n",
       "    </tr>\n",
       "  </tbody>\n",
       "</table>\n",
       "<p>19728 rows × 10 columns</p>\n",
       "</div>"
      ],
      "text/plain": [
       "                      open   high    low  close  tick_volume  spread  \\\n",
       "timestamp                                                              \n",
       "2021-11-01 00:00:00  5.341  5.366  5.335  5.338          160       4   \n",
       "2021-11-01 00:01:00  5.340  5.342  5.330  5.332           55       4   \n",
       "2021-11-01 00:02:00  5.332  5.345  5.332  5.342           42      10   \n",
       "2021-11-01 00:03:00  5.343  5.346  5.334  5.334           27      10   \n",
       "2021-11-01 00:04:00  5.333  5.333  5.324  5.328           14      10   \n",
       "...                    ...    ...    ...    ...          ...     ...   \n",
       "2021-11-19 23:55:00  5.132  5.134  5.131  5.134            6      10   \n",
       "2021-11-19 23:56:00  5.136  5.136  5.135  5.135            4      10   \n",
       "2021-11-19 23:57:00  5.137  5.137  5.133  5.133            7      10   \n",
       "2021-11-19 23:58:00  5.135  5.138  5.132  5.138            4      15   \n",
       "2021-11-19 23:59:00  5.140  5.147  5.138  5.144           19      10   \n",
       "\n",
       "                     real_volume  weekday  hour  minute  \n",
       "timestamp                                                \n",
       "2021-11-01 00:00:00      1597000        0     0       0  \n",
       "2021-11-01 00:01:00       550000        0     0       1  \n",
       "2021-11-01 00:02:00       420000        0     0       2  \n",
       "2021-11-01 00:03:00       267000        0     0       3  \n",
       "2021-11-01 00:04:00       137000        0     0       4  \n",
       "...                          ...      ...   ...     ...  \n",
       "2021-11-19 23:55:00        60000        4    23      55  \n",
       "2021-11-19 23:56:00        40000        4    23      56  \n",
       "2021-11-19 23:57:00        70000        4    23      57  \n",
       "2021-11-19 23:58:00        40000        4    23      58  \n",
       "2021-11-19 23:59:00       187000        4    23      59  \n",
       "\n",
       "[19728 rows x 10 columns]"
      ]
     },
     "execution_count": 8,
     "metadata": {},
     "output_type": "execute_result"
    }
   ],
   "source": [
    "dfOhlc"
   ]
  },
  {
   "cell_type": "markdown",
   "id": "1127d583",
   "metadata": {},
   "source": [
    "# DEEP LEARNING MODEL"
   ]
  },
  {
   "cell_type": "code",
   "execution_count": 9,
   "id": "137167f1",
   "metadata": {},
   "outputs": [],
   "source": [
    "sModelName = os.path.join(sSymbol , \"__deep learning model__\")"
   ]
  },
  {
   "cell_type": "markdown",
   "id": "e4f452e4",
   "metadata": {},
   "source": [
    "## Preprocessing"
   ]
  },
  {
   "cell_type": "code",
   "execution_count": 73,
   "id": "1449fbb7",
   "metadata": {},
   "outputs": [],
   "source": [
    "aInputFeatures = ['open', 'high', 'low', 'close', 'tick_volume', 'spread', 'real_volume','weekday', 'hour', 'minute']\n",
    "aBackwardTimeSteps = range(-3, 0)\n",
    "\n",
    "\n",
    "tplInputColumns = list(itertools.product(aBackwardTimeSteps, aInputFeatures))\n",
    "miInputColums = pd.MultiIndex.from_tuples(tplInputColumns, names= [\"time_step\", \"feature\"])\n",
    "\n",
    "dfInput = pd.DataFrame( columns = miInputColums)\n",
    "\n",
    "for i in aBackwardTimeSteps:\n",
    "    for sInputFeature in aInputFeatures:\n",
    "        dfInput.loc[:, (i, sInputFeature)] = dfOhlc[sInputFeature].shift(-i)"
   ]
  },
  {
   "cell_type": "code",
   "execution_count": 75,
   "id": "ce152a53",
   "metadata": {},
   "outputs": [],
   "source": [
    "aOutputFeatures = ['open', 'high', 'low', 'close', 'tick_volume', 'spread', 'real_volume','weekday', 'hour', 'minute']\n",
    "aForwardTimeSteps = range(0, 1)\n",
    "\n",
    "tplOutputColumns = list(itertools.product(aForwardTimeSteps, aOutputFeatures))\n",
    "ixOutputColums = pd.MultiIndex.from_tuples(tplOutputColumns, names= [\"time_step\", \"feature\"])\n",
    "\n",
    "dfOutput = pd.DataFrame(columns = ixOutputColums)\n",
    "\n",
    "for i in aForwardTimeSteps:\n",
    "    for sOutputFeature in aOutputFeatures:\n",
    "        dfOutput.loc[:, (i, sOutputFeature)] = dfOhlc[sOutputFeature].shift(-i)"
   ]
  },
  {
   "cell_type": "code",
   "execution_count": 76,
   "id": "296eec07",
   "metadata": {},
   "outputs": [],
   "source": [
    "dfMerged = dfInput.join(dfOutput, how= \"inner\")\n",
    "dfMerged.dropna(inplace=True)\n",
    "dfInput = dfMerged[dfInput.columns]\n",
    "dfOutput = dfMerged[dfOutput.columns]"
   ]
  },
  {
   "cell_type": "code",
   "execution_count": null,
   "id": "998df258",
   "metadata": {},
   "outputs": [],
   "source": [
    "sns.lineplot(data = dfOutput)"
   ]
  },
  {
   "cell_type": "markdown",
   "id": "e68fffe3",
   "metadata": {},
   "source": [
    "### Split Data"
   ]
  },
  {
   "cell_type": "code",
   "execution_count": null,
   "id": "5275cac2",
   "metadata": {},
   "outputs": [],
   "source": [
    "gc_dec_TRAINING_RATIO = 0.6\n",
    "gc_dec_VALIDATION_RATIO = 0.2\n",
    "gc_dec_TEST_RATIO = 0.2\n",
    "\n",
    "dfInputTrainValidation, dfInputTest, dfOutputTrainValidation, dfOutputTest = train_test_split(\n",
    "    dfInput,\n",
    "    dfOutput,\n",
    "    test_size=gc_dec_TEST_RATIO,\n",
    "    shuffle=False)\n",
    "\n",
    "dfInputTrain, dfInputValidation, dfOutputTrain, dfOutputValidation = train_test_split(\n",
    "    dfInputTrainValidation,\n",
    "    dfOutputTrainValidation,\n",
    "    test_size=(1/(1 -gc_dec_TEST_RATIO))-1,\n",
    "    shuffle=False)\n",
    "\n",
    "\n",
    "dfInputTrain = dfInputTrain.astype(float)\n",
    "dfInputValidation = dfInputValidation.astype(float)\n",
    "dfInputTest = dfInputTest.astype(float)\n",
    "dfOutputTrain = dfOutputTrain.astype(float)\n",
    "dfOutputValidation = dfOutputValidation.astype(float)\n",
    "dfOutputTest = dfOutputTest.astype(float)"
   ]
  },
  {
   "cell_type": "markdown",
   "id": "eb9a9ef2",
   "metadata": {},
   "source": [
    "### Scale Data"
   ]
  },
  {
   "cell_type": "code",
   "execution_count": null,
   "id": "a9f3d4c2",
   "metadata": {},
   "outputs": [],
   "source": [
    "dfScaledInputTrain, dfScaledInputValidation, dfScaledInputTest = dfScaleData(sModelName,\n",
    "                                                                             \"input\", \n",
    "                                                                             dfInputTrain,\n",
    "                                                                             dfInputValidation, \n",
    "                                                                             dfInputTest)\n",
    "\n",
    "dfScaledOutputTrain, dfScaledOutputValidation, dfScaledOutputTest = dfScaleData(sModelName,\n",
    "                                                                                \"output\", \n",
    "                                                                                dfOutputTrain,\n",
    "                                                                                dfOutputValidation, \n",
    "                                                                                dfOutputTest)"
   ]
  },
  {
   "cell_type": "markdown",
   "id": "52944fb0",
   "metadata": {},
   "source": [
    "## Train"
   ]
  },
  {
   "cell_type": "markdown",
   "id": "e253bd8c",
   "metadata": {},
   "source": [
    "### Set Hyperparameters"
   ]
  },
  {
   "cell_type": "code",
   "execution_count": null,
   "id": "a484f077",
   "metadata": {},
   "outputs": [],
   "source": [
    "iBatchSize = 128\n",
    "\n",
    "oLrSchedule = keras.optimizers.schedules.ExponentialDecay(\n",
    "    1e-05, decay_steps=100000, decay_rate=0.50, staircase=True\n",
    ")\n",
    "\n",
    "\n",
    "oOptimizer = tf.keras.optimizers.Adam(learning_rate=1e-05)\n",
    "\n",
    "oEarlyStop = EarlyStopping(\n",
    "    monitor = 'val_loss', \n",
    "    mode = 'min', \n",
    "    verbose = 0 , \n",
    "    patience = 20, \n",
    "    restore_best_weights = True)\n",
    "iEpochSize = 10000"
   ]
  },
  {
   "cell_type": "markdown",
   "id": "a75b209e",
   "metadata": {},
   "source": [
    "### Build Model"
   ]
  },
  {
   "cell_type": "code",
   "execution_count": null,
   "id": "9b360a41",
   "metadata": {},
   "outputs": [],
   "source": [
    "oInputRates = keras.Input(\n",
    "    shape=(\n",
    "        dfScaledInputTrain.shape[1]), \n",
    "    name=\"aRates\")\n",
    "\n",
    "aW = Dense((100))(oInputRates)\n",
    "aW = Dense((100))(aW)\n",
    "aW = Dense((100))(aW)\n",
    "aOutputRegression = Dense(1, name = \"Regression\")(aW)\n",
    "\n",
    "oPredictiveModel = keras.Model(\n",
    "    inputs=oInputRates, \n",
    "    outputs=aOutputRegression\n",
    ")"
   ]
  },
  {
   "cell_type": "markdown",
   "id": "ac55b3b7",
   "metadata": {},
   "source": [
    "### Compile Model"
   ]
  },
  {
   "cell_type": "code",
   "execution_count": null,
   "id": "a43debeb",
   "metadata": {},
   "outputs": [],
   "source": [
    "oPredictiveModel.compile(optimizer=oOptimizer,\n",
    "                         loss = tf.keras.losses.MeanSquaredError()\n",
    "                        )\n"
   ]
  },
  {
   "cell_type": "markdown",
   "id": "dedaa4fc",
   "metadata": {},
   "source": [
    "### Fit Model"
   ]
  },
  {
   "cell_type": "code",
   "execution_count": null,
   "id": "f1293c7c",
   "metadata": {},
   "outputs": [],
   "source": [
    "oPredictiveModel.fit(\n",
    "    dfScaledInputTrain, \n",
    "    dfScaledOutputTrain, \n",
    "    epochs=iEpochSize, \n",
    "    batch_size=iBatchSize, \n",
    "    verbose=1, \n",
    "    validation_data= (dfScaledInputValidation, dfScaledOutputValidation),\n",
    "    validation_batch_size= iBatchSize,\n",
    "    callbacks=[oEarlyStop]\n",
    ")\n",
    "\n",
    "oPredictiveModel.save_weights(sModelName)\n",
    "\n",
    "pd.DataFrame(oPredictiveModel.history.history).plot()"
   ]
  },
  {
   "cell_type": "markdown",
   "id": "75633cc0",
   "metadata": {},
   "source": [
    "## Test"
   ]
  },
  {
   "cell_type": "code",
   "execution_count": null,
   "id": "fc56071c",
   "metadata": {},
   "outputs": [],
   "source": [
    "oPredictiveModel.load_weights(sModelName)\n",
    "\n",
    "aPrediction = oPredictiveModel.predict(dfScaledInputTest)\n",
    "\n",
    "sOutputScalerPath = os.path.join(sModelName , \"__scalers__\")\n",
    "sOutputScalerPath = os.path.join(sOutputScalerPath , \"output\" + \".sav\")\n",
    "oScalerOutput = pickle.load(open(sOutputScalerPath, 'rb'))\n",
    "aPrediction = oScalerOutput.inverse_transform(aPrediction)\n",
    "\n",
    "dfPrediction = pd.DataFrame(aPrediction, index = dfScaledOutputTest.index)\n",
    "dfPrediction.columns = dfOutput.columns"
   ]
  },
  {
   "cell_type": "code",
   "execution_count": null,
   "id": "245d4b4b",
   "metadata": {},
   "outputs": [],
   "source": [
    "dfTestComparision = pd.DataFrame(dfPrediction.iloc[:,0])\n",
    "dfTestComparision = dfTestComparision.join(dfOutputTest.iloc[:,0], how = \"inner\", lsuffix=\"prediction\")\n",
    "dfTestComparision.columns = [\"Prediction\", \"Actual\"]\n",
    "\n",
    "sns.scatterplot(data = dfTestComparision, x = \"Actual\", y =\"Prediction\")"
   ]
  },
  {
   "cell_type": "code",
   "execution_count": null,
   "id": "5f8f2409",
   "metadata": {
    "scrolled": true
   },
   "outputs": [],
   "source": [
    "y_pred = dfPrediction.iloc[:, 0]\n",
    "y_true = dfOutputTest.iloc[:, 0]\n",
    "aMetrics = [\n",
    "        ('mean absolute error', mean_absolute_error(y_true, y_pred)),\n",
    "        ('mean squared error', mean_squared_error(y_true, y_pred)),\n",
    "        ('max error', max_error(y_true, y_pred)),\n",
    "        ('r2 score', r2_score(y_true, y_pred))\n",
    "    ]\n",
    "\n",
    "print('Metrics for regression:')\n",
    "for metric_name, metric_value in aMetrics:\n",
    "    print(f'{metric_name:>25s}: {metric_value: >20.3f}')"
   ]
  },
  {
   "cell_type": "code",
   "execution_count": null,
   "id": "482be7e4",
   "metadata": {},
   "outputs": [],
   "source": [
    "iFrom = 195 * 15\n",
    "iTo = iFrom + 15\n",
    "\n",
    "print(r2_score(dfOutputTest.iloc[iFrom:iTo], dfPrediction.iloc[iFrom:iTo]))\n",
    "sns.lineplot(data = dfTestComparision.iloc[iFrom:iTo])"
   ]
  },
  {
   "cell_type": "markdown",
   "id": "75ca3ab0",
   "metadata": {},
   "source": [
    "# REFERENCES"
   ]
  },
  {
   "cell_type": "markdown",
   "id": "49501761",
   "metadata": {},
   "source": [
    "https://www.tensorflow.org/guide/keras/train_and_evaluate#passing_data_to_multi-input_multi-output_models\n",
    "\n",
    "https://www.tensorflow.org/guide/keras/writing_a_training_loop_from_scratch/\n",
    "\n",
    "https://www.tensorflow.org/guide/keras/customizing_what_happens_in_fit/\n",
    "\n",
    "https://towardsdatascience.com/customize-loss-function-to-make-lstm-model-more-applicable-in-stock-price-prediction-b1c50e50b16c\n",
    "\n",
    "https://keras.io/getting_started/faq/"
   ]
  }
 ],
 "metadata": {
  "kernelspec": {
   "display_name": "Python 3",
   "language": "python",
   "name": "python3"
  },
  "language_info": {
   "codemirror_mode": {
    "name": "ipython",
    "version": 3
   },
   "file_extension": ".py",
   "mimetype": "text/x-python",
   "name": "python",
   "nbconvert_exporter": "python",
   "pygments_lexer": "ipython3",
   "version": "3.7.10"
  },
  "varInspector": {
   "cols": {
    "lenName": 16,
    "lenType": 16,
    "lenVar": 40
   },
   "kernels_config": {
    "python": {
     "delete_cmd_postfix": "",
     "delete_cmd_prefix": "del ",
     "library": "var_list.py",
     "varRefreshCmd": "print(var_dic_list())"
    },
    "r": {
     "delete_cmd_postfix": ") ",
     "delete_cmd_prefix": "rm(",
     "library": "var_list.r",
     "varRefreshCmd": "cat(var_dic_list()) "
    }
   },
   "types_to_exclude": [
    "module",
    "function",
    "builtin_function_or_method",
    "instance",
    "_Feature"
   ],
   "window_display": false
  }
 },
 "nbformat": 4,
 "nbformat_minor": 5
}
