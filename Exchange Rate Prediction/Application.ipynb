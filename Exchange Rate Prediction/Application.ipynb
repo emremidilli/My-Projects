{
 "cells": [
  {
   "cell_type": "code",
   "execution_count": 1,
   "id": "0611acbc",
   "metadata": {},
   "outputs": [],
   "source": [
    "import pandas as pd\n",
    "\n",
    "import numpy as np\n",
    "\n",
    "import itertools\n",
    "\n",
    "from datetime import datetime\n",
    "\n",
    "import time\n",
    "\n",
    "import pytz\n",
    "import sys\n",
    "import pickle\n",
    "\n",
    "from sklearn.preprocessing import StandardScaler\n",
    "from sklearn.model_selection import train_test_split\n",
    "from sklearn.metrics import mean_absolute_error, mean_squared_error, max_error, r2_score\n",
    "\n",
    "import seaborn as sns\n",
    "\n",
    "import MetaTrader5 as mt5\n",
    "\n",
    "import os\n",
    "os.environ['TF_CPP_MIN_LOG_LEVEL'] = '2' \n",
    "\n",
    "import tensorflow as tf\n",
    "from tensorflow import keras\n",
    "from tensorflow.keras import Sequential\n",
    "from tensorflow.keras.layers import Dense\n",
    "from tensorflow.keras.layers import LSTM\n",
    "from tensorflow.keras.layers import Reshape\n",
    "from tensorflow.keras.layers import RepeatVector\n",
    "from tensorflow.keras.layers import TimeDistributed\n",
    "from tensorflow.keras.callbacks import EarlyStopping"
   ]
  },
  {
   "cell_type": "markdown",
   "id": "8d915683",
   "metadata": {},
   "source": [
    "# LOAD DATA"
   ]
  },
  {
   "cell_type": "code",
   "execution_count": 2,
   "id": "a44508f4",
   "metadata": {
    "code_folding": []
   },
   "outputs": [],
   "source": [
    "sSymbol = \"NAT.GAS\"\n",
    "gc_o_TIME_ZONE = pytz.timezone(\"Etc/UTC\")\n",
    "gc_dt_FROM = datetime(2021, 10, 1, tzinfo=gc_o_TIME_ZONE)\n",
    "gc_dt_TO = datetime(2021, 11, 1, tzinfo=gc_o_TIME_ZONE)"
   ]
  },
  {
   "cell_type": "code",
   "execution_count": 3,
   "id": "7bd3b945",
   "metadata": {},
   "outputs": [],
   "source": [
    "aDatesToFetch = list(pd.date_range(start=gc_dt_FROM, end=gc_dt_TO)) #created since MT5 library fails due to time out.\n",
    "aDatesSampled = aDatesToFetch[::200]\n",
    "aDatesSampled.append(aDatesToFetch[-1])\n",
    "aDatesSampled = list(set(aDatesSampled))\n",
    "aDatesSampled.sort()\n",
    "\n",
    "dfOhlc = pd.DataFrame()\n",
    "for i in range(0, len(aDatesSampled) - 1):\n",
    "    dtFrom = aDatesSampled[i]\n",
    "    dtTo = aDatesSampled[i+1]\n",
    "\n",
    "    if not mt5.initialize():\n",
    "        print(\"initialize() failed, error code =\", mt5.last_error())\n",
    "        sys.exit()\n",
    "\n",
    "    aSymbolInfo = mt5.symbol_info(sSymbol)\n",
    "    if not aSymbolInfo:\n",
    "        print(\"symbol_info() failed, error code =\", mt5.last_error())\n",
    "        sys.exit()\n",
    "\n",
    "    dfOhlcSample = mt5.copy_rates_range(\n",
    "        sSymbol,\n",
    "        mt5.TIMEFRAME_M30,\n",
    "        dtFrom, \n",
    "        dtTo\n",
    "    )\n",
    "    \n",
    "    if len(dfOhlcSample) == 0:\n",
    "        print(\"copy_rates_range() failed, error code =\", mt5.last_error())\n",
    "        sys.exit()\n",
    "\n",
    "    mt5.shutdown()\n",
    "\n",
    "    dfOhlcSample = pd.DataFrame(dfOhlcSample)\n",
    "\n",
    "    dfOhlcSample['timestamp'] = pd.to_datetime(dfOhlcSample['time'], unit= \"s\")\n",
    "    dfOhlcSample.set_index('timestamp', inplace=True)\n",
    "    \n",
    "    dfOhlc = dfOhlc.append(dfOhlcSample)"
   ]
  },
  {
   "cell_type": "code",
   "execution_count": 4,
   "id": "66398f37",
   "metadata": {},
   "outputs": [],
   "source": [
    "dfOhlc[\"weekday\"] = dfOhlc.index.weekday\n",
    "dfOhlc[\"hour\"] = dfOhlc.index.hour\n",
    "dfOhlc[\"minute\"] = dfOhlc.index.minute"
   ]
  },
  {
   "cell_type": "code",
   "execution_count": 5,
   "id": "dd9b11ba",
   "metadata": {},
   "outputs": [],
   "source": [
    "dfOhlc[\"return\"] = (dfOhlc[\"close\"] - dfOhlc[\"open\"])/dfOhlc[\"open\"]"
   ]
  },
  {
   "cell_type": "code",
   "execution_count": 6,
   "id": "93639e4e",
   "metadata": {},
   "outputs": [],
   "source": [
    "dfOhlc.drop([\"time\"], axis = 1 , inplace = True)"
   ]
  },
  {
   "cell_type": "markdown",
   "id": "3c7bca11",
   "metadata": {},
   "source": [
    "# DESCRIBE DATA"
   ]
  },
  {
   "cell_type": "code",
   "execution_count": 7,
   "id": "e0a04a73",
   "metadata": {},
   "outputs": [
    {
     "data": {
      "text/html": [
       "<div>\n",
       "<style scoped>\n",
       "    .dataframe tbody tr th:only-of-type {\n",
       "        vertical-align: middle;\n",
       "    }\n",
       "\n",
       "    .dataframe tbody tr th {\n",
       "        vertical-align: top;\n",
       "    }\n",
       "\n",
       "    .dataframe thead th {\n",
       "        text-align: right;\n",
       "    }\n",
       "</style>\n",
       "<table border=\"1\" class=\"dataframe\">\n",
       "  <thead>\n",
       "    <tr style=\"text-align: right;\">\n",
       "      <th></th>\n",
       "      <th>open</th>\n",
       "      <th>high</th>\n",
       "      <th>low</th>\n",
       "      <th>close</th>\n",
       "      <th>tick_volume</th>\n",
       "      <th>spread</th>\n",
       "      <th>real_volume</th>\n",
       "      <th>weekday</th>\n",
       "      <th>hour</th>\n",
       "      <th>minute</th>\n",
       "      <th>return</th>\n",
       "    </tr>\n",
       "    <tr>\n",
       "      <th>timestamp</th>\n",
       "      <th></th>\n",
       "      <th></th>\n",
       "      <th></th>\n",
       "      <th></th>\n",
       "      <th></th>\n",
       "      <th></th>\n",
       "      <th></th>\n",
       "      <th></th>\n",
       "      <th></th>\n",
       "      <th></th>\n",
       "      <th></th>\n",
       "    </tr>\n",
       "  </thead>\n",
       "  <tbody>\n",
       "    <tr>\n",
       "      <th>2021-10-01 01:00:00</th>\n",
       "      <td>6.004</td>\n",
       "      <td>6.057</td>\n",
       "      <td>5.998</td>\n",
       "      <td>6.039</td>\n",
       "      <td>446</td>\n",
       "      <td>10</td>\n",
       "      <td>13425000</td>\n",
       "      <td>4</td>\n",
       "      <td>1</td>\n",
       "      <td>0</td>\n",
       "      <td>0.005829</td>\n",
       "    </tr>\n",
       "    <tr>\n",
       "      <th>2021-10-01 01:30:00</th>\n",
       "      <td>6.039</td>\n",
       "      <td>6.048</td>\n",
       "      <td>5.981</td>\n",
       "      <td>5.990</td>\n",
       "      <td>259</td>\n",
       "      <td>10</td>\n",
       "      <td>7849300</td>\n",
       "      <td>4</td>\n",
       "      <td>1</td>\n",
       "      <td>30</td>\n",
       "      <td>-0.008114</td>\n",
       "    </tr>\n",
       "    <tr>\n",
       "      <th>2021-10-01 02:00:00</th>\n",
       "      <td>5.990</td>\n",
       "      <td>6.027</td>\n",
       "      <td>5.986</td>\n",
       "      <td>5.997</td>\n",
       "      <td>277</td>\n",
       "      <td>10</td>\n",
       "      <td>8385000</td>\n",
       "      <td>4</td>\n",
       "      <td>2</td>\n",
       "      <td>0</td>\n",
       "      <td>0.001169</td>\n",
       "    </tr>\n",
       "    <tr>\n",
       "      <th>2021-10-01 02:30:00</th>\n",
       "      <td>5.994</td>\n",
       "      <td>5.994</td>\n",
       "      <td>5.945</td>\n",
       "      <td>5.970</td>\n",
       "      <td>295</td>\n",
       "      <td>5</td>\n",
       "      <td>8910000</td>\n",
       "      <td>4</td>\n",
       "      <td>2</td>\n",
       "      <td>30</td>\n",
       "      <td>-0.004004</td>\n",
       "    </tr>\n",
       "    <tr>\n",
       "      <th>2021-10-01 03:00:00</th>\n",
       "      <td>5.971</td>\n",
       "      <td>6.021</td>\n",
       "      <td>5.964</td>\n",
       "      <td>5.992</td>\n",
       "      <td>357</td>\n",
       "      <td>15</td>\n",
       "      <td>10760000</td>\n",
       "      <td>4</td>\n",
       "      <td>3</td>\n",
       "      <td>0</td>\n",
       "      <td>0.003517</td>\n",
       "    </tr>\n",
       "    <tr>\n",
       "      <th>...</th>\n",
       "      <td>...</td>\n",
       "      <td>...</td>\n",
       "      <td>...</td>\n",
       "      <td>...</td>\n",
       "      <td>...</td>\n",
       "      <td>...</td>\n",
       "      <td>...</td>\n",
       "      <td>...</td>\n",
       "      <td>...</td>\n",
       "      <td>...</td>\n",
       "      <td>...</td>\n",
       "    </tr>\n",
       "    <tr>\n",
       "      <th>2021-10-29 22:00:00</th>\n",
       "      <td>5.499</td>\n",
       "      <td>5.554</td>\n",
       "      <td>5.490</td>\n",
       "      <td>5.533</td>\n",
       "      <td>1524</td>\n",
       "      <td>13</td>\n",
       "      <td>15225000</td>\n",
       "      <td>4</td>\n",
       "      <td>22</td>\n",
       "      <td>0</td>\n",
       "      <td>0.006183</td>\n",
       "    </tr>\n",
       "    <tr>\n",
       "      <th>2021-10-29 22:30:00</th>\n",
       "      <td>5.533</td>\n",
       "      <td>5.554</td>\n",
       "      <td>5.489</td>\n",
       "      <td>5.548</td>\n",
       "      <td>1334</td>\n",
       "      <td>14</td>\n",
       "      <td>13289000</td>\n",
       "      <td>4</td>\n",
       "      <td>22</td>\n",
       "      <td>30</td>\n",
       "      <td>0.002711</td>\n",
       "    </tr>\n",
       "    <tr>\n",
       "      <th>2021-10-29 23:00:00</th>\n",
       "      <td>5.547</td>\n",
       "      <td>5.582</td>\n",
       "      <td>5.547</td>\n",
       "      <td>5.559</td>\n",
       "      <td>680</td>\n",
       "      <td>10</td>\n",
       "      <td>6746000</td>\n",
       "      <td>4</td>\n",
       "      <td>23</td>\n",
       "      <td>0</td>\n",
       "      <td>0.002163</td>\n",
       "    </tr>\n",
       "    <tr>\n",
       "      <th>2021-10-29 23:30:00</th>\n",
       "      <td>5.560</td>\n",
       "      <td>5.582</td>\n",
       "      <td>5.544</td>\n",
       "      <td>5.576</td>\n",
       "      <td>439</td>\n",
       "      <td>10</td>\n",
       "      <td>4336000</td>\n",
       "      <td>4</td>\n",
       "      <td>23</td>\n",
       "      <td>30</td>\n",
       "      <td>0.002878</td>\n",
       "    </tr>\n",
       "    <tr>\n",
       "      <th>2021-11-01 00:00:00</th>\n",
       "      <td>5.341</td>\n",
       "      <td>5.366</td>\n",
       "      <td>5.319</td>\n",
       "      <td>5.349</td>\n",
       "      <td>640</td>\n",
       "      <td>4</td>\n",
       "      <td>6349000</td>\n",
       "      <td>0</td>\n",
       "      <td>0</td>\n",
       "      <td>0</td>\n",
       "      <td>0.001498</td>\n",
       "    </tr>\n",
       "  </tbody>\n",
       "</table>\n",
       "<p>967 rows × 11 columns</p>\n",
       "</div>"
      ],
      "text/plain": [
       "                      open   high    low  close  tick_volume  spread  \\\n",
       "timestamp                                                              \n",
       "2021-10-01 01:00:00  6.004  6.057  5.998  6.039          446      10   \n",
       "2021-10-01 01:30:00  6.039  6.048  5.981  5.990          259      10   \n",
       "2021-10-01 02:00:00  5.990  6.027  5.986  5.997          277      10   \n",
       "2021-10-01 02:30:00  5.994  5.994  5.945  5.970          295       5   \n",
       "2021-10-01 03:00:00  5.971  6.021  5.964  5.992          357      15   \n",
       "...                    ...    ...    ...    ...          ...     ...   \n",
       "2021-10-29 22:00:00  5.499  5.554  5.490  5.533         1524      13   \n",
       "2021-10-29 22:30:00  5.533  5.554  5.489  5.548         1334      14   \n",
       "2021-10-29 23:00:00  5.547  5.582  5.547  5.559          680      10   \n",
       "2021-10-29 23:30:00  5.560  5.582  5.544  5.576          439      10   \n",
       "2021-11-01 00:00:00  5.341  5.366  5.319  5.349          640       4   \n",
       "\n",
       "                     real_volume  weekday  hour  minute    return  \n",
       "timestamp                                                          \n",
       "2021-10-01 01:00:00     13425000        4     1       0  0.005829  \n",
       "2021-10-01 01:30:00      7849300        4     1      30 -0.008114  \n",
       "2021-10-01 02:00:00      8385000        4     2       0  0.001169  \n",
       "2021-10-01 02:30:00      8910000        4     2      30 -0.004004  \n",
       "2021-10-01 03:00:00     10760000        4     3       0  0.003517  \n",
       "...                          ...      ...   ...     ...       ...  \n",
       "2021-10-29 22:00:00     15225000        4    22       0  0.006183  \n",
       "2021-10-29 22:30:00     13289000        4    22      30  0.002711  \n",
       "2021-10-29 23:00:00      6746000        4    23       0  0.002163  \n",
       "2021-10-29 23:30:00      4336000        4    23      30  0.002878  \n",
       "2021-11-01 00:00:00      6349000        0     0       0  0.001498  \n",
       "\n",
       "[967 rows x 11 columns]"
      ]
     },
     "execution_count": 7,
     "metadata": {},
     "output_type": "execute_result"
    }
   ],
   "source": [
    "dfOhlc"
   ]
  },
  {
   "cell_type": "code",
   "execution_count": 8,
   "id": "d915b40d",
   "metadata": {},
   "outputs": [
    {
     "data": {
      "text/plain": [
       "<matplotlib.axes._subplots.AxesSubplot at 0x20219e41248>"
      ]
     },
     "execution_count": 8,
     "metadata": {},
     "output_type": "execute_result"
    },
    {
     "data": {
      "image/png": "[encoded data removed]",
      "text/plain": [
       "<Figure size 432x288 with 1 Axes>"
      ]
     },
     "metadata": {
      "needs_background": "light"
     },
     "output_type": "display_data"
    }
   ],
   "source": [
    "sns.lineplot(data  = dfOhlc[\"close\"])"
   ]
  },
  {
   "cell_type": "markdown",
   "id": "34801cd6",
   "metadata": {},
   "source": [
    "# PREPROCESSING"
   ]
  },
  {
   "cell_type": "code",
   "execution_count": 9,
   "id": "137167f1",
   "metadata": {},
   "outputs": [],
   "source": [
    "sModelName = os.path.join(sSymbol , \"__deep learning model__\")"
   ]
  },
  {
   "cell_type": "markdown",
   "id": "fa542c9e",
   "metadata": {},
   "source": [
    "## Split Data"
   ]
  },
  {
   "cell_type": "code",
   "execution_count": 10,
   "id": "70088c21",
   "metadata": {
    "code_folding": []
   },
   "outputs": [],
   "source": [
    "fTrainingRatio = 0.6\n",
    "fValidationRatio = 0.2\n",
    "fTestRatio = 0.2\n",
    "\n",
    "ixTrain, ixTest = train_test_split(\n",
    "    dfOhlc.index,\n",
    "    test_size=1-fTrainingRatio,\n",
    "    shuffle=False)\n",
    "\n",
    "ixValidation, ixTest= train_test_split(\n",
    "    ixTest,\n",
    "    test_size=fTestRatio/(fTestRatio + fValidationRatio),\n",
    "    shuffle=False)"
   ]
  },
  {
   "cell_type": "markdown",
   "id": "a48e73e3",
   "metadata": {},
   "source": [
    "## Scale Data"
   ]
  },
  {
   "cell_type": "code",
   "execution_count": 11,
   "id": "32c7b72c",
   "metadata": {},
   "outputs": [],
   "source": [
    "dfScaledOhlc = pd.DataFrame(index = dfOhlc.index, columns  = dfOhlc.columns)\n",
    "\n",
    "\n",
    "for sColumn in dfOhlc.columns:\n",
    "    oScaler = StandardScaler()\n",
    "    \n",
    "    dfTrain = pd.DataFrame(dfOhlc.loc[ixTrain, sColumn])\n",
    "    dfValidation = pd.DataFrame(dfOhlc.loc[ixValidation, sColumn])\n",
    "    dfTest = pd.DataFrame(dfOhlc.loc[ixTest, sColumn])\n",
    "    \n",
    "    oScaler.fit(dfTrain)\n",
    "    \n",
    "    dfScaledOhlc.loc[ixTrain, sColumn] = np.reshape(oScaler.transform(dfTrain), (-1))\n",
    "    dfScaledOhlc.loc[ixValidation, sColumn] = np.reshape(oScaler.transform(dfValidation), (-1))\n",
    "    dfScaledOhlc.loc[ixTest, sColumn] = np.reshape(oScaler.transform(dfTest), (-1))\n",
    "\n",
    "    sScalerFilePath = os.path.join(sModelName , \"__scalers__\")\n",
    "    sScalerFilePath = os.path.join(sScalerFilePath , sColumn + \".sav\")\n",
    "    os.makedirs(os.path.dirname(sScalerFilePath), exist_ok=True)\n",
    "    pickle.dump(oScaler, open(sScalerFilePath, 'wb'))"
   ]
  },
  {
   "cell_type": "markdown",
   "id": "e4f452e4",
   "metadata": {},
   "source": [
    "## Feature Engineering"
   ]
  },
  {
   "cell_type": "code",
   "execution_count": 12,
   "id": "1449fbb7",
   "metadata": {},
   "outputs": [],
   "source": [
    "aInputFeatures = ['open', 'high', 'low', 'close', 'tick_volume', 'spread', 'real_volume','weekday', 'hour', 'minute']\n",
    "iBackwardTimeWindow = 8\n",
    "iNrInputFeatures = len(aInputFeatures)\n",
    "aBackwardTimeSteps = range(-iBackwardTimeWindow, 0)\n",
    "\n",
    "tplInputColumns = list(itertools.product(aBackwardTimeSteps, aInputFeatures))\n",
    "miInputColums = pd.MultiIndex.from_tuples(tplInputColumns, names= [\"time_step\", \"feature\"])\n",
    "\n",
    "dfInput = pd.DataFrame( columns = miInputColums)\n",
    "\n",
    "for i in aBackwardTimeSteps:\n",
    "    for sInputFeature in aInputFeatures:\n",
    "        dfInput.loc[:, (i, sInputFeature)] = dfScaledOhlc[sInputFeature].shift(-i)"
   ]
  },
  {
   "cell_type": "code",
   "execution_count": 13,
   "id": "ce152a53",
   "metadata": {},
   "outputs": [],
   "source": [
    "aOutputFeatures = ['return']\n",
    "iForwardTimeWindow  =  8\n",
    "iNrOutputFeatures = len(aOutputFeatures)\n",
    "aForwardTimeSteps = range(0, iForwardTimeWindow)\n",
    "\n",
    "tplOutputColumns = list(itertools.product(aForwardTimeSteps, aOutputFeatures))\n",
    "ixOutputColums = pd.MultiIndex.from_tuples(tplOutputColumns, names= [\"time_step\", \"feature\"])\n",
    "\n",
    "dfOutput = pd.DataFrame(columns = ixOutputColums)\n",
    "\n",
    "for i in aForwardTimeSteps:\n",
    "    for sOutputFeature in aOutputFeatures:\n",
    "        dfOutput.loc[:, (i, sOutputFeature)] = dfScaledOhlc[sOutputFeature].shift(-i)"
   ]
  },
  {
   "cell_type": "code",
   "execution_count": 14,
   "id": "296eec07",
   "metadata": {},
   "outputs": [],
   "source": [
    "dfMerged = dfInput.join(dfOutput, how= \"inner\")\n",
    "dfMerged.dropna(inplace=True)\n",
    "dfInput = dfMerged[dfInput.columns]\n",
    "dfOutput = dfMerged[dfOutput.columns]\n",
    "ixTrain = ixTrain.join(dfMerged.index, how = \"inner\")\n",
    "ixValidation = ixValidation.join(dfMerged.index, how = \"inner\")\n",
    "ixTest = ixTest.join(dfMerged.index, how = \"inner\")"
   ]
  },
  {
   "cell_type": "code",
   "execution_count": 15,
   "id": "96e399d4",
   "metadata": {},
   "outputs": [],
   "source": [
    "dfInputTrain = dfInput.loc[ixTrain]\n",
    "aInputTrain = np.reshape(dfInputTrain.values, (dfInputTrain.shape[0], iBackwardTimeWindow, iNrInputFeatures))\n",
    "\n",
    "dfInputValidation = dfInput.loc[ixValidation]\n",
    "aInputValidation = np.reshape(dfInputValidation.values, (dfInputValidation.shape[0], iBackwardTimeWindow, iNrInputFeatures))\n",
    "\n",
    "dfInputTest = dfInput.loc[ixTest]\n",
    "aInputTest = np.reshape(dfInputTest.values, (dfInputTest.shape[0], iBackwardTimeWindow, iNrInputFeatures))\n",
    "\n",
    "dfOutputTrain = dfOutput.loc[ixTrain]\n",
    "aOutputTrain = np.reshape(dfOutputTrain.values, (dfOutputTrain.shape[0], iForwardTimeWindow, iNrOutputFeatures))\n",
    "\n",
    "dfOutputValidation = dfOutput.loc[ixValidation]\n",
    "aOutputValidation = np.reshape(dfOutputValidation.values, (dfOutputValidation.shape[0], iForwardTimeWindow, iNrOutputFeatures))\n",
    "\n",
    "dfOutputTest = dfOutput.loc[ixTest]\n",
    "aOutputTest = np.reshape(dfOutputTest.values, (dfOutputTest.shape[0], iForwardTimeWindow, iNrOutputFeatures))"
   ]
  },
  {
   "cell_type": "code",
   "execution_count": 16,
   "id": "76ce37ad",
   "metadata": {},
   "outputs": [],
   "source": [
    "aInputTrain = np.asarray(aInputTrain, np.float32)\n",
    "aInputValidation = np.asarray(aInputValidation, np.float32)\n",
    "aInputTest = np.asarray(aInputTest, np.float32)\n",
    "aOutputTrain = np.asarray(aOutputTrain, np.float32)\n",
    "aOutputValidation = np.asarray(aOutputValidation, np.float32)\n",
    "aOutputTest = np.asarray(aOutputTest, np.float32)"
   ]
  },
  {
   "cell_type": "markdown",
   "id": "52944fb0",
   "metadata": {},
   "source": [
    "## Train"
   ]
  },
  {
   "cell_type": "markdown",
   "id": "e253bd8c",
   "metadata": {},
   "source": [
    "### Set Hyperparameters"
   ]
  },
  {
   "cell_type": "code",
   "execution_count": 17,
   "id": "a484f077",
   "metadata": {},
   "outputs": [],
   "source": [
    "iBatchSize = 64\n",
    "iEpochSize = 10000\n",
    "iNrOfHiddenNeurons = 32\n",
    "\n",
    "oOptimizer = tf.keras.optimizers.Adam(learning_rate=1e-05)\n",
    "\n",
    "fncLoss =  tf.keras.losses.MeanSquaredError()\n",
    "\n",
    "oEarlyStop = EarlyStopping(\n",
    "    monitor = 'val_loss', \n",
    "    mode = 'min', \n",
    "    verbose = 0 , \n",
    "    patience = 20, \n",
    "    restore_best_weights = True)"
   ]
  },
  {
   "cell_type": "markdown",
   "id": "a75b209e",
   "metadata": {},
   "source": [
    "### Build Model"
   ]
  },
  {
   "cell_type": "code",
   "execution_count": 18,
   "id": "cbc5765c",
   "metadata": {},
   "outputs": [
    {
     "name": "stdout",
     "output_type": "stream",
     "text": [
      "WARNING:tensorflow:Layer lstm will not use cuDNN kernels since it doesn't meet the criteria. It will use a generic GPU kernel as fallback when running on GPU.\n",
      "WARNING:tensorflow:Layer lstm_1 will not use cuDNN kernels since it doesn't meet the criteria. It will use a generic GPU kernel as fallback when running on GPU.\n"
     ]
    }
   ],
   "source": [
    "aEncoderInputs = keras.Input(\n",
    "    shape=(iBackwardTimeWindow, iNrInputFeatures), \n",
    "    name=\"aEncoderInputs\")\n",
    "\n",
    "aEncoderHiddens, aFinalH, aFinalC = LSTM(iNrOfHiddenNeurons,\n",
    "                                         return_state = True, \n",
    "                                         return_sequences = True,\n",
    "                                         activation = keras.activations.linear\n",
    "                                        )(aEncoderInputs)\n",
    "# aFinalH = keras.layers.BatchNormalization(momentum=0.6)(aFinalH)\n",
    "# aFinalC = keras.layers.BatchNormalization(momentum=0.6)(aFinalC)\n",
    "\n",
    "aDecoderInputs = keras.layers.RepeatVector(iForwardTimeWindow)(aFinalH)\n",
    "\n",
    "aDecoderHiddens = LSTM(iNrOfHiddenNeurons, \n",
    "                       return_state = False, \n",
    "                       return_sequences = True,\n",
    "                       activation = keras.activations.linear\n",
    "                      )(aDecoderInputs, initial_state=[aFinalH, aFinalC])\n",
    "\n",
    "# aAttentions = keras.layers.dot([aDecoderHiddens, aEncoderHiddens], axes=[2, 2])\n",
    "# aAttentions = keras.layers.Activation('softmax')(aAttentions)\n",
    "\n",
    "# aContextVector = keras.layers.dot([aAttentions, aEncoderHiddens], axes=[2,1])\n",
    "# aContextVector = keras.layers.BatchNormalization(momentum=0.6)(aContextVector)\n",
    "# aContextVector = keras.layers.concatenate([aContextVector, aDecoderHiddens])\n",
    "\n",
    "aContextVector = aDecoderHiddens\n",
    "aDecoderOutputs = keras.layers.TimeDistributed(\n",
    "    Dense(iNrOutputFeatures)\n",
    ")(aContextVector)\n",
    "\n",
    "oPredictiveModel = keras.Model(\n",
    "    inputs=aEncoderInputs,\n",
    "    outputs=aDecoderOutputs\n",
    ")"
   ]
  },
  {
   "cell_type": "markdown",
   "id": "19a5c23e",
   "metadata": {},
   "source": [
    "### Compile Model"
   ]
  },
  {
   "cell_type": "code",
   "execution_count": 19,
   "id": "a8349125",
   "metadata": {},
   "outputs": [],
   "source": [
    "oFnLoss =  tf.keras.losses.MeanSquaredError()\n",
    "oPredictiveModel.compile(optimizer=oOptimizer,\n",
    "                         loss = oFnLoss\n",
    "                        )"
   ]
  },
  {
   "cell_type": "markdown",
   "id": "dedaa4fc",
   "metadata": {},
   "source": [
    "### Fit Model"
   ]
  },
  {
   "cell_type": "code",
   "execution_count": null,
   "id": "3871f87c",
   "metadata": {},
   "outputs": [
    {
     "name": "stdout",
     "output_type": "stream",
     "text": [
      "Epoch 1/10000\n",
      "9/9 [==============================] - 11s 190ms/step - loss: 1.0363 - val_loss: 0.5035\n",
      "Epoch 2/10000\n",
      "9/9 [==============================] - 1s 94ms/step - loss: 1.0354 - val_loss: 0.5028\n",
      "Epoch 3/10000\n",
      "9/9 [==============================] - 1s 88ms/step - loss: 1.0346 - val_loss: 0.5023\n",
      "Epoch 4/10000\n",
      "9/9 [==============================] - 1s 102ms/step - loss: 1.0339 - val_loss: 0.5017\n",
      "Epoch 5/10000\n",
      "9/9 [==============================] - 1s 88ms/step - loss: 1.0331 - val_loss: 0.5011\n",
      "Epoch 6/10000\n",
      "9/9 [==============================] - 1s 116ms/step - loss: 1.0324 - val_loss: 0.5006\n",
      "Epoch 7/10000\n",
      "9/9 [==============================] - 1s 99ms/step - loss: 1.0317 - val_loss: 0.5000\n",
      "Epoch 8/10000\n",
      "9/9 [==============================] - 1s 104ms/step - loss: 1.0311 - val_loss: 0.4995\n",
      "Epoch 9/10000\n",
      "9/9 [==============================] - 1s 120ms/step - loss: 1.0304 - val_loss: 0.4991\n",
      "Epoch 10/10000\n",
      "9/9 [==============================] - 1s 108ms/step - loss: 1.0298 - val_loss: 0.4986\n",
      "Epoch 11/10000\n",
      "9/9 [==============================] - 1s 157ms/step - loss: 1.0292 - val_loss: 0.4982\n",
      "Epoch 12/10000\n",
      "9/9 [==============================] - 1s 110ms/step - loss: 1.0286 - val_loss: 0.4979\n",
      "Epoch 13/10000\n",
      "9/9 [==============================] - 1s 100ms/step - loss: 1.0280 - val_loss: 0.4974\n",
      "Epoch 14/10000\n",
      "9/9 [==============================] - 1s 103ms/step - loss: 1.0275 - val_loss: 0.4970\n",
      "Epoch 15/10000\n",
      "9/9 [==============================] - 1s 123ms/step - loss: 1.0269 - val_loss: 0.4967\n",
      "Epoch 16/10000\n",
      "9/9 [==============================] - 1s 85ms/step - loss: 1.0263 - val_loss: 0.4963\n",
      "Epoch 17/10000\n",
      "9/9 [==============================] - 1s 94ms/step - loss: 1.0258 - val_loss: 0.4959\n",
      "Epoch 18/10000\n",
      "9/9 [==============================] - 1s 99ms/step - loss: 1.0254 - val_loss: 0.4956\n",
      "Epoch 19/10000\n",
      "9/9 [==============================] - 1s 116ms/step - loss: 1.0249 - val_loss: 0.4953\n",
      "Epoch 20/10000\n",
      "9/9 [==============================] - 1s 133ms/step - loss: 1.0244 - val_loss: 0.4949\n",
      "Epoch 21/10000\n",
      "9/9 [==============================] - 2s 238ms/step - loss: 1.0239 - val_loss: 0.4947\n",
      "Epoch 22/10000\n",
      "9/9 [==============================] - 2s 191ms/step - loss: 1.0234 - val_loss: 0.4944\n",
      "Epoch 23/10000\n",
      "9/9 [==============================] - 2s 177ms/step - loss: 1.0230 - val_loss: 0.4941\n",
      "Epoch 24/10000\n",
      "9/9 [==============================] - 2s 197ms/step - loss: 1.0225 - val_loss: 0.4938\n",
      "Epoch 25/10000\n",
      "9/9 [==============================] - 2s 200ms/step - loss: 1.0221 - val_loss: 0.4935\n",
      "Epoch 26/10000\n",
      "9/9 [==============================] - 2s 240ms/step - loss: 1.0217 - val_loss: 0.4933\n",
      "Epoch 27/10000\n",
      "9/9 [==============================] - 2s 213ms/step - loss: 1.0213 - val_loss: 0.4930\n",
      "Epoch 28/10000\n",
      "9/9 [==============================] - 2s 184ms/step - loss: 1.0209 - val_loss: 0.4927\n",
      "Epoch 29/10000\n",
      "9/9 [==============================] - 2s 181ms/step - loss: 1.0205 - val_loss: 0.4925\n",
      "Epoch 30/10000\n",
      "9/9 [==============================] - 1s 124ms/step - loss: 1.0201 - val_loss: 0.4922\n",
      "Epoch 31/10000\n",
      "9/9 [==============================] - 1s 144ms/step - loss: 1.0197 - val_loss: 0.4920\n",
      "Epoch 32/10000\n",
      "9/9 [==============================] - 1s 146ms/step - loss: 1.0193 - val_loss: 0.4917\n",
      "Epoch 33/10000\n",
      "9/9 [==============================] - 1s 141ms/step - loss: 1.0189 - val_loss: 0.4915\n",
      "Epoch 34/10000\n",
      "9/9 [==============================] - 1s 120ms/step - loss: 1.0186 - val_loss: 0.4913\n",
      "Epoch 35/10000\n",
      "9/9 [==============================] - 1s 123ms/step - loss: 1.0182 - val_loss: 0.4911\n",
      "Epoch 36/10000\n",
      "9/9 [==============================] - 1s 137ms/step - loss: 1.0179 - val_loss: 0.4908\n",
      "Epoch 37/10000\n",
      "9/9 [==============================] - 1s 139ms/step - loss: 1.0175 - val_loss: 0.4906\n",
      "Epoch 38/10000\n",
      "9/9 [==============================] - 1s 102ms/step - loss: 1.0172 - val_loss: 0.4904\n",
      "Epoch 39/10000\n",
      "9/9 [==============================] - 1s 120ms/step - loss: 1.0169 - val_loss: 0.4902\n",
      "Epoch 40/10000\n",
      "9/9 [==============================] - 1s 162ms/step - loss: 1.0166 - val_loss: 0.4899\n",
      "Epoch 41/10000\n",
      "9/9 [==============================] - 1s 143ms/step - loss: 1.0162 - val_loss: 0.4898\n",
      "Epoch 42/10000\n",
      "9/9 [==============================] - 1s 98ms/step - loss: 1.0159 - val_loss: 0.4895\n",
      "Epoch 43/10000\n",
      "9/9 [==============================] - 1s 118ms/step - loss: 1.0156 - val_loss: 0.4894\n",
      "Epoch 44/10000\n",
      "9/9 [==============================] - 1s 117ms/step - loss: 1.0153 - val_loss: 0.4891\n",
      "Epoch 45/10000\n",
      "9/9 [==============================] - 1s 124ms/step - loss: 1.0150 - val_loss: 0.4890\n",
      "Epoch 46/10000\n",
      "9/9 [==============================] - 1s 136ms/step - loss: 1.0147 - val_loss: 0.4888\n",
      "Epoch 47/10000\n",
      "9/9 [==============================] - 1s 115ms/step - loss: 1.0144 - val_loss: 0.4886\n",
      "Epoch 48/10000\n",
      "9/9 [==============================] - 1s 103ms/step - loss: 1.0141 - val_loss: 0.4884\n",
      "Epoch 49/10000\n",
      "9/9 [==============================] - 1s 142ms/step - loss: 1.0138 - val_loss: 0.4882\n",
      "Epoch 50/10000\n",
      "9/9 [==============================] - 1s 122ms/step - loss: 1.0135 - val_loss: 0.4880\n",
      "Epoch 51/10000\n",
      "9/9 [==============================] - 1s 127ms/step - loss: 1.0132 - val_loss: 0.4879\n",
      "Epoch 52/10000\n",
      "9/9 [==============================] - 1s 135ms/step - loss: 1.0130 - val_loss: 0.4877\n",
      "Epoch 53/10000\n",
      "9/9 [==============================] - 1s 105ms/step - loss: 1.0127 - val_loss: 0.4875\n",
      "Epoch 54/10000\n",
      "9/9 [==============================] - 1s 97ms/step - loss: 1.0124 - val_loss: 0.4873\n",
      "Epoch 55/10000\n",
      "9/9 [==============================] - 1s 102ms/step - loss: 1.0122 - val_loss: 0.4871\n",
      "Epoch 56/10000\n",
      "9/9 [==============================] - 1s 111ms/step - loss: 1.0119 - val_loss: 0.4870\n",
      "Epoch 57/10000\n",
      "9/9 [==============================] - 1s 119ms/step - loss: 1.0116 - val_loss: 0.4868\n",
      "Epoch 58/10000\n",
      "9/9 [==============================] - 1s 100ms/step - loss: 1.0114 - val_loss: 0.4866\n",
      "Epoch 59/10000\n",
      "1/9 [==>...........................] - ETA: 0s - loss: 0.9096"
     ]
    }
   ],
   "source": [
    "oPredictiveModel.fit(\n",
    "    aInputTrain, \n",
    "    aOutputTrain, \n",
    "    epochs=iEpochSize, \n",
    "    batch_size=iBatchSize, \n",
    "    verbose=1, \n",
    "    validation_data= (aInputValidation, aOutputValidation),\n",
    "    validation_batch_size= iBatchSize,\n",
    "    callbacks=[oEarlyStop]\n",
    ")"
   ]
  },
  {
   "cell_type": "markdown",
   "id": "680ac53a",
   "metadata": {},
   "source": [
    "### Save Model"
   ]
  },
  {
   "cell_type": "code",
   "execution_count": null,
   "id": "e8f88fe1",
   "metadata": {},
   "outputs": [],
   "source": [
    "oPredictiveModel.save_weights(sModelName)"
   ]
  },
  {
   "cell_type": "code",
   "execution_count": null,
   "id": "141bb9fc",
   "metadata": {},
   "outputs": [],
   "source": [
    "pd.DataFrame(oPredictiveModel.history.history).plot()"
   ]
  },
  {
   "cell_type": "markdown",
   "id": "75633cc0",
   "metadata": {},
   "source": [
    "## Test"
   ]
  },
  {
   "cell_type": "code",
   "execution_count": null,
   "id": "4d372e80",
   "metadata": {},
   "outputs": [],
   "source": [
    "oPredictiveModel.load_weights(sModelName)\n",
    "\n",
    "aPrediction = oPredictiveModel.predict(aInputTest)\n",
    "aPrediction = aPrediction.reshape((-1, iForwardTimeWindow * iNrOutputFeatures))\n",
    "dfPrediction = pd.DataFrame(aPrediction, index = ixTest, columns = ixOutputColums)\n",
    "\n",
    "aActual = aOutputTest.reshape((-1, iForwardTimeWindow * iNrOutputFeatures))\n",
    "dfActual =  pd.DataFrame(aActual, index = ixTest, columns = ixOutputColums)\n",
    "\n",
    "for sOutputFeature in aOutputFeatures:\n",
    "    sScalerFilePath = os.path.join(sModelName , \"__scalers__\")\n",
    "    sScalerFilePath = os.path.join(sScalerFilePath , sOutputFeature + \".sav\")\n",
    "    oScaler = pickle.load(open(sScalerFilePath, 'rb'))\n",
    "    \n",
    "    tplMaskFeature = (slice(None), slice(sOutputFeature))\n",
    "    \n",
    "    dfPrediction.loc[:,tplMaskFeature] = oScaler.inverse_transform(dfPrediction.loc[:, tplMaskFeature])\n",
    "    dfActual.loc[:, tplMaskFeature] =  oScaler.inverse_transform(dfActual.loc[:, tplMaskFeature])"
   ]
  },
  {
   "cell_type": "markdown",
   "id": "c8cf6922",
   "metadata": {},
   "source": [
    "# RESULTS"
   ]
  },
  {
   "cell_type": "code",
   "execution_count": null,
   "id": "99cf53a7",
   "metadata": {},
   "outputs": [],
   "source": [
    "iComparisionTimeStep = 5\n",
    "iFrom = 15 * iForwardTimeWindow\n",
    "iTo = iFrom + iForwardTimeWindow"
   ]
  },
  {
   "cell_type": "code",
   "execution_count": null,
   "id": "5f8f2409",
   "metadata": {
    "scrolled": true
   },
   "outputs": [],
   "source": [
    "y_pred = dfPrediction.iloc[:, iComparisionTimeStep]\n",
    "y_true = dfActual.iloc[:, iComparisionTimeStep]\n",
    "aMetrics = [\n",
    "        ('mean absolute error', mean_absolute_error(y_true, y_pred)),\n",
    "        ('mean squared error', mean_squared_error(y_true, y_pred)),\n",
    "        ('max error', max_error(y_true, y_pred)),\n",
    "        ('r2 score', r2_score(y_true, y_pred))\n",
    "    ]\n",
    "\n",
    "print('Metrics for regression:')\n",
    "for metric_name, metric_value in aMetrics:\n",
    "    print(f'{metric_name:>25s}: {metric_value: >20.3f}')"
   ]
  },
  {
   "cell_type": "code",
   "execution_count": null,
   "id": "245d4b4b",
   "metadata": {},
   "outputs": [],
   "source": [
    "dfTestComparision = pd.DataFrame(dfPrediction.iloc[:,iComparisionTimeStep])\n",
    "dfTestComparision = dfTestComparision.join(dfActual.iloc[:,iComparisionTimeStep], how = \"inner\", lsuffix=\"prediction\")\n",
    "dfTestComparision.columns = [\"Prediction\", \"Actual\"]\n",
    "\n",
    "sns.scatterplot(data = dfTestComparision, x = \"Actual\", y =\"Prediction\")"
   ]
  },
  {
   "cell_type": "code",
   "execution_count": null,
   "id": "f2db4bfc",
   "metadata": {},
   "outputs": [],
   "source": [
    "dfStepComparision = dfActual.iloc[iFrom:iTo].loc[:, (slice(None), slice(sOutputFeature))].loc[:, 0]\n",
    "dfStepComparision.columns = [\"Actual\"]\n",
    "\n",
    "dfStepComparision[\"Prediction\"] = dfPrediction.iloc[iFrom].loc[:, aOutputFeatures].values\n",
    "\n",
    "print(r2_score(dfStepComparision[\"Actual\"], dfStepComparision[\"Prediction\"]))\n",
    "sns.lineplot(data = dfStepComparision)"
   ]
  },
  {
   "cell_type": "code",
   "execution_count": null,
   "id": "f9847276",
   "metadata": {},
   "outputs": [],
   "source": [
    "sns.lineplot(data = dfTestComparision[\"Actual\"])"
   ]
  },
  {
   "cell_type": "code",
   "execution_count": null,
   "id": "2d3a8b77",
   "metadata": {},
   "outputs": [],
   "source": [
    "sns.lineplot(data = dfTestComparision[\"Prediction\"])"
   ]
  },
  {
   "cell_type": "markdown",
   "id": "75ca3ab0",
   "metadata": {},
   "source": [
    "# REFERENCES"
   ]
  },
  {
   "cell_type": "markdown",
   "id": "49501761",
   "metadata": {},
   "source": [
    "https://www.tensorflow.org/guide/keras/train_and_evaluate#passing_data_to_multi-input_multi-output_models\n",
    "\n",
    "https://www.tensorflow.org/guide/keras/writing_a_training_loop_from_scratch/\n",
    "\n",
    "https://www.tensorflow.org/guide/keras/customizing_what_happens_in_fit/\n",
    "\n",
    "https://towardsdatascience.com/customize-loss-function-to-make-lstm-model-more-applicable-in-stock-price-prediction-b1c50e50b16c\n",
    "\n",
    "https://keras.io/getting_started/faq/\n",
    "\n",
    "https://machinelearningmastery.com/how-to-develop-lstm-models-for-multi-step-time-series-forecasting-of-household-power-consumption/\n",
    "\n",
    "https://www.tensorflow.org/tutorials/structured_data/time_series\n",
    "\n",
    "https://towardsdatascience.com/encoder-decoder-model-for-multistep-time-series-forecasting-using-pytorch-5d54c6af6e60\n",
    "\n",
    "https://levelup.gitconnected.com/building-seq2seq-lstm-with-luong-attention-in-keras-for-time-series-forecasting-1ee00958decb"
   ]
  }
 ],
 "metadata": {
  "kernelspec": {
   "display_name": "Python 3",
   "language": "python",
   "name": "python3"
  },
  "language_info": {
   "codemirror_mode": {
    "name": "ipython",
    "version": 3
   },
   "file_extension": ".py",
   "mimetype": "text/x-python",
   "name": "python",
   "nbconvert_exporter": "python",
   "pygments_lexer": "ipython3",
   "version": "3.7.10"
  },
  "varInspector": {
   "cols": {
    "lenName": 16,
    "lenType": 16,
    "lenVar": 40
   },
   "kernels_config": {
    "python": {
     "delete_cmd_postfix": "",
     "delete_cmd_prefix": "del ",
     "library": "var_list.py",
     "varRefreshCmd": "print(var_dic_list())"
    },
    "r": {
     "delete_cmd_postfix": ") ",
     "delete_cmd_prefix": "rm(",
     "library": "var_list.r",
     "varRefreshCmd": "cat(var_dic_list()) "
    }
   },
   "types_to_exclude": [
    "module",
    "function",
    "builtin_function_or_method",
    "instance",
    "_Feature"
   ],
   "window_display": false
  }
 },
 "nbformat": 4,
 "nbformat_minor": 5
}
