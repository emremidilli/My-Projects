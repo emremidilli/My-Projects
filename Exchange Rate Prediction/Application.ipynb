{
 "cells": [
  {
   "cell_type": "code",
   "execution_count": 1,
   "id": "0611acbc",
   "metadata": {},
   "outputs": [],
   "source": [
    "import pandas as pd\n",
    "from datetime import datetime\n",
    "import MetaTrader5 as mt5\n",
    "import pytz\n",
    "import sys\n",
    "import pickle\n",
    "import os\n",
    "from sklearn.preprocessing import MinMaxScaler\n",
    "from sklearn.preprocessing import StandardScaler\n",
    "from sklearn.model_selection import train_test_split\n",
    "from sklearn.metrics import classification_report\n",
    "from sklearn.utils import shuffle\n",
    "from sklearn import metrics\n",
    "from sklearn.metrics import mean_absolute_error, mean_squared_error, max_error, median_absolute_error, r2_score, explained_variance_score\n",
    "\n",
    "import seaborn as sns\n",
    "\n",
    "from Long_Short_Term_Memory import Long_Short_Term_Memory\n",
    "from Optimize_Portfolio import PortfolioManagement\n",
    "import ta\n",
    "from scipy.stats import zscore\n",
    "import numpy as np\n",
    "import scipy.stats as st\n",
    "\n",
    "import os\n",
    "import pandas as pd\n",
    "os.environ['TF_CPP_MIN_LOG_LEVEL'] = '2' \n",
    "import tensorflow as tf\n",
    "from tensorflow.keras import Sequential\n",
    "from tensorflow.keras.layers import Dense\n",
    "from tensorflow.keras.callbacks import EarlyStopping\n",
    "from tensorflow.keras.layers import LSTM\n",
    "from tensorflow.keras import regularizers"
   ]
  },
  {
   "cell_type": "code",
   "execution_count": 2,
   "id": "3c6fc32d",
   "metadata": {},
   "outputs": [],
   "source": [
    "gc_o_TIME_ZONE = pytz.timezone(\"Etc/UTC\")\n",
    "gc_dt_FROM = datetime(2013, 1, 1, tzinfo=gc_o_TIME_ZONE)\n",
    "gc_dt_TO = datetime(2021, 10, 28, tzinfo=gc_o_TIME_ZONE)\n",
    "gc_dt_SIMULATION_MODEL_FROM = \"2021-09-01 00:00:00\"\n",
    "\n",
    "\n",
    "gc_a_SYMBOLS = []\n",
    "\n",
    "\n",
    "gc_i_BACKWARD_TIME_WINDOW = -1\n",
    "gc_i_FORWARD_TIME_WINDOW = 5\n",
    "\n",
    "\n",
    "gc_dec_TRAINING_RATIO = 0.6\n",
    "gc_dec_VALIDATION_RATIO = 0.2\n",
    "gc_dec_TEST_RATIO = 0.2\n",
    "\n",
    "\n",
    "gc_dec_MAX_RISK_RMSE = 0.10\n",
    "gc_dec_INITIAL_BALANCE = 1000\n",
    "\n",
    "\n",
    "g_aBackwardTimeSteps = range(gc_i_BACKWARD_TIME_WINDOW, 0)\n",
    "g_aForwardTimeSteps = range(0, gc_i_FORWARD_TIME_WINDOW)\n",
    "\n",
    "gc_i_PERIODS_OF_CLASSES = 5\n",
    "\n",
    "g_aInputFeatures = set(['open', 'high', 'low', 'close', 'spread' ,'tick_volume'])\n",
    "g_aOutputFeatures = pd.IntervalIndex.from_breaks(st.norm.ppf(np.linspace(0, 1, gc_i_PERIODS_OF_CLASSES+1)))"
   ]
  },
  {
   "cell_type": "code",
   "execution_count": 3,
   "id": "4727b224",
   "metadata": {
    "code_folding": [
     0
    ]
   },
   "outputs": [],
   "source": [
    "def ConvertSpreadValues(dfRates, aSymbolInfo):\n",
    "    iDigits = aSymbolInfo.digits\n",
    "    dfRates['spread'] = dfRates['spread'] * pow(10, -iDigits)"
   ]
  },
  {
   "cell_type": "code",
   "execution_count": 4,
   "id": "041e482c",
   "metadata": {
    "code_folding": [
     0
    ]
   },
   "outputs": [],
   "source": [
    "def dfShiftTimeSteps(dfRates, aTimeSteps):\n",
    "    \n",
    "    lstColumnNames = list([])\n",
    "    for iTimeStep in aTimeSteps:\n",
    "        for tplCol in dfRates.columns:\n",
    "            lstColumnNames.append((iTimeStep, ) + tplCol)\n",
    "    \n",
    "    \n",
    "    lstIndexNames = (\"Time Step\",) +  tuple(dfRates.columns.names)\n",
    "    \n",
    "    dicColumnIndices = pd.MultiIndex.from_tuples(\n",
    "        lstColumnNames,\n",
    "        names = lstIndexNames\n",
    "        )\n",
    "\n",
    "\n",
    "    dfShiftedRates = pd.DataFrame(\n",
    "        columns=dicColumnIndices, \n",
    "        index=dfRates.index)\n",
    "    \n",
    "    \n",
    "\n",
    "    for i in aTimeSteps:\n",
    "        dfShiftedRates[i] = dfRates.shift(-i)\n",
    "\n",
    "    dfShiftedRates.dropna(inplace=True)\n",
    "\n",
    "    return dfShiftedRates"
   ]
  },
  {
   "cell_type": "code",
   "execution_count": 5,
   "id": "bad524f3",
   "metadata": {
    "code_folding": []
   },
   "outputs": [],
   "source": [
    "def dfGetMarketData(sSymbol):\n",
    "\n",
    "    if not mt5.initialize():\n",
    "        print(\"initialize() failed, error code =\", mt5.last_error())\n",
    "        sys.exit()\n",
    "\n",
    "    aSymbolInfo = mt5.symbol_info(sSymbol)\n",
    "    if not aSymbolInfo:\n",
    "        print(\"symbol_info() failed, error code =\", mt5.last_error())\n",
    "        sys.exit()\n",
    "\n",
    "    aRates = mt5.copy_rates_range(\n",
    "        sSymbol, mt5.TIMEFRAME_H1, gc_dt_FROM, gc_dt_TO)\n",
    "    if len(aRates) == 0:\n",
    "        print(\"copy_rates_range() failed, error code =\", mt5.last_error())\n",
    "        sys.exit()\n",
    "\n",
    "    mt5.shutdown()\n",
    "\n",
    "    dfRates = pd.DataFrame(aRates)\n",
    "\n",
    "    dfRates['time'] = pd.to_datetime(dfRates['time'], unit='s')\n",
    "    dfRates.set_index('time', inplace=True)\n",
    "    dfRates.drop('real_volume', axis=1, inplace=True)\n",
    "\n",
    "    ConvertSpreadValues(dfRates, aSymbolInfo)\n",
    "    AddSeasonalFeatures(dfRates)\n",
    "    AddReturns(dfRates)\n",
    "    dfRates = dfAddTechnicalIndicators(dfRates)\n",
    "\n",
    "    dfRates.columns  = pd.MultiIndex.from_product(\n",
    "        [[sSymbol], dfRates.columns], \n",
    "        names=[\"Time Series\", \"Feature\"])\n",
    "    \n",
    "    \n",
    "    return dfRates"
   ]
  },
  {
   "cell_type": "code",
   "execution_count": 6,
   "id": "0d9f70b2",
   "metadata": {
    "code_folding": [
     0
    ]
   },
   "outputs": [],
   "source": [
    "def dfAddTechnicalIndicators(dfRates):\n",
    "    global g_aInputFeatures \n",
    "    \n",
    "    \n",
    "    iTimeWindow = 24\n",
    "    \n",
    "    dfHigh = dfRates[\"high\"]\n",
    "    dfLow = dfRates[\"low\"]\n",
    "    dfClose = dfRates[\"close\"]\n",
    "    \n",
    "    # Average Dricetional Movement Index\n",
    "    oAdx = ta.trend.ADXIndicator(dfHigh, dfLow, dfClose, iTimeWindow, False)\n",
    "    \n",
    "    dfAdx = oAdx.adx()\n",
    "    dfAdx.drop(dfAdx[dfAdx == 0].index, inplace = True)\n",
    "    g_aInputFeatures.add(dfAdx.name)\n",
    "    \n",
    "    dfAdxNeg = oAdx.adx_neg()\n",
    "    dfAdxNeg.drop(dfAdxNeg[dfAdxNeg == 0].index, inplace = True)\n",
    "    g_aInputFeatures.add(dfAdxNeg.name)\n",
    "    \n",
    "    \n",
    "    dfAdxPos = oAdx.adx_pos()\n",
    "    dfAdxPos.drop(dfAdxPos[dfAdxPos == 0].index, inplace = True)\n",
    "    g_aInputFeatures.add(dfAdxPos.name)\n",
    "    \n",
    "    \n",
    "    dfRates = dfRates.join(dfAdx, how = \"inner\")\n",
    "    dfRates = dfRates.join(dfAdxNeg, how = \"inner\")\n",
    "    dfRates = dfRates.join(dfAdxPos, how = \"inner\")\n",
    "\n",
    "    \n",
    "    # Aroon Indicator\n",
    "    oAroon = ta.trend.AroonIndicator(dfClose, iTimeWindow, False)\n",
    "    dfAroonDown = oAroon.aroon_down()\n",
    "    dfAroonDown.dropna(inplace = True)\n",
    "    g_aInputFeatures.add(dfAroonDown.name)\n",
    "    \n",
    "    dfAroonIndicator = oAroon.aroon_indicator() \n",
    "    dfAroonIndicator.dropna(inplace = True)\n",
    "    g_aInputFeatures.add(dfAroonIndicator.name)\n",
    "\n",
    "    \n",
    "    dfAroonUp = oAroon.aroon_up()\n",
    "    dfAroonUp.dropna(inplace = True)\n",
    "    g_aInputFeatures.add(dfAroonUp.name)\n",
    "    \n",
    "    dfRates = dfRates.join(dfAroonDown, how = \"inner\")\n",
    "    dfRates = dfRates.join(dfAroonIndicator, how = \"inner\")\n",
    "    dfRates = dfRates.join(dfAroonUp, how = \"inner\")\n",
    "    \n",
    "    \n",
    "    # Commodity Channel Index\n",
    "    oCci = ta.trend.CCIIndicator(dfHigh, dfLow,dfClose, iTimeWindow)\n",
    "    dfCci = oCci.cci()\n",
    "    dfCci.dropna(inplace = True)\n",
    "    g_aInputFeatures.add(dfCci.name)\n",
    "    \n",
    "    dfRates = dfRates.join(dfCci, how = \"inner\")\n",
    "    \n",
    "    \n",
    "    # Detrended Price Oscillator (DPO)\n",
    "    oDpo = ta.trend.DPOIndicator(dfClose, iTimeWindow)\n",
    "    dfDpo = oDpo.dpo()\n",
    "    dfDpo.dropna(inplace = True)\n",
    "    g_aInputFeatures.add(dfDpo.name)    \n",
    "    \n",
    "    dfRates = dfRates.join(dfDpo, how = \"inner\")\n",
    "    \n",
    "    \n",
    "    # EMA - Exponential Moving Average\n",
    "    oEma = ta.trend.EMAIndicator(dfClose, iTimeWindow)\n",
    "    dfEma = oEma.ema_indicator()\n",
    "    dfEma.dropna(inplace = True)\n",
    "    g_aInputFeatures.add(dfEma.name)\n",
    "    \n",
    "    dfRates = dfRates.join(dfEma, how = \"inner\")\n",
    "    \n",
    "    \n",
    "    return dfRates"
   ]
  },
  {
   "cell_type": "code",
   "execution_count": 7,
   "id": "f89a65d2",
   "metadata": {
    "code_folding": [
     0
    ]
   },
   "outputs": [],
   "source": [
    "def AddSeasonalFeatures(dfRates):\n",
    "    global g_aInputFeatures \n",
    "    \n",
    "    c_a_SEASONAL_FEATURES = [\"year\", \"month\", \"day\", \"dayofweek\", \"hour\"]\n",
    "    for sSeasonalFeature in c_a_SEASONAL_FEATURES:\n",
    "        exec(\"dfRates[sSeasonalFeature] = dfRates.index.\" + sSeasonalFeature)\n",
    "        g_aInputFeatures.add(sSeasonalFeature)"
   ]
  },
  {
   "cell_type": "code",
   "execution_count": 8,
   "id": "17475e81",
   "metadata": {
    "code_folding": [
     0
    ]
   },
   "outputs": [],
   "source": [
    "def AddReturns(dfRates):\n",
    "    dfRates[\"return\"] = (dfRates[\"open\"] - dfRates[\"close\"])/dfRates[\"open\"]"
   ]
  },
  {
   "cell_type": "code",
   "execution_count": 9,
   "id": "e680ce9d",
   "metadata": {
    "code_folding": [
     0
    ]
   },
   "outputs": [],
   "source": [
    "def dfOversampleImbalancedData(dfX, dfY):\n",
    "    \n",
    "#     oOversample = SMOTE()\n",
    "#     aX, aY = oOversample.fit_resample(dfX.values, dfY.values)\n",
    "    \n",
    "#     dfX = pd.DataFrame(data = aX, columns = dfX.columns)\n",
    "#     dfY = pd.DataFrame(data = aY, columns = dfY.columns)\n",
    "    \n",
    "    dfXCopy = dfX.copy()\n",
    "    dfYCopy = dfY.copy()\n",
    "        \n",
    "    dfCombinations = dfYCopy.astype(str).agg('-'.join, axis=1)\n",
    "    dfCombinationsStats = dfCombinations.value_counts()\n",
    "    dfCombinationsStats = pd.DataFrame(dfCombinationsStats).reset_index()\n",
    "    \n",
    "    \n",
    "    iMaxAmount = dfCombinationsStats.iloc[0,1]\n",
    "    for i in range(1, len(dfCombinationsStats) ):\n",
    "        \n",
    "        sCombination = dfCombinationsStats.iloc[i, 0]\n",
    "        iSamplesNeeded = iMaxAmount - dfCombinationsStats.iloc[i, 1]\n",
    "        \n",
    "        dfSampledIndex =  dfCombinations[dfCombinations == sCombination].sample(iSamplesNeeded, replace = True).index\n",
    "        \n",
    "        dfSampledX = dfXCopy.loc[dfSampledIndex]\n",
    "        dfSampledY = dfYCopy.loc[dfSampledIndex]\n",
    "        \n",
    "    \n",
    "        dfX = dfX.append(dfSampledX , ignore_index= True)\n",
    "        dfY = dfY.append(dfSampledY , ignore_index= True)\n",
    "        \n",
    "    \n",
    "    dfX,dfY = shuffle(dfX,dfY )\n",
    "    \n",
    "\n",
    "    return dfX, dfY"
   ]
  },
  {
   "cell_type": "code",
   "execution_count": 10,
   "id": "682253c6",
   "metadata": {
    "code_folding": [
     0
    ]
   },
   "outputs": [],
   "source": [
    "def dfSplitData(dfInput, dfOutput):\n",
    "    dfInputTrainValidation, dfInputTest, dfOutputTrainValidation, dfOutputTest = train_test_split(\n",
    "        dfInput,\n",
    "        dfOutput,\n",
    "        test_size=gc_dec_TEST_RATIO,\n",
    "        shuffle=False)\n",
    "\n",
    "    dfInputTrain, dfInputValidation, dfOutputTrain, dfOutputValidation = train_test_split(\n",
    "        dfInputTrainValidation,\n",
    "        dfOutputTrainValidation,\n",
    "        test_size=(1/(1 -gc_dec_TEST_RATIO))-1,\n",
    "        shuffle=False)\n",
    "    \n",
    "    \n",
    "    dfInputTrain = dfInputTrain.astype(float)\n",
    "    dfInputValidation = dfInputValidation.astype(float)\n",
    "    dfInputTest = dfInputTest.astype(float)\n",
    "    dfOutputTrain = dfOutputTrain.astype(float)\n",
    "    dfOutputValidation = dfOutputValidation.astype(float)\n",
    "    dfOutputTest = dfOutputTest.astype(float)\n",
    "    \n",
    "    return dfInputTrain, dfInputValidation, dfInputTest, dfOutputTrain, dfOutputValidation, dfOutputTest"
   ]
  },
  {
   "cell_type": "code",
   "execution_count": 180,
   "id": "ca3eba12",
   "metadata": {
    "code_folding": []
   },
   "outputs": [],
   "source": [
    "def dfScaleData(sScalerName,dfTrain,dfValidation, dfTest):\n",
    "    sScalersDirectory = os.path.join(sSubModelName , \"__scalers__\")\n",
    "\n",
    "    oScaler = MinMaxScaler()\n",
    "\n",
    "    oScaler.fit(dfTrain)\n",
    "\n",
    "    aScaledTrain = oScaler.transform(dfTrain)\n",
    "    aScaledValidation = oScaler.transform(dfValidation)\n",
    "    aScaledTest = oScaler.transform(dfTest)\n",
    "\n",
    "    dfScaledTrain = pd.DataFrame(aScaledTrain, columns = dfTrain.columns, index = dfTrain.index)\n",
    "    dfScaledValidation = pd.DataFrame(aScaledValidation, columns = dfValidation.columns, index = dfValidation.index)\n",
    "    dfScaledTest = pd.DataFrame(aScaledTest, columns = dfTest.columns, index = dfTest.index)\n",
    "\n",
    "    sScalerFilePath =os.path.join(sScalersDirectory, sScalerName + \".sav\")\n",
    "    os.makedirs(os.path.dirname(sScalerFilePath), exist_ok=True)\n",
    "    pickle.dump(oScaler, open(sScalerFilePath, 'wb'))\n",
    "    \n",
    "    \n",
    "    return dfScaledTrain, dfScaledValidation, dfScaledTest"
   ]
  },
  {
   "cell_type": "code",
   "execution_count": 12,
   "id": "a44508f4",
   "metadata": {
    "code_folding": []
   },
   "outputs": [],
   "source": [
    "sSymbol = \"USDCAD\"\n",
    "aRelevantSymbols = []"
   ]
  },
  {
   "cell_type": "code",
   "execution_count": 13,
   "id": "ad7ce049",
   "metadata": {},
   "outputs": [
    {
     "name": "stderr",
     "output_type": "stream",
     "text": [
      "C:\\Users\\yunus\\AppData\\Local\\Continuum\\anaconda3\\envs\\tf-gpu\\lib\\site-packages\\ta\\trend.py:768: RuntimeWarning: invalid value encountered in double_scalars\n",
      "  dip[i] = 100 * (self._dip[i] / self._trs[i])\n",
      "C:\\Users\\yunus\\AppData\\Local\\Continuum\\anaconda3\\envs\\tf-gpu\\lib\\site-packages\\ta\\trend.py:772: RuntimeWarning: invalid value encountered in double_scalars\n",
      "  din[i] = 100 * (self._din[i] / self._trs[i])\n"
     ]
    }
   ],
   "source": [
    "dfRates = dfGetMarketData(sSymbol)\n",
    "\n",
    "for sRelevantSymbol in aRelevantSymbols:\n",
    "    dfRelevantRates = dfGetMarketData(sRelevantSymbol)\n",
    "    dfRates = dfRates.join(dfRelevantRates, how = \"inner\")"
   ]
  },
  {
   "cell_type": "code",
   "execution_count": 14,
   "id": "4fa7f436",
   "metadata": {},
   "outputs": [
    {
     "data": {
      "text/html": [
       "<div>\n",
       "<style scoped>\n",
       "    .dataframe tbody tr th:only-of-type {\n",
       "        vertical-align: middle;\n",
       "    }\n",
       "\n",
       "    .dataframe tbody tr th {\n",
       "        vertical-align: top;\n",
       "    }\n",
       "\n",
       "    .dataframe thead tr th {\n",
       "        text-align: left;\n",
       "    }\n",
       "\n",
       "    .dataframe thead tr:last-of-type th {\n",
       "        text-align: right;\n",
       "    }\n",
       "</style>\n",
       "<table border=\"1\" class=\"dataframe\">\n",
       "  <thead>\n",
       "    <tr>\n",
       "      <th>Time Series</th>\n",
       "      <th colspan=\"21\" halign=\"left\">USDCAD</th>\n",
       "    </tr>\n",
       "    <tr>\n",
       "      <th>Feature</th>\n",
       "      <th>open</th>\n",
       "      <th>high</th>\n",
       "      <th>low</th>\n",
       "      <th>close</th>\n",
       "      <th>tick_volume</th>\n",
       "      <th>spread</th>\n",
       "      <th>year</th>\n",
       "      <th>month</th>\n",
       "      <th>day</th>\n",
       "      <th>dayofweek</th>\n",
       "      <th>...</th>\n",
       "      <th>return</th>\n",
       "      <th>adx</th>\n",
       "      <th>adx_neg</th>\n",
       "      <th>adx_pos</th>\n",
       "      <th>aroon_down_24</th>\n",
       "      <th>aroon_ind_24</th>\n",
       "      <th>aroon_up_24</th>\n",
       "      <th>cci</th>\n",
       "      <th>dpo_24</th>\n",
       "      <th>ema_24</th>\n",
       "    </tr>\n",
       "    <tr>\n",
       "      <th>time</th>\n",
       "      <th></th>\n",
       "      <th></th>\n",
       "      <th></th>\n",
       "      <th></th>\n",
       "      <th></th>\n",
       "      <th></th>\n",
       "      <th></th>\n",
       "      <th></th>\n",
       "      <th></th>\n",
       "      <th></th>\n",
       "      <th></th>\n",
       "      <th></th>\n",
       "      <th></th>\n",
       "      <th></th>\n",
       "      <th></th>\n",
       "      <th></th>\n",
       "      <th></th>\n",
       "      <th></th>\n",
       "      <th></th>\n",
       "      <th></th>\n",
       "      <th></th>\n",
       "    </tr>\n",
       "  </thead>\n",
       "  <tbody>\n",
       "    <tr>\n",
       "      <th>2013-01-04 07:00:00</th>\n",
       "      <td>0.98842</td>\n",
       "      <td>0.98848</td>\n",
       "      <td>0.98813</td>\n",
       "      <td>0.98830</td>\n",
       "      <td>501</td>\n",
       "      <td>0.00029</td>\n",
       "      <td>2013</td>\n",
       "      <td>1</td>\n",
       "      <td>4</td>\n",
       "      <td>4</td>\n",
       "      <td>...</td>\n",
       "      <td>0.000121</td>\n",
       "      <td>14.779169</td>\n",
       "      <td>18.588235</td>\n",
       "      <td>23.306295</td>\n",
       "      <td>33.333333</td>\n",
       "      <td>54.166667</td>\n",
       "      <td>87.500000</td>\n",
       "      <td>77.760923</td>\n",
       "      <td>-0.001457</td>\n",
       "      <td>0.987280</td>\n",
       "    </tr>\n",
       "    <tr>\n",
       "      <th>2013-01-04 08:00:00</th>\n",
       "      <td>0.98829</td>\n",
       "      <td>0.98882</td>\n",
       "      <td>0.98814</td>\n",
       "      <td>0.98881</td>\n",
       "      <td>570</td>\n",
       "      <td>0.00029</td>\n",
       "      <td>2013</td>\n",
       "      <td>1</td>\n",
       "      <td>4</td>\n",
       "      <td>4</td>\n",
       "      <td>...</td>\n",
       "      <td>-0.000526</td>\n",
       "      <td>14.758243</td>\n",
       "      <td>18.056092</td>\n",
       "      <td>24.070481</td>\n",
       "      <td>29.166667</td>\n",
       "      <td>54.166667</td>\n",
       "      <td>83.333333</td>\n",
       "      <td>83.006430</td>\n",
       "      <td>-0.001221</td>\n",
       "      <td>0.987402</td>\n",
       "    </tr>\n",
       "    <tr>\n",
       "      <th>2013-01-04 09:00:00</th>\n",
       "      <td>0.98882</td>\n",
       "      <td>0.99068</td>\n",
       "      <td>0.98879</td>\n",
       "      <td>0.99059</td>\n",
       "      <td>1015</td>\n",
       "      <td>0.00029</td>\n",
       "      <td>2013</td>\n",
       "      <td>1</td>\n",
       "      <td>4</td>\n",
       "      <td>4</td>\n",
       "      <td>...</td>\n",
       "      <td>-0.001790</td>\n",
       "      <td>15.318441</td>\n",
       "      <td>16.671855</td>\n",
       "      <td>29.769788</td>\n",
       "      <td>25.000000</td>\n",
       "      <td>75.000000</td>\n",
       "      <td>100.000000</td>\n",
       "      <td>134.326875</td>\n",
       "      <td>-0.001695</td>\n",
       "      <td>0.987657</td>\n",
       "    </tr>\n",
       "    <tr>\n",
       "      <th>2013-01-04 10:00:00</th>\n",
       "      <td>0.99055</td>\n",
       "      <td>0.99082</td>\n",
       "      <td>0.99001</td>\n",
       "      <td>0.99033</td>\n",
       "      <td>1203</td>\n",
       "      <td>0.00029</td>\n",
       "      <td>2013</td>\n",
       "      <td>1</td>\n",
       "      <td>4</td>\n",
       "      <td>4</td>\n",
       "      <td>...</td>\n",
       "      <td>0.000222</td>\n",
       "      <td>15.892986</td>\n",
       "      <td>16.119222</td>\n",
       "      <td>29.355911</td>\n",
       "      <td>20.833333</td>\n",
       "      <td>75.000000</td>\n",
       "      <td>95.833333</td>\n",
       "      <td>137.194411</td>\n",
       "      <td>-0.000205</td>\n",
       "      <td>0.987871</td>\n",
       "    </tr>\n",
       "    <tr>\n",
       "      <th>2013-01-04 11:00:00</th>\n",
       "      <td>0.99032</td>\n",
       "      <td>0.99074</td>\n",
       "      <td>0.98985</td>\n",
       "      <td>0.99031</td>\n",
       "      <td>1021</td>\n",
       "      <td>0.00025</td>\n",
       "      <td>2013</td>\n",
       "      <td>1</td>\n",
       "      <td>4</td>\n",
       "      <td>4</td>\n",
       "      <td>...</td>\n",
       "      <td>0.000010</td>\n",
       "      <td>16.363965</td>\n",
       "      <td>16.187261</td>\n",
       "      <td>28.281086</td>\n",
       "      <td>16.666667</td>\n",
       "      <td>75.000000</td>\n",
       "      <td>91.666667</td>\n",
       "      <td>124.278645</td>\n",
       "      <td>0.000323</td>\n",
       "      <td>0.988066</td>\n",
       "    </tr>\n",
       "    <tr>\n",
       "      <th>...</th>\n",
       "      <td>...</td>\n",
       "      <td>...</td>\n",
       "      <td>...</td>\n",
       "      <td>...</td>\n",
       "      <td>...</td>\n",
       "      <td>...</td>\n",
       "      <td>...</td>\n",
       "      <td>...</td>\n",
       "      <td>...</td>\n",
       "      <td>...</td>\n",
       "      <td>...</td>\n",
       "      <td>...</td>\n",
       "      <td>...</td>\n",
       "      <td>...</td>\n",
       "      <td>...</td>\n",
       "      <td>...</td>\n",
       "      <td>...</td>\n",
       "      <td>...</td>\n",
       "      <td>...</td>\n",
       "      <td>...</td>\n",
       "      <td>...</td>\n",
       "    </tr>\n",
       "    <tr>\n",
       "      <th>2021-10-27 20:00:00</th>\n",
       "      <td>1.23292</td>\n",
       "      <td>1.23412</td>\n",
       "      <td>1.23159</td>\n",
       "      <td>1.23319</td>\n",
       "      <td>31996</td>\n",
       "      <td>0.00018</td>\n",
       "      <td>2021</td>\n",
       "      <td>10</td>\n",
       "      <td>27</td>\n",
       "      <td>2</td>\n",
       "      <td>...</td>\n",
       "      <td>-0.000219</td>\n",
       "      <td>20.547753</td>\n",
       "      <td>30.290329</td>\n",
       "      <td>15.790205</td>\n",
       "      <td>95.833333</td>\n",
       "      <td>-16.666667</td>\n",
       "      <td>79.166667</td>\n",
       "      <td>-223.408502</td>\n",
       "      <td>-0.000045</td>\n",
       "      <td>1.237943</td>\n",
       "    </tr>\n",
       "    <tr>\n",
       "      <th>2021-10-27 21:00:00</th>\n",
       "      <td>1.23321</td>\n",
       "      <td>1.23472</td>\n",
       "      <td>1.23318</td>\n",
       "      <td>1.23435</td>\n",
       "      <td>28110</td>\n",
       "      <td>0.00018</td>\n",
       "      <td>2021</td>\n",
       "      <td>10</td>\n",
       "      <td>27</td>\n",
       "      <td>2</td>\n",
       "      <td>...</td>\n",
       "      <td>-0.000924</td>\n",
       "      <td>20.838039</td>\n",
       "      <td>29.219196</td>\n",
       "      <td>16.609577</td>\n",
       "      <td>91.666667</td>\n",
       "      <td>-16.666667</td>\n",
       "      <td>75.000000</td>\n",
       "      <td>-150.144117</td>\n",
       "      <td>0.000275</td>\n",
       "      <td>1.237655</td>\n",
       "    </tr>\n",
       "    <tr>\n",
       "      <th>2021-10-27 22:00:00</th>\n",
       "      <td>1.23435</td>\n",
       "      <td>1.23644</td>\n",
       "      <td>1.23435</td>\n",
       "      <td>1.23636</td>\n",
       "      <td>40121</td>\n",
       "      <td>0.00018</td>\n",
       "      <td>2021</td>\n",
       "      <td>10</td>\n",
       "      <td>27</td>\n",
       "      <td>2</td>\n",
       "      <td>...</td>\n",
       "      <td>-0.001628</td>\n",
       "      <td>20.677858</td>\n",
       "      <td>27.825734</td>\n",
       "      <td>19.742189</td>\n",
       "      <td>87.500000</td>\n",
       "      <td>-16.666667</td>\n",
       "      <td>70.833333</td>\n",
       "      <td>-83.694158</td>\n",
       "      <td>0.000058</td>\n",
       "      <td>1.237552</td>\n",
       "    </tr>\n",
       "    <tr>\n",
       "      <th>2021-10-27 23:00:00</th>\n",
       "      <td>1.23636</td>\n",
       "      <td>1.23637</td>\n",
       "      <td>1.23483</td>\n",
       "      <td>1.23485</td>\n",
       "      <td>10631</td>\n",
       "      <td>0.00018</td>\n",
       "      <td>2021</td>\n",
       "      <td>10</td>\n",
       "      <td>27</td>\n",
       "      <td>2</td>\n",
       "      <td>...</td>\n",
       "      <td>0.001221</td>\n",
       "      <td>20.524351</td>\n",
       "      <td>26.841515</td>\n",
       "      <td>19.043892</td>\n",
       "      <td>83.333333</td>\n",
       "      <td>-16.666667</td>\n",
       "      <td>66.666667</td>\n",
       "      <td>-83.921530</td>\n",
       "      <td>0.001702</td>\n",
       "      <td>1.237335</td>\n",
       "    </tr>\n",
       "    <tr>\n",
       "      <th>2021-10-28 00:00:00</th>\n",
       "      <td>1.23478</td>\n",
       "      <td>1.23632</td>\n",
       "      <td>1.23475</td>\n",
       "      <td>1.23613</td>\n",
       "      <td>2151</td>\n",
       "      <td>0.00020</td>\n",
       "      <td>2021</td>\n",
       "      <td>10</td>\n",
       "      <td>28</td>\n",
       "      <td>3</td>\n",
       "      <td>...</td>\n",
       "      <td>-0.001093</td>\n",
       "      <td>20.391632</td>\n",
       "      <td>26.052937</td>\n",
       "      <td>18.353300</td>\n",
       "      <td>79.166667</td>\n",
       "      <td>-16.666667</td>\n",
       "      <td>62.500000</td>\n",
       "      <td>-65.654126</td>\n",
       "      <td>0.003603</td>\n",
       "      <td>1.237239</td>\n",
       "    </tr>\n",
       "  </tbody>\n",
       "</table>\n",
       "<p>54725 rows × 21 columns</p>\n",
       "</div>"
      ],
      "text/plain": [
       "Time Series           USDCAD                                                  \\\n",
       "Feature                 open     high      low    close tick_volume   spread   \n",
       "time                                                                           \n",
       "2013-01-04 07:00:00  0.98842  0.98848  0.98813  0.98830         501  0.00029   \n",
       "2013-01-04 08:00:00  0.98829  0.98882  0.98814  0.98881         570  0.00029   \n",
       "2013-01-04 09:00:00  0.98882  0.99068  0.98879  0.99059        1015  0.00029   \n",
       "2013-01-04 10:00:00  0.99055  0.99082  0.99001  0.99033        1203  0.00029   \n",
       "2013-01-04 11:00:00  0.99032  0.99074  0.98985  0.99031        1021  0.00025   \n",
       "...                      ...      ...      ...      ...         ...      ...   \n",
       "2021-10-27 20:00:00  1.23292  1.23412  1.23159  1.23319       31996  0.00018   \n",
       "2021-10-27 21:00:00  1.23321  1.23472  1.23318  1.23435       28110  0.00018   \n",
       "2021-10-27 22:00:00  1.23435  1.23644  1.23435  1.23636       40121  0.00018   \n",
       "2021-10-27 23:00:00  1.23636  1.23637  1.23483  1.23485       10631  0.00018   \n",
       "2021-10-28 00:00:00  1.23478  1.23632  1.23475  1.23613        2151  0.00020   \n",
       "\n",
       "Time Series                                    ...                       \\\n",
       "Feature              year month day dayofweek  ...    return        adx   \n",
       "time                                           ...                        \n",
       "2013-01-04 07:00:00  2013     1   4         4  ...  0.000121  14.779169   \n",
       "2013-01-04 08:00:00  2013     1   4         4  ... -0.000526  14.758243   \n",
       "2013-01-04 09:00:00  2013     1   4         4  ... -0.001790  15.318441   \n",
       "2013-01-04 10:00:00  2013     1   4         4  ...  0.000222  15.892986   \n",
       "2013-01-04 11:00:00  2013     1   4         4  ...  0.000010  16.363965   \n",
       "...                   ...   ...  ..       ...  ...       ...        ...   \n",
       "2021-10-27 20:00:00  2021    10  27         2  ... -0.000219  20.547753   \n",
       "2021-10-27 21:00:00  2021    10  27         2  ... -0.000924  20.838039   \n",
       "2021-10-27 22:00:00  2021    10  27         2  ... -0.001628  20.677858   \n",
       "2021-10-27 23:00:00  2021    10  27         2  ...  0.001221  20.524351   \n",
       "2021-10-28 00:00:00  2021    10  28         3  ... -0.001093  20.391632   \n",
       "\n",
       "Time Series                                                           \\\n",
       "Feature                adx_neg    adx_pos aroon_down_24 aroon_ind_24   \n",
       "time                                                                   \n",
       "2013-01-04 07:00:00  18.588235  23.306295     33.333333    54.166667   \n",
       "2013-01-04 08:00:00  18.056092  24.070481     29.166667    54.166667   \n",
       "2013-01-04 09:00:00  16.671855  29.769788     25.000000    75.000000   \n",
       "2013-01-04 10:00:00  16.119222  29.355911     20.833333    75.000000   \n",
       "2013-01-04 11:00:00  16.187261  28.281086     16.666667    75.000000   \n",
       "...                        ...        ...           ...          ...   \n",
       "2021-10-27 20:00:00  30.290329  15.790205     95.833333   -16.666667   \n",
       "2021-10-27 21:00:00  29.219196  16.609577     91.666667   -16.666667   \n",
       "2021-10-27 22:00:00  27.825734  19.742189     87.500000   -16.666667   \n",
       "2021-10-27 23:00:00  26.841515  19.043892     83.333333   -16.666667   \n",
       "2021-10-28 00:00:00  26.052937  18.353300     79.166667   -16.666667   \n",
       "\n",
       "Time Series                                                      \n",
       "Feature             aroon_up_24         cci    dpo_24    ema_24  \n",
       "time                                                             \n",
       "2013-01-04 07:00:00   87.500000   77.760923 -0.001457  0.987280  \n",
       "2013-01-04 08:00:00   83.333333   83.006430 -0.001221  0.987402  \n",
       "2013-01-04 09:00:00  100.000000  134.326875 -0.001695  0.987657  \n",
       "2013-01-04 10:00:00   95.833333  137.194411 -0.000205  0.987871  \n",
       "2013-01-04 11:00:00   91.666667  124.278645  0.000323  0.988066  \n",
       "...                         ...         ...       ...       ...  \n",
       "2021-10-27 20:00:00   79.166667 -223.408502 -0.000045  1.237943  \n",
       "2021-10-27 21:00:00   75.000000 -150.144117  0.000275  1.237655  \n",
       "2021-10-27 22:00:00   70.833333  -83.694158  0.000058  1.237552  \n",
       "2021-10-27 23:00:00   66.666667  -83.921530  0.001702  1.237335  \n",
       "2021-10-28 00:00:00   62.500000  -65.654126  0.003603  1.237239  \n",
       "\n",
       "[54725 rows x 21 columns]"
      ]
     },
     "execution_count": 14,
     "metadata": {},
     "output_type": "execute_result"
    }
   ],
   "source": [
    "dfRates"
   ]
  },
  {
   "cell_type": "code",
   "execution_count": 15,
   "id": "d458f828",
   "metadata": {},
   "outputs": [],
   "source": [
    "dfInput  = dfRates.loc[:, dfRates.columns.get_level_values(1).isin(g_aInputFeatures)]\n",
    "dfInput = dfShiftTimeSteps(dfInput, g_aBackwardTimeSteps)"
   ]
  },
  {
   "cell_type": "code",
   "execution_count": 16,
   "id": "07c7b3c4",
   "metadata": {},
   "outputs": [
    {
     "data": {
      "text/html": [
       "<div>\n",
       "<style scoped>\n",
       "    .dataframe tbody tr th:only-of-type {\n",
       "        vertical-align: middle;\n",
       "    }\n",
       "\n",
       "    .dataframe tbody tr th {\n",
       "        vertical-align: top;\n",
       "    }\n",
       "\n",
       "    .dataframe thead tr th {\n",
       "        text-align: left;\n",
       "    }\n",
       "\n",
       "    .dataframe thead tr:last-of-type th {\n",
       "        text-align: right;\n",
       "    }\n",
       "</style>\n",
       "<table border=\"1\" class=\"dataframe\">\n",
       "  <thead>\n",
       "    <tr>\n",
       "      <th>Time Step</th>\n",
       "      <th colspan=\"20\" halign=\"left\">-1</th>\n",
       "    </tr>\n",
       "    <tr>\n",
       "      <th>Time Series</th>\n",
       "      <th colspan=\"20\" halign=\"left\">USDCAD</th>\n",
       "    </tr>\n",
       "    <tr>\n",
       "      <th>Feature</th>\n",
       "      <th>open</th>\n",
       "      <th>high</th>\n",
       "      <th>low</th>\n",
       "      <th>close</th>\n",
       "      <th>tick_volume</th>\n",
       "      <th>spread</th>\n",
       "      <th>year</th>\n",
       "      <th>month</th>\n",
       "      <th>day</th>\n",
       "      <th>dayofweek</th>\n",
       "      <th>hour</th>\n",
       "      <th>adx</th>\n",
       "      <th>adx_neg</th>\n",
       "      <th>adx_pos</th>\n",
       "      <th>aroon_down_24</th>\n",
       "      <th>aroon_ind_24</th>\n",
       "      <th>aroon_up_24</th>\n",
       "      <th>cci</th>\n",
       "      <th>dpo_24</th>\n",
       "      <th>ema_24</th>\n",
       "    </tr>\n",
       "    <tr>\n",
       "      <th>time</th>\n",
       "      <th></th>\n",
       "      <th></th>\n",
       "      <th></th>\n",
       "      <th></th>\n",
       "      <th></th>\n",
       "      <th></th>\n",
       "      <th></th>\n",
       "      <th></th>\n",
       "      <th></th>\n",
       "      <th></th>\n",
       "      <th></th>\n",
       "      <th></th>\n",
       "      <th></th>\n",
       "      <th></th>\n",
       "      <th></th>\n",
       "      <th></th>\n",
       "      <th></th>\n",
       "      <th></th>\n",
       "      <th></th>\n",
       "      <th></th>\n",
       "    </tr>\n",
       "  </thead>\n",
       "  <tbody>\n",
       "    <tr>\n",
       "      <th>2013-01-04 08:00:00</th>\n",
       "      <td>0.98842</td>\n",
       "      <td>0.98848</td>\n",
       "      <td>0.98813</td>\n",
       "      <td>0.98830</td>\n",
       "      <td>501.0</td>\n",
       "      <td>0.00029</td>\n",
       "      <td>2013.0</td>\n",
       "      <td>1.0</td>\n",
       "      <td>4.0</td>\n",
       "      <td>4.0</td>\n",
       "      <td>7.0</td>\n",
       "      <td>14.779169</td>\n",
       "      <td>18.588235</td>\n",
       "      <td>23.306295</td>\n",
       "      <td>33.333333</td>\n",
       "      <td>54.166667</td>\n",
       "      <td>87.500000</td>\n",
       "      <td>77.760923</td>\n",
       "      <td>-0.001457</td>\n",
       "      <td>0.987280</td>\n",
       "    </tr>\n",
       "    <tr>\n",
       "      <th>2013-01-04 09:00:00</th>\n",
       "      <td>0.98829</td>\n",
       "      <td>0.98882</td>\n",
       "      <td>0.98814</td>\n",
       "      <td>0.98881</td>\n",
       "      <td>570.0</td>\n",
       "      <td>0.00029</td>\n",
       "      <td>2013.0</td>\n",
       "      <td>1.0</td>\n",
       "      <td>4.0</td>\n",
       "      <td>4.0</td>\n",
       "      <td>8.0</td>\n",
       "      <td>14.758243</td>\n",
       "      <td>18.056092</td>\n",
       "      <td>24.070481</td>\n",
       "      <td>29.166667</td>\n",
       "      <td>54.166667</td>\n",
       "      <td>83.333333</td>\n",
       "      <td>83.006430</td>\n",
       "      <td>-0.001221</td>\n",
       "      <td>0.987402</td>\n",
       "    </tr>\n",
       "    <tr>\n",
       "      <th>2013-01-04 10:00:00</th>\n",
       "      <td>0.98882</td>\n",
       "      <td>0.99068</td>\n",
       "      <td>0.98879</td>\n",
       "      <td>0.99059</td>\n",
       "      <td>1015.0</td>\n",
       "      <td>0.00029</td>\n",
       "      <td>2013.0</td>\n",
       "      <td>1.0</td>\n",
       "      <td>4.0</td>\n",
       "      <td>4.0</td>\n",
       "      <td>9.0</td>\n",
       "      <td>15.318441</td>\n",
       "      <td>16.671855</td>\n",
       "      <td>29.769788</td>\n",
       "      <td>25.000000</td>\n",
       "      <td>75.000000</td>\n",
       "      <td>100.000000</td>\n",
       "      <td>134.326875</td>\n",
       "      <td>-0.001695</td>\n",
       "      <td>0.987657</td>\n",
       "    </tr>\n",
       "    <tr>\n",
       "      <th>2013-01-04 11:00:00</th>\n",
       "      <td>0.99055</td>\n",
       "      <td>0.99082</td>\n",
       "      <td>0.99001</td>\n",
       "      <td>0.99033</td>\n",
       "      <td>1203.0</td>\n",
       "      <td>0.00029</td>\n",
       "      <td>2013.0</td>\n",
       "      <td>1.0</td>\n",
       "      <td>4.0</td>\n",
       "      <td>4.0</td>\n",
       "      <td>10.0</td>\n",
       "      <td>15.892986</td>\n",
       "      <td>16.119222</td>\n",
       "      <td>29.355911</td>\n",
       "      <td>20.833333</td>\n",
       "      <td>75.000000</td>\n",
       "      <td>95.833333</td>\n",
       "      <td>137.194411</td>\n",
       "      <td>-0.000205</td>\n",
       "      <td>0.987871</td>\n",
       "    </tr>\n",
       "    <tr>\n",
       "      <th>2013-01-04 12:00:00</th>\n",
       "      <td>0.99032</td>\n",
       "      <td>0.99074</td>\n",
       "      <td>0.98985</td>\n",
       "      <td>0.99031</td>\n",
       "      <td>1021.0</td>\n",
       "      <td>0.00025</td>\n",
       "      <td>2013.0</td>\n",
       "      <td>1.0</td>\n",
       "      <td>4.0</td>\n",
       "      <td>4.0</td>\n",
       "      <td>11.0</td>\n",
       "      <td>16.363965</td>\n",
       "      <td>16.187261</td>\n",
       "      <td>28.281086</td>\n",
       "      <td>16.666667</td>\n",
       "      <td>75.000000</td>\n",
       "      <td>91.666667</td>\n",
       "      <td>124.278645</td>\n",
       "      <td>0.000323</td>\n",
       "      <td>0.988066</td>\n",
       "    </tr>\n",
       "    <tr>\n",
       "      <th>...</th>\n",
       "      <td>...</td>\n",
       "      <td>...</td>\n",
       "      <td>...</td>\n",
       "      <td>...</td>\n",
       "      <td>...</td>\n",
       "      <td>...</td>\n",
       "      <td>...</td>\n",
       "      <td>...</td>\n",
       "      <td>...</td>\n",
       "      <td>...</td>\n",
       "      <td>...</td>\n",
       "      <td>...</td>\n",
       "      <td>...</td>\n",
       "      <td>...</td>\n",
       "      <td>...</td>\n",
       "      <td>...</td>\n",
       "      <td>...</td>\n",
       "      <td>...</td>\n",
       "      <td>...</td>\n",
       "      <td>...</td>\n",
       "    </tr>\n",
       "    <tr>\n",
       "      <th>2021-10-27 20:00:00</th>\n",
       "      <td>1.23372</td>\n",
       "      <td>1.23425</td>\n",
       "      <td>1.23206</td>\n",
       "      <td>1.23292</td>\n",
       "      <td>39555.0</td>\n",
       "      <td>0.00018</td>\n",
       "      <td>2021.0</td>\n",
       "      <td>10.0</td>\n",
       "      <td>27.0</td>\n",
       "      <td>2.0</td>\n",
       "      <td>19.0</td>\n",
       "      <td>20.073006</td>\n",
       "      <td>31.007771</td>\n",
       "      <td>16.757362</td>\n",
       "      <td>100.000000</td>\n",
       "      <td>-16.666667</td>\n",
       "      <td>83.333333</td>\n",
       "      <td>-275.231685</td>\n",
       "      <td>0.000101</td>\n",
       "      <td>1.238356</td>\n",
       "    </tr>\n",
       "    <tr>\n",
       "      <th>2021-10-27 21:00:00</th>\n",
       "      <td>1.23292</td>\n",
       "      <td>1.23412</td>\n",
       "      <td>1.23159</td>\n",
       "      <td>1.23319</td>\n",
       "      <td>31996.0</td>\n",
       "      <td>0.00018</td>\n",
       "      <td>2021.0</td>\n",
       "      <td>10.0</td>\n",
       "      <td>27.0</td>\n",
       "      <td>2.0</td>\n",
       "      <td>20.0</td>\n",
       "      <td>20.547753</td>\n",
       "      <td>30.290329</td>\n",
       "      <td>15.790205</td>\n",
       "      <td>95.833333</td>\n",
       "      <td>-16.666667</td>\n",
       "      <td>79.166667</td>\n",
       "      <td>-223.408502</td>\n",
       "      <td>-0.000045</td>\n",
       "      <td>1.237943</td>\n",
       "    </tr>\n",
       "    <tr>\n",
       "      <th>2021-10-27 22:00:00</th>\n",
       "      <td>1.23321</td>\n",
       "      <td>1.23472</td>\n",
       "      <td>1.23318</td>\n",
       "      <td>1.23435</td>\n",
       "      <td>28110.0</td>\n",
       "      <td>0.00018</td>\n",
       "      <td>2021.0</td>\n",
       "      <td>10.0</td>\n",
       "      <td>27.0</td>\n",
       "      <td>2.0</td>\n",
       "      <td>21.0</td>\n",
       "      <td>20.838039</td>\n",
       "      <td>29.219196</td>\n",
       "      <td>16.609577</td>\n",
       "      <td>91.666667</td>\n",
       "      <td>-16.666667</td>\n",
       "      <td>75.000000</td>\n",
       "      <td>-150.144117</td>\n",
       "      <td>0.000275</td>\n",
       "      <td>1.237655</td>\n",
       "    </tr>\n",
       "    <tr>\n",
       "      <th>2021-10-27 23:00:00</th>\n",
       "      <td>1.23435</td>\n",
       "      <td>1.23644</td>\n",
       "      <td>1.23435</td>\n",
       "      <td>1.23636</td>\n",
       "      <td>40121.0</td>\n",
       "      <td>0.00018</td>\n",
       "      <td>2021.0</td>\n",
       "      <td>10.0</td>\n",
       "      <td>27.0</td>\n",
       "      <td>2.0</td>\n",
       "      <td>22.0</td>\n",
       "      <td>20.677858</td>\n",
       "      <td>27.825734</td>\n",
       "      <td>19.742189</td>\n",
       "      <td>87.500000</td>\n",
       "      <td>-16.666667</td>\n",
       "      <td>70.833333</td>\n",
       "      <td>-83.694158</td>\n",
       "      <td>0.000058</td>\n",
       "      <td>1.237552</td>\n",
       "    </tr>\n",
       "    <tr>\n",
       "      <th>2021-10-28 00:00:00</th>\n",
       "      <td>1.23636</td>\n",
       "      <td>1.23637</td>\n",
       "      <td>1.23483</td>\n",
       "      <td>1.23485</td>\n",
       "      <td>10631.0</td>\n",
       "      <td>0.00018</td>\n",
       "      <td>2021.0</td>\n",
       "      <td>10.0</td>\n",
       "      <td>27.0</td>\n",
       "      <td>2.0</td>\n",
       "      <td>23.0</td>\n",
       "      <td>20.524351</td>\n",
       "      <td>26.841515</td>\n",
       "      <td>19.043892</td>\n",
       "      <td>83.333333</td>\n",
       "      <td>-16.666667</td>\n",
       "      <td>66.666667</td>\n",
       "      <td>-83.921530</td>\n",
       "      <td>0.001702</td>\n",
       "      <td>1.237335</td>\n",
       "    </tr>\n",
       "  </tbody>\n",
       "</table>\n",
       "<p>54724 rows × 20 columns</p>\n",
       "</div>"
      ],
      "text/plain": [
       "Time Step                 -1                                                  \\\n",
       "Time Series           USDCAD                                                   \n",
       "Feature                 open     high      low    close tick_volume   spread   \n",
       "time                                                                           \n",
       "2013-01-04 08:00:00  0.98842  0.98848  0.98813  0.98830       501.0  0.00029   \n",
       "2013-01-04 09:00:00  0.98829  0.98882  0.98814  0.98881       570.0  0.00029   \n",
       "2013-01-04 10:00:00  0.98882  0.99068  0.98879  0.99059      1015.0  0.00029   \n",
       "2013-01-04 11:00:00  0.99055  0.99082  0.99001  0.99033      1203.0  0.00029   \n",
       "2013-01-04 12:00:00  0.99032  0.99074  0.98985  0.99031      1021.0  0.00025   \n",
       "...                      ...      ...      ...      ...         ...      ...   \n",
       "2021-10-27 20:00:00  1.23372  1.23425  1.23206  1.23292     39555.0  0.00018   \n",
       "2021-10-27 21:00:00  1.23292  1.23412  1.23159  1.23319     31996.0  0.00018   \n",
       "2021-10-27 22:00:00  1.23321  1.23472  1.23318  1.23435     28110.0  0.00018   \n",
       "2021-10-27 23:00:00  1.23435  1.23644  1.23435  1.23636     40121.0  0.00018   \n",
       "2021-10-28 00:00:00  1.23636  1.23637  1.23483  1.23485     10631.0  0.00018   \n",
       "\n",
       "Time Step                                                                      \\\n",
       "Time Series                                                                     \n",
       "Feature                year month   day dayofweek  hour        adx    adx_neg   \n",
       "time                                                                            \n",
       "2013-01-04 08:00:00  2013.0   1.0   4.0       4.0   7.0  14.779169  18.588235   \n",
       "2013-01-04 09:00:00  2013.0   1.0   4.0       4.0   8.0  14.758243  18.056092   \n",
       "2013-01-04 10:00:00  2013.0   1.0   4.0       4.0   9.0  15.318441  16.671855   \n",
       "2013-01-04 11:00:00  2013.0   1.0   4.0       4.0  10.0  15.892986  16.119222   \n",
       "2013-01-04 12:00:00  2013.0   1.0   4.0       4.0  11.0  16.363965  16.187261   \n",
       "...                     ...   ...   ...       ...   ...        ...        ...   \n",
       "2021-10-27 20:00:00  2021.0  10.0  27.0       2.0  19.0  20.073006  31.007771   \n",
       "2021-10-27 21:00:00  2021.0  10.0  27.0       2.0  20.0  20.547753  30.290329   \n",
       "2021-10-27 22:00:00  2021.0  10.0  27.0       2.0  21.0  20.838039  29.219196   \n",
       "2021-10-27 23:00:00  2021.0  10.0  27.0       2.0  22.0  20.677858  27.825734   \n",
       "2021-10-28 00:00:00  2021.0  10.0  27.0       2.0  23.0  20.524351  26.841515   \n",
       "\n",
       "Time Step                                                              \\\n",
       "Time Series                                                             \n",
       "Feature                adx_pos aroon_down_24 aroon_ind_24 aroon_up_24   \n",
       "time                                                                    \n",
       "2013-01-04 08:00:00  23.306295     33.333333    54.166667   87.500000   \n",
       "2013-01-04 09:00:00  24.070481     29.166667    54.166667   83.333333   \n",
       "2013-01-04 10:00:00  29.769788     25.000000    75.000000  100.000000   \n",
       "2013-01-04 11:00:00  29.355911     20.833333    75.000000   95.833333   \n",
       "2013-01-04 12:00:00  28.281086     16.666667    75.000000   91.666667   \n",
       "...                        ...           ...          ...         ...   \n",
       "2021-10-27 20:00:00  16.757362    100.000000   -16.666667   83.333333   \n",
       "2021-10-27 21:00:00  15.790205     95.833333   -16.666667   79.166667   \n",
       "2021-10-27 22:00:00  16.609577     91.666667   -16.666667   75.000000   \n",
       "2021-10-27 23:00:00  19.742189     87.500000   -16.666667   70.833333   \n",
       "2021-10-28 00:00:00  19.043892     83.333333   -16.666667   66.666667   \n",
       "\n",
       "Time Step                                            \n",
       "Time Series                                          \n",
       "Feature                     cci    dpo_24    ema_24  \n",
       "time                                                 \n",
       "2013-01-04 08:00:00   77.760923 -0.001457  0.987280  \n",
       "2013-01-04 09:00:00   83.006430 -0.001221  0.987402  \n",
       "2013-01-04 10:00:00  134.326875 -0.001695  0.987657  \n",
       "2013-01-04 11:00:00  137.194411 -0.000205  0.987871  \n",
       "2013-01-04 12:00:00  124.278645  0.000323  0.988066  \n",
       "...                         ...       ...       ...  \n",
       "2021-10-27 20:00:00 -275.231685  0.000101  1.238356  \n",
       "2021-10-27 21:00:00 -223.408502 -0.000045  1.237943  \n",
       "2021-10-27 22:00:00 -150.144117  0.000275  1.237655  \n",
       "2021-10-27 23:00:00  -83.694158  0.000058  1.237552  \n",
       "2021-10-28 00:00:00  -83.921530  0.001702  1.237335  \n",
       "\n",
       "[54724 rows x 20 columns]"
      ]
     },
     "execution_count": 16,
     "metadata": {},
     "output_type": "execute_result"
    }
   ],
   "source": [
    "dfInput"
   ]
  },
  {
   "cell_type": "code",
   "execution_count": 17,
   "id": "7dabba9e",
   "metadata": {},
   "outputs": [],
   "source": [
    "i = 1\n",
    "j = 3"
   ]
  },
  {
   "cell_type": "code",
   "execution_count": 18,
   "id": "4c4e0cf9",
   "metadata": {},
   "outputs": [],
   "source": [
    "aColumns = pd.MultiIndex.from_tuples(\n",
    "    [(i,j)],\n",
    "    names = [\"From\",\"To\"])"
   ]
  },
  {
   "cell_type": "code",
   "execution_count": 19,
   "id": "0bdfa0c3",
   "metadata": {},
   "outputs": [],
   "source": [
    "dfOutput = pd.DataFrame(index = dfInput.index, \n",
    "                        columns = aColumns)\n",
    "\n",
    "    \n",
    "dfSpread = dfRates[sSymbol][\"spread\"]\n",
    "dfOpen = dfRates[sSymbol][\"open\"].shift(-i)\n",
    "dfClose = dfRates[sSymbol][\"close\"].shift(-j)\n",
    "\n",
    "dfNetReturn = (abs(dfClose - dfOpen) - dfSpread)\n",
    "dfReturn = (dfClose - dfOpen)/dfOpen"
   ]
  },
  {
   "cell_type": "markdown",
   "id": "47b58f09",
   "metadata": {},
   "source": [
    "# INVESTABILITY MODEL"
   ]
  },
  {
   "cell_type": "code",
   "execution_count": 20,
   "id": "3db7ddf2",
   "metadata": {},
   "outputs": [],
   "source": [
    "sModelName = os.path.join(sSymbol , \"__investability model__\")"
   ]
  },
  {
   "cell_type": "code",
   "execution_count": 21,
   "id": "449e35ce",
   "metadata": {},
   "outputs": [],
   "source": [
    "sSubModelName = os.path.join(sModelName , \"__\"+ str(i) +\"  \" + str(j) + \"__\")"
   ]
  },
  {
   "cell_type": "markdown",
   "id": "575fa9d7",
   "metadata": {},
   "source": [
    "## Preprocessing"
   ]
  },
  {
   "cell_type": "code",
   "execution_count": 22,
   "id": "7c9f820e",
   "metadata": {},
   "outputs": [],
   "source": [
    "dfInputInvestability = dfInput.copy()\n",
    "dfOutputInvestability = dfOutput.copy()"
   ]
  },
  {
   "cell_type": "code",
   "execution_count": 23,
   "id": "87e7d7c8",
   "metadata": {},
   "outputs": [],
   "source": [
    "dfMaskNonInvestable = dfNetReturn<=0\n",
    "dfMaskInvestable = dfNetReturn>0\n",
    "\n",
    "dfOutputInvestability.loc[dfMaskNonInvestable] = 0\n",
    "dfOutputInvestability.loc[dfMaskInvestable] = 1"
   ]
  },
  {
   "cell_type": "code",
   "execution_count": 24,
   "id": "646509c0",
   "metadata": {},
   "outputs": [
    {
     "data": {
      "text/html": [
       "<div>\n",
       "<style scoped>\n",
       "    .dataframe tbody tr th:only-of-type {\n",
       "        vertical-align: middle;\n",
       "    }\n",
       "\n",
       "    .dataframe tbody tr th {\n",
       "        vertical-align: top;\n",
       "    }\n",
       "\n",
       "    .dataframe thead tr th {\n",
       "        text-align: left;\n",
       "    }\n",
       "\n",
       "    .dataframe thead tr:last-of-type th {\n",
       "        text-align: right;\n",
       "    }\n",
       "</style>\n",
       "<table border=\"1\" class=\"dataframe\">\n",
       "  <thead>\n",
       "    <tr>\n",
       "      <th>From</th>\n",
       "      <th>1</th>\n",
       "    </tr>\n",
       "    <tr>\n",
       "      <th>To</th>\n",
       "      <th>3</th>\n",
       "    </tr>\n",
       "    <tr>\n",
       "      <th>time</th>\n",
       "      <th></th>\n",
       "    </tr>\n",
       "  </thead>\n",
       "  <tbody>\n",
       "    <tr>\n",
       "      <th>2013-01-04 08:00:00</th>\n",
       "      <td>1</td>\n",
       "    </tr>\n",
       "    <tr>\n",
       "      <th>2013-01-04 09:00:00</th>\n",
       "      <td>1</td>\n",
       "    </tr>\n",
       "    <tr>\n",
       "      <th>2013-01-04 10:00:00</th>\n",
       "      <td>1</td>\n",
       "    </tr>\n",
       "    <tr>\n",
       "      <th>2013-01-04 11:00:00</th>\n",
       "      <td>1</td>\n",
       "    </tr>\n",
       "    <tr>\n",
       "      <th>2013-01-04 12:00:00</th>\n",
       "      <td>1</td>\n",
       "    </tr>\n",
       "    <tr>\n",
       "      <th>...</th>\n",
       "      <td>...</td>\n",
       "    </tr>\n",
       "    <tr>\n",
       "      <th>2021-10-27 20:00:00</th>\n",
       "      <td>1</td>\n",
       "    </tr>\n",
       "    <tr>\n",
       "      <th>2021-10-27 21:00:00</th>\n",
       "      <td>1</td>\n",
       "    </tr>\n",
       "    <tr>\n",
       "      <th>2021-10-27 22:00:00</th>\n",
       "      <td>NaN</td>\n",
       "    </tr>\n",
       "    <tr>\n",
       "      <th>2021-10-27 23:00:00</th>\n",
       "      <td>NaN</td>\n",
       "    </tr>\n",
       "    <tr>\n",
       "      <th>2021-10-28 00:00:00</th>\n",
       "      <td>NaN</td>\n",
       "    </tr>\n",
       "  </tbody>\n",
       "</table>\n",
       "<p>54724 rows × 1 columns</p>\n",
       "</div>"
      ],
      "text/plain": [
       "From                   1\n",
       "To                     3\n",
       "time                    \n",
       "2013-01-04 08:00:00    1\n",
       "2013-01-04 09:00:00    1\n",
       "2013-01-04 10:00:00    1\n",
       "2013-01-04 11:00:00    1\n",
       "2013-01-04 12:00:00    1\n",
       "...                  ...\n",
       "2021-10-27 20:00:00    1\n",
       "2021-10-27 21:00:00    1\n",
       "2021-10-27 22:00:00  NaN\n",
       "2021-10-27 23:00:00  NaN\n",
       "2021-10-28 00:00:00  NaN\n",
       "\n",
       "[54724 rows x 1 columns]"
      ]
     },
     "execution_count": 24,
     "metadata": {},
     "output_type": "execute_result"
    }
   ],
   "source": [
    "dfOutputInvestability"
   ]
  },
  {
   "cell_type": "markdown",
   "id": "16787112",
   "metadata": {},
   "source": [
    "### Remove Empty Rows"
   ]
  },
  {
   "cell_type": "code",
   "execution_count": 25,
   "id": "9e03e15b",
   "metadata": {},
   "outputs": [],
   "source": [
    "aMissingOutputs = dfOutputInvestability[dfOutputInvestability.isna().any(axis=1)].index\n",
    "dfInputInvestability.drop(aMissingOutputs, inplace = True)\n",
    "dfOutputInvestability.drop(aMissingOutputs, inplace = True)"
   ]
  },
  {
   "cell_type": "markdown",
   "id": "c0c2102f",
   "metadata": {},
   "source": [
    "### Split Data"
   ]
  },
  {
   "cell_type": "code",
   "execution_count": 26,
   "id": "d6154ebd",
   "metadata": {},
   "outputs": [],
   "source": [
    "dfInputTrain, dfInputValidation, dfInputTest, dfOutputTrain, dfOutputValidation, dfOutputTest = dfSplitData(dfInputInvestability, \n",
    "                                                                                                            dfOutputInvestability)"
   ]
  },
  {
   "cell_type": "markdown",
   "id": "bd0d669c",
   "metadata": {},
   "source": [
    "### Scale Data"
   ]
  },
  {
   "cell_type": "code",
   "execution_count": 27,
   "id": "d506f074",
   "metadata": {},
   "outputs": [],
   "source": [
    "dfScaledInputTrain, dfScaledInputValidation, dfScaledInputTest = dfScaleData(\"input\", dfInputTrain,dfInputValidation, dfInputTest )"
   ]
  },
  {
   "cell_type": "markdown",
   "id": "9b6b9931",
   "metadata": {},
   "source": [
    "### Balance Classes"
   ]
  },
  {
   "cell_type": "code",
   "execution_count": 28,
   "id": "89f6c7f2",
   "metadata": {},
   "outputs": [
    {
     "data": {
      "text/plain": [
       "(1, 3)\n",
       "1.0       28802\n",
       "0.0        4030\n",
       "dtype: int64"
      ]
     },
     "execution_count": 28,
     "metadata": {},
     "output_type": "execute_result"
    }
   ],
   "source": [
    "dfOutputTrain.value_counts()"
   ]
  },
  {
   "cell_type": "code",
   "execution_count": 29,
   "id": "53a4994f",
   "metadata": {},
   "outputs": [],
   "source": [
    "dfBalancedInputTrain , dfBalancedOutputTrain = dfOversampleImbalancedData(\n",
    "    dfScaledInputTrain,\n",
    "    dfOutputTrain)\n",
    "dfBalancedOutputTrain.columns = aColumns"
   ]
  },
  {
   "cell_type": "code",
   "execution_count": 30,
   "id": "9bfa3eea",
   "metadata": {},
   "outputs": [
    {
     "data": {
      "text/plain": [
       "(1, 3)\n",
       "0.0       28802\n",
       "1.0       28802\n",
       "dtype: int64"
      ]
     },
     "execution_count": 30,
     "metadata": {},
     "output_type": "execute_result"
    }
   ],
   "source": [
    "dfBalancedOutputTrain.value_counts()"
   ]
  },
  {
   "cell_type": "code",
   "execution_count": 31,
   "id": "71839c5c",
   "metadata": {},
   "outputs": [
    {
     "data": {
      "text/plain": [
       "(1, 3)\n",
       "1.0       9587\n",
       "0.0       1357\n",
       "dtype: int64"
      ]
     },
     "execution_count": 31,
     "metadata": {},
     "output_type": "execute_result"
    }
   ],
   "source": [
    "dfOutputValidation.value_counts()"
   ]
  },
  {
   "cell_type": "code",
   "execution_count": 32,
   "id": "88179483",
   "metadata": {},
   "outputs": [
    {
     "data": {
      "text/plain": [
       "(1, 3)\n",
       "1.0       9898\n",
       "0.0       1047\n",
       "dtype: int64"
      ]
     },
     "execution_count": 32,
     "metadata": {},
     "output_type": "execute_result"
    }
   ],
   "source": [
    "dfOutputTest.value_counts()"
   ]
  },
  {
   "cell_type": "markdown",
   "id": "47d1128f",
   "metadata": {},
   "source": [
    "## Train"
   ]
  },
  {
   "cell_type": "code",
   "execution_count": 33,
   "id": "0ff3f1f4",
   "metadata": {},
   "outputs": [
    {
     "name": "stdout",
     "output_type": "stream",
     "text": [
      "Epoch 1/10000\n",
      "113/113 [==============================] - 10s 14ms/step - loss: 0.6816 - val_loss: 0.6230\n",
      "Epoch 2/10000\n",
      "113/113 [==============================] - 1s 10ms/step - loss: 0.6722 - val_loss: 0.5756\n",
      "Epoch 3/10000\n",
      "113/113 [==============================] - 1s 10ms/step - loss: 0.6669 - val_loss: 0.5427\n",
      "Epoch 4/10000\n",
      "113/113 [==============================] - 1s 10ms/step - loss: 0.6643 - val_loss: 0.5228\n",
      "Epoch 5/10000\n",
      "113/113 [==============================] - 1s 11ms/step - loss: 0.6630 - val_loss: 0.5117\n",
      "Epoch 6/10000\n",
      "113/113 [==============================] - 1s 10ms/step - loss: 0.6622 - val_loss: 0.5069\n",
      "Epoch 7/10000\n",
      "113/113 [==============================] - 2s 14ms/step - loss: 0.6617 - val_loss: 0.5056\n",
      "Epoch 8/10000\n",
      "113/113 [==============================] - 1s 12ms/step - loss: 0.6612 - val_loss: 0.5060\n",
      "Epoch 9/10000\n",
      "113/113 [==============================] - 1s 10ms/step - loss: 0.6607 - val_loss: 0.5068\n",
      "Epoch 10/10000\n",
      "113/113 [==============================] - 1s 10ms/step - loss: 0.6603 - val_loss: 0.5095\n",
      "Epoch 11/10000\n",
      "113/113 [==============================] - 1s 10ms/step - loss: 0.6600 - val_loss: 0.5084\n",
      "Epoch 12/10000\n",
      "113/113 [==============================] - 1s 10ms/step - loss: 0.6596 - val_loss: 0.5119\n",
      "Epoch 13/10000\n",
      "113/113 [==============================] - 1s 10ms/step - loss: 0.6593 - val_loss: 0.5147: 0s - loss: 0.6\n",
      "Epoch 14/10000\n",
      "113/113 [==============================] - 1s 10ms/step - loss: 0.6590 - val_loss: 0.5169\n",
      "Epoch 15/10000\n",
      "113/113 [==============================] - 1s 10ms/step - loss: 0.6588 - val_loss: 0.5203\n",
      "Epoch 16/10000\n",
      "113/113 [==============================] - 1s 10ms/step - loss: 0.6585 - val_loss: 0.5209\n",
      "Epoch 17/10000\n",
      "113/113 [==============================] - 1s 10ms/step - loss: 0.6583 - val_loss: 0.5224\n",
      "Epoch 18/10000\n",
      "113/113 [==============================] - 1s 10ms/step - loss: 0.6581 - val_loss: 0.5226\n",
      "Epoch 19/10000\n",
      "113/113 [==============================] - 1s 10ms/step - loss: 0.6579 - val_loss: 0.5256\n",
      "Epoch 20/10000\n",
      "113/113 [==============================] - 1s 10ms/step - loss: 0.6577 - val_loss: 0.5294\n",
      "Epoch 21/10000\n",
      "113/113 [==============================] - 1s 10ms/step - loss: 0.6576 - val_loss: 0.5301\n",
      "Epoch 22/10000\n",
      "113/113 [==============================] - 1s 10ms/step - loss: 0.6574 - val_loss: 0.5297\n",
      "Epoch 23/10000\n",
      "113/113 [==============================] - 1s 12ms/step - loss: 0.6573 - val_loss: 0.5341\n",
      "Epoch 24/10000\n",
      "113/113 [==============================] - 2s 14ms/step - loss: 0.6571 - val_loss: 0.5385\n",
      "Epoch 25/10000\n",
      "113/113 [==============================] - 2s 14ms/step - loss: 0.6570 - val_loss: 0.5384\n",
      "Epoch 26/10000\n",
      "113/113 [==============================] - 2s 14ms/step - loss: 0.6568 - val_loss: 0.5362\n",
      "Epoch 27/10000\n",
      "113/113 [==============================] - 2s 13ms/step - loss: 0.6567 - val_loss: 0.5417\n"
     ]
    },
    {
     "data": {
      "image/png": "[encoded data removed]",
      "text/plain": [
       "<Figure size 432x288 with 1 Axes>"
      ]
     },
     "metadata": {
      "needs_background": "light"
     },
     "output_type": "display_data"
    }
   ],
   "source": [
    "oPredictiveModel = Long_Short_Term_Memory(\n",
    "    sSubModelName, \n",
    "    dfScaledInputTrain.shape[1], \n",
    "    1,\n",
    "    len(g_aBackwardTimeSteps), \n",
    "    1\n",
    "    )\n",
    "\n",
    "oPredictiveModel.Train(dfBalancedInputTrain, \n",
    "                       dfBalancedOutputTrain,\n",
    "                       dfScaledInputValidation,\n",
    "                       dfOutputValidation\n",
    "                      )"
   ]
  },
  {
   "cell_type": "markdown",
   "id": "3389a00a",
   "metadata": {},
   "source": [
    "## Test"
   ]
  },
  {
   "cell_type": "code",
   "execution_count": 34,
   "id": "1105a7ac",
   "metadata": {},
   "outputs": [],
   "source": [
    "aPredictionProb, _ = oPredictiveModel.aPredict(dfScaledInputTest)\n",
    "\n",
    "aPrediction = aPredictionProb.round()\n",
    "\n",
    "dfPrediction = pd.DataFrame(aPrediction, index = dfInputTest.index)\n",
    "dfPrediction.columns = aColumns"
   ]
  },
  {
   "cell_type": "code",
   "execution_count": 35,
   "id": "d895dc3b",
   "metadata": {},
   "outputs": [
    {
     "data": {
      "text/plain": [
       "(1, 3)\n",
       "1.0       7856\n",
       "0.0       3089\n",
       "dtype: int64"
      ]
     },
     "execution_count": 35,
     "metadata": {},
     "output_type": "execute_result"
    }
   ],
   "source": [
    "dfPrediction.value_counts()"
   ]
  },
  {
   "cell_type": "code",
   "execution_count": 36,
   "id": "09d189d7",
   "metadata": {
    "scrolled": true
   },
   "outputs": [
    {
     "name": "stdout",
     "output_type": "stream",
     "text": [
      "              precision    recall  f1-score   support\n",
      "\n",
      "         0.0       0.12      0.34      0.17      1047\n",
      "         1.0       0.91      0.72      0.81      9898\n",
      "\n",
      "    accuracy                           0.69     10945\n",
      "   macro avg       0.51      0.53      0.49     10945\n",
      "weighted avg       0.84      0.69      0.75     10945\n",
      "\n"
     ]
    }
   ],
   "source": [
    "print(classification_report(dfOutputTest, dfPrediction))"
   ]
  },
  {
   "cell_type": "markdown",
   "id": "a1edcb31",
   "metadata": {},
   "source": [
    "# DIRECTIONAL MODEL"
   ]
  },
  {
   "cell_type": "code",
   "execution_count": 37,
   "id": "e6fabc7e",
   "metadata": {},
   "outputs": [],
   "source": [
    "sModelName = os.path.join(sSymbol , \"__directional model__\")"
   ]
  },
  {
   "cell_type": "code",
   "execution_count": 38,
   "id": "294a054e",
   "metadata": {},
   "outputs": [],
   "source": [
    "sSubModelName = os.path.join(sModelName , \"__\"+ str(i) +\"  \" + str(j) + \"__\")"
   ]
  },
  {
   "cell_type": "markdown",
   "id": "d2850b94",
   "metadata": {},
   "source": [
    "## Preprocessing"
   ]
  },
  {
   "cell_type": "code",
   "execution_count": 39,
   "id": "38436612",
   "metadata": {},
   "outputs": [],
   "source": [
    "dfInputDirectional = dfInput.copy()\n",
    "dfOutputDirectional = dfOutput.copy()"
   ]
  },
  {
   "cell_type": "code",
   "execution_count": 40,
   "id": "1f4d1205",
   "metadata": {},
   "outputs": [],
   "source": [
    "dfMaskUpward = dfClose>dfOpen\n",
    "dfMaskDownward = dfClose<dfOpen \n",
    "\n",
    "dfOutputDirectional.loc[(dfMaskInvestable) & (dfMaskDownward)] = 0\n",
    "dfOutputDirectional.loc[(dfMaskInvestable) & (dfMaskUpward)] = 1"
   ]
  },
  {
   "cell_type": "code",
   "execution_count": 41,
   "id": "7446b2b1",
   "metadata": {},
   "outputs": [
    {
     "data": {
      "text/html": [
       "<div>\n",
       "<style scoped>\n",
       "    .dataframe tbody tr th:only-of-type {\n",
       "        vertical-align: middle;\n",
       "    }\n",
       "\n",
       "    .dataframe tbody tr th {\n",
       "        vertical-align: top;\n",
       "    }\n",
       "\n",
       "    .dataframe thead tr th {\n",
       "        text-align: left;\n",
       "    }\n",
       "\n",
       "    .dataframe thead tr:last-of-type th {\n",
       "        text-align: right;\n",
       "    }\n",
       "</style>\n",
       "<table border=\"1\" class=\"dataframe\">\n",
       "  <thead>\n",
       "    <tr>\n",
       "      <th>From</th>\n",
       "      <th>1</th>\n",
       "    </tr>\n",
       "    <tr>\n",
       "      <th>To</th>\n",
       "      <th>3</th>\n",
       "    </tr>\n",
       "    <tr>\n",
       "      <th>time</th>\n",
       "      <th></th>\n",
       "    </tr>\n",
       "  </thead>\n",
       "  <tbody>\n",
       "    <tr>\n",
       "      <th>2013-01-04 08:00:00</th>\n",
       "      <td>1</td>\n",
       "    </tr>\n",
       "    <tr>\n",
       "      <th>2013-01-04 09:00:00</th>\n",
       "      <td>1</td>\n",
       "    </tr>\n",
       "    <tr>\n",
       "      <th>2013-01-04 10:00:00</th>\n",
       "      <td>1</td>\n",
       "    </tr>\n",
       "    <tr>\n",
       "      <th>2013-01-04 11:00:00</th>\n",
       "      <td>1</td>\n",
       "    </tr>\n",
       "    <tr>\n",
       "      <th>2013-01-04 12:00:00</th>\n",
       "      <td>0</td>\n",
       "    </tr>\n",
       "    <tr>\n",
       "      <th>...</th>\n",
       "      <td>...</td>\n",
       "    </tr>\n",
       "    <tr>\n",
       "      <th>2021-10-27 20:00:00</th>\n",
       "      <td>1</td>\n",
       "    </tr>\n",
       "    <tr>\n",
       "      <th>2021-10-27 21:00:00</th>\n",
       "      <td>1</td>\n",
       "    </tr>\n",
       "    <tr>\n",
       "      <th>2021-10-27 22:00:00</th>\n",
       "      <td>NaN</td>\n",
       "    </tr>\n",
       "    <tr>\n",
       "      <th>2021-10-27 23:00:00</th>\n",
       "      <td>NaN</td>\n",
       "    </tr>\n",
       "    <tr>\n",
       "      <th>2021-10-28 00:00:00</th>\n",
       "      <td>NaN</td>\n",
       "    </tr>\n",
       "  </tbody>\n",
       "</table>\n",
       "<p>54724 rows × 1 columns</p>\n",
       "</div>"
      ],
      "text/plain": [
       "From                   1\n",
       "To                     3\n",
       "time                    \n",
       "2013-01-04 08:00:00    1\n",
       "2013-01-04 09:00:00    1\n",
       "2013-01-04 10:00:00    1\n",
       "2013-01-04 11:00:00    1\n",
       "2013-01-04 12:00:00    0\n",
       "...                  ...\n",
       "2021-10-27 20:00:00    1\n",
       "2021-10-27 21:00:00    1\n",
       "2021-10-27 22:00:00  NaN\n",
       "2021-10-27 23:00:00  NaN\n",
       "2021-10-28 00:00:00  NaN\n",
       "\n",
       "[54724 rows x 1 columns]"
      ]
     },
     "execution_count": 41,
     "metadata": {},
     "output_type": "execute_result"
    }
   ],
   "source": [
    "dfOutputDirectional"
   ]
  },
  {
   "cell_type": "markdown",
   "id": "78e02677",
   "metadata": {},
   "source": [
    "### Remove Empty Rows"
   ]
  },
  {
   "cell_type": "code",
   "execution_count": 42,
   "id": "016840c6",
   "metadata": {},
   "outputs": [],
   "source": [
    "aMissingOutputs = dfOutputDirectional[dfOutputDirectional.isna().any(axis=1)].index\n",
    "dfInputDirectional.drop(aMissingOutputs, inplace = True)\n",
    "dfOutputDirectional.drop(aMissingOutputs, inplace = True)"
   ]
  },
  {
   "cell_type": "markdown",
   "id": "6e9cd8c1",
   "metadata": {},
   "source": [
    "### Split Data"
   ]
  },
  {
   "cell_type": "code",
   "execution_count": 43,
   "id": "e7857648",
   "metadata": {},
   "outputs": [],
   "source": [
    "dfInputTrain, dfInputValidation, dfInputTest, dfOutputTrain, dfOutputValidation, dfOutputTest = dfSplitData(dfInputDirectional, \n",
    "                                                                                                            dfOutputDirectional)"
   ]
  },
  {
   "cell_type": "markdown",
   "id": "d867c265",
   "metadata": {},
   "source": [
    "### Scale Data"
   ]
  },
  {
   "cell_type": "code",
   "execution_count": 44,
   "id": "38a247ce",
   "metadata": {},
   "outputs": [],
   "source": [
    "dfScaledInputTrain, dfScaledInputValidation, dfScaledInputTest = dfScaleData(\"input\", dfInputTrain,dfInputValidation, dfInputTest)"
   ]
  },
  {
   "cell_type": "markdown",
   "id": "92d9f864",
   "metadata": {},
   "source": [
    "### Balance Classes"
   ]
  },
  {
   "cell_type": "code",
   "execution_count": 45,
   "id": "4f0a0894",
   "metadata": {},
   "outputs": [
    {
     "data": {
      "text/plain": [
       "(1, 3)\n",
       "1.0       14742\n",
       "0.0       14229\n",
       "dtype: int64"
      ]
     },
     "execution_count": 45,
     "metadata": {},
     "output_type": "execute_result"
    }
   ],
   "source": [
    "dfOutputTrain.value_counts()"
   ]
  },
  {
   "cell_type": "code",
   "execution_count": 46,
   "id": "54d54711",
   "metadata": {},
   "outputs": [],
   "source": [
    "dfBalancedInputTrain , dfBalancedOutputTrain = dfOversampleImbalancedData(\n",
    "    dfScaledInputTrain,\n",
    "    dfOutputTrain)\n",
    "dfBalancedOutputTrain.columns = aColumns"
   ]
  },
  {
   "cell_type": "code",
   "execution_count": 47,
   "id": "1d7d92a1",
   "metadata": {},
   "outputs": [
    {
     "data": {
      "text/plain": [
       "(1, 3)\n",
       "0.0       14742\n",
       "1.0       14742\n",
       "dtype: int64"
      ]
     },
     "execution_count": 47,
     "metadata": {},
     "output_type": "execute_result"
    }
   ],
   "source": [
    "dfBalancedOutputTrain.value_counts()"
   ]
  },
  {
   "cell_type": "code",
   "execution_count": 48,
   "id": "7cb2e5e8",
   "metadata": {},
   "outputs": [
    {
     "data": {
      "text/plain": [
       "(1, 3)\n",
       "1.0       4908\n",
       "0.0       4750\n",
       "dtype: int64"
      ]
     },
     "execution_count": 48,
     "metadata": {},
     "output_type": "execute_result"
    }
   ],
   "source": [
    "dfOutputValidation.value_counts()"
   ]
  },
  {
   "cell_type": "code",
   "execution_count": 49,
   "id": "7f6e7f59",
   "metadata": {},
   "outputs": [
    {
     "data": {
      "text/plain": [
       "(1, 3)\n",
       "0.0       4946\n",
       "1.0       4712\n",
       "dtype: int64"
      ]
     },
     "execution_count": 49,
     "metadata": {},
     "output_type": "execute_result"
    }
   ],
   "source": [
    "dfOutputTest.value_counts()"
   ]
  },
  {
   "cell_type": "markdown",
   "id": "cd272c43",
   "metadata": {},
   "source": [
    "## Train"
   ]
  },
  {
   "cell_type": "code",
   "execution_count": 50,
   "id": "aadc49b0",
   "metadata": {},
   "outputs": [
    {
     "name": "stdout",
     "output_type": "stream",
     "text": [
      "Epoch 1/10000\n",
      "58/58 [==============================] - 4s 23ms/step - loss: 0.6930 - val_loss: 0.6936\n",
      "Epoch 2/10000\n",
      "58/58 [==============================] - 1s 11ms/step - loss: 0.6929 - val_loss: 0.6936\n",
      "Epoch 3/10000\n",
      "58/58 [==============================] - 1s 11ms/step - loss: 0.6928 - val_loss: 0.6937\n",
      "Epoch 4/10000\n",
      "58/58 [==============================] - 1s 11ms/step - loss: 0.6927 - val_loss: 0.6937\n",
      "Epoch 5/10000\n",
      "58/58 [==============================] - 1s 11ms/step - loss: 0.6926 - val_loss: 0.6937\n",
      "Epoch 6/10000\n",
      "58/58 [==============================] - 1s 15ms/step - loss: 0.6925 - val_loss: 0.6937\n",
      "Epoch 7/10000\n",
      "58/58 [==============================] - 1s 15ms/step - loss: 0.6925 - val_loss: 0.6938\n",
      "Epoch 8/10000\n",
      "58/58 [==============================] - 1s 15ms/step - loss: 0.6924 - val_loss: 0.6937\n",
      "Epoch 9/10000\n",
      "58/58 [==============================] - 1s 15ms/step - loss: 0.6924 - val_loss: 0.6937\n",
      "Epoch 10/10000\n",
      "58/58 [==============================] - 1s 15ms/step - loss: 0.6923 - val_loss: 0.6938\n",
      "Epoch 11/10000\n",
      "58/58 [==============================] - 1s 15ms/step - loss: 0.6923 - val_loss: 0.6938\n",
      "Epoch 12/10000\n",
      "58/58 [==============================] - 1s 15ms/step - loss: 0.6922 - val_loss: 0.6938\n",
      "Epoch 13/10000\n",
      "58/58 [==============================] - 1s 15ms/step - loss: 0.6922 - val_loss: 0.6939\n",
      "Epoch 14/10000\n",
      "58/58 [==============================] - 1s 15ms/step - loss: 0.6922 - val_loss: 0.6939\n",
      "Epoch 15/10000\n",
      "58/58 [==============================] - 1s 15ms/step - loss: 0.6922 - val_loss: 0.6939\n",
      "Epoch 16/10000\n",
      "58/58 [==============================] - 1s 15ms/step - loss: 0.6921 - val_loss: 0.6939\n",
      "Epoch 17/10000\n",
      "58/58 [==============================] - 1s 15ms/step - loss: 0.6921 - val_loss: 0.6940\n",
      "Epoch 18/10000\n",
      "58/58 [==============================] - 1s 15ms/step - loss: 0.6921 - val_loss: 0.6940\n",
      "Epoch 19/10000\n",
      "58/58 [==============================] - 1s 15ms/step - loss: 0.6921 - val_loss: 0.6940\n",
      "Epoch 20/10000\n",
      "58/58 [==============================] - 1s 15ms/step - loss: 0.6921 - val_loss: 0.6940\n",
      "Epoch 21/10000\n",
      "58/58 [==============================] - 1s 15ms/step - loss: 0.6920 - val_loss: 0.6940\n"
     ]
    },
    {
     "data": {
      "image/png": "[encoded data removed]",
      "text/plain": [
       "<Figure size 432x288 with 1 Axes>"
      ]
     },
     "metadata": {
      "needs_background": "light"
     },
     "output_type": "display_data"
    }
   ],
   "source": [
    "oPredictiveModel = Long_Short_Term_Memory(\n",
    "    sSubModelName, \n",
    "    dfScaledInputTrain.shape[1], \n",
    "    1,\n",
    "    len(g_aBackwardTimeSteps), \n",
    "    1\n",
    "    )\n",
    "\n",
    "oPredictiveModel.Train(dfBalancedInputTrain, \n",
    "                       dfBalancedOutputTrain,\n",
    "                       dfScaledInputValidation,\n",
    "                       dfOutputValidation\n",
    "                      )"
   ]
  },
  {
   "cell_type": "markdown",
   "id": "988c117a",
   "metadata": {},
   "source": [
    "## Test"
   ]
  },
  {
   "cell_type": "code",
   "execution_count": 51,
   "id": "862e6cd8",
   "metadata": {},
   "outputs": [],
   "source": [
    "aPredictionProb, _ = oPredictiveModel.aPredict(dfScaledInputTest)\n",
    "\n",
    "aPrediction = aPredictionProb.round()\n",
    "\n",
    "dfPrediction = pd.DataFrame(aPrediction, index = dfInputTest.index)\n",
    "dfPrediction.columns = aColumns"
   ]
  },
  {
   "cell_type": "code",
   "execution_count": 52,
   "id": "26914599",
   "metadata": {},
   "outputs": [
    {
     "data": {
      "text/plain": [
       "(1, 3)\n",
       "0.0       6847\n",
       "1.0       2811\n",
       "dtype: int64"
      ]
     },
     "execution_count": 52,
     "metadata": {},
     "output_type": "execute_result"
    }
   ],
   "source": [
    "dfPrediction.value_counts()"
   ]
  },
  {
   "cell_type": "code",
   "execution_count": 53,
   "id": "7936f2a9",
   "metadata": {},
   "outputs": [
    {
     "name": "stdout",
     "output_type": "stream",
     "text": [
      "              precision    recall  f1-score   support\n",
      "\n",
      "         0.0       0.52      0.72      0.60      4946\n",
      "         1.0       0.50      0.30      0.37      4712\n",
      "\n",
      "    accuracy                           0.51      9658\n",
      "   macro avg       0.51      0.51      0.49      9658\n",
      "weighted avg       0.51      0.51      0.49      9658\n",
      "\n"
     ]
    }
   ],
   "source": [
    "print(classification_report(dfOutputTest, dfPrediction))"
   ]
  },
  {
   "cell_type": "markdown",
   "id": "cc84d4e1",
   "metadata": {},
   "source": [
    "# UPWARD REGRESSION MODEL"
   ]
  },
  {
   "cell_type": "code",
   "execution_count": 54,
   "id": "404f4f70",
   "metadata": {},
   "outputs": [],
   "source": [
    "sModelName = os.path.join(sSymbol , \"__upward regression model__\")"
   ]
  },
  {
   "cell_type": "code",
   "execution_count": 55,
   "id": "ae829f82",
   "metadata": {},
   "outputs": [],
   "source": [
    "sSubModelName = os.path.join(sModelName , \"__\"+ str(i) +\"  \" + str(j) + \"__\")"
   ]
  },
  {
   "cell_type": "markdown",
   "id": "5c6be5a7",
   "metadata": {},
   "source": [
    "## Preprocessing"
   ]
  },
  {
   "cell_type": "code",
   "execution_count": 211,
   "id": "fee2856c",
   "metadata": {},
   "outputs": [],
   "source": [
    "dfInputUpward = dfInput.copy()\n",
    "dfOutputUpward = dfOutput.copy()"
   ]
  },
  {
   "cell_type": "code",
   "execution_count": 212,
   "id": "74cdef0a",
   "metadata": {
    "scrolled": true
   },
   "outputs": [],
   "source": [
    "dfOutputUpward.loc[dfMaskInvestable & dfMaskUpward, i] = dfReturn.loc[dfOutputUpward.index].loc[dfMaskInvestable & dfMaskUpward].values"
   ]
  },
  {
   "cell_type": "code",
   "execution_count": 213,
   "id": "df2faa1a",
   "metadata": {},
   "outputs": [
    {
     "data": {
      "text/html": [
       "<div>\n",
       "<style scoped>\n",
       "    .dataframe tbody tr th:only-of-type {\n",
       "        vertical-align: middle;\n",
       "    }\n",
       "\n",
       "    .dataframe tbody tr th {\n",
       "        vertical-align: top;\n",
       "    }\n",
       "\n",
       "    .dataframe thead tr th {\n",
       "        text-align: left;\n",
       "    }\n",
       "\n",
       "    .dataframe thead tr:last-of-type th {\n",
       "        text-align: right;\n",
       "    }\n",
       "</style>\n",
       "<table border=\"1\" class=\"dataframe\">\n",
       "  <thead>\n",
       "    <tr>\n",
       "      <th>From</th>\n",
       "      <th>1</th>\n",
       "    </tr>\n",
       "    <tr>\n",
       "      <th>To</th>\n",
       "      <th>3</th>\n",
       "    </tr>\n",
       "    <tr>\n",
       "      <th>time</th>\n",
       "      <th></th>\n",
       "    </tr>\n",
       "  </thead>\n",
       "  <tbody>\n",
       "    <tr>\n",
       "      <th>2013-01-04 08:00:00</th>\n",
       "      <td>0.001507</td>\n",
       "    </tr>\n",
       "    <tr>\n",
       "      <th>2013-01-04 09:00:00</th>\n",
       "      <td>0.00104</td>\n",
       "    </tr>\n",
       "    <tr>\n",
       "      <th>2013-01-04 10:00:00</th>\n",
       "      <td>0.001727</td>\n",
       "    </tr>\n",
       "    <tr>\n",
       "      <th>2013-01-04 11:00:00</th>\n",
       "      <td>0.001141</td>\n",
       "    </tr>\n",
       "    <tr>\n",
       "      <th>2013-01-04 12:00:00</th>\n",
       "      <td>NaN</td>\n",
       "    </tr>\n",
       "    <tr>\n",
       "      <th>...</th>\n",
       "      <td>...</td>\n",
       "    </tr>\n",
       "    <tr>\n",
       "      <th>2021-10-27 20:00:00</th>\n",
       "      <td>0.00133</td>\n",
       "    </tr>\n",
       "    <tr>\n",
       "      <th>2021-10-27 21:00:00</th>\n",
       "      <td>0.001442</td>\n",
       "    </tr>\n",
       "    <tr>\n",
       "      <th>2021-10-27 22:00:00</th>\n",
       "      <td>NaN</td>\n",
       "    </tr>\n",
       "    <tr>\n",
       "      <th>2021-10-27 23:00:00</th>\n",
       "      <td>NaN</td>\n",
       "    </tr>\n",
       "    <tr>\n",
       "      <th>2021-10-28 00:00:00</th>\n",
       "      <td>NaN</td>\n",
       "    </tr>\n",
       "  </tbody>\n",
       "</table>\n",
       "<p>54724 rows × 1 columns</p>\n",
       "</div>"
      ],
      "text/plain": [
       "From                        1\n",
       "To                          3\n",
       "time                         \n",
       "2013-01-04 08:00:00  0.001507\n",
       "2013-01-04 09:00:00   0.00104\n",
       "2013-01-04 10:00:00  0.001727\n",
       "2013-01-04 11:00:00  0.001141\n",
       "2013-01-04 12:00:00       NaN\n",
       "...                       ...\n",
       "2021-10-27 20:00:00   0.00133\n",
       "2021-10-27 21:00:00  0.001442\n",
       "2021-10-27 22:00:00       NaN\n",
       "2021-10-27 23:00:00       NaN\n",
       "2021-10-28 00:00:00       NaN\n",
       "\n",
       "[54724 rows x 1 columns]"
      ]
     },
     "execution_count": 213,
     "metadata": {},
     "output_type": "execute_result"
    }
   ],
   "source": [
    "dfOutputUpward"
   ]
  },
  {
   "cell_type": "markdown",
   "id": "c5d44f80",
   "metadata": {},
   "source": [
    "### Remove Empty Rows"
   ]
  },
  {
   "cell_type": "code",
   "execution_count": 214,
   "id": "abb7f719",
   "metadata": {},
   "outputs": [],
   "source": [
    "aMissingOutputs = dfOutputUpward[dfOutputUpward.isna().any(axis=1)].index\n",
    "dfInputUpward.drop(aMissingOutputs, inplace = True)\n",
    "dfOutputUpward.drop(aMissingOutputs, inplace = True)"
   ]
  },
  {
   "cell_type": "code",
   "execution_count": 215,
   "id": "ef851bc7",
   "metadata": {},
   "outputs": [
    {
     "data": {
      "text/html": [
       "<div>\n",
       "<style scoped>\n",
       "    .dataframe tbody tr th:only-of-type {\n",
       "        vertical-align: middle;\n",
       "    }\n",
       "\n",
       "    .dataframe tbody tr th {\n",
       "        vertical-align: top;\n",
       "    }\n",
       "\n",
       "    .dataframe thead tr th {\n",
       "        text-align: left;\n",
       "    }\n",
       "\n",
       "    .dataframe thead tr:last-of-type th {\n",
       "        text-align: right;\n",
       "    }\n",
       "</style>\n",
       "<table border=\"1\" class=\"dataframe\">\n",
       "  <thead>\n",
       "    <tr>\n",
       "      <th>From</th>\n",
       "      <th>1</th>\n",
       "    </tr>\n",
       "    <tr>\n",
       "      <th>To</th>\n",
       "      <th>3</th>\n",
       "    </tr>\n",
       "    <tr>\n",
       "      <th>time</th>\n",
       "      <th></th>\n",
       "    </tr>\n",
       "  </thead>\n",
       "  <tbody>\n",
       "    <tr>\n",
       "      <th>2013-01-04 08:00:00</th>\n",
       "      <td>0.001507</td>\n",
       "    </tr>\n",
       "    <tr>\n",
       "      <th>2013-01-04 09:00:00</th>\n",
       "      <td>0.00104</td>\n",
       "    </tr>\n",
       "    <tr>\n",
       "      <th>2013-01-04 10:00:00</th>\n",
       "      <td>0.001727</td>\n",
       "    </tr>\n",
       "    <tr>\n",
       "      <th>2013-01-04 11:00:00</th>\n",
       "      <td>0.001141</td>\n",
       "    </tr>\n",
       "    <tr>\n",
       "      <th>2013-01-04 16:00:00</th>\n",
       "      <td>0.000792</td>\n",
       "    </tr>\n",
       "    <tr>\n",
       "      <th>...</th>\n",
       "      <td>...</td>\n",
       "    </tr>\n",
       "    <tr>\n",
       "      <th>2021-10-27 12:00:00</th>\n",
       "      <td>0.001031</td>\n",
       "    </tr>\n",
       "    <tr>\n",
       "      <th>2021-10-27 18:00:00</th>\n",
       "      <td>0.000511</td>\n",
       "    </tr>\n",
       "    <tr>\n",
       "      <th>2021-10-27 19:00:00</th>\n",
       "      <td>0.00279</td>\n",
       "    </tr>\n",
       "    <tr>\n",
       "      <th>2021-10-27 20:00:00</th>\n",
       "      <td>0.00133</td>\n",
       "    </tr>\n",
       "    <tr>\n",
       "      <th>2021-10-27 21:00:00</th>\n",
       "      <td>0.001442</td>\n",
       "    </tr>\n",
       "  </tbody>\n",
       "</table>\n",
       "<p>24362 rows × 1 columns</p>\n",
       "</div>"
      ],
      "text/plain": [
       "From                        1\n",
       "To                          3\n",
       "time                         \n",
       "2013-01-04 08:00:00  0.001507\n",
       "2013-01-04 09:00:00   0.00104\n",
       "2013-01-04 10:00:00  0.001727\n",
       "2013-01-04 11:00:00  0.001141\n",
       "2013-01-04 16:00:00  0.000792\n",
       "...                       ...\n",
       "2021-10-27 12:00:00  0.001031\n",
       "2021-10-27 18:00:00  0.000511\n",
       "2021-10-27 19:00:00   0.00279\n",
       "2021-10-27 20:00:00   0.00133\n",
       "2021-10-27 21:00:00  0.001442\n",
       "\n",
       "[24362 rows x 1 columns]"
      ]
     },
     "execution_count": 215,
     "metadata": {},
     "output_type": "execute_result"
    }
   ],
   "source": [
    "dfOutputUpward"
   ]
  },
  {
   "cell_type": "code",
   "execution_count": 216,
   "id": "43831d3d",
   "metadata": {},
   "outputs": [],
   "source": [
    "# f95thPercentile = dfOutputUpward.iloc[:,0].quantile(0.80)\n",
    "\n",
    "# oScaler = MinMaxScaler()\n",
    "# oScaler.fit(dfOutputUpward[dfOutputUpward.iloc[:,0] <= f95thPercentile])\n",
    "dfOutputUpward.iloc[:,0] = np.log(dfOutputUpward.iloc[:,0].astype(\"float\"))\n"
   ]
  },
  {
   "cell_type": "markdown",
   "id": "5c37bee4",
   "metadata": {},
   "source": [
    "### Split Data"
   ]
  },
  {
   "cell_type": "code",
   "execution_count": 217,
   "id": "f95b1eff",
   "metadata": {},
   "outputs": [],
   "source": [
    "dfInputTrain, dfInputValidation, dfInputTest, dfOutputTrain, dfOutputValidation, dfOutputTest = dfSplitData(dfInputUpward, \n",
    "                                                                                                            dfOutputUpward)"
   ]
  },
  {
   "cell_type": "markdown",
   "id": "92b62fcf",
   "metadata": {},
   "source": [
    "### Scale Data"
   ]
  },
  {
   "cell_type": "code",
   "execution_count": 218,
   "id": "275904ad",
   "metadata": {},
   "outputs": [],
   "source": [
    "dfScaledInputTrain, dfScaledInputValidation, dfScaledInputTest = dfScaleData(\"input\", dfInputTrain,dfInputValidation, dfInputTest)"
   ]
  },
  {
   "cell_type": "code",
   "execution_count": 219,
   "id": "48f6befb",
   "metadata": {},
   "outputs": [],
   "source": [
    "dfScaledOutputTrain, dfScaledOutputValidation, dfScaledOutputTest = dfScaleData(\"output\", dfOutputTrain,dfOutputValidation, dfOutputTest)"
   ]
  },
  {
   "cell_type": "markdown",
   "id": "05556bb1",
   "metadata": {},
   "source": [
    "## Train"
   ]
  },
  {
   "cell_type": "code",
   "execution_count": 223,
   "id": "04aaf835",
   "metadata": {},
   "outputs": [],
   "source": [
    "iNumberOfHiddenNeuron = 100\n",
    "iBatchSize = 216\n",
    "oOptimizer = tf.keras.optimizers.Adam(learning_rate= 1e-06, beta_1=0.9)\n",
    "oLossFunction = tf.keras.losses.MeanSquaredError()\n",
    "oEarlyStop = EarlyStopping(\n",
    "    monitor = 'val_loss', \n",
    "    mode = 'min', \n",
    "    verbose = 0 , \n",
    "    patience = 100, \n",
    "    restore_best_weights = True)\n",
    "iEpochSize = 10000"
   ]
  },
  {
   "cell_type": "code",
   "execution_count": 224,
   "id": "2d9247b1",
   "metadata": {},
   "outputs": [],
   "source": [
    "oPredictiveModel = Sequential()\n",
    "oPredictiveModel.add(Dense((iNumberOfHiddenNeuron)))\n",
    "oPredictiveModel.add(Dense((iNumberOfHiddenNeuron)))\n",
    "oPredictiveModel.add(Dense((1),activation = \"sigmoid\") )\n",
    "\n",
    "oPredictiveModel.compile(optimizer=oOptimizer, loss=oLossFunction)"
   ]
  },
  {
   "cell_type": "code",
   "execution_count": 225,
   "id": "053a2330",
   "metadata": {},
   "outputs": [
    {
     "name": "stdout",
     "output_type": "stream",
     "text": [
      "Epoch 1/10000\n",
      "68/68 [==============================] - 1s 4ms/step - loss: 0.0651 - val_loss: 0.0763\n",
      "Epoch 2/10000\n",
      "68/68 [==============================] - 0s 3ms/step - loss: 0.0626 - val_loss: 0.0733\n",
      "Epoch 3/10000\n",
      "68/68 [==============================] - 0s 3ms/step - loss: 0.0601 - val_loss: 0.0703\n",
      "Epoch 4/10000\n",
      "68/68 [==============================] - 0s 3ms/step - loss: 0.0577 - val_loss: 0.0674\n",
      "Epoch 5/10000\n",
      "68/68 [==============================] - 0s 3ms/step - loss: 0.0553 - val_loss: 0.0645\n",
      "Epoch 6/10000\n",
      "68/68 [==============================] - 0s 3ms/step - loss: 0.0530 - val_loss: 0.0617\n",
      "Epoch 7/10000\n",
      "68/68 [==============================] - 0s 3ms/step - loss: 0.0508 - val_loss: 0.0590\n",
      "Epoch 8/10000\n",
      "68/68 [==============================] - 0s 3ms/step - loss: 0.0487 - val_loss: 0.0564\n",
      "Epoch 9/10000\n",
      "68/68 [==============================] - 0s 3ms/step - loss: 0.0466 - val_loss: 0.0538\n",
      "Epoch 10/10000\n",
      "68/68 [==============================] - 0s 3ms/step - loss: 0.0446 - val_loss: 0.0513\n",
      "Epoch 11/10000\n",
      "68/68 [==============================] - 0s 3ms/step - loss: 0.0426 - val_loss: 0.0489\n",
      "Epoch 12/10000\n",
      "68/68 [==============================] - 0s 3ms/step - loss: 0.0408 - val_loss: 0.0466\n",
      "Epoch 13/10000\n",
      "68/68 [==============================] - 0s 3ms/step - loss: 0.0390 - val_loss: 0.0443\n",
      "Epoch 14/10000\n",
      "68/68 [==============================] - 0s 3ms/step - loss: 0.0373 - val_loss: 0.0422\n",
      "Epoch 15/10000\n",
      "68/68 [==============================] - 0s 3ms/step - loss: 0.0357 - val_loss: 0.0401\n",
      "Epoch 16/10000\n",
      "68/68 [==============================] - 0s 3ms/step - loss: 0.0341 - val_loss: 0.0381\n",
      "Epoch 17/10000\n",
      "68/68 [==============================] - 0s 3ms/step - loss: 0.0327 - val_loss: 0.0362\n",
      "Epoch 18/10000\n",
      "68/68 [==============================] - 0s 4ms/step - loss: 0.0313 - val_loss: 0.0345\n",
      "Epoch 19/10000\n",
      "68/68 [==============================] - 0s 3ms/step - loss: 0.0299 - val_loss: 0.0327\n",
      "Epoch 20/10000\n",
      "68/68 [==============================] - 0s 3ms/step - loss: 0.0287 - val_loss: 0.0311\n",
      "Epoch 21/10000\n",
      "68/68 [==============================] - 0s 3ms/step - loss: 0.0275 - val_loss: 0.0296\n",
      "Epoch 22/10000\n",
      "68/68 [==============================] - 0s 3ms/step - loss: 0.0264 - val_loss: 0.0282\n",
      "Epoch 23/10000\n",
      "68/68 [==============================] - 0s 3ms/step - loss: 0.0253 - val_loss: 0.0268\n",
      "Epoch 24/10000\n",
      "68/68 [==============================] - 0s 3ms/step - loss: 0.0244 - val_loss: 0.0256\n",
      "Epoch 25/10000\n",
      "68/68 [==============================] - 0s 3ms/step - loss: 0.0235 - val_loss: 0.0244\n",
      "Epoch 26/10000\n",
      "68/68 [==============================] - 0s 3ms/step - loss: 0.0226 - val_loss: 0.0233\n",
      "Epoch 27/10000\n",
      "68/68 [==============================] - 0s 3ms/step - loss: 0.0218 - val_loss: 0.0223\n",
      "Epoch 28/10000\n",
      "68/68 [==============================] - 0s 3ms/step - loss: 0.0211 - val_loss: 0.0213\n",
      "Epoch 29/10000\n",
      "68/68 [==============================] - 0s 3ms/step - loss: 0.0204 - val_loss: 0.0205\n",
      "Epoch 30/10000\n",
      "68/68 [==============================] - 0s 3ms/step - loss: 0.0198 - val_loss: 0.0197\n",
      "Epoch 31/10000\n",
      "68/68 [==============================] - 0s 3ms/step - loss: 0.0192 - val_loss: 0.0189\n",
      "Epoch 32/10000\n",
      "68/68 [==============================] - 0s 3ms/step - loss: 0.0186 - val_loss: 0.0183\n",
      "Epoch 33/10000\n",
      "68/68 [==============================] - 0s 3ms/step - loss: 0.0182 - val_loss: 0.0177\n",
      "Epoch 34/10000\n",
      "68/68 [==============================] - 0s 4ms/step - loss: 0.0177 - val_loss: 0.0171\n",
      "Epoch 35/10000\n",
      "68/68 [==============================] - 0s 3ms/step - loss: 0.0173 - val_loss: 0.0166\n",
      "Epoch 36/10000\n",
      "68/68 [==============================] - 0s 3ms/step - loss: 0.0170 - val_loss: 0.0162\n",
      "Epoch 37/10000\n",
      "68/68 [==============================] - 0s 3ms/step - loss: 0.0166 - val_loss: 0.0158\n",
      "Epoch 38/10000\n",
      "68/68 [==============================] - 0s 3ms/step - loss: 0.0163 - val_loss: 0.0154\n",
      "Epoch 39/10000\n",
      "68/68 [==============================] - 0s 3ms/step - loss: 0.0161 - val_loss: 0.0151\n",
      "Epoch 40/10000\n",
      "68/68 [==============================] - 0s 3ms/step - loss: 0.0158 - val_loss: 0.0148\n",
      "Epoch 41/10000\n",
      "68/68 [==============================] - 0s 3ms/step - loss: 0.0156 - val_loss: 0.0146\n",
      "Epoch 42/10000\n",
      "68/68 [==============================] - 0s 3ms/step - loss: 0.0154 - val_loss: 0.0144\n",
      "Epoch 43/10000\n",
      "68/68 [==============================] - 0s 3ms/step - loss: 0.0153 - val_loss: 0.0142\n",
      "Epoch 44/10000\n",
      "68/68 [==============================] - 0s 3ms/step - loss: 0.0151 - val_loss: 0.0141\n",
      "Epoch 45/10000\n",
      "68/68 [==============================] - 0s 3ms/step - loss: 0.0150 - val_loss: 0.0140\n",
      "Epoch 46/10000\n",
      "68/68 [==============================] - 0s 3ms/step - loss: 0.0149 - val_loss: 0.0138\n",
      "Epoch 47/10000\n",
      "68/68 [==============================] - 0s 3ms/step - loss: 0.0148 - val_loss: 0.0138\n",
      "Epoch 48/10000\n",
      "68/68 [==============================] - 0s 3ms/step - loss: 0.0147 - val_loss: 0.0137\n",
      "Epoch 49/10000\n",
      "68/68 [==============================] - 0s 3ms/step - loss: 0.0146 - val_loss: 0.0136\n",
      "Epoch 50/10000\n",
      "68/68 [==============================] - 0s 3ms/step - loss: 0.0145 - val_loss: 0.0136\n",
      "Epoch 51/10000\n",
      "68/68 [==============================] - 0s 3ms/step - loss: 0.0145 - val_loss: 0.0136\n",
      "Epoch 52/10000\n",
      "68/68 [==============================] - 0s 3ms/step - loss: 0.0144 - val_loss: 0.0135\n",
      "Epoch 53/10000\n",
      "68/68 [==============================] - 0s 3ms/step - loss: 0.0144 - val_loss: 0.0135\n",
      "Epoch 54/10000\n",
      "68/68 [==============================] - 0s 3ms/step - loss: 0.0144 - val_loss: 0.0135\n",
      "Epoch 55/10000\n",
      "68/68 [==============================] - 0s 3ms/step - loss: 0.0143 - val_loss: 0.0135\n",
      "Epoch 56/10000\n",
      "68/68 [==============================] - 0s 4ms/step - loss: 0.0143 - val_loss: 0.0135\n",
      "Epoch 57/10000\n",
      "68/68 [==============================] - 0s 3ms/step - loss: 0.0143 - val_loss: 0.0135\n",
      "Epoch 58/10000\n",
      "68/68 [==============================] - 0s 3ms/step - loss: 0.0142 - val_loss: 0.0135\n",
      "Epoch 59/10000\n",
      "68/68 [==============================] - 0s 3ms/step - loss: 0.0142 - val_loss: 0.0135\n",
      "Epoch 60/10000\n",
      "68/68 [==============================] - ETA: 0s - loss: 0.014 - 0s 4ms/step - loss: 0.0142 - val_loss: 0.0136\n",
      "Epoch 61/10000\n",
      "68/68 [==============================] - 0s 3ms/step - loss: 0.0142 - val_loss: 0.0136\n",
      "Epoch 62/10000\n",
      "68/68 [==============================] - 0s 3ms/step - loss: 0.0142 - val_loss: 0.0136\n",
      "Epoch 63/10000\n",
      "68/68 [==============================] - 0s 3ms/step - loss: 0.0142 - val_loss: 0.0136\n",
      "Epoch 64/10000\n",
      "68/68 [==============================] - 0s 3ms/step - loss: 0.0141 - val_loss: 0.0136\n",
      "Epoch 65/10000\n",
      "68/68 [==============================] - 0s 3ms/step - loss: 0.0141 - val_loss: 0.0136\n",
      "Epoch 66/10000\n",
      "68/68 [==============================] - 0s 3ms/step - loss: 0.0141 - val_loss: 0.0136\n",
      "Epoch 67/10000\n",
      "68/68 [==============================] - 0s 3ms/step - loss: 0.0141 - val_loss: 0.0136\n",
      "Epoch 68/10000\n",
      "68/68 [==============================] - 0s 3ms/step - loss: 0.0141 - val_loss: 0.0137\n",
      "Epoch 69/10000\n",
      "68/68 [==============================] - 0s 3ms/step - loss: 0.0141 - val_loss: 0.0137\n",
      "Epoch 70/10000\n",
      "68/68 [==============================] - 0s 3ms/step - loss: 0.0141 - val_loss: 0.0137\n",
      "Epoch 71/10000\n",
      "68/68 [==============================] - 0s 3ms/step - loss: 0.0140 - val_loss: 0.0137\n",
      "Epoch 72/10000\n",
      "68/68 [==============================] - 0s 3ms/step - loss: 0.0140 - val_loss: 0.0137\n",
      "Epoch 73/10000\n",
      "68/68 [==============================] - 0s 4ms/step - loss: 0.0140 - val_loss: 0.0137\n",
      "Epoch 74/10000\n",
      "68/68 [==============================] - 0s 3ms/step - loss: 0.0140 - val_loss: 0.0137\n",
      "Epoch 75/10000\n",
      "68/68 [==============================] - 0s 3ms/step - loss: 0.0140 - val_loss: 0.0137\n",
      "Epoch 76/10000\n",
      "68/68 [==============================] - 0s 3ms/step - loss: 0.0140 - val_loss: 0.0137\n",
      "Epoch 77/10000\n",
      "68/68 [==============================] - 0s 3ms/step - loss: 0.0140 - val_loss: 0.0138\n",
      "Epoch 78/10000\n",
      "68/68 [==============================] - 0s 3ms/step - loss: 0.0140 - val_loss: 0.0138\n",
      "Epoch 79/10000\n",
      "68/68 [==============================] - 0s 3ms/step - loss: 0.0140 - val_loss: 0.0138\n",
      "Epoch 80/10000\n",
      "68/68 [==============================] - 0s 3ms/step - loss: 0.0139 - val_loss: 0.0138\n",
      "Epoch 81/10000\n"
     ]
    },
    {
     "name": "stdout",
     "output_type": "stream",
     "text": [
      "68/68 [==============================] - 0s 3ms/step - loss: 0.0139 - val_loss: 0.0138\n",
      "Epoch 82/10000\n",
      "68/68 [==============================] - 0s 3ms/step - loss: 0.0139 - val_loss: 0.0138\n",
      "Epoch 83/10000\n",
      "68/68 [==============================] - 0s 3ms/step - loss: 0.0139 - val_loss: 0.0138\n",
      "Epoch 84/10000\n",
      "68/68 [==============================] - 0s 3ms/step - loss: 0.0139 - val_loss: 0.0138\n",
      "Epoch 85/10000\n",
      "68/68 [==============================] - 0s 3ms/step - loss: 0.0139 - val_loss: 0.0139\n",
      "Epoch 86/10000\n",
      "68/68 [==============================] - 0s 3ms/step - loss: 0.0139 - val_loss: 0.0139\n",
      "Epoch 87/10000\n",
      "68/68 [==============================] - 0s 3ms/step - loss: 0.0139 - val_loss: 0.0139\n",
      "Epoch 88/10000\n",
      "68/68 [==============================] - 0s 3ms/step - loss: 0.0139 - val_loss: 0.0139\n",
      "Epoch 89/10000\n",
      "68/68 [==============================] - 0s 3ms/step - loss: 0.0138 - val_loss: 0.0139\n",
      "Epoch 90/10000\n",
      "68/68 [==============================] - 0s 3ms/step - loss: 0.0138 - val_loss: 0.0139\n",
      "Epoch 91/10000\n",
      "68/68 [==============================] - 0s 3ms/step - loss: 0.0138 - val_loss: 0.0140\n",
      "Epoch 92/10000\n",
      "68/68 [==============================] - 0s 3ms/step - loss: 0.0138 - val_loss: 0.0140\n",
      "Epoch 93/10000\n",
      "68/68 [==============================] - 0s 3ms/step - loss: 0.0138 - val_loss: 0.0140\n",
      "Epoch 94/10000\n",
      "68/68 [==============================] - 0s 3ms/step - loss: 0.0138 - val_loss: 0.0140\n",
      "Epoch 95/10000\n",
      "68/68 [==============================] - 0s 3ms/step - loss: 0.0138 - val_loss: 0.0140\n",
      "Epoch 96/10000\n",
      "68/68 [==============================] - 0s 3ms/step - loss: 0.0138 - val_loss: 0.0140\n",
      "Epoch 97/10000\n",
      "68/68 [==============================] - 0s 3ms/step - loss: 0.0138 - val_loss: 0.0140\n",
      "Epoch 98/10000\n",
      "68/68 [==============================] - 0s 3ms/step - loss: 0.0138 - val_loss: 0.0141\n",
      "Epoch 99/10000\n",
      "68/68 [==============================] - 0s 3ms/step - loss: 0.0137 - val_loss: 0.0141\n",
      "Epoch 100/10000\n",
      "68/68 [==============================] - 0s 3ms/step - loss: 0.0137 - val_loss: 0.0141\n",
      "Epoch 101/10000\n",
      "68/68 [==============================] - 0s 3ms/step - loss: 0.0137 - val_loss: 0.0141\n",
      "Epoch 102/10000\n",
      "68/68 [==============================] - 0s 3ms/step - loss: 0.0137 - val_loss: 0.0142\n",
      "Epoch 103/10000\n",
      "68/68 [==============================] - 0s 3ms/step - loss: 0.0137 - val_loss: 0.0142\n",
      "Epoch 104/10000\n",
      "68/68 [==============================] - 0s 3ms/step - loss: 0.0137 - val_loss: 0.0142\n",
      "Epoch 105/10000\n",
      "68/68 [==============================] - 0s 3ms/step - loss: 0.0137 - val_loss: 0.0142\n",
      "Epoch 106/10000\n",
      "68/68 [==============================] - 0s 3ms/step - loss: 0.0137 - val_loss: 0.0142\n",
      "Epoch 107/10000\n",
      "68/68 [==============================] - 0s 3ms/step - loss: 0.0137 - val_loss: 0.0142\n",
      "Epoch 108/10000\n",
      "68/68 [==============================] - 0s 3ms/step - loss: 0.0137 - val_loss: 0.0143\n",
      "Epoch 109/10000\n",
      "68/68 [==============================] - 0s 3ms/step - loss: 0.0137 - val_loss: 0.0143\n",
      "Epoch 110/10000\n",
      "68/68 [==============================] - 0s 3ms/step - loss: 0.0137 - val_loss: 0.0143\n",
      "Epoch 111/10000\n",
      "68/68 [==============================] - 0s 3ms/step - loss: 0.0137 - val_loss: 0.0143\n",
      "Epoch 112/10000\n",
      "68/68 [==============================] - 0s 3ms/step - loss: 0.0136 - val_loss: 0.0144\n",
      "Epoch 113/10000\n",
      "68/68 [==============================] - 0s 3ms/step - loss: 0.0136 - val_loss: 0.0144\n",
      "Epoch 114/10000\n",
      "68/68 [==============================] - 0s 3ms/step - loss: 0.0136 - val_loss: 0.0144\n",
      "Epoch 115/10000\n",
      "68/68 [==============================] - 0s 3ms/step - loss: 0.0136 - val_loss: 0.0144\n",
      "Epoch 116/10000\n",
      "68/68 [==============================] - 0s 3ms/step - loss: 0.0136 - val_loss: 0.0144\n",
      "Epoch 117/10000\n",
      "68/68 [==============================] - 0s 3ms/step - loss: 0.0136 - val_loss: 0.0145\n",
      "Epoch 118/10000\n",
      "68/68 [==============================] - 0s 3ms/step - loss: 0.0136 - val_loss: 0.0145\n",
      "Epoch 119/10000\n",
      "68/68 [==============================] - 0s 3ms/step - loss: 0.0136 - val_loss: 0.0145\n",
      "Epoch 120/10000\n",
      "68/68 [==============================] - 0s 3ms/step - loss: 0.0136 - val_loss: 0.0145\n",
      "Epoch 121/10000\n",
      "68/68 [==============================] - 0s 3ms/step - loss: 0.0136 - val_loss: 0.0145\n",
      "Epoch 122/10000\n",
      "68/68 [==============================] - 0s 3ms/step - loss: 0.0136 - val_loss: 0.0145\n",
      "Epoch 123/10000\n",
      "68/68 [==============================] - 0s 3ms/step - loss: 0.0136 - val_loss: 0.0146\n",
      "Epoch 124/10000\n",
      "68/68 [==============================] - 0s 3ms/step - loss: 0.0136 - val_loss: 0.0146\n",
      "Epoch 125/10000\n",
      "68/68 [==============================] - 0s 3ms/step - loss: 0.0136 - val_loss: 0.0146\n",
      "Epoch 126/10000\n",
      "68/68 [==============================] - 0s 3ms/step - loss: 0.0136 - val_loss: 0.0147\n",
      "Epoch 127/10000\n",
      "68/68 [==============================] - 0s 3ms/step - loss: 0.0136 - val_loss: 0.0146\n",
      "Epoch 128/10000\n",
      "68/68 [==============================] - 0s 3ms/step - loss: 0.0136 - val_loss: 0.0147\n",
      "Epoch 129/10000\n",
      "68/68 [==============================] - 0s 3ms/step - loss: 0.0136 - val_loss: 0.0147\n",
      "Epoch 130/10000\n",
      "68/68 [==============================] - 0s 3ms/step - loss: 0.0136 - val_loss: 0.0147\n",
      "Epoch 131/10000\n",
      "68/68 [==============================] - 0s 3ms/step - loss: 0.0135 - val_loss: 0.0147\n",
      "Epoch 132/10000\n",
      "68/68 [==============================] - 0s 3ms/step - loss: 0.0135 - val_loss: 0.0147\n",
      "Epoch 133/10000\n",
      "68/68 [==============================] - 0s 3ms/step - loss: 0.0135 - val_loss: 0.0148\n",
      "Epoch 134/10000\n",
      "68/68 [==============================] - 0s 3ms/step - loss: 0.0135 - val_loss: 0.0148\n",
      "Epoch 135/10000\n",
      "68/68 [==============================] - 0s 3ms/step - loss: 0.0135 - val_loss: 0.0148\n",
      "Epoch 136/10000\n",
      "68/68 [==============================] - 0s 3ms/step - loss: 0.0135 - val_loss: 0.0148\n",
      "Epoch 137/10000\n",
      "68/68 [==============================] - 0s 3ms/step - loss: 0.0135 - val_loss: 0.0148\n",
      "Epoch 138/10000\n",
      "68/68 [==============================] - 0s 3ms/step - loss: 0.0135 - val_loss: 0.0149\n",
      "Epoch 139/10000\n",
      "68/68 [==============================] - 0s 3ms/step - loss: 0.0135 - val_loss: 0.0149\n",
      "Epoch 140/10000\n",
      "68/68 [==============================] - 0s 3ms/step - loss: 0.0135 - val_loss: 0.0149\n",
      "Epoch 141/10000\n",
      "68/68 [==============================] - 0s 3ms/step - loss: 0.0135 - val_loss: 0.0149\n",
      "Epoch 142/10000\n",
      "68/68 [==============================] - 0s 3ms/step - loss: 0.0135 - val_loss: 0.0150\n",
      "Epoch 143/10000\n",
      "68/68 [==============================] - 0s 3ms/step - loss: 0.0135 - val_loss: 0.0150\n",
      "Epoch 144/10000\n",
      "68/68 [==============================] - 0s 3ms/step - loss: 0.0135 - val_loss: 0.0150\n",
      "Epoch 145/10000\n",
      "68/68 [==============================] - 0s 3ms/step - loss: 0.0135 - val_loss: 0.0150\n",
      "Epoch 146/10000\n",
      "68/68 [==============================] - 0s 3ms/step - loss: 0.0135 - val_loss: 0.0150\n",
      "Epoch 147/10000\n",
      "68/68 [==============================] - 0s 3ms/step - loss: 0.0135 - val_loss: 0.0150\n",
      "Epoch 148/10000\n",
      "68/68 [==============================] - 0s 3ms/step - loss: 0.0135 - val_loss: 0.0151\n",
      "Epoch 149/10000\n",
      "68/68 [==============================] - 0s 3ms/step - loss: 0.0135 - val_loss: 0.0151\n",
      "Epoch 150/10000\n",
      "68/68 [==============================] - 0s 3ms/step - loss: 0.0135 - val_loss: 0.0151\n",
      "Epoch 151/10000\n",
      "68/68 [==============================] - 0s 3ms/step - loss: 0.0135 - val_loss: 0.0151\n",
      "Epoch 152/10000\n",
      "68/68 [==============================] - 0s 3ms/step - loss: 0.0135 - val_loss: 0.0151\n",
      "Epoch 153/10000\n",
      "68/68 [==============================] - 0s 3ms/step - loss: 0.0135 - val_loss: 0.0151\n",
      "Epoch 154/10000\n",
      "68/68 [==============================] - 0s 3ms/step - loss: 0.0135 - val_loss: 0.0152\n",
      "Epoch 155/10000\n",
      "68/68 [==============================] - 0s 3ms/step - loss: 0.0135 - val_loss: 0.0152\n"
     ]
    },
    {
     "data": {
      "text/plain": [
       "<matplotlib.axes._subplots.AxesSubplot at 0x1de2e7f8ac8>"
      ]
     },
     "execution_count": 225,
     "metadata": {},
     "output_type": "execute_result"
    },
    {
     "data": {
      "image/png": "[encoded data removed]",
      "text/plain": [
       "<Figure size 432x288 with 1 Axes>"
      ]
     },
     "metadata": {
      "needs_background": "light"
     },
     "output_type": "display_data"
    }
   ],
   "source": [
    "oPredictiveModel.fit(\n",
    "    dfScaledInputTrain, \n",
    "    dfScaledOutputTrain, \n",
    "    epochs=iEpochSize, \n",
    "    batch_size=iBatchSize, \n",
    "    verbose=1, \n",
    "    validation_data= (dfScaledInputValidation, dfScaledOutputValidation), \n",
    "    callbacks=[oEarlyStop] )\n",
    "\n",
    "oPredictiveModel.save_weights(sSubModelName)\n",
    "\n",
    "pd.DataFrame(oPredictiveModel.history.history).plot()"
   ]
  },
  {
   "cell_type": "markdown",
   "id": "70079690",
   "metadata": {},
   "source": [
    "## Test"
   ]
  },
  {
   "cell_type": "code",
   "execution_count": 226,
   "id": "5f947b08",
   "metadata": {},
   "outputs": [],
   "source": [
    "oPredictiveModel.load_weights(sSubModelName)\n",
    "\n",
    "aPrediction = oPredictiveModel.predict(dfScaledInputTest)\n",
    "\n",
    "sOutputScalerPath = os.path.join(sSubModelName , \"__scalers__\")\n",
    "sOutputScalerPath = os.path.join(sOutputScalerPath , \"output\" + \".sav\")\n",
    "oScalerOutput = pickle.load(open(sOutputScalerPath, 'rb'))\n",
    "aPrediction = oScalerOutput.inverse_transform(aPrediction)\n",
    "\n",
    "dfPrediction = pd.DataFrame(aPrediction, index = dfScaledInputTest.index)\n",
    "dfPrediction.columns = aColumns"
   ]
  },
  {
   "cell_type": "code",
   "execution_count": 231,
   "id": "2ffc681b",
   "metadata": {},
   "outputs": [
    {
     "data": {
      "text/plain": [
       "<matplotlib.axes._subplots.AxesSubplot at 0x1de27a6f648>"
      ]
     },
     "execution_count": 231,
     "metadata": {},
     "output_type": "execute_result"
    },
    {
     "data": {
      "image/png": "[encoded data removed]",
      "text/plain": [
       "<Figure size 432x288 with 1 Axes>"
      ]
     },
     "metadata": {
      "needs_background": "light"
     },
     "output_type": "display_data"
    }
   ],
   "source": [
    "dfTestComparision = dfPrediction.join(dfOutputTest, how = \"inner\", lsuffix=\"prediction\")\n",
    "dfTestComparision.columns = [\"Prediction\", \"Actual\"]\n",
    "\n",
    "sns.scatterplot(data = dfTestComparision, x = \"Actual\", y =\"Prediction\") "
   ]
  },
  {
   "cell_type": "code",
   "execution_count": 234,
   "id": "b9913c33",
   "metadata": {},
   "outputs": [
    {
     "data": {
      "text/plain": [
       "<matplotlib.axes._subplots.AxesSubplot at 0x1dd050bf188>"
      ]
     },
     "execution_count": 234,
     "metadata": {},
     "output_type": "execute_result"
    },
    {
     "data": {
      "image/png": "[encoded data removed]",
      "text/plain": [
       "<Figure size 432x288 with 1 Axes>"
      ]
     },
     "metadata": {
      "needs_background": "light"
     },
     "output_type": "display_data"
    }
   ],
   "source": [
    "sns.histplot(dfOutputTrain)"
   ]
  },
  {
   "cell_type": "code",
   "execution_count": 232,
   "id": "aa48de7b",
   "metadata": {},
   "outputs": [
    {
     "name": "stdout",
     "output_type": "stream",
     "text": [
      "Metrics for regression:\n",
      "      mean absolute error:                0.926\n",
      "    median absolute error:                0.845\n",
      "       mean squared error:                1.249\n",
      "                max error:                3.303\n",
      "                 r2 score:               -0.566\n",
      " explained variance score:               -0.063\n"
     ]
    }
   ],
   "source": [
    "aMetrics = [\n",
    "        ('mean absolute error', mean_absolute_error(dfOutputTest, dfPrediction)),\n",
    "        ('median absolute error', median_absolute_error(dfOutputTest, dfPrediction)),\n",
    "        ('mean squared error', mean_squared_error(dfOutputTest, dfPrediction)),\n",
    "        ('max error', max_error(dfOutputTest, dfPrediction)),\n",
    "        ('r2 score', r2_score(dfOutputTest, dfPrediction)),\n",
    "        ('explained variance score', explained_variance_score(dfOutputTest, dfPrediction))\n",
    "    ]\n",
    "\n",
    "print('Metrics for regression:')\n",
    "for metric_name, metric_value in aMetrics:\n",
    "    print(f'{metric_name:>25s}: {metric_value: >20.3f}')"
   ]
  },
  {
   "cell_type": "markdown",
   "id": "1127d583",
   "metadata": {},
   "source": [
    "# DOWNWARD REGRESSION MODEL"
   ]
  },
  {
   "cell_type": "code",
   "execution_count": null,
   "id": "137167f1",
   "metadata": {},
   "outputs": [],
   "source": []
  }
 ],
 "metadata": {
  "kernelspec": {
   "display_name": "Python 3",
   "language": "python",
   "name": "python3"
  },
  "language_info": {
   "codemirror_mode": {
    "name": "ipython",
    "version": 3
   },
   "file_extension": ".py",
   "mimetype": "text/x-python",
   "name": "python",
   "nbconvert_exporter": "python",
   "pygments_lexer": "ipython3",
   "version": "3.7.10"
  },
  "varInspector": {
   "cols": {
    "lenName": 16,
    "lenType": 16,
    "lenVar": 40
   },
   "kernels_config": {
    "python": {
     "delete_cmd_postfix": "",
     "delete_cmd_prefix": "del ",
     "library": "var_list.py",
     "varRefreshCmd": "print(var_dic_list())"
    },
    "r": {
     "delete_cmd_postfix": ") ",
     "delete_cmd_prefix": "rm(",
     "library": "var_list.r",
     "varRefreshCmd": "cat(var_dic_list()) "
    }
   },
   "types_to_exclude": [
    "module",
    "function",
    "builtin_function_or_method",
    "instance",
    "_Feature"
   ],
   "window_display": false
  }
 },
 "nbformat": 4,
 "nbformat_minor": 5
}
