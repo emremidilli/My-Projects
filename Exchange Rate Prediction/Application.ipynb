{
 "cells": [
  {
   "cell_type": "code",
   "execution_count": 1,
   "id": "0611acbc",
   "metadata": {},
   "outputs": [],
   "source": [
    "import pandas as pd\n",
    "from datetime import datetime\n",
    "import MetaTrader5 as mt5\n",
    "import pytz\n",
    "import sys\n",
    "import pickle\n",
    "import os\n",
    "from sklearn.preprocessing import MinMaxScaler\n",
    "from sklearn.preprocessing import StandardScaler\n",
    "from sklearn.preprocessing import OneHotEncoder\n",
    "from sklearn.model_selection import train_test_split\n",
    "from sklearn.metrics import classification_report\n",
    "from sklearn.utils import shuffle\n",
    "from sklearn import metrics\n",
    "from sklearn.metrics import mean_absolute_error, mean_squared_error, max_error, median_absolute_error, r2_score, explained_variance_score\n",
    "\n",
    "import seaborn as sns\n",
    "\n",
    "from Long_Short_Term_Memory import Long_Short_Term_Memory\n",
    "from Optimize_Portfolio import PortfolioManagement\n",
    "import ta\n",
    "from scipy.stats import zscore\n",
    "import numpy as np\n",
    "import scipy.stats as st\n",
    "\n",
    "import os\n",
    "import pandas as pd\n",
    "os.environ['TF_CPP_MIN_LOG_LEVEL'] = '2' \n",
    "import tensorflow as tf\n",
    "from tensorflow.keras import Sequential\n",
    "from tensorflow.keras.layers import Dense\n",
    "from tensorflow.keras.callbacks import EarlyStopping\n",
    "from tensorflow.keras.layers import LSTM\n",
    "from tensorflow.keras import regularizers"
   ]
  },
  {
   "cell_type": "code",
   "execution_count": 2,
   "id": "3c6fc32d",
   "metadata": {},
   "outputs": [],
   "source": [
    "gc_o_TIME_ZONE = pytz.timezone(\"Etc/UTC\")\n",
    "gc_dt_FROM = datetime(2013, 1, 1, tzinfo=gc_o_TIME_ZONE)\n",
    "gc_dt_TO = datetime(2021, 10, 28, tzinfo=gc_o_TIME_ZONE)\n",
    "gc_dt_SIMULATION_MODEL_FROM = \"2021-09-01 00:00:00\"\n",
    "\n",
    "\n",
    "gc_a_SYMBOLS = []\n",
    "\n",
    "\n",
    "gc_i_BACKWARD_TIME_WINDOW = -1\n",
    "gc_i_FORWARD_TIME_WINDOW = 5\n",
    "\n",
    "\n",
    "gc_dec_TRAINING_RATIO = 0.6\n",
    "gc_dec_VALIDATION_RATIO = 0.2\n",
    "gc_dec_TEST_RATIO = 0.2\n",
    "\n",
    "\n",
    "gc_dec_MAX_RISK_RMSE = 0.10\n",
    "gc_dec_INITIAL_BALANCE = 1000\n",
    "\n",
    "\n",
    "g_aBackwardTimeSteps = range(gc_i_BACKWARD_TIME_WINDOW, 0)\n",
    "g_aForwardTimeSteps = range(0, gc_i_FORWARD_TIME_WINDOW)\n",
    "\n",
    "gc_i_PERIODS_OF_CLASSES = 5\n",
    "\n",
    "g_aInputFeatures = set(['open', 'high', 'low', 'close', 'spread' ,'tick_volume'])\n",
    "g_aOutputFeatures = pd.IntervalIndex.from_breaks(st.norm.ppf(np.linspace(0, 1, gc_i_PERIODS_OF_CLASSES+1)))"
   ]
  },
  {
   "cell_type": "code",
   "execution_count": 3,
   "id": "4727b224",
   "metadata": {
    "code_folding": [
     0
    ]
   },
   "outputs": [],
   "source": [
    "def ConvertSpreadValues(dfRates, aSymbolInfo):\n",
    "    iDigits = aSymbolInfo.digits\n",
    "    dfRates['spread'] = dfRates['spread'] * pow(10, -iDigits)"
   ]
  },
  {
   "cell_type": "code",
   "execution_count": 4,
   "id": "041e482c",
   "metadata": {
    "code_folding": [
     0
    ]
   },
   "outputs": [],
   "source": [
    "def dfShiftTimeSteps(dfRates, aTimeSteps):\n",
    "    \n",
    "    lstColumnNames = list([])\n",
    "    for iTimeStep in aTimeSteps:\n",
    "        for tplCol in dfRates.columns:\n",
    "            lstColumnNames.append((iTimeStep, ) + tplCol)\n",
    "    \n",
    "    \n",
    "    lstIndexNames = (\"Time Step\",) +  tuple(dfRates.columns.names)\n",
    "    \n",
    "    dicColumnIndices = pd.MultiIndex.from_tuples(\n",
    "        lstColumnNames,\n",
    "        names = lstIndexNames\n",
    "        )\n",
    "\n",
    "\n",
    "    dfShiftedRates = pd.DataFrame(\n",
    "        columns=dicColumnIndices, \n",
    "        index=dfRates.index)\n",
    "    \n",
    "    \n",
    "\n",
    "    for i in aTimeSteps:\n",
    "        dfShiftedRates[i] = dfRates.shift(-i)\n",
    "\n",
    "    dfShiftedRates.dropna(inplace=True)\n",
    "\n",
    "    return dfShiftedRates"
   ]
  },
  {
   "cell_type": "code",
   "execution_count": 5,
   "id": "bad524f3",
   "metadata": {
    "code_folding": []
   },
   "outputs": [],
   "source": [
    "def dfGetMarketData(sSymbol):\n",
    "\n",
    "    if not mt5.initialize():\n",
    "        print(\"initialize() failed, error code =\", mt5.last_error())\n",
    "        sys.exit()\n",
    "\n",
    "    aSymbolInfo = mt5.symbol_info(sSymbol)\n",
    "    if not aSymbolInfo:\n",
    "        print(\"symbol_info() failed, error code =\", mt5.last_error())\n",
    "        sys.exit()\n",
    "\n",
    "    aRates = mt5.copy_rates_range(\n",
    "        sSymbol, mt5.TIMEFRAME_H1, gc_dt_FROM, gc_dt_TO)\n",
    "    if len(aRates) == 0:\n",
    "        print(\"copy_rates_range() failed, error code =\", mt5.last_error())\n",
    "        sys.exit()\n",
    "\n",
    "    mt5.shutdown()\n",
    "\n",
    "    dfRates = pd.DataFrame(aRates)\n",
    "\n",
    "    dfRates['time'] = pd.to_datetime(dfRates['time'], unit='s')\n",
    "    dfRates.set_index('time', inplace=True)\n",
    "    dfRates.drop('real_volume', axis=1, inplace=True)\n",
    "\n",
    "    ConvertSpreadValues(dfRates, aSymbolInfo)\n",
    "    AddSeasonalFeatures(dfRates)\n",
    "    AddReturns(dfRates)\n",
    "    dfRates = dfAddTechnicalIndicators(dfRates)\n",
    "\n",
    "    dfRates.columns  = pd.MultiIndex.from_product(\n",
    "        [[sSymbol], dfRates.columns], \n",
    "        names=[\"Time Series\", \"Feature\"])\n",
    "    \n",
    "    \n",
    "    return dfRates"
   ]
  },
  {
   "cell_type": "code",
   "execution_count": 6,
   "id": "0d9f70b2",
   "metadata": {
    "code_folding": [
     0
    ]
   },
   "outputs": [],
   "source": [
    "def dfAddTechnicalIndicators(dfRates):\n",
    "    global g_aInputFeatures \n",
    "    \n",
    "    \n",
    "    iTimeWindow = 24\n",
    "    \n",
    "    dfHigh = dfRates[\"high\"]\n",
    "    dfLow = dfRates[\"low\"]\n",
    "    dfClose = dfRates[\"close\"]\n",
    "    \n",
    "    # Average Dricetional Movement Index\n",
    "    oAdx = ta.trend.ADXIndicator(dfHigh, dfLow, dfClose, iTimeWindow, False)\n",
    "    \n",
    "    dfAdx = oAdx.adx()\n",
    "    dfAdx.drop(dfAdx[dfAdx == 0].index, inplace = True)\n",
    "    g_aInputFeatures.add(dfAdx.name)\n",
    "    \n",
    "    dfAdxNeg = oAdx.adx_neg()\n",
    "    dfAdxNeg.drop(dfAdxNeg[dfAdxNeg == 0].index, inplace = True)\n",
    "    g_aInputFeatures.add(dfAdxNeg.name)\n",
    "    \n",
    "    \n",
    "    dfAdxPos = oAdx.adx_pos()\n",
    "    dfAdxPos.drop(dfAdxPos[dfAdxPos == 0].index, inplace = True)\n",
    "    g_aInputFeatures.add(dfAdxPos.name)\n",
    "    \n",
    "    \n",
    "    dfRates = dfRates.join(dfAdx, how = \"inner\")\n",
    "    dfRates = dfRates.join(dfAdxNeg, how = \"inner\")\n",
    "    dfRates = dfRates.join(dfAdxPos, how = \"inner\")\n",
    "\n",
    "    \n",
    "    # Aroon Indicator\n",
    "    oAroon = ta.trend.AroonIndicator(dfClose, iTimeWindow, False)\n",
    "    dfAroonDown = oAroon.aroon_down()\n",
    "    dfAroonDown.dropna(inplace = True)\n",
    "    g_aInputFeatures.add(dfAroonDown.name)\n",
    "    \n",
    "    dfAroonIndicator = oAroon.aroon_indicator() \n",
    "    dfAroonIndicator.dropna(inplace = True)\n",
    "    g_aInputFeatures.add(dfAroonIndicator.name)\n",
    "\n",
    "    \n",
    "    dfAroonUp = oAroon.aroon_up()\n",
    "    dfAroonUp.dropna(inplace = True)\n",
    "    g_aInputFeatures.add(dfAroonUp.name)\n",
    "    \n",
    "    dfRates = dfRates.join(dfAroonDown, how = \"inner\")\n",
    "    dfRates = dfRates.join(dfAroonIndicator, how = \"inner\")\n",
    "    dfRates = dfRates.join(dfAroonUp, how = \"inner\")\n",
    "    \n",
    "    \n",
    "    # Commodity Channel Index\n",
    "    oCci = ta.trend.CCIIndicator(dfHigh, dfLow,dfClose, iTimeWindow)\n",
    "    dfCci = oCci.cci()\n",
    "    dfCci.dropna(inplace = True)\n",
    "    g_aInputFeatures.add(dfCci.name)\n",
    "    \n",
    "    dfRates = dfRates.join(dfCci, how = \"inner\")\n",
    "    \n",
    "    \n",
    "    # Detrended Price Oscillator (DPO)\n",
    "    oDpo = ta.trend.DPOIndicator(dfClose, iTimeWindow)\n",
    "    dfDpo = oDpo.dpo()\n",
    "    dfDpo.dropna(inplace = True)\n",
    "    g_aInputFeatures.add(dfDpo.name)    \n",
    "    \n",
    "    dfRates = dfRates.join(dfDpo, how = \"inner\")\n",
    "    \n",
    "    \n",
    "    # EMA - Exponential Moving Average\n",
    "    oEma = ta.trend.EMAIndicator(dfClose, iTimeWindow)\n",
    "    dfEma = oEma.ema_indicator()\n",
    "    dfEma.dropna(inplace = True)\n",
    "    g_aInputFeatures.add(dfEma.name)\n",
    "    \n",
    "    dfRates = dfRates.join(dfEma, how = \"inner\")\n",
    "    \n",
    "    \n",
    "    return dfRates"
   ]
  },
  {
   "cell_type": "code",
   "execution_count": 7,
   "id": "f89a65d2",
   "metadata": {
    "code_folding": [
     0
    ]
   },
   "outputs": [],
   "source": [
    "def AddSeasonalFeatures(dfRates):\n",
    "    global g_aInputFeatures \n",
    "    \n",
    "    c_a_SEASONAL_FEATURES = [\"year\", \"month\", \"day\", \"dayofweek\", \"hour\"]\n",
    "    for sSeasonalFeature in c_a_SEASONAL_FEATURES:\n",
    "        exec(\"dfRates[sSeasonalFeature] = dfRates.index.\" + sSeasonalFeature)\n",
    "        g_aInputFeatures.add(sSeasonalFeature)"
   ]
  },
  {
   "cell_type": "code",
   "execution_count": 8,
   "id": "17475e81",
   "metadata": {
    "code_folding": [
     0
    ]
   },
   "outputs": [],
   "source": [
    "def AddReturns(dfRates):\n",
    "    dfRates[\"return\"] = (dfRates[\"open\"] - dfRates[\"close\"])/dfRates[\"open\"]"
   ]
  },
  {
   "cell_type": "code",
   "execution_count": 9,
   "id": "e680ce9d",
   "metadata": {
    "code_folding": [
     0
    ]
   },
   "outputs": [],
   "source": [
    "def dfOversampleImbalancedData(dfX, dfY):\n",
    "    \n",
    "#     oOversample = SMOTE()\n",
    "#     aX, aY = oOversample.fit_resample(dfX.values, dfY.values)\n",
    "    \n",
    "#     dfX = pd.DataFrame(data = aX, columns = dfX.columns)\n",
    "#     dfY = pd.DataFrame(data = aY, columns = dfY.columns)\n",
    "    \n",
    "    dfXCopy = dfX.copy()\n",
    "    dfYCopy = dfY.copy()\n",
    "        \n",
    "    dfCombinations = dfYCopy.astype(str).agg('-'.join, axis=1)\n",
    "    dfCombinationsStats = dfCombinations.value_counts()\n",
    "    dfCombinationsStats = pd.DataFrame(dfCombinationsStats).reset_index()\n",
    "    \n",
    "    \n",
    "    iMaxAmount = dfCombinationsStats.iloc[0,1]\n",
    "    for i in range(1, len(dfCombinationsStats) ):\n",
    "        \n",
    "        sCombination = dfCombinationsStats.iloc[i, 0]\n",
    "        iSamplesNeeded = iMaxAmount - dfCombinationsStats.iloc[i, 1]\n",
    "        \n",
    "        dfSampledIndex =  dfCombinations[dfCombinations == sCombination].sample(iSamplesNeeded, replace = True).index\n",
    "        \n",
    "        dfSampledX = dfXCopy.loc[dfSampledIndex]\n",
    "        dfSampledY = dfYCopy.loc[dfSampledIndex]\n",
    "        \n",
    "    \n",
    "        dfX = dfX.append(dfSampledX , ignore_index= True)\n",
    "        dfY = dfY.append(dfSampledY , ignore_index= True)\n",
    "        \n",
    "    \n",
    "    dfX,dfY = shuffle(dfX,dfY )\n",
    "    \n",
    "\n",
    "    return dfX, dfY"
   ]
  },
  {
   "cell_type": "code",
   "execution_count": 10,
   "id": "682253c6",
   "metadata": {
    "code_folding": [
     0
    ]
   },
   "outputs": [],
   "source": [
    "def dfSplitData(dfInput, dfOutput):\n",
    "    dfInputTrainValidation, dfInputTest, dfOutputTrainValidation, dfOutputTest = train_test_split(\n",
    "        dfInput,\n",
    "        dfOutput,\n",
    "        test_size=gc_dec_TEST_RATIO,\n",
    "        shuffle=False)\n",
    "\n",
    "    dfInputTrain, dfInputValidation, dfOutputTrain, dfOutputValidation = train_test_split(\n",
    "        dfInputTrainValidation,\n",
    "        dfOutputTrainValidation,\n",
    "        test_size=(1/(1 -gc_dec_TEST_RATIO))-1,\n",
    "        shuffle=False)\n",
    "    \n",
    "    \n",
    "    dfInputTrain = dfInputTrain.astype(float)\n",
    "    dfInputValidation = dfInputValidation.astype(float)\n",
    "    dfInputTest = dfInputTest.astype(float)\n",
    "    dfOutputTrain = dfOutputTrain.astype(float)\n",
    "    dfOutputValidation = dfOutputValidation.astype(float)\n",
    "    dfOutputTest = dfOutputTest.astype(float)\n",
    "    \n",
    "    return dfInputTrain, dfInputValidation, dfInputTest, dfOutputTrain, dfOutputValidation, dfOutputTest"
   ]
  },
  {
   "cell_type": "code",
   "execution_count": 11,
   "id": "ca3eba12",
   "metadata": {
    "code_folding": [
     0
    ]
   },
   "outputs": [],
   "source": [
    "def dfScaleData(sScalerName,dfTrain,dfValidation, dfTest):\n",
    "    sScalersDirectory = os.path.join(sSubModelName , \"__scalers__\")\n",
    "\n",
    "    oScaler = StandardScaler()\n",
    "\n",
    "    oScaler.fit(dfTrain)\n",
    "\n",
    "    aScaledTrain = oScaler.transform(dfTrain)\n",
    "    aScaledValidation = oScaler.transform(dfValidation)\n",
    "    aScaledTest = oScaler.transform(dfTest)\n",
    "\n",
    "    dfScaledTrain = pd.DataFrame(aScaledTrain, columns = dfTrain.columns, index = dfTrain.index)\n",
    "    dfScaledValidation = pd.DataFrame(aScaledValidation, columns = dfValidation.columns, index = dfValidation.index)\n",
    "    dfScaledTest = pd.DataFrame(aScaledTest, columns = dfTest.columns, index = dfTest.index)\n",
    "\n",
    "    sScalerFilePath =os.path.join(sScalersDirectory, sScalerName + \".sav\")\n",
    "    os.makedirs(os.path.dirname(sScalerFilePath), exist_ok=True)\n",
    "    pickle.dump(oScaler, open(sScalerFilePath, 'wb'))\n",
    "    \n",
    "    \n",
    "    return dfScaledTrain, dfScaledValidation, dfScaledTest"
   ]
  },
  {
   "cell_type": "code",
   "execution_count": 12,
   "id": "a44508f4",
   "metadata": {
    "code_folding": []
   },
   "outputs": [],
   "source": [
    "sSymbol = \"USDCAD\"\n",
    "aRelevantSymbols = []"
   ]
  },
  {
   "cell_type": "code",
   "execution_count": 13,
   "id": "ad7ce049",
   "metadata": {},
   "outputs": [
    {
     "name": "stderr",
     "output_type": "stream",
     "text": [
      "C:\\Users\\yunus\\AppData\\Local\\Continuum\\anaconda3\\envs\\tf-gpu\\lib\\site-packages\\ta\\trend.py:768: RuntimeWarning: invalid value encountered in double_scalars\n",
      "  dip[i] = 100 * (self._dip[i] / self._trs[i])\n",
      "C:\\Users\\yunus\\AppData\\Local\\Continuum\\anaconda3\\envs\\tf-gpu\\lib\\site-packages\\ta\\trend.py:772: RuntimeWarning: invalid value encountered in double_scalars\n",
      "  din[i] = 100 * (self._din[i] / self._trs[i])\n"
     ]
    }
   ],
   "source": [
    "dfRates = dfGetMarketData(sSymbol)\n",
    "\n",
    "for sRelevantSymbol in aRelevantSymbols:\n",
    "    dfRelevantRates = dfGetMarketData(sRelevantSymbol)\n",
    "    dfRates = dfRates.join(dfRelevantRates, how = \"inner\")"
   ]
  },
  {
   "cell_type": "code",
   "execution_count": 14,
   "id": "4fa7f436",
   "metadata": {},
   "outputs": [
    {
     "data": {
      "text/html": [
       "<div>\n",
       "<style scoped>\n",
       "    .dataframe tbody tr th:only-of-type {\n",
       "        vertical-align: middle;\n",
       "    }\n",
       "\n",
       "    .dataframe tbody tr th {\n",
       "        vertical-align: top;\n",
       "    }\n",
       "\n",
       "    .dataframe thead tr th {\n",
       "        text-align: left;\n",
       "    }\n",
       "\n",
       "    .dataframe thead tr:last-of-type th {\n",
       "        text-align: right;\n",
       "    }\n",
       "</style>\n",
       "<table border=\"1\" class=\"dataframe\">\n",
       "  <thead>\n",
       "    <tr>\n",
       "      <th>Time Series</th>\n",
       "      <th colspan=\"21\" halign=\"left\">USDCAD</th>\n",
       "    </tr>\n",
       "    <tr>\n",
       "      <th>Feature</th>\n",
       "      <th>open</th>\n",
       "      <th>high</th>\n",
       "      <th>low</th>\n",
       "      <th>close</th>\n",
       "      <th>tick_volume</th>\n",
       "      <th>spread</th>\n",
       "      <th>year</th>\n",
       "      <th>month</th>\n",
       "      <th>day</th>\n",
       "      <th>dayofweek</th>\n",
       "      <th>...</th>\n",
       "      <th>return</th>\n",
       "      <th>adx</th>\n",
       "      <th>adx_neg</th>\n",
       "      <th>adx_pos</th>\n",
       "      <th>aroon_down_24</th>\n",
       "      <th>aroon_ind_24</th>\n",
       "      <th>aroon_up_24</th>\n",
       "      <th>cci</th>\n",
       "      <th>dpo_24</th>\n",
       "      <th>ema_24</th>\n",
       "    </tr>\n",
       "    <tr>\n",
       "      <th>time</th>\n",
       "      <th></th>\n",
       "      <th></th>\n",
       "      <th></th>\n",
       "      <th></th>\n",
       "      <th></th>\n",
       "      <th></th>\n",
       "      <th></th>\n",
       "      <th></th>\n",
       "      <th></th>\n",
       "      <th></th>\n",
       "      <th></th>\n",
       "      <th></th>\n",
       "      <th></th>\n",
       "      <th></th>\n",
       "      <th></th>\n",
       "      <th></th>\n",
       "      <th></th>\n",
       "      <th></th>\n",
       "      <th></th>\n",
       "      <th></th>\n",
       "      <th></th>\n",
       "    </tr>\n",
       "  </thead>\n",
       "  <tbody>\n",
       "    <tr>\n",
       "      <th>2013-01-04 07:00:00</th>\n",
       "      <td>0.98842</td>\n",
       "      <td>0.98848</td>\n",
       "      <td>0.98813</td>\n",
       "      <td>0.98830</td>\n",
       "      <td>501</td>\n",
       "      <td>0.00029</td>\n",
       "      <td>2013</td>\n",
       "      <td>1</td>\n",
       "      <td>4</td>\n",
       "      <td>4</td>\n",
       "      <td>...</td>\n",
       "      <td>0.000121</td>\n",
       "      <td>14.779169</td>\n",
       "      <td>18.588235</td>\n",
       "      <td>23.306295</td>\n",
       "      <td>33.333333</td>\n",
       "      <td>54.166667</td>\n",
       "      <td>87.500000</td>\n",
       "      <td>77.760923</td>\n",
       "      <td>-0.001457</td>\n",
       "      <td>0.987280</td>\n",
       "    </tr>\n",
       "    <tr>\n",
       "      <th>2013-01-04 08:00:00</th>\n",
       "      <td>0.98829</td>\n",
       "      <td>0.98882</td>\n",
       "      <td>0.98814</td>\n",
       "      <td>0.98881</td>\n",
       "      <td>570</td>\n",
       "      <td>0.00029</td>\n",
       "      <td>2013</td>\n",
       "      <td>1</td>\n",
       "      <td>4</td>\n",
       "      <td>4</td>\n",
       "      <td>...</td>\n",
       "      <td>-0.000526</td>\n",
       "      <td>14.758243</td>\n",
       "      <td>18.056092</td>\n",
       "      <td>24.070481</td>\n",
       "      <td>29.166667</td>\n",
       "      <td>54.166667</td>\n",
       "      <td>83.333333</td>\n",
       "      <td>83.006430</td>\n",
       "      <td>-0.001221</td>\n",
       "      <td>0.987402</td>\n",
       "    </tr>\n",
       "    <tr>\n",
       "      <th>2013-01-04 09:00:00</th>\n",
       "      <td>0.98882</td>\n",
       "      <td>0.99068</td>\n",
       "      <td>0.98879</td>\n",
       "      <td>0.99059</td>\n",
       "      <td>1015</td>\n",
       "      <td>0.00029</td>\n",
       "      <td>2013</td>\n",
       "      <td>1</td>\n",
       "      <td>4</td>\n",
       "      <td>4</td>\n",
       "      <td>...</td>\n",
       "      <td>-0.001790</td>\n",
       "      <td>15.318441</td>\n",
       "      <td>16.671855</td>\n",
       "      <td>29.769788</td>\n",
       "      <td>25.000000</td>\n",
       "      <td>75.000000</td>\n",
       "      <td>100.000000</td>\n",
       "      <td>134.326875</td>\n",
       "      <td>-0.001695</td>\n",
       "      <td>0.987657</td>\n",
       "    </tr>\n",
       "    <tr>\n",
       "      <th>2013-01-04 10:00:00</th>\n",
       "      <td>0.99055</td>\n",
       "      <td>0.99082</td>\n",
       "      <td>0.99001</td>\n",
       "      <td>0.99033</td>\n",
       "      <td>1203</td>\n",
       "      <td>0.00029</td>\n",
       "      <td>2013</td>\n",
       "      <td>1</td>\n",
       "      <td>4</td>\n",
       "      <td>4</td>\n",
       "      <td>...</td>\n",
       "      <td>0.000222</td>\n",
       "      <td>15.892986</td>\n",
       "      <td>16.119222</td>\n",
       "      <td>29.355911</td>\n",
       "      <td>20.833333</td>\n",
       "      <td>75.000000</td>\n",
       "      <td>95.833333</td>\n",
       "      <td>137.194411</td>\n",
       "      <td>-0.000205</td>\n",
       "      <td>0.987871</td>\n",
       "    </tr>\n",
       "    <tr>\n",
       "      <th>2013-01-04 11:00:00</th>\n",
       "      <td>0.99032</td>\n",
       "      <td>0.99074</td>\n",
       "      <td>0.98985</td>\n",
       "      <td>0.99031</td>\n",
       "      <td>1021</td>\n",
       "      <td>0.00025</td>\n",
       "      <td>2013</td>\n",
       "      <td>1</td>\n",
       "      <td>4</td>\n",
       "      <td>4</td>\n",
       "      <td>...</td>\n",
       "      <td>0.000010</td>\n",
       "      <td>16.363965</td>\n",
       "      <td>16.187261</td>\n",
       "      <td>28.281086</td>\n",
       "      <td>16.666667</td>\n",
       "      <td>75.000000</td>\n",
       "      <td>91.666667</td>\n",
       "      <td>124.278645</td>\n",
       "      <td>0.000323</td>\n",
       "      <td>0.988066</td>\n",
       "    </tr>\n",
       "    <tr>\n",
       "      <th>...</th>\n",
       "      <td>...</td>\n",
       "      <td>...</td>\n",
       "      <td>...</td>\n",
       "      <td>...</td>\n",
       "      <td>...</td>\n",
       "      <td>...</td>\n",
       "      <td>...</td>\n",
       "      <td>...</td>\n",
       "      <td>...</td>\n",
       "      <td>...</td>\n",
       "      <td>...</td>\n",
       "      <td>...</td>\n",
       "      <td>...</td>\n",
       "      <td>...</td>\n",
       "      <td>...</td>\n",
       "      <td>...</td>\n",
       "      <td>...</td>\n",
       "      <td>...</td>\n",
       "      <td>...</td>\n",
       "      <td>...</td>\n",
       "      <td>...</td>\n",
       "    </tr>\n",
       "    <tr>\n",
       "      <th>2021-10-27 20:00:00</th>\n",
       "      <td>1.23292</td>\n",
       "      <td>1.23412</td>\n",
       "      <td>1.23159</td>\n",
       "      <td>1.23319</td>\n",
       "      <td>31996</td>\n",
       "      <td>0.00018</td>\n",
       "      <td>2021</td>\n",
       "      <td>10</td>\n",
       "      <td>27</td>\n",
       "      <td>2</td>\n",
       "      <td>...</td>\n",
       "      <td>-0.000219</td>\n",
       "      <td>20.547753</td>\n",
       "      <td>30.290329</td>\n",
       "      <td>15.790205</td>\n",
       "      <td>95.833333</td>\n",
       "      <td>-16.666667</td>\n",
       "      <td>79.166667</td>\n",
       "      <td>-223.408502</td>\n",
       "      <td>-0.000045</td>\n",
       "      <td>1.237943</td>\n",
       "    </tr>\n",
       "    <tr>\n",
       "      <th>2021-10-27 21:00:00</th>\n",
       "      <td>1.23321</td>\n",
       "      <td>1.23472</td>\n",
       "      <td>1.23318</td>\n",
       "      <td>1.23435</td>\n",
       "      <td>28110</td>\n",
       "      <td>0.00018</td>\n",
       "      <td>2021</td>\n",
       "      <td>10</td>\n",
       "      <td>27</td>\n",
       "      <td>2</td>\n",
       "      <td>...</td>\n",
       "      <td>-0.000924</td>\n",
       "      <td>20.838039</td>\n",
       "      <td>29.219196</td>\n",
       "      <td>16.609577</td>\n",
       "      <td>91.666667</td>\n",
       "      <td>-16.666667</td>\n",
       "      <td>75.000000</td>\n",
       "      <td>-150.144117</td>\n",
       "      <td>0.000275</td>\n",
       "      <td>1.237655</td>\n",
       "    </tr>\n",
       "    <tr>\n",
       "      <th>2021-10-27 22:00:00</th>\n",
       "      <td>1.23435</td>\n",
       "      <td>1.23644</td>\n",
       "      <td>1.23435</td>\n",
       "      <td>1.23636</td>\n",
       "      <td>40121</td>\n",
       "      <td>0.00018</td>\n",
       "      <td>2021</td>\n",
       "      <td>10</td>\n",
       "      <td>27</td>\n",
       "      <td>2</td>\n",
       "      <td>...</td>\n",
       "      <td>-0.001628</td>\n",
       "      <td>20.677858</td>\n",
       "      <td>27.825734</td>\n",
       "      <td>19.742189</td>\n",
       "      <td>87.500000</td>\n",
       "      <td>-16.666667</td>\n",
       "      <td>70.833333</td>\n",
       "      <td>-83.694158</td>\n",
       "      <td>0.000058</td>\n",
       "      <td>1.237552</td>\n",
       "    </tr>\n",
       "    <tr>\n",
       "      <th>2021-10-27 23:00:00</th>\n",
       "      <td>1.23636</td>\n",
       "      <td>1.23637</td>\n",
       "      <td>1.23483</td>\n",
       "      <td>1.23485</td>\n",
       "      <td>10631</td>\n",
       "      <td>0.00018</td>\n",
       "      <td>2021</td>\n",
       "      <td>10</td>\n",
       "      <td>27</td>\n",
       "      <td>2</td>\n",
       "      <td>...</td>\n",
       "      <td>0.001221</td>\n",
       "      <td>20.524351</td>\n",
       "      <td>26.841515</td>\n",
       "      <td>19.043892</td>\n",
       "      <td>83.333333</td>\n",
       "      <td>-16.666667</td>\n",
       "      <td>66.666667</td>\n",
       "      <td>-83.921530</td>\n",
       "      <td>0.001702</td>\n",
       "      <td>1.237335</td>\n",
       "    </tr>\n",
       "    <tr>\n",
       "      <th>2021-10-28 00:00:00</th>\n",
       "      <td>1.23478</td>\n",
       "      <td>1.23632</td>\n",
       "      <td>1.23475</td>\n",
       "      <td>1.23613</td>\n",
       "      <td>2151</td>\n",
       "      <td>0.00020</td>\n",
       "      <td>2021</td>\n",
       "      <td>10</td>\n",
       "      <td>28</td>\n",
       "      <td>3</td>\n",
       "      <td>...</td>\n",
       "      <td>-0.001093</td>\n",
       "      <td>20.391632</td>\n",
       "      <td>26.052937</td>\n",
       "      <td>18.353300</td>\n",
       "      <td>79.166667</td>\n",
       "      <td>-16.666667</td>\n",
       "      <td>62.500000</td>\n",
       "      <td>-65.654126</td>\n",
       "      <td>0.003603</td>\n",
       "      <td>1.237239</td>\n",
       "    </tr>\n",
       "  </tbody>\n",
       "</table>\n",
       "<p>54725 rows × 21 columns</p>\n",
       "</div>"
      ],
      "text/plain": [
       "Time Series           USDCAD                                                  \\\n",
       "Feature                 open     high      low    close tick_volume   spread   \n",
       "time                                                                           \n",
       "2013-01-04 07:00:00  0.98842  0.98848  0.98813  0.98830         501  0.00029   \n",
       "2013-01-04 08:00:00  0.98829  0.98882  0.98814  0.98881         570  0.00029   \n",
       "2013-01-04 09:00:00  0.98882  0.99068  0.98879  0.99059        1015  0.00029   \n",
       "2013-01-04 10:00:00  0.99055  0.99082  0.99001  0.99033        1203  0.00029   \n",
       "2013-01-04 11:00:00  0.99032  0.99074  0.98985  0.99031        1021  0.00025   \n",
       "...                      ...      ...      ...      ...         ...      ...   \n",
       "2021-10-27 20:00:00  1.23292  1.23412  1.23159  1.23319       31996  0.00018   \n",
       "2021-10-27 21:00:00  1.23321  1.23472  1.23318  1.23435       28110  0.00018   \n",
       "2021-10-27 22:00:00  1.23435  1.23644  1.23435  1.23636       40121  0.00018   \n",
       "2021-10-27 23:00:00  1.23636  1.23637  1.23483  1.23485       10631  0.00018   \n",
       "2021-10-28 00:00:00  1.23478  1.23632  1.23475  1.23613        2151  0.00020   \n",
       "\n",
       "Time Series                                    ...                       \\\n",
       "Feature              year month day dayofweek  ...    return        adx   \n",
       "time                                           ...                        \n",
       "2013-01-04 07:00:00  2013     1   4         4  ...  0.000121  14.779169   \n",
       "2013-01-04 08:00:00  2013     1   4         4  ... -0.000526  14.758243   \n",
       "2013-01-04 09:00:00  2013     1   4         4  ... -0.001790  15.318441   \n",
       "2013-01-04 10:00:00  2013     1   4         4  ...  0.000222  15.892986   \n",
       "2013-01-04 11:00:00  2013     1   4         4  ...  0.000010  16.363965   \n",
       "...                   ...   ...  ..       ...  ...       ...        ...   \n",
       "2021-10-27 20:00:00  2021    10  27         2  ... -0.000219  20.547753   \n",
       "2021-10-27 21:00:00  2021    10  27         2  ... -0.000924  20.838039   \n",
       "2021-10-27 22:00:00  2021    10  27         2  ... -0.001628  20.677858   \n",
       "2021-10-27 23:00:00  2021    10  27         2  ...  0.001221  20.524351   \n",
       "2021-10-28 00:00:00  2021    10  28         3  ... -0.001093  20.391632   \n",
       "\n",
       "Time Series                                                           \\\n",
       "Feature                adx_neg    adx_pos aroon_down_24 aroon_ind_24   \n",
       "time                                                                   \n",
       "2013-01-04 07:00:00  18.588235  23.306295     33.333333    54.166667   \n",
       "2013-01-04 08:00:00  18.056092  24.070481     29.166667    54.166667   \n",
       "2013-01-04 09:00:00  16.671855  29.769788     25.000000    75.000000   \n",
       "2013-01-04 10:00:00  16.119222  29.355911     20.833333    75.000000   \n",
       "2013-01-04 11:00:00  16.187261  28.281086     16.666667    75.000000   \n",
       "...                        ...        ...           ...          ...   \n",
       "2021-10-27 20:00:00  30.290329  15.790205     95.833333   -16.666667   \n",
       "2021-10-27 21:00:00  29.219196  16.609577     91.666667   -16.666667   \n",
       "2021-10-27 22:00:00  27.825734  19.742189     87.500000   -16.666667   \n",
       "2021-10-27 23:00:00  26.841515  19.043892     83.333333   -16.666667   \n",
       "2021-10-28 00:00:00  26.052937  18.353300     79.166667   -16.666667   \n",
       "\n",
       "Time Series                                                      \n",
       "Feature             aroon_up_24         cci    dpo_24    ema_24  \n",
       "time                                                             \n",
       "2013-01-04 07:00:00   87.500000   77.760923 -0.001457  0.987280  \n",
       "2013-01-04 08:00:00   83.333333   83.006430 -0.001221  0.987402  \n",
       "2013-01-04 09:00:00  100.000000  134.326875 -0.001695  0.987657  \n",
       "2013-01-04 10:00:00   95.833333  137.194411 -0.000205  0.987871  \n",
       "2013-01-04 11:00:00   91.666667  124.278645  0.000323  0.988066  \n",
       "...                         ...         ...       ...       ...  \n",
       "2021-10-27 20:00:00   79.166667 -223.408502 -0.000045  1.237943  \n",
       "2021-10-27 21:00:00   75.000000 -150.144117  0.000275  1.237655  \n",
       "2021-10-27 22:00:00   70.833333  -83.694158  0.000058  1.237552  \n",
       "2021-10-27 23:00:00   66.666667  -83.921530  0.001702  1.237335  \n",
       "2021-10-28 00:00:00   62.500000  -65.654126  0.003603  1.237239  \n",
       "\n",
       "[54725 rows x 21 columns]"
      ]
     },
     "execution_count": 14,
     "metadata": {},
     "output_type": "execute_result"
    }
   ],
   "source": [
    "dfRates"
   ]
  },
  {
   "cell_type": "code",
   "execution_count": 15,
   "id": "d458f828",
   "metadata": {},
   "outputs": [],
   "source": [
    "dfInput  = dfRates.loc[:, dfRates.columns.get_level_values(1).isin(g_aInputFeatures)]\n",
    "dfInput = dfShiftTimeSteps(dfInput, g_aBackwardTimeSteps)"
   ]
  },
  {
   "cell_type": "code",
   "execution_count": 16,
   "id": "07c7b3c4",
   "metadata": {},
   "outputs": [
    {
     "data": {
      "text/html": [
       "<div>\n",
       "<style scoped>\n",
       "    .dataframe tbody tr th:only-of-type {\n",
       "        vertical-align: middle;\n",
       "    }\n",
       "\n",
       "    .dataframe tbody tr th {\n",
       "        vertical-align: top;\n",
       "    }\n",
       "\n",
       "    .dataframe thead tr th {\n",
       "        text-align: left;\n",
       "    }\n",
       "\n",
       "    .dataframe thead tr:last-of-type th {\n",
       "        text-align: right;\n",
       "    }\n",
       "</style>\n",
       "<table border=\"1\" class=\"dataframe\">\n",
       "  <thead>\n",
       "    <tr>\n",
       "      <th>Time Step</th>\n",
       "      <th colspan=\"20\" halign=\"left\">-1</th>\n",
       "    </tr>\n",
       "    <tr>\n",
       "      <th>Time Series</th>\n",
       "      <th colspan=\"20\" halign=\"left\">USDCAD</th>\n",
       "    </tr>\n",
       "    <tr>\n",
       "      <th>Feature</th>\n",
       "      <th>open</th>\n",
       "      <th>high</th>\n",
       "      <th>low</th>\n",
       "      <th>close</th>\n",
       "      <th>tick_volume</th>\n",
       "      <th>spread</th>\n",
       "      <th>year</th>\n",
       "      <th>month</th>\n",
       "      <th>day</th>\n",
       "      <th>dayofweek</th>\n",
       "      <th>hour</th>\n",
       "      <th>adx</th>\n",
       "      <th>adx_neg</th>\n",
       "      <th>adx_pos</th>\n",
       "      <th>aroon_down_24</th>\n",
       "      <th>aroon_ind_24</th>\n",
       "      <th>aroon_up_24</th>\n",
       "      <th>cci</th>\n",
       "      <th>dpo_24</th>\n",
       "      <th>ema_24</th>\n",
       "    </tr>\n",
       "    <tr>\n",
       "      <th>time</th>\n",
       "      <th></th>\n",
       "      <th></th>\n",
       "      <th></th>\n",
       "      <th></th>\n",
       "      <th></th>\n",
       "      <th></th>\n",
       "      <th></th>\n",
       "      <th></th>\n",
       "      <th></th>\n",
       "      <th></th>\n",
       "      <th></th>\n",
       "      <th></th>\n",
       "      <th></th>\n",
       "      <th></th>\n",
       "      <th></th>\n",
       "      <th></th>\n",
       "      <th></th>\n",
       "      <th></th>\n",
       "      <th></th>\n",
       "      <th></th>\n",
       "    </tr>\n",
       "  </thead>\n",
       "  <tbody>\n",
       "    <tr>\n",
       "      <th>2013-01-04 08:00:00</th>\n",
       "      <td>0.98842</td>\n",
       "      <td>0.98848</td>\n",
       "      <td>0.98813</td>\n",
       "      <td>0.98830</td>\n",
       "      <td>501.0</td>\n",
       "      <td>0.00029</td>\n",
       "      <td>2013.0</td>\n",
       "      <td>1.0</td>\n",
       "      <td>4.0</td>\n",
       "      <td>4.0</td>\n",
       "      <td>7.0</td>\n",
       "      <td>14.779169</td>\n",
       "      <td>18.588235</td>\n",
       "      <td>23.306295</td>\n",
       "      <td>33.333333</td>\n",
       "      <td>54.166667</td>\n",
       "      <td>87.500000</td>\n",
       "      <td>77.760923</td>\n",
       "      <td>-0.001457</td>\n",
       "      <td>0.987280</td>\n",
       "    </tr>\n",
       "    <tr>\n",
       "      <th>2013-01-04 09:00:00</th>\n",
       "      <td>0.98829</td>\n",
       "      <td>0.98882</td>\n",
       "      <td>0.98814</td>\n",
       "      <td>0.98881</td>\n",
       "      <td>570.0</td>\n",
       "      <td>0.00029</td>\n",
       "      <td>2013.0</td>\n",
       "      <td>1.0</td>\n",
       "      <td>4.0</td>\n",
       "      <td>4.0</td>\n",
       "      <td>8.0</td>\n",
       "      <td>14.758243</td>\n",
       "      <td>18.056092</td>\n",
       "      <td>24.070481</td>\n",
       "      <td>29.166667</td>\n",
       "      <td>54.166667</td>\n",
       "      <td>83.333333</td>\n",
       "      <td>83.006430</td>\n",
       "      <td>-0.001221</td>\n",
       "      <td>0.987402</td>\n",
       "    </tr>\n",
       "    <tr>\n",
       "      <th>2013-01-04 10:00:00</th>\n",
       "      <td>0.98882</td>\n",
       "      <td>0.99068</td>\n",
       "      <td>0.98879</td>\n",
       "      <td>0.99059</td>\n",
       "      <td>1015.0</td>\n",
       "      <td>0.00029</td>\n",
       "      <td>2013.0</td>\n",
       "      <td>1.0</td>\n",
       "      <td>4.0</td>\n",
       "      <td>4.0</td>\n",
       "      <td>9.0</td>\n",
       "      <td>15.318441</td>\n",
       "      <td>16.671855</td>\n",
       "      <td>29.769788</td>\n",
       "      <td>25.000000</td>\n",
       "      <td>75.000000</td>\n",
       "      <td>100.000000</td>\n",
       "      <td>134.326875</td>\n",
       "      <td>-0.001695</td>\n",
       "      <td>0.987657</td>\n",
       "    </tr>\n",
       "    <tr>\n",
       "      <th>2013-01-04 11:00:00</th>\n",
       "      <td>0.99055</td>\n",
       "      <td>0.99082</td>\n",
       "      <td>0.99001</td>\n",
       "      <td>0.99033</td>\n",
       "      <td>1203.0</td>\n",
       "      <td>0.00029</td>\n",
       "      <td>2013.0</td>\n",
       "      <td>1.0</td>\n",
       "      <td>4.0</td>\n",
       "      <td>4.0</td>\n",
       "      <td>10.0</td>\n",
       "      <td>15.892986</td>\n",
       "      <td>16.119222</td>\n",
       "      <td>29.355911</td>\n",
       "      <td>20.833333</td>\n",
       "      <td>75.000000</td>\n",
       "      <td>95.833333</td>\n",
       "      <td>137.194411</td>\n",
       "      <td>-0.000205</td>\n",
       "      <td>0.987871</td>\n",
       "    </tr>\n",
       "    <tr>\n",
       "      <th>2013-01-04 12:00:00</th>\n",
       "      <td>0.99032</td>\n",
       "      <td>0.99074</td>\n",
       "      <td>0.98985</td>\n",
       "      <td>0.99031</td>\n",
       "      <td>1021.0</td>\n",
       "      <td>0.00025</td>\n",
       "      <td>2013.0</td>\n",
       "      <td>1.0</td>\n",
       "      <td>4.0</td>\n",
       "      <td>4.0</td>\n",
       "      <td>11.0</td>\n",
       "      <td>16.363965</td>\n",
       "      <td>16.187261</td>\n",
       "      <td>28.281086</td>\n",
       "      <td>16.666667</td>\n",
       "      <td>75.000000</td>\n",
       "      <td>91.666667</td>\n",
       "      <td>124.278645</td>\n",
       "      <td>0.000323</td>\n",
       "      <td>0.988066</td>\n",
       "    </tr>\n",
       "    <tr>\n",
       "      <th>...</th>\n",
       "      <td>...</td>\n",
       "      <td>...</td>\n",
       "      <td>...</td>\n",
       "      <td>...</td>\n",
       "      <td>...</td>\n",
       "      <td>...</td>\n",
       "      <td>...</td>\n",
       "      <td>...</td>\n",
       "      <td>...</td>\n",
       "      <td>...</td>\n",
       "      <td>...</td>\n",
       "      <td>...</td>\n",
       "      <td>...</td>\n",
       "      <td>...</td>\n",
       "      <td>...</td>\n",
       "      <td>...</td>\n",
       "      <td>...</td>\n",
       "      <td>...</td>\n",
       "      <td>...</td>\n",
       "      <td>...</td>\n",
       "    </tr>\n",
       "    <tr>\n",
       "      <th>2021-10-27 20:00:00</th>\n",
       "      <td>1.23372</td>\n",
       "      <td>1.23425</td>\n",
       "      <td>1.23206</td>\n",
       "      <td>1.23292</td>\n",
       "      <td>39555.0</td>\n",
       "      <td>0.00018</td>\n",
       "      <td>2021.0</td>\n",
       "      <td>10.0</td>\n",
       "      <td>27.0</td>\n",
       "      <td>2.0</td>\n",
       "      <td>19.0</td>\n",
       "      <td>20.073006</td>\n",
       "      <td>31.007771</td>\n",
       "      <td>16.757362</td>\n",
       "      <td>100.000000</td>\n",
       "      <td>-16.666667</td>\n",
       "      <td>83.333333</td>\n",
       "      <td>-275.231685</td>\n",
       "      <td>0.000101</td>\n",
       "      <td>1.238356</td>\n",
       "    </tr>\n",
       "    <tr>\n",
       "      <th>2021-10-27 21:00:00</th>\n",
       "      <td>1.23292</td>\n",
       "      <td>1.23412</td>\n",
       "      <td>1.23159</td>\n",
       "      <td>1.23319</td>\n",
       "      <td>31996.0</td>\n",
       "      <td>0.00018</td>\n",
       "      <td>2021.0</td>\n",
       "      <td>10.0</td>\n",
       "      <td>27.0</td>\n",
       "      <td>2.0</td>\n",
       "      <td>20.0</td>\n",
       "      <td>20.547753</td>\n",
       "      <td>30.290329</td>\n",
       "      <td>15.790205</td>\n",
       "      <td>95.833333</td>\n",
       "      <td>-16.666667</td>\n",
       "      <td>79.166667</td>\n",
       "      <td>-223.408502</td>\n",
       "      <td>-0.000045</td>\n",
       "      <td>1.237943</td>\n",
       "    </tr>\n",
       "    <tr>\n",
       "      <th>2021-10-27 22:00:00</th>\n",
       "      <td>1.23321</td>\n",
       "      <td>1.23472</td>\n",
       "      <td>1.23318</td>\n",
       "      <td>1.23435</td>\n",
       "      <td>28110.0</td>\n",
       "      <td>0.00018</td>\n",
       "      <td>2021.0</td>\n",
       "      <td>10.0</td>\n",
       "      <td>27.0</td>\n",
       "      <td>2.0</td>\n",
       "      <td>21.0</td>\n",
       "      <td>20.838039</td>\n",
       "      <td>29.219196</td>\n",
       "      <td>16.609577</td>\n",
       "      <td>91.666667</td>\n",
       "      <td>-16.666667</td>\n",
       "      <td>75.000000</td>\n",
       "      <td>-150.144117</td>\n",
       "      <td>0.000275</td>\n",
       "      <td>1.237655</td>\n",
       "    </tr>\n",
       "    <tr>\n",
       "      <th>2021-10-27 23:00:00</th>\n",
       "      <td>1.23435</td>\n",
       "      <td>1.23644</td>\n",
       "      <td>1.23435</td>\n",
       "      <td>1.23636</td>\n",
       "      <td>40121.0</td>\n",
       "      <td>0.00018</td>\n",
       "      <td>2021.0</td>\n",
       "      <td>10.0</td>\n",
       "      <td>27.0</td>\n",
       "      <td>2.0</td>\n",
       "      <td>22.0</td>\n",
       "      <td>20.677858</td>\n",
       "      <td>27.825734</td>\n",
       "      <td>19.742189</td>\n",
       "      <td>87.500000</td>\n",
       "      <td>-16.666667</td>\n",
       "      <td>70.833333</td>\n",
       "      <td>-83.694158</td>\n",
       "      <td>0.000058</td>\n",
       "      <td>1.237552</td>\n",
       "    </tr>\n",
       "    <tr>\n",
       "      <th>2021-10-28 00:00:00</th>\n",
       "      <td>1.23636</td>\n",
       "      <td>1.23637</td>\n",
       "      <td>1.23483</td>\n",
       "      <td>1.23485</td>\n",
       "      <td>10631.0</td>\n",
       "      <td>0.00018</td>\n",
       "      <td>2021.0</td>\n",
       "      <td>10.0</td>\n",
       "      <td>27.0</td>\n",
       "      <td>2.0</td>\n",
       "      <td>23.0</td>\n",
       "      <td>20.524351</td>\n",
       "      <td>26.841515</td>\n",
       "      <td>19.043892</td>\n",
       "      <td>83.333333</td>\n",
       "      <td>-16.666667</td>\n",
       "      <td>66.666667</td>\n",
       "      <td>-83.921530</td>\n",
       "      <td>0.001702</td>\n",
       "      <td>1.237335</td>\n",
       "    </tr>\n",
       "  </tbody>\n",
       "</table>\n",
       "<p>54724 rows × 20 columns</p>\n",
       "</div>"
      ],
      "text/plain": [
       "Time Step                 -1                                                  \\\n",
       "Time Series           USDCAD                                                   \n",
       "Feature                 open     high      low    close tick_volume   spread   \n",
       "time                                                                           \n",
       "2013-01-04 08:00:00  0.98842  0.98848  0.98813  0.98830       501.0  0.00029   \n",
       "2013-01-04 09:00:00  0.98829  0.98882  0.98814  0.98881       570.0  0.00029   \n",
       "2013-01-04 10:00:00  0.98882  0.99068  0.98879  0.99059      1015.0  0.00029   \n",
       "2013-01-04 11:00:00  0.99055  0.99082  0.99001  0.99033      1203.0  0.00029   \n",
       "2013-01-04 12:00:00  0.99032  0.99074  0.98985  0.99031      1021.0  0.00025   \n",
       "...                      ...      ...      ...      ...         ...      ...   \n",
       "2021-10-27 20:00:00  1.23372  1.23425  1.23206  1.23292     39555.0  0.00018   \n",
       "2021-10-27 21:00:00  1.23292  1.23412  1.23159  1.23319     31996.0  0.00018   \n",
       "2021-10-27 22:00:00  1.23321  1.23472  1.23318  1.23435     28110.0  0.00018   \n",
       "2021-10-27 23:00:00  1.23435  1.23644  1.23435  1.23636     40121.0  0.00018   \n",
       "2021-10-28 00:00:00  1.23636  1.23637  1.23483  1.23485     10631.0  0.00018   \n",
       "\n",
       "Time Step                                                                      \\\n",
       "Time Series                                                                     \n",
       "Feature                year month   day dayofweek  hour        adx    adx_neg   \n",
       "time                                                                            \n",
       "2013-01-04 08:00:00  2013.0   1.0   4.0       4.0   7.0  14.779169  18.588235   \n",
       "2013-01-04 09:00:00  2013.0   1.0   4.0       4.0   8.0  14.758243  18.056092   \n",
       "2013-01-04 10:00:00  2013.0   1.0   4.0       4.0   9.0  15.318441  16.671855   \n",
       "2013-01-04 11:00:00  2013.0   1.0   4.0       4.0  10.0  15.892986  16.119222   \n",
       "2013-01-04 12:00:00  2013.0   1.0   4.0       4.0  11.0  16.363965  16.187261   \n",
       "...                     ...   ...   ...       ...   ...        ...        ...   \n",
       "2021-10-27 20:00:00  2021.0  10.0  27.0       2.0  19.0  20.073006  31.007771   \n",
       "2021-10-27 21:00:00  2021.0  10.0  27.0       2.0  20.0  20.547753  30.290329   \n",
       "2021-10-27 22:00:00  2021.0  10.0  27.0       2.0  21.0  20.838039  29.219196   \n",
       "2021-10-27 23:00:00  2021.0  10.0  27.0       2.0  22.0  20.677858  27.825734   \n",
       "2021-10-28 00:00:00  2021.0  10.0  27.0       2.0  23.0  20.524351  26.841515   \n",
       "\n",
       "Time Step                                                              \\\n",
       "Time Series                                                             \n",
       "Feature                adx_pos aroon_down_24 aroon_ind_24 aroon_up_24   \n",
       "time                                                                    \n",
       "2013-01-04 08:00:00  23.306295     33.333333    54.166667   87.500000   \n",
       "2013-01-04 09:00:00  24.070481     29.166667    54.166667   83.333333   \n",
       "2013-01-04 10:00:00  29.769788     25.000000    75.000000  100.000000   \n",
       "2013-01-04 11:00:00  29.355911     20.833333    75.000000   95.833333   \n",
       "2013-01-04 12:00:00  28.281086     16.666667    75.000000   91.666667   \n",
       "...                        ...           ...          ...         ...   \n",
       "2021-10-27 20:00:00  16.757362    100.000000   -16.666667   83.333333   \n",
       "2021-10-27 21:00:00  15.790205     95.833333   -16.666667   79.166667   \n",
       "2021-10-27 22:00:00  16.609577     91.666667   -16.666667   75.000000   \n",
       "2021-10-27 23:00:00  19.742189     87.500000   -16.666667   70.833333   \n",
       "2021-10-28 00:00:00  19.043892     83.333333   -16.666667   66.666667   \n",
       "\n",
       "Time Step                                            \n",
       "Time Series                                          \n",
       "Feature                     cci    dpo_24    ema_24  \n",
       "time                                                 \n",
       "2013-01-04 08:00:00   77.760923 -0.001457  0.987280  \n",
       "2013-01-04 09:00:00   83.006430 -0.001221  0.987402  \n",
       "2013-01-04 10:00:00  134.326875 -0.001695  0.987657  \n",
       "2013-01-04 11:00:00  137.194411 -0.000205  0.987871  \n",
       "2013-01-04 12:00:00  124.278645  0.000323  0.988066  \n",
       "...                         ...       ...       ...  \n",
       "2021-10-27 20:00:00 -275.231685  0.000101  1.238356  \n",
       "2021-10-27 21:00:00 -223.408502 -0.000045  1.237943  \n",
       "2021-10-27 22:00:00 -150.144117  0.000275  1.237655  \n",
       "2021-10-27 23:00:00  -83.694158  0.000058  1.237552  \n",
       "2021-10-28 00:00:00  -83.921530  0.001702  1.237335  \n",
       "\n",
       "[54724 rows x 20 columns]"
      ]
     },
     "execution_count": 16,
     "metadata": {},
     "output_type": "execute_result"
    }
   ],
   "source": [
    "dfInput"
   ]
  },
  {
   "cell_type": "code",
   "execution_count": 17,
   "id": "7dabba9e",
   "metadata": {},
   "outputs": [],
   "source": [
    "i = 1\n",
    "j = 3"
   ]
  },
  {
   "cell_type": "code",
   "execution_count": 18,
   "id": "4c4e0cf9",
   "metadata": {},
   "outputs": [],
   "source": [
    "aColumns = pd.MultiIndex.from_tuples(\n",
    "    [(i,j)],\n",
    "    names = [\"From\",\"To\"])"
   ]
  },
  {
   "cell_type": "code",
   "execution_count": 19,
   "id": "0bdfa0c3",
   "metadata": {},
   "outputs": [],
   "source": [
    "dfOutput = pd.DataFrame(index = dfInput.index, \n",
    "                        columns = aColumns)\n",
    "\n",
    "    \n",
    "dfSpread = dfRates[sSymbol][\"spread\"]\n",
    "dfOpen = dfRates[sSymbol][\"open\"].shift(-i)\n",
    "dfClose = dfRates[sSymbol][\"close\"].shift(-j)\n",
    "\n",
    "dfNetReturn = (abs(dfClose - dfOpen) - dfSpread)\n",
    "dfReturn = (dfClose - dfOpen)/dfOpen"
   ]
  },
  {
   "cell_type": "markdown",
   "id": "47b58f09",
   "metadata": {},
   "source": [
    "# INVESTABILITY MODEL"
   ]
  },
  {
   "cell_type": "code",
   "execution_count": 20,
   "id": "3db7ddf2",
   "metadata": {},
   "outputs": [],
   "source": [
    "sModelName = os.path.join(sSymbol , \"__investability model__\")"
   ]
  },
  {
   "cell_type": "code",
   "execution_count": 21,
   "id": "449e35ce",
   "metadata": {},
   "outputs": [],
   "source": [
    "sSubModelName = os.path.join(sModelName , \"__\"+ str(i) +\"  \" + str(j) + \"__\")"
   ]
  },
  {
   "cell_type": "markdown",
   "id": "575fa9d7",
   "metadata": {},
   "source": [
    "## Preprocessing"
   ]
  },
  {
   "cell_type": "code",
   "execution_count": 22,
   "id": "7c9f820e",
   "metadata": {},
   "outputs": [],
   "source": [
    "dfInputInvestability = dfInput.copy()\n",
    "dfOutputInvestability = dfOutput.copy()"
   ]
  },
  {
   "cell_type": "code",
   "execution_count": 23,
   "id": "87e7d7c8",
   "metadata": {},
   "outputs": [],
   "source": [
    "dfMaskNonInvestable = dfNetReturn<=0\n",
    "dfMaskInvestable = dfNetReturn>0\n",
    "\n",
    "dfOutputInvestability.loc[dfMaskNonInvestable] = 0\n",
    "dfOutputInvestability.loc[dfMaskInvestable] = 1"
   ]
  },
  {
   "cell_type": "code",
   "execution_count": 24,
   "id": "646509c0",
   "metadata": {},
   "outputs": [
    {
     "data": {
      "text/html": [
       "<div>\n",
       "<style scoped>\n",
       "    .dataframe tbody tr th:only-of-type {\n",
       "        vertical-align: middle;\n",
       "    }\n",
       "\n",
       "    .dataframe tbody tr th {\n",
       "        vertical-align: top;\n",
       "    }\n",
       "\n",
       "    .dataframe thead tr th {\n",
       "        text-align: left;\n",
       "    }\n",
       "\n",
       "    .dataframe thead tr:last-of-type th {\n",
       "        text-align: right;\n",
       "    }\n",
       "</style>\n",
       "<table border=\"1\" class=\"dataframe\">\n",
       "  <thead>\n",
       "    <tr>\n",
       "      <th>From</th>\n",
       "      <th>1</th>\n",
       "    </tr>\n",
       "    <tr>\n",
       "      <th>To</th>\n",
       "      <th>3</th>\n",
       "    </tr>\n",
       "    <tr>\n",
       "      <th>time</th>\n",
       "      <th></th>\n",
       "    </tr>\n",
       "  </thead>\n",
       "  <tbody>\n",
       "    <tr>\n",
       "      <th>2013-01-04 08:00:00</th>\n",
       "      <td>1</td>\n",
       "    </tr>\n",
       "    <tr>\n",
       "      <th>2013-01-04 09:00:00</th>\n",
       "      <td>1</td>\n",
       "    </tr>\n",
       "    <tr>\n",
       "      <th>2013-01-04 10:00:00</th>\n",
       "      <td>1</td>\n",
       "    </tr>\n",
       "    <tr>\n",
       "      <th>2013-01-04 11:00:00</th>\n",
       "      <td>1</td>\n",
       "    </tr>\n",
       "    <tr>\n",
       "      <th>2013-01-04 12:00:00</th>\n",
       "      <td>1</td>\n",
       "    </tr>\n",
       "    <tr>\n",
       "      <th>...</th>\n",
       "      <td>...</td>\n",
       "    </tr>\n",
       "    <tr>\n",
       "      <th>2021-10-27 20:00:00</th>\n",
       "      <td>1</td>\n",
       "    </tr>\n",
       "    <tr>\n",
       "      <th>2021-10-27 21:00:00</th>\n",
       "      <td>1</td>\n",
       "    </tr>\n",
       "    <tr>\n",
       "      <th>2021-10-27 22:00:00</th>\n",
       "      <td>NaN</td>\n",
       "    </tr>\n",
       "    <tr>\n",
       "      <th>2021-10-27 23:00:00</th>\n",
       "      <td>NaN</td>\n",
       "    </tr>\n",
       "    <tr>\n",
       "      <th>2021-10-28 00:00:00</th>\n",
       "      <td>NaN</td>\n",
       "    </tr>\n",
       "  </tbody>\n",
       "</table>\n",
       "<p>54724 rows × 1 columns</p>\n",
       "</div>"
      ],
      "text/plain": [
       "From                   1\n",
       "To                     3\n",
       "time                    \n",
       "2013-01-04 08:00:00    1\n",
       "2013-01-04 09:00:00    1\n",
       "2013-01-04 10:00:00    1\n",
       "2013-01-04 11:00:00    1\n",
       "2013-01-04 12:00:00    1\n",
       "...                  ...\n",
       "2021-10-27 20:00:00    1\n",
       "2021-10-27 21:00:00    1\n",
       "2021-10-27 22:00:00  NaN\n",
       "2021-10-27 23:00:00  NaN\n",
       "2021-10-28 00:00:00  NaN\n",
       "\n",
       "[54724 rows x 1 columns]"
      ]
     },
     "execution_count": 24,
     "metadata": {},
     "output_type": "execute_result"
    }
   ],
   "source": [
    "dfOutputInvestability"
   ]
  },
  {
   "cell_type": "markdown",
   "id": "16787112",
   "metadata": {},
   "source": [
    "### Remove Empty Rows"
   ]
  },
  {
   "cell_type": "code",
   "execution_count": 25,
   "id": "9e03e15b",
   "metadata": {},
   "outputs": [],
   "source": [
    "aMissingOutputs = dfOutputInvestability[dfOutputInvestability.isna().any(axis=1)].index\n",
    "dfInputInvestability.drop(aMissingOutputs, inplace = True)\n",
    "dfOutputInvestability.drop(aMissingOutputs, inplace = True)"
   ]
  },
  {
   "cell_type": "markdown",
   "id": "c0c2102f",
   "metadata": {},
   "source": [
    "### Split Data"
   ]
  },
  {
   "cell_type": "code",
   "execution_count": 26,
   "id": "d6154ebd",
   "metadata": {},
   "outputs": [],
   "source": [
    "dfInputTrain, dfInputValidation, dfInputTest, dfOutputTrain, dfOutputValidation, dfOutputTest = dfSplitData(dfInputInvestability, \n",
    "                                                                                                            dfOutputInvestability)"
   ]
  },
  {
   "cell_type": "markdown",
   "id": "bd0d669c",
   "metadata": {},
   "source": [
    "### Scale Data"
   ]
  },
  {
   "cell_type": "code",
   "execution_count": 27,
   "id": "d506f074",
   "metadata": {},
   "outputs": [],
   "source": [
    "dfScaledInputTrain, dfScaledInputValidation, dfScaledInputTest = dfScaleData(\"input\", dfInputTrain,dfInputValidation, dfInputTest )"
   ]
  },
  {
   "cell_type": "markdown",
   "id": "9b6b9931",
   "metadata": {},
   "source": [
    "### Balance Classes"
   ]
  },
  {
   "cell_type": "code",
   "execution_count": 28,
   "id": "89f6c7f2",
   "metadata": {},
   "outputs": [
    {
     "data": {
      "text/plain": [
       "(1, 3)\n",
       "1.0       28802\n",
       "0.0        4030\n",
       "dtype: int64"
      ]
     },
     "execution_count": 28,
     "metadata": {},
     "output_type": "execute_result"
    }
   ],
   "source": [
    "dfOutputTrain.value_counts()"
   ]
  },
  {
   "cell_type": "code",
   "execution_count": 29,
   "id": "53a4994f",
   "metadata": {},
   "outputs": [],
   "source": [
    "dfBalancedInputTrain , dfBalancedOutputTrain = dfOversampleImbalancedData(\n",
    "    dfScaledInputTrain,\n",
    "    dfOutputTrain)\n",
    "dfBalancedOutputTrain.columns = aColumns"
   ]
  },
  {
   "cell_type": "code",
   "execution_count": 30,
   "id": "9bfa3eea",
   "metadata": {},
   "outputs": [
    {
     "data": {
      "text/plain": [
       "(1, 3)\n",
       "0.0       28802\n",
       "1.0       28802\n",
       "dtype: int64"
      ]
     },
     "execution_count": 30,
     "metadata": {},
     "output_type": "execute_result"
    }
   ],
   "source": [
    "dfBalancedOutputTrain.value_counts()"
   ]
  },
  {
   "cell_type": "code",
   "execution_count": 31,
   "id": "71839c5c",
   "metadata": {},
   "outputs": [
    {
     "data": {
      "text/plain": [
       "(1, 3)\n",
       "1.0       9587\n",
       "0.0       1357\n",
       "dtype: int64"
      ]
     },
     "execution_count": 31,
     "metadata": {},
     "output_type": "execute_result"
    }
   ],
   "source": [
    "dfOutputValidation.value_counts()"
   ]
  },
  {
   "cell_type": "code",
   "execution_count": 32,
   "id": "88179483",
   "metadata": {},
   "outputs": [
    {
     "data": {
      "text/plain": [
       "(1, 3)\n",
       "1.0       9898\n",
       "0.0       1047\n",
       "dtype: int64"
      ]
     },
     "execution_count": 32,
     "metadata": {},
     "output_type": "execute_result"
    }
   ],
   "source": [
    "dfOutputTest.value_counts()"
   ]
  },
  {
   "cell_type": "markdown",
   "id": "47d1128f",
   "metadata": {},
   "source": [
    "## Train"
   ]
  },
  {
   "cell_type": "code",
   "execution_count": 33,
   "id": "0ff3f1f4",
   "metadata": {},
   "outputs": [
    {
     "name": "stdout",
     "output_type": "stream",
     "text": [
      "Epoch 1/10000\n",
      "113/113 [==============================] - 10s 15ms/step - loss: 0.6822 - val_loss: 0.6060\n",
      "Epoch 2/10000\n",
      "113/113 [==============================] - 1s 11ms/step - loss: 0.6722 - val_loss: 0.5605\n",
      "Epoch 3/10000\n",
      "113/113 [==============================] - 1s 11ms/step - loss: 0.6667 - val_loss: 0.5292\n",
      "Epoch 4/10000\n",
      "113/113 [==============================] - 1s 11ms/step - loss: 0.6642 - val_loss: 0.5129\n",
      "Epoch 5/10000\n",
      "113/113 [==============================] - 1s 11ms/step - loss: 0.6630 - val_loss: 0.5053\n",
      "Epoch 6/10000\n",
      "113/113 [==============================] - 1s 10ms/step - loss: 0.6622 - val_loss: 0.5024\n",
      "Epoch 7/10000\n",
      "113/113 [==============================] - 1s 11ms/step - loss: 0.6617 - val_loss: 0.5033\n",
      "Epoch 8/10000\n",
      "113/113 [==============================] - 1s 11ms/step - loss: 0.6612 - val_loss: 0.5058\n",
      "Epoch 9/10000\n",
      "113/113 [==============================] - 1s 10ms/step - loss: 0.6607 - val_loss: 0.5065\n",
      "Epoch 10/10000\n",
      "113/113 [==============================] - 1s 10ms/step - loss: 0.6603 - val_loss: 0.5084\n",
      "Epoch 11/10000\n",
      "113/113 [==============================] - 1s 10ms/step - loss: 0.6599 - val_loss: 0.5106\n",
      "Epoch 12/10000\n",
      "113/113 [==============================] - 1s 11ms/step - loss: 0.6596 - val_loss: 0.5144\n",
      "Epoch 13/10000\n",
      "113/113 [==============================] - 1s 10ms/step - loss: 0.6593 - val_loss: 0.5178\n",
      "Epoch 14/10000\n",
      "113/113 [==============================] - 1s 10ms/step - loss: 0.6590 - val_loss: 0.5196\n",
      "Epoch 15/10000\n",
      "113/113 [==============================] - 1s 10ms/step - loss: 0.6588 - val_loss: 0.5224\n",
      "Epoch 16/10000\n",
      "113/113 [==============================] - 1s 10ms/step - loss: 0.6585 - val_loss: 0.5277\n",
      "Epoch 17/10000\n",
      "113/113 [==============================] - 1s 10ms/step - loss: 0.6583 - val_loss: 0.5299\n",
      "Epoch 18/10000\n",
      "113/113 [==============================] - 1s 10ms/step - loss: 0.6581 - val_loss: 0.5322\n",
      "Epoch 19/10000\n",
      "113/113 [==============================] - 1s 10ms/step - loss: 0.6579 - val_loss: 0.5338\n",
      "Epoch 20/10000\n",
      "113/113 [==============================] - 1s 10ms/step - loss: 0.6577 - val_loss: 0.5326\n",
      "Epoch 21/10000\n",
      "113/113 [==============================] - 1s 10ms/step - loss: 0.6576 - val_loss: 0.5374\n",
      "Epoch 22/10000\n",
      "113/113 [==============================] - 1s 10ms/step - loss: 0.6574 - val_loss: 0.5403\n",
      "Epoch 23/10000\n",
      "113/113 [==============================] - 1s 10ms/step - loss: 0.6573 - val_loss: 0.5410\n",
      "Epoch 24/10000\n",
      "113/113 [==============================] - 1s 10ms/step - loss: 0.6571 - val_loss: 0.5429\n",
      "Epoch 25/10000\n",
      "113/113 [==============================] - 1s 10ms/step - loss: 0.6570 - val_loss: 0.5442\n",
      "Epoch 26/10000\n",
      "113/113 [==============================] - 1s 11ms/step - loss: 0.6569 - val_loss: 0.5469\n"
     ]
    },
    {
     "data": {
      "image/png": "[encoded data removed]",
      "text/plain": [
       "<Figure size 432x288 with 1 Axes>"
      ]
     },
     "metadata": {
      "needs_background": "light"
     },
     "output_type": "display_data"
    }
   ],
   "source": [
    "oPredictiveModel = Long_Short_Term_Memory(\n",
    "    sSubModelName, \n",
    "    dfScaledInputTrain.shape[1], \n",
    "    1,\n",
    "    len(g_aBackwardTimeSteps), \n",
    "    1\n",
    "    )\n",
    "\n",
    "oPredictiveModel.Train(dfBalancedInputTrain, \n",
    "                       dfBalancedOutputTrain,\n",
    "                       dfScaledInputValidation,\n",
    "                       dfOutputValidation\n",
    "                      )"
   ]
  },
  {
   "cell_type": "markdown",
   "id": "3389a00a",
   "metadata": {},
   "source": [
    "## Test"
   ]
  },
  {
   "cell_type": "code",
   "execution_count": 34,
   "id": "1105a7ac",
   "metadata": {},
   "outputs": [],
   "source": [
    "aPredictionProb, _ = oPredictiveModel.aPredict(dfScaledInputTest)\n",
    "\n",
    "aPrediction = aPredictionProb.round()\n",
    "\n",
    "dfPrediction = pd.DataFrame(aPrediction, index = dfInputTest.index)\n",
    "dfPrediction.columns = aColumns"
   ]
  },
  {
   "cell_type": "code",
   "execution_count": 35,
   "id": "d895dc3b",
   "metadata": {},
   "outputs": [
    {
     "data": {
      "text/plain": [
       "(1, 3)\n",
       "1.0       8146\n",
       "0.0       2799\n",
       "dtype: int64"
      ]
     },
     "execution_count": 35,
     "metadata": {},
     "output_type": "execute_result"
    }
   ],
   "source": [
    "dfPrediction.value_counts()"
   ]
  },
  {
   "cell_type": "code",
   "execution_count": 36,
   "id": "09d189d7",
   "metadata": {
    "scrolled": true
   },
   "outputs": [
    {
     "name": "stdout",
     "output_type": "stream",
     "text": [
      "              precision    recall  f1-score   support\n",
      "\n",
      "         0.0       0.12      0.32      0.17      1047\n",
      "         1.0       0.91      0.75      0.82      9898\n",
      "\n",
      "    accuracy                           0.71     10945\n",
      "   macro avg       0.52      0.53      0.50     10945\n",
      "weighted avg       0.84      0.71      0.76     10945\n",
      "\n"
     ]
    }
   ],
   "source": [
    "print(classification_report(dfOutputTest, dfPrediction))"
   ]
  },
  {
   "cell_type": "markdown",
   "id": "a1edcb31",
   "metadata": {},
   "source": [
    "# DIRECTIONAL MODEL"
   ]
  },
  {
   "cell_type": "code",
   "execution_count": 37,
   "id": "e6fabc7e",
   "metadata": {},
   "outputs": [],
   "source": [
    "sModelName = os.path.join(sSymbol , \"__directional model__\")"
   ]
  },
  {
   "cell_type": "code",
   "execution_count": 38,
   "id": "294a054e",
   "metadata": {},
   "outputs": [],
   "source": [
    "sSubModelName = os.path.join(sModelName , \"__\"+ str(i) +\"  \" + str(j) + \"__\")"
   ]
  },
  {
   "cell_type": "markdown",
   "id": "d2850b94",
   "metadata": {},
   "source": [
    "## Preprocessing"
   ]
  },
  {
   "cell_type": "code",
   "execution_count": 39,
   "id": "38436612",
   "metadata": {},
   "outputs": [],
   "source": [
    "dfInputDirectional = dfInput.copy()\n",
    "dfOutputDirectional = dfOutput.copy()"
   ]
  },
  {
   "cell_type": "code",
   "execution_count": 40,
   "id": "1f4d1205",
   "metadata": {},
   "outputs": [],
   "source": [
    "dfMaskUpward = dfClose>dfOpen\n",
    "dfMaskDownward = dfClose<dfOpen \n",
    "\n",
    "dfOutputDirectional.loc[(dfMaskInvestable) & (dfMaskDownward)] = 0\n",
    "dfOutputDirectional.loc[(dfMaskInvestable) & (dfMaskUpward)] = 1"
   ]
  },
  {
   "cell_type": "code",
   "execution_count": 41,
   "id": "7446b2b1",
   "metadata": {},
   "outputs": [
    {
     "data": {
      "text/html": [
       "<div>\n",
       "<style scoped>\n",
       "    .dataframe tbody tr th:only-of-type {\n",
       "        vertical-align: middle;\n",
       "    }\n",
       "\n",
       "    .dataframe tbody tr th {\n",
       "        vertical-align: top;\n",
       "    }\n",
       "\n",
       "    .dataframe thead tr th {\n",
       "        text-align: left;\n",
       "    }\n",
       "\n",
       "    .dataframe thead tr:last-of-type th {\n",
       "        text-align: right;\n",
       "    }\n",
       "</style>\n",
       "<table border=\"1\" class=\"dataframe\">\n",
       "  <thead>\n",
       "    <tr>\n",
       "      <th>From</th>\n",
       "      <th>1</th>\n",
       "    </tr>\n",
       "    <tr>\n",
       "      <th>To</th>\n",
       "      <th>3</th>\n",
       "    </tr>\n",
       "    <tr>\n",
       "      <th>time</th>\n",
       "      <th></th>\n",
       "    </tr>\n",
       "  </thead>\n",
       "  <tbody>\n",
       "    <tr>\n",
       "      <th>2013-01-04 08:00:00</th>\n",
       "      <td>1</td>\n",
       "    </tr>\n",
       "    <tr>\n",
       "      <th>2013-01-04 09:00:00</th>\n",
       "      <td>1</td>\n",
       "    </tr>\n",
       "    <tr>\n",
       "      <th>2013-01-04 10:00:00</th>\n",
       "      <td>1</td>\n",
       "    </tr>\n",
       "    <tr>\n",
       "      <th>2013-01-04 11:00:00</th>\n",
       "      <td>1</td>\n",
       "    </tr>\n",
       "    <tr>\n",
       "      <th>2013-01-04 12:00:00</th>\n",
       "      <td>0</td>\n",
       "    </tr>\n",
       "    <tr>\n",
       "      <th>...</th>\n",
       "      <td>...</td>\n",
       "    </tr>\n",
       "    <tr>\n",
       "      <th>2021-10-27 20:00:00</th>\n",
       "      <td>1</td>\n",
       "    </tr>\n",
       "    <tr>\n",
       "      <th>2021-10-27 21:00:00</th>\n",
       "      <td>1</td>\n",
       "    </tr>\n",
       "    <tr>\n",
       "      <th>2021-10-27 22:00:00</th>\n",
       "      <td>NaN</td>\n",
       "    </tr>\n",
       "    <tr>\n",
       "      <th>2021-10-27 23:00:00</th>\n",
       "      <td>NaN</td>\n",
       "    </tr>\n",
       "    <tr>\n",
       "      <th>2021-10-28 00:00:00</th>\n",
       "      <td>NaN</td>\n",
       "    </tr>\n",
       "  </tbody>\n",
       "</table>\n",
       "<p>54724 rows × 1 columns</p>\n",
       "</div>"
      ],
      "text/plain": [
       "From                   1\n",
       "To                     3\n",
       "time                    \n",
       "2013-01-04 08:00:00    1\n",
       "2013-01-04 09:00:00    1\n",
       "2013-01-04 10:00:00    1\n",
       "2013-01-04 11:00:00    1\n",
       "2013-01-04 12:00:00    0\n",
       "...                  ...\n",
       "2021-10-27 20:00:00    1\n",
       "2021-10-27 21:00:00    1\n",
       "2021-10-27 22:00:00  NaN\n",
       "2021-10-27 23:00:00  NaN\n",
       "2021-10-28 00:00:00  NaN\n",
       "\n",
       "[54724 rows x 1 columns]"
      ]
     },
     "execution_count": 41,
     "metadata": {},
     "output_type": "execute_result"
    }
   ],
   "source": [
    "dfOutputDirectional"
   ]
  },
  {
   "cell_type": "markdown",
   "id": "78e02677",
   "metadata": {},
   "source": [
    "### Remove Empty Rows"
   ]
  },
  {
   "cell_type": "code",
   "execution_count": 42,
   "id": "016840c6",
   "metadata": {},
   "outputs": [],
   "source": [
    "aMissingOutputs = dfOutputDirectional[dfOutputDirectional.isna().any(axis=1)].index\n",
    "dfInputDirectional.drop(aMissingOutputs, inplace = True)\n",
    "dfOutputDirectional.drop(aMissingOutputs, inplace = True)"
   ]
  },
  {
   "cell_type": "markdown",
   "id": "6e9cd8c1",
   "metadata": {},
   "source": [
    "### Split Data"
   ]
  },
  {
   "cell_type": "code",
   "execution_count": 43,
   "id": "e7857648",
   "metadata": {},
   "outputs": [],
   "source": [
    "dfInputTrain, dfInputValidation, dfInputTest, dfOutputTrain, dfOutputValidation, dfOutputTest = dfSplitData(dfInputDirectional, \n",
    "                                                                                                            dfOutputDirectional)"
   ]
  },
  {
   "cell_type": "markdown",
   "id": "d867c265",
   "metadata": {},
   "source": [
    "### Scale Data"
   ]
  },
  {
   "cell_type": "code",
   "execution_count": 44,
   "id": "38a247ce",
   "metadata": {},
   "outputs": [],
   "source": [
    "dfScaledInputTrain, dfScaledInputValidation, dfScaledInputTest = dfScaleData(\"input\", dfInputTrain,dfInputValidation, dfInputTest)"
   ]
  },
  {
   "cell_type": "markdown",
   "id": "92d9f864",
   "metadata": {},
   "source": [
    "### Balance Classes"
   ]
  },
  {
   "cell_type": "code",
   "execution_count": 45,
   "id": "4f0a0894",
   "metadata": {},
   "outputs": [
    {
     "data": {
      "text/plain": [
       "(1, 3)\n",
       "1.0       14742\n",
       "0.0       14229\n",
       "dtype: int64"
      ]
     },
     "execution_count": 45,
     "metadata": {},
     "output_type": "execute_result"
    }
   ],
   "source": [
    "dfOutputTrain.value_counts()"
   ]
  },
  {
   "cell_type": "code",
   "execution_count": 46,
   "id": "54d54711",
   "metadata": {},
   "outputs": [],
   "source": [
    "dfBalancedInputTrain , dfBalancedOutputTrain = dfOversampleImbalancedData(\n",
    "    dfScaledInputTrain,\n",
    "    dfOutputTrain)\n",
    "dfBalancedOutputTrain.columns = aColumns"
   ]
  },
  {
   "cell_type": "code",
   "execution_count": 47,
   "id": "1d7d92a1",
   "metadata": {},
   "outputs": [
    {
     "data": {
      "text/plain": [
       "(1, 3)\n",
       "0.0       14742\n",
       "1.0       14742\n",
       "dtype: int64"
      ]
     },
     "execution_count": 47,
     "metadata": {},
     "output_type": "execute_result"
    }
   ],
   "source": [
    "dfBalancedOutputTrain.value_counts()"
   ]
  },
  {
   "cell_type": "code",
   "execution_count": 48,
   "id": "7cb2e5e8",
   "metadata": {},
   "outputs": [
    {
     "data": {
      "text/plain": [
       "(1, 3)\n",
       "1.0       4908\n",
       "0.0       4750\n",
       "dtype: int64"
      ]
     },
     "execution_count": 48,
     "metadata": {},
     "output_type": "execute_result"
    }
   ],
   "source": [
    "dfOutputValidation.value_counts()"
   ]
  },
  {
   "cell_type": "code",
   "execution_count": 49,
   "id": "7f6e7f59",
   "metadata": {},
   "outputs": [
    {
     "data": {
      "text/plain": [
       "(1, 3)\n",
       "0.0       4946\n",
       "1.0       4712\n",
       "dtype: int64"
      ]
     },
     "execution_count": 49,
     "metadata": {},
     "output_type": "execute_result"
    }
   ],
   "source": [
    "dfOutputTest.value_counts()"
   ]
  },
  {
   "cell_type": "markdown",
   "id": "cd272c43",
   "metadata": {},
   "source": [
    "## Train"
   ]
  },
  {
   "cell_type": "code",
   "execution_count": 50,
   "id": "aadc49b0",
   "metadata": {},
   "outputs": [
    {
     "name": "stdout",
     "output_type": "stream",
     "text": [
      "Epoch 1/10000\n",
      "58/58 [==============================] - 3s 23ms/step - loss: 0.6934 - val_loss: 0.6940\n",
      "Epoch 2/10000\n",
      "58/58 [==============================] - 1s 11ms/step - loss: 0.6932 - val_loss: 0.6940\n",
      "Epoch 3/10000\n",
      "58/58 [==============================] - 1s 11ms/step - loss: 0.6931 - val_loss: 0.6940\n",
      "Epoch 4/10000\n",
      "58/58 [==============================] - 1s 11ms/step - loss: 0.6929 - val_loss: 0.6940\n",
      "Epoch 5/10000\n",
      "58/58 [==============================] - 1s 11ms/step - loss: 0.6928 - val_loss: 0.6940\n",
      "Epoch 6/10000\n",
      "58/58 [==============================] - 1s 11ms/step - loss: 0.6927 - val_loss: 0.6940\n",
      "Epoch 7/10000\n",
      "58/58 [==============================] - 1s 13ms/step - loss: 0.6926 - val_loss: 0.6940\n",
      "Epoch 8/10000\n",
      "58/58 [==============================] - 1s 16ms/step - loss: 0.6926 - val_loss: 0.6940\n",
      "Epoch 9/10000\n",
      "58/58 [==============================] - 1s 15ms/step - loss: 0.6925 - val_loss: 0.6940\n",
      "Epoch 10/10000\n",
      "58/58 [==============================] - 1s 15ms/step - loss: 0.6924 - val_loss: 0.6940\n",
      "Epoch 11/10000\n",
      "58/58 [==============================] - 1s 15ms/step - loss: 0.6924 - val_loss: 0.6940\n",
      "Epoch 12/10000\n",
      "58/58 [==============================] - 1s 15ms/step - loss: 0.6923 - val_loss: 0.6940\n",
      "Epoch 13/10000\n",
      "58/58 [==============================] - 1s 15ms/step - loss: 0.6923 - val_loss: 0.6940\n",
      "Epoch 14/10000\n",
      "58/58 [==============================] - 1s 15ms/step - loss: 0.6922 - val_loss: 0.6940\n",
      "Epoch 15/10000\n",
      "58/58 [==============================] - 1s 15ms/step - loss: 0.6922 - val_loss: 0.6940\n",
      "Epoch 16/10000\n",
      "58/58 [==============================] - 1s 15ms/step - loss: 0.6922 - val_loss: 0.6940\n",
      "Epoch 17/10000\n",
      "58/58 [==============================] - 1s 15ms/step - loss: 0.6921 - val_loss: 0.6941\n",
      "Epoch 18/10000\n",
      "58/58 [==============================] - 1s 15ms/step - loss: 0.6921 - val_loss: 0.6941\n",
      "Epoch 19/10000\n",
      "58/58 [==============================] - 1s 15ms/step - loss: 0.6921 - val_loss: 0.6942\n",
      "Epoch 20/10000\n",
      "58/58 [==============================] - 1s 15ms/step - loss: 0.6921 - val_loss: 0.6942\n",
      "Epoch 21/10000\n",
      "58/58 [==============================] - 1s 15ms/step - loss: 0.6920 - val_loss: 0.6942\n",
      "Epoch 22/10000\n",
      "58/58 [==============================] - 1s 15ms/step - loss: 0.6920 - val_loss: 0.6942\n",
      "Epoch 23/10000\n",
      "58/58 [==============================] - 1s 15ms/step - loss: 0.6920 - val_loss: 0.6942\n",
      "Epoch 24/10000\n",
      "58/58 [==============================] - 1s 15ms/step - loss: 0.6920 - val_loss: 0.6941\n",
      "Epoch 25/10000\n",
      "58/58 [==============================] - 1s 15ms/step - loss: 0.6919 - val_loss: 0.6942\n",
      "Epoch 26/10000\n",
      "58/58 [==============================] - 1s 15ms/step - loss: 0.6919 - val_loss: 0.6942\n",
      "Epoch 27/10000\n",
      "58/58 [==============================] - 1s 15ms/step - loss: 0.6919 - val_loss: 0.6942\n"
     ]
    },
    {
     "data": {
      "image/png": "[encoded data removed]",
      "text/plain": [
       "<Figure size 432x288 with 1 Axes>"
      ]
     },
     "metadata": {
      "needs_background": "light"
     },
     "output_type": "display_data"
    }
   ],
   "source": [
    "oPredictiveModel = Long_Short_Term_Memory(\n",
    "    sSubModelName, \n",
    "    dfScaledInputTrain.shape[1], \n",
    "    1,\n",
    "    len(g_aBackwardTimeSteps), \n",
    "    1\n",
    "    )\n",
    "\n",
    "oPredictiveModel.Train(dfBalancedInputTrain, \n",
    "                       dfBalancedOutputTrain,\n",
    "                       dfScaledInputValidation,\n",
    "                       dfOutputValidation\n",
    "                      )"
   ]
  },
  {
   "cell_type": "markdown",
   "id": "988c117a",
   "metadata": {},
   "source": [
    "## Test"
   ]
  },
  {
   "cell_type": "code",
   "execution_count": 51,
   "id": "862e6cd8",
   "metadata": {},
   "outputs": [],
   "source": [
    "aPredictionProb, _ = oPredictiveModel.aPredict(dfScaledInputTest)\n",
    "\n",
    "aPrediction = aPredictionProb.round()\n",
    "\n",
    "dfPrediction = pd.DataFrame(aPrediction, index = dfInputTest.index)\n",
    "dfPrediction.columns = aColumns"
   ]
  },
  {
   "cell_type": "code",
   "execution_count": 52,
   "id": "26914599",
   "metadata": {},
   "outputs": [
    {
     "data": {
      "text/plain": [
       "(1, 3)\n",
       "0.0       7403\n",
       "1.0       2255\n",
       "dtype: int64"
      ]
     },
     "execution_count": 52,
     "metadata": {},
     "output_type": "execute_result"
    }
   ],
   "source": [
    "dfPrediction.value_counts()"
   ]
  },
  {
   "cell_type": "code",
   "execution_count": 53,
   "id": "7936f2a9",
   "metadata": {},
   "outputs": [
    {
     "name": "stdout",
     "output_type": "stream",
     "text": [
      "              precision    recall  f1-score   support\n",
      "\n",
      "         0.0       0.52      0.77      0.62      4946\n",
      "         1.0       0.50      0.24      0.32      4712\n",
      "\n",
      "    accuracy                           0.51      9658\n",
      "   macro avg       0.51      0.50      0.47      9658\n",
      "weighted avg       0.51      0.51      0.47      9658\n",
      "\n"
     ]
    }
   ],
   "source": [
    "print(classification_report(dfOutputTest, dfPrediction))"
   ]
  },
  {
   "cell_type": "markdown",
   "id": "cc84d4e1",
   "metadata": {},
   "source": [
    "# UPWARD REGRESSION MODEL"
   ]
  },
  {
   "cell_type": "code",
   "execution_count": 54,
   "id": "404f4f70",
   "metadata": {},
   "outputs": [],
   "source": [
    "sModelName = os.path.join(sSymbol , \"__upward regression model__\")"
   ]
  },
  {
   "cell_type": "code",
   "execution_count": 55,
   "id": "ae829f82",
   "metadata": {},
   "outputs": [],
   "source": [
    "sSubModelName = os.path.join(sModelName , \"__\"+ str(i) +\"  \" + str(j) + \"__\")"
   ]
  },
  {
   "cell_type": "markdown",
   "id": "5c6be5a7",
   "metadata": {},
   "source": [
    "## Preprocessing"
   ]
  },
  {
   "cell_type": "code",
   "execution_count": 56,
   "id": "fee2856c",
   "metadata": {},
   "outputs": [],
   "source": [
    "dfInputUpward = dfInput.copy()\n",
    "dfOutputUpward = dfOutput.copy()"
   ]
  },
  {
   "cell_type": "code",
   "execution_count": 57,
   "id": "74cdef0a",
   "metadata": {
    "scrolled": true
   },
   "outputs": [],
   "source": [
    "dfOutputUpward.loc[dfMaskInvestable & dfMaskUpward, i] = dfReturn.loc[dfOutputUpward.index].loc[dfMaskInvestable & dfMaskUpward].values"
   ]
  },
  {
   "cell_type": "markdown",
   "id": "c5d44f80",
   "metadata": {},
   "source": [
    "### Remove Empty Rows"
   ]
  },
  {
   "cell_type": "code",
   "execution_count": 58,
   "id": "abb7f719",
   "metadata": {},
   "outputs": [],
   "source": [
    "aMissingOutputs = dfOutputUpward[dfOutputUpward.isna().any(axis=1)].index\n",
    "dfInputUpward.drop(aMissingOutputs, inplace = True)\n",
    "dfOutputUpward.drop(aMissingOutputs, inplace = True)"
   ]
  },
  {
   "cell_type": "code",
   "execution_count": 59,
   "id": "ef851bc7",
   "metadata": {},
   "outputs": [],
   "source": [
    "dfOutputUpward = dfOutputUpward.astype(\"float64\")"
   ]
  },
  {
   "cell_type": "markdown",
   "id": "da8056d6",
   "metadata": {},
   "source": [
    "### Convert to Categorical Data"
   ]
  },
  {
   "cell_type": "code",
   "execution_count": 60,
   "id": "04930208",
   "metadata": {},
   "outputs": [],
   "source": [
    "iNumberOfBins = 2"
   ]
  },
  {
   "cell_type": "code",
   "execution_count": 61,
   "id": "a04772a9",
   "metadata": {},
   "outputs": [],
   "source": [
    "dfBinEdges = dfOutputUpward.quantile(np.linspace(0, 1, num=iNumberOfBins + 1))"
   ]
  },
  {
   "cell_type": "code",
   "execution_count": 62,
   "id": "09a76252",
   "metadata": {},
   "outputs": [],
   "source": [
    "dfLabelEncodedOutputForward = pd.DataFrame(\n",
    "    data = pd.cut(dfOutputUpward.iloc[:,0], dfBinEdges.iloc[:,0], labels = False, include_lowest = True),\n",
    "    columns  = aColumns\n",
    ")"
   ]
  },
  {
   "cell_type": "markdown",
   "id": "5c37bee4",
   "metadata": {},
   "source": [
    "### Split Data"
   ]
  },
  {
   "cell_type": "code",
   "execution_count": 63,
   "id": "f95b1eff",
   "metadata": {},
   "outputs": [],
   "source": [
    "dfInputTrain, dfInputValidation, dfInputTest, dfOutputTrain, dfOutputValidation, dfOutputTest = dfSplitData(dfInputUpward, \n",
    "                                                                                                            dfOutputUpward)"
   ]
  },
  {
   "cell_type": "markdown",
   "id": "92b62fcf",
   "metadata": {},
   "source": [
    "### Scale Data"
   ]
  },
  {
   "cell_type": "code",
   "execution_count": 64,
   "id": "275904ad",
   "metadata": {},
   "outputs": [],
   "source": [
    "dfScaledInputTrain, dfScaledInputValidation, dfScaledInputTest = dfScaleData(\"input\", dfInputTrain,dfInputValidation, dfInputTest)"
   ]
  },
  {
   "cell_type": "markdown",
   "id": "18e408e3",
   "metadata": {},
   "source": [
    "### Convert to One Hot"
   ]
  },
  {
   "cell_type": "code",
   "execution_count": 65,
   "id": "9f15d495",
   "metadata": {},
   "outputs": [],
   "source": [
    "dfOneHotOutputUpward = pd.get_dummies(dfLabelEncodedOutputForward.iloc[:,0])"
   ]
  },
  {
   "cell_type": "code",
   "execution_count": 66,
   "id": "b235aa9c",
   "metadata": {},
   "outputs": [],
   "source": [
    "dfOneHotOutputTrain = dfOneHotOutputUpward.loc[dfOutputTrain.index]\n",
    "dfOneHotOutputValidation = dfOneHotOutputUpward.loc[dfOutputValidation.index]\n",
    "dfOneHotOutputTest = dfOneHotOutputUpward.loc[dfOutputTest.index]"
   ]
  },
  {
   "cell_type": "markdown",
   "id": "05556bb1",
   "metadata": {},
   "source": [
    "## Train"
   ]
  },
  {
   "cell_type": "markdown",
   "id": "efc976e7",
   "metadata": {},
   "source": [
    "### Set Hyperparameter"
   ]
  },
  {
   "cell_type": "code",
   "execution_count": 85,
   "id": "04aaf835",
   "metadata": {},
   "outputs": [],
   "source": [
    "iNumberOfHiddenNeuron = 100\n",
    "iBatchSize = 128\n",
    "oOptimizer = tf.keras.optimizers.Adam(learning_rate= 1e-06 beta_1=0.9)\n",
    "oLossFunction = tf.keras.losses.BinaryCrossentropy()\n",
    "oEarlyStop = EarlyStopping(\n",
    "    monitor = 'val_loss', \n",
    "    mode = 'min', \n",
    "    verbose = 0 , \n",
    "    patience = 50, \n",
    "    restore_best_weights = True)\n",
    "iEpochSize = 10000"
   ]
  },
  {
   "cell_type": "markdown",
   "id": "c7305ead",
   "metadata": {},
   "source": [
    "### Fit Model"
   ]
  },
  {
   "cell_type": "code",
   "execution_count": 86,
   "id": "2d9247b1",
   "metadata": {},
   "outputs": [],
   "source": [
    "oPredictiveModel = Sequential()\n",
    "oPredictiveModel.add(Dense((iNumberOfHiddenNeuron)))\n",
    "oPredictiveModel.add(Dense((iNumberOfHiddenNeuron)))\n",
    "oPredictiveModel.add(Dense((dfOneHotOutputTrain.shape[1]),activation = \"sigmoid\") )\n",
    "\n",
    "oPredictiveModel.compile(optimizer=oOptimizer, loss=oLossFunction)"
   ]
  },
  {
   "cell_type": "code",
   "execution_count": 87,
   "id": "053a2330",
   "metadata": {},
   "outputs": [
    {
     "name": "stdout",
     "output_type": "stream",
     "text": [
      "Epoch 1/10000\n",
      "115/115 [==============================] - 1s 5ms/step - loss: 0.6940 - val_loss: 0.7425\n",
      "Epoch 2/10000\n",
      "115/115 [==============================] - 0s 4ms/step - loss: 0.6818 - val_loss: 0.7546\n",
      "Epoch 3/10000\n",
      "115/115 [==============================] - 0s 3ms/step - loss: 0.6800 - val_loss: 0.7461\n",
      "Epoch 4/10000\n",
      "115/115 [==============================] - 0s 3ms/step - loss: 0.6791 - val_loss: 0.7403\n",
      "Epoch 5/10000\n",
      "115/115 [==============================] - 0s 3ms/step - loss: 0.6787 - val_loss: 0.7697\n",
      "Epoch 6/10000\n",
      "115/115 [==============================] - 0s 3ms/step - loss: 0.6787 - val_loss: 0.7605\n",
      "Epoch 7/10000\n",
      "115/115 [==============================] - 0s 3ms/step - loss: 0.6787 - val_loss: 0.7836\n",
      "Epoch 8/10000\n",
      "115/115 [==============================] - 0s 3ms/step - loss: 0.6783 - val_loss: 0.7700\n",
      "Epoch 9/10000\n",
      "115/115 [==============================] - 0s 3ms/step - loss: 0.6783 - val_loss: 0.7854\n",
      "Epoch 10/10000\n",
      "115/115 [==============================] - 0s 4ms/step - loss: 0.6782 - val_loss: 0.8088\n",
      "Epoch 11/10000\n",
      "115/115 [==============================] - 0s 4ms/step - loss: 0.6785 - val_loss: 0.7828\n",
      "Epoch 12/10000\n",
      "115/115 [==============================] - 0s 3ms/step - loss: 0.6783 - val_loss: 0.7827\n",
      "Epoch 13/10000\n",
      "115/115 [==============================] - 0s 3ms/step - loss: 0.6781 - val_loss: 0.7949\n",
      "Epoch 14/10000\n",
      "115/115 [==============================] - 0s 4ms/step - loss: 0.6783 - val_loss: 0.8008\n",
      "Epoch 15/10000\n",
      "115/115 [==============================] - 0s 4ms/step - loss: 0.6784 - val_loss: 0.7544\n",
      "Epoch 16/10000\n",
      "115/115 [==============================] - 0s 3ms/step - loss: 0.6781 - val_loss: 0.7807\n",
      "Epoch 17/10000\n",
      "115/115 [==============================] - 0s 4ms/step - loss: 0.6784 - val_loss: 0.7931\n",
      "Epoch 18/10000\n",
      "115/115 [==============================] - 0s 3ms/step - loss: 0.6783 - val_loss: 0.8097\n",
      "Epoch 19/10000\n",
      "115/115 [==============================] - 0s 3ms/step - loss: 0.6786 - val_loss: 0.7892\n",
      "Epoch 20/10000\n",
      "115/115 [==============================] - 0s 3ms/step - loss: 0.6782 - val_loss: 0.7892\n",
      "Epoch 21/10000\n",
      "115/115 [==============================] - 0s 4ms/step - loss: 0.6782 - val_loss: 0.8056\n",
      "Epoch 22/10000\n",
      "115/115 [==============================] - 0s 4ms/step - loss: 0.6783 - val_loss: 0.7556\n",
      "Epoch 23/10000\n",
      "115/115 [==============================] - 0s 3ms/step - loss: 0.6782 - val_loss: 0.7777\n",
      "Epoch 24/10000\n",
      "115/115 [==============================] - 0s 3ms/step - loss: 0.6783 - val_loss: 0.7754\n",
      "Epoch 25/10000\n",
      "115/115 [==============================] - 0s 3ms/step - loss: 0.6782 - val_loss: 0.7832\n",
      "Epoch 26/10000\n",
      "115/115 [==============================] - 0s 3ms/step - loss: 0.6780 - val_loss: 0.7423\n",
      "Epoch 27/10000\n",
      "115/115 [==============================] - 0s 3ms/step - loss: 0.6782 - val_loss: 0.7767\n",
      "Epoch 28/10000\n",
      "115/115 [==============================] - 0s 3ms/step - loss: 0.6785 - val_loss: 0.7547\n",
      "Epoch 29/10000\n",
      "115/115 [==============================] - 0s 3ms/step - loss: 0.6782 - val_loss: 0.7956\n",
      "Epoch 30/10000\n",
      "115/115 [==============================] - 0s 3ms/step - loss: 0.6784 - val_loss: 0.7815\n",
      "Epoch 31/10000\n",
      "115/115 [==============================] - 0s 3ms/step - loss: 0.6784 - val_loss: 0.7736\n",
      "Epoch 32/10000\n",
      "115/115 [==============================] - 0s 3ms/step - loss: 0.6785 - val_loss: 0.7801\n",
      "Epoch 33/10000\n",
      "115/115 [==============================] - 0s 3ms/step - loss: 0.6780 - val_loss: 0.8069\n",
      "Epoch 34/10000\n",
      "115/115 [==============================] - 0s 3ms/step - loss: 0.6783 - val_loss: 0.7922\n",
      "Epoch 35/10000\n",
      "115/115 [==============================] - 0s 3ms/step - loss: 0.6784 - val_loss: 0.7654\n",
      "Epoch 36/10000\n",
      "115/115 [==============================] - 0s 3ms/step - loss: 0.6782 - val_loss: 0.7755\n",
      "Epoch 37/10000\n",
      "115/115 [==============================] - 0s 3ms/step - loss: 0.6782 - val_loss: 0.7817\n",
      "Epoch 38/10000\n",
      "115/115 [==============================] - 0s 3ms/step - loss: 0.6782 - val_loss: 0.7707\n",
      "Epoch 39/10000\n",
      "115/115 [==============================] - 0s 4ms/step - loss: 0.6784 - val_loss: 0.7678\n",
      "Epoch 40/10000\n",
      "115/115 [==============================] - 0s 4ms/step - loss: 0.6783 - val_loss: 0.7958\n",
      "Epoch 41/10000\n",
      "115/115 [==============================] - 0s 4ms/step - loss: 0.6780 - val_loss: 0.7856\n",
      "Epoch 42/10000\n",
      "115/115 [==============================] - 0s 3ms/step - loss: 0.6783 - val_loss: 0.7723\n",
      "Epoch 43/10000\n",
      "115/115 [==============================] - 0s 4ms/step - loss: 0.6779 - val_loss: 0.7616\n",
      "Epoch 44/10000\n",
      "115/115 [==============================] - 0s 4ms/step - loss: 0.6786 - val_loss: 0.7882\n",
      "Epoch 45/10000\n",
      "115/115 [==============================] - 0s 3ms/step - loss: 0.6781 - val_loss: 0.7783\n",
      "Epoch 46/10000\n",
      "115/115 [==============================] - 0s 3ms/step - loss: 0.6783 - val_loss: 0.7654\n",
      "Epoch 47/10000\n",
      "115/115 [==============================] - 0s 3ms/step - loss: 0.6784 - val_loss: 0.7750\n",
      "Epoch 48/10000\n",
      "115/115 [==============================] - 0s 4ms/step - loss: 0.6783 - val_loss: 0.7905\n",
      "Epoch 49/10000\n",
      "115/115 [==============================] - 0s 3ms/step - loss: 0.6781 - val_loss: 0.7720\n",
      "Epoch 50/10000\n",
      "115/115 [==============================] - 0s 3ms/step - loss: 0.6783 - val_loss: 0.7775\n",
      "Epoch 51/10000\n",
      "115/115 [==============================] - 0s 3ms/step - loss: 0.6783 - val_loss: 0.7689\n",
      "Epoch 52/10000\n",
      "115/115 [==============================] - 0s 3ms/step - loss: 0.6781 - val_loss: 0.7796\n",
      "Epoch 53/10000\n",
      "115/115 [==============================] - 0s 4ms/step - loss: 0.6781 - val_loss: 0.7517\n",
      "Epoch 54/10000\n",
      "115/115 [==============================] - 0s 4ms/step - loss: 0.6783 - val_loss: 0.7848\n"
     ]
    },
    {
     "data": {
      "text/plain": [
       "<matplotlib.axes._subplots.AxesSubplot at 0x1d27f1c73c8>"
      ]
     },
     "execution_count": 87,
     "metadata": {},
     "output_type": "execute_result"
    },
    {
     "data": {
      "image/png": "[encoded data removed]",
      "text/plain": [
       "<Figure size 432x288 with 1 Axes>"
      ]
     },
     "metadata": {
      "needs_background": "light"
     },
     "output_type": "display_data"
    }
   ],
   "source": [
    "oPredictiveModel.fit(\n",
    "    dfScaledInputTrain, \n",
    "    dfOneHotOutputTrain, \n",
    "    epochs=iEpochSize, \n",
    "    batch_size=iBatchSize, \n",
    "    verbose=1, \n",
    "    validation_data= (dfScaledInputValidation, dfOneHotOutputValidation), \n",
    "    callbacks=[oEarlyStop] )\n",
    "\n",
    "oPredictiveModel.save_weights(sSubModelName)\n",
    "\n",
    "pd.DataFrame(oPredictiveModel.history.history).plot()"
   ]
  },
  {
   "cell_type": "markdown",
   "id": "70079690",
   "metadata": {},
   "source": [
    "## Test"
   ]
  },
  {
   "cell_type": "code",
   "execution_count": 88,
   "id": "5f947b08",
   "metadata": {},
   "outputs": [],
   "source": [
    "oPredictiveModel.load_weights(sSubModelName)\n",
    "\n",
    "aPrediction = oPredictiveModel.predict(dfScaledInputTest)\n",
    "aPrediction = tf.one_hot(tf.nn.top_k(aPrediction).indices, tf.shape(aPrediction)[1])\n",
    "aPrediction = tf.squeeze(aPrediction, [1]).numpy()\n",
    "\n",
    "dfPrediction = pd.DataFrame(aPrediction, index = dfScaledInputTest.index)\n",
    "dfPrediction = dfPrediction.idxmax(axis=1)\n",
    "dfPrediction = pd.DataFrame(dfPrediction)\n",
    "dfPrediction.columns = aColumns"
   ]
  },
  {
   "cell_type": "code",
   "execution_count": 89,
   "id": "22ab533c",
   "metadata": {},
   "outputs": [],
   "source": [
    "dfActual = pd.DataFrame(dfOneHotOutputTest.idxmax(axis=1), columns = aColumns)"
   ]
  },
  {
   "cell_type": "code",
   "execution_count": 90,
   "id": "aa48de7b",
   "metadata": {
    "code_folding": []
   },
   "outputs": [
    {
     "name": "stdout",
     "output_type": "stream",
     "text": [
      "              precision    recall  f1-score   support\n",
      "\n",
      "           0       0.51      0.68      0.58      2330\n",
      "           1       0.58      0.40      0.47      2543\n",
      "\n",
      "    accuracy                           0.53      4873\n",
      "   macro avg       0.54      0.54      0.53      4873\n",
      "weighted avg       0.55      0.53      0.53      4873\n",
      "\n"
     ]
    }
   ],
   "source": [
    "print(classification_report(dfActual, dfPrediction, zero_division = 0))"
   ]
  },
  {
   "cell_type": "code",
   "execution_count": 76,
   "id": "da7c8b68",
   "metadata": {},
   "outputs": [],
   "source": [
    "for iLoop in range(len(dfBinEdges)-1):\n",
    "    fMiddlePointOfBin = (dfBinEdges.iloc[iLoop+1] + dfBinEdges.iloc[iLoop])/2\n",
    "    fMiddlePointOfBin = fMiddlePointOfBin.values[0] \n",
    "    dfPrediction[dfPrediction.iloc[:, 0] == iLoop] = fMiddlePointOfBin"
   ]
  },
  {
   "cell_type": "code",
   "execution_count": 77,
   "id": "7a857be5",
   "metadata": {},
   "outputs": [
    {
     "data": {
      "text/plain": [
       "<matplotlib.axes._subplots.AxesSubplot at 0x1d1be1135c8>"
      ]
     },
     "execution_count": 77,
     "metadata": {},
     "output_type": "execute_result"
    },
    {
     "data": {
      "image/png": "[encoded data removed]",
      "text/plain": [
       "<Figure size 432x288 with 1 Axes>"
      ]
     },
     "metadata": {
      "needs_background": "light"
     },
     "output_type": "display_data"
    }
   ],
   "source": [
    "dfTestComparision = dfPrediction.join(dfOutputTest, how = \"inner\", lsuffix=\"prediction\")\n",
    "dfTestComparision.columns = [\"Prediction\", \"Actual\"]\n",
    "\n",
    "sns.scatterplot(data = dfTestComparision, x = \"Actual\", y =\"Prediction\")"
   ]
  },
  {
   "cell_type": "code",
   "execution_count": 78,
   "id": "6b62fb1b",
   "metadata": {},
   "outputs": [
    {
     "name": "stdout",
     "output_type": "stream",
     "text": [
      "Metrics for regression:\n",
      "      mean absolute error:                0.010\n",
      "    median absolute error:                0.012\n",
      "       mean squared error:                0.000\n",
      "                max error:                0.013\n",
      "                 r2 score:              -71.481\n",
      " explained variance score:              -10.230\n"
     ]
    }
   ],
   "source": [
    "aMetrics = [\n",
    "        ('mean absolute error', mean_absolute_error(dfOutputTest, dfPrediction)),\n",
    "        ('median absolute error', median_absolute_error(dfOutputTest, dfPrediction)),\n",
    "        ('mean squared error', mean_squared_error(dfOutputTest, dfPrediction)),\n",
    "        ('max error', max_error(dfOutputTest, dfPrediction)),\n",
    "        ('r2 score', r2_score(dfOutputTest, dfPrediction)),\n",
    "        ('explained variance score', explained_variance_score(dfOutputTest, dfPrediction))\n",
    "    ]\n",
    "\n",
    "print('Metrics for regression:')\n",
    "for metric_name, metric_value in aMetrics:\n",
    "    print(f'{metric_name:>25s}: {metric_value: >20.3f}')"
   ]
  },
  {
   "cell_type": "markdown",
   "id": "1127d583",
   "metadata": {},
   "source": [
    "# DOWNWARD REGRESSION MODEL"
   ]
  },
  {
   "cell_type": "code",
   "execution_count": null,
   "id": "137167f1",
   "metadata": {},
   "outputs": [],
   "source": []
  }
 ],
 "metadata": {
  "kernelspec": {
   "display_name": "Python 3",
   "language": "python",
   "name": "python3"
  },
  "language_info": {
   "codemirror_mode": {
    "name": "ipython",
    "version": 3
   },
   "file_extension": ".py",
   "mimetype": "text/x-python",
   "name": "python",
   "nbconvert_exporter": "python",
   "pygments_lexer": "ipython3",
   "version": "3.7.10"
  },
  "varInspector": {
   "cols": {
    "lenName": 16,
    "lenType": 16,
    "lenVar": 40
   },
   "kernels_config": {
    "python": {
     "delete_cmd_postfix": "",
     "delete_cmd_prefix": "del ",
     "library": "var_list.py",
     "varRefreshCmd": "print(var_dic_list())"
    },
    "r": {
     "delete_cmd_postfix": ") ",
     "delete_cmd_prefix": "rm(",
     "library": "var_list.r",
     "varRefreshCmd": "cat(var_dic_list()) "
    }
   },
   "types_to_exclude": [
    "module",
    "function",
    "builtin_function_or_method",
    "instance",
    "_Feature"
   ],
   "window_display": false
  }
 },
 "nbformat": 4,
 "nbformat_minor": 5
}
