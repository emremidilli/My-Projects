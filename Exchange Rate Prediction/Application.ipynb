{
 "cells": [
  {
   "cell_type": "code",
   "execution_count": 1,
   "id": "0611acbc",
   "metadata": {},
   "outputs": [],
   "source": [
    "import pandas as pd\n",
    "\n",
    "import numpy as np\n",
    "\n",
    "import itertools\n",
    "\n",
    "from datetime import datetime\n",
    "\n",
    "import time\n",
    "\n",
    "import pytz\n",
    "import sys\n",
    "import pickle\n",
    "\n",
    "from sklearn.preprocessing import StandardScaler\n",
    "from sklearn.model_selection import train_test_split\n",
    "from sklearn.metrics import mean_absolute_error, mean_squared_error, max_error, r2_score\n",
    "\n",
    "import seaborn as sns\n",
    "\n",
    "import MetaTrader5 as mt5\n",
    "\n",
    "import os\n",
    "os.environ['TF_CPP_MIN_LOG_LEVEL'] = '2' \n",
    "\n",
    "import tensorflow as tf\n",
    "from tensorflow import keras\n",
    "from tensorflow.keras import Sequential\n",
    "from tensorflow.keras.layers import Dense\n",
    "from tensorflow.keras.layers import LSTM\n",
    "from tensorflow.keras.layers import Reshape\n",
    "from tensorflow.keras.layers import RepeatVector\n",
    "from tensorflow.keras.layers import TimeDistributed\n",
    "from tensorflow.keras.callbacks import EarlyStopping"
   ]
  },
  {
   "cell_type": "markdown",
   "id": "8d915683",
   "metadata": {},
   "source": [
    "# LOAD DATA"
   ]
  },
  {
   "cell_type": "code",
   "execution_count": 2,
   "id": "a44508f4",
   "metadata": {
    "code_folding": []
   },
   "outputs": [],
   "source": [
    "sSymbol = \"NAT.GAS\"\n",
    "gc_o_TIME_ZONE = pytz.timezone(\"Etc/UTC\")\n",
    "gc_dt_FROM = datetime(2021, 10, 1, tzinfo=gc_o_TIME_ZONE)\n",
    "gc_dt_TO = datetime(2021, 11, 1, tzinfo=gc_o_TIME_ZONE)"
   ]
  },
  {
   "cell_type": "code",
   "execution_count": 3,
   "id": "7bd3b945",
   "metadata": {},
   "outputs": [],
   "source": [
    "aDatesToFetch = list(pd.date_range(start=gc_dt_FROM, end=gc_dt_TO)) #created since MT5 library fails due to time out.\n",
    "aDatesSampled = aDatesToFetch[::200]\n",
    "aDatesSampled.append(aDatesToFetch[-1])\n",
    "aDatesSampled = list(set(aDatesSampled))\n",
    "aDatesSampled.sort()\n",
    "\n",
    "dfOhlc = pd.DataFrame()\n",
    "for i in range(0, len(aDatesSampled) - 1):\n",
    "    dtFrom = aDatesSampled[i]\n",
    "    dtTo = aDatesSampled[i+1]\n",
    "\n",
    "    if not mt5.initialize():\n",
    "        print(\"initialize() failed, error code =\", mt5.last_error())\n",
    "        sys.exit()\n",
    "\n",
    "    aSymbolInfo = mt5.symbol_info(sSymbol)\n",
    "    if not aSymbolInfo:\n",
    "        print(\"symbol_info() failed, error code =\", mt5.last_error())\n",
    "        sys.exit()\n",
    "\n",
    "    dfOhlcSample = mt5.copy_rates_range(\n",
    "        sSymbol,\n",
    "        mt5.TIMEFRAME_M30,\n",
    "        dtFrom, \n",
    "        dtTo\n",
    "    )\n",
    "    \n",
    "    if len(dfOhlcSample) == 0:\n",
    "        print(\"copy_rates_range() failed, error code =\", mt5.last_error())\n",
    "        sys.exit()\n",
    "\n",
    "    mt5.shutdown()\n",
    "\n",
    "    dfOhlcSample = pd.DataFrame(dfOhlcSample)\n",
    "\n",
    "    dfOhlcSample['timestamp'] = pd.to_datetime(dfOhlcSample['time'], unit= \"s\")\n",
    "    dfOhlcSample.set_index('timestamp', inplace=True)\n",
    "    \n",
    "    dfOhlc = dfOhlc.append(dfOhlcSample)"
   ]
  },
  {
   "cell_type": "code",
   "execution_count": 4,
   "id": "66398f37",
   "metadata": {},
   "outputs": [],
   "source": [
    "dfOhlc[\"weekday\"] = dfOhlc.index.weekday\n",
    "dfOhlc[\"hour\"] = dfOhlc.index.hour\n",
    "dfOhlc[\"minute\"] = dfOhlc.index.minute"
   ]
  },
  {
   "cell_type": "code",
   "execution_count": 5,
   "id": "93639e4e",
   "metadata": {},
   "outputs": [],
   "source": [
    "dfOhlc.drop([\"time\"], axis = 1 , inplace = True)"
   ]
  },
  {
   "cell_type": "markdown",
   "id": "3c7bca11",
   "metadata": {},
   "source": [
    "# DESCRIBE DATA"
   ]
  },
  {
   "cell_type": "code",
   "execution_count": 6,
   "id": "e0a04a73",
   "metadata": {},
   "outputs": [
    {
     "data": {
      "text/html": [
       "<div>\n",
       "<style scoped>\n",
       "    .dataframe tbody tr th:only-of-type {\n",
       "        vertical-align: middle;\n",
       "    }\n",
       "\n",
       "    .dataframe tbody tr th {\n",
       "        vertical-align: top;\n",
       "    }\n",
       "\n",
       "    .dataframe thead th {\n",
       "        text-align: right;\n",
       "    }\n",
       "</style>\n",
       "<table border=\"1\" class=\"dataframe\">\n",
       "  <thead>\n",
       "    <tr style=\"text-align: right;\">\n",
       "      <th></th>\n",
       "      <th>open</th>\n",
       "      <th>high</th>\n",
       "      <th>low</th>\n",
       "      <th>close</th>\n",
       "      <th>tick_volume</th>\n",
       "      <th>spread</th>\n",
       "      <th>real_volume</th>\n",
       "      <th>weekday</th>\n",
       "      <th>hour</th>\n",
       "      <th>minute</th>\n",
       "    </tr>\n",
       "    <tr>\n",
       "      <th>timestamp</th>\n",
       "      <th></th>\n",
       "      <th></th>\n",
       "      <th></th>\n",
       "      <th></th>\n",
       "      <th></th>\n",
       "      <th></th>\n",
       "      <th></th>\n",
       "      <th></th>\n",
       "      <th></th>\n",
       "      <th></th>\n",
       "    </tr>\n",
       "  </thead>\n",
       "  <tbody>\n",
       "    <tr>\n",
       "      <th>2021-10-01 01:00:00</th>\n",
       "      <td>6.004</td>\n",
       "      <td>6.057</td>\n",
       "      <td>5.998</td>\n",
       "      <td>6.039</td>\n",
       "      <td>446</td>\n",
       "      <td>10</td>\n",
       "      <td>13425000</td>\n",
       "      <td>4</td>\n",
       "      <td>1</td>\n",
       "      <td>0</td>\n",
       "    </tr>\n",
       "    <tr>\n",
       "      <th>2021-10-01 01:30:00</th>\n",
       "      <td>6.039</td>\n",
       "      <td>6.048</td>\n",
       "      <td>5.981</td>\n",
       "      <td>5.990</td>\n",
       "      <td>259</td>\n",
       "      <td>10</td>\n",
       "      <td>7849300</td>\n",
       "      <td>4</td>\n",
       "      <td>1</td>\n",
       "      <td>30</td>\n",
       "    </tr>\n",
       "    <tr>\n",
       "      <th>2021-10-01 02:00:00</th>\n",
       "      <td>5.990</td>\n",
       "      <td>6.027</td>\n",
       "      <td>5.986</td>\n",
       "      <td>5.997</td>\n",
       "      <td>277</td>\n",
       "      <td>10</td>\n",
       "      <td>8385000</td>\n",
       "      <td>4</td>\n",
       "      <td>2</td>\n",
       "      <td>0</td>\n",
       "    </tr>\n",
       "    <tr>\n",
       "      <th>2021-10-01 02:30:00</th>\n",
       "      <td>5.994</td>\n",
       "      <td>5.994</td>\n",
       "      <td>5.945</td>\n",
       "      <td>5.970</td>\n",
       "      <td>295</td>\n",
       "      <td>5</td>\n",
       "      <td>8910000</td>\n",
       "      <td>4</td>\n",
       "      <td>2</td>\n",
       "      <td>30</td>\n",
       "    </tr>\n",
       "    <tr>\n",
       "      <th>2021-10-01 03:00:00</th>\n",
       "      <td>5.971</td>\n",
       "      <td>6.021</td>\n",
       "      <td>5.964</td>\n",
       "      <td>5.992</td>\n",
       "      <td>357</td>\n",
       "      <td>15</td>\n",
       "      <td>10760000</td>\n",
       "      <td>4</td>\n",
       "      <td>3</td>\n",
       "      <td>0</td>\n",
       "    </tr>\n",
       "    <tr>\n",
       "      <th>...</th>\n",
       "      <td>...</td>\n",
       "      <td>...</td>\n",
       "      <td>...</td>\n",
       "      <td>...</td>\n",
       "      <td>...</td>\n",
       "      <td>...</td>\n",
       "      <td>...</td>\n",
       "      <td>...</td>\n",
       "      <td>...</td>\n",
       "      <td>...</td>\n",
       "    </tr>\n",
       "    <tr>\n",
       "      <th>2021-10-29 22:00:00</th>\n",
       "      <td>5.499</td>\n",
       "      <td>5.554</td>\n",
       "      <td>5.490</td>\n",
       "      <td>5.533</td>\n",
       "      <td>1524</td>\n",
       "      <td>13</td>\n",
       "      <td>15225000</td>\n",
       "      <td>4</td>\n",
       "      <td>22</td>\n",
       "      <td>0</td>\n",
       "    </tr>\n",
       "    <tr>\n",
       "      <th>2021-10-29 22:30:00</th>\n",
       "      <td>5.533</td>\n",
       "      <td>5.554</td>\n",
       "      <td>5.489</td>\n",
       "      <td>5.548</td>\n",
       "      <td>1334</td>\n",
       "      <td>14</td>\n",
       "      <td>13289000</td>\n",
       "      <td>4</td>\n",
       "      <td>22</td>\n",
       "      <td>30</td>\n",
       "    </tr>\n",
       "    <tr>\n",
       "      <th>2021-10-29 23:00:00</th>\n",
       "      <td>5.547</td>\n",
       "      <td>5.582</td>\n",
       "      <td>5.547</td>\n",
       "      <td>5.559</td>\n",
       "      <td>680</td>\n",
       "      <td>10</td>\n",
       "      <td>6746000</td>\n",
       "      <td>4</td>\n",
       "      <td>23</td>\n",
       "      <td>0</td>\n",
       "    </tr>\n",
       "    <tr>\n",
       "      <th>2021-10-29 23:30:00</th>\n",
       "      <td>5.560</td>\n",
       "      <td>5.582</td>\n",
       "      <td>5.544</td>\n",
       "      <td>5.576</td>\n",
       "      <td>439</td>\n",
       "      <td>10</td>\n",
       "      <td>4336000</td>\n",
       "      <td>4</td>\n",
       "      <td>23</td>\n",
       "      <td>30</td>\n",
       "    </tr>\n",
       "    <tr>\n",
       "      <th>2021-11-01 00:00:00</th>\n",
       "      <td>5.341</td>\n",
       "      <td>5.366</td>\n",
       "      <td>5.319</td>\n",
       "      <td>5.349</td>\n",
       "      <td>640</td>\n",
       "      <td>4</td>\n",
       "      <td>6349000</td>\n",
       "      <td>0</td>\n",
       "      <td>0</td>\n",
       "      <td>0</td>\n",
       "    </tr>\n",
       "  </tbody>\n",
       "</table>\n",
       "<p>967 rows × 10 columns</p>\n",
       "</div>"
      ],
      "text/plain": [
       "                      open   high    low  close  tick_volume  spread  \\\n",
       "timestamp                                                              \n",
       "2021-10-01 01:00:00  6.004  6.057  5.998  6.039          446      10   \n",
       "2021-10-01 01:30:00  6.039  6.048  5.981  5.990          259      10   \n",
       "2021-10-01 02:00:00  5.990  6.027  5.986  5.997          277      10   \n",
       "2021-10-01 02:30:00  5.994  5.994  5.945  5.970          295       5   \n",
       "2021-10-01 03:00:00  5.971  6.021  5.964  5.992          357      15   \n",
       "...                    ...    ...    ...    ...          ...     ...   \n",
       "2021-10-29 22:00:00  5.499  5.554  5.490  5.533         1524      13   \n",
       "2021-10-29 22:30:00  5.533  5.554  5.489  5.548         1334      14   \n",
       "2021-10-29 23:00:00  5.547  5.582  5.547  5.559          680      10   \n",
       "2021-10-29 23:30:00  5.560  5.582  5.544  5.576          439      10   \n",
       "2021-11-01 00:00:00  5.341  5.366  5.319  5.349          640       4   \n",
       "\n",
       "                     real_volume  weekday  hour  minute  \n",
       "timestamp                                                \n",
       "2021-10-01 01:00:00     13425000        4     1       0  \n",
       "2021-10-01 01:30:00      7849300        4     1      30  \n",
       "2021-10-01 02:00:00      8385000        4     2       0  \n",
       "2021-10-01 02:30:00      8910000        4     2      30  \n",
       "2021-10-01 03:00:00     10760000        4     3       0  \n",
       "...                          ...      ...   ...     ...  \n",
       "2021-10-29 22:00:00     15225000        4    22       0  \n",
       "2021-10-29 22:30:00     13289000        4    22      30  \n",
       "2021-10-29 23:00:00      6746000        4    23       0  \n",
       "2021-10-29 23:30:00      4336000        4    23      30  \n",
       "2021-11-01 00:00:00      6349000        0     0       0  \n",
       "\n",
       "[967 rows x 10 columns]"
      ]
     },
     "execution_count": 6,
     "metadata": {},
     "output_type": "execute_result"
    }
   ],
   "source": [
    "dfOhlc"
   ]
  },
  {
   "cell_type": "code",
   "execution_count": 7,
   "id": "d915b40d",
   "metadata": {},
   "outputs": [
    {
     "data": {
      "text/plain": [
       "<matplotlib.axes._subplots.AxesSubplot at 0x1a12c787888>"
      ]
     },
     "execution_count": 7,
     "metadata": {},
     "output_type": "execute_result"
    },
    {
     "data": {
      "image/png": "[encoded data removed]",
      "text/plain": [
       "<Figure size 432x288 with 1 Axes>"
      ]
     },
     "metadata": {
      "needs_background": "light"
     },
     "output_type": "display_data"
    }
   ],
   "source": [
    "sns.lineplot(data  = dfOhlc[\"close\"])"
   ]
  },
  {
   "cell_type": "markdown",
   "id": "34801cd6",
   "metadata": {},
   "source": [
    "# PREPROCESSING"
   ]
  },
  {
   "cell_type": "code",
   "execution_count": 8,
   "id": "137167f1",
   "metadata": {},
   "outputs": [],
   "source": [
    "sModelName = os.path.join(sSymbol , \"__deep learning model__\")"
   ]
  },
  {
   "cell_type": "markdown",
   "id": "fa542c9e",
   "metadata": {},
   "source": [
    "## Split Data"
   ]
  },
  {
   "cell_type": "code",
   "execution_count": 9,
   "id": "70088c21",
   "metadata": {
    "code_folding": []
   },
   "outputs": [],
   "source": [
    "fTrainingRatio = 0.6\n",
    "fValidationRatio = 0.2\n",
    "fTestRatio = 0.2\n",
    "\n",
    "ixTrain, ixTest = train_test_split(\n",
    "    dfOhlc.index,\n",
    "    test_size=1-fTrainingRatio,\n",
    "    shuffle=False)\n",
    "\n",
    "ixValidation, ixTest= train_test_split(\n",
    "    ixTest,\n",
    "    test_size=fTestRatio/(fTestRatio + fValidationRatio),\n",
    "    shuffle=False)"
   ]
  },
  {
   "cell_type": "markdown",
   "id": "a48e73e3",
   "metadata": {},
   "source": [
    "## Scale Data"
   ]
  },
  {
   "cell_type": "code",
   "execution_count": 10,
   "id": "32c7b72c",
   "metadata": {},
   "outputs": [],
   "source": [
    "dfScaledOhlc = pd.DataFrame(index = dfOhlc.index, columns  = dfOhlc.columns)\n",
    "\n",
    "\n",
    "for sColumn in dfOhlc.columns:\n",
    "    oScaler = StandardScaler()\n",
    "    \n",
    "    dfTrain = pd.DataFrame(dfOhlc.loc[ixTrain, sColumn])\n",
    "    dfValidation = pd.DataFrame(dfOhlc.loc[ixValidation, sColumn])\n",
    "    dfTest = pd.DataFrame(dfOhlc.loc[ixTest, sColumn])\n",
    "    \n",
    "    oScaler.fit(dfTrain)\n",
    "    \n",
    "    dfScaledOhlc.loc[ixTrain, sColumn] = np.reshape(oScaler.transform(dfTrain), (-1))\n",
    "    dfScaledOhlc.loc[ixValidation, sColumn] = np.reshape(oScaler.transform(dfValidation), (-1))\n",
    "    dfScaledOhlc.loc[ixTest, sColumn] = np.reshape(oScaler.transform(dfTest), (-1))\n",
    "\n",
    "    sScalerFilePath = os.path.join(sModelName , \"__scalers__\")\n",
    "    sScalerFilePath = os.path.join(sScalerFilePath , sColumn + \".sav\")\n",
    "    os.makedirs(os.path.dirname(sScalerFilePath), exist_ok=True)\n",
    "    pickle.dump(oScaler, open(sScalerFilePath, 'wb'))"
   ]
  },
  {
   "cell_type": "markdown",
   "id": "e4f452e4",
   "metadata": {},
   "source": [
    "## Feature Engineering"
   ]
  },
  {
   "cell_type": "code",
   "execution_count": 11,
   "id": "1449fbb7",
   "metadata": {},
   "outputs": [],
   "source": [
    "aInputFeatures = ['open', 'high', 'low', 'close', 'tick_volume', 'spread', 'real_volume','weekday', 'hour', 'minute']\n",
    "iBackwardTimeWindow = 8\n",
    "iNrInputFeatures = len(aInputFeatures)\n",
    "aBackwardTimeSteps = range(-iBackwardTimeWindow, 0)\n",
    "\n",
    "tplInputColumns = list(itertools.product(aBackwardTimeSteps, aInputFeatures))\n",
    "miInputColums = pd.MultiIndex.from_tuples(tplInputColumns, names= [\"time_step\", \"feature\"])\n",
    "\n",
    "dfInput = pd.DataFrame( columns = miInputColums)\n",
    "\n",
    "for i in aBackwardTimeSteps:\n",
    "    for sInputFeature in aInputFeatures:\n",
    "        dfInput.loc[:, (i, sInputFeature)] = dfScaledOhlc[sInputFeature].shift(-i)"
   ]
  },
  {
   "cell_type": "code",
   "execution_count": 13,
   "id": "ce152a53",
   "metadata": {},
   "outputs": [],
   "source": [
    "aOutputFeatures = ['close']\n",
    "iForwardTimeWindow  =  8\n",
    "iNrOutputFeatures = len(aOutputFeatures)\n",
    "aForwardTimeSteps = range(0, iForwardTimeWindow)\n",
    "\n",
    "tplOutputColumns = list(itertools.product(aForwardTimeSteps, aOutputFeatures))\n",
    "ixOutputColums = pd.MultiIndex.from_tuples(tplOutputColumns, names= [\"time_step\", \"feature\"])\n",
    "\n",
    "dfOutput = pd.DataFrame(columns = ixOutputColums)\n",
    "\n",
    "for i in aForwardTimeSteps:\n",
    "    for sOutputFeature in aOutputFeatures:\n",
    "        dfOutput.loc[:, (i, sOutputFeature)] = dfScaledOhlc[sOutputFeature].shift(-i)"
   ]
  },
  {
   "cell_type": "code",
   "execution_count": 14,
   "id": "296eec07",
   "metadata": {},
   "outputs": [],
   "source": [
    "dfMerged = dfInput.join(dfOutput, how= \"inner\")\n",
    "dfMerged.dropna(inplace=True)\n",
    "dfInput = dfMerged[dfInput.columns]\n",
    "dfOutput = dfMerged[dfOutput.columns]\n",
    "ixTrain = ixTrain.join(dfMerged.index, how = \"inner\")\n",
    "ixValidation = ixValidation.join(dfMerged.index, how = \"inner\")\n",
    "ixTest = ixTest.join(dfMerged.index, how = \"inner\")"
   ]
  },
  {
   "cell_type": "code",
   "execution_count": 15,
   "id": "96e399d4",
   "metadata": {},
   "outputs": [],
   "source": [
    "dfInputTrain = dfInput.loc[ixTrain]\n",
    "aInputTrain = np.reshape(dfInputTrain.values, (dfInputTrain.shape[0], iBackwardTimeWindow, iNrInputFeatures))\n",
    "\n",
    "dfInputValidation = dfInput.loc[ixValidation]\n",
    "aInputValidation = np.reshape(dfInputValidation.values, (dfInputValidation.shape[0], iBackwardTimeWindow, iNrInputFeatures))\n",
    "\n",
    "dfInputTest = dfInput.loc[ixTest]\n",
    "aInputTest = np.reshape(dfInputTest.values, (dfInputTest.shape[0], iBackwardTimeWindow, iNrInputFeatures))\n",
    "\n",
    "dfOutputTrain = dfOutput.loc[ixTrain]\n",
    "aOutputTrain = np.reshape(dfOutputTrain.values, (dfOutputTrain.shape[0], iForwardTimeWindow, iNrOutputFeatures))\n",
    "\n",
    "dfOutputValidation = dfOutput.loc[ixValidation]\n",
    "aOutputValidation = np.reshape(dfOutputValidation.values, (dfOutputValidation.shape[0], iForwardTimeWindow, iNrOutputFeatures))\n",
    "\n",
    "dfOutputTest = dfOutput.loc[ixTest]\n",
    "aOutputTest = np.reshape(dfOutputTest.values, (dfOutputTest.shape[0], iForwardTimeWindow, iNrOutputFeatures))"
   ]
  },
  {
   "cell_type": "code",
   "execution_count": 16,
   "id": "76ce37ad",
   "metadata": {},
   "outputs": [],
   "source": [
    "aInputTrain = np.asarray(aInputTrain, np.float32)\n",
    "aInputValidation = np.asarray(aInputValidation, np.float32)\n",
    "aInputTest = np.asarray(aInputTest, np.float32)\n",
    "aOutputTrain = np.asarray(aOutputTrain, np.float32)\n",
    "aOutputValidation = np.asarray(aOutputValidation, np.float32)\n",
    "aOutputTest = np.asarray(aOutputTest, np.float32)"
   ]
  },
  {
   "cell_type": "markdown",
   "id": "52944fb0",
   "metadata": {},
   "source": [
    "## Train"
   ]
  },
  {
   "cell_type": "markdown",
   "id": "e253bd8c",
   "metadata": {},
   "source": [
    "### Set Hyperparameters"
   ]
  },
  {
   "cell_type": "code",
   "execution_count": 17,
   "id": "a484f077",
   "metadata": {},
   "outputs": [],
   "source": [
    "iBatchSize = 64\n",
    "iEpochSize = 10000\n",
    "iNrOfHiddenNeurons = 32\n",
    "\n",
    "oOptimizer = tf.keras.optimizers.Adam(learning_rate=1e-05)\n",
    "\n",
    "fncLoss =  tf.keras.losses.MeanSquaredError()\n",
    "\n",
    "oEarlyStop = EarlyStopping(\n",
    "    monitor = 'val_loss', \n",
    "    mode = 'min', \n",
    "    verbose = 0 , \n",
    "    patience = 20, \n",
    "    restore_best_weights = True)"
   ]
  },
  {
   "cell_type": "markdown",
   "id": "a75b209e",
   "metadata": {},
   "source": [
    "### Build Model"
   ]
  },
  {
   "cell_type": "code",
   "execution_count": 18,
   "id": "cbc5765c",
   "metadata": {},
   "outputs": [
    {
     "name": "stdout",
     "output_type": "stream",
     "text": [
      "WARNING:tensorflow:Layer lstm will not use cuDNN kernels since it doesn't meet the criteria. It will use a generic GPU kernel as fallback when running on GPU.\n",
      "WARNING:tensorflow:Layer lstm_1 will not use cuDNN kernels since it doesn't meet the criteria. It will use a generic GPU kernel as fallback when running on GPU.\n"
     ]
    }
   ],
   "source": [
    "aEncoderInputs = keras.Input(\n",
    "    shape=(iBackwardTimeWindow, iNrInputFeatures), \n",
    "    name=\"aEncoderInputs\")\n",
    "\n",
    "aEncoderHiddens, aFinalH, aFinalC = LSTM(iNrOfHiddenNeurons,\n",
    "                                         return_state = True, \n",
    "                                         return_sequences = True,\n",
    "                                         activation = keras.activations.linear\n",
    "                                        )(aEncoderInputs)\n",
    "aFinalH = keras.layers.BatchNormalization(momentum=0.6)(aFinalH)\n",
    "aFinalC = keras.layers.BatchNormalization(momentum=0.6)(aFinalC)\n",
    "\n",
    "aDecoderInputs = keras.layers.RepeatVector(iForwardTimeWindow)(aFinalH)\n",
    "\n",
    "aDecoderHiddens = LSTM(iNrOfHiddenNeurons, \n",
    "                       return_state = False, \n",
    "                       return_sequences = True,\n",
    "                       activation = keras.activations.linear\n",
    "                      )(aDecoderInputs, initial_state=[aFinalH, aFinalC])\n",
    "\n",
    "aAttentions = keras.layers.dot([aDecoderHiddens, aEncoderHiddens], axes=[2, 2])\n",
    "aAttentions = keras.layers.Activation('softmax')(aAttentions)\n",
    "\n",
    "aContextVector = keras.layers.dot([aAttentions, aEncoderHiddens], axes=[2,1])\n",
    "aContextVector = keras.layers.BatchNormalization(momentum=0.6)(aContextVector)\n",
    "aContextVector = keras.layers.concatenate([aContextVector, aDecoderHiddens])\n",
    "\n",
    "aDecoderOutputs = keras.layers.TimeDistributed(\n",
    "    Dense(iNrOutputFeatures)\n",
    ")(aContextVector)\n",
    "\n",
    "oPredictiveModel = keras.Model(\n",
    "    inputs=aEncoderInputs,\n",
    "    outputs=aDecoderOutputs\n",
    ")"
   ]
  },
  {
   "cell_type": "markdown",
   "id": "19a5c23e",
   "metadata": {},
   "source": [
    "### Compile Model"
   ]
  },
  {
   "cell_type": "code",
   "execution_count": 19,
   "id": "a8349125",
   "metadata": {},
   "outputs": [],
   "source": [
    "oFnLoss =  tf.keras.losses.MeanSquaredError()\n",
    "oPredictiveModel.compile(optimizer=oOptimizer,\n",
    "                         loss = oFnLoss\n",
    "                        )"
   ]
  },
  {
   "cell_type": "markdown",
   "id": "dedaa4fc",
   "metadata": {},
   "source": [
    "### Fit Model"
   ]
  },
  {
   "cell_type": "code",
   "execution_count": 20,
   "id": "3871f87c",
   "metadata": {},
   "outputs": [
    {
     "name": "stdout",
     "output_type": "stream",
     "text": [
      "Epoch 1/10000\n",
      "9/9 [==============================] - 9s 129ms/step - loss: 3.9101 - val_loss: 6.7279\n",
      "Epoch 2/10000\n",
      "9/9 [==============================] - 0s 46ms/step - loss: 3.8129 - val_loss: 8.1369\n",
      "Epoch 3/10000\n",
      "9/9 [==============================] - 0s 50ms/step - loss: 3.6978 - val_loss: 8.2382\n",
      "Epoch 4/10000\n",
      "9/9 [==============================] - 0s 49ms/step - loss: 3.5679 - val_loss: 7.7255\n",
      "Epoch 5/10000\n",
      "9/9 [==============================] - 0s 49ms/step - loss: 3.5221 - val_loss: 7.0982\n",
      "Epoch 6/10000\n",
      "9/9 [==============================] - 0s 46ms/step - loss: 3.4437 - val_loss: 7.3644\n",
      "Epoch 7/10000\n",
      "9/9 [==============================] - 0s 48ms/step - loss: 3.3796 - val_loss: 7.5103\n",
      "Epoch 8/10000\n",
      "9/9 [==============================] - 0s 47ms/step - loss: 3.3109 - val_loss: 7.8543\n",
      "Epoch 9/10000\n",
      "9/9 [==============================] - 0s 53ms/step - loss: 3.2014 - val_loss: 7.2790\n",
      "Epoch 10/10000\n",
      "9/9 [==============================] - 0s 45ms/step - loss: 3.1285 - val_loss: 6.6749\n",
      "Epoch 11/10000\n",
      "9/9 [==============================] - 0s 51ms/step - loss: 3.0750 - val_loss: 6.7078\n",
      "Epoch 12/10000\n",
      "9/9 [==============================] - 0s 48ms/step - loss: 2.9773 - val_loss: 6.2129\n",
      "Epoch 13/10000\n",
      "9/9 [==============================] - 0s 51ms/step - loss: 2.9202 - val_loss: 6.1056\n",
      "Epoch 14/10000\n",
      "9/9 [==============================] - 0s 47ms/step - loss: 2.8439 - val_loss: 7.2705\n",
      "Epoch 15/10000\n",
      "9/9 [==============================] - 0s 48ms/step - loss: 2.7549 - val_loss: 5.3718\n",
      "Epoch 16/10000\n",
      "9/9 [==============================] - 0s 52ms/step - loss: 2.6171 - val_loss: 6.6720\n",
      "Epoch 17/10000\n",
      "9/9 [==============================] - 0s 50ms/step - loss: 2.6474 - val_loss: 6.4485\n",
      "Epoch 18/10000\n",
      "9/9 [==============================] - 0s 51ms/step - loss: 2.5701 - val_loss: 5.6394\n",
      "Epoch 19/10000\n",
      "9/9 [==============================] - 0s 50ms/step - loss: 2.4799 - val_loss: 5.7187\n",
      "Epoch 20/10000\n",
      "9/9 [==============================] - 0s 48ms/step - loss: 2.4316 - val_loss: 5.5299\n",
      "Epoch 21/10000\n",
      "9/9 [==============================] - 0s 49ms/step - loss: 2.3567 - val_loss: 5.0994\n",
      "Epoch 22/10000\n",
      "9/9 [==============================] - 0s 47ms/step - loss: 2.3340 - val_loss: 5.1779\n",
      "Epoch 23/10000\n",
      "9/9 [==============================] - 0s 49ms/step - loss: 2.2371 - val_loss: 5.0984\n",
      "Epoch 24/10000\n",
      "9/9 [==============================] - 0s 49ms/step - loss: 2.2049 - val_loss: 5.1839\n",
      "Epoch 25/10000\n",
      "9/9 [==============================] - 0s 54ms/step - loss: 2.1267 - val_loss: 4.8512\n",
      "Epoch 26/10000\n",
      "9/9 [==============================] - 0s 45ms/step - loss: 2.0850 - val_loss: 4.8225\n",
      "Epoch 27/10000\n",
      "9/9 [==============================] - 0s 44ms/step - loss: 2.0488 - val_loss: 4.8261\n",
      "Epoch 28/10000\n",
      "9/9 [==============================] - 0s 45ms/step - loss: 1.9689 - val_loss: 4.5687\n",
      "Epoch 29/10000\n",
      "9/9 [==============================] - 0s 49ms/step - loss: 1.9147 - val_loss: 4.8019\n",
      "Epoch 30/10000\n",
      "9/9 [==============================] - 0s 51ms/step - loss: 1.8726 - val_loss: 4.6173\n",
      "Epoch 31/10000\n",
      "9/9 [==============================] - 0s 48ms/step - loss: 1.8150 - val_loss: 4.3978\n",
      "Epoch 32/10000\n",
      "9/9 [==============================] - 0s 49ms/step - loss: 1.7380 - val_loss: 4.4324\n",
      "Epoch 33/10000\n",
      "9/9 [==============================] - 0s 48ms/step - loss: 1.7270 - val_loss: 4.4080\n",
      "Epoch 34/10000\n",
      "9/9 [==============================] - 0s 47ms/step - loss: 1.6834 - val_loss: 4.1490\n",
      "Epoch 35/10000\n",
      "9/9 [==============================] - 0s 51ms/step - loss: 1.6372 - val_loss: 4.2615\n",
      "Epoch 36/10000\n",
      "9/9 [==============================] - 0s 49ms/step - loss: 1.6070 - val_loss: 3.9341\n",
      "Epoch 37/10000\n",
      "9/9 [==============================] - 0s 47ms/step - loss: 1.5622 - val_loss: 3.9889\n",
      "Epoch 38/10000\n",
      "9/9 [==============================] - 0s 48ms/step - loss: 1.5230 - val_loss: 3.5219\n",
      "Epoch 39/10000\n",
      "9/9 [==============================] - 0s 46ms/step - loss: 1.4841 - val_loss: 3.9671\n",
      "Epoch 40/10000\n",
      "9/9 [==============================] - 0s 49ms/step - loss: 1.4238 - val_loss: 3.7494\n",
      "Epoch 41/10000\n",
      "9/9 [==============================] - 0s 48ms/step - loss: 1.4146 - val_loss: 3.3837\n",
      "Epoch 42/10000\n",
      "9/9 [==============================] - 0s 49ms/step - loss: 1.3613 - val_loss: 3.6349\n",
      "Epoch 43/10000\n",
      "9/9 [==============================] - 0s 48ms/step - loss: 1.3262 - val_loss: 3.1583\n",
      "Epoch 44/10000\n",
      "9/9 [==============================] - 0s 52ms/step - loss: 1.2871 - val_loss: 3.3733\n",
      "Epoch 45/10000\n",
      "9/9 [==============================] - 0s 49ms/step - loss: 1.2716 - val_loss: 3.1853\n",
      "Epoch 46/10000\n",
      "9/9 [==============================] - 0s 48ms/step - loss: 1.2311 - val_loss: 3.1702\n",
      "Epoch 47/10000\n",
      "9/9 [==============================] - 0s 47ms/step - loss: 1.1849 - val_loss: 3.0531\n",
      "Epoch 48/10000\n",
      "9/9 [==============================] - 0s 50ms/step - loss: 1.1604 - val_loss: 3.2739\n",
      "Epoch 49/10000\n",
      "9/9 [==============================] - 0s 53ms/step - loss: 1.1219 - val_loss: 2.8958\n",
      "Epoch 50/10000\n",
      "9/9 [==============================] - 0s 47ms/step - loss: 1.0906 - val_loss: 2.8939\n",
      "Epoch 51/10000\n",
      "9/9 [==============================] - 0s 51ms/step - loss: 1.0736 - val_loss: 2.8185\n",
      "Epoch 52/10000\n",
      "9/9 [==============================] - 0s 51ms/step - loss: 1.0632 - val_loss: 2.8331\n",
      "Epoch 53/10000\n",
      "9/9 [==============================] - 0s 47ms/step - loss: 1.0240 - val_loss: 2.6890\n",
      "Epoch 54/10000\n",
      "9/9 [==============================] - 0s 47ms/step - loss: 0.9892 - val_loss: 2.6278\n",
      "Epoch 55/10000\n",
      "9/9 [==============================] - 0s 52ms/step - loss: 0.9596 - val_loss: 2.6987\n",
      "Epoch 56/10000\n",
      "9/9 [==============================] - 0s 51ms/step - loss: 0.9413 - val_loss: 2.6809\n",
      "Epoch 57/10000\n",
      "9/9 [==============================] - 0s 46ms/step - loss: 0.9110 - val_loss: 2.6425\n",
      "Epoch 58/10000\n",
      "9/9 [==============================] - 0s 52ms/step - loss: 0.8999 - val_loss: 2.4413\n",
      "Epoch 59/10000\n",
      "9/9 [==============================] - 0s 49ms/step - loss: 0.8703 - val_loss: 2.8921\n",
      "Epoch 60/10000\n",
      "9/9 [==============================] - 0s 48ms/step - loss: 0.8497 - val_loss: 2.3745\n",
      "Epoch 61/10000\n",
      "9/9 [==============================] - 0s 53ms/step - loss: 0.8250 - val_loss: 2.3628\n",
      "Epoch 62/10000\n",
      "9/9 [==============================] - 1s 59ms/step - loss: 0.8131 - val_loss: 2.3025\n",
      "Epoch 63/10000\n",
      "9/9 [==============================] - 0s 53ms/step - loss: 0.7882 - val_loss: 2.4400\n",
      "Epoch 64/10000\n",
      "9/9 [==============================] - 0s 52ms/step - loss: 0.7734 - val_loss: 2.0719\n",
      "Epoch 65/10000\n",
      "9/9 [==============================] - 0s 50ms/step - loss: 0.7608 - val_loss: 2.0511\n",
      "Epoch 66/10000\n",
      "9/9 [==============================] - 0s 52ms/step - loss: 0.7338 - val_loss: 1.9382\n",
      "Epoch 67/10000\n",
      "9/9 [==============================] - 0s 52ms/step - loss: 0.7233 - val_loss: 2.1073\n",
      "Epoch 68/10000\n",
      "9/9 [==============================] - 0s 56ms/step - loss: 0.6949 - val_loss: 2.1263\n",
      "Epoch 69/10000\n",
      "9/9 [==============================] - 0s 52ms/step - loss: 0.6761 - val_loss: 1.9918\n",
      "Epoch 70/10000\n",
      "9/9 [==============================] - 0s 45ms/step - loss: 0.6476 - val_loss: 1.8906\n",
      "Epoch 71/10000\n",
      "9/9 [==============================] - 0s 48ms/step - loss: 0.6547 - val_loss: 1.7904\n",
      "Epoch 72/10000\n",
      "9/9 [==============================] - 0s 48ms/step - loss: 0.6476 - val_loss: 1.8918\n",
      "Epoch 73/10000\n",
      "9/9 [==============================] - 0s 49ms/step - loss: 0.6309 - val_loss: 1.9803\n",
      "Epoch 74/10000\n",
      "9/9 [==============================] - 0s 49ms/step - loss: 0.6087 - val_loss: 1.9188\n",
      "Epoch 75/10000\n",
      "9/9 [==============================] - 0s 51ms/step - loss: 0.6059 - val_loss: 1.7537\n",
      "Epoch 76/10000\n",
      "9/9 [==============================] - 0s 52ms/step - loss: 0.5890 - val_loss: 1.7340\n",
      "Epoch 77/10000\n",
      "9/9 [==============================] - 0s 47ms/step - loss: 0.5651 - val_loss: 1.7612\n",
      "Epoch 78/10000\n",
      "9/9 [==============================] - 0s 51ms/step - loss: 0.5553 - val_loss: 1.6404\n",
      "Epoch 79/10000\n",
      "9/9 [==============================] - 0s 53ms/step - loss: 0.5650 - val_loss: 1.6627\n",
      "Epoch 80/10000\n",
      "9/9 [==============================] - 0s 50ms/step - loss: 0.5413 - val_loss: 1.7034\n",
      "Epoch 81/10000\n",
      "9/9 [==============================] - 0s 47ms/step - loss: 0.5271 - val_loss: 1.6565\n",
      "Epoch 82/10000\n"
     ]
    },
    {
     "name": "stdout",
     "output_type": "stream",
     "text": [
      "9/9 [==============================] - 0s 48ms/step - loss: 0.5239 - val_loss: 1.7898\n",
      "Epoch 83/10000\n",
      "9/9 [==============================] - 0s 47ms/step - loss: 0.5062 - val_loss: 1.5486\n",
      "Epoch 84/10000\n",
      "9/9 [==============================] - 0s 48ms/step - loss: 0.5108 - val_loss: 1.4448\n",
      "Epoch 85/10000\n",
      "9/9 [==============================] - 0s 49ms/step - loss: 0.4878 - val_loss: 1.6365\n",
      "Epoch 86/10000\n",
      "9/9 [==============================] - 0s 48ms/step - loss: 0.5039 - val_loss: 1.4087\n",
      "Epoch 87/10000\n",
      "9/9 [==============================] - 0s 51ms/step - loss: 0.4916 - val_loss: 1.5296\n",
      "Epoch 88/10000\n",
      "9/9 [==============================] - 0s 47ms/step - loss: 0.4825 - val_loss: 1.6462\n",
      "Epoch 89/10000\n",
      "9/9 [==============================] - 0s 51ms/step - loss: 0.4519 - val_loss: 1.4083\n",
      "Epoch 90/10000\n",
      "9/9 [==============================] - 0s 53ms/step - loss: 0.4602 - val_loss: 1.5406\n",
      "Epoch 91/10000\n",
      "9/9 [==============================] - 0s 50ms/step - loss: 0.4401 - val_loss: 1.5009\n",
      "Epoch 92/10000\n",
      "9/9 [==============================] - 0s 51ms/step - loss: 0.4502 - val_loss: 1.3767\n",
      "Epoch 93/10000\n",
      "9/9 [==============================] - 0s 51ms/step - loss: 0.4420 - val_loss: 1.4075\n",
      "Epoch 94/10000\n",
      "9/9 [==============================] - 0s 45ms/step - loss: 0.4367 - val_loss: 1.4798\n",
      "Epoch 95/10000\n",
      "9/9 [==============================] - 0s 52ms/step - loss: 0.4343 - val_loss: 1.4814\n",
      "Epoch 96/10000\n",
      "9/9 [==============================] - 0s 49ms/step - loss: 0.4087 - val_loss: 1.2707\n",
      "Epoch 97/10000\n",
      "9/9 [==============================] - 0s 48ms/step - loss: 0.4333 - val_loss: 1.1605\n",
      "Epoch 98/10000\n",
      "9/9 [==============================] - 0s 50ms/step - loss: 0.4087 - val_loss: 1.4164\n",
      "Epoch 99/10000\n",
      "9/9 [==============================] - 0s 49ms/step - loss: 0.4051 - val_loss: 1.2045\n",
      "Epoch 100/10000\n",
      "9/9 [==============================] - 0s 49ms/step - loss: 0.3982 - val_loss: 1.2994\n",
      "Epoch 101/10000\n",
      "9/9 [==============================] - 0s 49ms/step - loss: 0.3987 - val_loss: 1.3344\n",
      "Epoch 102/10000\n",
      "9/9 [==============================] - 0s 46ms/step - loss: 0.3922 - val_loss: 1.2078\n",
      "Epoch 103/10000\n",
      "9/9 [==============================] - 0s 47ms/step - loss: 0.3854 - val_loss: 1.1295\n",
      "Epoch 104/10000\n",
      "9/9 [==============================] - 0s 47ms/step - loss: 0.3751 - val_loss: 1.2073\n",
      "Epoch 105/10000\n",
      "9/9 [==============================] - 0s 49ms/step - loss: 0.3837 - val_loss: 1.0754\n",
      "Epoch 106/10000\n",
      "9/9 [==============================] - 0s 47ms/step - loss: 0.3693 - val_loss: 1.1230\n",
      "Epoch 107/10000\n",
      "9/9 [==============================] - 0s 46ms/step - loss: 0.3629 - val_loss: 1.1241\n",
      "Epoch 108/10000\n",
      "9/9 [==============================] - 0s 48ms/step - loss: 0.3599 - val_loss: 1.0683\n",
      "Epoch 109/10000\n",
      "9/9 [==============================] - 0s 50ms/step - loss: 0.3662 - val_loss: 1.1443\n",
      "Epoch 110/10000\n",
      "9/9 [==============================] - 0s 47ms/step - loss: 0.3622 - val_loss: 1.0848\n",
      "Epoch 111/10000\n",
      "9/9 [==============================] - 0s 48ms/step - loss: 0.3466 - val_loss: 1.1097\n",
      "Epoch 112/10000\n",
      "9/9 [==============================] - 0s 49ms/step - loss: 0.3532 - val_loss: 1.0331\n",
      "Epoch 113/10000\n",
      "9/9 [==============================] - 0s 54ms/step - loss: 0.3550 - val_loss: 1.0798\n",
      "Epoch 114/10000\n",
      "9/9 [==============================] - 0s 45ms/step - loss: 0.3330 - val_loss: 0.9523\n",
      "Epoch 115/10000\n",
      "9/9 [==============================] - 0s 48ms/step - loss: 0.3467 - val_loss: 1.1479\n",
      "Epoch 116/10000\n",
      "9/9 [==============================] - 0s 51ms/step - loss: 0.3402 - val_loss: 0.9684\n",
      "Epoch 117/10000\n",
      "9/9 [==============================] - 0s 48ms/step - loss: 0.3251 - val_loss: 1.0107\n",
      "Epoch 118/10000\n",
      "9/9 [==============================] - 0s 50ms/step - loss: 0.3267 - val_loss: 1.0294\n",
      "Epoch 119/10000\n",
      "9/9 [==============================] - 0s 49ms/step - loss: 0.3309 - val_loss: 1.0449\n",
      "Epoch 120/10000\n",
      "9/9 [==============================] - 0s 50ms/step - loss: 0.3177 - val_loss: 1.0831\n",
      "Epoch 121/10000\n",
      "9/9 [==============================] - 0s 50ms/step - loss: 0.3204 - val_loss: 1.0422\n",
      "Epoch 122/10000\n",
      "9/9 [==============================] - 0s 48ms/step - loss: 0.3232 - val_loss: 0.9040\n",
      "Epoch 123/10000\n",
      "9/9 [==============================] - 0s 51ms/step - loss: 0.3184 - val_loss: 0.9144\n",
      "Epoch 124/10000\n",
      "9/9 [==============================] - 0s 54ms/step - loss: 0.3159 - val_loss: 0.9782\n",
      "Epoch 125/10000\n",
      "9/9 [==============================] - 0s 47ms/step - loss: 0.2953 - val_loss: 1.0334\n",
      "Epoch 126/10000\n",
      "9/9 [==============================] - 0s 44ms/step - loss: 0.2954 - val_loss: 0.9663\n",
      "Epoch 127/10000\n",
      "9/9 [==============================] - 0s 47ms/step - loss: 0.3067 - val_loss: 0.9748\n",
      "Epoch 128/10000\n",
      "9/9 [==============================] - 0s 48ms/step - loss: 0.3099 - val_loss: 1.0053\n",
      "Epoch 129/10000\n",
      "9/9 [==============================] - 0s 47ms/step - loss: 0.2935 - val_loss: 1.0519\n",
      "Epoch 130/10000\n",
      "9/9 [==============================] - 0s 49ms/step - loss: 0.3016 - val_loss: 0.9547\n",
      "Epoch 131/10000\n",
      "9/9 [==============================] - 0s 48ms/step - loss: 0.3086 - val_loss: 0.9350\n",
      "Epoch 132/10000\n",
      "9/9 [==============================] - 0s 47ms/step - loss: 0.2873 - val_loss: 0.8677\n",
      "Epoch 133/10000\n",
      "9/9 [==============================] - 0s 51ms/step - loss: 0.2969 - val_loss: 0.8590\n",
      "Epoch 134/10000\n",
      "9/9 [==============================] - 0s 48ms/step - loss: 0.2838 - val_loss: 0.9038\n",
      "Epoch 135/10000\n",
      "9/9 [==============================] - 0s 49ms/step - loss: 0.2786 - val_loss: 0.8394\n",
      "Epoch 136/10000\n",
      "9/9 [==============================] - 0s 49ms/step - loss: 0.2866 - val_loss: 0.8806\n",
      "Epoch 137/10000\n",
      "9/9 [==============================] - 0s 49ms/step - loss: 0.2732 - val_loss: 0.8758\n",
      "Epoch 138/10000\n",
      "9/9 [==============================] - 0s 48ms/step - loss: 0.3111 - val_loss: 0.9270\n",
      "Epoch 139/10000\n",
      "9/9 [==============================] - 0s 51ms/step - loss: 0.2838 - val_loss: 0.7192\n",
      "Epoch 140/10000\n",
      "9/9 [==============================] - 0s 47ms/step - loss: 0.2798 - val_loss: 0.8785\n",
      "Epoch 141/10000\n",
      "9/9 [==============================] - 0s 48ms/step - loss: 0.2642 - val_loss: 0.8095\n",
      "Epoch 142/10000\n",
      "9/9 [==============================] - 0s 56ms/step - loss: 0.2787 - val_loss: 0.8641\n",
      "Epoch 143/10000\n",
      "9/9 [==============================] - 1s 67ms/step - loss: 0.2811 - val_loss: 0.8296\n",
      "Epoch 144/10000\n",
      "9/9 [==============================] - 0s 49ms/step - loss: 0.2766 - val_loss: 0.8314\n",
      "Epoch 145/10000\n",
      "9/9 [==============================] - 0s 52ms/step - loss: 0.2548 - val_loss: 0.7706\n",
      "Epoch 146/10000\n",
      "9/9 [==============================] - 0s 50ms/step - loss: 0.2540 - val_loss: 0.7567\n",
      "Epoch 147/10000\n",
      "9/9 [==============================] - 0s 56ms/step - loss: 0.2568 - val_loss: 0.7814\n",
      "Epoch 148/10000\n",
      "9/9 [==============================] - 0s 51ms/step - loss: 0.2490 - val_loss: 0.7913\n",
      "Epoch 149/10000\n",
      "9/9 [==============================] - 0s 50ms/step - loss: 0.2697 - val_loss: 0.8692\n",
      "Epoch 150/10000\n",
      "9/9 [==============================] - 0s 48ms/step - loss: 0.2678 - val_loss: 0.7657\n",
      "Epoch 151/10000\n",
      "9/9 [==============================] - 0s 48ms/step - loss: 0.2463 - val_loss: 0.7965\n",
      "Epoch 152/10000\n",
      "9/9 [==============================] - 0s 45ms/step - loss: 0.2537 - val_loss: 0.7493\n",
      "Epoch 153/10000\n",
      "9/9 [==============================] - 0s 48ms/step - loss: 0.2466 - val_loss: 0.8142\n",
      "Epoch 154/10000\n",
      "9/9 [==============================] - 0s 51ms/step - loss: 0.2692 - val_loss: 0.7545\n",
      "Epoch 155/10000\n",
      "9/9 [==============================] - 0s 54ms/step - loss: 0.2498 - val_loss: 0.8117\n",
      "Epoch 156/10000\n",
      "9/9 [==============================] - 1s 55ms/step - loss: 0.2492 - val_loss: 0.8621\n",
      "Epoch 157/10000\n",
      "9/9 [==============================] - 0s 55ms/step - loss: 0.2413 - val_loss: 0.7381\n",
      "Epoch 158/10000\n",
      "9/9 [==============================] - 0s 46ms/step - loss: 0.2410 - val_loss: 0.8021\n",
      "Epoch 159/10000\n",
      "9/9 [==============================] - 0s 48ms/step - loss: 0.2455 - val_loss: 0.7721\n"
     ]
    },
    {
     "data": {
      "text/plain": [
       "<tensorflow.python.keras.callbacks.History at 0x1a13351b588>"
      ]
     },
     "execution_count": 20,
     "metadata": {},
     "output_type": "execute_result"
    }
   ],
   "source": [
    "oPredictiveModel.fit(\n",
    "    aInputTrain, \n",
    "    aOutputTrain, \n",
    "    epochs=iEpochSize, \n",
    "    batch_size=iBatchSize, \n",
    "    verbose=1, \n",
    "    validation_data= (aInputValidation, aOutputValidation),\n",
    "    validation_batch_size= iBatchSize,\n",
    "    callbacks=[oEarlyStop]\n",
    ")"
   ]
  },
  {
   "cell_type": "markdown",
   "id": "680ac53a",
   "metadata": {},
   "source": [
    "### Save Model"
   ]
  },
  {
   "cell_type": "code",
   "execution_count": 21,
   "id": "e8f88fe1",
   "metadata": {},
   "outputs": [],
   "source": [
    "oPredictiveModel.save_weights(sModelName)"
   ]
  },
  {
   "cell_type": "code",
   "execution_count": 22,
   "id": "141bb9fc",
   "metadata": {},
   "outputs": [
    {
     "data": {
      "text/plain": [
       "<matplotlib.axes._subplots.AxesSubplot at 0x1a204892348>"
      ]
     },
     "execution_count": 22,
     "metadata": {},
     "output_type": "execute_result"
    },
    {
     "data": {
      "image/png": "[encoded data removed]",
      "text/plain": [
       "<Figure size 432x288 with 1 Axes>"
      ]
     },
     "metadata": {
      "needs_background": "light"
     },
     "output_type": "display_data"
    }
   ],
   "source": [
    "pd.DataFrame(oPredictiveModel.history.history).plot()"
   ]
  },
  {
   "cell_type": "markdown",
   "id": "75633cc0",
   "metadata": {},
   "source": [
    "## Test"
   ]
  },
  {
   "cell_type": "code",
   "execution_count": 23,
   "id": "4d372e80",
   "metadata": {},
   "outputs": [],
   "source": [
    "oPredictiveModel.load_weights(sModelName)\n",
    "\n",
    "aPrediction = oPredictiveModel.predict(aInputTest)\n",
    "aPrediction = aPrediction.reshape((-1, iForwardTimeWindow * iNrOutputFeatures))\n",
    "dfPrediction = pd.DataFrame(aPrediction, index = ixTest, columns = ixOutputColums)\n",
    "\n",
    "aActual = aOutputTest.reshape((-1, iForwardTimeWindow * iNrOutputFeatures))\n",
    "dfActual =  pd.DataFrame(aActual, index = ixTest, columns = ixOutputColums)\n",
    "\n",
    "for sOutputFeature in aOutputFeatures:\n",
    "    sScalerFilePath = os.path.join(sModelName , \"__scalers__\")\n",
    "    sScalerFilePath = os.path.join(sScalerFilePath , sOutputFeature + \".sav\")\n",
    "    oScaler = pickle.load(open(sScalerFilePath, 'rb'))\n",
    "    \n",
    "    tplMaskFeature = (slice(None), slice(sOutputFeature))\n",
    "    \n",
    "    dfPrediction.loc[:,tplMaskFeature] = oScaler.inverse_transform(dfPrediction.loc[:, tplMaskFeature])\n",
    "    dfActual.loc[:, tplMaskFeature] =  oScaler.inverse_transform(dfActual.loc[:, tplMaskFeature])"
   ]
  },
  {
   "cell_type": "markdown",
   "id": "c8cf6922",
   "metadata": {},
   "source": [
    "# RESULTS"
   ]
  },
  {
   "cell_type": "code",
   "execution_count": 24,
   "id": "99cf53a7",
   "metadata": {},
   "outputs": [],
   "source": [
    "iComparisionTimeStep = 1\n",
    "iFrom = 15 * iForwardTimeWindow\n",
    "iTo = iFrom + iForwardTimeWindow"
   ]
  },
  {
   "cell_type": "code",
   "execution_count": 25,
   "id": "5f8f2409",
   "metadata": {
    "scrolled": true
   },
   "outputs": [
    {
     "name": "stdout",
     "output_type": "stream",
     "text": [
      "Metrics for regression:\n",
      "      mean absolute error:                0.181\n",
      "       mean squared error:                0.042\n",
      "                max error:                0.424\n",
      "                 r2 score:               -0.181\n"
     ]
    }
   ],
   "source": [
    "y_pred = dfPrediction.iloc[:, iComparisionTimeStep]\n",
    "y_true = dfActual.iloc[:, iComparisionTimeStep]\n",
    "aMetrics = [\n",
    "        ('mean absolute error', mean_absolute_error(y_true, y_pred)),\n",
    "        ('mean squared error', mean_squared_error(y_true, y_pred)),\n",
    "        ('max error', max_error(y_true, y_pred)),\n",
    "        ('r2 score', r2_score(y_true, y_pred))\n",
    "    ]\n",
    "\n",
    "print('Metrics for regression:')\n",
    "for metric_name, metric_value in aMetrics:\n",
    "    print(f'{metric_name:>25s}: {metric_value: >20.3f}')"
   ]
  },
  {
   "cell_type": "code",
   "execution_count": 26,
   "id": "245d4b4b",
   "metadata": {},
   "outputs": [
    {
     "data": {
      "text/plain": [
       "<matplotlib.axes._subplots.AxesSubplot at 0x1a2051c42c8>"
      ]
     },
     "execution_count": 26,
     "metadata": {},
     "output_type": "execute_result"
    },
    {
     "data": {
      "image/png": "[encoded data removed]",
      "text/plain": [
       "<Figure size 432x288 with 1 Axes>"
      ]
     },
     "metadata": {
      "needs_background": "light"
     },
     "output_type": "display_data"
    }
   ],
   "source": [
    "dfTestComparision = pd.DataFrame(dfPrediction.iloc[:,iComparisionTimeStep])\n",
    "dfTestComparision = dfTestComparision.join(dfActual.iloc[:,iComparisionTimeStep], how = \"inner\", lsuffix=\"prediction\")\n",
    "dfTestComparision.columns = [\"Prediction\", \"Actual\"]\n",
    "\n",
    "sns.scatterplot(data = dfTestComparision, x = \"Actual\", y =\"Prediction\")"
   ]
  },
  {
   "cell_type": "code",
   "execution_count": 27,
   "id": "f2db4bfc",
   "metadata": {},
   "outputs": [
    {
     "name": "stdout",
     "output_type": "stream",
     "text": [
      "-43.192993945734074\n"
     ]
    },
    {
     "data": {
      "text/plain": [
       "<matplotlib.axes._subplots.AxesSubplot at 0x1a20a153988>"
      ]
     },
     "execution_count": 27,
     "metadata": {},
     "output_type": "execute_result"
    },
    {
     "data": {
      "image/png": "[encoded data removed]",
      "text/plain": [
       "<Figure size 432x288 with 1 Axes>"
      ]
     },
     "metadata": {
      "needs_background": "light"
     },
     "output_type": "display_data"
    }
   ],
   "source": [
    "dfStepComparision = dfActual.iloc[iFrom:iTo].loc[:, (slice(None), slice(sOutputFeature))].loc[:, 0]\n",
    "dfStepComparision.columns = [\"Actual\"]\n",
    "\n",
    "dfStepComparision[\"Prediction\"] = dfPrediction.iloc[iFrom].loc[:, aOutputFeatures].values\n",
    "\n",
    "print(r2_score(dfStepComparision[\"Actual\"], dfStepComparision[\"Prediction\"]))\n",
    "sns.lineplot(data = dfStepComparision)"
   ]
  },
  {
   "cell_type": "code",
   "execution_count": 28,
   "id": "f9847276",
   "metadata": {},
   "outputs": [
    {
     "data": {
      "text/plain": [
       "<matplotlib.axes._subplots.AxesSubplot at 0x1a20b46e888>"
      ]
     },
     "execution_count": 28,
     "metadata": {},
     "output_type": "execute_result"
    },
    {
     "data": {
      "image/png": "[encoded data removed]",
      "text/plain": [
       "<Figure size 432x288 with 1 Axes>"
      ]
     },
     "metadata": {
      "needs_background": "light"
     },
     "output_type": "display_data"
    }
   ],
   "source": [
    "sns.lineplot(data = dfTestComparision[\"Actual\"])"
   ]
  },
  {
   "cell_type": "code",
   "execution_count": 29,
   "id": "2d3a8b77",
   "metadata": {},
   "outputs": [
    {
     "data": {
      "text/plain": [
       "<matplotlib.axes._subplots.AxesSubplot at 0x1a20b4867c8>"
      ]
     },
     "execution_count": 29,
     "metadata": {},
     "output_type": "execute_result"
    },
    {
     "data": {
      "image/png": "[encoded data removed]",
      "text/plain": [
       "<Figure size 432x288 with 1 Axes>"
      ]
     },
     "metadata": {
      "needs_background": "light"
     },
     "output_type": "display_data"
    }
   ],
   "source": [
    "sns.lineplot(data = dfTestComparision[\"Prediction\"])"
   ]
  },
  {
   "cell_type": "markdown",
   "id": "75ca3ab0",
   "metadata": {},
   "source": [
    "# REFERENCES"
   ]
  },
  {
   "cell_type": "markdown",
   "id": "49501761",
   "metadata": {},
   "source": [
    "https://www.tensorflow.org/guide/keras/train_and_evaluate#passing_data_to_multi-input_multi-output_models\n",
    "\n",
    "https://www.tensorflow.org/guide/keras/writing_a_training_loop_from_scratch/\n",
    "\n",
    "https://www.tensorflow.org/guide/keras/customizing_what_happens_in_fit/\n",
    "\n",
    "https://towardsdatascience.com/customize-loss-function-to-make-lstm-model-more-applicable-in-stock-price-prediction-b1c50e50b16c\n",
    "\n",
    "https://keras.io/getting_started/faq/\n",
    "\n",
    "https://machinelearningmastery.com/how-to-develop-lstm-models-for-multi-step-time-series-forecasting-of-household-power-consumption/\n",
    "\n",
    "https://www.tensorflow.org/tutorials/structured_data/time_series\n",
    "\n",
    "https://towardsdatascience.com/encoder-decoder-model-for-multistep-time-series-forecasting-using-pytorch-5d54c6af6e60\n",
    "\n",
    "https://levelup.gitconnected.com/building-seq2seq-lstm-with-luong-attention-in-keras-for-time-series-forecasting-1ee00958decb"
   ]
  }
 ],
 "metadata": {
  "kernelspec": {
   "display_name": "Python 3",
   "language": "python",
   "name": "python3"
  },
  "language_info": {
   "codemirror_mode": {
    "name": "ipython",
    "version": 3
   },
   "file_extension": ".py",
   "mimetype": "text/x-python",
   "name": "python",
   "nbconvert_exporter": "python",
   "pygments_lexer": "ipython3",
   "version": "3.7.10"
  },
  "varInspector": {
   "cols": {
    "lenName": 16,
    "lenType": 16,
    "lenVar": 40
   },
   "kernels_config": {
    "python": {
     "delete_cmd_postfix": "",
     "delete_cmd_prefix": "del ",
     "library": "var_list.py",
     "varRefreshCmd": "print(var_dic_list())"
    },
    "r": {
     "delete_cmd_postfix": ") ",
     "delete_cmd_prefix": "rm(",
     "library": "var_list.r",
     "varRefreshCmd": "cat(var_dic_list()) "
    }
   },
   "types_to_exclude": [
    "module",
    "function",
    "builtin_function_or_method",
    "instance",
    "_Feature"
   ],
   "window_display": false
  }
 },
 "nbformat": 4,
 "nbformat_minor": 5
}
