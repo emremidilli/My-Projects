{
 "cells": [
  {
   "cell_type": "markdown",
   "id": "3ef19d40-3a1d-45be-a2f2-908b943ba60b",
   "metadata": {
    "tags": []
   },
   "source": [
    "# Libraries"
   ]
  },
  {
   "cell_type": "code",
   "execution_count": 1,
   "id": "f2f99170-b865-4a0f-bf32-8cee94acf421",
   "metadata": {},
   "outputs": [],
   "source": [
    "import pandas as pd\n",
    "import seaborn as sns\n",
    "import matplotlib.pyplot as plt\n",
    "from matplotlib import cm\n",
    "import numpy as np"
   ]
  },
  {
   "cell_type": "code",
   "execution_count": 2,
   "id": "09683090-74b6-4876-8f88-948ccb09620b",
   "metadata": {},
   "outputs": [],
   "source": [
    "pd.set_option('display.max_rows', 400) #replace n with the number of rows you want to see completely"
   ]
  },
  {
   "cell_type": "markdown",
   "id": "9d08414d-a114-4935-b79b-13b0e0d85bbc",
   "metadata": {
    "tags": []
   },
   "source": [
    "# Datasets"
   ]
  },
  {
   "cell_type": "code",
   "execution_count": 3,
   "id": "10da0cf8-3674-41a7-a5ff-efe57faea3b9",
   "metadata": {},
   "outputs": [],
   "source": [
    "aCryptoCurrencies = pd.read_csv('Data\\cryptocurrencies.csv')['Symbol'].values"
   ]
  },
  {
   "cell_type": "code",
   "execution_count": 4,
   "id": "9291f5c3-ac1a-4cec-8a26-462d2f2842d5",
   "metadata": {},
   "outputs": [],
   "source": [
    "aModelTypes = pd.read_csv('Data\\model types.csv')['Model Type'].values"
   ]
  },
  {
   "cell_type": "code",
   "execution_count": 5,
   "id": "ca8e9a8d-4460-49a1-9cb6-1b18425478af",
   "metadata": {},
   "outputs": [],
   "source": [
    "dfOhlc = pd.read_csv('Data\\dfOhlc.csv')\n",
    "dfOhlc['timestamp'] = pd.DatetimeIndex(dfOhlc['timestamp'])\n",
    "dfOhlc.set_index('timestamp', inplace=True)"
   ]
  },
  {
   "cell_type": "markdown",
   "id": "578a8c3f-d540-4cdb-8aca-44383eaee87e",
   "metadata": {
    "jp-MarkdownHeadingCollapsed": true,
    "tags": []
   },
   "source": [
    "# Descriptive Statistics"
   ]
  },
  {
   "cell_type": "raw",
   "id": "c57c78b3-585f-4ac8-aabc-39fa7cb58307",
   "metadata": {},
   "source": [
    "dfDescriptiveStats = dfOhlc.filter(regex=':close').describe().round(2)"
   ]
  },
  {
   "cell_type": "raw",
   "id": "653afa7f-a9b5-46ef-8dd7-0e9ccca5ae98",
   "metadata": {},
   "source": [
    "dfDescriptiveStats.columns = dfDescriptiveStats.columns.str.replace(r\":close\", \"\")"
   ]
  },
  {
   "cell_type": "raw",
   "id": "d482387c-7710-4557-bdc9-cd488a05594c",
   "metadata": {},
   "source": [
    "dfDescriptiveStats[aCryptoCurrencies]"
   ]
  },
  {
   "cell_type": "markdown",
   "id": "4bdb3554-d13f-4d3f-87a1-90905891dc20",
   "metadata": {
    "jp-MarkdownHeadingCollapsed": true,
    "tags": []
   },
   "source": [
    "# Experiments of Full Factorial Design"
   ]
  },
  {
   "cell_type": "raw",
   "id": "a47e7da8-8b8c-4b55-9bf6-0e96216a293b",
   "metadata": {},
   "source": [
    "\n",
    "sDesignType = 'Full Factorial Design'\n",
    "dfResponses = pd.DataFrame()\n",
    "for sModelType in aModelTypes:\n",
    "    for sSymbol in aCryptoCurrencies:\n",
    "            sExperimentsFilePath = 'Data\\\\' + sSymbol +'\\\\'+ sModelType + '\\\\'+ sDesignType + '\\\\Experiments.csv'\n",
    "            dfExperiments =  pd.read_csv(sExperimentsFilePath, index_col = 'Run ID')\n",
    "            dfExperiments['Model Type'] = sModelType\n",
    "            dfExperiments['Exchange Rate'] = sSymbol\n",
    "            dfResponses = dfResponses.append(dfExperiments)\n",
    "dfResponses['Response'] = round(dfResponses['Response'],2)\n",
    "dfResponses[list(dfResponses.iloc[:, -2:].columns) +list(dfResponses.iloc[:, :-2].columns)]\n"
   ]
  },
  {
   "cell_type": "markdown",
   "id": "1c2d857e-c7c8-4b87-abe5-417417335c87",
   "metadata": {
    "jp-MarkdownHeadingCollapsed": true,
    "tags": []
   },
   "source": [
    "# Coefficient of Determination of 1st Order Models of 1st Order Models"
   ]
  },
  {
   "cell_type": "raw",
   "id": "a0f837cb-ac51-4c99-9e30-704ac514dd86",
   "metadata": {},
   "source": [
    "sDesignType = 'Steepest Descent'\n",
    "dfTable = pd.DataFrame(columns = aModelTypes, index  = aCryptoCurrencies)\n",
    "for sModelType in aModelTypes:\n",
    "    for sSymbol in aCryptoCurrencies:\n",
    "        sPerformancePath = 'Data\\\\' + sSymbol +'\\\\'+ sModelType + '\\\\'+ sDesignType + '\\\\dfPerformance.csv'\n",
    "        dfPerformances =  pd.read_csv(sPerformancePath, index_col = 'Score')\n",
    "        \n",
    "        fRegressionScore = round(float(dfPerformances.loc['Regression Score','Value']),2)\n",
    "        \n",
    "        dfTable.loc[sSymbol,sModelType ] = fRegressionScore"
   ]
  },
  {
   "cell_type": "raw",
   "id": "ef276aa9-a63e-467d-bdfe-7bef5dd96abe",
   "metadata": {},
   "source": [
    "dfTable"
   ]
  },
  {
   "cell_type": "markdown",
   "id": "ba9748fc-3eb6-4a9d-a7d4-194f509de931",
   "metadata": {
    "jp-MarkdownHeadingCollapsed": true,
    "tags": []
   },
   "source": [
    "# Coefficient of Determination of 2nd Order Models"
   ]
  },
  {
   "cell_type": "raw",
   "id": "20f4a5fc-60a1-49a6-9a8c-7108d50a13ff",
   "metadata": {},
   "source": [
    "sDesignType = 'Response Surface Method'\n",
    "dfTable = pd.DataFrame(columns = aModelTypes, index  = aCryptoCurrencies)\n",
    "for sModelType in aModelTypes:\n",
    "    for sSymbol in aCryptoCurrencies:\n",
    "        sPerformancePath = 'Data\\\\' + sSymbol +'\\\\'+ sModelType + '\\\\'+ sDesignType + '\\\\dfPerformance.csv'\n",
    "        dfPerformances =  pd.read_csv(sPerformancePath, index_col = 'Performance')\n",
    "        \n",
    "        fRegressionScore = round(float(dfPerformances.loc['Regression Score','Value']),2)\n",
    "        \n",
    "        dfTable.loc[sSymbol, sModelType ] = fRegressionScore"
   ]
  },
  {
   "cell_type": "raw",
   "id": "8497e06f-cdf9-4659-97b4-09740fa9ef61",
   "metadata": {},
   "source": [
    "dfTable"
   ]
  },
  {
   "cell_type": "markdown",
   "id": "c58836a1-031c-4600-8d4f-2351798fe951",
   "metadata": {
    "tags": []
   },
   "source": [
    "# Bubbe Plot of Steepest Descent Process"
   ]
  },
  {
   "cell_type": "raw",
   "id": "3b5f9038-eb3c-4dd5-aae9-232a963090c6",
   "metadata": {},
   "source": [
    "iNrOfCols = len(aModelTypes) \n",
    "iNrOfRows = len(aCryptoCurrencies)\n",
    "oFig, aAxises = plt.subplots(iNrOfRows, iNrOfCols, figsize=(20,20),sharex = True, sharey = True)\n",
    "oFig.tight_layout()\n",
    "\n",
    "j = 0\n",
    "for sSymbol in aCryptoCurrencies:\n",
    "    for sModelType in aModelTypes:\n",
    "        sExperimentsPath = 'Data\\\\' + sSymbol +'\\\\'+ sModelType + '\\\\Steepest Descent\\\\Experiments.csv'\n",
    "        dfExperiments =  pd.read_csv(sExperimentsPath, index_col = 'Run ID')\n",
    "\n",
    "        dfExperiments['Response'] =round(dfExperiments['Response'], 1)\n",
    "        dfExperiments['Inverse_Response'] = 1/dfExperiments['Response']\n",
    "\n",
    "        iSampleGraphRow =  int(j/iNrOfCols)\n",
    "        iSampleGraphCol = int(j%iNrOfCols)\n",
    "\n",
    "        sns.set(rc = {'figure.figsize':(20,8)})\n",
    "        sns.set_style('white')\n",
    "        oLinePlot = sns.scatterplot(data = dfExperiments, \n",
    "                     x = 'Batch Size', \n",
    "                     y = 'Number of Hidden Neurons', \n",
    "                    size = 'Inverse_Response',\n",
    "                                    sizes=(20, 400),\n",
    "                                    legend = False,\n",
    "                    ax =aAxises[iSampleGraphRow,iSampleGraphCol])\n",
    "\n",
    "        oLinePlot.set_title(sModelType + ';' + sSymbol )\n",
    "\n",
    "\n",
    "        for i in range(0, dfExperiments.shape[0]):\n",
    "            iRunId = dfExperiments.iloc[i].name\n",
    "            iX = dfExperiments.iloc[i].loc['Batch Size']\n",
    "            iY = dfExperiments.iloc[i].loc['Number of Hidden Neurons']\n",
    "            fResponse =round(dfExperiments.iloc[i].loc['Response'],1)\n",
    "            sTextToAnnotate =  'iteration # '+ str(iRunId) + ': ' + str(fResponse)\n",
    "            oLinePlot.annotate(xy = (iX,iY), text=sTextToAnnotate)\n",
    "\n",
    "\n",
    "        j = j + 1"
   ]
  },
  {
   "cell_type": "markdown",
   "id": "cd5a8a9d-fa27-452f-ba2f-67bc43d68f6d",
   "metadata": {
    "tags": []
   },
   "source": [
    "# Surface Plot of Grid Search"
   ]
  },
  {
   "cell_type": "raw",
   "id": "e584b13e-7106-480d-aa31-62a198feaf66",
   "metadata": {},
   "source": [
    "iNrOfCols = len(aModelTypes) \n",
    "iNrOfRows = len(aCryptoCurrencies)\n",
    "oFig, aAxises = plt.subplots(iNrOfRows, iNrOfCols, figsize=(20,20),subplot_kw=dict(projection='3d')) #sharex = True, sharey = True \n",
    "oFig.tight_layout()\n",
    "\n",
    "plt.subplots_adjust(left=None, bottom=None, right=None, top=None, wspace=0, hspace=0.2)\n",
    "j = 0\n",
    "for sSymbol in aCryptoCurrencies:\n",
    "    for sModelType in aModelTypes:\n",
    "        sExperimentsPath = 'Data\\\\' + sSymbol +'\\\\'+ sModelType + '\\\\Response Surface Method\\\\Grid Search.csv'\n",
    "        dfGridResearch =  pd.read_csv(sExperimentsPath, index_col = 'Run ID')\n",
    "\n",
    "        dfGridResearch['Response'] =round(dfGridResearch['Response'], 1)\n",
    "        dfGridResearch['Inverse_Response'] = 1/dfGridResearch['Response']\n",
    "\n",
    "        iSampleGraphRow =  int(j/iNrOfCols)\n",
    "        iSampleGraphCol = int(j%iNrOfCols)\n",
    "        \n",
    "        sns.set(rc = {'figure.figsize':(20,8)})\n",
    "        sns.set_style('white')\n",
    "        \n",
    "        \n",
    "        X = dfGridResearch.iloc[:, 0]\n",
    "        Y = dfGridResearch.iloc[:, 1]\n",
    "        Z =dfGridResearch['Response'] \n",
    "        \n",
    "        aAxises[iSampleGraphRow, iSampleGraphCol].plot_trisurf(\n",
    "            X, \n",
    "            Y, \n",
    "            Z, \n",
    "            linewidth=0, \n",
    "            antialiased=False,\n",
    "            cmap='gist_gray'\n",
    "        )\n",
    "        \n",
    "        aAxises[iSampleGraphRow, iSampleGraphCol].set_xlabel(X.name)\n",
    "        aAxises[iSampleGraphRow, iSampleGraphCol].set_ylabel(Y.name)\n",
    "        aAxises[iSampleGraphRow, iSampleGraphCol].set_zlabel(Z.name)\n",
    "        aAxises[iSampleGraphRow, iSampleGraphCol].grid(False)\n",
    "        \n",
    "        aAxises[iSampleGraphRow, iSampleGraphCol].set_title(sModelType + ';' + sSymbol )\n",
    "\n",
    "        j = j + 1"
   ]
  },
  {
   "cell_type": "markdown",
   "id": "ced1306a-4847-46b6-b0d0-2190f22467ce",
   "metadata": {
    "jp-MarkdownHeadingCollapsed": true,
    "tags": []
   },
   "source": [
    "# Experiments of Central Composite Design"
   ]
  },
  {
   "cell_type": "raw",
   "id": "48b8d3ec-ac5a-45f5-8a04-cb48857c7b8e",
   "metadata": {},
   "source": [
    "sDesignType = 'Central Composite Design'\n",
    "dfResponses = pd.DataFrame()\n",
    "for sModelType in aModelTypes:\n",
    "    for sSymbol in aCryptoCurrencies:\n",
    "            sExperimentsFilePath = 'Data\\\\' + sSymbol +'\\\\'+ sModelType + '\\\\'+ sDesignType + '\\\\Experiments.csv'\n",
    "            dfExperiments =  pd.read_csv(sExperimentsFilePath, index_col = 'Run ID')\n",
    "            dfExperiments['Model Type'] = sModelType\n",
    "            dfExperiments['Exchange Rate'] = sSymbol\n",
    "            dfResponses = dfResponses.append(dfExperiments)\n",
    "dfResponses['Response'] = round(dfResponses['Response'],2)\n",
    "\n",
    "dfResponses[list(dfResponses.iloc[:, -2:].columns) +list(dfResponses.iloc[:, :-2].columns)]"
   ]
  },
  {
   "cell_type": "markdown",
   "id": "cb4e8f1f-996e-40a2-a5ef-0d94991ff04b",
   "metadata": {
    "jp-MarkdownHeadingCollapsed": true,
    "tags": []
   },
   "source": [
    "# Optimum Configurations via RSM"
   ]
  },
  {
   "cell_type": "raw",
   "id": "bfced3c8-6cdc-43fc-ac37-e580a89c8594",
   "metadata": {},
   "source": [
    "dfTable = pd.DataFrame(columns = aModelTypes, index  = aCryptoCurrencies)\n",
    "for sModelType in aModelTypes:\n",
    "    for sSymbol in aCryptoCurrencies:\n",
    "        sPerformancePath = 'Data\\\\' + sSymbol +'\\\\'+ sModelType + '\\\\Response Surface Method\\\\dfPerformance.csv'\n",
    "        dfPerformances =  pd.read_csv(sPerformancePath, index_col = 'Performance')\n",
    "        \n",
    "        aHyperparameterNames = dfPerformances.loc['Hyperparameter Names','Value']\n",
    "        aOptimumHyperparameters = dfPerformances.loc['Optimum Hyperparameters','Value'].replace('.0', '')\n",
    "        \n",
    "        dfTable.loc[sSymbol, sModelType] = aOptimumHyperparameters"
   ]
  },
  {
   "cell_type": "raw",
   "id": "71fd0250-f5f8-4c8a-bbf1-e7f038c57127",
   "metadata": {},
   "source": [
    "dfTable"
   ]
  },
  {
   "cell_type": "markdown",
   "id": "098e614c-d07c-4e98-beab-c6336746a4c2",
   "metadata": {
    "jp-MarkdownHeadingCollapsed": true,
    "tags": []
   },
   "source": [
    "# Test Results of Optimum Configurations via RSM"
   ]
  },
  {
   "cell_type": "raw",
   "id": "87ad7504-a9b1-43ee-af5f-61a84f11cba5",
   "metadata": {},
   "source": [
    "dfTable = pd.DataFrame(columns = aModelTypes, index  = aCryptoCurrencies)\n",
    "for sModelType in aModelTypes:\n",
    "    for sSymbol in aCryptoCurrencies:\n",
    "        sExperimentsPath = 'Data\\\\' + sSymbol +'\\\\'+ sModelType + '\\\\Optimum Design\\\\Experiments.csv'\n",
    "        \n",
    "        dfExperiments =  pd.read_csv(sExperimentsPath, index_col = 'Run ID')\n",
    "\n",
    "        dfTable.loc[sSymbol, sModelType] = dfExperiments.loc[0, 'Response']"
   ]
  },
  {
   "cell_type": "raw",
   "id": "93d1ef9a-ac38-4060-86d5-15b1ac42edc5",
   "metadata": {},
   "source": [
    "dfTable"
   ]
  },
  {
   "cell_type": "markdown",
   "id": "560d2415-0080-4834-a999-329d8e45dfc3",
   "metadata": {
    "tags": []
   },
   "source": [
    "# Average Custom Metrics of Simulation Predictions via DOE"
   ]
  },
  {
   "cell_type": "raw",
   "id": "06fc94c5-6433-424e-8258-329f72543a3e",
   "metadata": {},
   "source": [
    "dfTable = pd.DataFrame(index  = aCryptoCurrencies)\n",
    "dfTable.index.name = 'Exchange Rate'\n",
    "for sExchangeRate in aCryptoCurrencies:\n",
    "    sSimulationFolderPath = 'Data/'+ sExchangeRate +'//Simulation//'\n",
    "    dfActualReturnCombinations = pd.read_csv(sSimulationFolderPath + 'dfActualReturnCombinations.csv', index_col = 'timestamp')\n",
    "    dfPredictionReturnCombinations = pd.read_csv(sSimulationFolderPath + 'dfPredictionReturnCombinations.csv', index_col = 'timestamp')\n",
    "    \n",
    "    dfTable.loc[sExchangeRate,'Custom Metric'] = Calculate_Metrics.fCalculateCustomMetric(dfActualReturnCombinations, dfPredictionReturnCombinations)\n",
    "    \n",
    "plt.figure(figsize=(20,8))\n",
    "sns.set_style('white')\n",
    "sns.barplot(data = dfTable.reset_index(), x = 'Exchange Rate', y = 'Custom Metric')"
   ]
  },
  {
   "cell_type": "markdown",
   "id": "bc37b6db-9097-4ad9-a072-5b325ff8f7db",
   "metadata": {
    "tags": []
   },
   "source": [
    "# Multi-Step Comparison of ?????? Simulation"
   ]
  },
  {
   "cell_type": "raw",
   "id": "1d8c0ac8-b49e-4919-98a4-60848bdd0bd0",
   "metadata": {},
   "source": [
    "import math \n",
    "import Calculate_Metrics"
   ]
  },
  {
   "cell_type": "raw",
   "id": "2f17b643-80e2-4033-8c29-e63168048ce3",
   "metadata": {},
   "source": [
    "sExchangeRate = 'RPLUSD'\n",
    "\n",
    "sSimulationFolderPath = 'Data/'+ sExchangeRate +'//Simulation//'\n",
    "dfActualClose = pd.read_csv(sSimulationFolderPath + 'dfActualClose.csv', index_col = 'timestamp')\n",
    "dfPredictionClose = pd.read_csv(sSimulationFolderPath + 'dfPredictionClose.csv', index_col = 'timestamp')\n",
    "dfActualReturnCombinations = pd.read_csv(sSimulationFolderPath + 'dfActualReturnCombinations.csv', index_col = 'timestamp')\n",
    "dfPredictionReturnCombinations = pd.read_csv(sSimulationFolderPath + 'dfPredictionReturnCombinations.csv', index_col = 'timestamp')\n",
    "\n",
    "iForwardTimeWindow = dfActualClose.shape[1]\n",
    "aOutputFeatures = [sExchangeRate +':close']\n",
    "\n",
    "iNrOfCols = 4\n",
    "iNrOfRows = int(math.ceil(((len(dfActualClose)/iNrOfCols))))\n",
    "oFig, aAxises = plt.subplots(iNrOfRows, iNrOfCols, figsize=(20,20), sharex = True)\n",
    "oFig.tight_layout()\n",
    "\n",
    "\n",
    "for i in range(0, len(dfActualClose)):    \n",
    "    dfStepComparision =  pd.DataFrame(\n",
    "        columns =list(dfActualClose.columns), \n",
    "        index = ['Actual', 'Prediction']\n",
    "    )\n",
    "\n",
    "    dfStepComparision.loc['Actual'] = dfActualClose.iloc[i].values\n",
    "    dfStepComparision.loc['Prediction'] = dfPredictionClose.iloc[i].values\n",
    "    \n",
    "    dfStepComparision= dfStepComparision.transpose()\n",
    "    dfStepComparision.index.name = 'Time Step'\n",
    "\n",
    "    \n",
    "    fCustomMetric = Calculate_Metrics.fCalculateCustomMetric(dfActualReturnCombinations.iloc[i], \n",
    "                                                             dfPredictionReturnCombinations.iloc[i]\n",
    "                                                            )\n",
    "    sDateTime = dfActualClose.iloc[i].name\n",
    "    sTitleName = 'Sample #' + str(i) + '--' + str(sDateTime)+ '--Custom Metric:' + str(round(fCustomMetric,4))\n",
    "\n",
    "    iSampleGraphRow =  int(i/iNrOfCols)\n",
    "    iSampleGraphCol = int(i%iNrOfCols)    \n",
    "    \n",
    "    sns.lineplot(ax =aAxises[iSampleGraphRow,iSampleGraphCol] , data = dfStepComparision, legend = False,  marker = '^').set_title(sTitleName)\n",
    "    \n",
    "    \n",
    "\n",
    "oFig.legend(aAxises[0][0].lines, ['Actual', 'Actual'], frameon=False, loc='lower center', ncol=2,  bbox_to_anchor=(0.5,-0.05))\n",
    "\n",
    "\n",
    "# if aAxises.ndim == 2:\n",
    "#     for a, axs in enumerate(reversed(aAxises)):\n",
    "#         for b, ax in enumerate(reversed(axs)):\n",
    "#             if ax in aAxises.flat[i - (iNrOfCols * iNrOfRows):] :\n",
    "#                 # one can use get_lines(), get_images(), findobj() for the propose\n",
    "#                 ax.set_axis_off()\n",
    "#                 # now find the plot above\n",
    "#                 aAxises[-2-a][-1-b].xaxis.set_tick_params(which='both', labelbottom=True)\n",
    "#             else:\n",
    "#                 break # usually only the last few plots are empty, but delete this line if not the case"
   ]
  },
  {
   "cell_type": "markdown",
   "id": "2215684f-6418-4bcf-96c1-8b2ca782b024",
   "metadata": {
    "tags": []
   },
   "source": [
    "# ___"
   ]
  },
  {
   "cell_type": "code",
   "execution_count": 6,
   "id": "edd8cd8c-09ea-4cd3-9a49-12143100dc84",
   "metadata": {},
   "outputs": [
    {
     "name": "stderr",
     "output_type": "stream",
     "text": [
      "C:\\Users\\yunus\\AppData\\Local\\Continuum\\anaconda3\\envs\\tf-gpu\\lib\\site-packages\\deap\\creator.py:141: RuntimeWarning: A class named 'FitnessFunction' has already been created and it will be overwritten. Consider deleting previous creation of that class or rename it.\n",
      "  RuntimeWarning)\n",
      "C:\\Users\\yunus\\AppData\\Local\\Continuum\\anaconda3\\envs\\tf-gpu\\lib\\site-packages\\deap\\creator.py:141: RuntimeWarning: A class named 'Individual' has already been created and it will be overwritten. Consider deleting previous creation of that class or rename it.\n",
      "  RuntimeWarning)\n"
     ]
    }
   ],
   "source": [
    "import Calculate_Metrics\n",
    "import Optimize_Portfolio\n",
    "\n",
    "aTimeSteps = list(pd.read_csv('Data/'+ aCryptoCurrencies[0] +'//Simulation//' + 'dfPredictionClose.csv', index_col = 'timestamp').iloc[:, 1:].columns)\n",
    "\n",
    "decMaximumRisk = 0.25\n",
    "decInitialBalance = 100\n",
    "\n",
    "aIxSteps = [\n",
    "    '2022-03-09 08:30:00', \n",
    "    '2022-03-09 10:00:00', \n",
    "    '2022-03-09 11:30:00'\n",
    "]\n",
    "\n",
    "aSimulationProfits = pd.DataFrame(\n",
    "    index = aIxSteps,\n",
    "    columns = ['Expected', 'Realized']\n",
    ")\n",
    "\n",
    "decRealizedBalance = decInitialBalance\n",
    "decExpectedBalance = decInitialBalance\n",
    "for ixStep in aIxSteps:\n",
    "    dfExpectedPricesClose = pd.DataFrame(index = aCryptoCurrencies, columns = aTimeSteps)\n",
    "    dfExpectedPricesOpen = pd.DataFrame(index = aCryptoCurrencies, columns = aTimeSteps)\n",
    "    dfExpectedSpread = pd.DataFrame(index = aCryptoCurrencies, columns = aTimeSteps)\n",
    "    dfPredictionError = pd.DataFrame(index = aCryptoCurrencies)\n",
    "\n",
    "    dfRealizedPricesClose = pd.DataFrame(index = aCryptoCurrencies, columns = aTimeSteps)\n",
    "    dfRealizedPricesOpen = pd.DataFrame(index = aCryptoCurrencies, columns = aTimeSteps)\n",
    "    dfRealizedSpread = pd.DataFrame(index = aCryptoCurrencies, columns = aTimeSteps)\n",
    "\n",
    "    \n",
    "    for sExchangeRate in aCryptoCurrencies:\n",
    "        sSimulationFolderPath = 'Data/'+ sExchangeRate +'//Simulation//'\n",
    "        \n",
    "        dfPredictionClose = pd.read_csv(sSimulationFolderPath + 'dfPredictionClose.csv', index_col = 'timestamp')\n",
    "        dfActualClose = pd.read_csv(sSimulationFolderPath + 'dfActualClose.csv', index_col = 'timestamp')\n",
    "        dfActualTestDataset = pd.read_csv(sSimulationFolderPath + 'dfActualTestDataset.csv', index_col = 'timestamp')\n",
    "        dfPredictionTestDataset = pd.read_csv(sSimulationFolderPath + 'dfPredictionTestDataset.csv', index_col = 'timestamp')\n",
    "\n",
    "        dfActualTestDataset = Calculate_Metrics.dfGetCombinationsOfReturns(dfActualTestDataset)\n",
    "        dfPredictionTestDataset = Calculate_Metrics.dfGetCombinationsOfReturns(dfPredictionTestDataset)\n",
    "\n",
    "        if len(dfPredictionError.columns) == 0:\n",
    "            dfPredictionError[list(dfPredictionTestDataset.columns)] = np.nan\n",
    "\n",
    "        dfExpectedPricesClose.loc[sExchangeRate] = dfPredictionClose.loc[ixStep].iloc[1:].values\n",
    "        dfExpectedPricesOpen.loc[sExchangeRate] = dfPredictionClose.loc[ixStep].iloc[:-1].values\n",
    "        dfExpectedSpread.loc[sExchangeRate] = dfOhlc.loc[ixStep, sExchangeRate + ':spread']\n",
    "\n",
    "        dfRealizedPricesClose.loc[sExchangeRate] = dfActualClose.loc[ixStep].iloc[1:].values\n",
    "        dfRealizedPricesOpen.loc[sExchangeRate] = dfActualClose.loc[ixStep].iloc[:-1].values\n",
    "        dfRealizedSpread.loc[sExchangeRate] = dfOhlc.loc[ixStep, sExchangeRate + ':spread']\n",
    "\n",
    "        dfPredictionError.loc[sExchangeRate] = Calculate_Metrics.fCalculateCustomMetric(dfActualTestDataset, dfPredictionTestDataset, 0)\n",
    "\n",
    "\n",
    "    dfForwardTimeSteps = pd.DataFrame(aTimeSteps, columns = ['TIME_STEP'])\n",
    "    dfFinancialProducts = pd.DataFrame(aCryptoCurrencies, columns = ['FINANCIAL_PRODUCT'])\n",
    "\n",
    "    oPmPrediction = Optimize_Portfolio.PortfolioManagement(dfExpectedPricesClose ,dfExpectedPricesOpen, dfExpectedSpread, dfFinancialProducts , dfForwardTimeSteps, decRealizedBalance, decMaximumRisk, dfPredictionError)\n",
    "    aAmountsPrediction, aPositionTypesPredictions, dfAlgorithmHistory = oPmPrediction.Main()\n",
    "\n",
    "    oPmRealized = Optimize_Portfolio.PortfolioManagement(dfRealizedPricesClose ,dfRealizedPricesOpen, dfRealizedSpread, dfFinancialProducts , dfForwardTimeSteps, decRealizedBalance, decMaximumRisk, dfPredictionError)\n",
    "\n",
    "    fExpectedProfit = oPmPrediction.decEvaluateFitness(aAmountsPrediction, aPositionTypesPredictions)\n",
    "    fRealizedProfit = oPmRealized.decEvaluateFitness(aAmountsPrediction, aPositionTypesPredictions)\n",
    "    \n",
    "    decRealizedBalance = decRealizedBalance + fRealizedProfit\n",
    "    decExpectedBalance = decExpectedBalance + fExpectedProfit\n",
    "    \n",
    "    aSimulationProfits.loc[ixStep, 'Expected'] = fExpectedProfit\n",
    "    aSimulationProfits.loc[ixStep, 'Realized'] = fRealizedProfit"
   ]
  },
  {
   "cell_type": "code",
   "execution_count": 7,
   "id": "35173903-fc34-4d65-b278-53af04010baa",
   "metadata": {},
   "outputs": [
    {
     "data": {
      "text/plain": [
       "<AxesSubplot:>"
      ]
     },
     "execution_count": 7,
     "metadata": {},
     "output_type": "execute_result"
    },
    {
     "data": {
      "image/png": "[encoded data removed]",
      "text/plain": [
       "<Figure size 1440x576 with 1 Axes>"
      ]
     },
     "metadata": {},
     "output_type": "display_data"
    }
   ],
   "source": [
    "sns.set(rc = {'figure.figsize':(20,8)})\n",
    "sns.set_style('white')\n",
    "sns.lineplot(data = aSimulationProfits, marker = '^')"
   ]
  }
 ],
 "metadata": {
  "kernelspec": {
   "display_name": "Python 3",
   "language": "python",
   "name": "python3"
  },
  "language_info": {
   "codemirror_mode": {
    "name": "ipython",
    "version": 3
   },
   "file_extension": ".py",
   "mimetype": "text/x-python",
   "name": "python",
   "nbconvert_exporter": "python",
   "pygments_lexer": "ipython3",
   "version": "3.7.10"
  }
 },
 "nbformat": 4,
 "nbformat_minor": 5
}
