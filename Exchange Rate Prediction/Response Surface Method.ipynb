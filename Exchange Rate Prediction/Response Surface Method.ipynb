{
 "cells": [
  {
   "cell_type": "markdown",
   "id": "3f9d15f7-209e-4741-bc8c-f0a48f3407ec",
   "metadata": {},
   "source": [
    "# LIBRARIES"
   ]
  },
  {
   "cell_type": "code",
   "execution_count": 43,
   "id": "6f2b23df-69b9-4266-949b-204b0aea36f9",
   "metadata": {},
   "outputs": [],
   "source": [
    "import pandas as pd\n",
    "\n",
    "import numpy as np\n",
    "\n",
    "import os\n",
    "\n",
    "from sklearn.linear_model import LinearRegression\n",
    "from sklearn.preprocessing import PolynomialFeatures\n",
    "from sklearn.model_selection import GridSearchCV"
   ]
  },
  {
   "cell_type": "markdown",
   "id": "b62f9c70-2011-4ff8-b437-9312697fdc8a",
   "metadata": {},
   "source": [
    "# CONFIGURATION"
   ]
  },
  {
   "cell_type": "code",
   "execution_count": 4,
   "id": "66e876b7-44e1-43c3-b8f8-8d590b4e7cbc",
   "metadata": {},
   "outputs": [],
   "source": [
    "sOutputSymbol = 'BTCUSD'\n",
    "sModelType = 'MLP'\n",
    "\n",
    "sFolderPath = 'Data/'+ sOutputSymbol +'//'+ sModelType + '//'"
   ]
  },
  {
   "cell_type": "code",
   "execution_count": 25,
   "id": "b6a2490a-efde-4bef-a924-892768e7160b",
   "metadata": {},
   "outputs": [],
   "source": [
    "dfCentralCompositeDesign = pd.read_csv( sFolderPath + '\\Central Composite Design\\Design.csv', index_col = 'Run ID')\n",
    "dfCentralCompositeExperiments = pd.read_csv( sFolderPath + '\\Central Composite Design\\Experiments.csv', index_col = 'Run ID')"
   ]
  },
  {
   "cell_type": "markdown",
   "id": "f61ef0e5-f06d-4585-bbb7-e3a881e7f05e",
   "metadata": {},
   "source": [
    "# 2ND ORDER MODEL"
   ]
  },
  {
   "cell_type": "code",
   "execution_count": 34,
   "id": "ffbb93ee-c94d-48b0-b9c3-32a8a69b84b7",
   "metadata": {},
   "outputs": [
    {
     "data": {
      "text/plain": [
       "LinearRegression()"
      ]
     },
     "execution_count": 34,
     "metadata": {},
     "output_type": "execute_result"
    }
   ],
   "source": [
    "oPolynomicalFeatures = PolynomialFeatures(degree = 2, include_bias = False)\n",
    "dfFactors = pd.DataFrame(\n",
    "    data = oPolynomicalFeatures.fit_transform(dfCentralCompositeDesign),\n",
    "    columns  = oPolynomicalFeatures.get_feature_names_out(),\n",
    "    index = dfCentralCompositeDesign.index\n",
    ")\n",
    "\n",
    "dfResponse = dfCentralCompositeExperiments['Response']\n",
    "\n",
    "oLinearRegression  = LinearRegression()\n",
    "oLinearRegression.fit(dfFactors, dfResponse)"
   ]
  },
  {
   "cell_type": "markdown",
   "id": "67044d5c-97a8-4077-ba3e-aae520a1981f",
   "metadata": {},
   "source": [
    "## Coefficient of Determination"
   ]
  },
  {
   "cell_type": "code",
   "execution_count": 35,
   "id": "c1af637c-b375-4e42-96ca-d26217c0f56e",
   "metadata": {},
   "outputs": [
    {
     "data": {
      "text/plain": [
       "0.6510367869822763"
      ]
     },
     "execution_count": 35,
     "metadata": {},
     "output_type": "execute_result"
    }
   ],
   "source": [
    "oLinearRegression.score(dfFactors, dfResponse)"
   ]
  },
  {
   "cell_type": "markdown",
   "id": "416f6dec-17af-4e8f-98f6-aabd00020264",
   "metadata": {},
   "source": [
    "## Equation"
   ]
  },
  {
   "cell_type": "code",
   "execution_count": 36,
   "id": "3417aa82-c005-4de9-bb8d-46716c2cd249",
   "metadata": {},
   "outputs": [
    {
     "data": {
      "text/plain": [
       "array([ -91187.59146508, -358657.61623494,     808.74247805,\n",
       "          -752.63257815,    1977.97251836])"
      ]
     },
     "execution_count": 36,
     "metadata": {},
     "output_type": "execute_result"
    }
   ],
   "source": [
    "oLinearRegression.coef_"
   ]
  },
  {
   "cell_type": "code",
   "execution_count": 37,
   "id": "788db62d-3397-4f6a-994d-1920865d11da",
   "metadata": {},
   "outputs": [
    {
     "data": {
      "text/plain": [
       "25463852.514239524"
      ]
     },
     "execution_count": 37,
     "metadata": {},
     "output_type": "execute_result"
    }
   ],
   "source": [
    "oLinearRegression.intercept_"
   ]
  },
  {
   "cell_type": "markdown",
   "id": "7065c632-7d25-4574-84f2-de71336baf2d",
   "metadata": {},
   "source": [
    "## Grid Search Optimization"
   ]
  },
  {
   "cell_type": "code",
   "execution_count": 94,
   "id": "2e53f1bb-256b-4943-a1e8-6646c70811fe",
   "metadata": {},
   "outputs": [
    {
     "ename": "TypeError",
     "evalue": "__init__() missing 1 required positional argument: 'param_grid'",
     "output_type": "error",
     "traceback": [
      "\u001b[1;31m---------------------------------------------------------------------------\u001b[0m",
      "\u001b[1;31mTypeError\u001b[0m                                 Traceback (most recent call last)",
      "\u001b[1;32m<ipython-input-95-ca7d635395d5>\u001b[0m in \u001b[0;36m<module>\u001b[1;34m\u001b[0m\n\u001b[0;32m      4\u001b[0m     \u001b[0mdicDecisionVariables\u001b[0m\u001b[1;33m[\u001b[0m\u001b[0msCol\u001b[0m\u001b[1;33m]\u001b[0m \u001b[1;33m=\u001b[0m \u001b[0mnp\u001b[0m\u001b[1;33m.\u001b[0m\u001b[0marange\u001b[0m\u001b[1;33m(\u001b[0m\u001b[0mdfCentralCompositeDesign\u001b[0m\u001b[1;33m[\u001b[0m\u001b[0msCol\u001b[0m\u001b[1;33m]\u001b[0m\u001b[1;33m.\u001b[0m\u001b[0mmin\u001b[0m\u001b[1;33m(\u001b[0m\u001b[1;33m)\u001b[0m\u001b[1;33m,\u001b[0m \u001b[0mdfCentralCompositeDesign\u001b[0m\u001b[1;33m[\u001b[0m\u001b[0msCol\u001b[0m\u001b[1;33m]\u001b[0m\u001b[1;33m.\u001b[0m\u001b[0mmax\u001b[0m\u001b[1;33m(\u001b[0m\u001b[1;33m)\u001b[0m\u001b[1;33m,\u001b[0m \u001b[1;36m1\u001b[0m\u001b[1;33m)\u001b[0m\u001b[1;33m\u001b[0m\u001b[1;33m\u001b[0m\u001b[0m\n\u001b[0;32m      5\u001b[0m \u001b[1;33m\u001b[0m\u001b[0m\n\u001b[1;32m----> 6\u001b[1;33m \u001b[0moGridSearch\u001b[0m \u001b[1;33m=\u001b[0m \u001b[0mGridSearchCV\u001b[0m\u001b[1;33m(\u001b[0m\u001b[0moLinearRegression\u001b[0m\u001b[1;33m)\u001b[0m\u001b[1;33m\u001b[0m\u001b[1;33m\u001b[0m\u001b[0m\n\u001b[0m",
      "\u001b[1;31mTypeError\u001b[0m: __init__() missing 1 required positional argument: 'param_grid'"
     ]
    }
   ],
   "source": [
    "dicDecisionVariables = {}\n",
    "\n",
    "for sCol in dfCentralCompositeDesign.columns:\n",
    "    dicDecisionVariables[sCol] = np.arange(dfCentralCompositeDesign[sCol].min(), dfCentralCompositeDesign[sCol].max(), 1)\n",
    "\n",
    "# oGridSearch = GridSearchCV(oLinearRegression, dicDecisionVariables)"
   ]
  },
  {
   "cell_type": "code",
   "execution_count": 93,
   "id": "8252d8f3-77a3-43ff-80d1-b0e51d971ab0",
   "metadata": {},
   "outputs": [
    {
     "ename": "AttributeError",
     "evalue": "'GridSearchCV' object has no attribute 'cv_results_'",
     "output_type": "error",
     "traceback": [
      "\u001b[1;31m---------------------------------------------------------------------------\u001b[0m",
      "\u001b[1;31mAttributeError\u001b[0m                            Traceback (most recent call last)",
      "\u001b[1;32m<ipython-input-93-3d453c8f82e5>\u001b[0m in \u001b[0;36m<module>\u001b[1;34m\u001b[0m\n\u001b[1;32m----> 1\u001b[1;33m \u001b[0msorted\u001b[0m\u001b[1;33m(\u001b[0m\u001b[0moGridSearch\u001b[0m\u001b[1;33m.\u001b[0m\u001b[0mcv_results_\u001b[0m\u001b[1;33m.\u001b[0m\u001b[0mkeys\u001b[0m\u001b[1;33m(\u001b[0m\u001b[1;33m)\u001b[0m\u001b[1;33m)\u001b[0m\u001b[1;33m\u001b[0m\u001b[1;33m\u001b[0m\u001b[0m\n\u001b[0m",
      "\u001b[1;31mAttributeError\u001b[0m: 'GridSearchCV' object has no attribute 'cv_results_'"
     ]
    }
   ],
   "source": [
    "sorted(oGridSearch.cv_results_.keys())"
   ]
  }
 ],
 "metadata": {
  "kernelspec": {
   "display_name": "Python 3",
   "language": "python",
   "name": "python3"
  },
  "language_info": {
   "codemirror_mode": {
    "name": "ipython",
    "version": 3
   },
   "file_extension": ".py",
   "mimetype": "text/x-python",
   "name": "python",
   "nbconvert_exporter": "python",
   "pygments_lexer": "ipython3",
   "version": "3.7.10"
  }
 },
 "nbformat": 4,
 "nbformat_minor": 5
}
