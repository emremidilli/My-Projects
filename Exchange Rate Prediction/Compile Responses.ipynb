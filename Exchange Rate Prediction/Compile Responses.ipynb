{
 "cells": [
  {
   "cell_type": "markdown",
   "id": "fb972c65-3135-4bc3-950e-045746e0f929",
   "metadata": {},
   "source": [
    "# LIBRARIES"
   ]
  },
  {
   "cell_type": "code",
   "execution_count": 5,
   "id": "f93ac438-138e-4f0f-a477-b42b2616650b",
   "metadata": {},
   "outputs": [],
   "source": [
    "import pandas as pd\n",
    "\n",
    "import numpy as np\n",
    "\n",
    "import os"
   ]
  },
  {
   "cell_type": "markdown",
   "id": "7c35e0f3-be14-4e20-9262-d251a551a012",
   "metadata": {},
   "source": [
    "# CONFIGURATIONS"
   ]
  },
  {
   "cell_type": "code",
   "execution_count": 6,
   "id": "3607d466-5908-4bbc-be54-4f79ea9557f8",
   "metadata": {},
   "outputs": [],
   "source": [
    "sOutputSymbol = 'BTCUSD'\n",
    "sModelType = 'MLP'\n",
    "sDesignType = 'Central Composite Design'"
   ]
  },
  {
   "cell_type": "code",
   "execution_count": 7,
   "id": "61b62647-7872-4d21-91f3-4a4deefc2fdc",
   "metadata": {},
   "outputs": [],
   "source": [
    "sFolderPath = 'Data/'+ sOutputSymbol +'//'+ sModelType + '//'+ sDesignType+ '//'\n",
    "dfDesign = pd.read_csv( sFolderPath + 'Design.csv', index_col = 'Run ID')"
   ]
  },
  {
   "cell_type": "markdown",
   "id": "68191894-82c7-4be0-bbcd-77549567e4c9",
   "metadata": {
    "tags": []
   },
   "source": [
    "# COMPILE [Response] VALUES"
   ]
  },
  {
   "cell_type": "code",
   "execution_count": 8,
   "id": "ec8fe379-f6d8-438d-b23a-0d4cb50ab9fc",
   "metadata": {},
   "outputs": [],
   "source": [
    "dfExperiments = dfDesign.copy()\n",
    "dfExperiments['Response'] = np.nan\n",
    "\n",
    "for sTrialNr in next(os.walk(sFolderPath))[1]:\n",
    "    if sTrialNr.isdigit() == True:\n",
    "        dfPerformance = pd.read_csv(sFolderPath + '//' + sTrialNr + '//' +'dfPerformance.csv', index_col=0)\n",
    "        dfExperiments.loc[int(sTrialNr), 'Response'] = dfPerformance.loc['custom_metric', 'value']\n",
    "        \n",
    "dfExperiments.to_csv(sFolderPath + 'Experiments.csv')"
   ]
  }
 ],
 "metadata": {
  "kernelspec": {
   "display_name": "Python 3",
   "language": "python",
   "name": "python3"
  },
  "language_info": {
   "codemirror_mode": {
    "name": "ipython",
    "version": 3
   },
   "file_extension": ".py",
   "mimetype": "text/x-python",
   "name": "python",
   "nbconvert_exporter": "python",
   "pygments_lexer": "ipython3",
   "version": "3.7.10"
  }
 },
 "nbformat": 4,
 "nbformat_minor": 5
}
