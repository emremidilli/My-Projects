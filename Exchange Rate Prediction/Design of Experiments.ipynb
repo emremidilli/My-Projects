{
 "cells": [
  {
   "cell_type": "markdown",
   "id": "b8ffaf99-c7a5-4cc1-9cfe-067f38ed346c",
   "metadata": {
    "tags": []
   },
   "source": [
    "# DESIGN OF EXPERIMENTS"
   ]
  },
  {
   "cell_type": "code",
   "execution_count": null,
   "id": "582693f2-bbfa-4817-b9b5-01b66335fb06",
   "metadata": {},
   "outputs": [],
   "source": [
    "import pandas as pd\n",
    "import numpy as np\n",
    "from doepy import build"
   ]
  },
  {
   "cell_type": "code",
   "execution_count": null,
   "id": "cec5adb0-3a7e-4496-99ed-85adae770b49",
   "metadata": {},
   "outputs": [],
   "source": [
    "sOutputSymbol = 'BTCUSD'\n",
    "sModelType = 'MLP'"
   ]
  },
  {
   "cell_type": "code",
   "execution_count": null,
   "id": "2d6426ff-0d86-4155-8e4e-8154098acad6",
   "metadata": {},
   "outputs": [],
   "source": [
    "dfCciDesign = build.central_composite(\n",
    "    {\n",
    "        'iBatchSize':[32, 256],\n",
    "        'iNrOfHiddenNeurons':[50, 250],\n",
    "        'iBackwardTimeWindow':[2, 8],\n",
    "        'iForwardTimeWindow':[2, 8]\n",
    "    },\n",
    "    face='cci'\n",
    ")\n",
    "dfCciDesign = dfCciDesign.astype(np.int)\n",
    "dfCciDesign.to_csv('Data\\Cci Design_'+ sOutputSymbol +'_'+ sModelType +'.csv')"
   ]
  },
  {
   "cell_type": "code",
   "execution_count": null,
   "id": "ecdd9312-f934-453c-9bd2-37fc2bc112cf",
   "metadata": {},
   "outputs": [],
   "source": [
    "dfCciDesign"
   ]
  }
 ],
 "metadata": {
  "kernelspec": {
   "display_name": "Python 3",
   "language": "python",
   "name": "python3"
  },
  "language_info": {
   "codemirror_mode": {
    "name": "ipython",
    "version": 3
   },
   "file_extension": ".py",
   "mimetype": "text/x-python",
   "name": "python",
   "nbconvert_exporter": "python",
   "pygments_lexer": "ipython3",
   "version": "3.7.10"
  }
 },
 "nbformat": 4,
 "nbformat_minor": 5
}
