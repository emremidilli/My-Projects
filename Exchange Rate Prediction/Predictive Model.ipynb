{
 "cells": [
  {
   "cell_type": "markdown",
   "id": "d4d78e1f-e08c-4ea4-9448-81f915546cd2",
   "metadata": {
    "jp-MarkdownHeadingCollapsed": true,
    "tags": []
   },
   "source": [
    "# IMPORT LIBRARIES"
   ]
  },
  {
   "cell_type": "code",
   "execution_count": 1,
   "id": "0611acbc",
   "metadata": {},
   "outputs": [],
   "source": [
    "import pandas as pd\n",
    "\n",
    "import numpy as np\n",
    "\n",
    "import itertools\n",
    "\n",
    "import time\n",
    "\n",
    "\n",
    "import pickle\n",
    "\n",
    "from sklearn.preprocessing import StandardScaler, MinMaxScaler\n",
    "from sklearn.model_selection import train_test_split\n",
    "\n",
    "import seaborn as sns\n",
    "\n",
    "import matplotlib.pyplot as plt\n",
    "\n",
    "import os\n",
    "os.environ['TF_CPP_MIN_LOG_LEVEL'] = '2' \n",
    "\n",
    "import tensorflow as tf\n",
    "from tensorflow import keras\n",
    "from tensorflow.keras.callbacks import EarlyStopping"
   ]
  },
  {
   "cell_type": "markdown",
   "id": "a54d4875-8ad8-478e-b63a-313ed6fdb418",
   "metadata": {
    "tags": []
   },
   "source": [
    "# CONFIGURATION"
   ]
  },
  {
   "cell_type": "code",
   "execution_count": 2,
   "id": "17fa2c83-a168-4d7f-8c30-3e0767d7a8da",
   "metadata": {},
   "outputs": [],
   "source": [
    "sOutputSymbol = 'ETHUSD'\n",
    "sModelType = 'MLP'\n",
    "sDesignType = 'Full Factorial Design'\n",
    "\n",
    "iTrialId = 0"
   ]
  },
  {
   "cell_type": "code",
   "execution_count": 3,
   "id": "833806a3-92de-48a3-ab67-70b905d98db9",
   "metadata": {},
   "outputs": [],
   "source": [
    "sFolderPath = 'Data/'+ sOutputSymbol +'//'+ sModelType + '//'+ sDesignType+ '//'\n",
    "dfDesign = pd.read_csv( sFolderPath + 'Design.csv', index_col = 'Run ID')\n",
    "iBatchSize = dfDesign.loc[iTrialId, 'Batch Size']\n",
    "iNrOfHiddenNeurons = dfDesign.loc[iTrialId, 'Number of Hidden Neurons']\n",
    "iBackwardTimeWindow = 3\n",
    "iForwardTimeWindow = 3"
   ]
  },
  {
   "cell_type": "code",
   "execution_count": 4,
   "id": "137167f1",
   "metadata": {},
   "outputs": [],
   "source": [
    "sModelName = os.path.join(sFolderPath + str(iTrialId))"
   ]
  },
  {
   "cell_type": "markdown",
   "id": "8d915683",
   "metadata": {
    "jp-MarkdownHeadingCollapsed": true,
    "tags": []
   },
   "source": [
    "# LOAD DATA"
   ]
  },
  {
   "cell_type": "markdown",
   "id": "daa23be1",
   "metadata": {
    "tags": []
   },
   "source": [
    "## Cryptocurrency List"
   ]
  },
  {
   "cell_type": "code",
   "execution_count": 5,
   "id": "0ac336b8",
   "metadata": {},
   "outputs": [
    {
     "data": {
      "text/html": [
       "<div>\n",
       "<style scoped>\n",
       "    .dataframe tbody tr th:only-of-type {\n",
       "        vertical-align: middle;\n",
       "    }\n",
       "\n",
       "    .dataframe tbody tr th {\n",
       "        vertical-align: top;\n",
       "    }\n",
       "\n",
       "    .dataframe thead th {\n",
       "        text-align: right;\n",
       "    }\n",
       "</style>\n",
       "<table border=\"1\" class=\"dataframe\">\n",
       "  <thead>\n",
       "    <tr style=\"text-align: right;\">\n",
       "      <th></th>\n",
       "      <th>Symbol</th>\n",
       "    </tr>\n",
       "  </thead>\n",
       "  <tbody>\n",
       "    <tr>\n",
       "      <th>0</th>\n",
       "      <td>BCHUSD</td>\n",
       "    </tr>\n",
       "    <tr>\n",
       "      <th>1</th>\n",
       "      <td>BTCUSD</td>\n",
       "    </tr>\n",
       "    <tr>\n",
       "      <th>2</th>\n",
       "      <td>ETHUSD</td>\n",
       "    </tr>\n",
       "    <tr>\n",
       "      <th>3</th>\n",
       "      <td>LTCUSD</td>\n",
       "    </tr>\n",
       "    <tr>\n",
       "      <th>4</th>\n",
       "      <td>RPLUSD</td>\n",
       "    </tr>\n",
       "  </tbody>\n",
       "</table>\n",
       "</div>"
      ],
      "text/plain": [
       "   Symbol\n",
       "0  BCHUSD\n",
       "1  BTCUSD\n",
       "2  ETHUSD\n",
       "3  LTCUSD\n",
       "4  RPLUSD"
      ]
     },
     "execution_count": 5,
     "metadata": {},
     "output_type": "execute_result"
    }
   ],
   "source": [
    "dfCrpytocurrencies = pd.read_csv('Data\\cryptocurrencies.csv')\n",
    "dfCrpytocurrencies.head()"
   ]
  },
  {
   "cell_type": "markdown",
   "id": "369ae0af",
   "metadata": {
    "tags": []
   },
   "source": [
    "## Market Data"
   ]
  },
  {
   "cell_type": "code",
   "execution_count": 6,
   "id": "889e4365",
   "metadata": {},
   "outputs": [],
   "source": [
    "dfOhlc = pd.read_csv('Data\\dfOhlc.csv')\n",
    "dfOhlc['timestamp'] = pd.DatetimeIndex(dfOhlc['timestamp'])\n",
    "dfOhlc.set_index('timestamp', inplace=True)"
   ]
  },
  {
   "cell_type": "markdown",
   "id": "34801cd6",
   "metadata": {
    "tags": []
   },
   "source": [
    "# PREPROCESSING"
   ]
  },
  {
   "cell_type": "markdown",
   "id": "e8579e2f-3b1b-4873-8ee1-70f5fccf8a8e",
   "metadata": {},
   "source": [
    "## Drop Unnecessary Features"
   ]
  },
  {
   "cell_type": "code",
   "execution_count": 7,
   "id": "5370f106-f07f-4a58-9883-8f78a5127dbc",
   "metadata": {},
   "outputs": [],
   "source": [
    "aNecessaryFeatures = ['weekday', 'hour', 'minute' ,'upper_shadow', 'lower_shadow' ,'return']\n",
    "aColumns = dfOhlc.columns\n",
    "\n",
    "aNecessaryColumns = aColumns[aColumns.str.contains('|'.join(aNecessaryFeatures))]\n",
    "\n",
    "dfOhlc = dfOhlc[aNecessaryColumns]"
   ]
  },
  {
   "cell_type": "markdown",
   "id": "fa542c9e",
   "metadata": {
    "tags": []
   },
   "source": [
    "## Split Data"
   ]
  },
  {
   "cell_type": "code",
   "execution_count": 8,
   "id": "70088c21",
   "metadata": {
    "code_folding": []
   },
   "outputs": [],
   "source": [
    "fTrainingRatio = 0.7\n",
    "fValidationRatio = 0.15\n",
    "fTestRatio = 0.15\n",
    "\n",
    "ixTrain, ixTest = train_test_split(\n",
    "    dfOhlc.index,\n",
    "    test_size=1-fTrainingRatio,\n",
    "    shuffle=False)\n",
    "\n",
    "ixValidation, ixTest = train_test_split(\n",
    "    ixTest,\n",
    "    test_size=fTestRatio/(fTestRatio + fValidationRatio),\n",
    "    shuffle=False)"
   ]
  },
  {
   "cell_type": "markdown",
   "id": "a48e73e3",
   "metadata": {
    "tags": []
   },
   "source": [
    "## Scale Data"
   ]
  },
  {
   "cell_type": "code",
   "execution_count": 9,
   "id": "32c7b72c",
   "metadata": {},
   "outputs": [],
   "source": [
    "dfScaledOhlc = pd.DataFrame(index = dfOhlc.index, columns  = dfOhlc.columns)\n",
    "aFeaturesToMinMaxScale = [':weekday', ':hour', ':minute']\n",
    "aFaeturesNotToScale = ['upper_shadow', 'lower_shadow' ,'return']\n",
    "\n",
    "for sColumn in dfOhlc.columns:\n",
    "    \n",
    "    if any(ele in sColumn  for ele in aFaeturesNotToScale):\n",
    "        dfScaledOhlc.loc[:, sColumn] = dfOhlc.loc[:, sColumn]\n",
    "        continue\n",
    "    elif  any(ele in sColumn  for ele in aFeaturesToMinMaxScale):\n",
    "        oScaler = MinMaxScaler()\n",
    "    else:\n",
    "        oScaler = StandardScaler()\n",
    "    \n",
    "    dfTrain = pd.DataFrame(dfOhlc.loc[ixTrain, sColumn])\n",
    "    dfValidation = pd.DataFrame(dfOhlc.loc[ixValidation, sColumn])\n",
    "    dfTest = pd.DataFrame(dfOhlc.loc[ixTest, sColumn])\n",
    "    \n",
    "    oScaler.fit(dfTrain.append(dfValidation))\n",
    "    \n",
    "    dfScaledOhlc.loc[ixTrain, sColumn] = np.reshape(oScaler.transform(dfTrain), (-1))\n",
    "    dfScaledOhlc.loc[ixValidation, sColumn] = np.reshape(oScaler.transform(dfValidation), (-1))\n",
    "    dfScaledOhlc.loc[ixTest, sColumn] = np.reshape(oScaler.transform(dfTest), (-1))\n",
    "\n",
    "    sScalerFilePath = os.path.join(sModelName , \"__scalers__\")\n",
    "    sScalerFilePath = os.path.join(sScalerFilePath , sColumn + \".sav\")\n",
    "    os.makedirs(os.path.dirname(sScalerFilePath), exist_ok=True)\n",
    "    \n",
    "    pickle.dump(oScaler, open(sScalerFilePath, 'wb'))\n",
    "    \n",
    "    \n",
    "dfScaledOhlc = dfScaledOhlc.astype('float')"
   ]
  },
  {
   "cell_type": "markdown",
   "id": "d1f61025-a616-43fc-b0eb-0349539ddc2e",
   "metadata": {},
   "source": [
    "## Log Transform"
   ]
  },
  {
   "cell_type": "code",
   "execution_count": 38,
   "id": "fd90a198-9583-4f65-b37a-96ab6be9ff84",
   "metadata": {},
   "outputs": [
    {
     "data": {
      "text/html": [
       "<div>\n",
       "<style scoped>\n",
       "    .dataframe tbody tr th:only-of-type {\n",
       "        vertical-align: middle;\n",
       "    }\n",
       "\n",
       "    .dataframe tbody tr th {\n",
       "        vertical-align: top;\n",
       "    }\n",
       "\n",
       "    .dataframe thead th {\n",
       "        text-align: right;\n",
       "    }\n",
       "</style>\n",
       "<table border=\"1\" class=\"dataframe\">\n",
       "  <thead>\n",
       "    <tr style=\"text-align: right;\">\n",
       "      <th></th>\n",
       "      <th>count</th>\n",
       "      <th>mean</th>\n",
       "      <th>std</th>\n",
       "      <th>min</th>\n",
       "      <th>25%</th>\n",
       "      <th>50%</th>\n",
       "      <th>75%</th>\n",
       "      <th>max</th>\n",
       "    </tr>\n",
       "  </thead>\n",
       "  <tbody>\n",
       "    <tr>\n",
       "      <th>BTCUSD:weekday</th>\n",
       "      <td>6516.0</td>\n",
       "      <td>0.377200</td>\n",
       "      <td>0.243769</td>\n",
       "      <td>0.000000</td>\n",
       "      <td>0.223144</td>\n",
       "      <td>0.405465</td>\n",
       "      <td>0.559616</td>\n",
       "      <td>0.693147</td>\n",
       "    </tr>\n",
       "    <tr>\n",
       "      <th>BTCUSD:hour</th>\n",
       "      <td>6516.0</td>\n",
       "      <td>0.384921</td>\n",
       "      <td>0.206476</td>\n",
       "      <td>0.000000</td>\n",
       "      <td>0.231802</td>\n",
       "      <td>0.419854</td>\n",
       "      <td>0.578078</td>\n",
       "      <td>0.693147</td>\n",
       "    </tr>\n",
       "    <tr>\n",
       "      <th>BTCUSD:minute</th>\n",
       "      <td>6516.0</td>\n",
       "      <td>0.346574</td>\n",
       "      <td>0.346600</td>\n",
       "      <td>0.000000</td>\n",
       "      <td>0.000000</td>\n",
       "      <td>0.346574</td>\n",
       "      <td>0.693147</td>\n",
       "      <td>0.693147</td>\n",
       "    </tr>\n",
       "    <tr>\n",
       "      <th>BTCUSD:return</th>\n",
       "      <td>6516.0</td>\n",
       "      <td>-0.000011</td>\n",
       "      <td>0.005382</td>\n",
       "      <td>-0.057812</td>\n",
       "      <td>-0.002613</td>\n",
       "      <td>0.000042</td>\n",
       "      <td>0.002570</td>\n",
       "      <td>0.039602</td>\n",
       "    </tr>\n",
       "    <tr>\n",
       "      <th>BTCUSD:upper_shadow</th>\n",
       "      <td>6516.0</td>\n",
       "      <td>0.001983</td>\n",
       "      <td>0.001950</td>\n",
       "      <td>0.000000</td>\n",
       "      <td>0.000744</td>\n",
       "      <td>0.001519</td>\n",
       "      <td>0.002621</td>\n",
       "      <td>0.035928</td>\n",
       "    </tr>\n",
       "    <tr>\n",
       "      <th>BTCUSD:lower_shadow</th>\n",
       "      <td>6516.0</td>\n",
       "      <td>0.002207</td>\n",
       "      <td>0.002497</td>\n",
       "      <td>0.000000</td>\n",
       "      <td>0.000817</td>\n",
       "      <td>0.001648</td>\n",
       "      <td>0.002863</td>\n",
       "      <td>0.087064</td>\n",
       "    </tr>\n",
       "    <tr>\n",
       "      <th>ETHUSD:weekday</th>\n",
       "      <td>6516.0</td>\n",
       "      <td>0.377200</td>\n",
       "      <td>0.243769</td>\n",
       "      <td>0.000000</td>\n",
       "      <td>0.223144</td>\n",
       "      <td>0.405465</td>\n",
       "      <td>0.559616</td>\n",
       "      <td>0.693147</td>\n",
       "    </tr>\n",
       "    <tr>\n",
       "      <th>ETHUSD:hour</th>\n",
       "      <td>6516.0</td>\n",
       "      <td>0.384921</td>\n",
       "      <td>0.206476</td>\n",
       "      <td>0.000000</td>\n",
       "      <td>0.231802</td>\n",
       "      <td>0.419854</td>\n",
       "      <td>0.578078</td>\n",
       "      <td>0.693147</td>\n",
       "    </tr>\n",
       "    <tr>\n",
       "      <th>ETHUSD:minute</th>\n",
       "      <td>6516.0</td>\n",
       "      <td>0.346574</td>\n",
       "      <td>0.346600</td>\n",
       "      <td>0.000000</td>\n",
       "      <td>0.000000</td>\n",
       "      <td>0.346574</td>\n",
       "      <td>0.693147</td>\n",
       "      <td>0.693147</td>\n",
       "    </tr>\n",
       "    <tr>\n",
       "      <th>ETHUSD:return</th>\n",
       "      <td>6516.0</td>\n",
       "      <td>-0.000032</td>\n",
       "      <td>0.006729</td>\n",
       "      <td>-0.070352</td>\n",
       "      <td>-0.003332</td>\n",
       "      <td>0.000086</td>\n",
       "      <td>0.003434</td>\n",
       "      <td>0.039653</td>\n",
       "    </tr>\n",
       "    <tr>\n",
       "      <th>ETHUSD:upper_shadow</th>\n",
       "      <td>6516.0</td>\n",
       "      <td>0.002320</td>\n",
       "      <td>0.002215</td>\n",
       "      <td>0.000000</td>\n",
       "      <td>0.000811</td>\n",
       "      <td>0.001777</td>\n",
       "      <td>0.003177</td>\n",
       "      <td>0.035170</td>\n",
       "    </tr>\n",
       "    <tr>\n",
       "      <th>ETHUSD:lower_shadow</th>\n",
       "      <td>6516.0</td>\n",
       "      <td>0.002747</td>\n",
       "      <td>0.003083</td>\n",
       "      <td>0.000000</td>\n",
       "      <td>0.000959</td>\n",
       "      <td>0.002037</td>\n",
       "      <td>0.003622</td>\n",
       "      <td>0.116077</td>\n",
       "    </tr>\n",
       "    <tr>\n",
       "      <th>BCHUSD:weekday</th>\n",
       "      <td>6516.0</td>\n",
       "      <td>0.377200</td>\n",
       "      <td>0.243769</td>\n",
       "      <td>0.000000</td>\n",
       "      <td>0.223144</td>\n",
       "      <td>0.405465</td>\n",
       "      <td>0.559616</td>\n",
       "      <td>0.693147</td>\n",
       "    </tr>\n",
       "    <tr>\n",
       "      <th>BCHUSD:hour</th>\n",
       "      <td>6516.0</td>\n",
       "      <td>0.384921</td>\n",
       "      <td>0.206476</td>\n",
       "      <td>0.000000</td>\n",
       "      <td>0.231802</td>\n",
       "      <td>0.419854</td>\n",
       "      <td>0.578078</td>\n",
       "      <td>0.693147</td>\n",
       "    </tr>\n",
       "    <tr>\n",
       "      <th>BCHUSD:minute</th>\n",
       "      <td>6516.0</td>\n",
       "      <td>0.346574</td>\n",
       "      <td>0.346600</td>\n",
       "      <td>0.000000</td>\n",
       "      <td>0.000000</td>\n",
       "      <td>0.346574</td>\n",
       "      <td>0.693147</td>\n",
       "      <td>0.693147</td>\n",
       "    </tr>\n",
       "    <tr>\n",
       "      <th>BCHUSD:return</th>\n",
       "      <td>6516.0</td>\n",
       "      <td>0.000431</td>\n",
       "      <td>0.007588</td>\n",
       "      <td>-0.070173</td>\n",
       "      <td>-0.003068</td>\n",
       "      <td>0.000145</td>\n",
       "      <td>0.003356</td>\n",
       "      <td>0.068866</td>\n",
       "    </tr>\n",
       "    <tr>\n",
       "      <th>BCHUSD:upper_shadow</th>\n",
       "      <td>6516.0</td>\n",
       "      <td>0.002253</td>\n",
       "      <td>0.002300</td>\n",
       "      <td>0.000000</td>\n",
       "      <td>0.000799</td>\n",
       "      <td>0.001677</td>\n",
       "      <td>0.002972</td>\n",
       "      <td>0.048739</td>\n",
       "    </tr>\n",
       "    <tr>\n",
       "      <th>BCHUSD:lower_shadow</th>\n",
       "      <td>6516.0</td>\n",
       "      <td>0.002904</td>\n",
       "      <td>0.003222</td>\n",
       "      <td>0.000000</td>\n",
       "      <td>0.001169</td>\n",
       "      <td>0.002185</td>\n",
       "      <td>0.003710</td>\n",
       "      <td>0.086721</td>\n",
       "    </tr>\n",
       "    <tr>\n",
       "      <th>LTCUSD:weekday</th>\n",
       "      <td>6516.0</td>\n",
       "      <td>0.377200</td>\n",
       "      <td>0.243769</td>\n",
       "      <td>0.000000</td>\n",
       "      <td>0.223144</td>\n",
       "      <td>0.405465</td>\n",
       "      <td>0.559616</td>\n",
       "      <td>0.693147</td>\n",
       "    </tr>\n",
       "    <tr>\n",
       "      <th>LTCUSD:hour</th>\n",
       "      <td>6516.0</td>\n",
       "      <td>0.384921</td>\n",
       "      <td>0.206476</td>\n",
       "      <td>0.000000</td>\n",
       "      <td>0.231802</td>\n",
       "      <td>0.419854</td>\n",
       "      <td>0.578078</td>\n",
       "      <td>0.693147</td>\n",
       "    </tr>\n",
       "    <tr>\n",
       "      <th>LTCUSD:minute</th>\n",
       "      <td>6516.0</td>\n",
       "      <td>0.346574</td>\n",
       "      <td>0.346600</td>\n",
       "      <td>0.000000</td>\n",
       "      <td>0.000000</td>\n",
       "      <td>0.346574</td>\n",
       "      <td>0.693147</td>\n",
       "      <td>0.693147</td>\n",
       "    </tr>\n",
       "    <tr>\n",
       "      <th>LTCUSD:return</th>\n",
       "      <td>6516.0</td>\n",
       "      <td>0.000095</td>\n",
       "      <td>0.008791</td>\n",
       "      <td>-0.167684</td>\n",
       "      <td>-0.003860</td>\n",
       "      <td>0.000139</td>\n",
       "      <td>0.004143</td>\n",
       "      <td>0.205386</td>\n",
       "    </tr>\n",
       "    <tr>\n",
       "      <th>LTCUSD:upper_shadow</th>\n",
       "      <td>6516.0</td>\n",
       "      <td>0.002791</td>\n",
       "      <td>0.003006</td>\n",
       "      <td>0.000000</td>\n",
       "      <td>0.000893</td>\n",
       "      <td>0.002038</td>\n",
       "      <td>0.003709</td>\n",
       "      <td>0.069211</td>\n",
       "    </tr>\n",
       "    <tr>\n",
       "      <th>LTCUSD:lower_shadow</th>\n",
       "      <td>6516.0</td>\n",
       "      <td>0.003177</td>\n",
       "      <td>0.004048</td>\n",
       "      <td>0.000000</td>\n",
       "      <td>0.001084</td>\n",
       "      <td>0.002251</td>\n",
       "      <td>0.004158</td>\n",
       "      <td>0.125890</td>\n",
       "    </tr>\n",
       "    <tr>\n",
       "      <th>RPLUSD:weekday</th>\n",
       "      <td>6516.0</td>\n",
       "      <td>0.377200</td>\n",
       "      <td>0.243769</td>\n",
       "      <td>0.000000</td>\n",
       "      <td>0.223144</td>\n",
       "      <td>0.405465</td>\n",
       "      <td>0.559616</td>\n",
       "      <td>0.693147</td>\n",
       "    </tr>\n",
       "    <tr>\n",
       "      <th>RPLUSD:hour</th>\n",
       "      <td>6516.0</td>\n",
       "      <td>0.384921</td>\n",
       "      <td>0.206476</td>\n",
       "      <td>0.000000</td>\n",
       "      <td>0.231802</td>\n",
       "      <td>0.419854</td>\n",
       "      <td>0.578078</td>\n",
       "      <td>0.693147</td>\n",
       "    </tr>\n",
       "    <tr>\n",
       "      <th>RPLUSD:minute</th>\n",
       "      <td>6516.0</td>\n",
       "      <td>0.346574</td>\n",
       "      <td>0.346600</td>\n",
       "      <td>0.000000</td>\n",
       "      <td>0.000000</td>\n",
       "      <td>0.346574</td>\n",
       "      <td>0.693147</td>\n",
       "      <td>0.693147</td>\n",
       "    </tr>\n",
       "    <tr>\n",
       "      <th>RPLUSD:return</th>\n",
       "      <td>6516.0</td>\n",
       "      <td>-0.000070</td>\n",
       "      <td>0.007715</td>\n",
       "      <td>-0.130856</td>\n",
       "      <td>-0.003481</td>\n",
       "      <td>0.000000</td>\n",
       "      <td>0.003522</td>\n",
       "      <td>0.099642</td>\n",
       "    </tr>\n",
       "    <tr>\n",
       "      <th>RPLUSD:upper_shadow</th>\n",
       "      <td>6516.0</td>\n",
       "      <td>0.002556</td>\n",
       "      <td>0.002739</td>\n",
       "      <td>0.000000</td>\n",
       "      <td>0.000802</td>\n",
       "      <td>0.001814</td>\n",
       "      <td>0.003408</td>\n",
       "      <td>0.033417</td>\n",
       "    </tr>\n",
       "    <tr>\n",
       "      <th>RPLUSD:lower_shadow</th>\n",
       "      <td>6516.0</td>\n",
       "      <td>0.003272</td>\n",
       "      <td>0.003986</td>\n",
       "      <td>0.000000</td>\n",
       "      <td>0.001194</td>\n",
       "      <td>0.002369</td>\n",
       "      <td>0.004165</td>\n",
       "      <td>0.130364</td>\n",
       "    </tr>\n",
       "  </tbody>\n",
       "</table>\n",
       "</div>"
      ],
      "text/plain": [
       "                      count      mean       std       min       25%       50%  \\\n",
       "BTCUSD:weekday       6516.0  0.377200  0.243769  0.000000  0.223144  0.405465   \n",
       "BTCUSD:hour          6516.0  0.384921  0.206476  0.000000  0.231802  0.419854   \n",
       "BTCUSD:minute        6516.0  0.346574  0.346600  0.000000  0.000000  0.346574   \n",
       "BTCUSD:return        6516.0 -0.000011  0.005382 -0.057812 -0.002613  0.000042   \n",
       "BTCUSD:upper_shadow  6516.0  0.001983  0.001950  0.000000  0.000744  0.001519   \n",
       "BTCUSD:lower_shadow  6516.0  0.002207  0.002497  0.000000  0.000817  0.001648   \n",
       "ETHUSD:weekday       6516.0  0.377200  0.243769  0.000000  0.223144  0.405465   \n",
       "ETHUSD:hour          6516.0  0.384921  0.206476  0.000000  0.231802  0.419854   \n",
       "ETHUSD:minute        6516.0  0.346574  0.346600  0.000000  0.000000  0.346574   \n",
       "ETHUSD:return        6516.0 -0.000032  0.006729 -0.070352 -0.003332  0.000086   \n",
       "ETHUSD:upper_shadow  6516.0  0.002320  0.002215  0.000000  0.000811  0.001777   \n",
       "ETHUSD:lower_shadow  6516.0  0.002747  0.003083  0.000000  0.000959  0.002037   \n",
       "BCHUSD:weekday       6516.0  0.377200  0.243769  0.000000  0.223144  0.405465   \n",
       "BCHUSD:hour          6516.0  0.384921  0.206476  0.000000  0.231802  0.419854   \n",
       "BCHUSD:minute        6516.0  0.346574  0.346600  0.000000  0.000000  0.346574   \n",
       "BCHUSD:return        6516.0  0.000431  0.007588 -0.070173 -0.003068  0.000145   \n",
       "BCHUSD:upper_shadow  6516.0  0.002253  0.002300  0.000000  0.000799  0.001677   \n",
       "BCHUSD:lower_shadow  6516.0  0.002904  0.003222  0.000000  0.001169  0.002185   \n",
       "LTCUSD:weekday       6516.0  0.377200  0.243769  0.000000  0.223144  0.405465   \n",
       "LTCUSD:hour          6516.0  0.384921  0.206476  0.000000  0.231802  0.419854   \n",
       "LTCUSD:minute        6516.0  0.346574  0.346600  0.000000  0.000000  0.346574   \n",
       "LTCUSD:return        6516.0  0.000095  0.008791 -0.167684 -0.003860  0.000139   \n",
       "LTCUSD:upper_shadow  6516.0  0.002791  0.003006  0.000000  0.000893  0.002038   \n",
       "LTCUSD:lower_shadow  6516.0  0.003177  0.004048  0.000000  0.001084  0.002251   \n",
       "RPLUSD:weekday       6516.0  0.377200  0.243769  0.000000  0.223144  0.405465   \n",
       "RPLUSD:hour          6516.0  0.384921  0.206476  0.000000  0.231802  0.419854   \n",
       "RPLUSD:minute        6516.0  0.346574  0.346600  0.000000  0.000000  0.346574   \n",
       "RPLUSD:return        6516.0 -0.000070  0.007715 -0.130856 -0.003481  0.000000   \n",
       "RPLUSD:upper_shadow  6516.0  0.002556  0.002739  0.000000  0.000802  0.001814   \n",
       "RPLUSD:lower_shadow  6516.0  0.003272  0.003986  0.000000  0.001194  0.002369   \n",
       "\n",
       "                          75%       max  \n",
       "BTCUSD:weekday       0.559616  0.693147  \n",
       "BTCUSD:hour          0.578078  0.693147  \n",
       "BTCUSD:minute        0.693147  0.693147  \n",
       "BTCUSD:return        0.002570  0.039602  \n",
       "BTCUSD:upper_shadow  0.002621  0.035928  \n",
       "BTCUSD:lower_shadow  0.002863  0.087064  \n",
       "ETHUSD:weekday       0.559616  0.693147  \n",
       "ETHUSD:hour          0.578078  0.693147  \n",
       "ETHUSD:minute        0.693147  0.693147  \n",
       "ETHUSD:return        0.003434  0.039653  \n",
       "ETHUSD:upper_shadow  0.003177  0.035170  \n",
       "ETHUSD:lower_shadow  0.003622  0.116077  \n",
       "BCHUSD:weekday       0.559616  0.693147  \n",
       "BCHUSD:hour          0.578078  0.693147  \n",
       "BCHUSD:minute        0.693147  0.693147  \n",
       "BCHUSD:return        0.003356  0.068866  \n",
       "BCHUSD:upper_shadow  0.002972  0.048739  \n",
       "BCHUSD:lower_shadow  0.003710  0.086721  \n",
       "LTCUSD:weekday       0.559616  0.693147  \n",
       "LTCUSD:hour          0.578078  0.693147  \n",
       "LTCUSD:minute        0.693147  0.693147  \n",
       "LTCUSD:return        0.004143  0.205386  \n",
       "LTCUSD:upper_shadow  0.003709  0.069211  \n",
       "LTCUSD:lower_shadow  0.004158  0.125890  \n",
       "RPLUSD:weekday       0.559616  0.693147  \n",
       "RPLUSD:hour          0.578078  0.693147  \n",
       "RPLUSD:minute        0.693147  0.693147  \n",
       "RPLUSD:return        0.003522  0.099642  \n",
       "RPLUSD:upper_shadow  0.003408  0.033417  \n",
       "RPLUSD:lower_shadow  0.004165  0.130364  "
      ]
     },
     "execution_count": 38,
     "metadata": {},
     "output_type": "execute_result"
    }
   ],
   "source": [
    "np.log(dfScaledOhlc+1).describe().transpose()"
   ]
  },
  {
   "cell_type": "code",
   "execution_count": null,
   "id": "7796af96-3034-4ae7-bf0c-5c23af4e3497",
   "metadata": {},
   "outputs": [],
   "source": [
    "dfScaledOhlc =  np.log(dfScaledOhlc + 1)"
   ]
  },
  {
   "cell_type": "markdown",
   "id": "ec96ca9f-f07a-4e1b-bc3c-aa34164c1d24",
   "metadata": {
    "tags": []
   },
   "source": [
    "## Create Input Dataset"
   ]
  },
  {
   "cell_type": "code",
   "execution_count": null,
   "id": "1449fbb7",
   "metadata": {},
   "outputs": [],
   "source": [
    "aInputSymbols = dfCrpytocurrencies['Symbol'].values\n",
    "aInputFeatures = ['weekday', 'hour', 'minute' ,'upper_shadow', 'lower_shadow' ,'return']\n",
    "\n",
    "aInputFeatures = list(map(\":\".join, itertools.product(aInputSymbols, aInputFeatures)))\n",
    "\n",
    "iNrInputFeatures = len(aInputFeatures)\n",
    "\n",
    "aBackwardTimeSteps = range(-iBackwardTimeWindow, 0)\n",
    "\n",
    "aTplInputColumns = list(itertools.product(aBackwardTimeSteps, aInputFeatures))\n",
    "aIxInputColumns = pd.MultiIndex.from_tuples(aTplInputColumns, names= ['time_step', 'feature'])\n",
    "\n",
    "dfInput = pd.DataFrame(columns = aIxInputColumns)\n",
    "\n",
    "for tplColumn in list(dfInput.columns):\n",
    "    dfInput.loc[:, tplColumn] = dfScaledOhlc[(tplColumn[1])].shift(-tplColumn[0])\n",
    "    \n",
    "ixNas = dfInput[dfInput.isna().any(axis=1)].index\n",
    "dfInput.drop(ixNas, inplace = True, errors = 'ignore') \n",
    "ixTrain= ixTrain.drop(ixNas, errors = 'ignore') \n",
    "ixValidation= ixValidation.drop(ixNas,   errors = 'ignore') \n",
    "ixTest = ixTest.drop(ixNas,   errors = 'ignore') \n",
    "\n",
    "dfInput.head()"
   ]
  },
  {
   "cell_type": "markdown",
   "id": "7a8011a0",
   "metadata": {
    "tags": []
   },
   "source": [
    "## Create Output Dataset"
   ]
  },
  {
   "cell_type": "code",
   "execution_count": null,
   "id": "ce152a53",
   "metadata": {},
   "outputs": [],
   "source": [
    "aOutputFeatures = ['return']\n",
    "aOutputFeatures = list(map(\":\".join, itertools.product([sOutputSymbol], aOutputFeatures)))\n",
    "iNrOutputFeatures = len(aOutputFeatures)\n",
    "\n",
    "aForwardTimeSteps = range(0, iForwardTimeWindow)\n",
    "\n",
    "aTplOutputColumns = list(itertools.product(aForwardTimeSteps, aOutputFeatures))\n",
    "aIxOutputColumns = pd.MultiIndex.from_tuples(aTplOutputColumns, names= ['time_step', 'feature'])\n",
    "\n",
    "dfOutput = pd.DataFrame(columns = aIxOutputColumns)\n",
    "\n",
    "for tplColumn in list(dfOutput.columns):\n",
    "    dfOutput.loc[:, tplColumn] =  dfOhlc[(tplColumn[1])].shift(-tplColumn[0])\n",
    "\n",
    "ixNas = dfOutput[dfOutput.isna().any(axis=1)].index\n",
    "dfOutput.drop(ixNas, inplace = True, errors = 'ignore') \n",
    "ixTrain= ixTrain.drop(ixNas, errors = 'ignore') \n",
    "ixValidation= ixValidation.drop(ixNas,   errors = 'ignore') \n",
    "ixTest = ixTest.drop(ixNas,   errors = 'ignore') \n",
    "dfOutput.head()"
   ]
  },
  {
   "cell_type": "markdown",
   "id": "802a6d3a-353a-45c3-a8eb-f49af789c4a6",
   "metadata": {
    "tags": []
   },
   "source": [
    "## Reshape Datasets"
   ]
  },
  {
   "cell_type": "code",
   "execution_count": null,
   "id": "296eec07",
   "metadata": {},
   "outputs": [],
   "source": [
    "axMerged = dfInput.index.join(dfOutput.index, how = 'inner')\n",
    "\n",
    "dfInput = dfInput.loc[axMerged]\n",
    "dfOutput = dfOutput.loc[axMerged]\n",
    "\n",
    "ixTrain = ixTrain.join(axMerged, how = \"inner\")\n",
    "ixValidation = ixValidation.join(axMerged, how = \"inner\")\n",
    "ixTest = ixTest.join(axMerged, how = \"inner\")\n",
    "\n",
    "\n",
    "dfInputTrain = dfInput.loc[ixTrain]\n",
    "aInputTrain = np.reshape(dfInputTrain.values, (dfInputTrain.shape[0], iBackwardTimeWindow, iNrInputFeatures))\n",
    "\n",
    "dfInputValidation = dfInput.loc[ixValidation]\n",
    "aInputValidation = np.reshape(dfInputValidation.values, (dfInputValidation.shape[0], iBackwardTimeWindow, iNrInputFeatures))\n",
    "\n",
    "dfInputTest = dfInput.loc[ixTest]\n",
    "aInputTest = np.reshape(dfInputTest.values, (dfInputTest.shape[0], iBackwardTimeWindow, iNrInputFeatures))\n",
    "\n",
    "dfOutputTrain = dfOutput.loc[ixTrain]\n",
    "aOutputTrain = np.reshape(dfOutputTrain.values, (dfOutputTrain.shape[0], iForwardTimeWindow, iNrOutputFeatures))\n",
    "\n",
    "dfOutputValidation = dfOutput.loc[ixValidation]\n",
    "aOutputValidation = np.reshape(dfOutputValidation.values, (dfOutputValidation.shape[0], iForwardTimeWindow, iNrOutputFeatures))\n",
    "\n",
    "dfOutputTest = dfOutput.loc[ixTest]\n",
    "aOutputTest = np.reshape(dfOutputTest.values, (dfOutputTest.shape[0], iForwardTimeWindow, iNrOutputFeatures))\n",
    "\n",
    "\n",
    "aInputTrain = np.asarray(aInputTrain, np.float32)\n",
    "aInputValidation = np.asarray(aInputValidation, np.float32)\n",
    "aInputTest = np.asarray(aInputTest, np.float32)\n",
    "aOutputTrain = np.asarray(aOutputTrain, np.float32)\n",
    "aOutputValidation = np.asarray(aOutputValidation, np.float32)\n",
    "aOutputTest = np.asarray(aOutputTest, np.float32)"
   ]
  },
  {
   "cell_type": "markdown",
   "id": "52944fb0",
   "metadata": {
    "tags": []
   },
   "source": [
    "#  MODEL DEVELOPMENT"
   ]
  },
  {
   "cell_type": "markdown",
   "id": "e253bd8c",
   "metadata": {
    "tags": []
   },
   "source": [
    "## Set Early Stopping"
   ]
  },
  {
   "cell_type": "code",
   "execution_count": null,
   "id": "a484f077",
   "metadata": {},
   "outputs": [],
   "source": [
    "i_c_Seed = 1\n",
    "oInitilizer = tf.keras.initializers.GlorotUniform(seed = i_c_Seed)\n",
    "\n",
    "oEarlyStop = EarlyStopping(\n",
    "    monitor = 'val_loss', \n",
    "    mode = 'min', \n",
    "    verbose = 0 , \n",
    "    patience = 20, \n",
    "    restore_best_weights = True)"
   ]
  },
  {
   "cell_type": "markdown",
   "id": "27edd3cd",
   "metadata": {
    "jp-MarkdownHeadingCollapsed": true,
    "tags": []
   },
   "source": [
    "## Define Custom Loss Function"
   ]
  },
  {
   "cell_type": "markdown",
   "id": "bac51d89-3f8e-4c93-aac7-463a9f016e7e",
   "metadata": {},
   "source": [
    "While loss function is defined following criteria is taken into consideration:\n",
    "1. Opposite signs should be penalized.\n",
    "1. Opposite sings will be worse when the magnitute of error increases.\n",
    "1. Any of same sign is better than any of the opposite signs.\n",
    "1. Same sign is the best when the error is 0.\n",
    "\n",
    "Following logic also should have been implemented but it was unsuccessful to implement due to forcing negative errors. It will be used as 'metric' function.\n",
    "1. Same sign is positive error is better than negative error (err = act - pred )"
   ]
  },
  {
   "cell_type": "code",
   "execution_count": null,
   "id": "e2a023db-aaa6-4236-b7d7-e508b17b38c0",
   "metadata": {},
   "outputs": [],
   "source": [
    "def fCalculateLoss(aActual, aPrediction):\n",
    "    aLossDueToError = tf.math.subtract(aActual ,aPrediction)\n",
    "    aLossDueToError = tf.math.abs(aLossDueToError)\n",
    "    \n",
    "    iMultiplier = aActual.shape[len(aActual.shape) - 1]\n",
    "    fPenalty = tf.math.reduce_max(aLossDueToError)\n",
    "    fPenalty = fPenalty * iMultiplier\n",
    "    \n",
    "    aLossDueToSignDiff = tf.math.abs(tf.math.subtract(tf.math.sign(aActual), tf.math.sign(aPrediction)) )\n",
    "    aLossDueToSignDiff = tf.where(aLossDueToSignDiff == 0, aLossDueToSignDiff, fPenalty)\n",
    "\n",
    "    aTotalLoss = aLossDueToError + aLossDueToSignDiff\n",
    "\n",
    "    return tf.math.reduce_mean(aTotalLoss)\n"
   ]
  },
  {
   "cell_type": "markdown",
   "id": "a75b209e",
   "metadata": {
    "tags": []
   },
   "source": [
    "## Build Model"
   ]
  },
  {
   "cell_type": "markdown",
   "id": "2a48d744-a348-4435-b0c7-88054f26e20e",
   "metadata": {
    "tags": []
   },
   "source": [
    "### MLP"
   ]
  },
  {
   "cell_type": "code",
   "execution_count": null,
   "id": "7fa552d5-8eb4-4008-b068-b6d5683a8fa0",
   "metadata": {},
   "outputs": [],
   "source": [
    "if sModelType == 'MLP':\n",
    "    aInputMlp = keras.Input(\n",
    "        shape=(iBackwardTimeWindow, iNrInputFeatures))\n",
    "\n",
    "    aW = keras.layers.Flatten()(aInputMlp)\n",
    "    aW = keras.layers.Dense(iNrOfHiddenNeurons, kernel_initializer = oInitilizer)(aW)\n",
    "    aW = keras.layers.Dense(iForwardTimeWindow*iNrOutputFeatures, kernel_initializer = oInitilizer)(aW)\n",
    "    aW = keras.layers.Reshape((iForwardTimeWindow, iNrOutputFeatures))(aW)\n",
    "\n",
    "    aOutputMlp = aW\n",
    "    oModelMlp = keras.Model(\n",
    "        inputs=aInputMlp,\n",
    "        outputs=aOutputMlp\n",
    "    )\n",
    "\n",
    "    oOptimizerMlp = tf.keras.optimizers.Adam(learning_rate=1e-04)\n",
    "    oModelMlp.compile(optimizer=oOptimizerMlp,\n",
    "                             loss = fCalculateLoss\n",
    "                            )\n",
    "\n",
    "    oPredictiveModel = oModelMlp"
   ]
  },
  {
   "cell_type": "markdown",
   "id": "66367dfb",
   "metadata": {
    "jp-MarkdownHeadingCollapsed": true,
    "tags": []
   },
   "source": [
    "### LSTM"
   ]
  },
  {
   "cell_type": "code",
   "execution_count": null,
   "id": "2e48a9a2-527b-4226-98d8-39d7d4a79c8e",
   "metadata": {
    "code_folding": []
   },
   "outputs": [],
   "source": [
    "if sModelType == 'LSTM':\n",
    "    aInputDeepLstm = keras.Input(\n",
    "        shape=(iBackwardTimeWindow, iNrInputFeatures))\n",
    "\n",
    "    aW = keras.layers.LSTM(64, return_sequences = True)(aInputDeepLstm)\n",
    "    aW = keras.layers.Flatten()(aW)\n",
    "    aW = keras.layers.Dense(iForwardTimeWindow*iNrOutputFeatures)(aW)\n",
    "    aW = keras.layers.Reshape((iForwardTimeWindow, iNrOutputFeatures))(aW)\n",
    "\n",
    "    aOutputDeepLstm = aW\n",
    "    oModelDeepLstm = keras.Model(\n",
    "        inputs=aInputDeepLstm,\n",
    "        outputs=aOutputDeepLstm\n",
    "    )\n",
    "\n",
    "    oOptimizerDeepLstm = tf.keras.optimizers.Adam(learning_rate=1e-04)\n",
    "    oModelDeepLstm.compile(optimizer=oOptimizerDeepLstm,\n",
    "                             loss = fCalculateLoss\n",
    "                            )\n",
    "\n",
    "    oPredictiveModel = oModelDeepLstm\n"
   ]
  },
  {
   "cell_type": "markdown",
   "id": "d11b935e",
   "metadata": {
    "jp-MarkdownHeadingCollapsed": true,
    "tags": []
   },
   "source": [
    "### Convolutional Encoder-Decoder Model"
   ]
  },
  {
   "cell_type": "code",
   "execution_count": null,
   "id": "bf77ce35-7d29-43c1-990e-a80a0fef20fa",
   "metadata": {},
   "outputs": [],
   "source": [
    "if sModelType == 'Convolutional Encoder Decoder':\n",
    "    aInputs = keras.Input(\n",
    "        shape=(iBackwardTimeWindow, iNrInputFeatures))\n",
    "\n",
    "    aEncoderHiddens, aFinalH, aFinalC = keras.layers.LSTM(iNrOfHiddenNeurons,\n",
    "                                             return_state = True, \n",
    "                                             return_sequences = True\n",
    "                                            )(aInputs)\n",
    "    aFinalH = keras.layers.BatchNormalization()(aFinalH)\n",
    "    aFinalC = keras.layers.BatchNormalization()(aFinalC)\n",
    "\n",
    "    aFeatureMap = keras.layers.Conv1D(64, 2)(aEncoderHiddens)\n",
    "    aFeatureMap = keras.layers.MaxPooling1D(2)(aFeatureMap)\n",
    "    aFlatted = keras.layers.Flatten()(aFeatureMap)\n",
    "\n",
    "    aDecoderInputs = keras.layers.RepeatVector(iForwardTimeWindow)(aFlatted)\n",
    "\n",
    "    aDecoderHiddens = keras.layers.LSTM(iNrOfHiddenNeurons, \n",
    "                           return_state = False, \n",
    "                           return_sequences = True\n",
    "                          )(aDecoderInputs, initial_state=[aFinalH, aFinalC])\n",
    "\n",
    "\n",
    "    aOutputs = keras.layers.TimeDistributed(\n",
    "        Dense(iNrOutputFeatures)\n",
    "    )(aDecoderHiddens)\n",
    "\n",
    "    oPredictiveModel = keras.Model(\n",
    "        inputs=aInputs,\n",
    "        outputs=aOutputs\n",
    "    )\n",
    "\n",
    "    oOptimizer = tf.keras.optimizers.Adam(learning_rate=1e-05)\n",
    "    oPredictiveModel.compile(loss = fCalculateLoss,\n",
    "                             optimizer=oOptimizer\n",
    "                            )\n"
   ]
  },
  {
   "cell_type": "markdown",
   "id": "fc1ed1a7",
   "metadata": {
    "jp-MarkdownHeadingCollapsed": true,
    "tags": []
   },
   "source": [
    "### Luong's Attention Model"
   ]
  },
  {
   "cell_type": "code",
   "execution_count": null,
   "id": "b6b49d3c",
   "metadata": {},
   "outputs": [],
   "source": [
    "if sModelType == 'Luongs Attention':\n",
    "    aEncoderInputs = keras.Input(\n",
    "        shape=(iBackwardTimeWindow, iNrInputFeatures))\n",
    "\n",
    "    aEncoderHiddens, aFinalH, aFinalC = keras.layers.LSTM(iNrOfHiddenNeurons,\n",
    "                                             return_state = True, \n",
    "                                             return_sequences = True\n",
    "                                            )(aEncoderInputs)\n",
    "    aFinalH = keras.layers.BatchNormalization()(aFinalH)\n",
    "    aFinalC = keras.layers.BatchNormalization()(aFinalC)\n",
    "\n",
    "    aDecoderInputs = keras.layers.RepeatVector(iForwardTimeWindow)(aFinalH)\n",
    "\n",
    "    aDecoderHiddens = keras.layers.LSTM(iNrOfHiddenNeurons, \n",
    "                           return_state = False, \n",
    "                           return_sequences = True\n",
    "                          )(aDecoderInputs, initial_state=[aFinalH, aFinalC])\n",
    "\n",
    "    aAttentions = keras.layers.dot([aDecoderHiddens, aEncoderHiddens], axes=[2, 2])\n",
    "    aAttentions = keras.layers.Activation('softmax')(aAttentions)\n",
    "\n",
    "    aContextVector = keras.layers.dot([aAttentions, aEncoderHiddens], axes=[2,1])\n",
    "    aContextVector = keras.layers.BatchNormalization()(aContextVector)\n",
    "    aContextVector = keras.layers.concatenate([aContextVector, aDecoderHiddens])\n",
    "\n",
    "    aDecoderOutputs = keras.layers.TimeDistributed(\n",
    "        keras.layers.Dense(iNrOutputFeatures)\n",
    "    )(aContextVector)\n",
    "\n",
    "    oPredictiveModel = keras.Model(\n",
    "        inputs=aEncoderInputs,\n",
    "        outputs=aDecoderOutputs\n",
    "    )\n",
    "\n",
    "    oOptimizer = tf.keras.optimizers.Adam(learning_rate=1e-05)\n",
    "    oPredictiveModel.compile(loss = fCalculateLoss, \n",
    "                             optimizer=oOptimizer\n",
    "                            )\n"
   ]
  },
  {
   "cell_type": "markdown",
   "id": "7ec09d00-d453-413e-82b0-d9e2f777f7ba",
   "metadata": {
    "jp-MarkdownHeadingCollapsed": true,
    "tags": []
   },
   "source": [
    "## Plot Model Architecture"
   ]
  },
  {
   "cell_type": "code",
   "execution_count": null,
   "id": "97529958-2133-4445-bd8b-9455843cc0c4",
   "metadata": {},
   "outputs": [],
   "source": [
    "tf.keras.utils.plot_model(oPredictiveModel,  show_shapes=True)"
   ]
  },
  {
   "cell_type": "markdown",
   "id": "dedaa4fc",
   "metadata": {
    "jp-MarkdownHeadingCollapsed": true,
    "tags": []
   },
   "source": [
    "## Fit Model"
   ]
  },
  {
   "cell_type": "code",
   "execution_count": null,
   "id": "3871f87c",
   "metadata": {},
   "outputs": [],
   "source": [
    "iEpochSize = 10000\n",
    "dtStartTime = time.time()\n",
    "oPredictiveModel.fit(\n",
    "    aInputTrain, \n",
    "    aOutputTrain, \n",
    "    epochs=iEpochSize, \n",
    "    batch_size=iBatchSize, \n",
    "    verbose=0, \n",
    "    validation_data= (aInputValidation, aOutputValidation),\n",
    "    validation_batch_size= iBatchSize\n",
    "    ,callbacks=[oEarlyStop]\n",
    ")\n",
    "dtEndTime = time.time()\n",
    "dtTrainingDuration = dtEndTime -dtStartTime"
   ]
  },
  {
   "cell_type": "markdown",
   "id": "857470db-83a8-4c90-ac73-bb6300ef196a",
   "metadata": {
    "jp-MarkdownHeadingCollapsed": true,
    "tags": []
   },
   "source": [
    "## Epoch History"
   ]
  },
  {
   "cell_type": "code",
   "execution_count": null,
   "id": "141bb9fc",
   "metadata": {},
   "outputs": [],
   "source": [
    "plt.figure(figsize = (20,10))\n",
    "dfHistory = pd.DataFrame(oPredictiveModel.history.history)\n",
    "oFig = sns.lineplot(data = dfHistory)"
   ]
  },
  {
   "cell_type": "markdown",
   "id": "75633cc0",
   "metadata": {
    "jp-MarkdownHeadingCollapsed": true,
    "tags": []
   },
   "source": [
    "## Test Model"
   ]
  },
  {
   "cell_type": "code",
   "execution_count": null,
   "id": "4d372e80",
   "metadata": {},
   "outputs": [],
   "source": [
    "aPrediction = oPredictiveModel.predict(aInputTest)\n",
    "aPrediction = aPrediction.reshape((-1, iForwardTimeWindow * iNrOutputFeatures))\n",
    "dfPrediction = pd.DataFrame(data = aPrediction, index = ixTest, columns = aIxOutputColumns)\n",
    "\n",
    "aActual = aOutputTest.reshape((-1, iForwardTimeWindow * iNrOutputFeatures))\n",
    "dfActual =  pd.DataFrame(data = aActual, index = ixTest, columns = aIxOutputColumns).copy()"
   ]
  },
  {
   "cell_type": "markdown",
   "id": "75ca3ab0",
   "metadata": {
    "jp-MarkdownHeadingCollapsed": true,
    "tags": []
   },
   "source": [
    "# REFERENCES"
   ]
  },
  {
   "cell_type": "markdown",
   "id": "49501761",
   "metadata": {},
   "source": [
    "https://www.tensorflow.org/guide/keras/train_and_evaluate#passing_data_to_multi-input_multi-output_models\n",
    "\n",
    "https://www.tensorflow.org/guide/keras/writing_a_training_loop_from_scratch/\n",
    "\n",
    "https://www.tensorflow.org/guide/keras/customizing_what_happens_in_fit/\n",
    "\n",
    "https://towardsdatascience.com/customize-loss-function-to-make-lstm-model-more-applicable-in-stock-price-prediction-b1c50e50b16c\n",
    "\n",
    "https://keras.io/getting_started/faq/\n",
    "\n",
    "https://machinelearningmastery.com/how-to-develop-lstm-models-for-multi-step-time-series-forecasting-of-household-power-consumption/\n",
    "\n",
    "https://www.tensorflow.org/tutorials/structured_data/time_series\n",
    "\n",
    "https://towardsdatascience.com/encoder-decoder-model-for-multistep-time-series-forecasting-using-pytorch-5d54c6af6e60\n",
    "\n",
    "https://levelup.gitconnected.com/building-seq2seq-lstm-with-luong-attention-in-keras-for-time-series-forecasting-1ee00958decb"
   ]
  }
 ],
 "metadata": {
  "kernelspec": {
   "display_name": "Python 3",
   "language": "python",
   "name": "python3"
  },
  "language_info": {
   "codemirror_mode": {
    "name": "ipython",
    "version": 3
   },
   "file_extension": ".py",
   "mimetype": "text/x-python",
   "name": "python",
   "nbconvert_exporter": "python",
   "pygments_lexer": "ipython3",
   "version": "3.7.10"
  },
  "toc-autonumbering": true,
  "varInspector": {
   "cols": {
    "lenName": 16,
    "lenType": 16,
    "lenVar": 40
   },
   "kernels_config": {
    "python": {
     "delete_cmd_postfix": "",
     "delete_cmd_prefix": "del ",
     "library": "var_list.py",
     "varRefreshCmd": "print(var_dic_list())"
    },
    "r": {
     "delete_cmd_postfix": ") ",
     "delete_cmd_prefix": "rm(",
     "library": "var_list.r",
     "varRefreshCmd": "cat(var_dic_list()) "
    }
   },
   "types_to_exclude": [
    "module",
    "function",
    "builtin_function_or_method",
    "instance",
    "_Feature"
   ],
   "window_display": false
  }
 },
 "nbformat": 4,
 "nbformat_minor": 5
}
