{
 "cells": [
  {
   "cell_type": "code",
   "execution_count": 6,
   "id": "0611acbc",
   "metadata": {},
   "outputs": [],
   "source": [
    "import pandas as pd\n",
    "\n",
    "import numpy as np\n",
    "\n",
    "from datetime import datetime\n",
    "from datetime import timedelta\n",
    "\n",
    "import pytz\n",
    "import sys\n",
    "import pickle\n",
    "\n",
    "from sklearn import preprocessing\n",
    "from sklearn.preprocessing import MinMaxScaler\n",
    "from sklearn.preprocessing import StandardScaler\n",
    "from sklearn.preprocessing import OneHotEncoder\n",
    "from sklearn.model_selection import train_test_split\n",
    "from sklearn.metrics import classification_report\n",
    "from sklearn.utils import shuffle\n",
    "from sklearn import metrics\n",
    "from sklearn.metrics import mean_absolute_error, mean_squared_error, max_error, median_absolute_error, r2_score, explained_variance_score\n",
    "\n",
    "import seaborn as sns\n",
    "\n",
    "import plotly.graph_objects as go\n",
    "\n",
    "from Long_Short_Term_Memory import Long_Short_Term_Memory\n",
    "\n",
    "from Optimize_Portfolio import PortfolioManagement\n",
    "\n",
    "import MetaTrader5 as mt5\n",
    "\n",
    "import ta\n",
    "\n",
    "from scipy.stats import zscore\n",
    "\n",
    "import os\n",
    "os.environ['TF_CPP_MIN_LOG_LEVEL'] = '2' \n",
    "\n",
    "import tensorflow as tf\n",
    "from tensorflow import keras\n",
    "from tensorflow.keras import Sequential\n",
    "from tensorflow.keras.layers import Dense\n",
    "from tensorflow.keras.layers import GlobalMaxPooling1D\n",
    "from tensorflow.keras.callbacks import EarlyStopping\n",
    "from tensorflow.keras.layers import LSTM\n",
    "from tensorflow.keras import regularizers"
   ]
  },
  {
   "cell_type": "code",
   "execution_count": 7,
   "id": "a71f63b1",
   "metadata": {
    "code_folding": [
     33
    ]
   },
   "outputs": [],
   "source": [
    "gc_o_TIME_ZONE = pytz.timezone(\"Etc/UTC\")\n",
    "gc_dt_FROM = datetime(2021, 11, 20, tzinfo=gc_o_TIME_ZONE)\n",
    "gc_dt_TO = datetime(2021, 12, 1, tzinfo=gc_o_TIME_ZONE)\n",
    "def dfGetMarketOhlc(sSymbol):\n",
    "    if not mt5.initialize():\n",
    "        print(\"initialize() failed, error code =\", mt5.last_error())\n",
    "        sys.exit()\n",
    "\n",
    "    aSymbolInfo = mt5.symbol_info(sSymbol)\n",
    "    if not aSymbolInfo:\n",
    "        print(\"symbol_info() failed, error code =\", mt5.last_error())\n",
    "        sys.exit()\n",
    "    \n",
    "    dfOhlc = mt5.copy_rates_range(\n",
    "        sSymbol,\n",
    "        mt5.TIMEFRAME_M1,\n",
    "        gc_dt_FROM, \n",
    "        gc_dt_TO,\n",
    "    )\n",
    "\n",
    "    if len(dfOhlc) == 0:\n",
    "        print(\"copy_rates_range() failed, error code =\", mt5.last_error())\n",
    "        sys.exit()\n",
    "\n",
    "    mt5.shutdown()\n",
    "    \n",
    "    dfOhlc = pd.DataFrame(dfOhlc)\n",
    "\n",
    "    dfOhlc['timestamp'] = pd.to_datetime(dfOhlc['time'], unit= \"s\")\n",
    "    dfOhlc.set_index('timestamp', inplace=True)\n",
    "        \n",
    "    \n",
    "    return dfOhlc "
   ]
  },
  {
   "cell_type": "code",
   "execution_count": 8,
   "id": "ca3eba12",
   "metadata": {
    "code_folding": [
     0
    ]
   },
   "outputs": [],
   "source": [
    "def dfScaleData(sSubModelName, sScalerName,dfTrain,dfValidation, dfTest, bIsStandard = True):\n",
    "    sScalersDirectory = os.path.join(sSubModelName , \"__scalers__\")\n",
    "    if bIsStandard == True:\n",
    "        oScaler = StandardScaler()\n",
    "    else:\n",
    "        oScaler = MinMaxScaler()\n",
    "\n",
    "    oScaler.fit(dfTrain)\n",
    "\n",
    "    aScaledTrain = oScaler.transform(dfTrain)\n",
    "    aScaledValidation = oScaler.transform(dfValidation)\n",
    "    aScaledTest = oScaler.transform(dfTest)\n",
    "\n",
    "    dfScaledTrain = pd.DataFrame(aScaledTrain, columns = dfTrain.columns, index = dfTrain.index)\n",
    "    dfScaledValidation = pd.DataFrame(aScaledValidation, columns = dfValidation.columns, index = dfValidation.index)\n",
    "    dfScaledTest = pd.DataFrame(aScaledTest, columns = dfTest.columns, index = dfTest.index)\n",
    "\n",
    "    sScalerFilePath =os.path.join(sScalersDirectory, sScalerName + \".sav\")\n",
    "    os.makedirs(os.path.dirname(sScalerFilePath), exist_ok=True)\n",
    "    pickle.dump(oScaler, open(sScalerFilePath, 'wb'))\n",
    "    \n",
    "    \n",
    "    return dfScaledTrain, dfScaledValidation, dfScaledTest"
   ]
  },
  {
   "cell_type": "code",
   "execution_count": 9,
   "id": "a44508f4",
   "metadata": {
    "code_folding": []
   },
   "outputs": [],
   "source": [
    "sSymbol = \"ETHUSD\""
   ]
  },
  {
   "cell_type": "code",
   "execution_count": 10,
   "id": "250d7a3c",
   "metadata": {},
   "outputs": [],
   "source": [
    "dfOhlc = dfGetMarketOhlc(sSymbol)"
   ]
  },
  {
   "cell_type": "code",
   "execution_count": 11,
   "id": "66398f37",
   "metadata": {},
   "outputs": [],
   "source": [
    "dfOhlc[\"weekday\"] = dfOhlc.index.weekday\n",
    "dfOhlc[\"hour\"] = dfOhlc.index.hour\n",
    "dfOhlc[\"minute\"] = dfOhlc.index.minute"
   ]
  },
  {
   "cell_type": "code",
   "execution_count": 12,
   "id": "93639e4e",
   "metadata": {},
   "outputs": [],
   "source": [
    "dfOhlc.drop([\"time\"], axis = 1 , inplace = True)"
   ]
  },
  {
   "cell_type": "code",
   "execution_count": 13,
   "id": "171c9aac",
   "metadata": {},
   "outputs": [
    {
     "data": {
      "text/html": [
       "<div>\n",
       "<style scoped>\n",
       "    .dataframe tbody tr th:only-of-type {\n",
       "        vertical-align: middle;\n",
       "    }\n",
       "\n",
       "    .dataframe tbody tr th {\n",
       "        vertical-align: top;\n",
       "    }\n",
       "\n",
       "    .dataframe thead th {\n",
       "        text-align: right;\n",
       "    }\n",
       "</style>\n",
       "<table border=\"1\" class=\"dataframe\">\n",
       "  <thead>\n",
       "    <tr style=\"text-align: right;\">\n",
       "      <th></th>\n",
       "      <th>open</th>\n",
       "      <th>high</th>\n",
       "      <th>low</th>\n",
       "      <th>close</th>\n",
       "      <th>tick_volume</th>\n",
       "      <th>spread</th>\n",
       "      <th>real_volume</th>\n",
       "      <th>weekday</th>\n",
       "      <th>hour</th>\n",
       "      <th>minute</th>\n",
       "    </tr>\n",
       "    <tr>\n",
       "      <th>timestamp</th>\n",
       "      <th></th>\n",
       "      <th></th>\n",
       "      <th></th>\n",
       "      <th></th>\n",
       "      <th></th>\n",
       "      <th></th>\n",
       "      <th></th>\n",
       "      <th></th>\n",
       "      <th></th>\n",
       "      <th></th>\n",
       "    </tr>\n",
       "  </thead>\n",
       "  <tbody>\n",
       "    <tr>\n",
       "      <th>2021-11-20 00:00:00</th>\n",
       "      <td>4270.56</td>\n",
       "      <td>4279.98</td>\n",
       "      <td>4270.56</td>\n",
       "      <td>4279.66</td>\n",
       "      <td>600</td>\n",
       "      <td>1825</td>\n",
       "      <td>12000</td>\n",
       "      <td>5</td>\n",
       "      <td>0</td>\n",
       "      <td>0</td>\n",
       "    </tr>\n",
       "    <tr>\n",
       "      <th>2021-11-20 00:01:00</th>\n",
       "      <td>4279.96</td>\n",
       "      <td>4280.80</td>\n",
       "      <td>4278.37</td>\n",
       "      <td>4279.02</td>\n",
       "      <td>600</td>\n",
       "      <td>1828</td>\n",
       "      <td>12000</td>\n",
       "      <td>5</td>\n",
       "      <td>0</td>\n",
       "      <td>1</td>\n",
       "    </tr>\n",
       "    <tr>\n",
       "      <th>2021-11-20 00:02:00</th>\n",
       "      <td>4279.02</td>\n",
       "      <td>4279.32</td>\n",
       "      <td>4274.76</td>\n",
       "      <td>4275.01</td>\n",
       "      <td>597</td>\n",
       "      <td>1827</td>\n",
       "      <td>11940</td>\n",
       "      <td>5</td>\n",
       "      <td>0</td>\n",
       "      <td>2</td>\n",
       "    </tr>\n",
       "    <tr>\n",
       "      <th>2021-11-20 00:03:00</th>\n",
       "      <td>4274.86</td>\n",
       "      <td>4275.90</td>\n",
       "      <td>4271.30</td>\n",
       "      <td>4273.98</td>\n",
       "      <td>598</td>\n",
       "      <td>1825</td>\n",
       "      <td>11960</td>\n",
       "      <td>5</td>\n",
       "      <td>0</td>\n",
       "      <td>3</td>\n",
       "    </tr>\n",
       "    <tr>\n",
       "      <th>2021-11-20 00:04:00</th>\n",
       "      <td>4273.98</td>\n",
       "      <td>4276.23</td>\n",
       "      <td>4272.34</td>\n",
       "      <td>4272.77</td>\n",
       "      <td>601</td>\n",
       "      <td>1826</td>\n",
       "      <td>12020</td>\n",
       "      <td>5</td>\n",
       "      <td>0</td>\n",
       "      <td>4</td>\n",
       "    </tr>\n",
       "    <tr>\n",
       "      <th>...</th>\n",
       "      <td>...</td>\n",
       "      <td>...</td>\n",
       "      <td>...</td>\n",
       "      <td>...</td>\n",
       "      <td>...</td>\n",
       "      <td>...</td>\n",
       "      <td>...</td>\n",
       "      <td>...</td>\n",
       "      <td>...</td>\n",
       "      <td>...</td>\n",
       "    </tr>\n",
       "    <tr>\n",
       "      <th>2021-11-30 23:56:00</th>\n",
       "      <td>4632.26</td>\n",
       "      <td>4633.67</td>\n",
       "      <td>4629.24</td>\n",
       "      <td>4629.93</td>\n",
       "      <td>600</td>\n",
       "      <td>1237</td>\n",
       "      <td>12000</td>\n",
       "      <td>1</td>\n",
       "      <td>23</td>\n",
       "      <td>56</td>\n",
       "    </tr>\n",
       "    <tr>\n",
       "      <th>2021-11-30 23:57:00</th>\n",
       "      <td>4629.98</td>\n",
       "      <td>4631.61</td>\n",
       "      <td>4624.89</td>\n",
       "      <td>4626.07</td>\n",
       "      <td>598</td>\n",
       "      <td>1236</td>\n",
       "      <td>11960</td>\n",
       "      <td>1</td>\n",
       "      <td>23</td>\n",
       "      <td>57</td>\n",
       "    </tr>\n",
       "    <tr>\n",
       "      <th>2021-11-30 23:58:00</th>\n",
       "      <td>4626.07</td>\n",
       "      <td>4626.31</td>\n",
       "      <td>4620.91</td>\n",
       "      <td>4623.47</td>\n",
       "      <td>600</td>\n",
       "      <td>1236</td>\n",
       "      <td>12000</td>\n",
       "      <td>1</td>\n",
       "      <td>23</td>\n",
       "      <td>58</td>\n",
       "    </tr>\n",
       "    <tr>\n",
       "      <th>2021-11-30 23:59:00</th>\n",
       "      <td>4623.47</td>\n",
       "      <td>4625.33</td>\n",
       "      <td>4621.54</td>\n",
       "      <td>4623.67</td>\n",
       "      <td>600</td>\n",
       "      <td>1236</td>\n",
       "      <td>12000</td>\n",
       "      <td>1</td>\n",
       "      <td>23</td>\n",
       "      <td>59</td>\n",
       "    </tr>\n",
       "    <tr>\n",
       "      <th>2021-12-01 00:00:00</th>\n",
       "      <td>4623.62</td>\n",
       "      <td>4623.87</td>\n",
       "      <td>4618.53</td>\n",
       "      <td>4622.62</td>\n",
       "      <td>600</td>\n",
       "      <td>1235</td>\n",
       "      <td>12000</td>\n",
       "      <td>2</td>\n",
       "      <td>0</td>\n",
       "      <td>0</td>\n",
       "    </tr>\n",
       "  </tbody>\n",
       "</table>\n",
       "<p>15822 rows × 10 columns</p>\n",
       "</div>"
      ],
      "text/plain": [
       "                        open     high      low    close  tick_volume  spread  \\\n",
       "timestamp                                                                      \n",
       "2021-11-20 00:00:00  4270.56  4279.98  4270.56  4279.66          600    1825   \n",
       "2021-11-20 00:01:00  4279.96  4280.80  4278.37  4279.02          600    1828   \n",
       "2021-11-20 00:02:00  4279.02  4279.32  4274.76  4275.01          597    1827   \n",
       "2021-11-20 00:03:00  4274.86  4275.90  4271.30  4273.98          598    1825   \n",
       "2021-11-20 00:04:00  4273.98  4276.23  4272.34  4272.77          601    1826   \n",
       "...                      ...      ...      ...      ...          ...     ...   \n",
       "2021-11-30 23:56:00  4632.26  4633.67  4629.24  4629.93          600    1237   \n",
       "2021-11-30 23:57:00  4629.98  4631.61  4624.89  4626.07          598    1236   \n",
       "2021-11-30 23:58:00  4626.07  4626.31  4620.91  4623.47          600    1236   \n",
       "2021-11-30 23:59:00  4623.47  4625.33  4621.54  4623.67          600    1236   \n",
       "2021-12-01 00:00:00  4623.62  4623.87  4618.53  4622.62          600    1235   \n",
       "\n",
       "                     real_volume  weekday  hour  minute  \n",
       "timestamp                                                \n",
       "2021-11-20 00:00:00        12000        5     0       0  \n",
       "2021-11-20 00:01:00        12000        5     0       1  \n",
       "2021-11-20 00:02:00        11940        5     0       2  \n",
       "2021-11-20 00:03:00        11960        5     0       3  \n",
       "2021-11-20 00:04:00        12020        5     0       4  \n",
       "...                          ...      ...   ...     ...  \n",
       "2021-11-30 23:56:00        12000        1    23      56  \n",
       "2021-11-30 23:57:00        11960        1    23      57  \n",
       "2021-11-30 23:58:00        12000        1    23      58  \n",
       "2021-11-30 23:59:00        12000        1    23      59  \n",
       "2021-12-01 00:00:00        12000        2     0       0  \n",
       "\n",
       "[15822 rows x 10 columns]"
      ]
     },
     "execution_count": 13,
     "metadata": {},
     "output_type": "execute_result"
    }
   ],
   "source": [
    "dfOhlc"
   ]
  },
  {
   "cell_type": "markdown",
   "id": "1127d583",
   "metadata": {},
   "source": [
    "# DEEP LEARNING MODEL"
   ]
  },
  {
   "cell_type": "code",
   "execution_count": 14,
   "id": "137167f1",
   "metadata": {},
   "outputs": [],
   "source": [
    "sModelName = os.path.join(sSymbol , \"__deep learning model__\")"
   ]
  },
  {
   "cell_type": "markdown",
   "id": "e4f452e4",
   "metadata": {},
   "source": [
    "## Preprocessing"
   ]
  },
  {
   "cell_type": "code",
   "execution_count": 15,
   "id": "f001b8a0",
   "metadata": {},
   "outputs": [],
   "source": [
    "dfInput = pd.DataFrame()\n",
    "aInputColumns = ['open', 'high', 'low', 'close', 'tick_volume', 'spread', 'real_volume','weekday', 'hour', 'minute']\n",
    "for i in range(-3, 0):\n",
    "    for sInputColumn in aInputColumns:\n",
    "        dfInput[sInputColumn + str(i)] = dfOhlc[sInputColumn].shift(-i)\n"
   ]
  },
  {
   "cell_type": "code",
   "execution_count": 16,
   "id": "fce0a1ed",
   "metadata": {},
   "outputs": [],
   "source": [
    "dfOutput = pd.DataFrame()\n",
    "aOutputColumns = ['close']\n",
    "for i in range(0, 1):\n",
    "    for sOutputColumn in aOutputColumns:\n",
    "        dfOutput[sOutputColumn + str(i)] = dfOhlc[sOutputColumn].shift(-i)"
   ]
  },
  {
   "cell_type": "code",
   "execution_count": 17,
   "id": "df73c9f2",
   "metadata": {},
   "outputs": [],
   "source": [
    "dfMerged = dfInput.join(dfOutput, how= \"inner\")\n",
    "dfMerged.dropna(inplace=True)\n",
    "dfInput = dfMerged[dfInput.columns]\n",
    "dfOutput = dfMerged[dfOutput.columns]"
   ]
  },
  {
   "cell_type": "markdown",
   "id": "e68fffe3",
   "metadata": {},
   "source": [
    "### Split Data"
   ]
  },
  {
   "cell_type": "code",
   "execution_count": 18,
   "id": "5275cac2",
   "metadata": {},
   "outputs": [],
   "source": [
    "gc_dec_TRAINING_RATIO = 0.6\n",
    "gc_dec_VALIDATION_RATIO = 0.2\n",
    "gc_dec_TEST_RATIO = 0.2\n",
    "\n",
    "dfInputTrainValidation, dfInputTest, dfOutputTrainValidation, dfOutputTest = train_test_split(\n",
    "    dfInput,\n",
    "    dfOutput,\n",
    "    test_size=gc_dec_TEST_RATIO,\n",
    "    shuffle=False)\n",
    "\n",
    "dfInputTrain, dfInputValidation, dfOutputTrain, dfOutputValidation = train_test_split(\n",
    "    dfInputTrainValidation,\n",
    "    dfOutputTrainValidation,\n",
    "    test_size=(1/(1 -gc_dec_TEST_RATIO))-1,\n",
    "    shuffle=False)\n",
    "\n",
    "\n",
    "dfInputTrain = dfInputTrain.astype(float)\n",
    "dfInputValidation = dfInputValidation.astype(float)\n",
    "dfInputTest = dfInputTest.astype(float)\n",
    "dfOutputTrain = dfOutputTrain.astype(float)\n",
    "dfOutputValidation = dfOutputValidation.astype(float)\n",
    "dfOutputTest = dfOutputTest.astype(float)"
   ]
  },
  {
   "cell_type": "markdown",
   "id": "eb9a9ef2",
   "metadata": {},
   "source": [
    "### Scale Data"
   ]
  },
  {
   "cell_type": "code",
   "execution_count": 19,
   "id": "a9f3d4c2",
   "metadata": {},
   "outputs": [],
   "source": [
    "dfScaledInputTrain, dfScaledInputValidation, dfScaledInputTest = dfScaleData(sModelName,\n",
    "                                                                             \"input\", \n",
    "                                                                             dfInputTrain,\n",
    "                                                                             dfInputValidation, \n",
    "                                                                             dfInputTest)\n",
    "\n",
    "dfScaledOutputTrain, dfScaledOutputValidation, dfScaledOutputTest = dfScaleData(sModelName,\n",
    "                                                                                \"output\", \n",
    "                                                                                dfOutputTrain,\n",
    "                                                                                dfOutputValidation, \n",
    "                                                                                dfOutputTest,\n",
    "                                                                               False)"
   ]
  },
  {
   "cell_type": "markdown",
   "id": "52944fb0",
   "metadata": {},
   "source": [
    "## Train"
   ]
  },
  {
   "cell_type": "markdown",
   "id": "e253bd8c",
   "metadata": {},
   "source": [
    "### Set Hyperparameters"
   ]
  },
  {
   "cell_type": "code",
   "execution_count": 20,
   "id": "a484f077",
   "metadata": {},
   "outputs": [],
   "source": [
    "iBatchSize = 128\n",
    "\n",
    "oLrSchedule = keras.optimizers.schedules.ExponentialDecay(\n",
    "    1e-05, decay_steps=100000, decay_rate=0.50, staircase=True\n",
    ")\n",
    "\n",
    "\n",
    "oOptimizer = tf.keras.optimizers.Adam(learning_rate=1e-05)\n",
    "\n",
    "oEarlyStop = EarlyStopping(\n",
    "    monitor = 'val_loss', \n",
    "    mode = 'min', \n",
    "    verbose = 0 , \n",
    "    patience = 20, \n",
    "    restore_best_weights = True)\n",
    "iEpochSize = 10000"
   ]
  },
  {
   "cell_type": "markdown",
   "id": "a75b209e",
   "metadata": {},
   "source": [
    "### Build Model"
   ]
  },
  {
   "cell_type": "code",
   "execution_count": 21,
   "id": "9b360a41",
   "metadata": {},
   "outputs": [],
   "source": [
    "oInputRates = keras.Input(\n",
    "    shape=(\n",
    "        dfScaledInputTrain.shape[1]), \n",
    "    name=\"aRates\")\n",
    "\n",
    "aW = Dense((100))(oInputRates)\n",
    "aW = Dense((100), activation = \"relu\")(aW)\n",
    "aW = Dense((100), activation = \"relu\")(aW)\n",
    "aOutputRegression = Dense(1, name = \"Regression\", activation = \"relu\")(aW)\n",
    "\n",
    "oPredictiveModel = keras.Model(\n",
    "    inputs=oInputRates, \n",
    "    outputs=aOutputRegression\n",
    ")"
   ]
  },
  {
   "cell_type": "markdown",
   "id": "ac55b3b7",
   "metadata": {},
   "source": [
    "### Compile Model"
   ]
  },
  {
   "cell_type": "code",
   "execution_count": 22,
   "id": "a43debeb",
   "metadata": {},
   "outputs": [],
   "source": [
    "oPredictiveModel.compile(optimizer=oOptimizer,\n",
    "                         loss = tf.keras.losses.MeanSquaredError()\n",
    "                        )\n"
   ]
  },
  {
   "cell_type": "markdown",
   "id": "dedaa4fc",
   "metadata": {},
   "source": [
    "### Fit Model"
   ]
  },
  {
   "cell_type": "code",
   "execution_count": 23,
   "id": "f1293c7c",
   "metadata": {},
   "outputs": [
    {
     "name": "stdout",
     "output_type": "stream",
     "text": [
      "Epoch 1/10000\n",
      "75/75 [==============================] - 1s 5ms/step - loss: 0.3532 - val_loss: 0.0398\n",
      "Epoch 2/10000\n",
      "75/75 [==============================] - 0s 3ms/step - loss: 0.3148 - val_loss: 0.1354\n",
      "Epoch 3/10000\n",
      "75/75 [==============================] - 0s 4ms/step - loss: 0.2236 - val_loss: 0.1825\n",
      "Epoch 4/10000\n",
      "75/75 [==============================] - 0s 3ms/step - loss: 0.1163 - val_loss: 0.1489\n",
      "Epoch 5/10000\n",
      "75/75 [==============================] - 0s 4ms/step - loss: 0.0595 - val_loss: 0.0970\n",
      "Epoch 6/10000\n",
      "75/75 [==============================] - 0s 3ms/step - loss: 0.0343 - val_loss: 0.0570\n",
      "Epoch 7/10000\n",
      "75/75 [==============================] - 0s 4ms/step - loss: 0.0217 - val_loss: 0.0353\n",
      "Epoch 8/10000\n",
      "75/75 [==============================] - 0s 3ms/step - loss: 0.0156 - val_loss: 0.0250\n",
      "Epoch 9/10000\n",
      "75/75 [==============================] - 0s 3ms/step - loss: 0.0124 - val_loss: 0.0213\n",
      "Epoch 10/10000\n",
      "75/75 [==============================] - 0s 4ms/step - loss: 0.0106 - val_loss: 0.0200\n",
      "Epoch 11/10000\n",
      "75/75 [==============================] - 0s 3ms/step - loss: 0.0094 - val_loss: 0.0197\n",
      "Epoch 12/10000\n",
      "75/75 [==============================] - 0s 3ms/step - loss: 0.0085 - val_loss: 0.0203\n",
      "Epoch 13/10000\n",
      "75/75 [==============================] - 0s 3ms/step - loss: 0.0078 - val_loss: 0.0201\n",
      "Epoch 14/10000\n",
      "75/75 [==============================] - 0s 3ms/step - loss: 0.0072 - val_loss: 0.0209\n",
      "Epoch 15/10000\n",
      "75/75 [==============================] - 0s 3ms/step - loss: 0.0066 - val_loss: 0.0216\n",
      "Epoch 16/10000\n",
      "75/75 [==============================] - 0s 3ms/step - loss: 0.0062 - val_loss: 0.0221\n",
      "Epoch 17/10000\n",
      "75/75 [==============================] - 0s 3ms/step - loss: 0.0058 - val_loss: 0.0218\n",
      "Epoch 18/10000\n",
      "75/75 [==============================] - 0s 3ms/step - loss: 0.0054 - val_loss: 0.0220\n",
      "Epoch 19/10000\n",
      "75/75 [==============================] - 0s 3ms/step - loss: 0.0051 - val_loss: 0.0218\n",
      "Epoch 20/10000\n",
      "75/75 [==============================] - 0s 4ms/step - loss: 0.0048 - val_loss: 0.0214\n",
      "Epoch 21/10000\n",
      "75/75 [==============================] - 0s 3ms/step - loss: 0.0045 - val_loss: 0.0214\n",
      "Epoch 22/10000\n",
      "75/75 [==============================] - 0s 3ms/step - loss: 0.0043 - val_loss: 0.0216\n",
      "Epoch 23/10000\n",
      "75/75 [==============================] - 0s 4ms/step - loss: 0.0040 - val_loss: 0.0213\n",
      "Epoch 24/10000\n",
      "75/75 [==============================] - 0s 4ms/step - loss: 0.0039 - val_loss: 0.0201\n",
      "Epoch 25/10000\n",
      "75/75 [==============================] - 0s 3ms/step - loss: 0.0037 - val_loss: 0.0198\n",
      "Epoch 26/10000\n",
      "75/75 [==============================] - 0s 4ms/step - loss: 0.0035 - val_loss: 0.0209\n",
      "Epoch 27/10000\n",
      "75/75 [==============================] - 0s 3ms/step - loss: 0.0033 - val_loss: 0.0205\n",
      "Epoch 28/10000\n",
      "75/75 [==============================] - 0s 3ms/step - loss: 0.0032 - val_loss: 0.0199\n",
      "Epoch 29/10000\n",
      "75/75 [==============================] - 0s 3ms/step - loss: 0.0030 - val_loss: 0.0195\n",
      "Epoch 30/10000\n",
      "75/75 [==============================] - 0s 3ms/step - loss: 0.0029 - val_loss: 0.0189\n",
      "Epoch 31/10000\n",
      "75/75 [==============================] - 0s 4ms/step - loss: 0.0028 - val_loss: 0.0189\n",
      "Epoch 32/10000\n",
      "75/75 [==============================] - 0s 4ms/step - loss: 0.0027 - val_loss: 0.0190\n",
      "Epoch 33/10000\n",
      "75/75 [==============================] - 0s 3ms/step - loss: 0.0026 - val_loss: 0.0185\n",
      "Epoch 34/10000\n",
      "75/75 [==============================] - 0s 4ms/step - loss: 0.0025 - val_loss: 0.0179\n",
      "Epoch 35/10000\n",
      "75/75 [==============================] - 0s 4ms/step - loss: 0.0024 - val_loss: 0.0171\n",
      "Epoch 36/10000\n",
      "75/75 [==============================] - 0s 4ms/step - loss: 0.0023 - val_loss: 0.0174\n",
      "Epoch 37/10000\n",
      "75/75 [==============================] - 0s 3ms/step - loss: 0.0022 - val_loss: 0.0177\n",
      "Epoch 38/10000\n",
      "75/75 [==============================] - 0s 4ms/step - loss: 0.0022 - val_loss: 0.0171\n",
      "Epoch 39/10000\n",
      "75/75 [==============================] - 0s 3ms/step - loss: 0.0021 - val_loss: 0.0164\n",
      "Epoch 40/10000\n",
      "75/75 [==============================] - 0s 3ms/step - loss: 0.0020 - val_loss: 0.0162\n",
      "Epoch 41/10000\n",
      "75/75 [==============================] - 0s 3ms/step - loss: 0.0020 - val_loss: 0.0168\n",
      "Epoch 42/10000\n",
      "75/75 [==============================] - 0s 3ms/step - loss: 0.0019 - val_loss: 0.0163\n",
      "Epoch 43/10000\n",
      "75/75 [==============================] - 0s 3ms/step - loss: 0.0019 - val_loss: 0.0162\n",
      "Epoch 44/10000\n",
      "75/75 [==============================] - 0s 3ms/step - loss: 0.0018 - val_loss: 0.0164\n",
      "Epoch 45/10000\n",
      "75/75 [==============================] - 0s 3ms/step - loss: 0.0018 - val_loss: 0.0162\n",
      "Epoch 46/10000\n",
      "75/75 [==============================] - 0s 3ms/step - loss: 0.0017 - val_loss: 0.0164\n",
      "Epoch 47/10000\n",
      "75/75 [==============================] - 0s 3ms/step - loss: 0.0017 - val_loss: 0.0150\n",
      "Epoch 48/10000\n",
      "75/75 [==============================] - 0s 3ms/step - loss: 0.0016 - val_loss: 0.0154\n",
      "Epoch 49/10000\n",
      "75/75 [==============================] - 0s 3ms/step - loss: 0.0016 - val_loss: 0.0152\n",
      "Epoch 50/10000\n",
      "75/75 [==============================] - 0s 3ms/step - loss: 0.0016 - val_loss: 0.0153\n",
      "Epoch 51/10000\n",
      "75/75 [==============================] - 0s 3ms/step - loss: 0.0015 - val_loss: 0.0157\n",
      "Epoch 52/10000\n",
      "75/75 [==============================] - 0s 4ms/step - loss: 0.0015 - val_loss: 0.0148\n",
      "Epoch 53/10000\n",
      "75/75 [==============================] - 0s 4ms/step - loss: 0.0015 - val_loss: 0.0148\n",
      "Epoch 54/10000\n",
      "75/75 [==============================] - 0s 3ms/step - loss: 0.0014 - val_loss: 0.0149\n",
      "Epoch 55/10000\n",
      "75/75 [==============================] - 0s 4ms/step - loss: 0.0014 - val_loss: 0.0142\n",
      "Epoch 56/10000\n",
      "75/75 [==============================] - 0s 4ms/step - loss: 0.0014 - val_loss: 0.0149\n",
      "Epoch 57/10000\n",
      "75/75 [==============================] - 0s 4ms/step - loss: 0.0013 - val_loss: 0.0145\n",
      "Epoch 58/10000\n",
      "75/75 [==============================] - 0s 4ms/step - loss: 0.0013 - val_loss: 0.0134\n",
      "Epoch 59/10000\n",
      "75/75 [==============================] - 0s 4ms/step - loss: 0.0013 - val_loss: 0.0140\n",
      "Epoch 60/10000\n",
      "75/75 [==============================] - 0s 3ms/step - loss: 0.0013 - val_loss: 0.0136\n",
      "Epoch 61/10000\n",
      "75/75 [==============================] - 0s 4ms/step - loss: 0.0012 - val_loss: 0.0145\n",
      "Epoch 62/10000\n",
      "75/75 [==============================] - 0s 4ms/step - loss: 0.0012 - val_loss: 0.0139\n",
      "Epoch 63/10000\n",
      "75/75 [==============================] - 0s 3ms/step - loss: 0.0012 - val_loss: 0.0139\n",
      "Epoch 64/10000\n",
      "75/75 [==============================] - 0s 4ms/step - loss: 0.0012 - val_loss: 0.0132\n",
      "Epoch 65/10000\n",
      "75/75 [==============================] - 0s 4ms/step - loss: 0.0011 - val_loss: 0.0127\n",
      "Epoch 66/10000\n",
      "75/75 [==============================] - 0s 4ms/step - loss: 0.0011 - val_loss: 0.0130\n",
      "Epoch 67/10000\n",
      "75/75 [==============================] - 0s 5ms/step - loss: 0.0011 - val_loss: 0.0133\n",
      "Epoch 68/10000\n",
      "75/75 [==============================] - 0s 4ms/step - loss: 0.0011 - val_loss: 0.0138\n",
      "Epoch 69/10000\n",
      "75/75 [==============================] - 0s 4ms/step - loss: 0.0011 - val_loss: 0.0131\n",
      "Epoch 70/10000\n",
      "75/75 [==============================] - 0s 4ms/step - loss: 0.0010 - val_loss: 0.0132\n",
      "Epoch 71/10000\n",
      "75/75 [==============================] - 0s 4ms/step - loss: 0.0010 - val_loss: 0.0133\n",
      "Epoch 72/10000\n",
      "75/75 [==============================] - 0s 4ms/step - loss: 9.9431e-04 - val_loss: 0.0126\n",
      "Epoch 73/10000\n",
      "75/75 [==============================] - 0s 3ms/step - loss: 9.8336e-04 - val_loss: 0.0124\n",
      "Epoch 74/10000\n",
      "75/75 [==============================] - 0s 4ms/step - loss: 9.6498e-04 - val_loss: 0.0133\n",
      "Epoch 75/10000\n",
      "75/75 [==============================] - 0s 4ms/step - loss: 9.4324e-04 - val_loss: 0.0135\n",
      "Epoch 76/10000\n",
      "75/75 [==============================] - 0s 4ms/step - loss: 9.2612e-04 - val_loss: 0.0130\n",
      "Epoch 77/10000\n",
      "75/75 [==============================] - 0s 4ms/step - loss: 9.1355e-04 - val_loss: 0.01297e-0\n",
      "Epoch 78/10000\n",
      "75/75 [==============================] - 0s 3ms/step - loss: 8.9599e-04 - val_loss: 0.0127\n",
      "Epoch 79/10000\n",
      "75/75 [==============================] - 0s 4ms/step - loss: 8.7718e-04 - val_loss: 0.0123\n",
      "Epoch 80/10000\n",
      "75/75 [==============================] - 0s 4ms/step - loss: 8.6452e-04 - val_loss: 0.0123\n",
      "Epoch 81/10000\n"
     ]
    },
    {
     "name": "stdout",
     "output_type": "stream",
     "text": [
      "75/75 [==============================] - ETA: 0s - loss: 8.3479e-0 - 0s 4ms/step - loss: 8.4887e-04 - val_loss: 0.0125\n",
      "Epoch 82/10000\n",
      "75/75 [==============================] - 0s 4ms/step - loss: 8.4107e-04 - val_loss: 0.0129\n",
      "Epoch 83/10000\n",
      "75/75 [==============================] - 0s 4ms/step - loss: 8.2253e-04 - val_loss: 0.0127\n",
      "Epoch 84/10000\n",
      "75/75 [==============================] - 0s 4ms/step - loss: 8.0442e-04 - val_loss: 0.0127\n",
      "Epoch 85/10000\n",
      "75/75 [==============================] - 0s 4ms/step - loss: 7.9258e-04 - val_loss: 0.0124\n",
      "Epoch 86/10000\n",
      "75/75 [==============================] - 0s 4ms/step - loss: 7.7904e-04 - val_loss: 0.0110\n",
      "Epoch 87/10000\n",
      "75/75 [==============================] - 0s 4ms/step - loss: 7.6839e-04 - val_loss: 0.0122\n",
      "Epoch 88/10000\n",
      "75/75 [==============================] - 0s 4ms/step - loss: 7.5506e-04 - val_loss: 0.0120\n",
      "Epoch 89/10000\n",
      "75/75 [==============================] - 0s 5ms/step - loss: 7.4052e-04 - val_loss: 0.0125\n",
      "Epoch 90/10000\n",
      "75/75 [==============================] - 0s 4ms/step - loss: 7.2663e-04 - val_loss: 0.0126\n",
      "Epoch 91/10000\n",
      "75/75 [==============================] - 0s 4ms/step - loss: 7.1413e-04 - val_loss: 0.0120\n",
      "Epoch 92/10000\n",
      "75/75 [==============================] - 0s 4ms/step - loss: 7.0498e-04 - val_loss: 0.0122\n",
      "Epoch 93/10000\n",
      "75/75 [==============================] - 0s 4ms/step - loss: 6.9199e-04 - val_loss: 0.0117\n",
      "Epoch 94/10000\n",
      "75/75 [==============================] - 0s 4ms/step - loss: 6.8285e-04 - val_loss: 0.0116\n",
      "Epoch 95/10000\n",
      "75/75 [==============================] - 0s 4ms/step - loss: 6.6937e-04 - val_loss: 0.0121\n",
      "Epoch 96/10000\n",
      "75/75 [==============================] - 0s 5ms/step - loss: 6.5794e-04 - val_loss: 0.0117\n",
      "Epoch 97/10000\n",
      "75/75 [==============================] - 0s 5ms/step - loss: 6.4378e-04 - val_loss: 0.0110\n",
      "Epoch 98/10000\n",
      "75/75 [==============================] - 0s 4ms/step - loss: 6.3431e-04 - val_loss: 0.0120\n",
      "Epoch 99/10000\n",
      "75/75 [==============================] - 0s 4ms/step - loss: 6.2692e-04 - val_loss: 0.0125\n",
      "Epoch 100/10000\n",
      "75/75 [==============================] - 0s 4ms/step - loss: 6.1454e-04 - val_loss: 0.0116\n",
      "Epoch 101/10000\n",
      "75/75 [==============================] - 0s 4ms/step - loss: 6.0151e-04 - val_loss: 0.0120\n",
      "Epoch 102/10000\n",
      "75/75 [==============================] - 0s 4ms/step - loss: 5.9537e-04 - val_loss: 0.0116\n",
      "Epoch 103/10000\n",
      "75/75 [==============================] - 0s 3ms/step - loss: 5.8333e-04 - val_loss: 0.0110\n",
      "Epoch 104/10000\n",
      "75/75 [==============================] - 0s 3ms/step - loss: 5.7288e-04 - val_loss: 0.0120\n",
      "Epoch 105/10000\n",
      "75/75 [==============================] - 0s 4ms/step - loss: 5.6739e-04 - val_loss: 0.0127\n",
      "Epoch 106/10000\n",
      "75/75 [==============================] - 0s 3ms/step - loss: 5.5593e-04 - val_loss: 0.0114\n",
      "Epoch 107/10000\n",
      "75/75 [==============================] - 0s 3ms/step - loss: 5.5116e-04 - val_loss: 0.0117\n",
      "Epoch 108/10000\n",
      "75/75 [==============================] - 0s 3ms/step - loss: 5.4145e-04 - val_loss: 0.0117\n",
      "Epoch 109/10000\n",
      "75/75 [==============================] - 0s 3ms/step - loss: 5.3099e-04 - val_loss: 0.0106\n",
      "Epoch 110/10000\n",
      "75/75 [==============================] - 0s 3ms/step - loss: 5.2366e-04 - val_loss: 0.0110\n",
      "Epoch 111/10000\n",
      "75/75 [==============================] - 0s 5ms/step - loss: 5.1416e-04 - val_loss: 0.0113\n",
      "Epoch 112/10000\n",
      "75/75 [==============================] - 0s 4ms/step - loss: 5.0589e-04 - val_loss: 0.0120\n",
      "Epoch 113/10000\n",
      "75/75 [==============================] - 0s 4ms/step - loss: 5.0157e-04 - val_loss: 0.0108\n",
      "Epoch 114/10000\n",
      "75/75 [==============================] - 0s 4ms/step - loss: 4.9466e-04 - val_loss: 0.0115\n",
      "Epoch 115/10000\n",
      "75/75 [==============================] - 0s 6ms/step - loss: 4.8289e-04 - val_loss: 0.0114\n",
      "Epoch 116/10000\n",
      "75/75 [==============================] - 0s 5ms/step - loss: 4.7790e-04 - val_loss: 0.0114\n",
      "Epoch 117/10000\n",
      "75/75 [==============================] - 0s 3ms/step - loss: 4.6630e-04 - val_loss: 0.0111\n",
      "Epoch 118/10000\n",
      "75/75 [==============================] - 0s 4ms/step - loss: 4.5771e-04 - val_loss: 0.0113\n",
      "Epoch 119/10000\n",
      "75/75 [==============================] - 0s 5ms/step - loss: 4.5354e-04 - val_loss: 0.0112\n",
      "Epoch 120/10000\n",
      "75/75 [==============================] - 0s 3ms/step - loss: 4.4296e-04 - val_loss: 0.0107\n",
      "Epoch 121/10000\n",
      "75/75 [==============================] - 0s 3ms/step - loss: 4.3689e-04 - val_loss: 0.0112\n",
      "Epoch 122/10000\n",
      "75/75 [==============================] - 0s 4ms/step - loss: 4.2854e-04 - val_loss: 0.0117\n",
      "Epoch 123/10000\n",
      "75/75 [==============================] - 0s 4ms/step - loss: 4.2462e-04 - val_loss: 0.0111\n",
      "Epoch 124/10000\n",
      "75/75 [==============================] - 0s 4ms/step - loss: 4.1582e-04 - val_loss: 0.0112\n",
      "Epoch 125/10000\n",
      "75/75 [==============================] - 0s 5ms/step - loss: 4.0865e-04 - val_loss: 0.0111\n",
      "Epoch 126/10000\n",
      "75/75 [==============================] - 0s 4ms/step - loss: 4.0275e-04 - val_loss: 0.0115\n",
      "Epoch 127/10000\n",
      "75/75 [==============================] - 0s 4ms/step - loss: 3.9530e-04 - val_loss: 0.0112\n",
      "Epoch 128/10000\n",
      "75/75 [==============================] - 0s 5ms/step - loss: 3.8877e-04 - val_loss: 0.0115\n",
      "Epoch 129/10000\n",
      "75/75 [==============================] - 0s 4ms/step - loss: 3.8518e-04 - val_loss: 0.0107\n"
     ]
    },
    {
     "data": {
      "text/plain": [
       "<matplotlib.axes._subplots.AxesSubplot at 0x277e9ba8488>"
      ]
     },
     "execution_count": 23,
     "metadata": {},
     "output_type": "execute_result"
    },
    {
     "data": {
      "image/png": "[encoded data removed]",
      "text/plain": [
       "<Figure size 432x288 with 1 Axes>"
      ]
     },
     "metadata": {
      "needs_background": "light"
     },
     "output_type": "display_data"
    }
   ],
   "source": [
    "oPredictiveModel.fit(\n",
    "    dfScaledInputTrain, \n",
    "    dfScaledOutputTrain, \n",
    "    epochs=iEpochSize, \n",
    "    batch_size=iBatchSize, \n",
    "    verbose=1, \n",
    "    validation_data= (dfScaledInputValidation, dfScaledOutputValidation),\n",
    "    validation_batch_size= iBatchSize,\n",
    "    callbacks=[oEarlyStop]\n",
    ")\n",
    "\n",
    "oPredictiveModel.save_weights(sModelName)\n",
    "\n",
    "pd.DataFrame(oPredictiveModel.history.history).plot()"
   ]
  },
  {
   "cell_type": "markdown",
   "id": "75633cc0",
   "metadata": {},
   "source": [
    "## Test"
   ]
  },
  {
   "cell_type": "code",
   "execution_count": 24,
   "id": "fc56071c",
   "metadata": {},
   "outputs": [],
   "source": [
    "oPredictiveModel.load_weights(sModelName)\n",
    "\n",
    "aPrediction = oPredictiveModel.predict(dfScaledInputTest)\n",
    "\n",
    "sOutputScalerPath = os.path.join(sModelName , \"__scalers__\")\n",
    "sOutputScalerPath = os.path.join(sOutputScalerPath , \"output\" + \".sav\")\n",
    "oScalerOutput = pickle.load(open(sOutputScalerPath, 'rb'))\n",
    "aPrediction = oScalerOutput.inverse_transform(aPrediction)\n",
    "\n",
    "dfPrediction = pd.DataFrame(aPrediction, index = dfScaledOutputTest.index)\n",
    "dfPrediction.columns = dfOutput.columns"
   ]
  },
  {
   "cell_type": "code",
   "execution_count": 25,
   "id": "245d4b4b",
   "metadata": {},
   "outputs": [
    {
     "data": {
      "text/plain": [
       "<matplotlib.axes._subplots.AxesSubplot at 0x278806ddec8>"
      ]
     },
     "execution_count": 25,
     "metadata": {},
     "output_type": "execute_result"
    },
    {
     "data": {
      "image/png": "[encoded data removed]",
      "text/plain": [
       "<Figure size 432x288 with 1 Axes>"
      ]
     },
     "metadata": {
      "needs_background": "light"
     },
     "output_type": "display_data"
    }
   ],
   "source": [
    "dfTestComparision = pd.DataFrame(dfPrediction.iloc[:,0])\n",
    "dfTestComparision = dfTestComparision.join(dfOutputTest.iloc[:,0], how = \"inner\", lsuffix=\"prediction\")\n",
    "dfTestComparision.columns = [\"Prediction\", \"Actual\"]\n",
    "\n",
    "sns.scatterplot(data = dfTestComparision, x = \"Actual\", y =\"Prediction\")"
   ]
  },
  {
   "cell_type": "code",
   "execution_count": 29,
   "id": "482be7e4",
   "metadata": {},
   "outputs": [
    {
     "name": "stdout",
     "output_type": "stream",
     "text": [
      "-9.204905839871696\n"
     ]
    },
    {
     "data": {
      "text/plain": [
       "<matplotlib.axes._subplots.AxesSubplot at 0x2788122b048>"
      ]
     },
     "execution_count": 29,
     "metadata": {},
     "output_type": "execute_result"
    },
    {
     "data": {
      "image/png": "[encoded data removed]",
      "text/plain": [
       "<Figure size 432x288 with 1 Axes>"
      ]
     },
     "metadata": {
      "needs_background": "light"
     },
     "output_type": "display_data"
    }
   ],
   "source": [
    "iFrom = 1050\n",
    "iTo = iFrom + 60\n",
    "\n",
    "print(r2_score(dfOutputTest.iloc[iFrom:iTo], dfPrediction.iloc[iFrom:iTo]))\n",
    "sns.lineplot(data = dfTestComparision.iloc[iFrom:iTo])"
   ]
  },
  {
   "cell_type": "code",
   "execution_count": 27,
   "id": "5f8f2409",
   "metadata": {
    "scrolled": true
   },
   "outputs": [
    {
     "name": "stdout",
     "output_type": "stream",
     "text": [
      "Metrics for regression:\n",
      "      mean absolute error:               38.818\n",
      "       mean squared error:             2760.233\n",
      "                max error:              540.063\n",
      "                 r2 score:                0.879\n",
      " explained variance score:                0.880\n"
     ]
    }
   ],
   "source": [
    "y_pred = dfPrediction.iloc[:, 0]\n",
    "y_true = dfOutputTest.iloc[:, 0]\n",
    "aMetrics = [\n",
    "        ('mean absolute error', mean_absolute_error(y_true, y_pred)),\n",
    "        ('mean squared error', mean_squared_error(y_true, y_pred)),\n",
    "        ('max error', max_error(y_true, y_pred)),\n",
    "        ('r2 score', r2_score(y_true, y_pred)),\n",
    "        ('explained variance score', explained_variance_score(y_true, y_pred))\n",
    "    ]\n",
    "\n",
    "print('Metrics for regression:')\n",
    "for metric_name, metric_value in aMetrics:\n",
    "    print(f'{metric_name:>25s}: {metric_value: >20.3f}')"
   ]
  },
  {
   "cell_type": "markdown",
   "id": "75ca3ab0",
   "metadata": {},
   "source": [
    "# REFERENCES"
   ]
  },
  {
   "cell_type": "markdown",
   "id": "49501761",
   "metadata": {},
   "source": [
    "https://www.tensorflow.org/guide/keras/train_and_evaluate#passing_data_to_multi-input_multi-output_models\n",
    "\n",
    "https://www.tensorflow.org/guide/keras/writing_a_training_loop_from_scratch/\n",
    "\n",
    "https://www.tensorflow.org/guide/keras/customizing_what_happens_in_fit/\n",
    "\n",
    "https://towardsdatascience.com/customize-loss-function-to-make-lstm-model-more-applicable-in-stock-price-prediction-b1c50e50b16c\n",
    "\n",
    "https://keras.io/getting_started/faq/"
   ]
  }
 ],
 "metadata": {
  "kernelspec": {
   "display_name": "Python 3",
   "language": "python",
   "name": "python3"
  },
  "language_info": {
   "codemirror_mode": {
    "name": "ipython",
    "version": 3
   },
   "file_extension": ".py",
   "mimetype": "text/x-python",
   "name": "python",
   "nbconvert_exporter": "python",
   "pygments_lexer": "ipython3",
   "version": "3.7.10"
  },
  "varInspector": {
   "cols": {
    "lenName": 16,
    "lenType": 16,
    "lenVar": 40
   },
   "kernels_config": {
    "python": {
     "delete_cmd_postfix": "",
     "delete_cmd_prefix": "del ",
     "library": "var_list.py",
     "varRefreshCmd": "print(var_dic_list())"
    },
    "r": {
     "delete_cmd_postfix": ") ",
     "delete_cmd_prefix": "rm(",
     "library": "var_list.r",
     "varRefreshCmd": "cat(var_dic_list()) "
    }
   },
   "types_to_exclude": [
    "module",
    "function",
    "builtin_function_or_method",
    "instance",
    "_Feature"
   ],
   "window_display": false
  }
 },
 "nbformat": 4,
 "nbformat_minor": 5
}
