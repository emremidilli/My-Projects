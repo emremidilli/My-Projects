{
 "cells": [
  {
   "cell_type": "code",
   "execution_count": 1,
   "id": "0611acbc",
   "metadata": {},
   "outputs": [],
   "source": [
    "import pandas as pd\n",
    "\n",
    "import numpy as np\n",
    "\n",
    "import itertools\n",
    "\n",
    "from datetime import datetime\n",
    "\n",
    "import time\n",
    "\n",
    "import pytz\n",
    "import sys\n",
    "import pickle\n",
    "\n",
    "from sklearn.preprocessing import StandardScaler\n",
    "from sklearn.model_selection import train_test_split\n",
    "from sklearn.metrics import mean_absolute_error, mean_squared_error, max_error, r2_score\n",
    "\n",
    "import seaborn as sns\n",
    "\n",
    "import MetaTrader5 as mt5\n",
    "\n",
    "import os\n",
    "os.environ['TF_CPP_MIN_LOG_LEVEL'] = '2' \n",
    "\n",
    "import tensorflow as tf\n",
    "from tensorflow import keras\n",
    "from tensorflow.keras import Sequential\n",
    "from tensorflow.keras.layers import Dense\n",
    "from tensorflow.keras.layers import LSTM\n",
    "from tensorflow.keras.layers import Reshape\n",
    "from tensorflow.keras.callbacks import EarlyStopping"
   ]
  },
  {
   "cell_type": "markdown",
   "id": "8d915683",
   "metadata": {},
   "source": [
    "# LOAD DATA"
   ]
  },
  {
   "cell_type": "code",
   "execution_count": 2,
   "id": "a44508f4",
   "metadata": {
    "code_folding": []
   },
   "outputs": [],
   "source": [
    "sSymbol = \"NAT.GAS\"\n",
    "gc_o_TIME_ZONE = pytz.timezone(\"Etc/UTC\")\n",
    "gc_dt_FROM = datetime(2021, 11, 1, tzinfo=gc_o_TIME_ZONE)\n",
    "gc_dt_TO = datetime(2021, 11, 20, tzinfo=gc_o_TIME_ZONE)"
   ]
  },
  {
   "cell_type": "code",
   "execution_count": 3,
   "id": "7bd3b945",
   "metadata": {},
   "outputs": [],
   "source": [
    "if not mt5.initialize():\n",
    "    print(\"initialize() failed, error code =\", mt5.last_error())\n",
    "    sys.exit()\n",
    "\n",
    "aSymbolInfo = mt5.symbol_info(sSymbol)\n",
    "if not aSymbolInfo:\n",
    "    print(\"symbol_info() failed, error code =\", mt5.last_error())\n",
    "    sys.exit()\n",
    "\n",
    "dfOhlc = mt5.copy_rates_range(\n",
    "    sSymbol,\n",
    "    mt5.TIMEFRAME_M1,\n",
    "    gc_dt_FROM, \n",
    "    gc_dt_TO,\n",
    ")\n",
    "\n",
    "if len(dfOhlc) == 0:\n",
    "    print(\"copy_rates_range() failed, error code =\", mt5.last_error())\n",
    "    sys.exit()\n",
    "\n",
    "mt5.shutdown()\n",
    "\n",
    "dfOhlc = pd.DataFrame(dfOhlc)\n",
    "\n",
    "dfOhlc['timestamp'] = pd.to_datetime(dfOhlc['time'], unit= \"s\")\n",
    "dfOhlc.set_index('timestamp', inplace=True)"
   ]
  },
  {
   "cell_type": "code",
   "execution_count": 4,
   "id": "66398f37",
   "metadata": {},
   "outputs": [],
   "source": [
    "dfOhlc[\"weekday\"] = dfOhlc.index.weekday\n",
    "dfOhlc[\"hour\"] = dfOhlc.index.hour\n",
    "dfOhlc[\"minute\"] = dfOhlc.index.minute"
   ]
  },
  {
   "cell_type": "code",
   "execution_count": 5,
   "id": "93639e4e",
   "metadata": {},
   "outputs": [],
   "source": [
    "dfOhlc.drop([\"time\"], axis = 1 , inplace = True)"
   ]
  },
  {
   "cell_type": "markdown",
   "id": "3c7bca11",
   "metadata": {},
   "source": [
    "# DESCRIBE DATA"
   ]
  },
  {
   "cell_type": "code",
   "execution_count": 6,
   "id": "171c9aac",
   "metadata": {},
   "outputs": [
    {
     "data": {
      "text/html": [
       "<div>\n",
       "<style scoped>\n",
       "    .dataframe tbody tr th:only-of-type {\n",
       "        vertical-align: middle;\n",
       "    }\n",
       "\n",
       "    .dataframe tbody tr th {\n",
       "        vertical-align: top;\n",
       "    }\n",
       "\n",
       "    .dataframe thead th {\n",
       "        text-align: right;\n",
       "    }\n",
       "</style>\n",
       "<table border=\"1\" class=\"dataframe\">\n",
       "  <thead>\n",
       "    <tr style=\"text-align: right;\">\n",
       "      <th></th>\n",
       "      <th>open</th>\n",
       "      <th>high</th>\n",
       "      <th>low</th>\n",
       "      <th>close</th>\n",
       "      <th>tick_volume</th>\n",
       "      <th>spread</th>\n",
       "      <th>real_volume</th>\n",
       "      <th>weekday</th>\n",
       "      <th>hour</th>\n",
       "      <th>minute</th>\n",
       "    </tr>\n",
       "    <tr>\n",
       "      <th>timestamp</th>\n",
       "      <th></th>\n",
       "      <th></th>\n",
       "      <th></th>\n",
       "      <th></th>\n",
       "      <th></th>\n",
       "      <th></th>\n",
       "      <th></th>\n",
       "      <th></th>\n",
       "      <th></th>\n",
       "      <th></th>\n",
       "    </tr>\n",
       "  </thead>\n",
       "  <tbody>\n",
       "    <tr>\n",
       "      <th>2021-11-01 00:00:00</th>\n",
       "      <td>5.341</td>\n",
       "      <td>5.366</td>\n",
       "      <td>5.335</td>\n",
       "      <td>5.338</td>\n",
       "      <td>160</td>\n",
       "      <td>4</td>\n",
       "      <td>1597000</td>\n",
       "      <td>0</td>\n",
       "      <td>0</td>\n",
       "      <td>0</td>\n",
       "    </tr>\n",
       "    <tr>\n",
       "      <th>2021-11-01 00:01:00</th>\n",
       "      <td>5.340</td>\n",
       "      <td>5.342</td>\n",
       "      <td>5.330</td>\n",
       "      <td>5.332</td>\n",
       "      <td>55</td>\n",
       "      <td>4</td>\n",
       "      <td>550000</td>\n",
       "      <td>0</td>\n",
       "      <td>0</td>\n",
       "      <td>1</td>\n",
       "    </tr>\n",
       "    <tr>\n",
       "      <th>2021-11-01 00:02:00</th>\n",
       "      <td>5.332</td>\n",
       "      <td>5.345</td>\n",
       "      <td>5.332</td>\n",
       "      <td>5.342</td>\n",
       "      <td>42</td>\n",
       "      <td>10</td>\n",
       "      <td>420000</td>\n",
       "      <td>0</td>\n",
       "      <td>0</td>\n",
       "      <td>2</td>\n",
       "    </tr>\n",
       "    <tr>\n",
       "      <th>2021-11-01 00:03:00</th>\n",
       "      <td>5.343</td>\n",
       "      <td>5.346</td>\n",
       "      <td>5.334</td>\n",
       "      <td>5.334</td>\n",
       "      <td>27</td>\n",
       "      <td>10</td>\n",
       "      <td>267000</td>\n",
       "      <td>0</td>\n",
       "      <td>0</td>\n",
       "      <td>3</td>\n",
       "    </tr>\n",
       "    <tr>\n",
       "      <th>2021-11-01 00:04:00</th>\n",
       "      <td>5.333</td>\n",
       "      <td>5.333</td>\n",
       "      <td>5.324</td>\n",
       "      <td>5.328</td>\n",
       "      <td>14</td>\n",
       "      <td>10</td>\n",
       "      <td>137000</td>\n",
       "      <td>0</td>\n",
       "      <td>0</td>\n",
       "      <td>4</td>\n",
       "    </tr>\n",
       "    <tr>\n",
       "      <th>...</th>\n",
       "      <td>...</td>\n",
       "      <td>...</td>\n",
       "      <td>...</td>\n",
       "      <td>...</td>\n",
       "      <td>...</td>\n",
       "      <td>...</td>\n",
       "      <td>...</td>\n",
       "      <td>...</td>\n",
       "      <td>...</td>\n",
       "      <td>...</td>\n",
       "    </tr>\n",
       "    <tr>\n",
       "      <th>2021-11-19 23:55:00</th>\n",
       "      <td>5.132</td>\n",
       "      <td>5.134</td>\n",
       "      <td>5.131</td>\n",
       "      <td>5.134</td>\n",
       "      <td>6</td>\n",
       "      <td>10</td>\n",
       "      <td>60000</td>\n",
       "      <td>4</td>\n",
       "      <td>23</td>\n",
       "      <td>55</td>\n",
       "    </tr>\n",
       "    <tr>\n",
       "      <th>2021-11-19 23:56:00</th>\n",
       "      <td>5.136</td>\n",
       "      <td>5.136</td>\n",
       "      <td>5.135</td>\n",
       "      <td>5.135</td>\n",
       "      <td>4</td>\n",
       "      <td>10</td>\n",
       "      <td>40000</td>\n",
       "      <td>4</td>\n",
       "      <td>23</td>\n",
       "      <td>56</td>\n",
       "    </tr>\n",
       "    <tr>\n",
       "      <th>2021-11-19 23:57:00</th>\n",
       "      <td>5.137</td>\n",
       "      <td>5.137</td>\n",
       "      <td>5.133</td>\n",
       "      <td>5.133</td>\n",
       "      <td>7</td>\n",
       "      <td>10</td>\n",
       "      <td>70000</td>\n",
       "      <td>4</td>\n",
       "      <td>23</td>\n",
       "      <td>57</td>\n",
       "    </tr>\n",
       "    <tr>\n",
       "      <th>2021-11-19 23:58:00</th>\n",
       "      <td>5.135</td>\n",
       "      <td>5.138</td>\n",
       "      <td>5.132</td>\n",
       "      <td>5.138</td>\n",
       "      <td>4</td>\n",
       "      <td>15</td>\n",
       "      <td>40000</td>\n",
       "      <td>4</td>\n",
       "      <td>23</td>\n",
       "      <td>58</td>\n",
       "    </tr>\n",
       "    <tr>\n",
       "      <th>2021-11-19 23:59:00</th>\n",
       "      <td>5.140</td>\n",
       "      <td>5.147</td>\n",
       "      <td>5.138</td>\n",
       "      <td>5.144</td>\n",
       "      <td>19</td>\n",
       "      <td>10</td>\n",
       "      <td>187000</td>\n",
       "      <td>4</td>\n",
       "      <td>23</td>\n",
       "      <td>59</td>\n",
       "    </tr>\n",
       "  </tbody>\n",
       "</table>\n",
       "<p>19728 rows × 10 columns</p>\n",
       "</div>"
      ],
      "text/plain": [
       "                      open   high    low  close  tick_volume  spread  \\\n",
       "timestamp                                                              \n",
       "2021-11-01 00:00:00  5.341  5.366  5.335  5.338          160       4   \n",
       "2021-11-01 00:01:00  5.340  5.342  5.330  5.332           55       4   \n",
       "2021-11-01 00:02:00  5.332  5.345  5.332  5.342           42      10   \n",
       "2021-11-01 00:03:00  5.343  5.346  5.334  5.334           27      10   \n",
       "2021-11-01 00:04:00  5.333  5.333  5.324  5.328           14      10   \n",
       "...                    ...    ...    ...    ...          ...     ...   \n",
       "2021-11-19 23:55:00  5.132  5.134  5.131  5.134            6      10   \n",
       "2021-11-19 23:56:00  5.136  5.136  5.135  5.135            4      10   \n",
       "2021-11-19 23:57:00  5.137  5.137  5.133  5.133            7      10   \n",
       "2021-11-19 23:58:00  5.135  5.138  5.132  5.138            4      15   \n",
       "2021-11-19 23:59:00  5.140  5.147  5.138  5.144           19      10   \n",
       "\n",
       "                     real_volume  weekday  hour  minute  \n",
       "timestamp                                                \n",
       "2021-11-01 00:00:00      1597000        0     0       0  \n",
       "2021-11-01 00:01:00       550000        0     0       1  \n",
       "2021-11-01 00:02:00       420000        0     0       2  \n",
       "2021-11-01 00:03:00       267000        0     0       3  \n",
       "2021-11-01 00:04:00       137000        0     0       4  \n",
       "...                          ...      ...   ...     ...  \n",
       "2021-11-19 23:55:00        60000        4    23      55  \n",
       "2021-11-19 23:56:00        40000        4    23      56  \n",
       "2021-11-19 23:57:00        70000        4    23      57  \n",
       "2021-11-19 23:58:00        40000        4    23      58  \n",
       "2021-11-19 23:59:00       187000        4    23      59  \n",
       "\n",
       "[19728 rows x 10 columns]"
      ]
     },
     "execution_count": 6,
     "metadata": {},
     "output_type": "execute_result"
    }
   ],
   "source": [
    "dfOhlc"
   ]
  },
  {
   "cell_type": "markdown",
   "id": "34801cd6",
   "metadata": {},
   "source": [
    "# PREPROCESSING"
   ]
  },
  {
   "cell_type": "code",
   "execution_count": 7,
   "id": "137167f1",
   "metadata": {},
   "outputs": [],
   "source": [
    "sModelName = os.path.join(sSymbol , \"__deep learning model__\")"
   ]
  },
  {
   "cell_type": "markdown",
   "id": "fa542c9e",
   "metadata": {},
   "source": [
    "## Split Data"
   ]
  },
  {
   "cell_type": "code",
   "execution_count": 8,
   "id": "70088c21",
   "metadata": {
    "code_folding": []
   },
   "outputs": [],
   "source": [
    "fTrainingRatio = 0.6\n",
    "fValidationRatio = 0.2\n",
    "fTestRatio = 0.2\n",
    "\n",
    "ixTrain, ixTest = train_test_split(\n",
    "    dfOhlc.index,\n",
    "    test_size=1-fTrainingRatio,\n",
    "    shuffle=False)\n",
    "\n",
    "ixValidation, ixTest= train_test_split(\n",
    "    ixTest,\n",
    "    test_size=fTestRatio/(fTestRatio + fValidationRatio),\n",
    "    shuffle=False)"
   ]
  },
  {
   "cell_type": "markdown",
   "id": "a48e73e3",
   "metadata": {},
   "source": [
    "## Scale Data"
   ]
  },
  {
   "cell_type": "code",
   "execution_count": 40,
   "id": "32c7b72c",
   "metadata": {},
   "outputs": [],
   "source": [
    "dfScaledOhlc = pd.DataFrame(index = dfOhlc.index, columns  = dfOhlc.columns)\n",
    "\n",
    "\n",
    "for sColumn in dfOhlc.columns:\n",
    "    oScaler = StandardScaler()\n",
    "    \n",
    "    dfTrain = pd.DataFrame(dfOhlc.loc[ixTrain, sColumn])\n",
    "    dfValidation = pd.DataFrame(dfOhlc.loc[ixValidation, sColumn])\n",
    "    dfTest = pd.DataFrame(dfOhlc.loc[ixTest, sColumn])\n",
    "    \n",
    "    oScaler.fit(dfTrain)\n",
    "    \n",
    "    dfScaledOhlc.loc[ixTrain, sColumn] = np.reshape(oScaler.transform(dfTrain), (-1))\n",
    "    dfScaledOhlc.loc[ixValidation, sColumn] = np.reshape(oScaler.transform(dfValidation), (-1))\n",
    "    dfScaledOhlc.loc[ixTest, sColumn] = np.reshape(oScaler.transform(dfTest), (-1))\n",
    "\n",
    "    sScalerFilePath = os.path.join(sModelName , \"__scalers__\")\n",
    "    sScalerFilePath = os.path.join(sScalerFilePath , sColumn + \".sav\")\n",
    "    os.makedirs(os.path.dirname(sScalerFilePath), exist_ok=True)\n",
    "    pickle.dump(oScaler, open(sScalerFilePath, 'wb'))"
   ]
  },
  {
   "cell_type": "markdown",
   "id": "e4f452e4",
   "metadata": {},
   "source": [
    "## Feature Engineering"
   ]
  },
  {
   "cell_type": "code",
   "execution_count": 41,
   "id": "1449fbb7",
   "metadata": {},
   "outputs": [],
   "source": [
    "aInputFeatures = ['open', 'high', 'low', 'close', 'tick_volume', 'spread', 'real_volume','weekday', 'hour', 'minute']\n",
    "iBackwardTimeWindow = 60\n",
    "iNrInputFeatures = len(aInputFeatures)\n",
    "aBackwardTimeSteps = range(-iBackwardTimeWindow, 0)\n",
    "\n",
    "tplInputColumns = list(itertools.product(aBackwardTimeSteps, aInputFeatures))\n",
    "miInputColums = pd.MultiIndex.from_tuples(tplInputColumns, names= [\"time_step\", \"feature\"])\n",
    "\n",
    "dfInput = pd.DataFrame( columns = miInputColums)\n",
    "\n",
    "for i in aBackwardTimeSteps:\n",
    "    for sInputFeature in aInputFeatures:\n",
    "        dfInput.loc[:, (i, sInputFeature)] = dfScaledOhlc[sInputFeature].shift(-i)"
   ]
  },
  {
   "cell_type": "code",
   "execution_count": 42,
   "id": "ce152a53",
   "metadata": {},
   "outputs": [],
   "source": [
    "aOutputFeatures = ['close']\n",
    "iForwardTimeWindow  =  60\n",
    "iNrOutputFeatures = len(aOutputFeatures)\n",
    "aForwardTimeSteps = range(0, iForwardTimeWindow)\n",
    "\n",
    "tplOutputColumns = list(itertools.product(aForwardTimeSteps, aOutputFeatures))\n",
    "ixOutputColums = pd.MultiIndex.from_tuples(tplOutputColumns, names= [\"time_step\", \"feature\"])\n",
    "\n",
    "dfOutput = pd.DataFrame(columns = ixOutputColums)\n",
    "\n",
    "for i in aForwardTimeSteps:\n",
    "    for sOutputFeature in aOutputFeatures:\n",
    "        dfOutput.loc[:, (i, sOutputFeature)] = dfScaledOhlc[sOutputFeature].shift(-i)"
   ]
  },
  {
   "cell_type": "code",
   "execution_count": 43,
   "id": "296eec07",
   "metadata": {},
   "outputs": [],
   "source": [
    "dfMerged = dfInput.join(dfOutput, how= \"inner\")\n",
    "dfMerged.dropna(inplace=True)\n",
    "dfInput = dfMerged[dfInput.columns]\n",
    "dfOutput = dfMerged[dfOutput.columns]\n",
    "ixTrain = ixTrain.join(dfMerged.index, how = \"inner\")\n",
    "ixValidation = ixValidation.join(dfMerged.index, how = \"inner\")\n",
    "ixTest = ixTest.join(dfMerged.index, how = \"inner\")"
   ]
  },
  {
   "cell_type": "code",
   "execution_count": 44,
   "id": "96e399d4",
   "metadata": {},
   "outputs": [],
   "source": [
    "dfInputTrain = dfInput.loc[ixTrain]\n",
    "aInputTrain = np.reshape(dfInputTrain.values, (dfInputTrain.shape[0], iBackwardTimeWindow, iNrInputFeatures))\n",
    "\n",
    "dfInputValidation = dfInput.loc[ixValidation]\n",
    "aInputValidation = np.reshape(dfInputValidation.values, (dfInputValidation.shape[0], iBackwardTimeWindow, iNrInputFeatures))\n",
    "\n",
    "dfInputTest = dfInput.loc[ixTest]\n",
    "aInputTest = np.reshape(dfInputTest.values, (dfInputTest.shape[0], iBackwardTimeWindow, iNrInputFeatures))\n",
    "\n",
    "dfOutputTrain = dfOutput.loc[ixTrain]\n",
    "aOutputTrain = np.reshape(dfOutputTrain.values, (dfOutputTrain.shape[0], iForwardTimeWindow, iNrOutputFeatures))\n",
    "\n",
    "dfOutputValidation = dfOutput.loc[ixValidation]\n",
    "aOutputValidation = np.reshape(dfOutputValidation.values, (dfOutputValidation.shape[0], iForwardTimeWindow, iNrOutputFeatures))\n",
    "\n",
    "dfOutputTest = dfOutput.loc[ixTest]\n",
    "aOutputTest = np.reshape(dfOutputTest.values, (dfOutputTest.shape[0], iForwardTimeWindow, iNrOutputFeatures))"
   ]
  },
  {
   "cell_type": "code",
   "execution_count": 45,
   "id": "76ce37ad",
   "metadata": {},
   "outputs": [],
   "source": [
    "aInputTrain = np.asarray(aInputTrain, np.float32)\n",
    "aInputValidation = np.asarray(aInputValidation, np.float32)\n",
    "aInputTest = np.asarray(aInputTest, np.float32)\n",
    "aOutputTrain = np.asarray(aOutputTrain, np.float32)\n",
    "aOutputValidation = np.asarray(aOutputValidation, np.float32)\n",
    "aOutputTest = np.asarray(aOutputTest, np.float32)"
   ]
  },
  {
   "cell_type": "markdown",
   "id": "52944fb0",
   "metadata": {},
   "source": [
    "## Train"
   ]
  },
  {
   "cell_type": "markdown",
   "id": "e253bd8c",
   "metadata": {},
   "source": [
    "### Set Hyperparameters"
   ]
  },
  {
   "cell_type": "code",
   "execution_count": 46,
   "id": "a484f077",
   "metadata": {},
   "outputs": [],
   "source": [
    "iBatchSize = 128\n",
    "iEpochSize = 10000\n",
    "\n",
    "oOptimizer = tf.keras.optimizers.Adam(learning_rate=1e-05)\n",
    "\n",
    "oEarlyStop = EarlyStopping(\n",
    "    monitor = 'val_loss', \n",
    "    mode = 'min', \n",
    "    verbose = 0 , \n",
    "    patience = 20, \n",
    "    restore_best_weights = True)"
   ]
  },
  {
   "cell_type": "markdown",
   "id": "a75b209e",
   "metadata": {},
   "source": [
    "### Build Model"
   ]
  },
  {
   "cell_type": "code",
   "execution_count": 47,
   "id": "9b360a41",
   "metadata": {},
   "outputs": [],
   "source": [
    "aInputs = keras.Input(\n",
    "    shape=(iBackwardTimeWindow, iNrInputFeatures), \n",
    "    name=\"aInputs\")\n",
    "\n",
    "aW1 = LSTM(32, return_sequences = False)(aInputs)\n",
    "aW2 = Dense(iForwardTimeWindow * iNrOutputFeatures, \n",
    "                          kernel_initializer=tf.initializers.zeros(), \n",
    "                          name = \"aOutputs\")(aW1)\n",
    "aOutputs = Reshape([iForwardTimeWindow, iNrOutputFeatures])(aW2)\n",
    "\n",
    "oPredictiveModel = keras.Model(\n",
    "    inputs=aInputs, \n",
    "    outputs=aOutputs\n",
    ")"
   ]
  },
  {
   "cell_type": "markdown",
   "id": "ac55b3b7",
   "metadata": {},
   "source": [
    "### Compile Model"
   ]
  },
  {
   "cell_type": "code",
   "execution_count": 48,
   "id": "a43debeb",
   "metadata": {},
   "outputs": [],
   "source": [
    "oFnLoss =  tf.keras.losses.MeanSquaredError()\n",
    "oPredictiveModel.compile(optimizer=oOptimizer,\n",
    "                         loss = oFnLoss\n",
    "                        )"
   ]
  },
  {
   "cell_type": "markdown",
   "id": "dedaa4fc",
   "metadata": {},
   "source": [
    "### Fit Model"
   ]
  },
  {
   "cell_type": "code",
   "execution_count": 49,
   "id": "bd2970a7",
   "metadata": {},
   "outputs": [
    {
     "name": "stdout",
     "output_type": "stream",
     "text": [
      "Epoch 1/10000\n",
      "92/92 [==============================] - 8s 22ms/step - loss: 1.0027 - val_loss: 1.6585\n",
      "Epoch 2/10000\n",
      "92/92 [==============================] - 1s 10ms/step - loss: 0.9945 - val_loss: 1.6454\n",
      "Epoch 3/10000\n",
      "92/92 [==============================] - 1s 10ms/step - loss: 0.9848 - val_loss: 1.6297\n",
      "Epoch 4/10000\n",
      "92/92 [==============================] - 1s 10ms/step - loss: 0.9732 - val_loss: 1.6113\n",
      "Epoch 5/10000\n",
      "92/92 [==============================] - 1s 10ms/step - loss: 0.9595 - val_loss: 1.5901\n",
      "Epoch 6/10000\n",
      "92/92 [==============================] - 1s 10ms/step - loss: 0.9438 - val_loss: 1.5656\n",
      "Epoch 7/10000\n",
      "92/92 [==============================] - 1s 10ms/step - loss: 0.9260 - val_loss: 1.5381\n",
      "Epoch 8/10000\n",
      "92/92 [==============================] - 1s 10ms/step - loss: 0.9061 - val_loss: 1.5077\n",
      "Epoch 9/10000\n",
      "92/92 [==============================] - 1s 9ms/step - loss: 0.8843 - val_loss: 1.4743\n",
      "Epoch 10/10000\n",
      "92/92 [==============================] - 1s 8ms/step - loss: 0.8608 - val_loss: 1.4381\n",
      "Epoch 11/10000\n",
      "92/92 [==============================] - 1s 8ms/step - loss: 0.8358 - val_loss: 1.3991\n",
      "Epoch 12/10000\n",
      "92/92 [==============================] - 1s 9ms/step - loss: 0.8097 - val_loss: 1.3585\n",
      "Epoch 13/10000\n",
      "92/92 [==============================] - 1s 8ms/step - loss: 0.7828 - val_loss: 1.3166\n",
      "Epoch 14/10000\n",
      "92/92 [==============================] - 1s 9ms/step - loss: 0.7553 - val_loss: 1.2728\n",
      "Epoch 15/10000\n",
      "92/92 [==============================] - 1s 8ms/step - loss: 0.7275 - val_loss: 1.2291\n",
      "Epoch 16/10000\n",
      "92/92 [==============================] - 1s 9ms/step - loss: 0.6997 - val_loss: 1.1850\n",
      "Epoch 17/10000\n",
      "92/92 [==============================] - 1s 10ms/step - loss: 0.6722 - val_loss: 1.1404\n",
      "Epoch 18/10000\n",
      "92/92 [==============================] - 1s 11ms/step - loss: 0.6450 - val_loss: 1.0963\n",
      "Epoch 19/10000\n",
      "92/92 [==============================] - 1s 12ms/step - loss: 0.6184 - val_loss: 1.0533\n",
      "Epoch 20/10000\n",
      "92/92 [==============================] - 1s 11ms/step - loss: 0.5926 - val_loss: 1.0109\n",
      "Epoch 21/10000\n",
      "92/92 [==============================] - 1s 12ms/step - loss: 0.5677 - val_loss: 0.9696\n",
      "Epoch 22/10000\n",
      "92/92 [==============================] - 1s 12ms/step - loss: 0.5437 - val_loss: 0.9296\n",
      "Epoch 23/10000\n",
      "92/92 [==============================] - 1s 13ms/step - loss: 0.5208 - val_loss: 0.8909\n",
      "Epoch 24/10000\n",
      "92/92 [==============================] - 1s 12ms/step - loss: 0.4988 - val_loss: 0.8541\n",
      "Epoch 25/10000\n",
      "92/92 [==============================] - 1s 12ms/step - loss: 0.4778 - val_loss: 0.8187\n",
      "Epoch 26/10000\n",
      "92/92 [==============================] - 1s 10ms/step - loss: 0.4578 - val_loss: 0.7851\n",
      "Epoch 27/10000\n",
      "92/92 [==============================] - 1s 11ms/step - loss: 0.4387 - val_loss: 0.7528\n",
      "Epoch 28/10000\n",
      "92/92 [==============================] - 1s 10ms/step - loss: 0.4206 - val_loss: 0.7222\n",
      "Epoch 29/10000\n",
      "92/92 [==============================] - 1s 11ms/step - loss: 0.4033 - val_loss: 0.6925\n",
      "Epoch 30/10000\n",
      "92/92 [==============================] - 1s 12ms/step - loss: 0.3868 - val_loss: 0.6643\n",
      "Epoch 31/10000\n",
      "92/92 [==============================] - 1s 11ms/step - loss: 0.3711 - val_loss: 0.6380\n",
      "Epoch 32/10000\n",
      "92/92 [==============================] - 1s 10ms/step - loss: 0.3561 - val_loss: 0.6128\n",
      "Epoch 33/10000\n",
      "92/92 [==============================] - 1s 9ms/step - loss: 0.3416 - val_loss: 0.5886\n",
      "Epoch 34/10000\n",
      "92/92 [==============================] - 1s 9ms/step - loss: 0.3278 - val_loss: 0.5652\n",
      "Epoch 35/10000\n",
      "92/92 [==============================] - 1s 9ms/step - loss: 0.3145 - val_loss: 0.5432\n",
      "Epoch 36/10000\n",
      "92/92 [==============================] - 1s 11ms/step - loss: 0.3016 - val_loss: 0.5219\n",
      "Epoch 37/10000\n",
      "92/92 [==============================] - 1s 11ms/step - loss: 0.2892 - val_loss: 0.5016\n",
      "Epoch 38/10000\n",
      "92/92 [==============================] - 1s 12ms/step - loss: 0.2773 - val_loss: 0.4821\n",
      "Epoch 39/10000\n",
      "92/92 [==============================] - 1s 11ms/step - loss: 0.2657 - val_loss: 0.4636\n",
      "Epoch 40/10000\n",
      "92/92 [==============================] - 1s 13ms/step - loss: 0.2545 - val_loss: 0.4452\n",
      "Epoch 41/10000\n",
      "92/92 [==============================] - 1s 12ms/step - loss: 0.2436 - val_loss: 0.4279\n",
      "Epoch 42/10000\n",
      "92/92 [==============================] - 1s 12ms/step - loss: 0.2332 - val_loss: 0.4112\n",
      "Epoch 43/10000\n",
      "92/92 [==============================] - 1s 13ms/step - loss: 0.2231 - val_loss: 0.3952\n",
      "Epoch 44/10000\n",
      "92/92 [==============================] - 1s 13ms/step - loss: 0.2134 - val_loss: 0.3795\n",
      "Epoch 45/10000\n",
      "92/92 [==============================] - 1s 10ms/step - loss: 0.2040 - val_loss: 0.3646\n",
      "Epoch 46/10000\n",
      "92/92 [==============================] - 1s 13ms/step - loss: 0.1949 - val_loss: 0.3501\n",
      "Epoch 47/10000\n",
      "92/92 [==============================] - 1s 13ms/step - loss: 0.1862 - val_loss: 0.3362\n",
      "Epoch 48/10000\n",
      "92/92 [==============================] - 1s 12ms/step - loss: 0.1778 - val_loss: 0.3231\n",
      "Epoch 49/10000\n",
      "92/92 [==============================] - 1s 11ms/step - loss: 0.1698 - val_loss: 0.3105\n",
      "Epoch 50/10000\n",
      "92/92 [==============================] - 1s 15ms/step - loss: 0.1620 - val_loss: 0.2985\n",
      "Epoch 51/10000\n",
      "92/92 [==============================] - 1s 15ms/step - loss: 0.1547 - val_loss: 0.2869\n",
      "Epoch 52/10000\n",
      "92/92 [==============================] - 1s 13ms/step - loss: 0.1476 - val_loss: 0.2760\n",
      "Epoch 53/10000\n",
      "92/92 [==============================] - 1s 10ms/step - loss: 0.1409 - val_loss: 0.2658\n",
      "Epoch 54/10000\n",
      "92/92 [==============================] - 1s 10ms/step - loss: 0.1345 - val_loss: 0.2561\n",
      "Epoch 55/10000\n",
      "92/92 [==============================] - 1s 9ms/step - loss: 0.1284 - val_loss: 0.2471\n",
      "Epoch 56/10000\n",
      "92/92 [==============================] - 1s 10ms/step - loss: 0.1226 - val_loss: 0.2385\n",
      "Epoch 57/10000\n",
      "92/92 [==============================] - 1s 14ms/step - loss: 0.1171 - val_loss: 0.2304\n",
      "Epoch 58/10000\n",
      "92/92 [==============================] - 1s 12ms/step - loss: 0.1119 - val_loss: 0.2228\n",
      "Epoch 59/10000\n",
      "92/92 [==============================] - 1s 10ms/step - loss: 0.1069 - val_loss: 0.2157\n",
      "Epoch 60/10000\n",
      "92/92 [==============================] - 1s 11ms/step - loss: 0.1022 - val_loss: 0.2092\n",
      "Epoch 61/10000\n",
      "92/92 [==============================] - 1s 12ms/step - loss: 0.0978 - val_loss: 0.2028\n",
      "Epoch 62/10000\n",
      "92/92 [==============================] - 1s 13ms/step - loss: 0.0936 - val_loss: 0.1969\n",
      "Epoch 63/10000\n",
      "92/92 [==============================] - 1s 11ms/step - loss: 0.0896 - val_loss: 0.1914\n",
      "Epoch 64/10000\n",
      "92/92 [==============================] - 1s 10ms/step - loss: 0.0858 - val_loss: 0.1860\n",
      "Epoch 65/10000\n",
      "92/92 [==============================] - 1s 13ms/step - loss: 0.0823 - val_loss: 0.1812\n",
      "Epoch 66/10000\n",
      "92/92 [==============================] - 1s 15ms/step - loss: 0.0789 - val_loss: 0.1765\n",
      "Epoch 67/10000\n",
      "92/92 [==============================] - 1s 12ms/step - loss: 0.0758 - val_loss: 0.1722\n",
      "Epoch 68/10000\n",
      "92/92 [==============================] - 1s 11ms/step - loss: 0.0728 - val_loss: 0.1679\n",
      "Epoch 69/10000\n",
      "92/92 [==============================] - 1s 11ms/step - loss: 0.0700 - val_loss: 0.1638\n",
      "Epoch 70/10000\n",
      "92/92 [==============================] - 1s 13ms/step - loss: 0.0673 - val_loss: 0.1600\n",
      "Epoch 71/10000\n",
      "92/92 [==============================] - 1s 12ms/step - loss: 0.0649 - val_loss: 0.1563\n",
      "Epoch 72/10000\n",
      "92/92 [==============================] - 1s 13ms/step - loss: 0.0625 - val_loss: 0.1526\n",
      "Epoch 73/10000\n",
      "92/92 [==============================] - 1s 12ms/step - loss: 0.0604 - val_loss: 0.1490\n",
      "Epoch 74/10000\n",
      "92/92 [==============================] - 1s 10ms/step - loss: 0.0583 - val_loss: 0.1453\n",
      "Epoch 75/10000\n",
      "92/92 [==============================] - 1s 12ms/step - loss: 0.0563 - val_loss: 0.1414\n",
      "Epoch 76/10000\n",
      "92/92 [==============================] - 1s 13ms/step - loss: 0.0545 - val_loss: 0.1373\n",
      "Epoch 77/10000\n",
      "92/92 [==============================] - 1s 10ms/step - loss: 0.0527 - val_loss: 0.1331\n",
      "Epoch 78/10000\n",
      "92/92 [==============================] - 1s 11ms/step - loss: 0.0510 - val_loss: 0.1285\n",
      "Epoch 79/10000\n",
      "92/92 [==============================] - 1s 14ms/step - loss: 0.0494 - val_loss: 0.1236\n",
      "Epoch 80/10000\n"
     ]
    },
    {
     "name": "stdout",
     "output_type": "stream",
     "text": [
      "92/92 [==============================] - 1s 11ms/step - loss: 0.0479 - val_loss: 0.1187\n",
      "Epoch 81/10000\n",
      "92/92 [==============================] - 1s 11ms/step - loss: 0.0463 - val_loss: 0.1135\n",
      "Epoch 82/10000\n",
      "92/92 [==============================] - 1s 13ms/step - loss: 0.0449 - val_loss: 0.1086\n",
      "Epoch 83/10000\n",
      "92/92 [==============================] - 1s 13ms/step - loss: 0.0435 - val_loss: 0.1035\n",
      "Epoch 84/10000\n",
      "92/92 [==============================] - 1s 12ms/step - loss: 0.0422 - val_loss: 0.0986\n",
      "Epoch 85/10000\n",
      "92/92 [==============================] - 1s 13ms/step - loss: 0.0409 - val_loss: 0.0938\n",
      "Epoch 86/10000\n",
      "92/92 [==============================] - 1s 11ms/step - loss: 0.0396 - val_loss: 0.0893\n",
      "Epoch 87/10000\n",
      "92/92 [==============================] - 1s 10ms/step - loss: 0.0383 - val_loss: 0.0851\n",
      "Epoch 88/10000\n",
      "92/92 [==============================] - 1s 10ms/step - loss: 0.0371 - val_loss: 0.0816\n",
      "Epoch 89/10000\n",
      "92/92 [==============================] - 1s 11ms/step - loss: 0.0359 - val_loss: 0.0784\n",
      "Epoch 90/10000\n",
      "92/92 [==============================] - 1s 12ms/step - loss: 0.0348 - val_loss: 0.0756\n",
      "Epoch 91/10000\n",
      "92/92 [==============================] - 1s 10ms/step - loss: 0.0337 - val_loss: 0.0733\n",
      "Epoch 92/10000\n",
      "92/92 [==============================] - 1s 10ms/step - loss: 0.0327 - val_loss: 0.0713\n",
      "Epoch 93/10000\n",
      "92/92 [==============================] - 1s 10ms/step - loss: 0.0317 - val_loss: 0.0692\n",
      "Epoch 94/10000\n",
      "92/92 [==============================] - 1s 16ms/step - loss: 0.0308 - val_loss: 0.0676\n",
      "Epoch 95/10000\n",
      "92/92 [==============================] - 2s 27ms/step - loss: 0.0299 - val_loss: 0.0663\n",
      "Epoch 96/10000\n",
      "92/92 [==============================] - 2s 27ms/step - loss: 0.0291 - val_loss: 0.0647\n",
      "Epoch 97/10000\n",
      "92/92 [==============================] - 3s 31ms/step - loss: 0.0283 - val_loss: 0.0633\n",
      "Epoch 98/10000\n",
      "92/92 [==============================] - 2s 26ms/step - loss: 0.0275 - val_loss: 0.0621\n",
      "Epoch 99/10000\n",
      "92/92 [==============================] - 2s 27ms/step - loss: 0.0268 - val_loss: 0.0610\n",
      "Epoch 100/10000\n",
      "92/92 [==============================] - 2s 27ms/step - loss: 0.0262 - val_loss: 0.0600\n",
      "Epoch 101/10000\n",
      "92/92 [==============================] - 2s 25ms/step - loss: 0.0256 - val_loss: 0.0596\n",
      "Epoch 102/10000\n",
      "92/92 [==============================] - 2s 25ms/step - loss: 0.0250 - val_loss: 0.0586\n",
      "Epoch 103/10000\n",
      "92/92 [==============================] - 2s 26ms/step - loss: 0.0244 - val_loss: 0.0579\n",
      "Epoch 104/10000\n",
      "92/92 [==============================] - 2s 25ms/step - loss: 0.0239 - val_loss: 0.0571\n",
      "Epoch 105/10000\n",
      "92/92 [==============================] - 2s 25ms/step - loss: 0.0234 - val_loss: 0.0564\n",
      "Epoch 106/10000\n",
      "92/92 [==============================] - 2s 25ms/step - loss: 0.0230 - val_loss: 0.0556\n",
      "Epoch 107/10000\n",
      "92/92 [==============================] - 2s 26ms/step - loss: 0.0225 - val_loss: 0.0548\n",
      "Epoch 108/10000\n",
      "92/92 [==============================] - 2s 26ms/step - loss: 0.0221 - val_loss: 0.0541\n",
      "Epoch 109/10000\n",
      "92/92 [==============================] - 2s 27ms/step - loss: 0.0217 - val_loss: 0.0533\n",
      "Epoch 110/10000\n",
      "92/92 [==============================] - 2s 24ms/step - loss: 0.0213 - val_loss: 0.0525\n",
      "Epoch 111/10000\n",
      "92/92 [==============================] - 3s 28ms/step - loss: 0.0210 - val_loss: 0.0516\n",
      "Epoch 112/10000\n",
      "92/92 [==============================] - 2s 26ms/step - loss: 0.0206 - val_loss: 0.0504\n",
      "Epoch 113/10000\n",
      "92/92 [==============================] - 2s 25ms/step - loss: 0.0203 - val_loss: 0.0497\n",
      "Epoch 114/10000\n",
      "92/92 [==============================] - 2s 26ms/step - loss: 0.0200 - val_loss: 0.0489\n",
      "Epoch 115/10000\n",
      "92/92 [==============================] - 2s 25ms/step - loss: 0.0198 - val_loss: 0.0482\n",
      "Epoch 116/10000\n",
      "92/92 [==============================] - 2s 24ms/step - loss: 0.0195 - val_loss: 0.0473\n",
      "Epoch 117/10000\n",
      "92/92 [==============================] - 3s 28ms/step - loss: 0.0193 - val_loss: 0.0466\n",
      "Epoch 118/10000\n",
      "92/92 [==============================] - 2s 26ms/step - loss: 0.0190 - val_loss: 0.0461\n",
      "Epoch 119/10000\n",
      "92/92 [==============================] - 3s 28ms/step - loss: 0.0188 - val_loss: 0.0452\n",
      "Epoch 120/10000\n",
      "92/92 [==============================] - 2s 26ms/step - loss: 0.0186 - val_loss: 0.0446\n",
      "Epoch 121/10000\n",
      "92/92 [==============================] - 3s 28ms/step - loss: 0.0184 - val_loss: 0.0440\n",
      "Epoch 122/10000\n",
      "92/92 [==============================] - 2s 27ms/step - loss: 0.0182 - val_loss: 0.0437\n",
      "Epoch 123/10000\n",
      "92/92 [==============================] - 2s 25ms/step - loss: 0.0181 - val_loss: 0.0433\n",
      "Epoch 124/10000\n",
      "92/92 [==============================] - 3s 27ms/step - loss: 0.0179 - val_loss: 0.0426\n",
      "Epoch 125/10000\n",
      "92/92 [==============================] - 3s 29ms/step - loss: 0.0177 - val_loss: 0.0424\n",
      "Epoch 126/10000\n",
      "92/92 [==============================] - 2s 25ms/step - loss: 0.0176 - val_loss: 0.0418\n",
      "Epoch 127/10000\n",
      "92/92 [==============================] - 2s 26ms/step - loss: 0.0174 - val_loss: 0.0416\n",
      "Epoch 128/10000\n",
      "92/92 [==============================] - 2s 27ms/step - loss: 0.0173 - val_loss: 0.0412\n",
      "Epoch 129/10000\n",
      "92/92 [==============================] - 2s 25ms/step - loss: 0.0172 - val_loss: 0.0408\n",
      "Epoch 130/10000\n",
      "92/92 [==============================] - 2s 25ms/step - loss: 0.0170 - val_loss: 0.0405\n",
      "Epoch 131/10000\n",
      "92/92 [==============================] - 2s 26ms/step - loss: 0.0169 - val_loss: 0.0402\n",
      "Epoch 132/10000\n",
      "92/92 [==============================] - 3s 28ms/step - loss: 0.0168 - val_loss: 0.0399\n",
      "Epoch 133/10000\n",
      "92/92 [==============================] - 2s 26ms/step - loss: 0.0167 - val_loss: 0.0395\n",
      "Epoch 134/10000\n",
      "92/92 [==============================] - 2s 25ms/step - loss: 0.0166 - val_loss: 0.0396\n",
      "Epoch 135/10000\n",
      "92/92 [==============================] - 2s 24ms/step - loss: 0.0165 - val_loss: 0.0392\n",
      "Epoch 136/10000\n",
      "92/92 [==============================] - 2s 25ms/step - loss: 0.0164 - val_loss: 0.0390\n",
      "Epoch 137/10000\n",
      "92/92 [==============================] - 2s 26ms/step - loss: 0.0163 - val_loss: 0.0390\n",
      "Epoch 138/10000\n",
      "92/92 [==============================] - 2s 25ms/step - loss: 0.0162 - val_loss: 0.0385\n",
      "Epoch 139/10000\n",
      "92/92 [==============================] - 2s 27ms/step - loss: 0.0161 - val_loss: 0.0384\n",
      "Epoch 140/10000\n",
      "92/92 [==============================] - 2s 25ms/step - loss: 0.0160 - val_loss: 0.0382\n",
      "Epoch 141/10000\n",
      "92/92 [==============================] - 2s 25ms/step - loss: 0.0160 - val_loss: 0.0380\n",
      "Epoch 142/10000\n",
      "92/92 [==============================] - 2s 25ms/step - loss: 0.0159 - val_loss: 0.0379\n",
      "Epoch 143/10000\n",
      "92/92 [==============================] - 2s 25ms/step - loss: 0.0158 - val_loss: 0.0377\n",
      "Epoch 144/10000\n",
      "92/92 [==============================] - 2s 27ms/step - loss: 0.0157 - val_loss: 0.0377\n",
      "Epoch 145/10000\n",
      "92/92 [==============================] - 2s 25ms/step - loss: 0.0157 - val_loss: 0.0375\n",
      "Epoch 146/10000\n",
      "92/92 [==============================] - 2s 24ms/step - loss: 0.0156 - val_loss: 0.0374\n",
      "Epoch 147/10000\n",
      "92/92 [==============================] - 2s 26ms/step - loss: 0.0155 - val_loss: 0.0374\n",
      "Epoch 148/10000\n",
      "92/92 [==============================] - 2s 25ms/step - loss: 0.0155 - val_loss: 0.0372\n",
      "Epoch 149/10000\n",
      "92/92 [==============================] - 2s 27ms/step - loss: 0.0154 - val_loss: 0.0372\n",
      "Epoch 150/10000\n",
      "92/92 [==============================] - 3s 27ms/step - loss: 0.0153 - val_loss: 0.0373\n",
      "Epoch 151/10000\n",
      "92/92 [==============================] - 2s 27ms/step - loss: 0.0153 - val_loss: 0.0371\n",
      "Epoch 152/10000\n",
      "92/92 [==============================] - 2s 26ms/step - loss: 0.0152 - val_loss: 0.0370\n",
      "Epoch 153/10000\n",
      "92/92 [==============================] - 2s 25ms/step - loss: 0.0152 - val_loss: 0.0369\n",
      "Epoch 154/10000\n",
      "92/92 [==============================] - 2s 23ms/step - loss: 0.0151 - val_loss: 0.0371\n",
      "Epoch 155/10000\n",
      "92/92 [==============================] - 2s 25ms/step - loss: 0.0151 - val_loss: 0.0368\n",
      "Epoch 156/10000\n",
      "92/92 [==============================] - 2s 26ms/step - loss: 0.0150 - val_loss: 0.0371\n",
      "Epoch 157/10000\n",
      "92/92 [==============================] - 2s 25ms/step - loss: 0.0150 - val_loss: 0.0368\n",
      "Epoch 158/10000\n",
      "92/92 [==============================] - 2s 25ms/step - loss: 0.0149 - val_loss: 0.0370\n",
      "Epoch 159/10000\n"
     ]
    },
    {
     "name": "stdout",
     "output_type": "stream",
     "text": [
      "92/92 [==============================] - 2s 25ms/step - loss: 0.0149 - val_loss: 0.0370\n",
      "Epoch 160/10000\n",
      "92/92 [==============================] - 2s 25ms/step - loss: 0.0148 - val_loss: 0.0370\n",
      "Epoch 161/10000\n",
      "92/92 [==============================] - 2s 24ms/step - loss: 0.0148 - val_loss: 0.0370\n",
      "Epoch 162/10000\n",
      "92/92 [==============================] - 2s 24ms/step - loss: 0.0148 - val_loss: 0.0370\n",
      "Epoch 163/10000\n",
      "92/92 [==============================] - 2s 24ms/step - loss: 0.0147 - val_loss: 0.0371\n",
      "Epoch 164/10000\n",
      "92/92 [==============================] - 2s 25ms/step - loss: 0.0147 - val_loss: 0.0372\n",
      "Epoch 165/10000\n",
      "92/92 [==============================] - 3s 29ms/step - loss: 0.0146 - val_loss: 0.0371\n",
      "Epoch 166/10000\n",
      "92/92 [==============================] - 2s 27ms/step - loss: 0.0146 - val_loss: 0.0371\n",
      "Epoch 167/10000\n",
      "92/92 [==============================] - 2s 23ms/step - loss: 0.0146 - val_loss: 0.0370\n",
      "Epoch 168/10000\n",
      "92/92 [==============================] - 2s 22ms/step - loss: 0.0145 - val_loss: 0.0371\n",
      "Epoch 169/10000\n",
      "92/92 [==============================] - 2s 25ms/step - loss: 0.0145 - val_loss: 0.0372\n",
      "Epoch 170/10000\n",
      "92/92 [==============================] - 2s 19ms/step - loss: 0.0145 - val_loss: 0.0372\n",
      "Epoch 171/10000\n",
      "92/92 [==============================] - 2s 21ms/step - loss: 0.0144 - val_loss: 0.0372\n",
      "Epoch 172/10000\n",
      "92/92 [==============================] - 2s 23ms/step - loss: 0.0144 - val_loss: 0.0374\n",
      "Epoch 173/10000\n",
      "92/92 [==============================] - 2s 20ms/step - loss: 0.0144 - val_loss: 0.0373\n",
      "Epoch 174/10000\n",
      "92/92 [==============================] - 2s 20ms/step - loss: 0.0144 - val_loss: 0.0373\n",
      "Epoch 175/10000\n",
      "92/92 [==============================] - 2s 22ms/step - loss: 0.0143 - val_loss: 0.0374\n"
     ]
    },
    {
     "data": {
      "text/plain": [
       "<tensorflow.python.keras.callbacks.History at 0x28bcb551d48>"
      ]
     },
     "execution_count": 49,
     "metadata": {},
     "output_type": "execute_result"
    }
   ],
   "source": [
    "oPredictiveModel.fit(\n",
    "    aInputTrain, \n",
    "    aOutputTrain, \n",
    "    epochs=iEpochSize, \n",
    "    batch_size=iBatchSize, \n",
    "    verbose=1, \n",
    "    validation_data= (aInputValidation, aOutputValidation),\n",
    "    validation_batch_size= iBatchSize,\n",
    "    callbacks=[oEarlyStop]\n",
    ")"
   ]
  },
  {
   "cell_type": "markdown",
   "id": "680ac53a",
   "metadata": {},
   "source": [
    "## Save Model"
   ]
  },
  {
   "cell_type": "code",
   "execution_count": 50,
   "id": "e8f88fe1",
   "metadata": {},
   "outputs": [],
   "source": [
    "oPredictiveModel.save_weights(sModelName)"
   ]
  },
  {
   "cell_type": "code",
   "execution_count": 51,
   "id": "141bb9fc",
   "metadata": {},
   "outputs": [
    {
     "data": {
      "text/plain": [
       "<matplotlib.axes._subplots.AxesSubplot at 0x28cb2e1b648>"
      ]
     },
     "execution_count": 51,
     "metadata": {},
     "output_type": "execute_result"
    },
    {
     "data": {
      "image/png": "[encoded data removed]",
      "text/plain": [
       "<Figure size 432x288 with 1 Axes>"
      ]
     },
     "metadata": {
      "needs_background": "light"
     },
     "output_type": "display_data"
    }
   ],
   "source": [
    "pd.DataFrame(oPredictiveModel.history.history).plot()"
   ]
  },
  {
   "cell_type": "markdown",
   "id": "75633cc0",
   "metadata": {},
   "source": [
    "## Test Model"
   ]
  },
  {
   "cell_type": "code",
   "execution_count": 91,
   "id": "4d372e80",
   "metadata": {},
   "outputs": [],
   "source": [
    "oPredictiveModel.load_weights(sModelName)\n",
    "\n",
    "aPrediction = oPredictiveModel.predict(aInputTest)\n",
    "aPrediction = aPrediction.reshape((-1, iForwardTimeWindow * iNrOutputFeatures))\n",
    "dfPrediction = pd.DataFrame(aPrediction, index = ixTest, columns = ixOutputColums)\n",
    "\n",
    "aActual = aOutputTest.reshape((-1, iForwardTimeWindow * iNrOutputFeatures))\n",
    "dfActual =  pd.DataFrame(aActual, index = ixTest, columns = ixOutputColums)\n",
    "\n",
    "for sOutputFeature in aOutputFeatures:\n",
    "    sScalerFilePath = os.path.join(sModelName , \"__scalers__\")\n",
    "    sScalerFilePath = os.path.join(sScalerFilePath , sColumn + \".sav\")\n",
    "    oScaler = pickle.load(open(sScalerFilePath, 'rb'))\n",
    "    \n",
    "    tplMaskFeature = (slice(None), slice(sOutputFeature))\n",
    "    \n",
    "    dfPrediction.loc[:,tplMaskFeature] = oScaler.inverse_transform(dfPrediction.loc[:, tplMaskFeature])\n",
    "    dfActual.loc[:, tplMaskFeature] =  oScaler.inverse_transform(dfActual.loc[:, tplMaskFeature])"
   ]
  },
  {
   "cell_type": "markdown",
   "id": "6d47077f",
   "metadata": {},
   "source": [
    "# RESULTS"
   ]
  },
  {
   "cell_type": "code",
   "execution_count": 103,
   "id": "0d094d87",
   "metadata": {},
   "outputs": [],
   "source": [
    "iComparisionTimeStep = 1"
   ]
  },
  {
   "cell_type": "code",
   "execution_count": 141,
   "id": "5f8f2409",
   "metadata": {
    "scrolled": true
   },
   "outputs": [
    {
     "name": "stdout",
     "output_type": "stream",
     "text": [
      "Metrics for regression:\n",
      "      mean absolute error:                1.065\n",
      "       mean squared error:                1.879\n",
      "                max error:                5.820\n",
      "                 r2 score:                0.934\n"
     ]
    }
   ],
   "source": [
    "y_pred = dfPrediction.iloc[:, iComparisionTimeStep]\n",
    "y_true = dfActual.iloc[:, iComparisionTimeStep]\n",
    "aMetrics = [\n",
    "        ('mean absolute error', mean_absolute_error(y_true, y_pred)),\n",
    "        ('mean squared error', mean_squared_error(y_true, y_pred)),\n",
    "        ('max error', max_error(y_true, y_pred)),\n",
    "        ('r2 score', r2_score(y_true, y_pred))\n",
    "    ]\n",
    "\n",
    "print('Metrics for regression:')\n",
    "for metric_name, metric_value in aMetrics:\n",
    "    print(f'{metric_name:>25s}: {metric_value: >20.3f}')"
   ]
  },
  {
   "cell_type": "code",
   "execution_count": 104,
   "id": "245d4b4b",
   "metadata": {},
   "outputs": [
    {
     "data": {
      "text/plain": [
       "<matplotlib.axes._subplots.AxesSubplot at 0x28cbdfa2988>"
      ]
     },
     "execution_count": 104,
     "metadata": {},
     "output_type": "execute_result"
    },
    {
     "data": {
      "image/png": "[encoded data removed]",
      "text/plain": [
       "<Figure size 432x288 with 1 Axes>"
      ]
     },
     "metadata": {
      "needs_background": "light"
     },
     "output_type": "display_data"
    }
   ],
   "source": [
    "dfTestComparision = pd.DataFrame(dfPrediction.iloc[:,iComparisionTimeStep])\n",
    "dfTestComparision = dfTestComparision.join(dfActual.iloc[:,iComparisionTimeStep], how = \"inner\", lsuffix=\"prediction\")\n",
    "dfTestComparision.columns = [\"Prediction\", \"Actual\"]\n",
    "\n",
    "sns.scatterplot(data = dfTestComparision, x = \"Actual\", y =\"Prediction\")"
   ]
  },
  {
   "cell_type": "code",
   "execution_count": 152,
   "id": "482be7e4",
   "metadata": {},
   "outputs": [
    {
     "name": "stdout",
     "output_type": "stream",
     "text": [
      "-4.581808872207356\n"
     ]
    },
    {
     "data": {
      "text/plain": [
       "<matplotlib.axes._subplots.AxesSubplot at 0x28cbf315dc8>"
      ]
     },
     "execution_count": 152,
     "metadata": {},
     "output_type": "execute_result"
    },
    {
     "data": {
      "image/png": "[encoded data removed]",
      "text/plain": [
       "<Figure size 432x288 with 1 Axes>"
      ]
     },
     "metadata": {
      "needs_background": "light"
     },
     "output_type": "display_data"
    }
   ],
   "source": [
    "iFrom = 10* iForwardTimeWindow\n",
    "iTo = iFrom + iForwardTimeWindow\n",
    "\n",
    "print(r2_score(dfActual.iloc[iFrom:iTo].loc[:, iComparisionTimeStep], dfPrediction.iloc[iFrom:iTo].loc[:, iComparisionTimeStep]))\n",
    "sns.lineplot(data = dfTestComparision.iloc[iFrom:iTo])"
   ]
  },
  {
   "cell_type": "code",
   "execution_count": 153,
   "id": "60ab3295",
   "metadata": {},
   "outputs": [
    {
     "name": "stdout",
     "output_type": "stream",
     "text": [
      "-0.15918680040080213\n"
     ]
    },
    {
     "data": {
      "text/plain": [
       "<matplotlib.axes._subplots.AxesSubplot at 0x28cbf585e08>"
      ]
     },
     "execution_count": 153,
     "metadata": {},
     "output_type": "execute_result"
    },
    {
     "data": {
      "image/png": "[encoded data removed]",
      "text/plain": [
       "<Figure size 432x288 with 1 Axes>"
      ]
     },
     "metadata": {
      "needs_background": "light"
     },
     "output_type": "display_data"
    }
   ],
   "source": [
    "sFeatureName = \"close\"\n",
    "dfStepComparision = dfActual.iloc[iFrom:iTo].loc[:, (slice(None), slice(sOutputFeature))].loc[:, 0]\n",
    "dfStepComparision.columns = [\"actual\"]\n",
    "\n",
    "dfStepComparision[\"prediction\"] = dfPrediction.iloc[iFrom].loc[:, sFeatureName].values\n",
    "\n",
    "print(r2_score(dfStepComparision[\"actual\"], dfStepComparision[\"prediction\"]))\n",
    "sns.lineplot(data = dfStepComparision)"
   ]
  },
  {
   "cell_type": "markdown",
   "id": "75ca3ab0",
   "metadata": {},
   "source": [
    "# REFERENCES"
   ]
  },
  {
   "cell_type": "markdown",
   "id": "49501761",
   "metadata": {},
   "source": [
    "https://www.tensorflow.org/guide/keras/train_and_evaluate#passing_data_to_multi-input_multi-output_models\n",
    "\n",
    "https://www.tensorflow.org/guide/keras/writing_a_training_loop_from_scratch/\n",
    "\n",
    "https://www.tensorflow.org/guide/keras/customizing_what_happens_in_fit/\n",
    "\n",
    "https://towardsdatascience.com/customize-loss-function-to-make-lstm-model-more-applicable-in-stock-price-prediction-b1c50e50b16c\n",
    "\n",
    "https://keras.io/getting_started/faq/\n",
    "\n",
    "https://machinelearningmastery.com/how-to-develop-lstm-models-for-multi-step-time-series-forecasting-of-household-power-consumption/\n",
    "\n",
    "https://www.tensorflow.org/tutorials/structured_data/time_series"
   ]
  }
 ],
 "metadata": {
  "kernelspec": {
   "display_name": "Python 3",
   "language": "python",
   "name": "python3"
  },
  "language_info": {
   "codemirror_mode": {
    "name": "ipython",
    "version": 3
   },
   "file_extension": ".py",
   "mimetype": "text/x-python",
   "name": "python",
   "nbconvert_exporter": "python",
   "pygments_lexer": "ipython3",
   "version": "3.7.10"
  },
  "varInspector": {
   "cols": {
    "lenName": 16,
    "lenType": 16,
    "lenVar": 40
   },
   "kernels_config": {
    "python": {
     "delete_cmd_postfix": "",
     "delete_cmd_prefix": "del ",
     "library": "var_list.py",
     "varRefreshCmd": "print(var_dic_list())"
    },
    "r": {
     "delete_cmd_postfix": ") ",
     "delete_cmd_prefix": "rm(",
     "library": "var_list.r",
     "varRefreshCmd": "cat(var_dic_list()) "
    }
   },
   "types_to_exclude": [
    "module",
    "function",
    "builtin_function_or_method",
    "instance",
    "_Feature"
   ],
   "window_display": false
  }
 },
 "nbformat": 4,
 "nbformat_minor": 5
}
