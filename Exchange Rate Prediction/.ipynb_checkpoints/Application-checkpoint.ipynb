{
 "cells": [
  {
   "cell_type": "code",
   "execution_count": 1,
   "id": "0611acbc",
   "metadata": {},
   "outputs": [],
   "source": [
    "import pandas as pd\n",
    "\n",
    "import numpy as np\n",
    "\n",
    "import itertools\n",
    "\n",
    "from datetime import datetime\n",
    "\n",
    "import time\n",
    "\n",
    "import pytz\n",
    "import sys\n",
    "import pickle\n",
    "\n",
    "from sklearn.preprocessing import StandardScaler\n",
    "from sklearn.model_selection import train_test_split\n",
    "from sklearn.metrics import mean_absolute_error, mean_squared_error, max_error, r2_score\n",
    "\n",
    "import seaborn as sns\n",
    "\n",
    "import MetaTrader5 as mt5\n",
    "\n",
    "import os\n",
    "os.environ['TF_CPP_MIN_LOG_LEVEL'] = '2' \n",
    "\n",
    "import tensorflow as tf\n",
    "from tensorflow import keras\n",
    "from tensorflow.keras import Sequential\n",
    "from tensorflow.keras.layers import Dense\n",
    "from tensorflow.keras.layers import LSTM\n",
    "from tensorflow.keras.layers import Reshape\n",
    "from tensorflow.keras.layers import RepeatVector\n",
    "from tensorflow.keras.layers import TimeDistributed\n",
    "from tensorflow.keras.callbacks import EarlyStopping"
   ]
  },
  {
   "cell_type": "markdown",
   "id": "8d915683",
   "metadata": {},
   "source": [
    "# LOAD DATA"
   ]
  },
  {
   "cell_type": "code",
   "execution_count": 2,
   "id": "a44508f4",
   "metadata": {
    "code_folding": []
   },
   "outputs": [],
   "source": [
    "sSymbol = \"NAT.GAS\"\n",
    "gc_o_TIME_ZONE = pytz.timezone(\"Etc/UTC\")\n",
    "gc_dt_FROM = datetime(2021, 1, 1, tzinfo=gc_o_TIME_ZONE)\n",
    "gc_dt_TO = datetime(2021, 11, 1, tzinfo=gc_o_TIME_ZONE)"
   ]
  },
  {
   "cell_type": "code",
   "execution_count": 3,
   "id": "7bd3b945",
   "metadata": {},
   "outputs": [],
   "source": [
    "aDatesToFetch = list(pd.date_range(start=gc_dt_FROM, end=gc_dt_TO)) #created since MT5 library fails due to time out.\n",
    "aDatesSampled = aDatesToFetch[::200]\n",
    "aDatesSampled.append(aDatesToFetch[-1])\n",
    "aDatesSampled = list(set(aDatesSampled))\n",
    "aDatesSampled.sort()\n",
    "\n",
    "dfOhlc = pd.DataFrame()\n",
    "for i in range(0, len(aDatesSampled) - 1):\n",
    "    dtFrom = aDatesSampled[i]\n",
    "    dtTo = aDatesSampled[i+1]\n",
    "\n",
    "    if not mt5.initialize():\n",
    "        print(\"initialize() failed, error code =\", mt5.last_error())\n",
    "        sys.exit()\n",
    "\n",
    "    aSymbolInfo = mt5.symbol_info(sSymbol)\n",
    "    if not aSymbolInfo:\n",
    "        print(\"symbol_info() failed, error code =\", mt5.last_error())\n",
    "        sys.exit()\n",
    "\n",
    "    dfOhlcSample = mt5.copy_rates_range(\n",
    "        sSymbol,\n",
    "        mt5.TIMEFRAME_M30,\n",
    "        dtFrom, \n",
    "        dtTo\n",
    "    )\n",
    "    \n",
    "    if len(dfOhlcSample) == 0:\n",
    "        print(\"copy_rates_range() failed, error code =\", mt5.last_error())\n",
    "        sys.exit()\n",
    "\n",
    "    mt5.shutdown()\n",
    "\n",
    "    dfOhlcSample = pd.DataFrame(dfOhlcSample)\n",
    "\n",
    "    dfOhlcSample['timestamp'] = pd.to_datetime(dfOhlcSample['time'], unit= \"s\")\n",
    "    dfOhlcSample.set_index('timestamp', inplace=True)\n",
    "    \n",
    "    dfOhlc = dfOhlc.append(dfOhlcSample)"
   ]
  },
  {
   "cell_type": "code",
   "execution_count": 4,
   "id": "66398f37",
   "metadata": {},
   "outputs": [],
   "source": [
    "dfOhlc[\"weekday\"] = dfOhlc.index.weekday\n",
    "dfOhlc[\"hour\"] = dfOhlc.index.hour\n",
    "dfOhlc[\"minute\"] = dfOhlc.index.minute"
   ]
  },
  {
   "cell_type": "code",
   "execution_count": 5,
   "id": "93639e4e",
   "metadata": {},
   "outputs": [],
   "source": [
    "dfOhlc.drop([\"time\"], axis = 1 , inplace = True)"
   ]
  },
  {
   "cell_type": "markdown",
   "id": "3c7bca11",
   "metadata": {},
   "source": [
    "# DESCRIBE DATA"
   ]
  },
  {
   "cell_type": "code",
   "execution_count": 6,
   "id": "2b1ef1eb",
   "metadata": {},
   "outputs": [
    {
     "data": {
      "text/html": [
       "<div>\n",
       "<style scoped>\n",
       "    .dataframe tbody tr th:only-of-type {\n",
       "        vertical-align: middle;\n",
       "    }\n",
       "\n",
       "    .dataframe tbody tr th {\n",
       "        vertical-align: top;\n",
       "    }\n",
       "\n",
       "    .dataframe thead th {\n",
       "        text-align: right;\n",
       "    }\n",
       "</style>\n",
       "<table border=\"1\" class=\"dataframe\">\n",
       "  <thead>\n",
       "    <tr style=\"text-align: right;\">\n",
       "      <th></th>\n",
       "      <th>open</th>\n",
       "      <th>high</th>\n",
       "      <th>low</th>\n",
       "      <th>close</th>\n",
       "      <th>tick_volume</th>\n",
       "      <th>spread</th>\n",
       "      <th>real_volume</th>\n",
       "      <th>weekday</th>\n",
       "      <th>hour</th>\n",
       "      <th>minute</th>\n",
       "    </tr>\n",
       "    <tr>\n",
       "      <th>timestamp</th>\n",
       "      <th></th>\n",
       "      <th></th>\n",
       "      <th></th>\n",
       "      <th></th>\n",
       "      <th></th>\n",
       "      <th></th>\n",
       "      <th></th>\n",
       "      <th></th>\n",
       "      <th></th>\n",
       "      <th></th>\n",
       "    </tr>\n",
       "  </thead>\n",
       "  <tbody>\n",
       "    <tr>\n",
       "      <th>2021-01-04 01:00:00</th>\n",
       "      <td>2.616</td>\n",
       "      <td>2.627</td>\n",
       "      <td>2.601</td>\n",
       "      <td>2.624</td>\n",
       "      <td>749</td>\n",
       "      <td>10</td>\n",
       "      <td>22600000</td>\n",
       "      <td>0</td>\n",
       "      <td>1</td>\n",
       "      <td>0</td>\n",
       "    </tr>\n",
       "    <tr>\n",
       "      <th>2021-01-04 01:30:00</th>\n",
       "      <td>2.623</td>\n",
       "      <td>2.625</td>\n",
       "      <td>2.611</td>\n",
       "      <td>2.611</td>\n",
       "      <td>205</td>\n",
       "      <td>10</td>\n",
       "      <td>6450000</td>\n",
       "      <td>0</td>\n",
       "      <td>1</td>\n",
       "      <td>30</td>\n",
       "    </tr>\n",
       "    <tr>\n",
       "      <th>2021-01-04 02:00:00</th>\n",
       "      <td>2.611</td>\n",
       "      <td>2.618</td>\n",
       "      <td>2.608</td>\n",
       "      <td>2.617</td>\n",
       "      <td>149</td>\n",
       "      <td>10</td>\n",
       "      <td>4750000</td>\n",
       "      <td>0</td>\n",
       "      <td>2</td>\n",
       "      <td>0</td>\n",
       "    </tr>\n",
       "    <tr>\n",
       "      <th>2021-01-04 02:30:00</th>\n",
       "      <td>2.616</td>\n",
       "      <td>2.621</td>\n",
       "      <td>2.612</td>\n",
       "      <td>2.621</td>\n",
       "      <td>166</td>\n",
       "      <td>11</td>\n",
       "      <td>5240000</td>\n",
       "      <td>0</td>\n",
       "      <td>2</td>\n",
       "      <td>30</td>\n",
       "    </tr>\n",
       "    <tr>\n",
       "      <th>2021-01-04 03:00:00</th>\n",
       "      <td>2.620</td>\n",
       "      <td>2.621</td>\n",
       "      <td>2.614</td>\n",
       "      <td>2.615</td>\n",
       "      <td>156</td>\n",
       "      <td>17</td>\n",
       "      <td>4940000</td>\n",
       "      <td>0</td>\n",
       "      <td>3</td>\n",
       "      <td>0</td>\n",
       "    </tr>\n",
       "    <tr>\n",
       "      <th>...</th>\n",
       "      <td>...</td>\n",
       "      <td>...</td>\n",
       "      <td>...</td>\n",
       "      <td>...</td>\n",
       "      <td>...</td>\n",
       "      <td>...</td>\n",
       "      <td>...</td>\n",
       "      <td>...</td>\n",
       "      <td>...</td>\n",
       "      <td>...</td>\n",
       "    </tr>\n",
       "    <tr>\n",
       "      <th>2021-10-29 22:00:00</th>\n",
       "      <td>5.499</td>\n",
       "      <td>5.554</td>\n",
       "      <td>5.490</td>\n",
       "      <td>5.533</td>\n",
       "      <td>1524</td>\n",
       "      <td>13</td>\n",
       "      <td>15225000</td>\n",
       "      <td>4</td>\n",
       "      <td>22</td>\n",
       "      <td>0</td>\n",
       "    </tr>\n",
       "    <tr>\n",
       "      <th>2021-10-29 22:30:00</th>\n",
       "      <td>5.533</td>\n",
       "      <td>5.554</td>\n",
       "      <td>5.489</td>\n",
       "      <td>5.548</td>\n",
       "      <td>1334</td>\n",
       "      <td>14</td>\n",
       "      <td>13289000</td>\n",
       "      <td>4</td>\n",
       "      <td>22</td>\n",
       "      <td>30</td>\n",
       "    </tr>\n",
       "    <tr>\n",
       "      <th>2021-10-29 23:00:00</th>\n",
       "      <td>5.547</td>\n",
       "      <td>5.582</td>\n",
       "      <td>5.547</td>\n",
       "      <td>5.559</td>\n",
       "      <td>680</td>\n",
       "      <td>10</td>\n",
       "      <td>6746000</td>\n",
       "      <td>4</td>\n",
       "      <td>23</td>\n",
       "      <td>0</td>\n",
       "    </tr>\n",
       "    <tr>\n",
       "      <th>2021-10-29 23:30:00</th>\n",
       "      <td>5.560</td>\n",
       "      <td>5.582</td>\n",
       "      <td>5.544</td>\n",
       "      <td>5.576</td>\n",
       "      <td>439</td>\n",
       "      <td>10</td>\n",
       "      <td>4336000</td>\n",
       "      <td>4</td>\n",
       "      <td>23</td>\n",
       "      <td>30</td>\n",
       "    </tr>\n",
       "    <tr>\n",
       "      <th>2021-11-01 00:00:00</th>\n",
       "      <td>5.341</td>\n",
       "      <td>5.366</td>\n",
       "      <td>5.319</td>\n",
       "      <td>5.349</td>\n",
       "      <td>640</td>\n",
       "      <td>4</td>\n",
       "      <td>6349000</td>\n",
       "      <td>0</td>\n",
       "      <td>0</td>\n",
       "      <td>0</td>\n",
       "    </tr>\n",
       "  </tbody>\n",
       "</table>\n",
       "<p>9799 rows × 10 columns</p>\n",
       "</div>"
      ],
      "text/plain": [
       "                      open   high    low  close  tick_volume  spread  \\\n",
       "timestamp                                                              \n",
       "2021-01-04 01:00:00  2.616  2.627  2.601  2.624          749      10   \n",
       "2021-01-04 01:30:00  2.623  2.625  2.611  2.611          205      10   \n",
       "2021-01-04 02:00:00  2.611  2.618  2.608  2.617          149      10   \n",
       "2021-01-04 02:30:00  2.616  2.621  2.612  2.621          166      11   \n",
       "2021-01-04 03:00:00  2.620  2.621  2.614  2.615          156      17   \n",
       "...                    ...    ...    ...    ...          ...     ...   \n",
       "2021-10-29 22:00:00  5.499  5.554  5.490  5.533         1524      13   \n",
       "2021-10-29 22:30:00  5.533  5.554  5.489  5.548         1334      14   \n",
       "2021-10-29 23:00:00  5.547  5.582  5.547  5.559          680      10   \n",
       "2021-10-29 23:30:00  5.560  5.582  5.544  5.576          439      10   \n",
       "2021-11-01 00:00:00  5.341  5.366  5.319  5.349          640       4   \n",
       "\n",
       "                     real_volume  weekday  hour  minute  \n",
       "timestamp                                                \n",
       "2021-01-04 01:00:00     22600000        0     1       0  \n",
       "2021-01-04 01:30:00      6450000        0     1      30  \n",
       "2021-01-04 02:00:00      4750000        0     2       0  \n",
       "2021-01-04 02:30:00      5240000        0     2      30  \n",
       "2021-01-04 03:00:00      4940000        0     3       0  \n",
       "...                          ...      ...   ...     ...  \n",
       "2021-10-29 22:00:00     15225000        4    22       0  \n",
       "2021-10-29 22:30:00     13289000        4    22      30  \n",
       "2021-10-29 23:00:00      6746000        4    23       0  \n",
       "2021-10-29 23:30:00      4336000        4    23      30  \n",
       "2021-11-01 00:00:00      6349000        0     0       0  \n",
       "\n",
       "[9799 rows x 10 columns]"
      ]
     },
     "execution_count": 6,
     "metadata": {},
     "output_type": "execute_result"
    }
   ],
   "source": [
    "dfOhlc"
   ]
  },
  {
   "cell_type": "code",
   "execution_count": 7,
   "id": "af8dc92b",
   "metadata": {},
   "outputs": [
    {
     "data": {
      "text/plain": [
       "<matplotlib.axes._subplots.AxesSubplot at 0x19aef072208>"
      ]
     },
     "execution_count": 7,
     "metadata": {},
     "output_type": "execute_result"
    },
    {
     "data": {
      "image/png": "[encoded data removed]",
      "text/plain": [
       "<Figure size 432x288 with 1 Axes>"
      ]
     },
     "metadata": {
      "needs_background": "light"
     },
     "output_type": "display_data"
    }
   ],
   "source": [
    "sns.lineplot(data  = dfOhlc[\"close\"])"
   ]
  },
  {
   "cell_type": "markdown",
   "id": "34801cd6",
   "metadata": {},
   "source": [
    "# PREPROCESSING"
   ]
  },
  {
   "cell_type": "code",
   "execution_count": 8,
   "id": "137167f1",
   "metadata": {},
   "outputs": [],
   "source": [
    "sModelName = os.path.join(sSymbol , \"__deep learning model__\")"
   ]
  },
  {
   "cell_type": "markdown",
   "id": "10ad77b3",
   "metadata": {},
   "source": [
    "## Transform Data to Stationary"
   ]
  },
  {
   "cell_type": "code",
   "execution_count": 9,
   "id": "0cfac468",
   "metadata": {},
   "outputs": [],
   "source": [
    "dfOhlc[\"close_stationary\"] = dfOhlc[\"close\"].diff()\n",
    "dfOhlc.dropna(inplace=True)"
   ]
  },
  {
   "cell_type": "markdown",
   "id": "fa542c9e",
   "metadata": {},
   "source": [
    "## Split Data"
   ]
  },
  {
   "cell_type": "code",
   "execution_count": 10,
   "id": "70088c21",
   "metadata": {
    "code_folding": []
   },
   "outputs": [],
   "source": [
    "fTrainingRatio = 0.6\n",
    "fValidationRatio = 0.2\n",
    "fTestRatio = 0.2\n",
    "\n",
    "ixTrain, ixTest = train_test_split(\n",
    "    dfOhlc.index,\n",
    "    test_size=1-fTrainingRatio,\n",
    "    shuffle=False)\n",
    "\n",
    "ixValidation, ixTest= train_test_split(\n",
    "    ixTest,\n",
    "    test_size=fTestRatio/(fTestRatio + fValidationRatio),\n",
    "    shuffle=False)"
   ]
  },
  {
   "cell_type": "markdown",
   "id": "a48e73e3",
   "metadata": {},
   "source": [
    "## Scale Data"
   ]
  },
  {
   "cell_type": "code",
   "execution_count": 11,
   "id": "32c7b72c",
   "metadata": {},
   "outputs": [],
   "source": [
    "dfScaledOhlc = pd.DataFrame(index = dfOhlc.index, columns  = dfOhlc.columns)\n",
    "\n",
    "\n",
    "for sColumn in dfOhlc.columns:\n",
    "    oScaler = StandardScaler()\n",
    "    \n",
    "    dfTrain = pd.DataFrame(dfOhlc.loc[ixTrain, sColumn])\n",
    "    dfValidation = pd.DataFrame(dfOhlc.loc[ixValidation, sColumn])\n",
    "    dfTest = pd.DataFrame(dfOhlc.loc[ixTest, sColumn])\n",
    "    \n",
    "    oScaler.fit(dfTrain)\n",
    "    \n",
    "    dfScaledOhlc.loc[ixTrain, sColumn] = np.reshape(oScaler.transform(dfTrain), (-1))\n",
    "    dfScaledOhlc.loc[ixValidation, sColumn] = np.reshape(oScaler.transform(dfValidation), (-1))\n",
    "    dfScaledOhlc.loc[ixTest, sColumn] = np.reshape(oScaler.transform(dfTest), (-1))\n",
    "\n",
    "    sScalerFilePath = os.path.join(sModelName , \"__scalers__\")\n",
    "    sScalerFilePath = os.path.join(sScalerFilePath , sColumn + \".sav\")\n",
    "    os.makedirs(os.path.dirname(sScalerFilePath), exist_ok=True)\n",
    "    pickle.dump(oScaler, open(sScalerFilePath, 'wb'))"
   ]
  },
  {
   "cell_type": "markdown",
   "id": "e4f452e4",
   "metadata": {},
   "source": [
    "## Feature Engineering"
   ]
  },
  {
   "cell_type": "code",
   "execution_count": 12,
   "id": "1449fbb7",
   "metadata": {},
   "outputs": [],
   "source": [
    "aInputFeatures = ['open', 'high', 'low', 'close', 'tick_volume', 'spread', 'real_volume','weekday', 'hour', 'minute']\n",
    "iBackwardTimeWindow = 8\n",
    "iNrInputFeatures = len(aInputFeatures)\n",
    "aBackwardTimeSteps = range(-iBackwardTimeWindow, 0)\n",
    "\n",
    "tplInputColumns = list(itertools.product(aBackwardTimeSteps, aInputFeatures))\n",
    "miInputColums = pd.MultiIndex.from_tuples(tplInputColumns, names= [\"time_step\", \"feature\"])\n",
    "\n",
    "dfInput = pd.DataFrame( columns = miInputColums)\n",
    "\n",
    "for i in aBackwardTimeSteps:\n",
    "    for sInputFeature in aInputFeatures:\n",
    "        dfInput.loc[:, (i, sInputFeature)] = dfScaledOhlc[sInputFeature].shift(-i)"
   ]
  },
  {
   "cell_type": "code",
   "execution_count": 13,
   "id": "ce152a53",
   "metadata": {},
   "outputs": [],
   "source": [
    "aOutputFeatures = ['close_stationary']\n",
    "iForwardTimeWindow  =  8\n",
    "iNrOutputFeatures = len(aOutputFeatures)\n",
    "aForwardTimeSteps = range(0, iForwardTimeWindow)\n",
    "\n",
    "tplOutputColumns = list(itertools.product(aForwardTimeSteps, aOutputFeatures))\n",
    "ixOutputColums = pd.MultiIndex.from_tuples(tplOutputColumns, names= [\"time_step\", \"feature\"])\n",
    "\n",
    "dfOutput = pd.DataFrame(columns = ixOutputColums)\n",
    "\n",
    "for i in aForwardTimeSteps:\n",
    "    for sOutputFeature in aOutputFeatures:\n",
    "        dfOutput.loc[:, (i, sOutputFeature)] = dfScaledOhlc[sOutputFeature].shift(-i)"
   ]
  },
  {
   "cell_type": "code",
   "execution_count": 14,
   "id": "296eec07",
   "metadata": {},
   "outputs": [],
   "source": [
    "dfMerged = dfInput.join(dfOutput, how= \"inner\")\n",
    "dfMerged.dropna(inplace=True)\n",
    "dfInput = dfMerged[dfInput.columns]\n",
    "dfOutput = dfMerged[dfOutput.columns]\n",
    "ixTrain = ixTrain.join(dfMerged.index, how = \"inner\")\n",
    "ixValidation = ixValidation.join(dfMerged.index, how = \"inner\")\n",
    "ixTest = ixTest.join(dfMerged.index, how = \"inner\")"
   ]
  },
  {
   "cell_type": "code",
   "execution_count": 15,
   "id": "96e399d4",
   "metadata": {},
   "outputs": [],
   "source": [
    "dfInputTrain = dfInput.loc[ixTrain]\n",
    "aInputTrain = np.reshape(dfInputTrain.values, (dfInputTrain.shape[0], iBackwardTimeWindow, iNrInputFeatures))\n",
    "\n",
    "dfInputValidation = dfInput.loc[ixValidation]\n",
    "aInputValidation = np.reshape(dfInputValidation.values, (dfInputValidation.shape[0], iBackwardTimeWindow, iNrInputFeatures))\n",
    "\n",
    "dfInputTest = dfInput.loc[ixTest]\n",
    "aInputTest = np.reshape(dfInputTest.values, (dfInputTest.shape[0], iBackwardTimeWindow, iNrInputFeatures))\n",
    "\n",
    "dfOutputTrain = dfOutput.loc[ixTrain]\n",
    "aOutputTrain = np.reshape(dfOutputTrain.values, (dfOutputTrain.shape[0], iForwardTimeWindow, iNrOutputFeatures))\n",
    "\n",
    "dfOutputValidation = dfOutput.loc[ixValidation]\n",
    "aOutputValidation = np.reshape(dfOutputValidation.values, (dfOutputValidation.shape[0], iForwardTimeWindow, iNrOutputFeatures))\n",
    "\n",
    "dfOutputTest = dfOutput.loc[ixTest]\n",
    "aOutputTest = np.reshape(dfOutputTest.values, (dfOutputTest.shape[0], iForwardTimeWindow, iNrOutputFeatures))"
   ]
  },
  {
   "cell_type": "code",
   "execution_count": 16,
   "id": "76ce37ad",
   "metadata": {},
   "outputs": [],
   "source": [
    "aInputTrain = np.asarray(aInputTrain, np.float32)\n",
    "aInputValidation = np.asarray(aInputValidation, np.float32)\n",
    "aInputTest = np.asarray(aInputTest, np.float32)\n",
    "aOutputTrain = np.asarray(aOutputTrain, np.float32)\n",
    "aOutputValidation = np.asarray(aOutputValidation, np.float32)\n",
    "aOutputTest = np.asarray(aOutputTest, np.float32)"
   ]
  },
  {
   "cell_type": "markdown",
   "id": "52944fb0",
   "metadata": {},
   "source": [
    "## Train"
   ]
  },
  {
   "cell_type": "markdown",
   "id": "e253bd8c",
   "metadata": {},
   "source": [
    "### Set Hyperparameters"
   ]
  },
  {
   "cell_type": "code",
   "execution_count": 17,
   "id": "a484f077",
   "metadata": {},
   "outputs": [],
   "source": [
    "iBatchSize = 512\n",
    "iEpochSize = 10000\n",
    "iNrOfHiddenNeurons = 32\n",
    "\n",
    "oOptimizer = tf.keras.optimizers.Adam(learning_rate=1e-05)\n",
    "\n",
    "fncLoss =  tf.keras.losses.MeanSquaredError()\n",
    "\n",
    "oEarlyStop = EarlyStopping(\n",
    "    monitor = 'val_loss', \n",
    "    mode = 'min', \n",
    "    verbose = 0 , \n",
    "    patience = 20, \n",
    "    restore_best_weights = True)"
   ]
  },
  {
   "cell_type": "markdown",
   "id": "a75b209e",
   "metadata": {},
   "source": [
    "### Build Model"
   ]
  },
  {
   "cell_type": "code",
   "execution_count": 18,
   "id": "cbc5765c",
   "metadata": {},
   "outputs": [],
   "source": [
    "aEncoderInputs = keras.Input(\n",
    "    shape=(iBackwardTimeWindow, iNrInputFeatures), \n",
    "    name=\"aEncoderInputs\")\n",
    "\n",
    "aEncoderHiddens, aFinalH, aFinalC = LSTM(iNrOfHiddenNeurons,\n",
    "                                         return_state = True, \n",
    "                                         return_sequences = True\n",
    "                                        )(aEncoderInputs)\n",
    "# aFinalH = keras.layers.BatchNormalization(momentum=0.6)(aFinalH)\n",
    "# aFinalC = keras.layers.BatchNormalization(momentum=0.6)(aFinalC)\n",
    "\n",
    "aDecoderInputs = keras.layers.RepeatVector(iForwardTimeWindow)(aFinalH)\n",
    "\n",
    "aDecoderHiddens = LSTM(iNrOfHiddenNeurons, \n",
    "                       return_state = False, \n",
    "                       return_sequences = True\n",
    "                      )(aDecoderInputs, initial_state=[aFinalH, aFinalC])\n",
    "\n",
    "# aAttentions = keras.layers.dot([aDecoderHiddens, aEncoderHiddens], axes=[2, 2])\n",
    "# aAttentions = keras.layers.Activation('softmax')(aAttentions)\n",
    "\n",
    "# aContextVector = keras.layers.dot([aAttentions, aEncoderHiddens], axes=[2,1])\n",
    "# aContextVector = keras.layers.BatchNormalization(momentum=0.6)(aContextVector)\n",
    "# aContextVector = keras.layers.concatenate([aContextVector, aDecoderHiddens])\n",
    "\n",
    "aContextVector = aDecoderHiddens\n",
    "aDecoderOutputs = keras.layers.TimeDistributed(\n",
    "    Dense(iNrOutputFeatures)\n",
    ")(aContextVector)\n",
    "\n",
    "oPredictiveModel = keras.Model(\n",
    "    inputs=aEncoderInputs,\n",
    "    outputs=aDecoderOutputs\n",
    ")"
   ]
  },
  {
   "cell_type": "markdown",
   "id": "19a5c23e",
   "metadata": {},
   "source": [
    "### Compile Model"
   ]
  },
  {
   "cell_type": "code",
   "execution_count": 19,
   "id": "a8349125",
   "metadata": {},
   "outputs": [],
   "source": [
    "oFnLoss =  tf.keras.losses.MeanSquaredError()\n",
    "oPredictiveModel.compile(optimizer=oOptimizer,\n",
    "                         loss = oFnLoss\n",
    "                        )"
   ]
  },
  {
   "cell_type": "markdown",
   "id": "dedaa4fc",
   "metadata": {},
   "source": [
    "### Fit Model"
   ]
  },
  {
   "cell_type": "code",
   "execution_count": 20,
   "id": "3871f87c",
   "metadata": {},
   "outputs": [
    {
     "name": "stdout",
     "output_type": "stream",
     "text": [
      "Epoch 1/10000\n",
      "12/12 [==============================] - 11s 183ms/step - loss: 1.0276 - val_loss: 1.9363\n",
      "Epoch 2/10000\n",
      "12/12 [==============================] - 0s 13ms/step - loss: 1.0259 - val_loss: 1.9183\n",
      "Epoch 3/10000\n",
      "12/12 [==============================] - 0s 12ms/step - loss: 1.0244 - val_loss: 1.9017\n",
      "Epoch 4/10000\n",
      "12/12 [==============================] - 0s 11ms/step - loss: 1.0229 - val_loss: 1.8864\n",
      "Epoch 5/10000\n",
      "12/12 [==============================] - 0s 12ms/step - loss: 1.0215 - val_loss: 1.8717\n",
      "Epoch 6/10000\n",
      "12/12 [==============================] - 0s 12ms/step - loss: 1.0202 - val_loss: 1.8592\n",
      "Epoch 7/10000\n",
      "12/12 [==============================] - 0s 11ms/step - loss: 1.0191 - val_loss: 1.8469\n",
      "Epoch 8/10000\n",
      "12/12 [==============================] - 0s 12ms/step - loss: 1.0180 - val_loss: 1.8360\n",
      "Epoch 9/10000\n",
      "12/12 [==============================] - 0s 11ms/step - loss: 1.0170 - val_loss: 1.8257\n",
      "Epoch 10/10000\n",
      "12/12 [==============================] - 0s 10ms/step - loss: 1.0161 - val_loss: 1.8165\n",
      "Epoch 11/10000\n",
      "12/12 [==============================] - 0s 11ms/step - loss: 1.0153 - val_loss: 1.8084\n",
      "Epoch 12/10000\n",
      "12/12 [==============================] - 0s 11ms/step - loss: 1.0145 - val_loss: 1.7999\n",
      "Epoch 13/10000\n",
      "12/12 [==============================] - 0s 11ms/step - loss: 1.0138 - val_loss: 1.7929\n",
      "Epoch 14/10000\n",
      "12/12 [==============================] - 0s 11ms/step - loss: 1.0131 - val_loss: 1.7861\n",
      "Epoch 15/10000\n",
      "12/12 [==============================] - 0s 11ms/step - loss: 1.0126 - val_loss: 1.7798\n",
      "Epoch 16/10000\n",
      "12/12 [==============================] - 0s 10ms/step - loss: 1.0120 - val_loss: 1.7743\n",
      "Epoch 17/10000\n",
      "12/12 [==============================] - 0s 10ms/step - loss: 1.0115 - val_loss: 1.7692\n",
      "Epoch 18/10000\n",
      "12/12 [==============================] - 0s 10ms/step - loss: 1.0110 - val_loss: 1.7645\n",
      "Epoch 19/10000\n",
      "12/12 [==============================] - 0s 10ms/step - loss: 1.0106 - val_loss: 1.7602\n",
      "Epoch 20/10000\n",
      "12/12 [==============================] - 0s 9ms/step - loss: 1.0102 - val_loss: 1.7563\n",
      "Epoch 21/10000\n",
      "12/12 [==============================] - 0s 9ms/step - loss: 1.0098 - val_loss: 1.7532\n",
      "Epoch 22/10000\n",
      "12/12 [==============================] - 0s 12ms/step - loss: 1.0094 - val_loss: 1.7499\n",
      "Epoch 23/10000\n",
      "12/12 [==============================] - 0s 9ms/step - loss: 1.0091 - val_loss: 1.7470\n",
      "Epoch 24/10000\n",
      "12/12 [==============================] - 0s 11ms/step - loss: 1.0088 - val_loss: 1.7442\n",
      "Epoch 25/10000\n",
      "12/12 [==============================] - 0s 11ms/step - loss: 1.0085 - val_loss: 1.7415\n",
      "Epoch 26/10000\n",
      "12/12 [==============================] - 0s 10ms/step - loss: 1.0083 - val_loss: 1.7392\n",
      "Epoch 27/10000\n",
      "12/12 [==============================] - 0s 10ms/step - loss: 1.0080 - val_loss: 1.7373\n",
      "Epoch 28/10000\n",
      "12/12 [==============================] - 0s 11ms/step - loss: 1.0078 - val_loss: 1.7353\n",
      "Epoch 29/10000\n",
      "12/12 [==============================] - 0s 10ms/step - loss: 1.0076 - val_loss: 1.7332\n",
      "Epoch 30/10000\n",
      "12/12 [==============================] - 0s 10ms/step - loss: 1.0074 - val_loss: 1.7314\n",
      "Epoch 31/10000\n",
      "12/12 [==============================] - 0s 11ms/step - loss: 1.0072 - val_loss: 1.7298\n",
      "Epoch 32/10000\n",
      "12/12 [==============================] - 0s 9ms/step - loss: 1.0070 - val_loss: 1.7285\n",
      "Epoch 33/10000\n",
      "12/12 [==============================] - 0s 11ms/step - loss: 1.0068 - val_loss: 1.7269\n",
      "Epoch 34/10000\n",
      "12/12 [==============================] - 0s 11ms/step - loss: 1.0066 - val_loss: 1.7257\n",
      "Epoch 35/10000\n",
      "12/12 [==============================] - 0s 10ms/step - loss: 1.0064 - val_loss: 1.7245\n",
      "Epoch 36/10000\n",
      "12/12 [==============================] - 0s 10ms/step - loss: 1.0063 - val_loss: 1.7232\n",
      "Epoch 37/10000\n",
      "12/12 [==============================] - 0s 12ms/step - loss: 1.0061 - val_loss: 1.7221\n",
      "Epoch 38/10000\n",
      "12/12 [==============================] - 0s 10ms/step - loss: 1.0060 - val_loss: 1.7211\n",
      "Epoch 39/10000\n",
      "12/12 [==============================] - 0s 10ms/step - loss: 1.0058 - val_loss: 1.7202\n",
      "Epoch 40/10000\n",
      "12/12 [==============================] - 0s 10ms/step - loss: 1.0057 - val_loss: 1.7192\n",
      "Epoch 41/10000\n",
      "12/12 [==============================] - 0s 10ms/step - loss: 1.0055 - val_loss: 1.7185\n",
      "Epoch 42/10000\n",
      "12/12 [==============================] - 0s 12ms/step - loss: 1.0054 - val_loss: 1.7176\n",
      "Epoch 43/10000\n",
      "12/12 [==============================] - 0s 10ms/step - loss: 1.0053 - val_loss: 1.7171\n",
      "Epoch 44/10000\n",
      "12/12 [==============================] - 0s 12ms/step - loss: 1.0052 - val_loss: 1.7166\n",
      "Epoch 45/10000\n",
      "12/12 [==============================] - 0s 11ms/step - loss: 1.0050 - val_loss: 1.7160\n",
      "Epoch 46/10000\n",
      "12/12 [==============================] - 0s 11ms/step - loss: 1.0049 - val_loss: 1.7152\n",
      "Epoch 47/10000\n",
      "12/12 [==============================] - 0s 12ms/step - loss: 1.0048 - val_loss: 1.7146\n",
      "Epoch 48/10000\n",
      "12/12 [==============================] - 0s 11ms/step - loss: 1.0047 - val_loss: 1.7142\n",
      "Epoch 49/10000\n",
      "12/12 [==============================] - 0s 10ms/step - loss: 1.0046 - val_loss: 1.7136\n",
      "Epoch 50/10000\n",
      "12/12 [==============================] - 0s 11ms/step - loss: 1.0045 - val_loss: 1.7130\n",
      "Epoch 51/10000\n",
      "12/12 [==============================] - 0s 10ms/step - loss: 1.0044 - val_loss: 1.7125\n",
      "Epoch 52/10000\n",
      "12/12 [==============================] - 0s 10ms/step - loss: 1.0043 - val_loss: 1.7121\n",
      "Epoch 53/10000\n",
      "12/12 [==============================] - 0s 10ms/step - loss: 1.0042 - val_loss: 1.7117\n",
      "Epoch 54/10000\n",
      "12/12 [==============================] - 0s 11ms/step - loss: 1.0041 - val_loss: 1.7112\n",
      "Epoch 55/10000\n",
      "12/12 [==============================] - 0s 11ms/step - loss: 1.0040 - val_loss: 1.7109\n",
      "Epoch 56/10000\n",
      "12/12 [==============================] - 0s 11ms/step - loss: 1.0039 - val_loss: 1.7105\n",
      "Epoch 57/10000\n",
      "12/12 [==============================] - 0s 11ms/step - loss: 1.0038 - val_loss: 1.7104\n",
      "Epoch 58/10000\n",
      "12/12 [==============================] - 0s 10ms/step - loss: 1.0037 - val_loss: 1.7098\n",
      "Epoch 59/10000\n",
      "12/12 [==============================] - 0s 11ms/step - loss: 1.0036 - val_loss: 1.7094\n",
      "Epoch 60/10000\n",
      "12/12 [==============================] - 0s 11ms/step - loss: 1.0036 - val_loss: 1.7091\n",
      "Epoch 61/10000\n",
      "12/12 [==============================] - 0s 11ms/step - loss: 1.0035 - val_loss: 1.7085\n",
      "Epoch 62/10000\n",
      "12/12 [==============================] - 0s 10ms/step - loss: 1.0034 - val_loss: 1.7085\n",
      "Epoch 63/10000\n",
      "12/12 [==============================] - 0s 14ms/step - loss: 1.0033 - val_loss: 1.7080\n",
      "Epoch 64/10000\n",
      "12/12 [==============================] - 0s 11ms/step - loss: 1.0033 - val_loss: 1.7079\n",
      "Epoch 65/10000\n",
      "12/12 [==============================] - 0s 12ms/step - loss: 1.0032 - val_loss: 1.7073\n",
      "Epoch 66/10000\n",
      "12/12 [==============================] - 0s 10ms/step - loss: 1.0031 - val_loss: 1.7070\n",
      "Epoch 67/10000\n",
      "12/12 [==============================] - 0s 11ms/step - loss: 1.0030 - val_loss: 1.7066\n",
      "Epoch 68/10000\n",
      "12/12 [==============================] - 0s 11ms/step - loss: 1.0030 - val_loss: 1.7062\n",
      "Epoch 69/10000\n",
      "12/12 [==============================] - 0s 10ms/step - loss: 1.0029 - val_loss: 1.7060\n",
      "Epoch 70/10000\n",
      "12/12 [==============================] - 0s 13ms/step - loss: 1.0028 - val_loss: 1.7057\n",
      "Epoch 71/10000\n",
      "12/12 [==============================] - 0s 11ms/step - loss: 1.0028 - val_loss: 1.7057\n",
      "Epoch 72/10000\n",
      "12/12 [==============================] - 0s 10ms/step - loss: 1.0027 - val_loss: 1.7055\n",
      "Epoch 73/10000\n",
      "12/12 [==============================] - 0s 10ms/step - loss: 1.0026 - val_loss: 1.7053\n",
      "Epoch 74/10000\n",
      "12/12 [==============================] - 0s 11ms/step - loss: 1.0026 - val_loss: 1.7048\n",
      "Epoch 75/10000\n",
      "12/12 [==============================] - 0s 10ms/step - loss: 1.0025 - val_loss: 1.7046\n",
      "Epoch 76/10000\n",
      "12/12 [==============================] - 0s 10ms/step - loss: 1.0025 - val_loss: 1.7044\n",
      "Epoch 77/10000\n",
      "12/12 [==============================] - 0s 10ms/step - loss: 1.0024 - val_loss: 1.7044\n",
      "Epoch 78/10000\n",
      "12/12 [==============================] - 0s 10ms/step - loss: 1.0023 - val_loss: 1.7043\n",
      "Epoch 79/10000\n",
      "12/12 [==============================] - 0s 11ms/step - loss: 1.0023 - val_loss: 1.7038\n",
      "Epoch 80/10000\n"
     ]
    },
    {
     "name": "stdout",
     "output_type": "stream",
     "text": [
      "12/12 [==============================] - 0s 10ms/step - loss: 1.0022 - val_loss: 1.7036\n",
      "Epoch 81/10000\n",
      "12/12 [==============================] - 0s 15ms/step - loss: 1.0022 - val_loss: 1.7036\n",
      "Epoch 82/10000\n",
      "12/12 [==============================] - 0s 12ms/step - loss: 1.0021 - val_loss: 1.7033\n",
      "Epoch 83/10000\n",
      "12/12 [==============================] - 0s 15ms/step - loss: 1.0021 - val_loss: 1.7032\n",
      "Epoch 84/10000\n",
      "12/12 [==============================] - 0s 10ms/step - loss: 1.0020 - val_loss: 1.7033\n",
      "Epoch 85/10000\n",
      "12/12 [==============================] - 0s 11ms/step - loss: 1.0020 - val_loss: 1.7030\n",
      "Epoch 86/10000\n",
      "12/12 [==============================] - 0s 13ms/step - loss: 1.0019 - val_loss: 1.7026\n",
      "Epoch 87/10000\n",
      "12/12 [==============================] - 0s 11ms/step - loss: 1.0019 - val_loss: 1.7027\n",
      "Epoch 88/10000\n",
      "12/12 [==============================] - 0s 13ms/step - loss: 1.0018 - val_loss: 1.7025\n",
      "Epoch 89/10000\n",
      "12/12 [==============================] - 0s 10ms/step - loss: 1.0018 - val_loss: 1.7021\n",
      "Epoch 90/10000\n",
      "12/12 [==============================] - 0s 11ms/step - loss: 1.0017 - val_loss: 1.7023\n",
      "Epoch 91/10000\n",
      "12/12 [==============================] - 0s 12ms/step - loss: 1.0017 - val_loss: 1.7019\n",
      "Epoch 92/10000\n",
      "12/12 [==============================] - 0s 12ms/step - loss: 1.0016 - val_loss: 1.7017\n",
      "Epoch 93/10000\n",
      "12/12 [==============================] - 0s 10ms/step - loss: 1.0016 - val_loss: 1.7018\n",
      "Epoch 94/10000\n",
      "12/12 [==============================] - 0s 11ms/step - loss: 1.0016 - val_loss: 1.7016\n",
      "Epoch 95/10000\n",
      "12/12 [==============================] - 0s 12ms/step - loss: 1.0015 - val_loss: 1.7015\n",
      "Epoch 96/10000\n",
      "12/12 [==============================] - 0s 12ms/step - loss: 1.0015 - val_loss: 1.7016\n",
      "Epoch 97/10000\n",
      "12/12 [==============================] - 0s 10ms/step - loss: 1.0014 - val_loss: 1.7016\n",
      "Epoch 98/10000\n",
      "12/12 [==============================] - 0s 10ms/step - loss: 1.0014 - val_loss: 1.7012\n",
      "Epoch 99/10000\n",
      "12/12 [==============================] - 0s 11ms/step - loss: 1.0014 - val_loss: 1.7007\n",
      "Epoch 100/10000\n",
      "12/12 [==============================] - 0s 12ms/step - loss: 1.0013 - val_loss: 1.7008\n",
      "Epoch 101/10000\n",
      "12/12 [==============================] - 0s 13ms/step - loss: 1.0013 - val_loss: 1.7005\n",
      "Epoch 102/10000\n",
      "12/12 [==============================] - 0s 11ms/step - loss: 1.0012 - val_loss: 1.7005\n",
      "Epoch 103/10000\n",
      "12/12 [==============================] - 0s 10ms/step - loss: 1.0012 - val_loss: 1.7005\n",
      "Epoch 104/10000\n",
      "12/12 [==============================] - 0s 10ms/step - loss: 1.0012 - val_loss: 1.7004\n",
      "Epoch 105/10000\n",
      "12/12 [==============================] - 0s 13ms/step - loss: 1.0011 - val_loss: 1.7003\n",
      "Epoch 106/10000\n",
      "12/12 [==============================] - 0s 10ms/step - loss: 1.0011 - val_loss: 1.7002\n",
      "Epoch 107/10000\n",
      "12/12 [==============================] - 0s 14ms/step - loss: 1.0011 - val_loss: 1.7000\n",
      "Epoch 108/10000\n",
      "12/12 [==============================] - 0s 9ms/step - loss: 1.0010 - val_loss: 1.7000\n",
      "Epoch 109/10000\n",
      "12/12 [==============================] - 0s 12ms/step - loss: 1.0010 - val_loss: 1.7000\n",
      "Epoch 110/10000\n",
      "12/12 [==============================] - 0s 12ms/step - loss: 1.0010 - val_loss: 1.6998\n",
      "Epoch 111/10000\n",
      "12/12 [==============================] - 0s 11ms/step - loss: 1.0009 - val_loss: 1.6998\n",
      "Epoch 112/10000\n",
      "12/12 [==============================] - 0s 11ms/step - loss: 1.0009 - val_loss: 1.6999\n",
      "Epoch 113/10000\n",
      "12/12 [==============================] - 0s 9ms/step - loss: 1.0009 - val_loss: 1.6999\n",
      "Epoch 114/10000\n",
      "12/12 [==============================] - 0s 10ms/step - loss: 1.0008 - val_loss: 1.6996\n",
      "Epoch 115/10000\n",
      "12/12 [==============================] - 0s 10ms/step - loss: 1.0008 - val_loss: 1.6995\n",
      "Epoch 116/10000\n",
      "12/12 [==============================] - 0s 10ms/step - loss: 1.0008 - val_loss: 1.6994\n",
      "Epoch 117/10000\n",
      "12/12 [==============================] - 0s 11ms/step - loss: 1.0007 - val_loss: 1.6995\n",
      "Epoch 118/10000\n",
      "12/12 [==============================] - 0s 10ms/step - loss: 1.0007 - val_loss: 1.6996\n",
      "Epoch 119/10000\n",
      "12/12 [==============================] - 0s 11ms/step - loss: 1.0007 - val_loss: 1.6995\n",
      "Epoch 120/10000\n",
      "12/12 [==============================] - 0s 10ms/step - loss: 1.0006 - val_loss: 1.6992\n",
      "Epoch 121/10000\n",
      "12/12 [==============================] - 0s 11ms/step - loss: 1.0006 - val_loss: 1.6992\n",
      "Epoch 122/10000\n",
      "12/12 [==============================] - 0s 10ms/step - loss: 1.0006 - val_loss: 1.6990\n",
      "Epoch 123/10000\n",
      "12/12 [==============================] - 0s 10ms/step - loss: 1.0005 - val_loss: 1.6986\n",
      "Epoch 124/10000\n",
      "12/12 [==============================] - 0s 10ms/step - loss: 1.0005 - val_loss: 1.6985\n",
      "Epoch 125/10000\n",
      "12/12 [==============================] - 0s 11ms/step - loss: 1.0005 - val_loss: 1.6984\n",
      "Epoch 126/10000\n",
      "12/12 [==============================] - 0s 10ms/step - loss: 1.0005 - val_loss: 1.6985\n",
      "Epoch 127/10000\n",
      "12/12 [==============================] - 0s 11ms/step - loss: 1.0004 - val_loss: 1.6984\n",
      "Epoch 128/10000\n",
      "12/12 [==============================] - 0s 11ms/step - loss: 1.0004 - val_loss: 1.6985\n",
      "Epoch 129/10000\n",
      "12/12 [==============================] - 0s 10ms/step - loss: 1.0004 - val_loss: 1.6983\n",
      "Epoch 130/10000\n",
      "12/12 [==============================] - 0s 11ms/step - loss: 1.0003 - val_loss: 1.6983\n",
      "Epoch 131/10000\n",
      "12/12 [==============================] - 0s 11ms/step - loss: 1.0003 - val_loss: 1.6985\n",
      "Epoch 132/10000\n",
      "12/12 [==============================] - 0s 11ms/step - loss: 1.0003 - val_loss: 1.6983\n",
      "Epoch 133/10000\n",
      "12/12 [==============================] - 0s 10ms/step - loss: 1.0003 - val_loss: 1.6980\n",
      "Epoch 134/10000\n",
      "12/12 [==============================] - 0s 9ms/step - loss: 1.0002 - val_loss: 1.6980\n",
      "Epoch 135/10000\n",
      "12/12 [==============================] - 0s 10ms/step - loss: 1.0002 - val_loss: 1.6980\n",
      "Epoch 136/10000\n",
      "12/12 [==============================] - 0s 10ms/step - loss: 1.0002 - val_loss: 1.6979\n",
      "Epoch 137/10000\n",
      "12/12 [==============================] - 0s 11ms/step - loss: 1.0002 - val_loss: 1.6980\n",
      "Epoch 138/10000\n",
      "12/12 [==============================] - 0s 13ms/step - loss: 1.0001 - val_loss: 1.6980\n",
      "Epoch 139/10000\n",
      "12/12 [==============================] - 0s 12ms/step - loss: 1.0001 - val_loss: 1.6977\n",
      "Epoch 140/10000\n",
      "12/12 [==============================] - 0s 11ms/step - loss: 1.0001 - val_loss: 1.6976\n",
      "Epoch 141/10000\n",
      "12/12 [==============================] - 0s 9ms/step - loss: 1.0001 - val_loss: 1.6977\n",
      "Epoch 142/10000\n",
      "12/12 [==============================] - 0s 12ms/step - loss: 1.0000 - val_loss: 1.6977\n",
      "Epoch 143/10000\n",
      "12/12 [==============================] - 0s 12ms/step - loss: 1.0000 - val_loss: 1.6978\n",
      "Epoch 144/10000\n",
      "12/12 [==============================] - 0s 9ms/step - loss: 1.0000 - val_loss: 1.6977\n",
      "Epoch 145/10000\n",
      "12/12 [==============================] - 0s 10ms/step - loss: 1.0000 - val_loss: 1.6978\n",
      "Epoch 146/10000\n",
      "12/12 [==============================] - 0s 10ms/step - loss: 0.9999 - val_loss: 1.6978\n",
      "Epoch 147/10000\n",
      "12/12 [==============================] - 0s 10ms/step - loss: 0.9999 - val_loss: 1.6978\n",
      "Epoch 148/10000\n",
      "12/12 [==============================] - 0s 10ms/step - loss: 0.9999 - val_loss: 1.6976\n",
      "Epoch 149/10000\n",
      "12/12 [==============================] - 0s 11ms/step - loss: 0.9999 - val_loss: 1.6973\n",
      "Epoch 150/10000\n",
      "12/12 [==============================] - 0s 10ms/step - loss: 0.9998 - val_loss: 1.6973\n",
      "Epoch 151/10000\n",
      "12/12 [==============================] - 0s 10ms/step - loss: 0.9998 - val_loss: 1.6972\n",
      "Epoch 152/10000\n",
      "12/12 [==============================] - 0s 12ms/step - loss: 0.9998 - val_loss: 1.6972\n",
      "Epoch 153/10000\n",
      "12/12 [==============================] - 0s 13ms/step - loss: 0.9998 - val_loss: 1.6971\n",
      "Epoch 154/10000\n",
      "12/12 [==============================] - 0s 11ms/step - loss: 0.9998 - val_loss: 1.6969\n",
      "Epoch 155/10000\n",
      "12/12 [==============================] - 0s 11ms/step - loss: 0.9997 - val_loss: 1.6970\n",
      "Epoch 156/10000\n",
      "12/12 [==============================] - 0s 12ms/step - loss: 0.9997 - val_loss: 1.6970\n",
      "Epoch 157/10000\n",
      "12/12 [==============================] - 0s 10ms/step - loss: 0.9997 - val_loss: 1.6970\n",
      "Epoch 158/10000\n",
      "12/12 [==============================] - 0s 11ms/step - loss: 0.9997 - val_loss: 1.6970\n",
      "Epoch 159/10000\n"
     ]
    },
    {
     "name": "stdout",
     "output_type": "stream",
     "text": [
      "12/12 [==============================] - 0s 10ms/step - loss: 0.9996 - val_loss: 1.6968\n",
      "Epoch 160/10000\n",
      "12/12 [==============================] - 0s 13ms/step - loss: 0.9996 - val_loss: 1.6967\n",
      "Epoch 161/10000\n",
      "12/12 [==============================] - 0s 14ms/step - loss: 0.9996 - val_loss: 1.6969\n",
      "Epoch 162/10000\n",
      "12/12 [==============================] - 0s 11ms/step - loss: 0.9996 - val_loss: 1.6968\n",
      "Epoch 163/10000\n",
      "12/12 [==============================] - 0s 11ms/step - loss: 0.9996 - val_loss: 1.6968\n",
      "Epoch 164/10000\n",
      "12/12 [==============================] - 0s 9ms/step - loss: 0.9995 - val_loss: 1.6966\n",
      "Epoch 165/10000\n",
      "12/12 [==============================] - 0s 11ms/step - loss: 0.9995 - val_loss: 1.6966\n",
      "Epoch 166/10000\n",
      "12/12 [==============================] - 0s 10ms/step - loss: 0.9995 - val_loss: 1.6964\n",
      "Epoch 167/10000\n",
      "12/12 [==============================] - 0s 12ms/step - loss: 0.9995 - val_loss: 1.6963\n",
      "Epoch 168/10000\n",
      "12/12 [==============================] - 0s 10ms/step - loss: 0.9995 - val_loss: 1.6961\n",
      "Epoch 169/10000\n",
      "12/12 [==============================] - 0s 12ms/step - loss: 0.9994 - val_loss: 1.6960\n",
      "Epoch 170/10000\n",
      "12/12 [==============================] - 0s 12ms/step - loss: 0.9994 - val_loss: 1.6964\n",
      "Epoch 171/10000\n",
      "12/12 [==============================] - 0s 10ms/step - loss: 0.9994 - val_loss: 1.6962\n",
      "Epoch 172/10000\n",
      "12/12 [==============================] - 0s 10ms/step - loss: 0.9994 - val_loss: 1.6960\n",
      "Epoch 173/10000\n",
      "12/12 [==============================] - 0s 10ms/step - loss: 0.9993 - val_loss: 1.6959\n",
      "Epoch 174/10000\n",
      "12/12 [==============================] - 0s 11ms/step - loss: 0.9993 - val_loss: 1.6959\n",
      "Epoch 175/10000\n",
      "12/12 [==============================] - 0s 12ms/step - loss: 0.9993 - val_loss: 1.6957\n",
      "Epoch 176/10000\n",
      "12/12 [==============================] - 0s 11ms/step - loss: 0.9993 - val_loss: 1.6957\n",
      "Epoch 177/10000\n",
      "12/12 [==============================] - 0s 10ms/step - loss: 0.9993 - val_loss: 1.6957\n",
      "Epoch 178/10000\n",
      "12/12 [==============================] - 0s 10ms/step - loss: 0.9992 - val_loss: 1.6957\n",
      "Epoch 179/10000\n",
      "12/12 [==============================] - 0s 11ms/step - loss: 0.9992 - val_loss: 1.6959\n",
      "Epoch 180/10000\n",
      "12/12 [==============================] - 0s 10ms/step - loss: 0.9992 - val_loss: 1.6960\n",
      "Epoch 181/10000\n",
      "12/12 [==============================] - 0s 12ms/step - loss: 0.9992 - val_loss: 1.6958\n",
      "Epoch 182/10000\n",
      "12/12 [==============================] - 0s 10ms/step - loss: 0.9992 - val_loss: 1.6960\n",
      "Epoch 183/10000\n",
      "12/12 [==============================] - 0s 9ms/step - loss: 0.9991 - val_loss: 1.6961\n",
      "Epoch 184/10000\n",
      "12/12 [==============================] - 0s 12ms/step - loss: 0.9991 - val_loss: 1.6961\n",
      "Epoch 185/10000\n",
      "12/12 [==============================] - 0s 10ms/step - loss: 0.9991 - val_loss: 1.6961\n",
      "Epoch 186/10000\n",
      "12/12 [==============================] - 0s 10ms/step - loss: 0.9991 - val_loss: 1.6960\n",
      "Epoch 187/10000\n",
      "12/12 [==============================] - 0s 11ms/step - loss: 0.9991 - val_loss: 1.6958\n",
      "Epoch 188/10000\n",
      "12/12 [==============================] - 0s 12ms/step - loss: 0.9990 - val_loss: 1.6959\n",
      "Epoch 189/10000\n",
      "12/12 [==============================] - 0s 11ms/step - loss: 0.9990 - val_loss: 1.6961\n",
      "Epoch 190/10000\n",
      "12/12 [==============================] - 0s 12ms/step - loss: 0.9990 - val_loss: 1.6962\n",
      "Epoch 191/10000\n",
      "12/12 [==============================] - 0s 10ms/step - loss: 0.9990 - val_loss: 1.6961\n",
      "Epoch 192/10000\n",
      "12/12 [==============================] - 0s 11ms/step - loss: 0.9990 - val_loss: 1.6960\n",
      "Epoch 193/10000\n",
      "12/12 [==============================] - 0s 10ms/step - loss: 0.9990 - val_loss: 1.6961\n",
      "Epoch 194/10000\n",
      "12/12 [==============================] - 0s 12ms/step - loss: 0.9989 - val_loss: 1.6959\n",
      "Epoch 195/10000\n",
      "12/12 [==============================] - 0s 10ms/step - loss: 0.9989 - val_loss: 1.6959\n"
     ]
    },
    {
     "data": {
      "text/plain": [
       "<tensorflow.python.keras.callbacks.History at 0x19a8e69f7c8>"
      ]
     },
     "execution_count": 20,
     "metadata": {},
     "output_type": "execute_result"
    }
   ],
   "source": [
    "oPredictiveModel.fit(\n",
    "    aInputTrain, \n",
    "    aOutputTrain, \n",
    "    epochs=iEpochSize, \n",
    "    batch_size=iBatchSize, \n",
    "    verbose=1, \n",
    "    validation_data= (aInputValidation, aOutputValidation),\n",
    "    validation_batch_size= iBatchSize,\n",
    "    callbacks=[oEarlyStop]\n",
    ")"
   ]
  },
  {
   "cell_type": "markdown",
   "id": "680ac53a",
   "metadata": {},
   "source": [
    "### Save Model"
   ]
  },
  {
   "cell_type": "code",
   "execution_count": 21,
   "id": "e8f88fe1",
   "metadata": {},
   "outputs": [],
   "source": [
    "oPredictiveModel.save_weights(sModelName)"
   ]
  },
  {
   "cell_type": "code",
   "execution_count": 22,
   "id": "141bb9fc",
   "metadata": {},
   "outputs": [
    {
     "data": {
      "text/plain": [
       "<matplotlib.axes._subplots.AxesSubplot at 0x19afceb9e08>"
      ]
     },
     "execution_count": 22,
     "metadata": {},
     "output_type": "execute_result"
    },
    {
     "data": {
      "image/png": "[encoded data removed]",
      "text/plain": [
       "<Figure size 432x288 with 1 Axes>"
      ]
     },
     "metadata": {
      "needs_background": "light"
     },
     "output_type": "display_data"
    }
   ],
   "source": [
    "pd.DataFrame(oPredictiveModel.history.history).plot()"
   ]
  },
  {
   "cell_type": "markdown",
   "id": "75633cc0",
   "metadata": {},
   "source": [
    "## Test"
   ]
  },
  {
   "cell_type": "code",
   "execution_count": 23,
   "id": "4d372e80",
   "metadata": {},
   "outputs": [],
   "source": [
    "oPredictiveModel.load_weights(sModelName)\n",
    "\n",
    "aPrediction = oPredictiveModel.predict(aInputTest)\n",
    "aPrediction = aPrediction.reshape((-1, iForwardTimeWindow * iNrOutputFeatures))\n",
    "dfPrediction = pd.DataFrame(aPrediction, index = ixTest, columns = ixOutputColums)\n",
    "\n",
    "aActual = aOutputTest.reshape((-1, iForwardTimeWindow * iNrOutputFeatures))\n",
    "dfActual =  pd.DataFrame(aActual, index = ixTest, columns = ixOutputColums)\n",
    "\n",
    "for sOutputFeature in aOutputFeatures:\n",
    "    sScalerFilePath = os.path.join(sModelName , \"__scalers__\")\n",
    "    sScalerFilePath = os.path.join(sScalerFilePath , sColumn + \".sav\")\n",
    "    oScaler = pickle.load(open(sScalerFilePath, 'rb'))\n",
    "    \n",
    "    tplMaskFeature = (slice(None), slice(sOutputFeature))\n",
    "    \n",
    "    dfPrediction.loc[:,tplMaskFeature] = oScaler.inverse_transform(dfPrediction.loc[:, tplMaskFeature])\n",
    "    dfActual.loc[:, tplMaskFeature] =  oScaler.inverse_transform(dfActual.loc[:, tplMaskFeature])"
   ]
  },
  {
   "cell_type": "markdown",
   "id": "c8cf6922",
   "metadata": {},
   "source": [
    "# RESULTS"
   ]
  },
  {
   "cell_type": "code",
   "execution_count": 24,
   "id": "99cf53a7",
   "metadata": {},
   "outputs": [],
   "source": [
    "iComparisionTimeStep = 0\n",
    "iFrom = 110 * iForwardTimeWindow\n",
    "iTo = iFrom + iForwardTimeWindow"
   ]
  },
  {
   "cell_type": "code",
   "execution_count": 25,
   "id": "5f8f2409",
   "metadata": {
    "scrolled": true
   },
   "outputs": [
    {
     "name": "stdout",
     "output_type": "stream",
     "text": [
      "Metrics for regression:\n",
      "      mean absolute error:                0.023\n",
      "       mean squared error:                0.001\n",
      "                max error:                0.242\n",
      "                 r2 score:                0.000\n"
     ]
    }
   ],
   "source": [
    "y_pred = dfPrediction.iloc[:, iComparisionTimeStep]\n",
    "y_true = dfActual.iloc[:, iComparisionTimeStep]\n",
    "aMetrics = [\n",
    "        ('mean absolute error', mean_absolute_error(y_true, y_pred)),\n",
    "        ('mean squared error', mean_squared_error(y_true, y_pred)),\n",
    "        ('max error', max_error(y_true, y_pred)),\n",
    "        ('r2 score', r2_score(y_true, y_pred))\n",
    "    ]\n",
    "\n",
    "print('Metrics for regression:')\n",
    "for metric_name, metric_value in aMetrics:\n",
    "    print(f'{metric_name:>25s}: {metric_value: >20.3f}')"
   ]
  },
  {
   "cell_type": "code",
   "execution_count": 26,
   "id": "245d4b4b",
   "metadata": {},
   "outputs": [
    {
     "data": {
      "text/plain": [
       "<matplotlib.axes._subplots.AxesSubplot at 0x19afd59b048>"
      ]
     },
     "execution_count": 26,
     "metadata": {},
     "output_type": "execute_result"
    },
    {
     "data": {
      "image/png": "[encoded data removed]",
      "text/plain": [
       "<Figure size 432x288 with 1 Axes>"
      ]
     },
     "metadata": {
      "needs_background": "light"
     },
     "output_type": "display_data"
    }
   ],
   "source": [
    "dfTestComparision = pd.DataFrame(dfPrediction.iloc[:,iComparisionTimeStep])\n",
    "dfTestComparision = dfTestComparision.join(dfActual.iloc[:,iComparisionTimeStep], how = \"inner\", lsuffix=\"prediction\")\n",
    "dfTestComparision.columns = [\"Prediction\", \"Actual\"]\n",
    "\n",
    "sns.scatterplot(data = dfTestComparision, x = \"Actual\", y =\"Prediction\")"
   ]
  },
  {
   "cell_type": "code",
   "execution_count": 29,
   "id": "f2db4bfc",
   "metadata": {},
   "outputs": [
    {
     "name": "stdout",
     "output_type": "stream",
     "text": [
      "-0.09345795909074317\n"
     ]
    },
    {
     "data": {
      "text/plain": [
       "<matplotlib.axes._subplots.AxesSubplot at 0x19a957dd2c8>"
      ]
     },
     "execution_count": 29,
     "metadata": {},
     "output_type": "execute_result"
    },
    {
     "data": {
      "image/png": "[encoded data removed]",
      "text/plain": [
       "<Figure size 432x288 with 1 Axes>"
      ]
     },
     "metadata": {
      "needs_background": "light"
     },
     "output_type": "display_data"
    }
   ],
   "source": [
    "dfStepComparision = dfActual.iloc[iFrom:iTo].loc[:, (slice(None), slice(sOutputFeature))].loc[:, 0]\n",
    "dfStepComparision.columns = [\"actual\"]\n",
    "\n",
    "dfStepComparision[\"prediction\"] = dfPrediction.iloc[iFrom].loc[:, aOutputFeatures].values\n",
    "\n",
    "print(r2_score(dfStepComparision[\"actual\"], dfStepComparision[\"prediction\"]))\n",
    "sns.lineplot(data = dfStepComparision)"
   ]
  },
  {
   "cell_type": "markdown",
   "id": "75ca3ab0",
   "metadata": {},
   "source": [
    "# REFERENCES"
   ]
  },
  {
   "cell_type": "markdown",
   "id": "49501761",
   "metadata": {},
   "source": [
    "https://www.tensorflow.org/guide/keras/train_and_evaluate#passing_data_to_multi-input_multi-output_models\n",
    "\n",
    "https://www.tensorflow.org/guide/keras/writing_a_training_loop_from_scratch/\n",
    "\n",
    "https://www.tensorflow.org/guide/keras/customizing_what_happens_in_fit/\n",
    "\n",
    "https://towardsdatascience.com/customize-loss-function-to-make-lstm-model-more-applicable-in-stock-price-prediction-b1c50e50b16c\n",
    "\n",
    "https://keras.io/getting_started/faq/\n",
    "\n",
    "https://machinelearningmastery.com/how-to-develop-lstm-models-for-multi-step-time-series-forecasting-of-household-power-consumption/\n",
    "\n",
    "https://www.tensorflow.org/tutorials/structured_data/time_series\n",
    "\n",
    "https://towardsdatascience.com/encoder-decoder-model-for-multistep-time-series-forecasting-using-pytorch-5d54c6af6e60\n",
    "\n",
    "https://levelup.gitconnected.com/building-seq2seq-lstm-with-luong-attention-in-keras-for-time-series-forecasting-1ee00958decb"
   ]
  }
 ],
 "metadata": {
  "kernelspec": {
   "display_name": "Python 3",
   "language": "python",
   "name": "python3"
  },
  "language_info": {
   "codemirror_mode": {
    "name": "ipython",
    "version": 3
   },
   "file_extension": ".py",
   "mimetype": "text/x-python",
   "name": "python",
   "nbconvert_exporter": "python",
   "pygments_lexer": "ipython3",
   "version": "3.7.10"
  },
  "varInspector": {
   "cols": {
    "lenName": 16,
    "lenType": 16,
    "lenVar": 40
   },
   "kernels_config": {
    "python": {
     "delete_cmd_postfix": "",
     "delete_cmd_prefix": "del ",
     "library": "var_list.py",
     "varRefreshCmd": "print(var_dic_list())"
    },
    "r": {
     "delete_cmd_postfix": ") ",
     "delete_cmd_prefix": "rm(",
     "library": "var_list.r",
     "varRefreshCmd": "cat(var_dic_list()) "
    }
   },
   "types_to_exclude": [
    "module",
    "function",
    "builtin_function_or_method",
    "instance",
    "_Feature"
   ],
   "window_display": false
  }
 },
 "nbformat": 4,
 "nbformat_minor": 5
}
