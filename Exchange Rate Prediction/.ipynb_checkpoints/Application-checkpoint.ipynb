{
 "cells": [
  {
   "cell_type": "code",
   "execution_count": 27,
   "id": "0611acbc",
   "metadata": {},
   "outputs": [],
   "source": [
    "import pandas as pd\n",
    "\n",
    "import numpy as np\n",
    "\n",
    "import itertools\n",
    "\n",
    "from datetime import datetime\n",
    "\n",
    "import time\n",
    "\n",
    "import pytz\n",
    "import sys\n",
    "import pickle\n",
    "\n",
    "from sklearn.preprocessing import StandardScaler\n",
    "from sklearn.model_selection import train_test_split\n",
    "from sklearn.metrics import mean_absolute_error, mean_squared_error, max_error, r2_score\n",
    "\n",
    "import seaborn as sns\n",
    "\n",
    "import MetaTrader5 as mt5\n",
    "\n",
    "import os\n",
    "os.environ['TF_CPP_MIN_LOG_LEVEL'] = '2' \n",
    "\n",
    "import tensorflow as tf\n",
    "from tensorflow import keras\n",
    "from tensorflow.keras import Sequential\n",
    "from tensorflow.keras.layers import Dense\n",
    "from tensorflow.keras.layers import LSTM\n",
    "from tensorflow.keras.layers import Reshape\n",
    "from tensorflow.keras.layers import RepeatVector\n",
    "from tensorflow.keras.callbacks import EarlyStopping"
   ]
  },
  {
   "cell_type": "markdown",
   "id": "8d915683",
   "metadata": {},
   "source": [
    "# LOAD DATA"
   ]
  },
  {
   "cell_type": "code",
   "execution_count": 2,
   "id": "a44508f4",
   "metadata": {
    "code_folding": []
   },
   "outputs": [],
   "source": [
    "sSymbol = \"NAT.GAS\"\n",
    "gc_o_TIME_ZONE = pytz.timezone(\"Etc/UTC\")\n",
    "gc_dt_FROM = datetime(2021, 10, 1, tzinfo=gc_o_TIME_ZONE)\n",
    "gc_dt_TO = datetime(2021, 11, 1, tzinfo=gc_o_TIME_ZONE)"
   ]
  },
  {
   "cell_type": "code",
   "execution_count": 3,
   "id": "7bd3b945",
   "metadata": {},
   "outputs": [],
   "source": [
    "aDatesToFetch = list(pd.date_range(start=gc_dt_FROM, end=gc_dt_TO)) #created since MT5 library fails due to time out.\n",
    "aDatesSampled = aDatesToFetch[::200]\n",
    "aDatesSampled.append(aDatesToFetch[-1])\n",
    "aDatesSampled = list(set(aDatesSampled))\n",
    "aDatesSampled.sort()\n",
    "\n",
    "dfOhlc = pd.DataFrame()\n",
    "for i in range(0, len(aDatesSampled) - 1):\n",
    "    dtFrom = aDatesSampled[i]\n",
    "    dtTo = aDatesSampled[i+1]\n",
    "\n",
    "    if not mt5.initialize():\n",
    "        print(\"initialize() failed, error code =\", mt5.last_error())\n",
    "        sys.exit()\n",
    "\n",
    "    aSymbolInfo = mt5.symbol_info(sSymbol)\n",
    "    if not aSymbolInfo:\n",
    "        print(\"symbol_info() failed, error code =\", mt5.last_error())\n",
    "        sys.exit()\n",
    "\n",
    "    dfOhlcSample = mt5.copy_rates_range(\n",
    "        sSymbol,\n",
    "        mt5.TIMEFRAME_M1,\n",
    "        dtFrom, \n",
    "        dtTo\n",
    "    )\n",
    "    \n",
    "    if len(dfOhlcSample) == 0:\n",
    "        print(\"copy_rates_range() failed, error code =\", mt5.last_error())\n",
    "        sys.exit()\n",
    "\n",
    "    mt5.shutdown()\n",
    "\n",
    "    dfOhlcSample = pd.DataFrame(dfOhlcSample)\n",
    "\n",
    "    dfOhlcSample['timestamp'] = pd.to_datetime(dfOhlcSample['time'], unit= \"s\")\n",
    "    dfOhlcSample.set_index('timestamp', inplace=True)\n",
    "    \n",
    "    dfOhlc = dfOhlc.append(dfOhlcSample)"
   ]
  },
  {
   "cell_type": "code",
   "execution_count": 4,
   "id": "66398f37",
   "metadata": {},
   "outputs": [],
   "source": [
    "dfOhlc[\"weekday\"] = dfOhlc.index.weekday\n",
    "dfOhlc[\"hour\"] = dfOhlc.index.hour\n",
    "dfOhlc[\"minute\"] = dfOhlc.index.minute"
   ]
  },
  {
   "cell_type": "code",
   "execution_count": 5,
   "id": "93639e4e",
   "metadata": {},
   "outputs": [],
   "source": [
    "dfOhlc.drop([\"time\"], axis = 1 , inplace = True)"
   ]
  },
  {
   "cell_type": "markdown",
   "id": "3c7bca11",
   "metadata": {},
   "source": [
    "# DESCRIBE DATA"
   ]
  },
  {
   "cell_type": "code",
   "execution_count": 6,
   "id": "171c9aac",
   "metadata": {},
   "outputs": [
    {
     "data": {
      "text/html": [
       "<div>\n",
       "<style scoped>\n",
       "    .dataframe tbody tr th:only-of-type {\n",
       "        vertical-align: middle;\n",
       "    }\n",
       "\n",
       "    .dataframe tbody tr th {\n",
       "        vertical-align: top;\n",
       "    }\n",
       "\n",
       "    .dataframe thead th {\n",
       "        text-align: right;\n",
       "    }\n",
       "</style>\n",
       "<table border=\"1\" class=\"dataframe\">\n",
       "  <thead>\n",
       "    <tr style=\"text-align: right;\">\n",
       "      <th></th>\n",
       "      <th>open</th>\n",
       "      <th>high</th>\n",
       "      <th>low</th>\n",
       "      <th>close</th>\n",
       "      <th>tick_volume</th>\n",
       "      <th>spread</th>\n",
       "      <th>real_volume</th>\n",
       "      <th>weekday</th>\n",
       "      <th>hour</th>\n",
       "      <th>minute</th>\n",
       "    </tr>\n",
       "    <tr>\n",
       "      <th>timestamp</th>\n",
       "      <th></th>\n",
       "      <th></th>\n",
       "      <th></th>\n",
       "      <th></th>\n",
       "      <th></th>\n",
       "      <th></th>\n",
       "      <th></th>\n",
       "      <th></th>\n",
       "      <th></th>\n",
       "      <th></th>\n",
       "    </tr>\n",
       "  </thead>\n",
       "  <tbody>\n",
       "    <tr>\n",
       "      <th>2021-10-01 01:00:00</th>\n",
       "      <td>6.004</td>\n",
       "      <td>6.009</td>\n",
       "      <td>5.998</td>\n",
       "      <td>6.009</td>\n",
       "      <td>43</td>\n",
       "      <td>10</td>\n",
       "      <td>1290000</td>\n",
       "      <td>4</td>\n",
       "      <td>1</td>\n",
       "      <td>0</td>\n",
       "    </tr>\n",
       "    <tr>\n",
       "      <th>2021-10-01 01:01:00</th>\n",
       "      <td>6.009</td>\n",
       "      <td>6.047</td>\n",
       "      <td>6.008</td>\n",
       "      <td>6.045</td>\n",
       "      <td>73</td>\n",
       "      <td>10</td>\n",
       "      <td>2190000</td>\n",
       "      <td>4</td>\n",
       "      <td>1</td>\n",
       "      <td>1</td>\n",
       "    </tr>\n",
       "    <tr>\n",
       "      <th>2021-10-01 01:02:00</th>\n",
       "      <td>6.044</td>\n",
       "      <td>6.051</td>\n",
       "      <td>6.042</td>\n",
       "      <td>6.049</td>\n",
       "      <td>25</td>\n",
       "      <td>10</td>\n",
       "      <td>750000</td>\n",
       "      <td>4</td>\n",
       "      <td>1</td>\n",
       "      <td>2</td>\n",
       "    </tr>\n",
       "    <tr>\n",
       "      <th>2021-10-01 01:03:00</th>\n",
       "      <td>6.050</td>\n",
       "      <td>6.053</td>\n",
       "      <td>6.048</td>\n",
       "      <td>6.049</td>\n",
       "      <td>28</td>\n",
       "      <td>10</td>\n",
       "      <td>840000</td>\n",
       "      <td>4</td>\n",
       "      <td>1</td>\n",
       "      <td>3</td>\n",
       "    </tr>\n",
       "    <tr>\n",
       "      <th>2021-10-01 01:04:00</th>\n",
       "      <td>6.048</td>\n",
       "      <td>6.052</td>\n",
       "      <td>6.034</td>\n",
       "      <td>6.036</td>\n",
       "      <td>28</td>\n",
       "      <td>10</td>\n",
       "      <td>840000</td>\n",
       "      <td>4</td>\n",
       "      <td>1</td>\n",
       "      <td>4</td>\n",
       "    </tr>\n",
       "    <tr>\n",
       "      <th>...</th>\n",
       "      <td>...</td>\n",
       "      <td>...</td>\n",
       "      <td>...</td>\n",
       "      <td>...</td>\n",
       "      <td>...</td>\n",
       "      <td>...</td>\n",
       "      <td>...</td>\n",
       "      <td>...</td>\n",
       "      <td>...</td>\n",
       "      <td>...</td>\n",
       "    </tr>\n",
       "    <tr>\n",
       "      <th>2021-10-29 23:56:00</th>\n",
       "      <td>5.568</td>\n",
       "      <td>5.582</td>\n",
       "      <td>5.568</td>\n",
       "      <td>5.578</td>\n",
       "      <td>36</td>\n",
       "      <td>10</td>\n",
       "      <td>360000</td>\n",
       "      <td>4</td>\n",
       "      <td>23</td>\n",
       "      <td>56</td>\n",
       "    </tr>\n",
       "    <tr>\n",
       "      <th>2021-10-29 23:57:00</th>\n",
       "      <td>5.577</td>\n",
       "      <td>5.577</td>\n",
       "      <td>5.573</td>\n",
       "      <td>5.574</td>\n",
       "      <td>22</td>\n",
       "      <td>10</td>\n",
       "      <td>220000</td>\n",
       "      <td>4</td>\n",
       "      <td>23</td>\n",
       "      <td>57</td>\n",
       "    </tr>\n",
       "    <tr>\n",
       "      <th>2021-10-29 23:58:00</th>\n",
       "      <td>5.574</td>\n",
       "      <td>5.574</td>\n",
       "      <td>5.564</td>\n",
       "      <td>5.567</td>\n",
       "      <td>17</td>\n",
       "      <td>10</td>\n",
       "      <td>170000</td>\n",
       "      <td>4</td>\n",
       "      <td>23</td>\n",
       "      <td>58</td>\n",
       "    </tr>\n",
       "    <tr>\n",
       "      <th>2021-10-29 23:59:00</th>\n",
       "      <td>5.566</td>\n",
       "      <td>5.578</td>\n",
       "      <td>5.566</td>\n",
       "      <td>5.576</td>\n",
       "      <td>22</td>\n",
       "      <td>15</td>\n",
       "      <td>220000</td>\n",
       "      <td>4</td>\n",
       "      <td>23</td>\n",
       "      <td>59</td>\n",
       "    </tr>\n",
       "    <tr>\n",
       "      <th>2021-11-01 00:00:00</th>\n",
       "      <td>5.341</td>\n",
       "      <td>5.366</td>\n",
       "      <td>5.335</td>\n",
       "      <td>5.338</td>\n",
       "      <td>160</td>\n",
       "      <td>4</td>\n",
       "      <td>1597000</td>\n",
       "      <td>0</td>\n",
       "      <td>0</td>\n",
       "      <td>0</td>\n",
       "    </tr>\n",
       "  </tbody>\n",
       "</table>\n",
       "<p>28882 rows × 10 columns</p>\n",
       "</div>"
      ],
      "text/plain": [
       "                      open   high    low  close  tick_volume  spread  \\\n",
       "timestamp                                                              \n",
       "2021-10-01 01:00:00  6.004  6.009  5.998  6.009           43      10   \n",
       "2021-10-01 01:01:00  6.009  6.047  6.008  6.045           73      10   \n",
       "2021-10-01 01:02:00  6.044  6.051  6.042  6.049           25      10   \n",
       "2021-10-01 01:03:00  6.050  6.053  6.048  6.049           28      10   \n",
       "2021-10-01 01:04:00  6.048  6.052  6.034  6.036           28      10   \n",
       "...                    ...    ...    ...    ...          ...     ...   \n",
       "2021-10-29 23:56:00  5.568  5.582  5.568  5.578           36      10   \n",
       "2021-10-29 23:57:00  5.577  5.577  5.573  5.574           22      10   \n",
       "2021-10-29 23:58:00  5.574  5.574  5.564  5.567           17      10   \n",
       "2021-10-29 23:59:00  5.566  5.578  5.566  5.576           22      15   \n",
       "2021-11-01 00:00:00  5.341  5.366  5.335  5.338          160       4   \n",
       "\n",
       "                     real_volume  weekday  hour  minute  \n",
       "timestamp                                                \n",
       "2021-10-01 01:00:00      1290000        4     1       0  \n",
       "2021-10-01 01:01:00      2190000        4     1       1  \n",
       "2021-10-01 01:02:00       750000        4     1       2  \n",
       "2021-10-01 01:03:00       840000        4     1       3  \n",
       "2021-10-01 01:04:00       840000        4     1       4  \n",
       "...                          ...      ...   ...     ...  \n",
       "2021-10-29 23:56:00       360000        4    23      56  \n",
       "2021-10-29 23:57:00       220000        4    23      57  \n",
       "2021-10-29 23:58:00       170000        4    23      58  \n",
       "2021-10-29 23:59:00       220000        4    23      59  \n",
       "2021-11-01 00:00:00      1597000        0     0       0  \n",
       "\n",
       "[28882 rows x 10 columns]"
      ]
     },
     "execution_count": 6,
     "metadata": {},
     "output_type": "execute_result"
    }
   ],
   "source": [
    "dfOhlc"
   ]
  },
  {
   "cell_type": "markdown",
   "id": "34801cd6",
   "metadata": {},
   "source": [
    "# PREPROCESSING"
   ]
  },
  {
   "cell_type": "code",
   "execution_count": 7,
   "id": "137167f1",
   "metadata": {},
   "outputs": [],
   "source": [
    "sModelName = os.path.join(sSymbol , \"__deep learning model__\")"
   ]
  },
  {
   "cell_type": "markdown",
   "id": "fa542c9e",
   "metadata": {},
   "source": [
    "## Split Data"
   ]
  },
  {
   "cell_type": "code",
   "execution_count": 8,
   "id": "70088c21",
   "metadata": {
    "code_folding": []
   },
   "outputs": [],
   "source": [
    "fTrainingRatio = 0.6\n",
    "fValidationRatio = 0.2\n",
    "fTestRatio = 0.2\n",
    "\n",
    "ixTrain, ixTest = train_test_split(\n",
    "    dfOhlc.index,\n",
    "    test_size=1-fTrainingRatio,\n",
    "    shuffle=False)\n",
    "\n",
    "ixValidation, ixTest= train_test_split(\n",
    "    ixTest,\n",
    "    test_size=fTestRatio/(fTestRatio + fValidationRatio),\n",
    "    shuffle=False)"
   ]
  },
  {
   "cell_type": "markdown",
   "id": "a48e73e3",
   "metadata": {},
   "source": [
    "## Scale Data"
   ]
  },
  {
   "cell_type": "code",
   "execution_count": 9,
   "id": "32c7b72c",
   "metadata": {},
   "outputs": [],
   "source": [
    "dfScaledOhlc = pd.DataFrame(index = dfOhlc.index, columns  = dfOhlc.columns)\n",
    "\n",
    "\n",
    "for sColumn in dfOhlc.columns:\n",
    "    oScaler = StandardScaler()\n",
    "    \n",
    "    dfTrain = pd.DataFrame(dfOhlc.loc[ixTrain, sColumn])\n",
    "    dfValidation = pd.DataFrame(dfOhlc.loc[ixValidation, sColumn])\n",
    "    dfTest = pd.DataFrame(dfOhlc.loc[ixTest, sColumn])\n",
    "    \n",
    "    oScaler.fit(dfTrain)\n",
    "    \n",
    "    dfScaledOhlc.loc[ixTrain, sColumn] = np.reshape(oScaler.transform(dfTrain), (-1))\n",
    "    dfScaledOhlc.loc[ixValidation, sColumn] = np.reshape(oScaler.transform(dfValidation), (-1))\n",
    "    dfScaledOhlc.loc[ixTest, sColumn] = np.reshape(oScaler.transform(dfTest), (-1))\n",
    "\n",
    "    sScalerFilePath = os.path.join(sModelName , \"__scalers__\")\n",
    "    sScalerFilePath = os.path.join(sScalerFilePath , sColumn + \".sav\")\n",
    "    os.makedirs(os.path.dirname(sScalerFilePath), exist_ok=True)\n",
    "    pickle.dump(oScaler, open(sScalerFilePath, 'wb'))"
   ]
  },
  {
   "cell_type": "markdown",
   "id": "e4f452e4",
   "metadata": {},
   "source": [
    "## Feature Engineering"
   ]
  },
  {
   "cell_type": "code",
   "execution_count": 10,
   "id": "1449fbb7",
   "metadata": {},
   "outputs": [],
   "source": [
    "aInputFeatures = ['open', 'high', 'low', 'close', 'tick_volume', 'spread', 'real_volume','weekday', 'hour', 'minute']\n",
    "iBackwardTimeWindow = 60\n",
    "iNrInputFeatures = len(aInputFeatures)\n",
    "aBackwardTimeSteps = range(-iBackwardTimeWindow, 0)\n",
    "\n",
    "tplInputColumns = list(itertools.product(aBackwardTimeSteps, aInputFeatures))\n",
    "miInputColums = pd.MultiIndex.from_tuples(tplInputColumns, names= [\"time_step\", \"feature\"])\n",
    "\n",
    "dfInput = pd.DataFrame( columns = miInputColums)\n",
    "\n",
    "for i in aBackwardTimeSteps:\n",
    "    for sInputFeature in aInputFeatures:\n",
    "        dfInput.loc[:, (i, sInputFeature)] = dfScaledOhlc[sInputFeature].shift(-i)"
   ]
  },
  {
   "cell_type": "code",
   "execution_count": 11,
   "id": "ce152a53",
   "metadata": {},
   "outputs": [],
   "source": [
    "aOutputFeatures = ['close']\n",
    "iForwardTimeWindow  =  60\n",
    "iNrOutputFeatures = len(aOutputFeatures)\n",
    "aForwardTimeSteps = range(0, iForwardTimeWindow)\n",
    "\n",
    "tplOutputColumns = list(itertools.product(aForwardTimeSteps, aOutputFeatures))\n",
    "ixOutputColums = pd.MultiIndex.from_tuples(tplOutputColumns, names= [\"time_step\", \"feature\"])\n",
    "\n",
    "dfOutput = pd.DataFrame(columns = ixOutputColums)\n",
    "\n",
    "for i in aForwardTimeSteps:\n",
    "    for sOutputFeature in aOutputFeatures:\n",
    "        dfOutput.loc[:, (i, sOutputFeature)] = dfScaledOhlc[sOutputFeature].shift(-i)"
   ]
  },
  {
   "cell_type": "code",
   "execution_count": 12,
   "id": "296eec07",
   "metadata": {},
   "outputs": [],
   "source": [
    "dfMerged = dfInput.join(dfOutput, how= \"inner\")\n",
    "dfMerged.dropna(inplace=True)\n",
    "dfInput = dfMerged[dfInput.columns]\n",
    "dfOutput = dfMerged[dfOutput.columns]\n",
    "ixTrain = ixTrain.join(dfMerged.index, how = \"inner\")\n",
    "ixValidation = ixValidation.join(dfMerged.index, how = \"inner\")\n",
    "ixTest = ixTest.join(dfMerged.index, how = \"inner\")"
   ]
  },
  {
   "cell_type": "code",
   "execution_count": 13,
   "id": "96e399d4",
   "metadata": {},
   "outputs": [],
   "source": [
    "dfInputTrain = dfInput.loc[ixTrain]\n",
    "aInputTrain = np.reshape(dfInputTrain.values, (dfInputTrain.shape[0], iBackwardTimeWindow, iNrInputFeatures))\n",
    "\n",
    "dfInputValidation = dfInput.loc[ixValidation]\n",
    "aInputValidation = np.reshape(dfInputValidation.values, (dfInputValidation.shape[0], iBackwardTimeWindow, iNrInputFeatures))\n",
    "\n",
    "dfInputTest = dfInput.loc[ixTest]\n",
    "aInputTest = np.reshape(dfInputTest.values, (dfInputTest.shape[0], iBackwardTimeWindow, iNrInputFeatures))\n",
    "\n",
    "dfOutputTrain = dfOutput.loc[ixTrain]\n",
    "aOutputTrain = np.reshape(dfOutputTrain.values, (dfOutputTrain.shape[0], iForwardTimeWindow, iNrOutputFeatures))\n",
    "\n",
    "dfOutputValidation = dfOutput.loc[ixValidation]\n",
    "aOutputValidation = np.reshape(dfOutputValidation.values, (dfOutputValidation.shape[0], iForwardTimeWindow, iNrOutputFeatures))\n",
    "\n",
    "dfOutputTest = dfOutput.loc[ixTest]\n",
    "aOutputTest = np.reshape(dfOutputTest.values, (dfOutputTest.shape[0], iForwardTimeWindow, iNrOutputFeatures))"
   ]
  },
  {
   "cell_type": "code",
   "execution_count": 14,
   "id": "76ce37ad",
   "metadata": {},
   "outputs": [],
   "source": [
    "aInputTrain = np.asarray(aInputTrain, np.float32)\n",
    "aInputValidation = np.asarray(aInputValidation, np.float32)\n",
    "aInputTest = np.asarray(aInputTest, np.float32)\n",
    "aOutputTrain = np.asarray(aOutputTrain, np.float32)\n",
    "aOutputValidation = np.asarray(aOutputValidation, np.float32)\n",
    "aOutputTest = np.asarray(aOutputTest, np.float32)"
   ]
  },
  {
   "cell_type": "markdown",
   "id": "52944fb0",
   "metadata": {},
   "source": [
    "## Train"
   ]
  },
  {
   "cell_type": "markdown",
   "id": "e253bd8c",
   "metadata": {},
   "source": [
    "### Set Hyperparameters"
   ]
  },
  {
   "cell_type": "code",
   "execution_count": 15,
   "id": "a484f077",
   "metadata": {},
   "outputs": [],
   "source": [
    "iBatchSize = 512\n",
    "iEpochSize = 10000\n",
    "\n",
    "oOptimizer = tf.keras.optimizers.Adam(learning_rate=1e-05)\n",
    "\n",
    "oEarlyStop = EarlyStopping(\n",
    "    monitor = 'val_loss', \n",
    "    mode = 'min', \n",
    "    verbose = 0 , \n",
    "    patience = 20, \n",
    "    restore_best_weights = True)"
   ]
  },
  {
   "cell_type": "markdown",
   "id": "a75b209e",
   "metadata": {},
   "source": [
    "### Build Model"
   ]
  },
  {
   "cell_type": "code",
   "execution_count": 16,
   "id": "9b360a41",
   "metadata": {},
   "outputs": [],
   "source": [
    "aEncoderInputs = keras.Input(\n",
    "    shape=(iBackwardTimeWindow, iNrInputFeatures), \n",
    "    name=\"aEncoderInputs\")\n",
    "\n",
    "aW1 = LSTM(200)(aEncoderInputs)\n",
    "aW2 = Dense(iForwardTimeWindow * iNrOutputFeatures, \n",
    "                          kernel_initializer=tf.initializers.zeros(), \n",
    "                          name = \"aOutputs\")(aW1)\n",
    "aOutputs = Reshape([iForwardTimeWindow, iNrOutputFeatures])(aW2)\n",
    "\n",
    "oPredictiveModel = keras.Model(\n",
    "    inputs=aEncoderInputs,\n",
    "    outputs=aOutputs\n",
    ")"
   ]
  },
  {
   "cell_type": "markdown",
   "id": "ac55b3b7",
   "metadata": {},
   "source": [
    "### Compile Model"
   ]
  },
  {
   "cell_type": "code",
   "execution_count": 17,
   "id": "a43debeb",
   "metadata": {},
   "outputs": [],
   "source": [
    "oFnLoss =  tf.keras.losses.MeanSquaredError()\n",
    "oPredictiveModel.compile(optimizer=oOptimizer,\n",
    "                         loss = oFnLoss\n",
    "                        )"
   ]
  },
  {
   "cell_type": "markdown",
   "id": "dedaa4fc",
   "metadata": {},
   "source": [
    "### Fit Model"
   ]
  },
  {
   "cell_type": "code",
   "execution_count": 18,
   "id": "bd2970a7",
   "metadata": {},
   "outputs": [
    {
     "name": "stdout",
     "output_type": "stream",
     "text": [
      "Epoch 1/10000\n",
      "34/34 [==============================] - 6s 72ms/step - loss: 1.0008 - val_loss: 1.6492\n",
      "Epoch 2/10000\n",
      "34/34 [==============================] - 2s 55ms/step - loss: 0.9890 - val_loss: 1.6262\n",
      "Epoch 3/10000\n",
      "34/34 [==============================] - 2s 55ms/step - loss: 0.9731 - val_loss: 1.5940\n",
      "Epoch 4/10000\n",
      "34/34 [==============================] - 2s 59ms/step - loss: 0.9502 - val_loss: 1.5476\n",
      "Epoch 5/10000\n",
      "34/34 [==============================] - 2s 58ms/step - loss: 0.9167 - val_loss: 1.4793\n",
      "Epoch 6/10000\n",
      "34/34 [==============================] - 2s 60ms/step - loss: 0.8684 - val_loss: 1.3801\n",
      "Epoch 7/10000\n",
      "34/34 [==============================] - 2s 58ms/step - loss: 0.8031 - val_loss: 1.2536\n",
      "Epoch 8/10000\n",
      "34/34 [==============================] - 2s 58ms/step - loss: 0.7270 - val_loss: 1.1239\n",
      "Epoch 9/10000\n",
      "34/34 [==============================] - 2s 58ms/step - loss: 0.6535 - val_loss: 1.0065\n",
      "Epoch 10/10000\n",
      "34/34 [==============================] - 2s 58ms/step - loss: 0.5930 - val_loss: 0.9055\n",
      "Epoch 11/10000\n",
      "34/34 [==============================] - 2s 58ms/step - loss: 0.5454 - val_loss: 0.8171\n",
      "Epoch 12/10000\n",
      "34/34 [==============================] - 2s 60ms/step - loss: 0.5068 - val_loss: 0.7420\n",
      "Epoch 13/10000\n",
      "34/34 [==============================] - 2s 59ms/step - loss: 0.4740 - val_loss: 0.6765\n",
      "Epoch 14/10000\n",
      "34/34 [==============================] - 2s 64ms/step - loss: 0.4448 - val_loss: 0.6181\n",
      "Epoch 15/10000\n",
      "34/34 [==============================] - 2s 61ms/step - loss: 0.4179 - val_loss: 0.5662\n",
      "Epoch 16/10000\n",
      "34/34 [==============================] - 2s 61ms/step - loss: 0.3928 - val_loss: 0.5203\n",
      "Epoch 17/10000\n",
      "34/34 [==============================] - 2s 60ms/step - loss: 0.3694 - val_loss: 0.4803\n",
      "Epoch 18/10000\n",
      "34/34 [==============================] - 2s 60ms/step - loss: 0.3476 - val_loss: 0.4440\n",
      "Epoch 19/10000\n",
      "34/34 [==============================] - 2s 59ms/step - loss: 0.3273 - val_loss: 0.4120\n",
      "Epoch 20/10000\n",
      "34/34 [==============================] - 2s 59ms/step - loss: 0.3086 - val_loss: 0.3839\n",
      "Epoch 21/10000\n",
      "34/34 [==============================] - 2s 59ms/step - loss: 0.2914 - val_loss: 0.3578\n",
      "Epoch 22/10000\n",
      "34/34 [==============================] - 2s 60ms/step - loss: 0.2755 - val_loss: 0.3340\n",
      "Epoch 23/10000\n",
      "34/34 [==============================] - 2s 59ms/step - loss: 0.2609 - val_loss: 0.3131\n",
      "Epoch 24/10000\n",
      "34/34 [==============================] - 2s 59ms/step - loss: 0.2471 - val_loss: 0.2929\n",
      "Epoch 25/10000\n",
      "34/34 [==============================] - 2s 59ms/step - loss: 0.2343 - val_loss: 0.2744\n",
      "Epoch 26/10000\n",
      "34/34 [==============================] - 2s 59ms/step - loss: 0.2223 - val_loss: 0.2592\n",
      "Epoch 27/10000\n",
      "34/34 [==============================] - 2s 59ms/step - loss: 0.2108 - val_loss: 0.2457\n",
      "Epoch 28/10000\n",
      "34/34 [==============================] - 2s 60ms/step - loss: 0.2000 - val_loss: 0.2338\n",
      "Epoch 29/10000\n",
      "34/34 [==============================] - 2s 60ms/step - loss: 0.1896 - val_loss: 0.2251\n",
      "Epoch 30/10000\n",
      "34/34 [==============================] - 2s 59ms/step - loss: 0.1795 - val_loss: 0.2164\n",
      "Epoch 31/10000\n",
      "34/34 [==============================] - 2s 59ms/step - loss: 0.1698 - val_loss: 0.2061\n",
      "Epoch 32/10000\n",
      "34/34 [==============================] - 2s 59ms/step - loss: 0.1604 - val_loss: 0.1969\n",
      "Epoch 33/10000\n",
      "34/34 [==============================] - 2s 59ms/step - loss: 0.1514 - val_loss: 0.1881\n",
      "Epoch 34/10000\n",
      "34/34 [==============================] - 2s 59ms/step - loss: 0.1427 - val_loss: 0.1763\n",
      "Epoch 35/10000\n",
      "34/34 [==============================] - 2s 60ms/step - loss: 0.1344 - val_loss: 0.1674\n",
      "Epoch 36/10000\n",
      "34/34 [==============================] - 2s 59ms/step - loss: 0.1268 - val_loss: 0.1572\n",
      "Epoch 37/10000\n",
      "34/34 [==============================] - 2s 60ms/step - loss: 0.1196 - val_loss: 0.1486\n",
      "Epoch 38/10000\n",
      "34/34 [==============================] - 2s 60ms/step - loss: 0.1129 - val_loss: 0.1403\n",
      "Epoch 39/10000\n",
      "34/34 [==============================] - 2s 61ms/step - loss: 0.1067 - val_loss: 0.1336\n",
      "Epoch 40/10000\n",
      "34/34 [==============================] - 2s 61ms/step - loss: 0.1010 - val_loss: 0.1255\n",
      "Epoch 41/10000\n",
      "34/34 [==============================] - 2s 60ms/step - loss: 0.0956 - val_loss: 0.1162\n",
      "Epoch 42/10000\n",
      "34/34 [==============================] - 2s 61ms/step - loss: 0.0906 - val_loss: 0.1137\n",
      "Epoch 43/10000\n",
      "34/34 [==============================] - 2s 61ms/step - loss: 0.0860 - val_loss: 0.1071\n",
      "Epoch 44/10000\n",
      "34/34 [==============================] - 2s 61ms/step - loss: 0.0817 - val_loss: 0.1019\n",
      "Epoch 45/10000\n",
      "34/34 [==============================] - 2s 61ms/step - loss: 0.0776 - val_loss: 0.0993\n",
      "Epoch 46/10000\n",
      "34/34 [==============================] - 2s 60ms/step - loss: 0.0739 - val_loss: 0.0953\n",
      "Epoch 47/10000\n",
      "34/34 [==============================] - 2s 59ms/step - loss: 0.0703 - val_loss: 0.0899\n",
      "Epoch 48/10000\n",
      "34/34 [==============================] - 2s 59ms/step - loss: 0.0670 - val_loss: 0.0865\n",
      "Epoch 49/10000\n",
      "34/34 [==============================] - 2s 59ms/step - loss: 0.0638 - val_loss: 0.0835\n",
      "Epoch 50/10000\n",
      "34/34 [==============================] - 2s 59ms/step - loss: 0.0608 - val_loss: 0.0796\n",
      "Epoch 51/10000\n",
      "34/34 [==============================] - 2s 59ms/step - loss: 0.0581 - val_loss: 0.0798\n",
      "Epoch 52/10000\n",
      "34/34 [==============================] - 2s 61ms/step - loss: 0.0555 - val_loss: 0.0753\n",
      "Epoch 53/10000\n",
      "34/34 [==============================] - 2s 61ms/step - loss: 0.0531 - val_loss: 0.0708\n",
      "Epoch 54/10000\n",
      "34/34 [==============================] - 2s 61ms/step - loss: 0.0509 - val_loss: 0.0671\n",
      "Epoch 55/10000\n",
      "34/34 [==============================] - 2s 59ms/step - loss: 0.0488 - val_loss: 0.0650\n",
      "Epoch 56/10000\n",
      "34/34 [==============================] - 2s 60ms/step - loss: 0.0469 - val_loss: 0.0644\n",
      "Epoch 57/10000\n",
      "34/34 [==============================] - 2s 59ms/step - loss: 0.0451 - val_loss: 0.0603\n",
      "Epoch 58/10000\n",
      "34/34 [==============================] - 2s 60ms/step - loss: 0.0435 - val_loss: 0.0590\n",
      "Epoch 59/10000\n",
      "34/34 [==============================] - 2s 62ms/step - loss: 0.0420 - val_loss: 0.0580\n",
      "Epoch 60/10000\n",
      "34/34 [==============================] - 2s 60ms/step - loss: 0.0406 - val_loss: 0.0557\n",
      "Epoch 61/10000\n",
      "34/34 [==============================] - 2s 59ms/step - loss: 0.0393 - val_loss: 0.0555\n",
      "Epoch 62/10000\n",
      "34/34 [==============================] - 2s 59ms/step - loss: 0.0381 - val_loss: 0.0558\n",
      "Epoch 63/10000\n",
      "34/34 [==============================] - 2s 60ms/step - loss: 0.0370 - val_loss: 0.0544\n",
      "Epoch 64/10000\n",
      "34/34 [==============================] - 2s 60ms/step - loss: 0.0359 - val_loss: 0.0510\n",
      "Epoch 65/10000\n",
      "34/34 [==============================] - 2s 60ms/step - loss: 0.0350 - val_loss: 0.0514\n",
      "Epoch 66/10000\n",
      "34/34 [==============================] - 2s 60ms/step - loss: 0.0341 - val_loss: 0.0497\n",
      "Epoch 67/10000\n",
      "34/34 [==============================] - 2s 60ms/step - loss: 0.0333 - val_loss: 0.0522\n",
      "Epoch 68/10000\n",
      "34/34 [==============================] - 2s 59ms/step - loss: 0.0325 - val_loss: 0.0509\n",
      "Epoch 69/10000\n",
      "34/34 [==============================] - 2s 59ms/step - loss: 0.0318 - val_loss: 0.0502\n",
      "Epoch 70/10000\n",
      "34/34 [==============================] - 2s 60ms/step - loss: 0.0312 - val_loss: 0.0502\n",
      "Epoch 71/10000\n",
      "34/34 [==============================] - 2s 60ms/step - loss: 0.0306 - val_loss: 0.0485\n",
      "Epoch 72/10000\n",
      "34/34 [==============================] - 2s 60ms/step - loss: 0.0301 - val_loss: 0.0484\n",
      "Epoch 73/10000\n",
      "34/34 [==============================] - 2s 60ms/step - loss: 0.0295 - val_loss: 0.0501\n",
      "Epoch 74/10000\n",
      "34/34 [==============================] - 2s 59ms/step - loss: 0.0291 - val_loss: 0.0486\n",
      "Epoch 75/10000\n",
      "34/34 [==============================] - 2s 59ms/step - loss: 0.0286 - val_loss: 0.0474\n",
      "Epoch 76/10000\n",
      "34/34 [==============================] - 2s 59ms/step - loss: 0.0282 - val_loss: 0.0467\n",
      "Epoch 77/10000\n",
      "34/34 [==============================] - 2s 60ms/step - loss: 0.0279 - val_loss: 0.0461\n",
      "Epoch 78/10000\n",
      "34/34 [==============================] - 2s 59ms/step - loss: 0.0276 - val_loss: 0.0466\n",
      "Epoch 79/10000\n",
      "34/34 [==============================] - 2s 60ms/step - loss: 0.0273 - val_loss: 0.0469\n",
      "Epoch 80/10000\n"
     ]
    },
    {
     "name": "stdout",
     "output_type": "stream",
     "text": [
      "34/34 [==============================] - 2s 60ms/step - loss: 0.0269 - val_loss: 0.0473\n",
      "Epoch 81/10000\n",
      "34/34 [==============================] - 2s 60ms/step - loss: 0.0267 - val_loss: 0.0458\n",
      "Epoch 82/10000\n",
      "34/34 [==============================] - 2s 60ms/step - loss: 0.0264 - val_loss: 0.0468\n",
      "Epoch 83/10000\n",
      "34/34 [==============================] - 2s 59ms/step - loss: 0.0262 - val_loss: 0.0449\n",
      "Epoch 84/10000\n",
      "34/34 [==============================] - 2s 60ms/step - loss: 0.0260 - val_loss: 0.0445\n",
      "Epoch 85/10000\n",
      "34/34 [==============================] - 2s 61ms/step - loss: 0.0258 - val_loss: 0.0450\n",
      "Epoch 86/10000\n",
      "34/34 [==============================] - 2s 60ms/step - loss: 0.0256 - val_loss: 0.0438\n",
      "Epoch 87/10000\n",
      "34/34 [==============================] - 2s 59ms/step - loss: 0.0254 - val_loss: 0.0446\n",
      "Epoch 88/10000\n",
      "34/34 [==============================] - 2s 60ms/step - loss: 0.0252 - val_loss: 0.0446\n",
      "Epoch 89/10000\n",
      "34/34 [==============================] - 2s 60ms/step - loss: 0.0251 - val_loss: 0.0452\n",
      "Epoch 90/10000\n",
      "34/34 [==============================] - 2s 60ms/step - loss: 0.0249 - val_loss: 0.0449\n",
      "Epoch 91/10000\n",
      "34/34 [==============================] - 2s 60ms/step - loss: 0.0248 - val_loss: 0.0443\n",
      "Epoch 92/10000\n",
      "34/34 [==============================] - 2s 59ms/step - loss: 0.0247 - val_loss: 0.0435\n",
      "Epoch 93/10000\n",
      "34/34 [==============================] - 2s 60ms/step - loss: 0.0245 - val_loss: 0.0442\n",
      "Epoch 94/10000\n",
      "34/34 [==============================] - 2s 60ms/step - loss: 0.0244 - val_loss: 0.0438\n",
      "Epoch 95/10000\n",
      "34/34 [==============================] - 2s 60ms/step - loss: 0.0243 - val_loss: 0.0439\n",
      "Epoch 96/10000\n",
      "34/34 [==============================] - 2s 60ms/step - loss: 0.0242 - val_loss: 0.0443\n",
      "Epoch 97/10000\n",
      "34/34 [==============================] - 2s 60ms/step - loss: 0.0241 - val_loss: 0.0441\n",
      "Epoch 98/10000\n",
      "34/34 [==============================] - 2s 60ms/step - loss: 0.0240 - val_loss: 0.0442\n",
      "Epoch 99/10000\n",
      "34/34 [==============================] - 2s 62ms/step - loss: 0.0238 - val_loss: 0.0447\n",
      "Epoch 100/10000\n",
      "34/34 [==============================] - 2s 60ms/step - loss: 0.0237 - val_loss: 0.0432\n",
      "Epoch 101/10000\n",
      "34/34 [==============================] - 2s 60ms/step - loss: 0.0237 - val_loss: 0.0449\n",
      "Epoch 102/10000\n",
      "34/34 [==============================] - 2s 59ms/step - loss: 0.0235 - val_loss: 0.0443\n",
      "Epoch 103/10000\n",
      "34/34 [==============================] - 2s 59ms/step - loss: 0.0234 - val_loss: 0.0454\n",
      "Epoch 104/10000\n",
      "34/34 [==============================] - 2s 59ms/step - loss: 0.0233 - val_loss: 0.0449\n",
      "Epoch 105/10000\n",
      "34/34 [==============================] - 2s 59ms/step - loss: 0.0232 - val_loss: 0.0432\n",
      "Epoch 106/10000\n",
      "34/34 [==============================] - 2s 59ms/step - loss: 0.0231 - val_loss: 0.0444\n",
      "Epoch 107/10000\n",
      "34/34 [==============================] - 2s 59ms/step - loss: 0.0230 - val_loss: 0.0440\n",
      "Epoch 108/10000\n",
      "34/34 [==============================] - 2s 59ms/step - loss: 0.0229 - val_loss: 0.0446\n",
      "Epoch 109/10000\n",
      "34/34 [==============================] - 2s 59ms/step - loss: 0.0228 - val_loss: 0.0435\n",
      "Epoch 110/10000\n",
      "34/34 [==============================] - 2s 61ms/step - loss: 0.0227 - val_loss: 0.0450\n",
      "Epoch 111/10000\n",
      "34/34 [==============================] - 2s 60ms/step - loss: 0.0226 - val_loss: 0.0449\n",
      "Epoch 112/10000\n",
      "34/34 [==============================] - 2s 61ms/step - loss: 0.0225 - val_loss: 0.0450\n",
      "Epoch 113/10000\n",
      "34/34 [==============================] - 2s 61ms/step - loss: 0.0224 - val_loss: 0.0444\n",
      "Epoch 114/10000\n",
      "34/34 [==============================] - 2s 60ms/step - loss: 0.0223 - val_loss: 0.0458\n",
      "Epoch 115/10000\n",
      "34/34 [==============================] - 2s 60ms/step - loss: 0.0222 - val_loss: 0.0451\n",
      "Epoch 116/10000\n",
      "34/34 [==============================] - 2s 61ms/step - loss: 0.0221 - val_loss: 0.0466\n",
      "Epoch 117/10000\n",
      "34/34 [==============================] - 2s 62ms/step - loss: 0.0220 - val_loss: 0.0456\n",
      "Epoch 118/10000\n",
      "34/34 [==============================] - 2s 59ms/step - loss: 0.0219 - val_loss: 0.0445\n",
      "Epoch 119/10000\n",
      "34/34 [==============================] - 2s 59ms/step - loss: 0.0218 - val_loss: 0.0440\n",
      "Epoch 120/10000\n",
      "34/34 [==============================] - 2s 59ms/step - loss: 0.0218 - val_loss: 0.0450\n"
     ]
    },
    {
     "data": {
      "text/plain": [
       "<tensorflow.python.keras.callbacks.History at 0x1e26bfd2508>"
      ]
     },
     "execution_count": 18,
     "metadata": {},
     "output_type": "execute_result"
    }
   ],
   "source": [
    "oPredictiveModel.fit(\n",
    "    aInputTrain, \n",
    "    aOutputTrain, \n",
    "    epochs=iEpochSize, \n",
    "    batch_size=iBatchSize, \n",
    "    verbose=1, \n",
    "    validation_data= (aInputValidation, aOutputValidation),\n",
    "    validation_batch_size= iBatchSize,\n",
    "    callbacks=[oEarlyStop]\n",
    ")"
   ]
  },
  {
   "cell_type": "markdown",
   "id": "680ac53a",
   "metadata": {},
   "source": [
    "## Save Model"
   ]
  },
  {
   "cell_type": "code",
   "execution_count": 19,
   "id": "e8f88fe1",
   "metadata": {},
   "outputs": [],
   "source": [
    "oPredictiveModel.save_weights(sModelName)"
   ]
  },
  {
   "cell_type": "code",
   "execution_count": 20,
   "id": "141bb9fc",
   "metadata": {},
   "outputs": [
    {
     "data": {
      "text/plain": [
       "<matplotlib.axes._subplots.AxesSubplot at 0x1e31bc7ad08>"
      ]
     },
     "execution_count": 20,
     "metadata": {},
     "output_type": "execute_result"
    },
    {
     "data": {
      "image/png": "[encoded data removed]",
      "text/plain": [
       "<Figure size 432x288 with 1 Axes>"
      ]
     },
     "metadata": {
      "needs_background": "light"
     },
     "output_type": "display_data"
    }
   ],
   "source": [
    "pd.DataFrame(oPredictiveModel.history.history).plot()"
   ]
  },
  {
   "cell_type": "markdown",
   "id": "75633cc0",
   "metadata": {},
   "source": [
    "## Test Model"
   ]
  },
  {
   "cell_type": "code",
   "execution_count": 21,
   "id": "4d372e80",
   "metadata": {},
   "outputs": [],
   "source": [
    "oPredictiveModel.load_weights(sModelName)\n",
    "\n",
    "aPrediction = oPredictiveModel.predict(aInputTest)\n",
    "aPrediction = aPrediction.reshape((-1, iForwardTimeWindow * iNrOutputFeatures))\n",
    "dfPrediction = pd.DataFrame(aPrediction, index = ixTest, columns = ixOutputColums)\n",
    "\n",
    "aActual = aOutputTest.reshape((-1, iForwardTimeWindow * iNrOutputFeatures))\n",
    "dfActual =  pd.DataFrame(aActual, index = ixTest, columns = ixOutputColums)\n",
    "\n",
    "for sOutputFeature in aOutputFeatures:\n",
    "    sScalerFilePath = os.path.join(sModelName , \"__scalers__\")\n",
    "    sScalerFilePath = os.path.join(sScalerFilePath , sColumn + \".sav\")\n",
    "    oScaler = pickle.load(open(sScalerFilePath, 'rb'))\n",
    "    \n",
    "    tplMaskFeature = (slice(None), slice(sOutputFeature))\n",
    "    \n",
    "    dfPrediction.loc[:,tplMaskFeature] = oScaler.inverse_transform(dfPrediction.loc[:, tplMaskFeature])\n",
    "    dfActual.loc[:, tplMaskFeature] =  oScaler.inverse_transform(dfActual.loc[:, tplMaskFeature])"
   ]
  },
  {
   "cell_type": "markdown",
   "id": "c8cf6922",
   "metadata": {},
   "source": [
    "# RESULTS"
   ]
  },
  {
   "cell_type": "code",
   "execution_count": 22,
   "id": "99cf53a7",
   "metadata": {},
   "outputs": [],
   "source": [
    "iComparisionTimeStep = 0\n",
    "iFrom = 1 * iForwardTimeWindow\n",
    "iTo = iFrom + iForwardTimeWindow"
   ]
  },
  {
   "cell_type": "code",
   "execution_count": 23,
   "id": "5f8f2409",
   "metadata": {
    "scrolled": true
   },
   "outputs": [
    {
     "name": "stdout",
     "output_type": "stream",
     "text": [
      "Metrics for regression:\n",
      "      mean absolute error:                2.569\n",
      "       mean squared error:               12.374\n",
      "                max error:               11.747\n",
      "                 r2 score:                0.919\n"
     ]
    }
   ],
   "source": [
    "y_pred = dfPrediction.iloc[:, iComparisionTimeStep]\n",
    "y_true = dfActual.iloc[:, iComparisionTimeStep]\n",
    "aMetrics = [\n",
    "        ('mean absolute error', mean_absolute_error(y_true, y_pred)),\n",
    "        ('mean squared error', mean_squared_error(y_true, y_pred)),\n",
    "        ('max error', max_error(y_true, y_pred)),\n",
    "        ('r2 score', r2_score(y_true, y_pred))\n",
    "    ]\n",
    "\n",
    "print('Metrics for regression:')\n",
    "for metric_name, metric_value in aMetrics:\n",
    "    print(f'{metric_name:>25s}: {metric_value: >20.3f}')"
   ]
  },
  {
   "cell_type": "code",
   "execution_count": 24,
   "id": "245d4b4b",
   "metadata": {},
   "outputs": [
    {
     "data": {
      "text/plain": [
       "<matplotlib.axes._subplots.AxesSubplot at 0x1e2764a6108>"
      ]
     },
     "execution_count": 24,
     "metadata": {},
     "output_type": "execute_result"
    },
    {
     "data": {
      "image/png": "[encoded data removed]",
      "text/plain": [
       "<Figure size 432x288 with 1 Axes>"
      ]
     },
     "metadata": {
      "needs_background": "light"
     },
     "output_type": "display_data"
    }
   ],
   "source": [
    "dfTestComparision = pd.DataFrame(dfPrediction.iloc[:,iComparisionTimeStep])\n",
    "dfTestComparision = dfTestComparision.join(dfActual.iloc[:,iComparisionTimeStep], how = \"inner\", lsuffix=\"prediction\")\n",
    "dfTestComparision.columns = [\"Prediction\", \"Actual\"]\n",
    "\n",
    "sns.scatterplot(data = dfTestComparision, x = \"Actual\", y =\"Prediction\")"
   ]
  },
  {
   "cell_type": "code",
   "execution_count": 25,
   "id": "f2db4bfc",
   "metadata": {},
   "outputs": [
    {
     "name": "stdout",
     "output_type": "stream",
     "text": [
      "-1.2395365485301189\n"
     ]
    },
    {
     "data": {
      "text/plain": [
       "<matplotlib.axes._subplots.AxesSubplot at 0x1e325199e88>"
      ]
     },
     "execution_count": 25,
     "metadata": {},
     "output_type": "execute_result"
    },
    {
     "data": {
      "image/png": "[encoded data removed]",
      "text/plain": [
       "<Figure size 432x288 with 1 Axes>"
      ]
     },
     "metadata": {
      "needs_background": "light"
     },
     "output_type": "display_data"
    }
   ],
   "source": [
    "sFeatureName = \"close\"\n",
    "dfStepComparision = dfActual.iloc[iFrom:iTo].loc[:, (slice(None), slice(sOutputFeature))].loc[:, 0]\n",
    "dfStepComparision.columns = [\"actual\"]\n",
    "\n",
    "dfStepComparision[\"prediction\"] = dfPrediction.iloc[iFrom].loc[:, sFeatureName].values\n",
    "\n",
    "print(r2_score(dfStepComparision[\"actual\"], dfStepComparision[\"prediction\"]))\n",
    "sns.lineplot(data = dfStepComparision)"
   ]
  },
  {
   "cell_type": "markdown",
   "id": "75ca3ab0",
   "metadata": {},
   "source": [
    "# REFERENCES"
   ]
  },
  {
   "cell_type": "markdown",
   "id": "49501761",
   "metadata": {},
   "source": [
    "https://www.tensorflow.org/guide/keras/train_and_evaluate#passing_data_to_multi-input_multi-output_models\n",
    "\n",
    "https://www.tensorflow.org/guide/keras/writing_a_training_loop_from_scratch/\n",
    "\n",
    "https://www.tensorflow.org/guide/keras/customizing_what_happens_in_fit/\n",
    "\n",
    "https://towardsdatascience.com/customize-loss-function-to-make-lstm-model-more-applicable-in-stock-price-prediction-b1c50e50b16c\n",
    "\n",
    "https://keras.io/getting_started/faq/\n",
    "\n",
    "https://machinelearningmastery.com/how-to-develop-lstm-models-for-multi-step-time-series-forecasting-of-household-power-consumption/\n",
    "\n",
    "https://www.tensorflow.org/tutorials/structured_data/time_series\n",
    "\n",
    "https://towardsdatascience.com/encoder-decoder-model-for-multistep-time-series-forecasting-using-pytorch-5d54c6af6e60"
   ]
  }
 ],
 "metadata": {
  "kernelspec": {
   "display_name": "Python 3",
   "language": "python",
   "name": "python3"
  },
  "language_info": {
   "codemirror_mode": {
    "name": "ipython",
    "version": 3
   },
   "file_extension": ".py",
   "mimetype": "text/x-python",
   "name": "python",
   "nbconvert_exporter": "python",
   "pygments_lexer": "ipython3",
   "version": "3.7.10"
  },
  "varInspector": {
   "cols": {
    "lenName": 16,
    "lenType": 16,
    "lenVar": 40
   },
   "kernels_config": {
    "python": {
     "delete_cmd_postfix": "",
     "delete_cmd_prefix": "del ",
     "library": "var_list.py",
     "varRefreshCmd": "print(var_dic_list())"
    },
    "r": {
     "delete_cmd_postfix": ") ",
     "delete_cmd_prefix": "rm(",
     "library": "var_list.r",
     "varRefreshCmd": "cat(var_dic_list()) "
    }
   },
   "types_to_exclude": [
    "module",
    "function",
    "builtin_function_or_method",
    "instance",
    "_Feature"
   ],
   "window_display": false
  }
 },
 "nbformat": 4,
 "nbformat_minor": 5
}
