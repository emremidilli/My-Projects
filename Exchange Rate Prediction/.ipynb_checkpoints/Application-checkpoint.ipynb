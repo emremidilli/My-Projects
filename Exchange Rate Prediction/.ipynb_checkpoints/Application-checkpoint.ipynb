{
 "cells": [
  {
   "cell_type": "code",
   "execution_count": 1,
   "id": "0611acbc",
   "metadata": {},
   "outputs": [],
   "source": [
    "import pandas as pd\n",
    "\n",
    "import numpy as np\n",
    "\n",
    "from datetime import datetime\n",
    "\n",
    "import pytz\n",
    "import sys\n",
    "import pickle\n",
    "\n",
    "from sklearn import preprocessing\n",
    "from sklearn.preprocessing import MinMaxScaler\n",
    "from sklearn.preprocessing import StandardScaler\n",
    "from sklearn.preprocessing import OneHotEncoder\n",
    "from sklearn.model_selection import train_test_split\n",
    "from sklearn.metrics import classification_report\n",
    "from sklearn.utils import shuffle\n",
    "from sklearn import metrics\n",
    "from sklearn.metrics import mean_absolute_error, mean_squared_error, max_error, median_absolute_error, r2_score, explained_variance_score\n",
    "\n",
    "import seaborn as sns\n",
    "\n",
    "import plotly.graph_objects as go\n",
    "\n",
    "from Long_Short_Term_Memory import Long_Short_Term_Memory\n",
    "\n",
    "from Optimize_Portfolio import PortfolioManagement\n",
    "\n",
    "import MetaTrader5 as mt5\n",
    "\n",
    "import ta\n",
    "\n",
    "import os\n",
    "os.environ['TF_CPP_MIN_LOG_LEVEL'] = '2' \n",
    "\n",
    "import tensorflow as tf\n",
    "from tensorflow import keras\n",
    "from tensorflow.keras import Sequential\n",
    "from tensorflow.keras.layers import Dense\n",
    "from tensorflow.keras.layers import GlobalMaxPooling1D\n",
    "from tensorflow.keras.callbacks import EarlyStopping\n",
    "from tensorflow.keras.layers import LSTM\n",
    "from tensorflow.keras import regularizers"
   ]
  },
  {
   "cell_type": "code",
   "execution_count": 2,
   "id": "a71f63b1",
   "metadata": {
    "code_folding": [
     3
    ]
   },
   "outputs": [],
   "source": [
    "gc_o_TIME_ZONE = pytz.timezone(\"Etc/UTC\")\n",
    "gc_dt_FROM = datetime(2021, 11, 18, tzinfo=gc_o_TIME_ZONE)\n",
    "gc_dt_TO = datetime(2021, 11, 19, tzinfo=gc_o_TIME_ZONE)\n",
    "def dfGetMarketTicks(sSymbol):\n",
    "    if not mt5.initialize():\n",
    "        print(\"initialize() failed, error code =\", mt5.last_error())\n",
    "        sys.exit()\n",
    "\n",
    "    aSymbolInfo = mt5.symbol_info(sSymbol)\n",
    "    if not aSymbolInfo:\n",
    "        print(\"symbol_info() failed, error code =\", mt5.last_error())\n",
    "        sys.exit()\n",
    "    \n",
    "    dfTicks = mt5.copy_ticks_range(\n",
    "        sSymbol, \n",
    "        gc_dt_FROM, \n",
    "        gc_dt_TO, \n",
    "        mt5.COPY_TICKS_INFO)\n",
    "\n",
    "    if len(dfTicks) == 0:\n",
    "        print(\"copy_rates_range() failed, error code =\", mt5.last_error())\n",
    "        sys.exit()\n",
    "\n",
    "    mt5.shutdown()\n",
    "    \n",
    "    \n",
    "\n",
    "    dfTicks = pd.DataFrame(dfTicks)\n",
    "\n",
    "    dfTicks['timestamp'] = pd.to_datetime(dfTicks['time_msc'], unit= \"ms\")\n",
    "    dfTicks.set_index('timestamp', inplace=True)\n",
    "        \n",
    "    \n",
    "    return dfTicks  "
   ]
  },
  {
   "cell_type": "code",
   "execution_count": 3,
   "id": "ca3eba12",
   "metadata": {
    "code_folding": [
     0
    ]
   },
   "outputs": [],
   "source": [
    "def dfScaleData(sSubModelName, sScalerName,dfTrain,dfValidation, dfTest, bIsStandard = True):\n",
    "    sScalersDirectory = os.path.join(sSubModelName , \"__scalers__\")\n",
    "    if bIsStandard == True:\n",
    "        oScaler = StandardScaler()\n",
    "    else:\n",
    "        oScaler = MinMaxScaler()\n",
    "\n",
    "    oScaler.fit(dfTrain)\n",
    "\n",
    "    aScaledTrain = oScaler.transform(dfTrain)\n",
    "    aScaledValidation = oScaler.transform(dfValidation)\n",
    "    aScaledTest = oScaler.transform(dfTest)\n",
    "\n",
    "    dfScaledTrain = pd.DataFrame(aScaledTrain, columns = dfTrain.columns, index = dfTrain.index)\n",
    "    dfScaledValidation = pd.DataFrame(aScaledValidation, columns = dfValidation.columns, index = dfValidation.index)\n",
    "    dfScaledTest = pd.DataFrame(aScaledTest, columns = dfTest.columns, index = dfTest.index)\n",
    "\n",
    "    sScalerFilePath =os.path.join(sScalersDirectory, sScalerName + \".sav\")\n",
    "    os.makedirs(os.path.dirname(sScalerFilePath), exist_ok=True)\n",
    "    pickle.dump(oScaler, open(sScalerFilePath, 'wb'))\n",
    "    \n",
    "    \n",
    "    return dfScaledTrain, dfScaledValidation, dfScaledTest"
   ]
  },
  {
   "cell_type": "code",
   "execution_count": 4,
   "id": "a44508f4",
   "metadata": {
    "code_folding": []
   },
   "outputs": [],
   "source": [
    "sSymbol = \"USDCAD\""
   ]
  },
  {
   "cell_type": "code",
   "execution_count": 5,
   "id": "ad7ce049",
   "metadata": {},
   "outputs": [],
   "source": [
    "dfTicks = dfGetMarketTicks(sSymbol)"
   ]
  },
  {
   "cell_type": "code",
   "execution_count": 6,
   "id": "7910fe0e",
   "metadata": {},
   "outputs": [],
   "source": [
    "dfTicks = dfTicks.reset_index().drop_duplicates(subset = [\"timestamp\"]).set_index('timestamp').sort_index()"
   ]
  },
  {
   "cell_type": "code",
   "execution_count": 7,
   "id": "54ab4511",
   "metadata": {},
   "outputs": [],
   "source": [
    "dfTicks[\"bid_change\"] = dfTicks[\"bid\"].shift(-1) - dfTicks[\"bid\"]\n",
    "dfTicks[\"ask_change\"] = dfTicks[\"ask\"].shift(-1) - dfTicks[\"ask\"]\n",
    "dfTicks.drop(\n",
    "    dfTicks[(dfTicks[\"bid_change\"] == 0) & (dfTicks[\"ask_change\"] == 0)].index,\n",
    "    inplace=True\n",
    ")\n",
    "dfTicks[\"interarrival_time\"] = dfTicks[\"time_msc\"].shift(-1) - dfTicks[\"time_msc\"]\n",
    "dfTicks[\"bid_change\"] = dfTicks[\"bid\"].shift(-1) - dfTicks[\"bid\"]\n",
    "dfTicks[\"ask_change\"] = dfTicks[\"ask\"].shift(-1) - dfTicks[\"ask\"]\n",
    "dfTicks[\"ask_next\"] = dfTicks[\"ask\"].shift(-1)\n",
    "dfTicks[\"bid_next\"] = dfTicks[\"bid\"].shift(-1)\n",
    "dfTicks.dropna(inplace = True)"
   ]
  },
  {
   "cell_type": "code",
   "execution_count": 8,
   "id": "66398f37",
   "metadata": {},
   "outputs": [],
   "source": [
    "dfTicks[\"hour\"] = dfTicks.index.hour\n",
    "dfTicks[\"minute\"] = dfTicks.index.minute\n",
    "dfTicks[\"second\"] = dfTicks.index.second\n",
    "dfTicks[\"spread\"] = dfTicks[\"ask\"] - dfTicks[\"bid\"]"
   ]
  },
  {
   "cell_type": "code",
   "execution_count": 9,
   "id": "93639e4e",
   "metadata": {},
   "outputs": [],
   "source": [
    "dfTicks.drop([\"time_msc\", \"volume\" , \"flags\", \"volume_real\", \"last\", \"time\"], axis = 1 , inplace = True)"
   ]
  },
  {
   "cell_type": "code",
   "execution_count": 10,
   "id": "9b16da53",
   "metadata": {
    "scrolled": true
   },
   "outputs": [
    {
     "data": {
      "text/html": [
       "<div>\n",
       "<style scoped>\n",
       "    .dataframe tbody tr th:only-of-type {\n",
       "        vertical-align: middle;\n",
       "    }\n",
       "\n",
       "    .dataframe tbody tr th {\n",
       "        vertical-align: top;\n",
       "    }\n",
       "\n",
       "    .dataframe thead th {\n",
       "        text-align: right;\n",
       "    }\n",
       "</style>\n",
       "<table border=\"1\" class=\"dataframe\">\n",
       "  <thead>\n",
       "    <tr style=\"text-align: right;\">\n",
       "      <th></th>\n",
       "      <th>bid</th>\n",
       "      <th>ask</th>\n",
       "      <th>bid_change</th>\n",
       "      <th>ask_change</th>\n",
       "      <th>interarrival_time</th>\n",
       "      <th>ask_next</th>\n",
       "      <th>bid_next</th>\n",
       "      <th>hour</th>\n",
       "      <th>minute</th>\n",
       "      <th>second</th>\n",
       "      <th>spread</th>\n",
       "    </tr>\n",
       "    <tr>\n",
       "      <th>timestamp</th>\n",
       "      <th></th>\n",
       "      <th></th>\n",
       "      <th></th>\n",
       "      <th></th>\n",
       "      <th></th>\n",
       "      <th></th>\n",
       "      <th></th>\n",
       "      <th></th>\n",
       "      <th></th>\n",
       "      <th></th>\n",
       "      <th></th>\n",
       "    </tr>\n",
       "  </thead>\n",
       "  <tbody>\n",
       "    <tr>\n",
       "      <th>2021-11-18 00:00:00.033</th>\n",
       "      <td>1.26094</td>\n",
       "      <td>1.26130</td>\n",
       "      <td>0.00009</td>\n",
       "      <td>0.00015</td>\n",
       "      <td>76039.0</td>\n",
       "      <td>1.26145</td>\n",
       "      <td>1.26103</td>\n",
       "      <td>0</td>\n",
       "      <td>0</td>\n",
       "      <td>0</td>\n",
       "      <td>0.00036</td>\n",
       "    </tr>\n",
       "    <tr>\n",
       "      <th>2021-11-18 00:01:16.072</th>\n",
       "      <td>1.26103</td>\n",
       "      <td>1.26145</td>\n",
       "      <td>0.00001</td>\n",
       "      <td>0.00000</td>\n",
       "      <td>14028.0</td>\n",
       "      <td>1.26145</td>\n",
       "      <td>1.26104</td>\n",
       "      <td>0</td>\n",
       "      <td>1</td>\n",
       "      <td>16</td>\n",
       "      <td>0.00042</td>\n",
       "    </tr>\n",
       "    <tr>\n",
       "      <th>2021-11-18 00:01:30.100</th>\n",
       "      <td>1.26104</td>\n",
       "      <td>1.26145</td>\n",
       "      <td>-0.00001</td>\n",
       "      <td>0.00000</td>\n",
       "      <td>3.0</td>\n",
       "      <td>1.26145</td>\n",
       "      <td>1.26103</td>\n",
       "      <td>0</td>\n",
       "      <td>1</td>\n",
       "      <td>30</td>\n",
       "      <td>0.00041</td>\n",
       "    </tr>\n",
       "    <tr>\n",
       "      <th>2021-11-18 00:01:30.103</th>\n",
       "      <td>1.26103</td>\n",
       "      <td>1.26145</td>\n",
       "      <td>0.00006</td>\n",
       "      <td>0.00025</td>\n",
       "      <td>26344.0</td>\n",
       "      <td>1.26170</td>\n",
       "      <td>1.26109</td>\n",
       "      <td>0</td>\n",
       "      <td>1</td>\n",
       "      <td>30</td>\n",
       "      <td>0.00042</td>\n",
       "    </tr>\n",
       "    <tr>\n",
       "      <th>2021-11-18 00:01:56.447</th>\n",
       "      <td>1.26109</td>\n",
       "      <td>1.26170</td>\n",
       "      <td>-0.00001</td>\n",
       "      <td>-0.00024</td>\n",
       "      <td>8423.0</td>\n",
       "      <td>1.26146</td>\n",
       "      <td>1.26108</td>\n",
       "      <td>0</td>\n",
       "      <td>1</td>\n",
       "      <td>56</td>\n",
       "      <td>0.00061</td>\n",
       "    </tr>\n",
       "  </tbody>\n",
       "</table>\n",
       "</div>"
      ],
      "text/plain": [
       "                             bid      ask  bid_change  ask_change  \\\n",
       "timestamp                                                           \n",
       "2021-11-18 00:00:00.033  1.26094  1.26130     0.00009     0.00015   \n",
       "2021-11-18 00:01:16.072  1.26103  1.26145     0.00001     0.00000   \n",
       "2021-11-18 00:01:30.100  1.26104  1.26145    -0.00001     0.00000   \n",
       "2021-11-18 00:01:30.103  1.26103  1.26145     0.00006     0.00025   \n",
       "2021-11-18 00:01:56.447  1.26109  1.26170    -0.00001    -0.00024   \n",
       "\n",
       "                         interarrival_time  ask_next  bid_next  hour  minute  \\\n",
       "timestamp                                                                      \n",
       "2021-11-18 00:00:00.033            76039.0   1.26145   1.26103     0       0   \n",
       "2021-11-18 00:01:16.072            14028.0   1.26145   1.26104     0       1   \n",
       "2021-11-18 00:01:30.100                3.0   1.26145   1.26103     0       1   \n",
       "2021-11-18 00:01:30.103            26344.0   1.26170   1.26109     0       1   \n",
       "2021-11-18 00:01:56.447             8423.0   1.26146   1.26108     0       1   \n",
       "\n",
       "                         second   spread  \n",
       "timestamp                                 \n",
       "2021-11-18 00:00:00.033       0  0.00036  \n",
       "2021-11-18 00:01:16.072      16  0.00042  \n",
       "2021-11-18 00:01:30.100      30  0.00041  \n",
       "2021-11-18 00:01:30.103      30  0.00042  \n",
       "2021-11-18 00:01:56.447      56  0.00061  "
      ]
     },
     "execution_count": 10,
     "metadata": {},
     "output_type": "execute_result"
    }
   ],
   "source": [
    "dfTicks.head(5)"
   ]
  },
  {
   "cell_type": "markdown",
   "id": "1127d583",
   "metadata": {},
   "source": [
    "# DEEP LEARNING MODEL"
   ]
  },
  {
   "cell_type": "code",
   "execution_count": 11,
   "id": "137167f1",
   "metadata": {},
   "outputs": [],
   "source": [
    "sModelName = os.path.join(sSymbol , \"__deep learning model__\")"
   ]
  },
  {
   "cell_type": "markdown",
   "id": "e4f452e4",
   "metadata": {},
   "source": [
    "## Preprocessing"
   ]
  },
  {
   "cell_type": "code",
   "execution_count": 12,
   "id": "d458f828",
   "metadata": {},
   "outputs": [],
   "source": [
    "dfInput = dfTicks[['bid', 'ask', 'hour', 'minute', 'second', 'spread']]\n",
    "dfOutput = dfTicks[['ask_next']]"
   ]
  },
  {
   "cell_type": "markdown",
   "id": "e90db5dc",
   "metadata": {},
   "source": [
    "### Transform"
   ]
  },
  {
   "cell_type": "code",
   "execution_count": 13,
   "id": "1e401046",
   "metadata": {},
   "outputs": [],
   "source": [
    "# oPowerTransformer = preprocessing.PowerTransformer(method='box-cox', standardize=False)\n",
    "# aOutputTransformed = oPowerTransformer.fit_transform(dfOutput)\n",
    "# dfOutput = pd.DataFrame(data = aOutputTransformed , columns  = dfOutput.columns , index = dfOutput.index)"
   ]
  },
  {
   "cell_type": "markdown",
   "id": "b389be99",
   "metadata": {},
   "source": [
    "### Remove Noisy Data"
   ]
  },
  {
   "cell_type": "code",
   "execution_count": 14,
   "id": "b87f5362",
   "metadata": {},
   "outputs": [],
   "source": [
    "from scipy.stats import zscore\n",
    "aZScores=abs(zscore(dfOutput , nan_policy=\"omit\"))\n",
    "\n",
    "dfOutput = dfOutput[(aZScores<3).all(axis=1)]\n",
    "dfInput = dfInput[(aZScores<3).all(axis=1)]"
   ]
  },
  {
   "cell_type": "code",
   "execution_count": 15,
   "id": "2d3c857e",
   "metadata": {},
   "outputs": [
    {
     "data": {
      "text/plain": [
       "<matplotlib.axes._subplots.AxesSubplot at 0x1a0098b5e48>"
      ]
     },
     "execution_count": 15,
     "metadata": {},
     "output_type": "execute_result"
    },
    {
     "data": {
      "image/png": "[encoded data removed]",
      "text/plain": [
       "<Figure size 432x288 with 1 Axes>"
      ]
     },
     "metadata": {
      "needs_background": "light"
     },
     "output_type": "display_data"
    }
   ],
   "source": [
    "sns.histplot(dfOutput)"
   ]
  },
  {
   "cell_type": "markdown",
   "id": "e68fffe3",
   "metadata": {},
   "source": [
    "### Split Data"
   ]
  },
  {
   "cell_type": "code",
   "execution_count": 16,
   "id": "5275cac2",
   "metadata": {},
   "outputs": [],
   "source": [
    "gc_dec_TRAINING_RATIO = 0.6\n",
    "gc_dec_VALIDATION_RATIO = 0.2\n",
    "gc_dec_TEST_RATIO = 0.2\n",
    "\n",
    "dfInputTrainValidation, dfInputTest, dfOutputTrainValidation, dfOutputTest = train_test_split(\n",
    "    dfInput,\n",
    "    dfOutput,\n",
    "    test_size=gc_dec_TEST_RATIO,\n",
    "    shuffle=False)\n",
    "\n",
    "dfInputTrain, dfInputValidation, dfOutputTrain, dfOutputValidation = train_test_split(\n",
    "    dfInputTrainValidation,\n",
    "    dfOutputTrainValidation,\n",
    "    test_size=(1/(1 -gc_dec_TEST_RATIO))-1,\n",
    "    shuffle=False)\n",
    "\n",
    "\n",
    "dfInputTrain = dfInputTrain.astype(float)\n",
    "dfInputValidation = dfInputValidation.astype(float)\n",
    "dfInputTest = dfInputTest.astype(float)\n",
    "dfOutputTrain = dfOutputTrain.astype(float)\n",
    "dfOutputValidation = dfOutputValidation.astype(float)\n",
    "dfOutputTest = dfOutputTest.astype(float)"
   ]
  },
  {
   "cell_type": "markdown",
   "id": "eb9a9ef2",
   "metadata": {},
   "source": [
    "### Scale Data"
   ]
  },
  {
   "cell_type": "code",
   "execution_count": 17,
   "id": "a9f3d4c2",
   "metadata": {},
   "outputs": [],
   "source": [
    "dfScaledInputTrain, dfScaledInputValidation, dfScaledInputTest = dfScaleData(sModelName,\n",
    "                                                                             \"input\", \n",
    "                                                                             dfInputTrain,\n",
    "                                                                             dfInputValidation, \n",
    "                                                                             dfInputTest)\n",
    "\n",
    "dfScaledOutputTrain, dfScaledOutputValidation, dfScaledOutputTest = dfScaleData(sModelName,\n",
    "                                                                                \"output\", \n",
    "                                                                                dfOutputTrain,\n",
    "                                                                                dfOutputValidation, \n",
    "                                                                                dfOutputTest,\n",
    "                                                                               False)"
   ]
  },
  {
   "cell_type": "markdown",
   "id": "52944fb0",
   "metadata": {},
   "source": [
    "## Train"
   ]
  },
  {
   "cell_type": "markdown",
   "id": "e253bd8c",
   "metadata": {},
   "source": [
    "### Set Hyperparameters"
   ]
  },
  {
   "cell_type": "code",
   "execution_count": 18,
   "id": "a484f077",
   "metadata": {},
   "outputs": [],
   "source": [
    "iBatchSize = 256\n",
    "\n",
    "oLrSchedule = keras.optimizers.schedules.ExponentialDecay(\n",
    "    1e-05, decay_steps=100000, decay_rate=0.50, staircase=True\n",
    ")\n",
    "\n",
    "\n",
    "oOptimizer = tf.keras.optimizers.Adam(learning_rate=1e-06 , beta_1=0.9)\n",
    "\n",
    "oEarlyStop = EarlyStopping(\n",
    "    monitor = 'val_loss', \n",
    "    mode = 'min', \n",
    "    verbose = 0 , \n",
    "    patience = 20, \n",
    "    restore_best_weights = True)\n",
    "iEpochSize = 10000\n",
    "\n",
    "\n"
   ]
  },
  {
   "cell_type": "markdown",
   "id": "a75b209e",
   "metadata": {},
   "source": [
    "### Build Model"
   ]
  },
  {
   "cell_type": "code",
   "execution_count": 19,
   "id": "9b360a41",
   "metadata": {},
   "outputs": [],
   "source": [
    "oInputRates = keras.Input(\n",
    "    shape=(\n",
    "        dfScaledInputTrain.shape[1]), \n",
    "    name=\"aRates\")\n",
    "\n",
    "aW = Dense((100))(oInputRates)\n",
    "aOutputRegression = Dense((100))(aW)\n",
    "\n",
    "aOutputRegression = Dense(1, name = \"Regression\", activation = \"sigmoid\")(aOutputRegression)\n",
    "\n",
    "oPredictiveModel = keras.Model(\n",
    "    inputs=oInputRates, \n",
    "    outputs=aOutputRegression\n",
    ")"
   ]
  },
  {
   "cell_type": "markdown",
   "id": "ac55b3b7",
   "metadata": {},
   "source": [
    "### Compile Model"
   ]
  },
  {
   "cell_type": "code",
   "execution_count": 20,
   "id": "a43debeb",
   "metadata": {},
   "outputs": [],
   "source": [
    "oPredictiveModel.compile(optimizer=oOptimizer,\n",
    "                         loss = tf.keras.losses.MeanSquaredError()\n",
    "                        )\n"
   ]
  },
  {
   "cell_type": "markdown",
   "id": "dedaa4fc",
   "metadata": {},
   "source": [
    "### Fit Model"
   ]
  },
  {
   "cell_type": "code",
   "execution_count": 21,
   "id": "f1293c7c",
   "metadata": {},
   "outputs": [
    {
     "name": "stdout",
     "output_type": "stream",
     "text": [
      "Epoch 1/10000\n",
      "169/169 [==============================] - 1s 3ms/step - loss: 0.0447 - val_loss: 0.4450\n",
      "Epoch 2/10000\n",
      "169/169 [==============================] - 0s 3ms/step - loss: 0.0412 - val_loss: 0.4093\n",
      "Epoch 3/10000\n",
      "169/169 [==============================] - 1s 3ms/step - loss: 0.0379 - val_loss: 0.3754\n",
      "Epoch 4/10000\n",
      "169/169 [==============================] - 0s 3ms/step - loss: 0.0348 - val_loss: 0.3437\n",
      "Epoch 5/10000\n",
      "169/169 [==============================] - 0s 3ms/step - loss: 0.0319 - val_loss: 0.3144\n",
      "Epoch 6/10000\n",
      "169/169 [==============================] - 1s 3ms/step - loss: 0.0293 - val_loss: 0.2873\n",
      "Epoch 7/10000\n",
      "169/169 [==============================] - 1s 4ms/step - loss: 0.0268 - val_loss: 0.2622\n",
      "Epoch 8/10000\n",
      "169/169 [==============================] - 0s 3ms/step - loss: 0.0246 - val_loss: 0.2396\n",
      "Epoch 9/10000\n",
      "169/169 [==============================] - 1s 3ms/step - loss: 0.0225 - val_loss: 0.2188\n",
      "Epoch 10/10000\n",
      "169/169 [==============================] - 1s 4ms/step - loss: 0.0205 - val_loss: 0.2000\n",
      "Epoch 11/10000\n",
      "169/169 [==============================] - 1s 4ms/step - loss: 0.0188 - val_loss: 0.1829\n",
      "Epoch 12/10000\n",
      "169/169 [==============================] - 1s 4ms/step - loss: 0.0171 - val_loss: 0.1675\n",
      "Epoch 13/10000\n",
      "169/169 [==============================] - 1s 3ms/step - loss: 0.0156 - val_loss: 0.1537\n",
      "Epoch 14/10000\n",
      "169/169 [==============================] - 0s 3ms/step - loss: 0.0142 - val_loss: 0.1413\n",
      "Epoch 15/10000\n",
      "169/169 [==============================] - 0s 3ms/step - loss: 0.0129 - val_loss: 0.1301\n",
      "Epoch 16/10000\n",
      "169/169 [==============================] - 0s 3ms/step - loss: 0.0117 - val_loss: 0.1201\n",
      "Epoch 17/10000\n",
      "169/169 [==============================] - 0s 3ms/step - loss: 0.0106 - val_loss: 0.1111\n",
      "Epoch 18/10000\n",
      "169/169 [==============================] - 0s 3ms/step - loss: 0.0096 - val_loss: 0.1031\n",
      "Epoch 19/10000\n",
      "169/169 [==============================] - 0s 3ms/step - loss: 0.0087 - val_loss: 0.0958\n",
      "Epoch 20/10000\n",
      "169/169 [==============================] - 0s 3ms/step - loss: 0.0078 - val_loss: 0.0894\n",
      "Epoch 21/10000\n",
      "169/169 [==============================] - 0s 3ms/step - loss: 0.0071 - val_loss: 0.0836\n",
      "Epoch 22/10000\n",
      "169/169 [==============================] - 0s 3ms/step - loss: 0.0064 - val_loss: 0.0784\n",
      "Epoch 23/10000\n",
      "169/169 [==============================] - 0s 3ms/step - loss: 0.0057 - val_loss: 0.0738\n",
      "Epoch 24/10000\n",
      "169/169 [==============================] - 0s 3ms/step - loss: 0.0051 - val_loss: 0.0696\n",
      "Epoch 25/10000\n",
      "169/169 [==============================] - 0s 3ms/step - loss: 0.0046 - val_loss: 0.0659\n",
      "Epoch 26/10000\n",
      "169/169 [==============================] - 0s 3ms/step - loss: 0.0041 - val_loss: 0.0626\n",
      "Epoch 27/10000\n",
      "169/169 [==============================] - 0s 3ms/step - loss: 0.0036 - val_loss: 0.0596\n",
      "Epoch 28/10000\n",
      "169/169 [==============================] - 1s 3ms/step - loss: 0.0032 - val_loss: 0.0569\n",
      "Epoch 29/10000\n",
      "169/169 [==============================] - 0s 3ms/step - loss: 0.0029 - val_loss: 0.0545\n",
      "Epoch 30/10000\n",
      "169/169 [==============================] - 0s 3ms/step - loss: 0.0025 - val_loss: 0.0523\n",
      "Epoch 31/10000\n",
      "169/169 [==============================] - 1s 3ms/step - loss: 0.0022 - val_loss: 0.0503\n",
      "Epoch 32/10000\n",
      "169/169 [==============================] - 1s 3ms/step - loss: 0.0020 - val_loss: 0.0486\n",
      "Epoch 33/10000\n",
      "169/169 [==============================] - 1s 3ms/step - loss: 0.0017 - val_loss: 0.0470\n",
      "Epoch 34/10000\n",
      "169/169 [==============================] - 1s 3ms/step - loss: 0.0015 - val_loss: 0.0456\n",
      "Epoch 35/10000\n",
      "169/169 [==============================] - 1s 3ms/step - loss: 0.0013 - val_loss: 0.0443\n",
      "Epoch 36/10000\n",
      "169/169 [==============================] - 0s 3ms/step - loss: 0.0012 - val_loss: 0.0432\n",
      "Epoch 37/10000\n",
      "169/169 [==============================] - 0s 3ms/step - loss: 0.0010 - val_loss: 0.0421\n",
      "Epoch 38/10000\n",
      "169/169 [==============================] - 0s 3ms/step - loss: 9.1573e-04 - val_loss: 0.0412\n",
      "Epoch 39/10000\n",
      "169/169 [==============================] - 0s 3ms/step - loss: 8.1313e-04 - val_loss: 0.0404\n",
      "Epoch 40/10000\n",
      "169/169 [==============================] - 0s 3ms/step - loss: 7.2614e-04 - val_loss: 0.0396\n",
      "Epoch 41/10000\n",
      "169/169 [==============================] - 0s 3ms/step - loss: 6.5313e-04 - val_loss: 0.0390\n",
      "Epoch 42/10000\n",
      "169/169 [==============================] - 0s 3ms/step - loss: 5.9262e-04 - val_loss: 0.0384\n",
      "Epoch 43/10000\n",
      "169/169 [==============================] - 0s 3ms/step - loss: 5.4314e-04 - val_loss: 0.0379\n",
      "Epoch 44/10000\n",
      "169/169 [==============================] - 0s 3ms/step - loss: 5.0315e-04 - val_loss: 0.0374\n",
      "Epoch 45/10000\n",
      "169/169 [==============================] - 0s 3ms/step - loss: 4.7130e-04 - val_loss: 0.0370\n",
      "Epoch 46/10000\n",
      "169/169 [==============================] - 1s 4ms/step - loss: 4.4636e-04 - val_loss: 0.0367\n",
      "Epoch 47/10000\n",
      "169/169 [==============================] - 1s 6ms/step - loss: 4.2717e-04 - val_loss: 0.0364\n",
      "Epoch 48/10000\n",
      "169/169 [==============================] - 1s 4ms/step - loss: 4.1269e-04 - val_loss: 0.0361\n",
      "Epoch 49/10000\n",
      "169/169 [==============================] - 1s 4ms/step - loss: 4.0194e-04 - val_loss: 0.0359\n",
      "Epoch 50/10000\n",
      "169/169 [==============================] - 1s 4ms/step - loss: 3.9410e-04 - val_loss: 0.0358\n",
      "Epoch 51/10000\n",
      "169/169 [==============================] - 1s 4ms/step - loss: 3.8847e-04 - val_loss: 0.0356\n",
      "Epoch 52/10000\n",
      "169/169 [==============================] - 1s 4ms/step - loss: 3.8455e-04 - val_loss: 0.0355\n",
      "Epoch 53/10000\n",
      "169/169 [==============================] - 1s 4ms/step - loss: 3.8186e-04 - val_loss: 0.0354\n",
      "Epoch 54/10000\n",
      "169/169 [==============================] - 1s 4ms/step - loss: 3.8001e-04 - val_loss: 0.0353\n",
      "Epoch 55/10000\n",
      "169/169 [==============================] - 1s 4ms/step - loss: 3.7877e-04 - val_loss: 0.0353\n",
      "Epoch 56/10000\n",
      "169/169 [==============================] - 1s 5ms/step - loss: 3.7795e-04 - val_loss: 0.0353\n",
      "Epoch 57/10000\n",
      "169/169 [==============================] - 1s 4ms/step - loss: 3.7741e-04 - val_loss: 0.0352\n",
      "Epoch 58/10000\n",
      "169/169 [==============================] - 1s 4ms/step - loss: 3.7706e-04 - val_loss: 0.0352\n",
      "Epoch 59/10000\n",
      "169/169 [==============================] - 1s 4ms/step - loss: 3.7683e-04 - val_loss: 0.0352\n",
      "Epoch 60/10000\n",
      "169/169 [==============================] - 1s 3ms/step - loss: 3.7668e-04 - val_loss: 0.0352\n",
      "Epoch 61/10000\n",
      "169/169 [==============================] - 1s 3ms/step - loss: 3.7660e-04 - val_loss: 0.0352\n",
      "Epoch 62/10000\n",
      "169/169 [==============================] - 1s 3ms/step - loss: 3.7654e-04 - val_loss: 0.0352\n",
      "Epoch 63/10000\n",
      "169/169 [==============================] - 0s 3ms/step - loss: 3.7651e-04 - val_loss: 0.0352\n",
      "Epoch 64/10000\n",
      "169/169 [==============================] - 0s 3ms/step - loss: 3.7650e-04 - val_loss: 0.0352\n",
      "Epoch 65/10000\n",
      "169/169 [==============================] - 0s 3ms/step - loss: 3.7649e-04 - val_loss: 0.0352\n",
      "Epoch 66/10000\n",
      "169/169 [==============================] - 1s 3ms/step - loss: 3.7647e-04 - val_loss: 0.0352\n",
      "Epoch 67/10000\n",
      "169/169 [==============================] - 1s 3ms/step - loss: 3.7648e-04 - val_loss: 0.0352\n",
      "Epoch 68/10000\n",
      "169/169 [==============================] - 0s 3ms/step - loss: 3.7650e-04 - val_loss: 0.0352\n",
      "Epoch 69/10000\n",
      "169/169 [==============================] - 0s 3ms/step - loss: 3.7649e-04 - val_loss: 0.0352\n",
      "Epoch 70/10000\n",
      "169/169 [==============================] - 1s 3ms/step - loss: 3.7649e-04 - val_loss: 0.0352\n",
      "Epoch 71/10000\n",
      "169/169 [==============================] - 1s 3ms/step - loss: 3.7649e-04 - val_loss: 0.0352\n",
      "Epoch 72/10000\n",
      "169/169 [==============================] - 1s 3ms/step - loss: 3.7651e-04 - val_loss: 0.0352\n",
      "Epoch 73/10000\n",
      "169/169 [==============================] - 0s 3ms/step - loss: 3.7650e-04 - val_loss: 0.0353\n",
      "Epoch 74/10000\n",
      "169/169 [==============================] - 1s 3ms/step - loss: 3.7648e-04 - val_loss: 0.0352\n",
      "Epoch 75/10000\n",
      "169/169 [==============================] - 0s 3ms/step - loss: 3.7650e-04 - val_loss: 0.0353\n",
      "Epoch 76/10000\n",
      "169/169 [==============================] - 0s 3ms/step - loss: 3.7649e-04 - val_loss: 0.0352\n",
      "Epoch 77/10000\n",
      "169/169 [==============================] - 0s 3ms/step - loss: 3.7652e-04 - val_loss: 0.0352\n",
      "Epoch 78/10000\n"
     ]
    },
    {
     "name": "stdout",
     "output_type": "stream",
     "text": [
      "169/169 [==============================] - 0s 3ms/step - loss: 3.7649e-04 - val_loss: 0.0353\n",
      "Epoch 79/10000\n",
      "169/169 [==============================] - 0s 3ms/step - loss: 3.7651e-04 - val_loss: 0.0352\n",
      "Epoch 80/10000\n",
      "169/169 [==============================] - 1s 3ms/step - loss: 3.7649e-04 - val_loss: 0.0352\n",
      "Epoch 81/10000\n",
      "169/169 [==============================] - 1s 3ms/step - loss: 3.7649e-04 - val_loss: 0.0352\n",
      "Epoch 82/10000\n",
      "169/169 [==============================] - 0s 3ms/step - loss: 3.7651e-04 - val_loss: 0.0352\n",
      "Epoch 83/10000\n",
      "169/169 [==============================] - 1s 3ms/step - loss: 3.7653e-04 - val_loss: 0.0353\n",
      "Epoch 84/10000\n",
      "169/169 [==============================] - 0s 3ms/step - loss: 3.7651e-04 - val_loss: 0.0352\n",
      "Epoch 85/10000\n",
      "169/169 [==============================] - 0s 3ms/step - loss: 3.7655e-04 - val_loss: 0.0352\n",
      "Epoch 86/10000\n",
      "169/169 [==============================] - 0s 3ms/step - loss: 3.7649e-04 - val_loss: 0.0352\n",
      "Epoch 87/10000\n",
      "169/169 [==============================] - 0s 3ms/step - loss: 3.7650e-04 - val_loss: 0.0353\n",
      "Epoch 88/10000\n",
      "169/169 [==============================] - 0s 3ms/step - loss: 3.7652e-04 - val_loss: 0.0352\n",
      "Epoch 89/10000\n",
      "169/169 [==============================] - 0s 3ms/step - loss: 3.7654e-04 - val_loss: 0.0352\n",
      "Epoch 90/10000\n",
      "169/169 [==============================] - 0s 3ms/step - loss: 3.7653e-04 - val_loss: 0.0352\n",
      "Epoch 91/10000\n",
      "169/169 [==============================] - 1s 3ms/step - loss: 3.7651e-04 - val_loss: 0.0352\n",
      "Epoch 92/10000\n",
      "169/169 [==============================] - 1s 3ms/step - loss: 3.7653e-04 - val_loss: 0.0352\n",
      "Epoch 93/10000\n",
      "169/169 [==============================] - 1s 3ms/step - loss: 3.7652e-04 - val_loss: 0.0353\n",
      "Epoch 94/10000\n",
      "169/169 [==============================] - 0s 3ms/step - loss: 3.7651e-04 - val_loss: 0.0353\n",
      "Epoch 95/10000\n",
      "169/169 [==============================] - 0s 3ms/step - loss: 3.7650e-04 - val_loss: 0.0352\n",
      "Epoch 96/10000\n",
      "169/169 [==============================] - 0s 3ms/step - loss: 3.7651e-04 - val_loss: 0.0352\n",
      "Epoch 97/10000\n",
      "169/169 [==============================] - 0s 3ms/step - loss: 3.7649e-04 - val_loss: 0.0352\n",
      "Epoch 98/10000\n",
      "169/169 [==============================] - 0s 3ms/step - loss: 3.7650e-04 - val_loss: 0.0352\n",
      "Epoch 99/10000\n",
      "169/169 [==============================] - 0s 3ms/step - loss: 3.7650e-04 - val_loss: 0.0353\n",
      "Epoch 100/10000\n",
      "169/169 [==============================] - 0s 3ms/step - loss: 3.7654e-04 - val_loss: 0.0352\n",
      "Epoch 101/10000\n",
      "169/169 [==============================] - 0s 3ms/step - loss: 3.7652e-04 - val_loss: 0.0352\n",
      "Epoch 102/10000\n",
      "169/169 [==============================] - 0s 3ms/step - loss: 3.7652e-04 - val_loss: 0.0352\n",
      "Epoch 103/10000\n",
      "169/169 [==============================] - 1s 3ms/step - loss: 3.7651e-04 - val_loss: 0.0352\n",
      "Epoch 104/10000\n",
      "169/169 [==============================] - 1s 3ms/step - loss: 3.7650e-04 - val_loss: 0.0352\n",
      "Epoch 105/10000\n",
      "169/169 [==============================] - 1s 3ms/step - loss: 3.7651e-04 - val_loss: 0.0352\n",
      "Epoch 106/10000\n",
      "169/169 [==============================] - 0s 3ms/step - loss: 3.7651e-04 - val_loss: 0.0352\n",
      "Epoch 107/10000\n",
      "169/169 [==============================] - 0s 3ms/step - loss: 3.7648e-04 - val_loss: 0.0353\n",
      "Epoch 108/10000\n",
      "169/169 [==============================] - 1s 3ms/step - loss: 3.7651e-04 - val_loss: 0.0352\n",
      "Epoch 109/10000\n",
      "169/169 [==============================] - 1s 3ms/step - loss: 3.7651e-04 - val_loss: 0.0353\n"
     ]
    },
    {
     "data": {
      "text/plain": [
       "<matplotlib.axes._subplots.AxesSubplot at 0x1a031362388>"
      ]
     },
     "execution_count": 21,
     "metadata": {},
     "output_type": "execute_result"
    },
    {
     "data": {
      "image/png": "[encoded data removed]",
      "text/plain": [
       "<Figure size 432x288 with 1 Axes>"
      ]
     },
     "metadata": {
      "needs_background": "light"
     },
     "output_type": "display_data"
    }
   ],
   "source": [
    "oPredictiveModel.fit(\n",
    "    dfScaledInputTrain, \n",
    "    dfScaledOutputTrain, \n",
    "    epochs=iEpochSize, \n",
    "    batch_size=iBatchSize, \n",
    "    verbose=1, \n",
    "    validation_data= (dfScaledInputValidation, dfScaledOutputValidation),\n",
    "    validation_batch_size= iBatchSize,\n",
    "    callbacks=[oEarlyStop]\n",
    ")\n",
    "\n",
    "oPredictiveModel.save_weights(sModelName)\n",
    "\n",
    "pd.DataFrame(oPredictiveModel.history.history).plot()"
   ]
  },
  {
   "cell_type": "markdown",
   "id": "75633cc0",
   "metadata": {},
   "source": [
    "## Test"
   ]
  },
  {
   "cell_type": "code",
   "execution_count": 22,
   "id": "fc56071c",
   "metadata": {},
   "outputs": [],
   "source": [
    "oPredictiveModel.load_weights(sModelName)\n",
    "\n",
    "aPrediction = oPredictiveModel.predict(dfScaledInputTest)\n",
    "\n",
    "sOutputScalerPath = os.path.join(sModelName , \"__scalers__\")\n",
    "sOutputScalerPath = os.path.join(sOutputScalerPath , \"output\" + \".sav\")\n",
    "oScalerOutput = pickle.load(open(sOutputScalerPath, 'rb'))\n",
    "aPrediction = oScalerOutput.inverse_transform(aPrediction)\n",
    "\n",
    "dfPrediction = pd.DataFrame(aPrediction, index = dfScaledOutputTest.index)\n",
    "dfPrediction.columns = dfOutput.columns"
   ]
  },
  {
   "cell_type": "code",
   "execution_count": 23,
   "id": "245d4b4b",
   "metadata": {},
   "outputs": [
    {
     "data": {
      "text/plain": [
       "<matplotlib.axes._subplots.AxesSubplot at 0x1a03fc65d08>"
      ]
     },
     "execution_count": 23,
     "metadata": {},
     "output_type": "execute_result"
    },
    {
     "data": {
      "image/png": "[encoded data removed]",
      "text/plain": [
       "<Figure size 432x288 with 1 Axes>"
      ]
     },
     "metadata": {
      "needs_background": "light"
     },
     "output_type": "display_data"
    }
   ],
   "source": [
    "dfTestComparision =pd.DataFrame(dfPrediction.iloc[:,0])\n",
    "dfTestComparision = dfTestComparision.join(dfOutputTest.iloc[:,0], how = \"inner\", lsuffix=\"prediction\")\n",
    "dfTestComparision.columns = [\"Prediction\", \"Actual\"]\n",
    "\n",
    "sns.scatterplot(data = dfTestComparision, x = \"Actual\", y =\"Prediction\")"
   ]
  },
  {
   "cell_type": "code",
   "execution_count": 24,
   "id": "482be7e4",
   "metadata": {},
   "outputs": [
    {
     "name": "stdout",
     "output_type": "stream",
     "text": [
      "-0.3061504550466465\n"
     ]
    },
    {
     "data": {
      "text/plain": [
       "<matplotlib.axes._subplots.AxesSubplot at 0x1a03fc9c148>"
      ]
     },
     "execution_count": 24,
     "metadata": {},
     "output_type": "execute_result"
    },
    {
     "data": {
      "image/png": "[encoded data removed]",
      "text/plain": [
       "<Figure size 432x288 with 1 Axes>"
      ]
     },
     "metadata": {
      "needs_background": "light"
     },
     "output_type": "display_data"
    }
   ],
   "source": [
    "iFrom = 2000\n",
    "iTo = 2050\n",
    "print(r2_score(dfOutputTest.iloc[iFrom:iTo], dfPrediction.iloc[iFrom:iTo]))\n",
    "sns.lineplot(data = dfTestComparision.iloc[iFrom:iTo])"
   ]
  },
  {
   "cell_type": "code",
   "execution_count": 25,
   "id": "5f8f2409",
   "metadata": {},
   "outputs": [
    {
     "name": "stdout",
     "output_type": "stream",
     "text": [
      "Metrics for regression:\n",
      "      mean absolute error:                0.000\n",
      "    median absolute error:                0.000\n",
      "       mean squared error:                0.000\n",
      "                max error:                0.001\n",
      "                 r2 score:                0.996\n",
      " explained variance score:                0.996\n"
     ]
    }
   ],
   "source": [
    "y_pred = dfPrediction.iloc[:, 0]\n",
    "y_true = dfOutputTest.iloc[:, 0]\n",
    "aMetrics = [\n",
    "        ('mean absolute error', mean_absolute_error(y_true, y_pred)),\n",
    "        ('median absolute error', median_absolute_error(y_true, y_pred)),\n",
    "        ('mean squared error', mean_squared_error(y_true, y_pred)),\n",
    "        ('max error', max_error(y_true, y_pred)),\n",
    "        ('r2 score', r2_score(y_true, y_pred)),\n",
    "        ('explained variance score', explained_variance_score(y_true, y_pred))\n",
    "    ]\n",
    "\n",
    "print('Metrics for regression:')\n",
    "for metric_name, metric_value in aMetrics:\n",
    "    print(f'{metric_name:>25s}: {metric_value: >20.3f}')"
   ]
  },
  {
   "cell_type": "code",
   "execution_count": null,
   "id": "653d9142",
   "metadata": {},
   "outputs": [],
   "source": [
    "y_pred = dfPrediction.iloc[:, 1]\n",
    "y_true = dfOutputTest.iloc[:, 1]\n",
    "print(classification_report(y_true, y_pred, zero_division = 0))"
   ]
  },
  {
   "cell_type": "code",
   "execution_count": null,
   "id": "63a951e5",
   "metadata": {},
   "outputs": [],
   "source": [
    "y_pred = dfPrediction.iloc[:, 0]\n",
    "y_true = dfOutputTest.iloc[:, 0]\n",
    "print(classification_report(y_true, y_pred, zero_division = 0))"
   ]
  },
  {
   "cell_type": "markdown",
   "id": "75ca3ab0",
   "metadata": {},
   "source": [
    "# REFERENCES"
   ]
  },
  {
   "cell_type": "markdown",
   "id": "49501761",
   "metadata": {},
   "source": [
    "https://www.tensorflow.org/guide/keras/train_and_evaluate#passing_data_to_multi-input_multi-output_models\n",
    "\n",
    "https://www.tensorflow.org/guide/keras/writing_a_training_loop_from_scratch/\n",
    "\n",
    "https://www.tensorflow.org/guide/keras/customizing_what_happens_in_fit/\n",
    "\n",
    "https://towardsdatascience.com/customize-loss-function-to-make-lstm-model-more-applicable-in-stock-price-prediction-b1c50e50b16c"
   ]
  }
 ],
 "metadata": {
  "kernelspec": {
   "display_name": "Python 3",
   "language": "python",
   "name": "python3"
  },
  "language_info": {
   "codemirror_mode": {
    "name": "ipython",
    "version": 3
   },
   "file_extension": ".py",
   "mimetype": "text/x-python",
   "name": "python",
   "nbconvert_exporter": "python",
   "pygments_lexer": "ipython3",
   "version": "3.7.10"
  },
  "varInspector": {
   "cols": {
    "lenName": 16,
    "lenType": 16,
    "lenVar": 40
   },
   "kernels_config": {
    "python": {
     "delete_cmd_postfix": "",
     "delete_cmd_prefix": "del ",
     "library": "var_list.py",
     "varRefreshCmd": "print(var_dic_list())"
    },
    "r": {
     "delete_cmd_postfix": ") ",
     "delete_cmd_prefix": "rm(",
     "library": "var_list.r",
     "varRefreshCmd": "cat(var_dic_list()) "
    }
   },
   "types_to_exclude": [
    "module",
    "function",
    "builtin_function_or_method",
    "instance",
    "_Feature"
   ],
   "window_display": false
  }
 },
 "nbformat": 4,
 "nbformat_minor": 5
}
