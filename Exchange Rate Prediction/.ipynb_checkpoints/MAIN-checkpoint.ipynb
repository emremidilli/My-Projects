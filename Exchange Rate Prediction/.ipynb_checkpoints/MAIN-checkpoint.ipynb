{
 "cells": [
  {
   "cell_type": "code",
   "execution_count": 1,
   "id": "b32ee0be-1bc5-4a50-a705-2684f8d677a5",
   "metadata": {},
   "outputs": [],
   "source": [
    "import Full_Factorial_Design\n",
    "import Predictive_Model\n",
    "import Calculate_Metrics\n",
    "import Compile_Responses\n",
    "import Steepest_Descent_Design\n",
    "import Central_Composite_Design\n",
    "import Response_Surface_Method"
   ]
  },
  {
   "cell_type": "code",
   "execution_count": null,
   "id": "fa28d070-d490-4c36-b136-810c16f9d32e",
   "metadata": {},
   "outputs": [],
   "source": [
    "sOutputSymbol = 'BCHUSD'\n",
    "sModelType = 'MLP'\n",
    "\n",
    "dfFullFactorialDesign = Full_Factorial_Design.__init__(sOutputSymbol,sModelType)\n",
    "\n",
    "for iTrialId, _ in dfFullFactorialDesign.iterrows():\n",
    "    Predictive_Model.__init__(sOutputSymbol, sModelType, 'Full Factorial Design', iTrialId)\n",
    "    Calculate_Metrics.__init__(sOutputSymbol, sModelType, 'Full Factorial Design', iTrialId)\n",
    "\n",
    "Compile_Responses.__init__(sOutputSymbol, sModelType, 'Full Factorial Design')\n",
    "\n",
    "# dfSteepestDescentDesign = Steepest_Descent_Design.__init__(sOutputSymbol, sModelType)\n",
    "\n",
    "# for iTrialId, _ in dfSteepestDescentDesign.iterrows():\n",
    "#     Predictive_Model.__init__(sOutputSymbol, sModelType, 'Steepest Descent', iTrialId)\n",
    "#     Calculate_Metrics.__init__(sOutputSymbol, sModelType, 'Steepest Descent', iTrialId)\n",
    "\n",
    "# Compile_Responses.__init__(sOutputSymbol, sModelType, 'Steepest Descent')\n",
    "\n",
    "# dfCentralCompositeDesign = Central_Composite_Design.__init__(sOutputSymbol, sModelType)\n",
    "\n",
    "# dfCentralCompositeDesign = Central_Composite_Design.__init__(sOutputSymbol, sModelType)\n",
    "\n",
    "# for iTrialId, _ in dfCentralCompositeDesign.iterrows():\n",
    "#     Predictive_Model.__init__(sOutputSymbol, sModelType, 'Central Composite Design', iTrialId)\n",
    "#     Calculate_Metrics.__init__(sOutputSymbol, sModelType, 'Central Composite Design', iTrialId)\n",
    "\n",
    "# Compile_Responses.__init__(sOutputSymbol, sModelType, 'Central Composite Design')\n",
    "\n",
    "# Response_Surface_Method.__init__(sOutputSymbol, sModelType)"
   ]
  }
 ],
 "metadata": {
  "kernelspec": {
   "display_name": "Python 3",
   "language": "python",
   "name": "python3"
  },
  "language_info": {
   "codemirror_mode": {
    "name": "ipython",
    "version": 3
   },
   "file_extension": ".py",
   "mimetype": "text/x-python",
   "name": "python",
   "nbconvert_exporter": "python",
   "pygments_lexer": "ipython3",
   "version": "3.7.10"
  }
 },
 "nbformat": 4,
 "nbformat_minor": 5
}
