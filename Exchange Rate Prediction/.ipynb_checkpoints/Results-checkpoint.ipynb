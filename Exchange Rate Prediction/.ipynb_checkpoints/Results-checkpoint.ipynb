{
 "cells": [
  {
   "cell_type": "markdown",
   "id": "06d2cf2b-970a-41ae-a15b-d1c2190769d0",
   "metadata": {
    "tags": []
   },
   "source": [
    "# IMPORT LIBRARIES"
   ]
  },
  {
   "cell_type": "code",
   "execution_count": null,
   "id": "d28d2424-8f57-45b1-8de8-fc5041b28048",
   "metadata": {},
   "outputs": [],
   "source": [
    "import pandas as pd\n",
    "\n",
    "import numpy as np\n",
    "\n",
    "from sklearn.metrics import mean_absolute_error, mean_squared_error, max_error, r2_score\n",
    "\n",
    "import seaborn as sns\n",
    "\n",
    "import matplotlib.pyplot as plt\n",
    "\n",
    "import os\n",
    "\n",
    "import tensorflow as tf"
   ]
  },
  {
   "cell_type": "markdown",
   "id": "503f8a29-ad6e-4aad-ba26-a49d2a549597",
   "metadata": {
    "tags": []
   },
   "source": [
    "# CONFIGURATION"
   ]
  },
  {
   "cell_type": "code",
   "execution_count": null,
   "id": "eef11a17-f0d2-410c-b41f-377a26332e57",
   "metadata": {},
   "outputs": [],
   "source": [
    "sOutputSymbol = 'BTCUSD'\n",
    "sModelType = 'MLP'\n",
    "\n",
    "iTrialId = 0"
   ]
  },
  {
   "cell_type": "code",
   "execution_count": null,
   "id": "363edc2b-6ad5-4bb7-a9e6-dcecd63686b2",
   "metadata": {},
   "outputs": [],
   "source": [
    "dfCciDesign = pd.read_csv('Data\\Cci Design_'+ sOutputSymbol +'_'+ sModelType +'.csv', index_col = 0)\n",
    "iBatchSize = dfCciDesign.loc[iTrialId, 'iBatchSize']\n",
    "iNrOfHiddenNeurons = dfCciDesign.loc[iTrialId, 'iNrOfHiddenNeurons']\n",
    "iBackwardTimeWindow = dfCciDesign.loc[iTrialId, 'iBackwardTimeWindow']\n",
    "iForwardTimeWindow = dfCciDesign.loc[iTrialId, 'iForwardTimeWindow']"
   ]
  },
  {
   "cell_type": "code",
   "execution_count": null,
   "id": "e5919541-cefa-4602-afd6-92f51783896e",
   "metadata": {},
   "outputs": [],
   "source": [
    "sModelName = os.path.join(sOutputSymbol , sModelType + '_' + str(iTrialId))"
   ]
  },
  {
   "cell_type": "code",
   "execution_count": null,
   "id": "d9140ce5-a19a-4ddc-95e4-2a3ceb05738e",
   "metadata": {},
   "outputs": [],
   "source": [
    "dfOhlc = pd.read_csv('Data\\dfOhlc.csv', index_col = 0)\n",
    "dfActual = pd.read_csv(sModelName+'\\dfActual.csv',header=[0, 1], index_col=0)\n",
    "dfPrediction = pd.read_csv(sModelName+'\\dfPrediction.csv',header=[0, 1], index_col=0)\n",
    "dfPerformance = pd.read_csv(sModelName+'\\dfPerformance.csv', index_col=0)"
   ]
  },
  {
   "cell_type": "markdown",
   "id": "ccaf0147-470c-49ae-9e57-a8084a22d5f0",
   "metadata": {
    "tags": []
   },
   "source": [
    "# CONVERT [return] TO [close]"
   ]
  },
  {
   "cell_type": "code",
   "execution_count": null,
   "id": "7ddc8e69-2cd1-4286-b915-395b51a8a247",
   "metadata": {},
   "outputs": [],
   "source": [
    "def dfGetClosePricesFromReturns(dfToConvert):\n",
    "    dfClose = dfToConvert.copy() \n",
    "    \n",
    "    for sCol in dfClose.columns:\n",
    "        iTimeStep = int(sCol[0])\n",
    "        sSymbolFeature = sCol[1]\n",
    "        aSymbolFeature = sSymbolFeature.split(':')\n",
    "        sSymbol = aSymbolFeature[0]\n",
    "        sFeature = aSymbolFeature[1]\n",
    "        \n",
    "        dfReturns = dfToConvert.loc[:,sCol ]\n",
    "\n",
    "        if iTimeStep == 0:\n",
    "            dfOpenPrices = dfOhlc.loc[dfClose.index, sSymbol+':open']\n",
    "        else:\n",
    "            dfOpenPrices =  dfClose.loc[:, (str(iTimeStep-1), sSymbolFeature)]\n",
    "        \n",
    "        dfClose.loc[:, sCol] = (dfOpenPrices * dfReturns) + dfOpenPrices\n",
    "    \n",
    "    dfClose.rename(columns = {sOutputSymbol+':return' :sOutputSymbol+':close'}, level=1, inplace = True)\n",
    "    return dfClose"
   ]
  },
  {
   "cell_type": "code",
   "execution_count": null,
   "id": "3709c93c-5d15-477d-8ad5-25a645c71cde",
   "metadata": {},
   "outputs": [],
   "source": [
    "dfActualClose = dfGetClosePricesFromReturns(dfActual)\n",
    "dfPredictionClose = dfGetClosePricesFromReturns(dfPrediction)"
   ]
  },
  {
   "cell_type": "markdown",
   "id": "5316b6d0-855d-43dc-9ebc-d6773f3d79d1",
   "metadata": {},
   "source": [
    "# CONVERT [return] OF COMBINATIONS"
   ]
  },
  {
   "cell_type": "code",
   "execution_count": null,
   "id": "3d1063e3-fdb2-42f3-8909-fc694dc62ca5",
   "metadata": {},
   "outputs": [],
   "source": [
    "def dfGetCombinationsOfReturns(dfToConvert):\n",
    "    dfConverted = pd.DataFrame(index = dfToConvert.index)\n",
    "    for i in range(0, dfToConvert.shape[1]):\n",
    "        for j in range(i, dfToConvert.shape[1]): \n",
    "            dfConverted.loc[: , str(i) + '_' + str(j) ] = dfToConvert.iloc[:, i:j+1].sum(axis = 1)\n",
    "            \n",
    "    return dfConverted\n",
    "    "
   ]
  },
  {
   "cell_type": "code",
   "execution_count": null,
   "id": "74615545-978a-4df1-9848-977f2aa45417",
   "metadata": {},
   "outputs": [],
   "source": [
    "dfActualReturnCombinations = dfGetCombinationsOfReturns(dfActual)\n",
    "dfPredictionReturnCombinations = dfGetCombinationsOfReturns(dfPrediction)"
   ]
  },
  {
   "cell_type": "markdown",
   "id": "e36c0901-a4f4-48cb-9651-79bc6a872229",
   "metadata": {
    "tags": []
   },
   "source": [
    "# SAVE RESULTS "
   ]
  },
  {
   "cell_type": "markdown",
   "id": "508e05e3-a45a-4f41-ad6a-cdaae2973270",
   "metadata": {},
   "source": [
    "## Define Custom Metric Function"
   ]
  },
  {
   "cell_type": "code",
   "execution_count": null,
   "id": "88a0fac7-b1ff-4812-a003-4cb398a4c715",
   "metadata": {},
   "outputs": [],
   "source": [
    "def fCalculateCustomMetric(aActual,aPrediction):\n",
    "    aLossDueToError = tf.math.subtract(aActual,aPrediction)\n",
    "    aLossDueToError = tf.where(aLossDueToError < 0 , aLossDueToError, 0 )\n",
    "    aLossDueToError = tf.math.abs(aLossDueToError)\n",
    "\n",
    "    fPenalty = tf.math.reduce_max(aLossDueToError)\n",
    "\n",
    "    aLossDueToSignDiff = tf.math.abs(tf.math.subtract(tf.math.sign(aActual), tf.math.sign(aPrediction)) )\n",
    "    aLossDueToSignDiff = tf.where(aLossDueToSignDiff == 0, aLossDueToSignDiff, fPenalty)\n",
    "\n",
    "    aTotalLoss = aLossDueToError + aLossDueToSignDiff\n",
    "    fAggLoss = tf.math.reduce_sum(aTotalLoss).numpy()\n",
    "    return fAggLoss"
   ]
  },
  {
   "cell_type": "markdown",
   "id": "b4dca62c-b373-42a4-8b58-e3b339a3d315",
   "metadata": {},
   "source": [
    "## Log Metrics"
   ]
  },
  {
   "cell_type": "code",
   "execution_count": null,
   "id": "0920c665-9a9e-45d3-82c4-8c549892bc97",
   "metadata": {
    "tags": []
   },
   "outputs": [],
   "source": [
    "y_pred = dfPredictionClose.iloc[:, :]\n",
    "y_true = dfActualClose.iloc[:, :]\n",
    "\n",
    "dictMetrics = {\n",
    "    'mean absolute error': mean_absolute_error(y_true, y_pred),\n",
    "    'mean squared error': mean_squared_error(y_true, y_pred),\n",
    "    'r2 score': r2_score(y_true, y_pred),\n",
    "    'custom_metric' : fCalculateCustomMetric(y_true, y_pred)\n",
    "}\n",
    "\n",
    "dfMetrics = pd.DataFrame.from_dict(data = dictMetrics, orient = 'index', columns = ['value'])\n",
    "dfPerformance.drop(dfMetrics.index, axis = 0, inplace = True, errors = 'ignore')\n",
    "dfPerformance.append(dfMetrics).to_csv(sModelName+'\\dfPerformance.csv')"
   ]
  },
  {
   "cell_type": "markdown",
   "id": "1c457226-4ce6-49b6-a4ff-267675133d79",
   "metadata": {
    "tags": []
   },
   "source": [
    "# PLOT RESULTS"
   ]
  },
  {
   "cell_type": "markdown",
   "id": "291089ad-fca0-428f-8392-ff7ac425f8fc",
   "metadata": {
    "tags": []
   },
   "source": [
    "## Single Time Step Comparision"
   ]
  },
  {
   "cell_type": "raw",
   "id": "2102af72-01fe-4470-8101-3fcb2d38eeb3",
   "metadata": {},
   "source": [
    "iComparisionTimeStep = 0"
   ]
  },
  {
   "cell_type": "raw",
   "id": "095c75f3-d7dc-4a82-8007-c8c2eca59bb8",
   "metadata": {},
   "source": [
    "dfTestComparision = pd.DataFrame(dfPredictionClose.iloc[:,iComparisionTimeStep])\n",
    "dfTestComparision = dfTestComparision.join(dfActualClose.iloc[:,iComparisionTimeStep], how = \"inner\", lsuffix=\"prediction\")\n",
    "dfTestComparision.columns = [\"Prediction\", \"Actual\"]\n",
    "\n",
    "plt.figure(figsize = (20,10))\n",
    "oFig = sns.scatterplot(data = dfTestComparision, x = \"Actual\", y =\"Prediction\")\n",
    "oFig.get_figure().savefig(sModelName + '\\closing price scatter.png')"
   ]
  },
  {
   "cell_type": "markdown",
   "id": "7c476245-8cbb-4270-94eb-43883bcd0fe6",
   "metadata": {
    "tags": []
   },
   "source": [
    "## Multi Step Comparision"
   ]
  },
  {
   "cell_type": "raw",
   "id": "a1e334ec-a8b0-4a27-b09f-9f627cee6280",
   "metadata": {},
   "source": [
    "aOutputFeatures = [sOutputSymbol +':close']\n",
    "\n",
    "\n",
    "iNrOfCols = 6\n",
    "iNrOfRows = int(((len(dfActualClose)/iNrOfCols)/iForwardTimeWindow) + 1)\n",
    "oFig, aAxises = plt.subplots(iNrOfRows, iNrOfCols, figsize=(30,80), sharex = True)\n",
    "oFig.tight_layout()\n",
    "    \n",
    "i = 0\n",
    "for iSampleNr in range(0, len(dfActualClose), iForwardTimeWindow):\n",
    "    iFrom = iSampleNr\n",
    "    iTo = iFrom + iForwardTimeWindow\n",
    "\n",
    "    if iTo >= len(dfActualClose):\n",
    "        iTo = len(dfActualClose) \n",
    "    \n",
    "    dfStepComparision = dfActualClose.iloc[iFrom:iTo].loc[:, (slice(None), slice(aOutputFeatures[0]))].loc[:, '0']\n",
    "    \n",
    "    dfStepComparision.columns = [\"Actual\"]\n",
    "\n",
    "    dfStepComparision[\"Prediction\"] = dfPredictionClose.iloc[iFrom].iloc[0:iTo-iFrom].loc[:, aOutputFeatures].values\n",
    "    \n",
    "\n",
    "    sTitleName = str(iFrom) + \"---\" + str(iTo) + \"---\" + str(round(r2_score(dfStepComparision[\"Actual\"], dfStepComparision[\"Prediction\"]),1))\n",
    "\n",
    "    iSampleGraphRow =  int(i/iNrOfCols)\n",
    "    iSampleGraphCol = int(i%iNrOfCols)\n",
    "\n",
    "    dfStepComparision.reset_index(inplace = True)\n",
    "    sns.lineplot(ax =aAxises[iSampleGraphRow,iSampleGraphCol] , data = dfStepComparision, legend = False,  marker = '^').set_title(sTitleName)\n",
    "\n",
    "    i = i + 1\n",
    "\n",
    "oFig.legend(aAxises[0][0].lines, ['actual', 'prediction'], frameon=False, loc='lower center', ncol=2,  bbox_to_anchor=(0.5,-0.01))  \n",
    "oFig.get_figure().savefig(sModelName + '\\closing price multi step.png')"
   ]
  }
 ],
 "metadata": {
  "kernelspec": {
   "display_name": "Python 3",
   "language": "python",
   "name": "python3"
  },
  "language_info": {
   "codemirror_mode": {
    "name": "ipython",
    "version": 3
   },
   "file_extension": ".py",
   "mimetype": "text/x-python",
   "name": "python",
   "nbconvert_exporter": "python",
   "pygments_lexer": "ipython3",
   "version": "3.7.10"
  }
 },
 "nbformat": 4,
 "nbformat_minor": 5
}
