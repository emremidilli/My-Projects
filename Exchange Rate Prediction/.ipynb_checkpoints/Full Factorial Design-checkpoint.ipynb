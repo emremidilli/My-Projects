{
 "cells": [
  {
   "cell_type": "markdown",
   "id": "b8ffaf99-c7a5-4cc1-9cfe-067f38ed346c",
   "metadata": {
    "tags": []
   },
   "source": [
    "# LIBRARIES"
   ]
  },
  {
   "cell_type": "code",
   "execution_count": 10,
   "id": "582693f2-bbfa-4817-b9b5-01b66335fb06",
   "metadata": {},
   "outputs": [],
   "source": [
    "import pandas as pd\n",
    "import numpy as np\n",
    "from doepy import build\n",
    "from sklearn.utils import shuffle\n",
    "import os"
   ]
  },
  {
   "cell_type": "markdown",
   "id": "0434907b-59e0-42cb-9b64-b9677024bc63",
   "metadata": {
    "tags": []
   },
   "source": [
    "# CONFIGURATION"
   ]
  },
  {
   "cell_type": "code",
   "execution_count": 11,
   "id": "abb03bc2-3208-4444-918a-1d23730e5a8a",
   "metadata": {},
   "outputs": [],
   "source": [
    "c_iNrOfReplicate = 4\n",
    "dicFactors = {\n",
    "        'Batch Size':[32, 256],\n",
    "        'Number of Hidden Neurons':[50, 250]\n",
    "    }"
   ]
  },
  {
   "cell_type": "code",
   "execution_count": null,
   "id": "112c4592-7736-4261-92f7-dbb5174f4a3c",
   "metadata": {},
   "outputs": [],
   "source": [
    "sOutputSymbol = 'BTCUSD'\n",
    "sModelType = 'MLP'\n",
    "\n",
    "sFolderPath = 'Data/'+ sOutputSymbol +'//'+ sModelType + '//'"
   ]
  },
  {
   "cell_type": "markdown",
   "id": "2beb7285-0444-4b77-9765-96d4b04b25a9",
   "metadata": {},
   "source": [
    "# FULL FACTORIAL DESIGN"
   ]
  },
  {
   "cell_type": "code",
   "execution_count": 12,
   "id": "713f0e03-2ab7-40be-bfa7-996161234bc8",
   "metadata": {},
   "outputs": [],
   "source": [
    "dfDesign = pd.DataFrame()\n",
    "for i in range(1, c_iNrOfReplicate+1):\n",
    "    dfDesign = dfDesign.append(build.full_fact(dicFactors).astype(np.int))\n",
    "\n",
    "dfDesign = shuffle(dfDesign)\n",
    "dfDesign = dfDesign.reset_index().drop(['index'], axis = 1)\n",
    "\n",
    "\n",
    "sDesignFolder = sFolderPath + '\\\\Full Factorial Design\\\\'\n",
    "os.makedirs(sDesignFolder, exist_ok = True)\n",
    "dfDesign.to_csv(sDesignFolder + 'Design.csv', index=True, index_label='Run ID')"
   ]
  }
 ],
 "metadata": {
  "kernelspec": {
   "display_name": "Python 3",
   "language": "python",
   "name": "python3"
  },
  "language_info": {
   "codemirror_mode": {
    "name": "ipython",
    "version": 3
   },
   "file_extension": ".py",
   "mimetype": "text/x-python",
   "name": "python",
   "nbconvert_exporter": "python",
   "pygments_lexer": "ipython3",
   "version": "3.7.10"
  }
 },
 "nbformat": 4,
 "nbformat_minor": 5
}
