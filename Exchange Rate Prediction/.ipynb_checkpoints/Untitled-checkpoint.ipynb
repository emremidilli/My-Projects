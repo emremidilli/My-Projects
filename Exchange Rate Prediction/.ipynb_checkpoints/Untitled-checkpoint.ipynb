{
 "cells": [
  {
   "cell_type": "code",
   "execution_count": 56,
   "id": "3c9b83c1-1a35-4c95-97c1-4ecf54c46c42",
   "metadata": {},
   "outputs": [],
   "source": [
    "import pandas as pd\n",
    "\n",
    "import numpy as np\n",
    "\n",
    "import os\n",
    "\n",
    "from sklearn.linear_model import LinearRegression"
   ]
  },
  {
   "cell_type": "markdown",
   "id": "c059be28-bb6f-4590-804a-16513a1b73cc",
   "metadata": {},
   "source": [
    "# CONFIGURATION "
   ]
  },
  {
   "cell_type": "code",
   "execution_count": 57,
   "id": "0e981675-be88-4b50-86f3-e032a4ebf3b0",
   "metadata": {},
   "outputs": [],
   "source": [
    "sOutputSymbol = 'BTCUSD'\n",
    "sModelType = 'MLP'"
   ]
  },
  {
   "cell_type": "code",
   "execution_count": 58,
   "id": "3c975339-d512-4f32-8cb3-a17c100a47c5",
   "metadata": {},
   "outputs": [],
   "source": [
    "sFolderPath = 'Data/'+ sOutputSymbol +'//'+ sModelType + '//'\n",
    "dfFullFactorialExperiments = pd.read_csv( sFolderPath + 'Full Factorial Design//Experiments.csv', index_col = 'Run ID')\n",
    "\n",
    "iNumberOfIteration = 10"
   ]
  },
  {
   "cell_type": "markdown",
   "id": "3c2a9283-812f-4dd0-aad1-2c972f3d39f8",
   "metadata": {},
   "source": [
    "# STEEPEST DESCENT"
   ]
  },
  {
   "cell_type": "code",
   "execution_count": 59,
   "id": "d1e5c6f1-cff2-481a-846c-283de08c5c79",
   "metadata": {},
   "outputs": [],
   "source": [
    "dfFactors = dfFullFactorialExperiments.iloc[:, :-1]\n",
    "dfResponse = dfFullFactorialExperiments['Response']"
   ]
  },
  {
   "cell_type": "markdown",
   "id": "9837ef4e-3750-48bf-abf8-9a771dbbfe32",
   "metadata": {},
   "source": [
    "## Fit Linear Regression"
   ]
  },
  {
   "cell_type": "code",
   "execution_count": 60,
   "id": "49bc484b-dad9-4d6c-ab94-b967843cfe2b",
   "metadata": {},
   "outputs": [
    {
     "data": {
      "text/plain": [
       "LinearRegression()"
      ]
     },
     "execution_count": 60,
     "metadata": {},
     "output_type": "execute_result"
    }
   ],
   "source": [
    "oLinearRegression  = LinearRegression()\n",
    "oLinearRegression.fit(dfFactors, dfResponse)"
   ]
  },
  {
   "cell_type": "markdown",
   "id": "7c7d3f74-43bb-4c51-8721-582c6cb7dd87",
   "metadata": {},
   "source": [
    "## Set New Experiments"
   ]
  },
  {
   "cell_type": "code",
   "execution_count": 61,
   "id": "05cc553e-9139-415a-bd8c-81fc56464002",
   "metadata": {},
   "outputs": [],
   "source": [
    "aRatiosToDecrease = ((oLinearRegression.coef_)/(oLinearRegression.coef_[0]))*-1 #first factor is used as base factor\n",
    "\n",
    "aCenterValues = np.array((dfFactors.max()+dfFactors.min())/2)\n",
    "aIterations = range(0, iNumberOfIteration)\n",
    "\n",
    "aNewDesign = aCenterValues + (np.array(np.add(aIterations, 1)).reshape(-1, 1) * aRatiosToDecrease)\n",
    "aNewDesign = aNewDesign.astype(np.int)\n",
    "\n",
    "dfNewDesign =pd.DataFrame(\n",
    "    data = aNewDesign,\n",
    "    columns = dfFactors.columns,\n",
    "    index = aIterations\n",
    ")\n",
    "\n",
    "ixExperimetnsLessThan10 = dfNewDesign[(dfNewDesign < 10).any(axis= 1)].index\n",
    "dfNewDesign.loc[ixExperimetnsLessThan10]\n",
    "dfNewDesign.drop(ixExperimetnsLessThan10, axis = 0 , inplace = True)\n",
    "\n",
    "# sDesignFolder = sFolderPath + '//Steepest Descent//'\n",
    "# os.makedirs(sDesignFolder, exist_ok = True)\n",
    "# dfNewDesign.to_csv(sDesignFolder +'Design.csv', index=True, index_label='Run ID')"
   ]
  }
 ],
 "metadata": {
  "kernelspec": {
   "display_name": "Python 3",
   "language": "python",
   "name": "python3"
  },
  "language_info": {
   "codemirror_mode": {
    "name": "ipython",
    "version": 3
   },
   "file_extension": ".py",
   "mimetype": "text/x-python",
   "name": "python",
   "nbconvert_exporter": "python",
   "pygments_lexer": "ipython3",
   "version": "3.7.10"
  }
 },
 "nbformat": 4,
 "nbformat_minor": 5
}
