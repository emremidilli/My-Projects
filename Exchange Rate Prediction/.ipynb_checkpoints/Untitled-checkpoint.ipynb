{
 "cells": [
  {
   "cell_type": "code",
   "execution_count": 1,
   "id": "6a616103-8691-4859-bb4d-3437e236c596",
   "metadata": {},
   "outputs": [],
   "source": [
    "import pandas as pd\n",
    "import numpy as np\n",
    "from doepy import build\n",
    "import os\n",
    "\n",
    "from sklearn.utils import shuffle\n",
    "from sklearn.linear_model import LinearRegression\n",
    "from sklearn.preprocessing import PolynomialFeatures\n",
    "from sklearn.preprocessing import MinMaxScaler\n",
    "\n",
    "import itertools\n",
    "\n",
    "import matplotlib.pyplot as plt\n",
    "from matplotlib import cm"
   ]
  },
  {
   "cell_type": "code",
   "execution_count": 2,
   "id": "e3f558ac-c019-48bc-917e-9e7de2149c11",
   "metadata": {},
   "outputs": [],
   "source": [
    "sOutputSymbol = 'RPLUSD'\n",
    "sModelType  = 'MLP'"
   ]
  },
  {
   "cell_type": "code",
   "execution_count": 3,
   "id": "8948aba8-68e6-4ac4-92b1-193f3ab679c8",
   "metadata": {},
   "outputs": [],
   "source": [
    "# CONFIGURATION\n",
    "sFolderPath = 'Data/'+ sOutputSymbol +'//'+ sModelType + '//'"
   ]
  },
  {
   "cell_type": "code",
   "execution_count": 4,
   "id": "b8185117-b8c2-46ce-b56e-3cc4e3317064",
   "metadata": {},
   "outputs": [],
   "source": [
    "# FIND STEP SIZES\n",
    "dfFullFactorialDesign = pd.read_csv( sFolderPath + 'Full Factorial Design//Design.csv', index_col = 'Run ID')\n",
    "aStepSizes = np.array((dfFullFactorialDesign .max()-dfFullFactorialDesign.min())/2).astype(int)"
   ]
  },
  {
   "cell_type": "code",
   "execution_count": 5,
   "id": "e794373c-660b-4d2c-ac88-b123f8ed0656",
   "metadata": {},
   "outputs": [],
   "source": [
    "# FIND CURVATURE\n",
    "dfSteepestDescentExperiments = pd.read_csv( sFolderPath + '\\Steepest Descent\\Experiments.csv', index_col = 'Run ID')\n",
    "dfFirstCurvature = dfSteepestDescentExperiments.iloc[-2, :-1]"
   ]
  },
  {
   "cell_type": "code",
   "execution_count": null,
   "id": "d10f1f27-50c1-4104-8695-578f52c1cffc",
   "metadata": {},
   "outputs": [],
   "source": [
    "# CENTRAL COMPOSITE DESIGN\n",
    "\n",
    "dfUpperLevel = (dfFirstCurvature  + aStepSizes).to_frame().transpose()\n",
    "dfLowerLevel = (dfFirstCurvature  - aStepSizes).to_frame().transpose()\n",
    "dfNewFactors = dfLowerLevel.append(dfUpperLevel)\n",
    "dfNewFactors.reset_index(drop = True, inplace = True)\n",
    "\n",
    "dicFactors = {}\n",
    "\n",
    "for sFactor in dfNewFactors.columns:\n",
    "    dicFactors[sFactor] = list(dfNewFactors[sFactor].values)\n",
    "\n",
    "dfDesign = build.central_composite(dicFactors, face='cci').astype(np.int)\n",
    "\n",
    "dfDesign = dfDesign.reset_index().drop(['index'], axis = 1)\n",
    "\n",
    "sDesignFolder = sFolderPath + '\\\\Central Composite Design\\\\'\n",
    "os.makedirs(sDesignFolder, exist_ok = True)\n",
    "dfDesign.to_csv(sDesignFolder + 'Design.csv', index=True, index_label='Run ID')"
   ]
  }
 ],
 "metadata": {
  "kernelspec": {
   "display_name": "Python 3",
   "language": "python",
   "name": "python3"
  },
  "language_info": {
   "codemirror_mode": {
    "name": "ipython",
    "version": 3
   },
   "file_extension": ".py",
   "mimetype": "text/x-python",
   "name": "python",
   "nbconvert_exporter": "python",
   "pygments_lexer": "ipython3",
   "version": "3.7.10"
  }
 },
 "nbformat": 4,
 "nbformat_minor": 5
}
