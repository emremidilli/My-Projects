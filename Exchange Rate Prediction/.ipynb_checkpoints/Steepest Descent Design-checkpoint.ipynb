{
 "cells": [
  {
   "cell_type": "markdown",
   "id": "b504de0f-378b-43a9-a600-c4e7e59df64d",
   "metadata": {
    "tags": []
   },
   "source": [
    "# LIBRARIES"
   ]
  },
  {
   "cell_type": "code",
   "execution_count": 29,
   "id": "3ce74610-d557-4aa1-905e-6fa83381fe53",
   "metadata": {},
   "outputs": [],
   "source": [
    "import pandas as pd\n",
    "\n",
    "import numpy as np\n",
    "\n",
    "import os\n",
    "\n",
    "from sklearn.linear_model import LinearRegression"
   ]
  },
  {
   "cell_type": "markdown",
   "id": "dfa75439-e669-4d02-9931-9b61f5313835",
   "metadata": {
    "tags": []
   },
   "source": [
    "# CONFIGURATION"
   ]
  },
  {
   "cell_type": "code",
   "execution_count": 30,
   "id": "ead0c349-732d-4f3a-9582-1fc510964eab",
   "metadata": {},
   "outputs": [],
   "source": [
    "sOutputSymbol = 'BTCUSD'\n",
    "sModelType = 'MLP'\n",
    "\n",
    "sFolderPath = 'Data/'+ sOutputSymbol +'//'+ sModelType + '//'\n",
    "dfFullFactorialExperiments = pd.read_csv( sFolderPath + 'Full Factorial Design//Experiments.csv', index_col = 'Run ID')"
   ]
  },
  {
   "cell_type": "code",
   "execution_count": 31,
   "id": "d26aa988-b98e-4ae1-a365-3930cced0858",
   "metadata": {},
   "outputs": [],
   "source": [
    "iNumberOfIteration = 10\n",
    "fDelta = 0.1"
   ]
  },
  {
   "cell_type": "markdown",
   "id": "20236752-b6fc-40dd-8b96-a9c947dea68f",
   "metadata": {
    "tags": []
   },
   "source": [
    "# STEEPEST DESCENT"
   ]
  },
  {
   "cell_type": "code",
   "execution_count": 32,
   "id": "f774abf8-b145-4168-be4f-e34e75d2cf37",
   "metadata": {},
   "outputs": [],
   "source": [
    "dfFactors = dfFullFactorialExperiments.iloc[:, :-1]\n",
    "dfResponse = dfFullFactorialExperiments['Response']\n",
    "iMaxRunId = dfFullFactorialExperiments.index.max()"
   ]
  },
  {
   "cell_type": "markdown",
   "id": "1bba65e3-5f5d-4492-b9fc-7ee3fd3c4543",
   "metadata": {
    "tags": []
   },
   "source": [
    "## Fit Linear Regression Model"
   ]
  },
  {
   "cell_type": "code",
   "execution_count": 33,
   "id": "27fb6995-be94-4454-b6d7-1f63380196d0",
   "metadata": {},
   "outputs": [
    {
     "data": {
      "text/plain": [
       "LinearRegression()"
      ]
     },
     "execution_count": 33,
     "metadata": {},
     "output_type": "execute_result"
    }
   ],
   "source": [
    "oLinearRegression  = LinearRegression()\n",
    "oLinearRegression.fit(dfFactors, dfResponse)"
   ]
  },
  {
   "cell_type": "markdown",
   "id": "3429be04-7b1c-443b-aafe-49639c7fac5d",
   "metadata": {
    "tags": []
   },
   "source": [
    "## Coefficient of Determination"
   ]
  },
  {
   "cell_type": "code",
   "execution_count": 34,
   "id": "11155e08-63ab-41ce-b2b1-eb512e24c030",
   "metadata": {},
   "outputs": [
    {
     "data": {
      "text/plain": [
       "0.7299305810392182"
      ]
     },
     "execution_count": 34,
     "metadata": {},
     "output_type": "execute_result"
    }
   ],
   "source": [
    "oLinearRegression.score(dfFactors, dfResponse)"
   ]
  },
  {
   "cell_type": "markdown",
   "id": "92a0441c-f54d-4823-ae3a-b77ce8c089c0",
   "metadata": {
    "tags": []
   },
   "source": [
    "## Equation"
   ]
  },
  {
   "cell_type": "code",
   "execution_count": 35,
   "id": "6cbf9b8c-6716-417a-9f52-96101a0c856f",
   "metadata": {},
   "outputs": [
    {
     "data": {
      "text/plain": [
       "array([ 124.62818062, 2420.01582436])"
      ]
     },
     "execution_count": 35,
     "metadata": {},
     "output_type": "execute_result"
    }
   ],
   "source": [
    "oLinearRegression.coef_"
   ]
  },
  {
   "cell_type": "code",
   "execution_count": 36,
   "id": "8222c6ed-f1ad-41bd-ad6e-e54750e409ec",
   "metadata": {},
   "outputs": [
    {
     "data": {
      "text/plain": [
       "433838.2628621337"
      ]
     },
     "execution_count": 36,
     "metadata": {},
     "output_type": "execute_result"
    }
   ],
   "source": [
    "oLinearRegression.intercept_"
   ]
  },
  {
   "cell_type": "markdown",
   "id": "1a5c3dae-4803-44ce-a7b4-312c28182ae1",
   "metadata": {
    "tags": []
   },
   "source": [
    "## Set New Experiments"
   ]
  },
  {
   "cell_type": "code",
   "execution_count": 37,
   "id": "31d4560b-9e6c-49fe-aa6f-57e0d0039127",
   "metadata": {},
   "outputs": [],
   "source": [
    "aRatiosToDecrease = ((oLinearRegression.coef_)/(oLinearRegression.coef_[0]))*-1 #first factor is used as base factor\n",
    "aRatiosToDecrease = aRatiosToDecrease[0] * fDelta\n",
    "\n",
    "aCenterValues = np.array((dfFactors.max()+dfFactors.min())/2)\n",
    "aIterations = range(0, iNumberOfIteration)\n",
    "aNewDesign = aCenterValues + (np.array(np.add(aIterations, 1)).reshape(-1, 1) * aRatiosToDecrease * aCenterValues)\n",
    "aNewDesign = aNewDesign.astype(np.int)\n",
    "\n",
    "dfNewDesign =pd.DataFrame(\n",
    "    data = aNewDesign,\n",
    "    columns = dfFactors.columns,\n",
    "    index = aIterations\n",
    ")\n",
    "ixExperimetnsLessThan10 = dfNewDesign[(dfNewDesign < 10).any(axis= 1)].index\n",
    "dfNewDesign.loc[ixExperimetnsLessThan10]\n",
    "dfNewDesign.drop(ixExperimetnsLessThan10, axis = 0 , inplace = True)\n",
    "\n",
    "sDesignFolder = sFolderPath + '//Steepest Descent//'\n",
    "os.makedirs(sDesignFolder, exist_ok = True)\n",
    "dfNewDesign.to_csv(sDesignFolder +'Design.csv', index=True, index_label='Run ID')"
   ]
  }
 ],
 "metadata": {
  "kernelspec": {
   "display_name": "Python 3",
   "language": "python",
   "name": "python3"
  },
  "language_info": {
   "codemirror_mode": {
    "name": "ipython",
    "version": 3
   },
   "file_extension": ".py",
   "mimetype": "text/x-python",
   "name": "python",
   "nbconvert_exporter": "python",
   "pygments_lexer": "ipython3",
   "version": "3.7.10"
  }
 },
 "nbformat": 4,
 "nbformat_minor": 5
}
