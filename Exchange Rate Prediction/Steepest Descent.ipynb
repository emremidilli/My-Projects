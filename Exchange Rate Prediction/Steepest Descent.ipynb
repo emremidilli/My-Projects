{
 "cells": [
  {
   "cell_type": "markdown",
   "id": "b504de0f-378b-43a9-a600-c4e7e59df64d",
   "metadata": {
    "jp-MarkdownHeadingCollapsed": true,
    "tags": []
   },
   "source": [
    "# LIBRARIES"
   ]
  },
  {
   "cell_type": "code",
   "execution_count": 168,
   "id": "3ce74610-d557-4aa1-905e-6fa83381fe53",
   "metadata": {},
   "outputs": [],
   "source": [
    "import pandas as pd\n",
    "\n",
    "import numpy as np\n",
    "\n",
    "import os\n",
    "\n",
    "from sklearn.linear_model import LinearRegression"
   ]
  },
  {
   "cell_type": "markdown",
   "id": "dfa75439-e669-4d02-9931-9b61f5313835",
   "metadata": {
    "jp-MarkdownHeadingCollapsed": true,
    "tags": []
   },
   "source": [
    "# CONFIGURATION"
   ]
  },
  {
   "cell_type": "code",
   "execution_count": 169,
   "id": "ead0c349-732d-4f3a-9582-1fc510964eab",
   "metadata": {},
   "outputs": [],
   "source": [
    "sOutputSymbol = 'BTCUSD'\n",
    "sModelType = 'MLP'\n",
    "\n",
    "dfDesign = pd.read_csv('Data\\Design_'+ sOutputSymbol +'_'+ sModelType +'.csv', index_col = 'RunOrder')"
   ]
  },
  {
   "cell_type": "code",
   "execution_count": 170,
   "id": "d26aa988-b98e-4ae1-a365-3930cced0858",
   "metadata": {},
   "outputs": [],
   "source": [
    "iNumberOfIteration = 8\n",
    "fDelta = 0.1"
   ]
  },
  {
   "cell_type": "markdown",
   "id": "20236752-b6fc-40dd-8b96-a9c947dea68f",
   "metadata": {
    "jp-MarkdownHeadingCollapsed": true,
    "tags": []
   },
   "source": [
    "# STEEPEST DESCENT"
   ]
  },
  {
   "cell_type": "code",
   "execution_count": 171,
   "id": "f774abf8-b145-4168-be4f-e34e75d2cf37",
   "metadata": {},
   "outputs": [],
   "source": [
    "dfFactors = dfDesign[['Batch Size', 'Number of Hidden Neurons']]\n",
    "dfResponse = dfDesign['Response'].to_frame()\n",
    "iMaximumTrails = dfDesign.index.max()"
   ]
  },
  {
   "cell_type": "markdown",
   "id": "1bba65e3-5f5d-4492-b9fc-7ee3fd3c4543",
   "metadata": {
    "jp-MarkdownHeadingCollapsed": true,
    "tags": []
   },
   "source": [
    "## Fit Linear Regression Model"
   ]
  },
  {
   "cell_type": "code",
   "execution_count": 172,
   "id": "27fb6995-be94-4454-b6d7-1f63380196d0",
   "metadata": {},
   "outputs": [
    {
     "data": {
      "text/plain": [
       "LinearRegression()"
      ]
     },
     "execution_count": 172,
     "metadata": {},
     "output_type": "execute_result"
    }
   ],
   "source": [
    "oLinearRegression  = LinearRegression()\n",
    "oLinearRegression.fit(dfFactors, dfResponse)"
   ]
  },
  {
   "cell_type": "markdown",
   "id": "3429be04-7b1c-443b-aafe-49639c7fac5d",
   "metadata": {
    "jp-MarkdownHeadingCollapsed": true,
    "tags": []
   },
   "source": [
    "## Coefficient of Determination"
   ]
  },
  {
   "cell_type": "code",
   "execution_count": 173,
   "id": "11155e08-63ab-41ce-b2b1-eb512e24c030",
   "metadata": {},
   "outputs": [
    {
     "data": {
      "text/plain": [
       "0.2682917502795865"
      ]
     },
     "execution_count": 173,
     "metadata": {},
     "output_type": "execute_result"
    }
   ],
   "source": [
    "oLinearRegression.score(dfFactors, dfResponse)"
   ]
  },
  {
   "cell_type": "markdown",
   "id": "92a0441c-f54d-4823-ae3a-b77ce8c089c0",
   "metadata": {
    "jp-MarkdownHeadingCollapsed": true,
    "tags": []
   },
   "source": [
    "## Equation"
   ]
  },
  {
   "cell_type": "code",
   "execution_count": 181,
   "id": "6cbf9b8c-6716-417a-9f52-96101a0c856f",
   "metadata": {},
   "outputs": [
    {
     "data": {
      "text/plain": [
       "array([[4109.88158092, 6333.47471504]])"
      ]
     },
     "execution_count": 181,
     "metadata": {},
     "output_type": "execute_result"
    }
   ],
   "source": [
    "oLinearRegression.coef_"
   ]
  },
  {
   "cell_type": "code",
   "execution_count": 182,
   "id": "8222c6ed-f1ad-41bd-ad6e-e54750e409ec",
   "metadata": {},
   "outputs": [
    {
     "data": {
      "text/plain": [
       "array([454054.96466098])"
      ]
     },
     "execution_count": 182,
     "metadata": {},
     "output_type": "execute_result"
    }
   ],
   "source": [
    "oLinearRegression.intercept_"
   ]
  },
  {
   "cell_type": "markdown",
   "id": "1a5c3dae-4803-44ce-a7b4-312c28182ae1",
   "metadata": {
    "jp-MarkdownHeadingCollapsed": true,
    "tags": []
   },
   "source": [
    "## Set New Experiments"
   ]
  },
  {
   "cell_type": "code",
   "execution_count": 174,
   "id": "6927f5a4-245c-42f1-bac4-662939ca0fe5",
   "metadata": {},
   "outputs": [],
   "source": [
    "aRatiosToDecrease = ((oLinearRegression.coef_)/(oLinearRegression.coef_[0][0]))*-1 #first factor is used as base factor\n",
    "aRatiosToDecrease = aRatiosToDecrease[0] * fDelta"
   ]
  },
  {
   "cell_type": "code",
   "execution_count": 175,
   "id": "3479e188-fd24-4ef1-a98b-fd8db88c8d9e",
   "metadata": {},
   "outputs": [],
   "source": [
    "aCenterValues = np.array((dfFactors.max()+dfFactors.min())/2)\n",
    "aIterations = range(1, iNumberOfIteration + 1)\n",
    "aNewExperiments = aCenterValues + (np.array(aIterations).reshape(-1, 1) * aRatiosToDecrease * aCenterValues)\n",
    "aNewExperiments = aNewExperiments.astype(np.int)"
   ]
  },
  {
   "cell_type": "code",
   "execution_count": 176,
   "id": "31d4560b-9e6c-49fe-aa6f-57e0d0039127",
   "metadata": {},
   "outputs": [
    {
     "data": {
      "text/html": [
       "<div>\n",
       "<style scoped>\n",
       "    .dataframe tbody tr th:only-of-type {\n",
       "        vertical-align: middle;\n",
       "    }\n",
       "\n",
       "    .dataframe tbody tr th {\n",
       "        vertical-align: top;\n",
       "    }\n",
       "\n",
       "    .dataframe thead th {\n",
       "        text-align: right;\n",
       "    }\n",
       "</style>\n",
       "<table border=\"1\" class=\"dataframe\">\n",
       "  <thead>\n",
       "    <tr style=\"text-align: right;\">\n",
       "      <th></th>\n",
       "      <th>Batch Size</th>\n",
       "      <th>Number of Hidden Neurons</th>\n",
       "    </tr>\n",
       "  </thead>\n",
       "  <tbody>\n",
       "    <tr>\n",
       "      <th>31</th>\n",
       "      <td>129</td>\n",
       "      <td>121</td>\n",
       "    </tr>\n",
       "    <tr>\n",
       "      <th>32</th>\n",
       "      <td>115</td>\n",
       "      <td>99</td>\n",
       "    </tr>\n",
       "    <tr>\n",
       "      <th>33</th>\n",
       "      <td>100</td>\n",
       "      <td>77</td>\n",
       "    </tr>\n",
       "    <tr>\n",
       "      <th>34</th>\n",
       "      <td>86</td>\n",
       "      <td>55</td>\n",
       "    </tr>\n",
       "    <tr>\n",
       "      <th>35</th>\n",
       "      <td>72</td>\n",
       "      <td>33</td>\n",
       "    </tr>\n",
       "    <tr>\n",
       "      <th>36</th>\n",
       "      <td>57</td>\n",
       "      <td>10</td>\n",
       "    </tr>\n",
       "    <tr>\n",
       "      <th>37</th>\n",
       "      <td>43</td>\n",
       "      <td>-11</td>\n",
       "    </tr>\n",
       "    <tr>\n",
       "      <th>38</th>\n",
       "      <td>28</td>\n",
       "      <td>-33</td>\n",
       "    </tr>\n",
       "  </tbody>\n",
       "</table>\n",
       "</div>"
      ],
      "text/plain": [
       "    Batch Size  Number of Hidden Neurons\n",
       "31         129                       121\n",
       "32         115                        99\n",
       "33         100                        77\n",
       "34          86                        55\n",
       "35          72                        33\n",
       "36          57                        10\n",
       "37          43                       -11\n",
       "38          28                       -33"
      ]
     },
     "execution_count": 176,
     "metadata": {},
     "output_type": "execute_result"
    }
   ],
   "source": [
    "dfNewExperiments =pd.DataFrame(\n",
    "    data = aNewExperiments,\n",
    "    columns = dfFactors.columns,\n",
    "    index = iMaximumTrails + aIterations\n",
    ")\n",
    "dfNewExperiments"
   ]
  },
  {
   "cell_type": "markdown",
   "id": "bd83334e-766d-49e9-b7d4-e00bc7357033",
   "metadata": {
    "jp-MarkdownHeadingCollapsed": true,
    "tags": []
   },
   "source": [
    "## Drop Experiments Less Than 10"
   ]
  },
  {
   "cell_type": "code",
   "execution_count": 177,
   "id": "03865b1d-8e79-4fd2-b962-082cb47edcfb",
   "metadata": {},
   "outputs": [
    {
     "data": {
      "text/html": [
       "<div>\n",
       "<style scoped>\n",
       "    .dataframe tbody tr th:only-of-type {\n",
       "        vertical-align: middle;\n",
       "    }\n",
       "\n",
       "    .dataframe tbody tr th {\n",
       "        vertical-align: top;\n",
       "    }\n",
       "\n",
       "    .dataframe thead th {\n",
       "        text-align: right;\n",
       "    }\n",
       "</style>\n",
       "<table border=\"1\" class=\"dataframe\">\n",
       "  <thead>\n",
       "    <tr style=\"text-align: right;\">\n",
       "      <th></th>\n",
       "      <th>Batch Size</th>\n",
       "      <th>Number of Hidden Neurons</th>\n",
       "    </tr>\n",
       "  </thead>\n",
       "  <tbody>\n",
       "    <tr>\n",
       "      <th>37</th>\n",
       "      <td>43</td>\n",
       "      <td>-11</td>\n",
       "    </tr>\n",
       "    <tr>\n",
       "      <th>38</th>\n",
       "      <td>28</td>\n",
       "      <td>-33</td>\n",
       "    </tr>\n",
       "  </tbody>\n",
       "</table>\n",
       "</div>"
      ],
      "text/plain": [
       "    Batch Size  Number of Hidden Neurons\n",
       "37          43                       -11\n",
       "38          28                       -33"
      ]
     },
     "execution_count": 177,
     "metadata": {},
     "output_type": "execute_result"
    }
   ],
   "source": [
    "ixExperimetnsLessThan10 = dfNewExperiments[(dfNewExperiments < 10).any(axis= 1)].index\n",
    "dfNewExperiments.loc[ixExperimetnsLessThan10]"
   ]
  },
  {
   "cell_type": "code",
   "execution_count": 178,
   "id": "5797398f-4995-4e3e-abe2-51df25ec5c65",
   "metadata": {},
   "outputs": [],
   "source": [
    "dfNewExperiments.drop(ixExperimetnsLessThan10, axis = 0 , inplace = True)"
   ]
  },
  {
   "cell_type": "markdown",
   "id": "b68a5ccd-20a7-4583-96ab-7ce82cf96c86",
   "metadata": {
    "jp-MarkdownHeadingCollapsed": true,
    "tags": []
   },
   "source": [
    "## Save New Experiments"
   ]
  },
  {
   "cell_type": "code",
   "execution_count": 179,
   "id": "6147db17-5a42-47df-90ac-7c93b3afb4dd",
   "metadata": {},
   "outputs": [],
   "source": [
    "dfNewExperiments.to_csv('Data\\Steepest Descent_'+ sOutputSymbol +'_'+ sModelType +'.csv')"
   ]
  },
  {
   "cell_type": "code",
   "execution_count": 180,
   "id": "d6e75a4a-6c83-4894-93fc-bfe80f773b83",
   "metadata": {},
   "outputs": [
    {
     "data": {
      "text/html": [
       "<div>\n",
       "<style scoped>\n",
       "    .dataframe tbody tr th:only-of-type {\n",
       "        vertical-align: middle;\n",
       "    }\n",
       "\n",
       "    .dataframe tbody tr th {\n",
       "        vertical-align: top;\n",
       "    }\n",
       "\n",
       "    .dataframe thead th {\n",
       "        text-align: right;\n",
       "    }\n",
       "</style>\n",
       "<table border=\"1\" class=\"dataframe\">\n",
       "  <thead>\n",
       "    <tr style=\"text-align: right;\">\n",
       "      <th></th>\n",
       "      <th>Batch Size</th>\n",
       "      <th>Number of Hidden Neurons</th>\n",
       "    </tr>\n",
       "  </thead>\n",
       "  <tbody>\n",
       "    <tr>\n",
       "      <th>31</th>\n",
       "      <td>129</td>\n",
       "      <td>121</td>\n",
       "    </tr>\n",
       "    <tr>\n",
       "      <th>32</th>\n",
       "      <td>115</td>\n",
       "      <td>99</td>\n",
       "    </tr>\n",
       "    <tr>\n",
       "      <th>33</th>\n",
       "      <td>100</td>\n",
       "      <td>77</td>\n",
       "    </tr>\n",
       "    <tr>\n",
       "      <th>34</th>\n",
       "      <td>86</td>\n",
       "      <td>55</td>\n",
       "    </tr>\n",
       "    <tr>\n",
       "      <th>35</th>\n",
       "      <td>72</td>\n",
       "      <td>33</td>\n",
       "    </tr>\n",
       "    <tr>\n",
       "      <th>36</th>\n",
       "      <td>57</td>\n",
       "      <td>10</td>\n",
       "    </tr>\n",
       "  </tbody>\n",
       "</table>\n",
       "</div>"
      ],
      "text/plain": [
       "    Batch Size  Number of Hidden Neurons\n",
       "31         129                       121\n",
       "32         115                        99\n",
       "33         100                        77\n",
       "34          86                        55\n",
       "35          72                        33\n",
       "36          57                        10"
      ]
     },
     "execution_count": 180,
     "metadata": {},
     "output_type": "execute_result"
    }
   ],
   "source": [
    "dfNewExperiments"
   ]
  }
 ],
 "metadata": {
  "kernelspec": {
   "display_name": "Python 3",
   "language": "python",
   "name": "python3"
  },
  "language_info": {
   "codemirror_mode": {
    "name": "ipython",
    "version": 3
   },
   "file_extension": ".py",
   "mimetype": "text/x-python",
   "name": "python",
   "nbconvert_exporter": "python",
   "pygments_lexer": "ipython3",
   "version": "3.7.10"
  }
 },
 "nbformat": 4,
 "nbformat_minor": 5
}
