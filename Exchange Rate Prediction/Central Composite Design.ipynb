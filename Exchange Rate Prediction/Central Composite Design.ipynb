{
 "cells": [
  {
   "cell_type": "markdown",
   "id": "6308badc-e943-4cec-b2d7-a822cedd9595",
   "metadata": {},
   "source": [
    "# LIBRARIES"
   ]
  },
  {
   "cell_type": "code",
   "execution_count": 1,
   "id": "0308bfbc-2710-4730-9831-c03e7511f528",
   "metadata": {},
   "outputs": [],
   "source": [
    "import pandas as pd\n",
    "import numpy as np\n",
    "from doepy import build\n",
    "import os"
   ]
  },
  {
   "cell_type": "markdown",
   "id": "57ddaaba-2ca0-4afa-9cc3-7152e78b71da",
   "metadata": {},
   "source": [
    "# CONFIGURATION"
   ]
  },
  {
   "cell_type": "code",
   "execution_count": 3,
   "id": "6de3e291-ccf6-473d-811d-136241a96a39",
   "metadata": {},
   "outputs": [],
   "source": [
    "sOutputSymbol = 'BTCUSD'\n",
    "sModelType = 'MLP'\n",
    "\n",
    "sFolderPath = 'Data/'+ sOutputSymbol +'//'+ sModelType + '//'"
   ]
  },
  {
   "cell_type": "code",
   "execution_count": 30,
   "id": "b3342bbe-78b5-4f3b-ae45-759ae63812bd",
   "metadata": {},
   "outputs": [],
   "source": [
    "fDelta = 0.1"
   ]
  },
  {
   "cell_type": "markdown",
   "id": "014f7e8e-c809-4d55-92aa-fa0f46f10d38",
   "metadata": {},
   "source": [
    "# FIND CURVATURE"
   ]
  },
  {
   "cell_type": "code",
   "execution_count": 11,
   "id": "cfee899c-00cd-4a65-a89c-f5d3479ede62",
   "metadata": {},
   "outputs": [],
   "source": [
    "dfSteepestDescentExperiments = pd.read_csv( sFolderPath + '\\Steepest Descent\\Experiments.csv', index_col = 'Run ID')\n",
    "dfFirstCurvature = dfSteepestDescentExperiments[dfSteepestDescentExperiments['Response'].diff() < 0].head(1)"
   ]
  },
  {
   "cell_type": "code",
   "execution_count": 32,
   "id": "f49f9625-4f3b-4111-84a3-b8092789979a",
   "metadata": {},
   "outputs": [],
   "source": [
    "iBatchSizeCenter = dfFirstCurvature.loc[:, 'Batch Size'].iloc[0]\n",
    "iBatchSizeLower  = int(iBatchSizeCenter - (iBatchSizeCenter * fDelta))\n",
    "iBatchSizeUpper  = int(iBatchSizeCenter + (iBatchSizeCenter * fDelta))\n",
    "\n",
    "iNumberOfHiddenNeuronsCenter = dfFirstCurvature.loc[:, 'Number of Hidden Neurons'].iloc[0]\n",
    "iNumberOfHiddenNeuronsLower  = int(iNumberOfHiddenNeuronsCenter - (iNumberOfHiddenNeuronsCenter * fDelta))\n",
    "iNumberOfHiddenNeuronsUpper  = int(iNumberOfHiddenNeuronsCenter + (iNumberOfHiddenNeuronsCenter * fDelta))"
   ]
  },
  {
   "cell_type": "markdown",
   "id": "e2322f4d-c301-403b-90e2-e5dcb3f0b3ee",
   "metadata": {},
   "source": [
    "# CENTRAL COMPOSITE DESIGN"
   ]
  },
  {
   "cell_type": "code",
   "execution_count": 35,
   "id": "e8c3566a-1e8b-4472-8958-7afe2da09cf8",
   "metadata": {},
   "outputs": [],
   "source": [
    "dicFactors = {\n",
    "        'Batch Size':[iBatchSizeLower,iBatchSizeUpper ],\n",
    "        'Number of Hidden Neurons':[iNumberOfHiddenNeuronsLower,iNumberOfHiddenNeuronsUpper ]\n",
    "    }\n",
    "\n",
    "dfDesign = build.central_composite(dicFactors, face='cci').astype(np.int)\n",
    "\n",
    "dfDesign = dfDesign.reset_index().drop(['index'], axis = 1)\n",
    "\n",
    "sDesignFolder = sFolderPath + '\\\\Central Composite Design\\\\'\n",
    "os.makedirs(sDesignFolder, exist_ok = True)\n",
    "dfDesign.to_csv(sDesignFolder + 'Design.csv', index=True, index_label='Run ID')"
   ]
  }
 ],
 "metadata": {
  "kernelspec": {
   "display_name": "Python 3",
   "language": "python",
   "name": "python3"
  },
  "language_info": {
   "codemirror_mode": {
    "name": "ipython",
    "version": 3
   },
   "file_extension": ".py",
   "mimetype": "text/x-python",
   "name": "python",
   "nbconvert_exporter": "python",
   "pygments_lexer": "ipython3",
   "version": "3.7.10"
  }
 },
 "nbformat": 4,
 "nbformat_minor": 5
}
