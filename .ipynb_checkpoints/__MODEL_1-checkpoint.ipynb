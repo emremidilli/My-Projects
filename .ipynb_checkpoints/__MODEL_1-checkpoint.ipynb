{
 "cells": [
  {
   "cell_type": "markdown",
   "id": "8dbcf9b4-483a-40ea-8c03-bed78cda47c3",
   "metadata": {},
   "source": [
    "* https://towardsdatascience.com/transformers-141e32e69591\n",
    "* https://towardsdatascience.com/stock-predictions-with-state-of-the-art-transformer-and-time-embeddings-3a4485237de6\n",
    "* https://towardsdatascience.com/lstm-networks-a-detailed-explanation-8fae6aefc7f9#:~:text=LSTMs%20use%20a%20series%20of,each%20their%20own%20neural%20network.\n",
    "* https://stats.stackexchange.com/questions/365778/what-should-i-do-when-my-neural-network-doesnt-generalize-well\n",
    "* https://www.youtube.com/watch?v=ROLugVqjf00"
   ]
  },
  {
   "cell_type": "markdown",
   "id": "cc3092ce-8ffd-42ce-bf10-41cf93cb035e",
   "metadata": {
    "tags": []
   },
   "source": [
    "# LIBRARIES"
   ]
  },
  {
   "cell_type": "code",
   "execution_count": 1,
   "id": "b11b8bc3-2e60-4f49-9359-a751c5d2e45d",
   "metadata": {},
   "outputs": [],
   "source": [
    "import MetaTrader5 as mt5\n",
    "\n",
    "import pandas as pd\n",
    "\n",
    "from datetime import datetime\n",
    "\n",
    "import pytz\n",
    "\n",
    "import numpy as np\n",
    "\n",
    "import seaborn as sns\n",
    "\n",
    "import matplotlib.pyplot as plt\n",
    "\n",
    "from scipy.stats import entropy\n",
    "from scipy.stats import ks_2samp\n",
    "\n",
    "import tensorflow as tf\n",
    "\n",
    "from sklearn.preprocessing import MinMaxScaler,StandardScaler\n",
    "from sklearn.model_selection import train_test_split"
   ]
  },
  {
   "cell_type": "markdown",
   "id": "5e040057-d8d5-42e5-b0f5-91046b417cf0",
   "metadata": {
    "tags": []
   },
   "source": [
    "# CONFIG"
   ]
  },
  {
   "cell_type": "code",
   "execution_count": 2,
   "id": "4e4ff210-342f-4879-82a6-3e6ee032b63f",
   "metadata": {},
   "outputs": [],
   "source": [
    "pd.set_option('display.float_format', '{:.5f}'.format)"
   ]
  },
  {
   "cell_type": "code",
   "execution_count": 3,
   "id": "e03a0df7-f9f2-46a6-b110-2570b4fe1406",
   "metadata": {},
   "outputs": [],
   "source": [
    "gc_o_TIME_ZONE = pytz.timezone(\"Etc/UTC\")\n",
    "gc_dt_FROM = datetime(2022, 3, 1, tzinfo=gc_o_TIME_ZONE)\n",
    "gc_dt_TO = datetime(2022, 11, 1, tzinfo=gc_o_TIME_ZONE)"
   ]
  },
  {
   "cell_type": "code",
   "execution_count": 4,
   "id": "11878356-d9cb-4d52-a4d3-93ff8637487f",
   "metadata": {},
   "outputs": [],
   "source": [
    "sCategory = 'Stocks\\\\Germany\\\\Banking & Investment Services\\\\Banks\\\\'"
   ]
  },
  {
   "cell_type": "code",
   "execution_count": 5,
   "id": "9b3398fd-a028-41db-be05-5ef730649c64",
   "metadata": {},
   "outputs": [],
   "source": [
    "BACKWARD_WINDOW_LENGTH = 4\n",
    "FORWARD_WINDOW_LENGTH = 1"
   ]
  },
  {
   "cell_type": "markdown",
   "id": "593979c9-3fa4-4747-a198-d6cb2befa91e",
   "metadata": {
    "jp-MarkdownHeadingCollapsed": true,
    "tags": []
   },
   "source": [
    "# SOURCE DATA"
   ]
  },
  {
   "cell_type": "code",
   "execution_count": 6,
   "id": "69889ffe-e4c5-470b-9417-328ef9998d60",
   "metadata": {},
   "outputs": [],
   "source": [
    "def dfFetchSampleDataFromMt(p_sSymbolName):\n",
    "    aOhlSample = mt5.copy_rates_range(\n",
    "        p_sSymbolName,\n",
    "        mt5.TIMEFRAME_M15,\n",
    "        gc_dt_FROM, \n",
    "        gc_dt_TO\n",
    "    )\n",
    "\n",
    "    dfToReturn = pd.DataFrame(aOhlSample)\n",
    "    if 'time' in list(dfToReturn.columns):\n",
    "        return dfToReturn\n",
    "    else:\n",
    "        return dfFetchSampleDataFromMt(p_sSymbolName)\n",
    "    \n",
    "    \n",
    "\n",
    "# establish connection to the MetaTrader 5 terminal\n",
    "if not mt5.initialize():\n",
    "    print(\"initialize() failed, error code =\",mt5.last_error())\n",
    "    quit()\n",
    "    \n",
    "tplSymbols = mt5.symbols_get()\n",
    "dfSymbols = pd.DataFrame(tplSymbols, columns = tplSymbols[0]._asdict().keys())\n",
    "\n",
    "\n",
    "def aGetUniqueCategories(tplSymbols):\n",
    "    aCategories = []\n",
    "    for i in range(0, len(tplSymbols)):\n",
    "        sCategory = '\\\\'.join(tplSymbols[i]._asdict()['path'].split('\\\\')[:-1]) +'\\\\'\n",
    "        if sCategory not in aCategories:\n",
    "            aCategories.append(sCategory)\n",
    "    return aCategories\n",
    "\n",
    "\n",
    "aCategories = aGetUniqueCategories(tplSymbols)\n",
    "\n",
    "\n",
    "dfFilteredSymbols = dfSymbols[dfSymbols['path'].str.contains(sCategory, regex=False) == True]\n",
    "\n",
    "dfOhlc = pd.DataFrame()\n",
    "\n",
    "for iIndex, srsRow in dfFilteredSymbols.iterrows():\n",
    "    sSymbolName = dfFilteredSymbols.loc[iIndex, 'name']\n",
    "    iDigit  = dfFilteredSymbols.loc[iIndex, 'digits']\n",
    "\n",
    "    dfOhlcSample =  dfFetchSampleDataFromMt(sSymbolName)\n",
    "    if len(dfOhlcSample) > 1000:\n",
    "        dfOhlcSample['EXCHANGE_RATE'] =  sSymbolName\n",
    "        dfOhlcSample['DIGIT_SENSITIVITY'] =  iDigit\n",
    "        dfOhlc = dfOhlc.append(dfOhlcSample)\n",
    "        \n",
    "dfOhlc.reset_index(drop = True, inplace = True)"
   ]
  },
  {
   "cell_type": "markdown",
   "id": "8a179b0d-e256-49c5-b1f0-a69d0a969dc7",
   "metadata": {
    "jp-MarkdownHeadingCollapsed": true,
    "tags": []
   },
   "source": [
    "# PREPROCESS"
   ]
  },
  {
   "cell_type": "code",
   "execution_count": 7,
   "id": "5a5a98da-73a0-4a62-9b32-05185da38660",
   "metadata": {},
   "outputs": [],
   "source": [
    "dfPrep = dfOhlc.copy()"
   ]
  },
  {
   "cell_type": "markdown",
   "id": "450de93f-e6f5-4b78-944a-8b7354e0070a",
   "metadata": {
    "jp-MarkdownHeadingCollapsed": true,
    "tags": []
   },
   "source": [
    "## Add Last Digits"
   ]
  },
  {
   "cell_type": "code",
   "execution_count": 8,
   "id": "570d74e6-f7d1-47fa-97a7-2ec05ba498ba",
   "metadata": {},
   "outputs": [],
   "source": [
    "# To-be-continued"
   ]
  },
  {
   "cell_type": "markdown",
   "id": "7ea44ade-6230-4f9d-9972-f4bccd0d3263",
   "metadata": {
    "jp-MarkdownHeadingCollapsed": true,
    "tags": []
   },
   "source": [
    "## Add Candlestick Features"
   ]
  },
  {
   "cell_type": "code",
   "execution_count": 9,
   "id": "2c64645d-9248-4584-83b6-94e47ecd5629",
   "metadata": {},
   "outputs": [],
   "source": [
    "dfPrep['RETURN'] =  (dfPrep['close']-dfPrep['open'])/dfPrep['open']\n",
    "\n",
    "dfPrep[\"UPPER_SHADOW\"] =( dfPrep[\"high\"] - dfPrep[['close', 'open']].max(axis=1))/ dfPrep[['close', 'open']].max(axis=1)\n",
    "dfPrep[\"LOWER_SHADOW\"] = (dfPrep[['close', 'open']].min(axis=1) - dfPrep[\"low\"])/dfPrep[\"low\"]"
   ]
  },
  {
   "cell_type": "markdown",
   "id": "ff6e36ba-2b5a-4d1b-9399-5c97c86cd8e8",
   "metadata": {
    "jp-MarkdownHeadingCollapsed": true,
    "tags": []
   },
   "source": [
    "## Add Seasonal Features"
   ]
  },
  {
   "cell_type": "code",
   "execution_count": 10,
   "id": "44f0aa6e-b2ee-43c6-88a7-b753f4f6cb5c",
   "metadata": {},
   "outputs": [],
   "source": [
    "dfPrep.loc[:, 'MINUTE'] = pd.to_datetime(dfPrep.loc[:, 'time'],unit='s').dt.minute\n",
    "dfPrep.loc[:, 'HOUR'] = pd.to_datetime(dfPrep.loc[:, 'time'],unit='s').dt.hour\n",
    "dfPrep.loc[:, 'DAY_OF_WEEK'] = pd.to_datetime(dfPrep.loc[:, 'time'],unit='s').dt.day_of_week\n",
    "dfPrep.loc[:, 'DAY_OF_MONTH'] = pd.to_datetime(dfPrep.loc[:, 'time'],unit='s').dt.day"
   ]
  },
  {
   "cell_type": "markdown",
   "id": "b35311b2-208e-458b-b6b9-ee191cf8cbdc",
   "metadata": {
    "jp-MarkdownHeadingCollapsed": true,
    "tags": []
   },
   "source": [
    "## Select Only One Exchange Rate"
   ]
  },
  {
   "cell_type": "code",
   "execution_count": 11,
   "id": "dd5fd4ed-242f-4371-9a41-7f04b4d2fd6c",
   "metadata": {},
   "outputs": [],
   "source": [
    "dfPrep.query('EXCHANGE_RATE == \"CBKG.DE\"', inplace  = True)"
   ]
  },
  {
   "cell_type": "markdown",
   "id": "038d7214-b6af-422a-9b8b-ad613093fa2a",
   "metadata": {},
   "source": [
    "## Calculate Support and Resistence Levels"
   ]
  },
  {
   "cell_type": "markdown",
   "id": "0c259931-59ff-488b-99b6-ad2b40dde81c",
   "metadata": {},
   "source": [
    "K-Means Algorithm used to identify the support and resistence levels.\n",
    "* https://medium.com/@judopro/using-machine-learning-to-programmatically-determine-stock-support-and-resistance-levels-9bb70777cf8e"
   ]
  },
  {
   "cell_type": "code",
   "execution_count": 12,
   "id": "e0af030f-9ac2-484a-84c6-916c97b0a070",
   "metadata": {},
   "outputs": [],
   "source": [
    "# def bIsSupport(df, l, n1, n2):\n",
    "#     for i in range(l-n1+1, l+1):\n",
    "#         if (df['low'].iloc[i] > df['low'].iloc[i-1]):\n",
    "#             return 0\n",
    "        \n",
    "#     for i in range(l+1, l+n2+1):\n",
    "#         if (df['low'].iloc[i] < df['low'].iloc[i-1] ):\n",
    "#             return 0\n",
    "        \n",
    "#     return 1\n",
    "\n",
    "\n",
    "# def bIsResistence(df, l, n1, n2):\n",
    "#     for i in range(l-n1+1, l+1):\n",
    "#         if (df['high'].iloc[i] > df['high'].iloc[i-1]):\n",
    "#             return 0\n",
    "        \n",
    "#     for i in range(l+1, l+n2+1):\n",
    "#         if (df['high'].iloc[i] < df['high'].iloc[i-1] ):\n",
    "#             return 0\n",
    "        \n",
    "#     return 1\n",
    "\n",
    "\n",
    "\n",
    "# n1 = 4\n",
    "# n2 = 4\n",
    "# for i in range(0, len(dfPrep)):\n",
    "#     dfPrep.iloc[i].loc['IS_SUPPORT'] = bIsSupport(dfPrep, i, n1, n2)\n",
    "#     dfPrep.iloc[i].loc['IS_RESISTENCE'] = bIsResistence(dfPrep, i, n1, n2)\n",
    "\n"
   ]
  },
  {
   "cell_type": "markdown",
   "id": "08ede022-f28d-45ff-ae90-284f29008fb0",
   "metadata": {
    "tags": []
   },
   "source": [
    "# FEATURE ENGINERRING"
   ]
  },
  {
   "cell_type": "markdown",
   "id": "368a22ad-7787-4031-af17-3bb9e5e0b88f",
   "metadata": {
    "tags": []
   },
   "source": [
    "## Handle Outliers"
   ]
  },
  {
   "cell_type": "code",
   "execution_count": 13,
   "id": "a3b840fd-a824-4a21-ba30-cf90459499f2",
   "metadata": {},
   "outputs": [],
   "source": [
    "# df = dfPrep[['RETURN', 'UPPER_SHADOW', 'LOWER_SHADOW']].copy()\n",
    "# oScaler = StandardScaler()\n",
    "\n",
    "# df = pd.DataFrame(\n",
    "#     data = oScaler.fit_transform(df),\n",
    "#     columns = df.columns,\n",
    "#     index = df.index\n",
    "# )\n",
    "\n",
    "# df[(df > 3).any(axis = 1)]"
   ]
  },
  {
   "cell_type": "markdown",
   "id": "987ce9fc-c912-45f7-bfac-00ee6041500c",
   "metadata": {
    "jp-MarkdownHeadingCollapsed": true,
    "tags": []
   },
   "source": [
    "## Prepare Input & Output Features"
   ]
  },
  {
   "cell_type": "code",
   "execution_count": 14,
   "id": "90caab89-4e9c-4a28-a27d-6c2ee07ff8cc",
   "metadata": {},
   "outputs": [],
   "source": [
    "# prepare input dataset\n",
    "dfX = dfPrep[['RETURN', 'UPPER_SHADOW', 'LOWER_SHADOW']]\n",
    "\n",
    "df = pd.DataFrame(index = dfX.index)\n",
    "\n",
    "for i in range(-BACKWARD_WINDOW_LENGTH, 0):\n",
    "    df = df.merge(right  =dfX.shift(-i).add_prefix('{}|'.format(i)), left_index= True, right_index = True)\n",
    "\n",
    "# add seasonal features to input dataset\n",
    "# df = df.merge(right = dfPrep[['MINUTE', 'HOUR', 'DAY_OF_WEEK','DAY_OF_MONTH']],left_index = True, right_index =True, how = 'inner') \n",
    "dfX = df\n",
    "\n",
    "# prepare output dataset\n",
    "dfY = dfPrep[['RETURN']]\n",
    "\n",
    "df = pd.DataFrame(index = dfY.index)\n",
    "\n",
    "for i in range(0, FORWARD_WINDOW_LENGTH):\n",
    "    df = df.merge(right  =dfY.shift(-i).add_prefix('{}|'.format(i)), left_index= True, right_index = True)\n",
    "    \n",
    "dfY = df\n",
    "\n",
    "# drop records that contain at least one nan\n",
    "ixToDrop = list(dfX[dfX.isna().any(axis = 1)].index) + list(dfY[dfY.isna().any(axis = 1)].index) \n",
    "dfX.drop(ixToDrop, inplace = True)\n",
    "dfY.drop(ixToDrop, inplace = True)\n",
    "\n",
    "# use common timestamps\n",
    "ixCommon = np.intersect1d(dfX.index, dfY.index)\n",
    "dfX = dfX.loc[ixCommon]\n",
    "dfY = dfY.loc[ixCommon]"
   ]
  },
  {
   "cell_type": "markdown",
   "id": "9fe01067-0406-430a-8e77-9df9b2eed898",
   "metadata": {
    "jp-MarkdownHeadingCollapsed": true,
    "tags": []
   },
   "source": [
    "## Scale Data"
   ]
  },
  {
   "cell_type": "code",
   "execution_count": 15,
   "id": "3555b4d9-5f5c-44c9-8a7d-92d125e4cd7c",
   "metadata": {},
   "outputs": [],
   "source": [
    "oScalerInput = StandardScaler()\n",
    "df =  dfX.copy()\n",
    "\n",
    "df = pd.DataFrame(\n",
    "    data = oScalerInput.fit_transform(df),\n",
    "    columns =  df.columns,\n",
    "    index = df.index\n",
    ")\n",
    "\n",
    "dfX = df.copy()"
   ]
  },
  {
   "cell_type": "code",
   "execution_count": 16,
   "id": "a051983c-8716-4abe-a66d-53624fcf23e7",
   "metadata": {},
   "outputs": [],
   "source": [
    "oScalerOutput = StandardScaler()\n",
    "df =  dfY.copy()\n",
    "\n",
    "df = pd.DataFrame(\n",
    "    data = oScalerOutput.fit_transform(df),\n",
    "    columns =  df.columns,\n",
    "    index = df.index\n",
    ")\n",
    "\n",
    "dfY = df.copy()"
   ]
  },
  {
   "cell_type": "markdown",
   "id": "e143e2d9-796b-4b00-b453-5df59a6d0e0f",
   "metadata": {
    "tags": []
   },
   "source": [
    "## Split Data"
   ]
  },
  {
   "cell_type": "code",
   "execution_count": 17,
   "id": "671b1600-40a0-4d36-a3bf-529b2d2a5a05",
   "metadata": {},
   "outputs": [],
   "source": [
    "c_fTrainingRatio = 0.95\n",
    "c_fValidationRatio = 0.025\n",
    "c_fTestRatio = 0.025\n",
    "\n",
    "ixTrain,ixTest = train_test_split(\n",
    "    dfX.index,\n",
    "    test_size=1-c_fTrainingRatio,\n",
    "    shuffle=False)\n",
    "\n",
    "ixValidation,ixTest= train_test_split(\n",
    "    ixTest,\n",
    "    test_size=c_fTestRatio/(c_fTestRatio + c_fValidationRatio),\n",
    "    shuffle=False)\n",
    "\n",
    "\n",
    "dfX_train = dfX.loc[ixTrain]\n",
    "dfX_validation = dfX.loc[ixValidation]\n",
    "dfX_test = dfX.loc[ixTest]\n",
    "\n",
    "dfY_train = dfY.loc[ixTrain]\n",
    "dfY_validation = dfY.loc[ixValidation]\n",
    "dfY_test = dfY.loc[ixTest]"
   ]
  },
  {
   "cell_type": "markdown",
   "id": "f737906b-7a50-49ff-9b00-95d0db713d53",
   "metadata": {
    "tags": []
   },
   "source": [
    "## Fit Distributions"
   ]
  },
  {
   "cell_type": "code",
   "execution_count": 18,
   "id": "8c708154-4869-4259-bf02-e3aa8d7529c3",
   "metadata": {},
   "outputs": [
    {
     "data": {
      "text/html": [
       "<div>\n",
       "<style scoped>\n",
       "    .dataframe tbody tr th:only-of-type {\n",
       "        vertical-align: middle;\n",
       "    }\n",
       "\n",
       "    .dataframe tbody tr th {\n",
       "        vertical-align: top;\n",
       "    }\n",
       "\n",
       "    .dataframe thead th {\n",
       "        text-align: right;\n",
       "    }\n",
       "</style>\n",
       "<table border=\"1\" class=\"dataframe\">\n",
       "  <thead>\n",
       "    <tr style=\"text-align: right;\">\n",
       "      <th></th>\n",
       "      <th>FEATURE</th>\n",
       "      <th>TRAIN_VAL</th>\n",
       "      <th>TRAIN_TEST</th>\n",
       "      <th>VAL_TEST</th>\n",
       "    </tr>\n",
       "  </thead>\n",
       "  <tbody>\n",
       "    <tr>\n",
       "      <th>0</th>\n",
       "      <td>-4|RETURN</td>\n",
       "      <td>0.00495</td>\n",
       "      <td>0.00169</td>\n",
       "      <td>0.07424</td>\n",
       "    </tr>\n",
       "    <tr>\n",
       "      <th>0</th>\n",
       "      <td>-4|UPPER_SHADOW</td>\n",
       "      <td>0.00000</td>\n",
       "      <td>0.00000</td>\n",
       "      <td>0.00000</td>\n",
       "    </tr>\n",
       "    <tr>\n",
       "      <th>0</th>\n",
       "      <td>-4|LOWER_SHADOW</td>\n",
       "      <td>0.00000</td>\n",
       "      <td>0.00000</td>\n",
       "      <td>0.00000</td>\n",
       "    </tr>\n",
       "    <tr>\n",
       "      <th>0</th>\n",
       "      <td>-3|RETURN</td>\n",
       "      <td>0.00495</td>\n",
       "      <td>0.00169</td>\n",
       "      <td>0.05459</td>\n",
       "    </tr>\n",
       "    <tr>\n",
       "      <th>0</th>\n",
       "      <td>-3|UPPER_SHADOW</td>\n",
       "      <td>0.00000</td>\n",
       "      <td>0.00000</td>\n",
       "      <td>0.00000</td>\n",
       "    </tr>\n",
       "    <tr>\n",
       "      <th>0</th>\n",
       "      <td>-3|LOWER_SHADOW</td>\n",
       "      <td>0.00000</td>\n",
       "      <td>0.00000</td>\n",
       "      <td>0.00000</td>\n",
       "    </tr>\n",
       "    <tr>\n",
       "      <th>0</th>\n",
       "      <td>-2|RETURN</td>\n",
       "      <td>0.00873</td>\n",
       "      <td>0.00091</td>\n",
       "      <td>0.07424</td>\n",
       "    </tr>\n",
       "    <tr>\n",
       "      <th>0</th>\n",
       "      <td>-2|UPPER_SHADOW</td>\n",
       "      <td>0.00000</td>\n",
       "      <td>0.00000</td>\n",
       "      <td>0.00000</td>\n",
       "    </tr>\n",
       "    <tr>\n",
       "      <th>0</th>\n",
       "      <td>-2|LOWER_SHADOW</td>\n",
       "      <td>0.00000</td>\n",
       "      <td>0.00000</td>\n",
       "      <td>0.00000</td>\n",
       "    </tr>\n",
       "    <tr>\n",
       "      <th>0</th>\n",
       "      <td>-1|RETURN</td>\n",
       "      <td>0.00886</td>\n",
       "      <td>0.00093</td>\n",
       "      <td>0.05459</td>\n",
       "    </tr>\n",
       "    <tr>\n",
       "      <th>0</th>\n",
       "      <td>-1|UPPER_SHADOW</td>\n",
       "      <td>0.00000</td>\n",
       "      <td>0.00000</td>\n",
       "      <td>0.00000</td>\n",
       "    </tr>\n",
       "    <tr>\n",
       "      <th>0</th>\n",
       "      <td>-1|LOWER_SHADOW</td>\n",
       "      <td>0.00000</td>\n",
       "      <td>0.00000</td>\n",
       "      <td>0.00000</td>\n",
       "    </tr>\n",
       "  </tbody>\n",
       "</table>\n",
       "</div>"
      ],
      "text/plain": [
       "           FEATURE  TRAIN_VAL  TRAIN_TEST  VAL_TEST\n",
       "0        -4|RETURN    0.00495     0.00169   0.07424\n",
       "0  -4|UPPER_SHADOW    0.00000     0.00000   0.00000\n",
       "0  -4|LOWER_SHADOW    0.00000     0.00000   0.00000\n",
       "0        -3|RETURN    0.00495     0.00169   0.05459\n",
       "0  -3|UPPER_SHADOW    0.00000     0.00000   0.00000\n",
       "0  -3|LOWER_SHADOW    0.00000     0.00000   0.00000\n",
       "0        -2|RETURN    0.00873     0.00091   0.07424\n",
       "0  -2|UPPER_SHADOW    0.00000     0.00000   0.00000\n",
       "0  -2|LOWER_SHADOW    0.00000     0.00000   0.00000\n",
       "0        -1|RETURN    0.00886     0.00093   0.05459\n",
       "0  -1|UPPER_SHADOW    0.00000     0.00000   0.00000\n",
       "0  -1|LOWER_SHADOW    0.00000     0.00000   0.00000"
      ]
     },
     "execution_count": 18,
     "metadata": {},
     "output_type": "execute_result"
    }
   ],
   "source": [
    "df = dfX.copy()\n",
    "\n",
    "dfDistAnalysis = pd.DataFrame(columns = ['FEATURE', 'TRAIN_VAL', 'TRAIN_TEST', 'VAL_TEST'])\n",
    "for sCol in df.columns:\n",
    "    # The null hypothesis is that the two distributions are identical\n",
    "    # If the KS statistic is small or the p-value is high, then we cannot reject the null hypothesis in favor of the alternative.\n",
    "    fStatsTrainVal, fPValueTrainVal = ks_2samp(\n",
    "        df.loc[ixTrain, sCol],\n",
    "        df.loc[ixValidation, sCol]\n",
    "    )\n",
    "\n",
    "    fStatsTrainTest, fPValueTrainTest = ks_2samp(\n",
    "        df.loc[ixTrain, sCol],\n",
    "        df.loc[ixTest, sCol]\n",
    "    )\n",
    "\n",
    "    fStatsValTest, fPValueValTest = ks_2samp(\n",
    "        df.loc[ixValidation, sCol],\n",
    "        df.loc[ixTest, sCol]\n",
    "    )\n",
    "    \n",
    "    dfDistAnalysis = pd.concat(\n",
    "         [dfDistAnalysis,\n",
    "         pd.DataFrame(data = [[sCol, fPValueTrainVal,  fPValueTrainTest, fPValueValTest]], columns = dfDistAnalysis.columns)\n",
    "         ],\n",
    "        ignore_index=False\n",
    "    )\n",
    "\n",
    "dfDistAnalysis"
   ]
  },
  {
   "cell_type": "code",
   "execution_count": 19,
   "id": "86e19e12-5e59-407d-8103-4eef1841ffce",
   "metadata": {},
   "outputs": [],
   "source": [
    "# plt.figure(figsize = (20, 8))\n",
    "# # sns.histplot(data = dfY_train, x = dfY_train.columns[0],color = 'red')\n",
    "# # sns.histplot(data= dfY_validation,x =dfY_validation.columns[0]  , color = 'yellow')\n",
    "# # sns.histplot(data = dfY_test, x =dfY_test.columns[0] , color = 'green')"
   ]
  },
  {
   "cell_type": "code",
   "execution_count": 20,
   "id": "178f5954-e8e9-4b6e-9ca7-85cbdc782662",
   "metadata": {},
   "outputs": [],
   "source": [
    "# plt.figure(figsize = (20, 8 ))\n",
    "# sns.heatmap(data = dfX.corr().round(1), vmin = -1 , vmax = 1, cmap = 'PiYG', annot = True)"
   ]
  },
  {
   "cell_type": "markdown",
   "id": "db93dab7-1f06-4f1b-aa9e-a847f8866ba2",
   "metadata": {},
   "source": [
    "# MODEL DEVELOPMENT"
   ]
  },
  {
   "cell_type": "code",
   "execution_count": 21,
   "id": "519e1869-047b-4b50-a350-bccda2d5dae0",
   "metadata": {},
   "outputs": [],
   "source": [
    "X_train = dfX_train.values\n",
    "X_validation = dfX_validation.values\n",
    "X_test = dfX_test.values\n",
    "\n",
    "\n",
    "Y_train = dfY_train.values\n",
    "Y_validation = dfY_validation.values\n",
    "Y_test = dfY_test.values"
   ]
  },
  {
   "cell_type": "markdown",
   "id": "e70167f8-966a-46c9-b292-227952806dfe",
   "metadata": {
    "tags": []
   },
   "source": [
    "## Compile Model"
   ]
  },
  {
   "cell_type": "code",
   "execution_count": 35,
   "id": "bbdb3df8-5a55-4665-ac68-8a05f3e96704",
   "metadata": {},
   "outputs": [
    {
     "data": {
      "image/png": "[encoded data removed]",
      "text/plain": [
       "<IPython.core.display.Image object>"
      ]
     },
     "execution_count": 35,
     "metadata": {},
     "output_type": "execute_result"
    }
   ],
   "source": [
    "aInput = tf.keras.Input(\n",
    "    shape =  X_train.shape[1]\n",
    ")\n",
    "\n",
    "aHidden1 = tf.keras.layers.Dense(\n",
    "    units = 300, \n",
    "    kernel_initializer='normal',\n",
    "    # activity_regularizer = tf.keras.regularizers.L2(0.1),\n",
    "    use_bias = False\n",
    ")(aInput)\n",
    "\n",
    "aHidden1 = tf.keras.layers.BatchNormalization()(aHidden1)\n",
    "aHidden1 = tf.keras.layers.ReLU()(aHidden1)\n",
    "aHidden1 = tf.keras.layers.Dropout(0.5)(aHidden1)\n",
    "\n",
    "aHidden2 = tf.keras.layers.Dense(\n",
    "    units = 300, \n",
    "     kernel_initializer='normal',\n",
    "    # activity_regularizer = tf.keras.regularizers.L2(0.1),  \n",
    "    use_bias = False\n",
    ")(aHidden1)\n",
    "\n",
    "aHidden2 = tf.keras.layers.BatchNormalization()(aHidden2)\n",
    "aHidden2 = tf.keras.layers.ReLU()(aHidden2)\n",
    "aHidden2 = tf.keras.layers.Dropout(0.8)(aHidden2)\n",
    "\n",
    "aOutput = tf.keras.layers.Dense(\n",
    "    units = Y_train.shape[1],\n",
    "    kernel_initializer='normal'\n",
    ")(aHidden2)\n",
    "\n",
    "oModel = tf.keras.Model(inputs=aInput, outputs=aOutput)\n",
    "\n",
    "oLearningRateSchedule = tf.keras.optimizers.schedules.ExponentialDecay(\n",
    "    initial_learning_rate = 1e-03,\n",
    "    decay_steps=100000,\n",
    "    decay_rate=1e-03,\n",
    "    staircase=True)\n",
    "\n",
    "\n",
    "oOptimizer = tf.keras.optimizers.Adam(learning_rate=oLearningRateSchedule)\n",
    "\n",
    "oModel.compile(optimizer=oOptimizer,loss= tf.keras.losses.MeanAbsoluteError())\n",
    "\n",
    "tf.keras.utils.plot_model(oModel, show_shapes=True)"
   ]
  },
  {
   "cell_type": "markdown",
   "id": "10414d57-2a59-4645-b969-2383336bb45a",
   "metadata": {},
   "source": [
    "## Fit Model"
   ]
  },
  {
   "cell_type": "code",
   "execution_count": 38,
   "id": "49379c37-db3e-43f7-8045-0ebe68df054c",
   "metadata": {},
   "outputs": [
    {
     "data": {
      "text/plain": [
       "<AxesSubplot:ylabel='loss'>"
      ]
     },
     "execution_count": 38,
     "metadata": {},
     "output_type": "execute_result"
    },
    {
     "data": {
      "image/png": "[encoded data removed]",
      "text/plain": [
       "<Figure size 1440x576 with 1 Axes>"
      ]
     },
     "metadata": {
      "needs_background": "light"
     },
     "output_type": "display_data"
    }
   ],
   "source": [
    "oEarlyStop = tf.keras.callbacks.EarlyStopping(\n",
    "    monitor = 'val_loss', \n",
    "    mode = 'min', \n",
    "    verbose = 0 , \n",
    "    patience = 50, \n",
    "    restore_best_weights = True)\n",
    "\n",
    "oModel.fit(\n",
    "    X_train, \n",
    "    Y_train, \n",
    "    epochs= 1000, \n",
    "    batch_size=2**6, \n",
    "    verbose=0, \n",
    "    validation_data= (X_validation, Y_validation),\n",
    "    # callbacks=[oEarlyStop]\n",
    ")\n",
    "\n",
    "dfHistory = pd.DataFrame(oModel.history.history)\n",
    "\n",
    "plt.figure(figsize = (20, 8))\n",
    "sns.lineplot(data = dfHistory['loss'].iloc[1:], legend = True, label = 'Train')\n",
    "sns.lineplot(data = dfHistory['val_loss'].iloc[1:], legend = True, label = 'Validation')"
   ]
  },
  {
   "cell_type": "markdown",
   "id": "cca7f8f1-0aac-434e-a5fc-9d1a83bc6824",
   "metadata": {},
   "source": [
    "## Test Model"
   ]
  },
  {
   "cell_type": "code",
   "execution_count": 40,
   "id": "44d5a5e2-9372-4737-99f1-7f6c52dcc9c7",
   "metadata": {},
   "outputs": [
    {
     "data": {
      "text/plain": [
       "<AxesSubplot:xlabel='ACTUAL', ylabel='PREDICTION'>"
      ]
     },
     "execution_count": 41,
     "metadata": {},
     "output_type": "execute_result"
    },
    {
     "data": {
      "image/png": "[encoded data removed]",
      "text/plain": [
       "<Figure size 432x288 with 1 Axes>"
      ]
     },
     "metadata": {
      "needs_background": "light"
     },
     "output_type": "display_data"
    }
   ],
   "source": [
    "aActual = oScalerOutput.inverse_transform(Y_validation)\n",
    "aPred = oScalerOutput.inverse_transform(oModel.predict(X_validation))\n",
    "\n",
    "df = pd.DataFrame(data = np.column_stack((aActual,aPred)),\n",
    "             columns = ['ACTUAL', 'PREDICTION']\n",
    "            )\n",
    "\n",
    "sns.scatterplot(data = df, x = 'ACTUAL', y = 'PREDICTION')"
   ]
  },
  {
   "cell_type": "code",
   "execution_count": 25,
   "id": "0d77f328-7f63-4187-873f-61301cc09785",
   "metadata": {},
   "outputs": [],
   "source": [
    "# from sklearn.metrics.pairwise import euclidean_distances\n",
    "\n",
    "# dfDistance = pd.DataFrame(\n",
    "#     data = euclidean_distances(dfX_train, dfX_validation),\n",
    "#     index = dfX_train.index,\n",
    "#     columns  = dfX_validation.index\n",
    "# )\n",
    "\n",
    "# df = dfDistance[dfDistance.isin([dfDistance.min().min()]).any(1)].T\n",
    "# df.sort_values(by = list(df.columns))\n",
    "\n",
    "\n",
    "# dfDistance = pd.DataFrame(\n",
    "#     data = euclidean_distances(dfY_train, dfY_validation),\n",
    "#     index = dfX_train.index,\n",
    "#     columns  = dfX_validation.index\n",
    "# )\n",
    "\n",
    "# df = dfDistance[dfDistance.isin([dfDistance.min().min()]).any(1)].T\n",
    "# df.sort_values(by = list(df.columns))\n",
    "\n",
    "\n",
    "# ixT = 18945\n",
    "# ixV = 22249\n",
    "\n",
    "# # dfX.loc[[ixV, ixT]]\n",
    "\n",
    "# # dfY.loc[[ixV, ixT]]\n",
    "\n",
    "# # oModel.predict(dfX_validation.loc[[ixV]])\n",
    "\n",
    "# # dfY_validation.loc[[ixV]]\n",
    "\n",
    "# # oModel.predict(dfX_train.loc[[ixT]])\n",
    "\n",
    "# # dfY_train.loc[[ixT]]\n",
    "\n",
    "# # dfY_train.loc[[ixT]]"
   ]
  },
  {
   "cell_type": "code",
   "execution_count": null,
   "id": "cae794cd-1a00-48a0-8c55-eb836cd649fc",
   "metadata": {},
   "outputs": [],
   "source": []
  }
 ],
 "metadata": {
  "kernelspec": {
   "display_name": "Python 3",
   "language": "python",
   "name": "python3"
  },
  "language_info": {
   "codemirror_mode": {
    "name": "ipython",
    "version": 3
   },
   "file_extension": ".py",
   "mimetype": "text/x-python",
   "name": "python",
   "nbconvert_exporter": "python",
   "pygments_lexer": "ipython3",
   "version": "3.7.10"
  }
 },
 "nbformat": 4,
 "nbformat_minor": 5
}
