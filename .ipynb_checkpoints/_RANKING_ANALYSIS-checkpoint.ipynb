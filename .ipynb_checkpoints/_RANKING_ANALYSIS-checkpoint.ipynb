{
 "cells": [
  {
   "cell_type": "markdown",
   "id": "4cf38538-dfa0-4699-8c72-bc1e433e5582",
   "metadata": {
    "tags": []
   },
   "source": [
    "# IMPORT LIBRARIES"
   ]
  },
  {
   "cell_type": "code",
   "execution_count": 1,
   "id": "e1c837ba-673c-4494-8f78-f9394193858a",
   "metadata": {},
   "outputs": [],
   "source": [
    "import MetaTrader5 as mt5\n",
    "\n",
    "import pandas as pd\n",
    "\n",
    "import pytz\n",
    "\n",
    "from datetime import datetime\n",
    "\n",
    "from sklearn.model_selection import train_test_split\n",
    "\n",
    "import seaborn as sns\n",
    "\n",
    "import matplotlib.pyplot as plt\n",
    "\n",
    "from scipy.stats import entropy\n",
    "from scipy.stats import ks_2samp"
   ]
  },
  {
   "cell_type": "markdown",
   "id": "35d29603-f257-4600-822f-9c012ee276e1",
   "metadata": {
    "tags": []
   },
   "source": [
    "# CONFIG"
   ]
  },
  {
   "cell_type": "code",
   "execution_count": 2,
   "id": "7fa4e542-7223-4cce-8e65-c52808f61276",
   "metadata": {},
   "outputs": [],
   "source": [
    "pd.set_option('display.float_format', '{:.5f}'.format)"
   ]
  },
  {
   "cell_type": "code",
   "execution_count": 3,
   "id": "ebdb6c44-2a86-43d7-ac20-32d3cab716bf",
   "metadata": {},
   "outputs": [],
   "source": [
    "gc_o_TIME_ZONE = pytz.timezone(\"Etc/UTC\")\n",
    "gc_dt_FROM = datetime(2022, 3, 1, tzinfo=gc_o_TIME_ZONE)\n",
    "gc_dt_TO = datetime(2022, 7, 1, tzinfo=gc_o_TIME_ZONE)"
   ]
  },
  {
   "cell_type": "code",
   "execution_count": 4,
   "id": "61ee5806-9499-4da6-b1d3-d8a7a59f2428",
   "metadata": {},
   "outputs": [],
   "source": [
    "gc_a_FEATURES_TO_ANALYZE = ['close','open', 'high', 'low','real_volume','return']"
   ]
  },
  {
   "cell_type": "code",
   "execution_count": 5,
   "id": "3d065e76-163b-4b2b-8778-030da2a7cbc5",
   "metadata": {},
   "outputs": [],
   "source": [
    "gc_f_TRAINING_RATIO = 0.60\n",
    "gc_f_VALIDATION_RATIO = 0.20\n",
    "gc_f_TEST_RATIO = 0.20"
   ]
  },
  {
   "cell_type": "markdown",
   "id": "9cb27435-7dad-40d5-90dd-91de7dde6ee9",
   "metadata": {
    "tags": []
   },
   "source": [
    "# UDFS"
   ]
  },
  {
   "cell_type": "code",
   "execution_count": 6,
   "id": "09f26ec3-ce46-402e-81d1-6f65edb1b664",
   "metadata": {},
   "outputs": [],
   "source": [
    "def dfFetchSampleDataFromMt(p_sSymbolName):\n",
    "    aOhlSample = mt5.copy_rates_range(\n",
    "        p_sSymbolName,\n",
    "        mt5.TIMEFRAME_M15,\n",
    "        gc_dt_FROM, \n",
    "        gc_dt_TO\n",
    "    )\n",
    "\n",
    "    dfToReturn = pd.DataFrame(aOhlSample)\n",
    "    if 'time' in list(dfToReturn.columns):\n",
    "        dfToReturn.set_index('time', inplace = True)\n",
    "    else:\n",
    "        return dfFetchSampleDataFromMt(p_sSymbolName)\n",
    "    \n",
    "    return dfToReturn"
   ]
  },
  {
   "cell_type": "code",
   "execution_count": 7,
   "id": "99e2cc69-61d5-43cc-8e34-f521f86f89c4",
   "metadata": {},
   "outputs": [],
   "source": [
    "def dfCalculateReturn(p_dfToSplit):\n",
    "    p_dfToSplit['return'] =  (p_dfToSplit['close']-p_dfToSplit['open'])/p_dfToSplit['open']\n",
    "    return p_dfToSplit"
   ]
  },
  {
   "cell_type": "code",
   "execution_count": 8,
   "id": "690075bd-58a0-43c0-b662-f5f6cd41bd26",
   "metadata": {},
   "outputs": [],
   "source": [
    "def ixSplitDateset(p_dfToSplit):\n",
    "\n",
    "    ixAll = p_dfToSplit.index\n",
    "\n",
    "    ixTrain, ixTest = train_test_split(\n",
    "        ixAll,\n",
    "        test_size=1-gc_f_TRAINING_RATIO,\n",
    "        shuffle=False)\n",
    "\n",
    "    ixValidation, ixTest = train_test_split(\n",
    "        ixTest,\n",
    "        test_size=gc_f_TEST_RATIO/(gc_f_TEST_RATIO + gc_f_VALIDATION_RATIO),\n",
    "        shuffle=False)\n",
    "    \n",
    "    \n",
    "    return ixTrain, ixValidation, ixTest"
   ]
  },
  {
   "cell_type": "markdown",
   "id": "e362ace5-3006-4508-a2d0-607078786094",
   "metadata": {},
   "source": [
    "# MAIN"
   ]
  },
  {
   "cell_type": "code",
   "execution_count": 9,
   "id": "196b7bef-b0af-42ba-974c-8c14c46c3e1c",
   "metadata": {},
   "outputs": [],
   "source": [
    "# establish connection to the MetaTrader 5 terminal\n",
    "if not mt5.initialize():\n",
    "    print(\"initialize() failed, error code =\",mt5.last_error())\n",
    "    quit()\n",
    "    \n",
    "tplSymbols = mt5.symbols_get()\n",
    "dfSymbols = pd.DataFrame(tplSymbols, columns = tplSymbols[0]._asdict().keys())"
   ]
  },
  {
   "cell_type": "code",
   "execution_count": 10,
   "id": "ec25097e-6868-4481-b587-1fd860c82867",
   "metadata": {},
   "outputs": [],
   "source": [
    "def aGetUniqueCategories(tplSymbols):\n",
    "    aCategories = []\n",
    "    for i in range(0, len(tplSymbols)):\n",
    "        sCategory = '\\\\'.join(tplSymbols[i]._asdict()['path'].split('\\\\')[:-1]) +'\\\\'\n",
    "        if sCategory not in aCategories:\n",
    "            aCategories.append(sCategory)\n",
    "    return aCategories"
   ]
  },
  {
   "cell_type": "code",
   "execution_count": 14,
   "id": "1aa859fd-96d1-4106-bb6c-84da21c066f2",
   "metadata": {},
   "outputs": [],
   "source": [
    "aCategories = aGetUniqueCategories(tplSymbols)\n",
    "\n",
    "sCategory = aCategories[-5] \n",
    "dfFilteredSymbols = dfSymbols[dfSymbols['path'].str.contains(sCategory, regex=False) == True]\n",
    "\n",
    "dfOhlc = pd.DataFrame()\n",
    "\n",
    "for iIndex, srsRow in dfFilteredSymbols.iterrows():\n",
    "    sSymbolName = dfFilteredSymbols.loc[iIndex, 'name']\n",
    "\n",
    "    dfOhlcSample =  dfFetchSampleDataFromMt(sSymbolName)\n",
    "    if len(dfOhlcSample) > 1000:\n",
    "        dfOhlcSample = dfCalculateReturn(dfOhlcSample)\n",
    "        dfOhlcSample['SYMBOL_NAME'] =  sSymbolName\n",
    "        dfOhlc = dfOhlc.append(dfOhlcSample)"
   ]
  }
 ],
 "metadata": {
  "kernelspec": {
   "display_name": "Python 3",
   "language": "python",
   "name": "python3"
  },
  "language_info": {
   "codemirror_mode": {
    "name": "ipython",
    "version": 3
   },
   "file_extension": ".py",
   "mimetype": "text/x-python",
   "name": "python",
   "nbconvert_exporter": "python",
   "pygments_lexer": "ipython3",
   "version": "3.7.10"
  }
 },
 "nbformat": 4,
 "nbformat_minor": 5
}
