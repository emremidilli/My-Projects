{
 "cells": [
  {
   "cell_type": "markdown",
   "id": "ccbf128a-447c-4410-b0eb-6929c77a2aad",
   "metadata": {
    "jp-MarkdownHeadingCollapsed": true,
    "tags": []
   },
   "source": [
    "# IMPORT LIBRARIES"
   ]
  },
  {
   "cell_type": "code",
   "execution_count": 1,
   "id": "3183a347-27ef-4dae-85fe-42d5715184b1",
   "metadata": {},
   "outputs": [],
   "source": [
    "import MetaTrader5 as mt5\n",
    "\n",
    "import pandas as pd\n",
    "\n",
    "from datetime import datetime\n",
    "\n",
    "import pytz\n",
    "\n",
    "import numpy as np"
   ]
  },
  {
   "cell_type": "markdown",
   "id": "8841a98f-ba0a-4038-a62c-d55c3f4d47b0",
   "metadata": {
    "jp-MarkdownHeadingCollapsed": true,
    "tags": []
   },
   "source": [
    "# CONFIG"
   ]
  },
  {
   "cell_type": "code",
   "execution_count": 2,
   "id": "453b43d3-5123-4c96-beca-936af0a29024",
   "metadata": {},
   "outputs": [],
   "source": [
    "pd.set_option('display.float_format', '{:.5f}'.format)"
   ]
  },
  {
   "cell_type": "code",
   "execution_count": 3,
   "id": "d3119536-1062-4d02-95b8-c61533f8e533",
   "metadata": {},
   "outputs": [],
   "source": [
    "gc_o_TIME_ZONE = pytz.timezone(\"Etc/UTC\")\n",
    "gc_dt_FROM = datetime(2022, 3, 1, tzinfo=gc_o_TIME_ZONE)\n",
    "gc_dt_TO = datetime(2022, 7, 1, tzinfo=gc_o_TIME_ZONE)"
   ]
  },
  {
   "cell_type": "markdown",
   "id": "4660e213-d404-4f1b-be0c-e41560d46b10",
   "metadata": {
    "jp-MarkdownHeadingCollapsed": true,
    "tags": []
   },
   "source": [
    "# UDFS"
   ]
  },
  {
   "cell_type": "code",
   "execution_count": 4,
   "id": "11eb4314-c249-4370-9d40-a39c3b90cf7b",
   "metadata": {},
   "outputs": [],
   "source": [
    "def dfFetchSampleDataFromMt(p_sSymbolName):\n",
    "    aOhlSample = mt5.copy_rates_range(\n",
    "        p_sSymbolName,\n",
    "        mt5.TIMEFRAME_M15,\n",
    "        gc_dt_FROM, \n",
    "        gc_dt_TO\n",
    "    )\n",
    "\n",
    "    dfToReturn = pd.DataFrame(aOhlSample)\n",
    "    if 'time' in list(dfToReturn.columns):\n",
    "        return dfToReturn\n",
    "    else:\n",
    "        return dfFetchSampleDataFromMt(p_sSymbolName)\n",
    "    "
   ]
  },
  {
   "cell_type": "code",
   "execution_count": 5,
   "id": "bf678f24-fb29-45c1-a187-e8a7ce5bcd37",
   "metadata": {},
   "outputs": [],
   "source": [
    "def dfCalculateReturn(p_dfToSplit):\n",
    "    p_dfToSplit['RETURN'] =  (p_dfToSplit['close']-p_dfToSplit['open'])/p_dfToSplit['open']\n",
    "    return p_dfToSplit"
   ]
  },
  {
   "cell_type": "markdown",
   "id": "3b6b3e8b-8197-40d9-9c05-2465db677eb0",
   "metadata": {
    "jp-MarkdownHeadingCollapsed": true,
    "tags": []
   },
   "source": [
    "# MAIN"
   ]
  },
  {
   "cell_type": "code",
   "execution_count": 6,
   "id": "2db7b0cc-eb35-4d41-b9f1-4ddac4f689a9",
   "metadata": {},
   "outputs": [],
   "source": [
    "# establish connection to the MetaTrader 5 terminal\n",
    "if not mt5.initialize():\n",
    "    print(\"initialize() failed, error code =\",mt5.last_error())\n",
    "    quit()\n",
    "    \n",
    "tplSymbols = mt5.symbols_get()\n",
    "dfSymbols = pd.DataFrame(tplSymbols, columns = tplSymbols[0]._asdict().keys())"
   ]
  },
  {
   "cell_type": "code",
   "execution_count": 7,
   "id": "08c9e2af-53b1-4ecf-ae03-4d761690b65c",
   "metadata": {},
   "outputs": [],
   "source": [
    "def aGetUniqueCategories(tplSymbols):\n",
    "    aCategories = []\n",
    "    for i in range(0, len(tplSymbols)):\n",
    "        sCategory = '\\\\'.join(tplSymbols[i]._asdict()['path'].split('\\\\')[:-1]) +'\\\\'\n",
    "        if sCategory not in aCategories:\n",
    "            aCategories.append(sCategory)\n",
    "    return aCategories"
   ]
  },
  {
   "cell_type": "code",
   "execution_count": 8,
   "id": "57c85547-8d50-455b-90f7-e7f24f95a512",
   "metadata": {},
   "outputs": [],
   "source": [
    "aCategories = aGetUniqueCategories(tplSymbols)\n",
    "\n",
    "sCategory = 'Stocks\\\\Germany\\\\Banking & Investment Services\\\\Banks\\\\'\n",
    "dfFilteredSymbols = dfSymbols[dfSymbols['path'].str.contains(sCategory, regex=False) == True]\n",
    "\n",
    "dfOhlc = pd.DataFrame()\n",
    "\n",
    "for iIndex, srsRow in dfFilteredSymbols.iterrows():\n",
    "    sSymbolName = dfFilteredSymbols.loc[iIndex, 'name']\n",
    "\n",
    "    dfOhlcSample =  dfFetchSampleDataFromMt(sSymbolName)\n",
    "    if len(dfOhlcSample) > 1000:\n",
    "        dfOhlcSample = dfCalculateReturn(dfOhlcSample)\n",
    "        dfOhlcSample['EXCHANGE_RATE'] =  sSymbolName\n",
    "        dfOhlc = dfOhlc.append(dfOhlcSample)\\\n",
    "        \n",
    "dfOhlc.reset_index(drop = True, inplace = True)"
   ]
  },
  {
   "cell_type": "code",
   "execution_count": 9,
   "id": "8b9a549f-4474-4a67-bb1e-bba6fd01b2a5",
   "metadata": {},
   "outputs": [],
   "source": [
    "aExchangeRates = list(dfOhlc['EXCHANGE_RATE'].unique())\n",
    "aReturnSigns = ['negative', 'positive']"
   ]
  },
  {
   "cell_type": "markdown",
   "id": "da5d4f17-3fa9-41fd-a1c7-b3094cfeac65",
   "metadata": {
    "tags": []
   },
   "source": [
    "# OUTPUT DATASET"
   ]
  },
  {
   "cell_type": "code",
   "execution_count": 10,
   "id": "7479b9dd-fb95-4497-ac6a-3f48d338bf41",
   "metadata": {},
   "outputs": [],
   "source": [
    "aForwardTimeSteps = list(range(0, 3))\n",
    "\n",
    "\n",
    "aBins = [0, 0.0005 ,0.001, 0.002, 0.004, 0.008, np.inf]\n",
    "aOrdinals = [1, 2,3,4,5, 6]"
   ]
  },
  {
   "cell_type": "code",
   "execution_count": 11,
   "id": "a00ca6a8-c40e-4716-9964-342f74cec14b",
   "metadata": {},
   "outputs": [],
   "source": [
    "dfOhlc['RETURN_ABS'] = abs(dfOhlc['RETURN'])\n",
    "\n",
    "ixNegative = dfOhlc[dfOhlc['RETURN'] < 0].index\n",
    "ixPositive = dfOhlc[dfOhlc['RETURN'] >= 0].index\n",
    "dfOhlc.loc[ixNegative, 'RETURN_SIGN'] = 'negative'\n",
    "dfOhlc.loc[ixPositive, 'RETURN_SIGN'] = 'positive'\n",
    "\n",
    "dfOhlc['RETURN_ABS_BIN'] = pd.cut(dfOhlc['RETURN_ABS'], bins = aBins, labels = aOrdinals ,right=  False) "
   ]
  },
  {
   "cell_type": "markdown",
   "id": "f934d654-f9e3-4dc3-9d93-7d17b0d1cad6",
   "metadata": {
    "tags": []
   },
   "source": [
    "## Return Prediction"
   ]
  },
  {
   "cell_type": "code",
   "execution_count": 12,
   "id": "867d7e6c-58f9-4ef8-b09c-20aa9b08151d",
   "metadata": {},
   "outputs": [],
   "source": [
    "dfOhlcCopy = dfOhlc.copy()\n",
    "\n",
    "\n",
    "ixCols = pd.MultiIndex.from_product(\n",
    "    [aReturnSigns, aForwardTimeSteps, aExchangeRates],\n",
    "    names=['RETURN_SIGNS', 'FORWARD_TIME_STEPS', 'EXCHANGE_RATES']\n",
    ")\n",
    "\n",
    "ixRows = np.sort(dfOhlcCopy['time'].unique())\n",
    "\n",
    "dfY = pd.DataFrame(index = ixRows ,columns = ixCols)\n",
    "\n",
    "for ix in ixCols:\n",
    "    sReturnSign  = ix[0]\n",
    "    iForwardTimeStep  = ix[1]\n",
    "    sExchangeRate = ix[2]\n",
    "    \n",
    "    \n",
    "    df = dfOhlcCopy[(dfOhlcCopy['RETURN_SIGN'] == sReturnSign) & (dfOhlcCopy['EXCHANGE_RATE'] == sExchangeRate)]\n",
    "    df.set_index('time', inplace = True)\n",
    "    df.sort_index(inplace = True)\n",
    "    srs = df['RETURN_ABS'].shift(-iForwardTimeStep)\n",
    "    \n",
    "    dfY.loc[srs.index, (sReturnSign, iForwardTimeStep, sExchangeRate)] = srs.values\n",
    "\n",
    "    \n",
    "dfY.iloc[:-len(aForwardTimeSteps)]\n",
    "dfY.fillna(0, inplace = True)\n",
    "y = dfY.values.reshape(-1,len(aReturnSigns), len(aForwardTimeSteps), len(aExchangeRates))"
   ]
  },
  {
   "cell_type": "markdown",
   "id": "222ef8c2-9f55-4371-b4fd-2d852a188755",
   "metadata": {
    "tags": []
   },
   "source": [
    "## Ranking Prediction"
   ]
  },
  {
   "cell_type": "code",
   "execution_count": 13,
   "id": "5dc504ee-d6fb-4332-976c-9fe7d1cf6693",
   "metadata": {},
   "outputs": [],
   "source": [
    "dfOhlcCopy = dfOhlc.copy()\n",
    "\n",
    "\n",
    "ixCols = pd.MultiIndex.from_product(\n",
    "    [aReturnSigns, aForwardTimeSteps, aExchangeRates],\n",
    "    names=['RETURN_SIGNS', 'FORWARD_TIME_STEPS', 'EXCHANGE_RATES']\n",
    ")\n",
    "\n",
    "ixRows = np.sort(dfOhlcCopy['time'].unique())\n",
    "\n",
    "dfY = pd.DataFrame(index = ixRows ,columns = ixCols)\n",
    "\n",
    "for ix in ixCols:\n",
    "    sReturnSign  = ix[0]\n",
    "    iForwardTimeStep  = ix[1]\n",
    "    sExchangeRate = ix[2]\n",
    "    \n",
    "    df = dfOhlcCopy[(dfOhlcCopy['RETURN_SIGN'] == sReturnSign) & (dfOhlcCopy['EXCHANGE_RATE'] == sExchangeRate)]\n",
    "    df.set_index('time', inplace = True)\n",
    "    df.sort_index(inplace = True)\n",
    "    srs = df['RETURN_ABS'].shift(-iForwardTimeStep)\n",
    "    \n",
    "    dfY.loc[srs.index, (sReturnSign, iForwardTimeStep, sExchangeRate)] = srs.values\n",
    "\n",
    "    \n",
    "dfY.iloc[:-len(aForwardTimeSteps)]\n",
    "dfY.fillna(0, inplace = True)\n",
    "\n",
    "for i in aForwardTimeSteps:\n",
    "    dfY.loc[:, (aReturnSigns, i)] = dfY.loc[:, (aReturnSigns, i)].rank(axis = 1, method = 'dense')-1\n",
    "\n",
    "    \n",
    "y = dfY.values.reshape(-1,len(aReturnSigns), len(aForwardTimeSteps), len(aExchangeRates))"
   ]
  },
  {
   "cell_type": "markdown",
   "id": "df6ca86a-0eab-4209-8070-f1f9b84284bd",
   "metadata": {
    "tags": []
   },
   "source": [
    "## Ordinal Bin Prediction"
   ]
  },
  {
   "cell_type": "code",
   "execution_count": 14,
   "id": "3716bc2b-37d3-46d9-93f8-cfd4366de09b",
   "metadata": {
    "tags": []
   },
   "outputs": [],
   "source": [
    "dfOhlcCopy = dfOhlc.copy()\n",
    "\n",
    "\n",
    "ixCols = pd.MultiIndex.from_product(\n",
    "    [aReturnSigns, aForwardTimeSteps, aExchangeRates],\n",
    "    names=['RETURN_SIGNS', 'FORWARD_TIME_STEPS', 'EXCHANGE_RATES']\n",
    ")\n",
    "\n",
    "ixRows = np.sort(dfOhlcCopy['time'].unique())\n",
    "\n",
    "dfY = pd.DataFrame(index = ixRows ,columns = ixCols)\n",
    "\n",
    "for ix in ixCols:\n",
    "    sReturnSign  = ix[0]\n",
    "    iForwardTimeStep  = ix[1]\n",
    "    sExchangeRate = ix[2]\n",
    "    \n",
    "    df = dfOhlcCopy[(dfOhlcCopy['RETURN_SIGN'] == sReturnSign) & (dfOhlcCopy['EXCHANGE_RATE'] == sExchangeRate)]\n",
    "    df.set_index('time', inplace = True)\n",
    "    df.sort_index(inplace = True)\n",
    "    srs = df['RETURN_ABS'].shift(-iForwardTimeStep)\n",
    "    \n",
    "    dfY.loc[srs.index, (sReturnSign, iForwardTimeStep, sExchangeRate)] = pd.cut(srs.values, bins = aBins, labels = aOrdinals, right = False)\n",
    "\n",
    "dfY.iloc[:-len(aForwardTimeSteps)]\n",
    "dfY.fillna(0, inplace = True)\n",
    "y = dfY.values.reshape(-1,len(aReturnSigns), len(aForwardTimeSteps), len(aExchangeRates))"
   ]
  },
  {
   "cell_type": "markdown",
   "id": "a65dd546-5a74-491b-bb51-b7ec10fd7a7b",
   "metadata": {},
   "source": [
    "## Binary Bin Prediction"
   ]
  },
  {
   "cell_type": "code",
   "execution_count": 15,
   "id": "1ae39f96-c5cb-40af-a83d-5d2ca9b51e9a",
   "metadata": {},
   "outputs": [],
   "source": [
    "dfOhlcCopy = dfOhlc.copy()\n",
    "\n",
    "ixCols = pd.MultiIndex.from_product(\n",
    "    [aReturnSigns, aForwardTimeSteps, aExchangeRates, aOrdinals],\n",
    "    names=['RETURN_SIGNS', 'FORWARD_TIME_STEPS', 'EXCHANGE_RATES', 'BINS']\n",
    ")\n",
    "\n",
    "ixRows = np.sort(dfOhlcCopy['time'].unique())\n",
    "\n",
    "dfY = pd.DataFrame(index = ixRows ,columns = ixCols)\n",
    "\n",
    "for ix in ixCols:\n",
    "    sReturnSign  = ix[0]\n",
    "    iForwardTimeStep  = ix[1]\n",
    "    sExchangeRate = ix[2]\n",
    "    iBin  = ix[3]\n",
    "    \n",
    "    df = dfOhlcCopy[(dfOhlcCopy['RETURN_SIGN'] == sReturnSign) & (dfOhlcCopy['EXCHANGE_RATE'] == sExchangeRate) & (dfOhlcCopy['RETURN_ABS_BIN'] == iBin) ]\n",
    "    df.set_index('time', inplace = True)\n",
    "    df.sort_index(inplace = True)\n",
    "    srs = df['RETURN_ABS'].shift(-iForwardTimeStep)\n",
    "    \n",
    "    dfY.loc[srs.index, (sReturnSign, iForwardTimeStep, sExchangeRate, iBin)] = 1\n",
    "    \n",
    "dfY.fillna(0, inplace = True)\n",
    "y = dfY.values.reshape(-1,len(aReturnSigns), len(aForwardTimeSteps), len(aExchangeRates),  len(aBins)-1)"
   ]
  },
  {
   "cell_type": "markdown",
   "id": "46d3dc72-3e84-4660-85fc-9e67f819fef2",
   "metadata": {
    "tags": []
   },
   "source": [
    "# INPUT DATASET"
   ]
  },
  {
   "cell_type": "markdown",
   "id": "3b76859e-c62f-4f4f-ac48-557af8d8db45",
   "metadata": {},
   "source": [
    "Input dataset consists of following subsets:\n",
    "1. Return values backward. (to be fed to embedding layer)\n",
    "1. Seasonsal features"
   ]
  },
  {
   "cell_type": "code",
   "execution_count": 16,
   "id": "873f1d28-63a7-4d6a-b030-03d970364b05",
   "metadata": {
    "tags": []
   },
   "outputs": [],
   "source": [
    "df = dfOhlc.copy()\n",
    "\n",
    "aBackwardTimeSteps = list(range(-3, 0))\n",
    "\n",
    "ixCols = pd.MultiIndex.from_product(\n",
    "    [aBackwardTimeSteps, aExchangeRates],\n",
    "    names=['BACKWARD_TIME_STEPS', 'EXCHANGE_RATES']\n",
    ")\n",
    "\n",
    "ixRows = np.sort(df['time'].unique())\n",
    "\n",
    "dfX_return = pd.DataFrame(index = ixRows ,columns = ixCols)\n",
    "\n",
    "\n",
    "for ix in ixCols:\n",
    "    iBackwardTimeStep  = ix[0]\n",
    "    sExchangeRate = ix[1]\n",
    "    \n",
    "    \n",
    "    dfFiltered = df[(df['EXCHANGE_RATE'] == sExchangeRate)]\n",
    "    dfFiltered.set_index('time', inplace = True)\n",
    "    dfFiltered.sort_index(inplace = True)\n",
    "    srs = dfFiltered['RETURN'].shift(-iBackwardTimeStep)\n",
    "    \n",
    "    dfX_return.loc[srs.index, (iBackwardTimeStep, sExchangeRate)] = srs.values\n",
    "\n",
    "dfX_return= dfX_return.iloc[len(aBackwardTimeSteps):]\n",
    "dfX_return.fillna(0, inplace = True)\n",
    "X_return = dfX_return.values.reshape(-1,len(aBackwardTimeSteps), len(aExchangeRates))"
   ]
  },
  {
   "cell_type": "code",
   "execution_count": 17,
   "id": "827e33ce-5ad4-4b2f-a671-b3d5ad10e55c",
   "metadata": {},
   "outputs": [],
   "source": [
    "dfX_seaonsal = pd.DataFrame(index = dfX_return.index, columns = ['MINUTE', 'HOUR', 'DAY_OF_WEEK', 'DAY_OF_MONTH'])\n",
    "dfX_seaonsal.loc[:, 'MINUTE'] = pd.to_datetime(dfX_seaonsal.index,unit='s').minute\n",
    "dfX_seaonsal.loc[:, 'HOUR'] = pd.to_datetime(dfX_seaonsal.index,unit='s').hour\n",
    "dfX_seaonsal.loc[:, 'DAY_OF_WEEK'] = pd.to_datetime(dfX_seaonsal.index,unit='s').day_of_week\n",
    "dfX_seaonsal.loc[:, 'DAY_OF_MONTH'] = pd.to_datetime(dfX_seaonsal.index,unit='s').day\n",
    "X_seasonal = dfX_seaonsal.values"
   ]
  }
 ],
 "metadata": {
  "kernelspec": {
   "display_name": "Python 3",
   "language": "python",
   "name": "python3"
  },
  "language_info": {
   "codemirror_mode": {
    "name": "ipython",
    "version": 3
   },
   "file_extension": ".py",
   "mimetype": "text/x-python",
   "name": "python",
   "nbconvert_exporter": "python",
   "pygments_lexer": "ipython3",
   "version": "3.7.10"
  }
 },
 "nbformat": 4,
 "nbformat_minor": 5
}
