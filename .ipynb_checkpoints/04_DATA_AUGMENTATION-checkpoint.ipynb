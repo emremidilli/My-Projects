{
 "cells": [
  {
   "cell_type": "markdown",
   "id": "6df9f720-80c0-4e2c-bffd-1adc408a0942",
   "metadata": {
    "tags": []
   },
   "source": [
    "# CONSTANTS"
   ]
  },
  {
   "cell_type": "code",
   "execution_count": 1,
   "id": "588aac77-3d56-4391-8c5b-cde36c9defb8",
   "metadata": {},
   "outputs": [],
   "source": [
    "import CONSTANTS as c\n",
    "\n",
    "NR_OF_ENSEMBLED_MODELS = c.NR_OF_ENSEMBLED_MODELS\n",
    "DATA_AUGMENTATION_BASE_MODEL_PATH = c.DATA_AUGMENTATION_BASE_MODEL_PATH \n",
    "RANDOM_STATE = c.RANDOM_STATE"
   ]
  },
  {
   "cell_type": "markdown",
   "id": "2932f53b-a4c3-44dd-81b4-dfaeeec5ce62",
   "metadata": {
    "jp-MarkdownHeadingCollapsed": true,
    "tags": []
   },
   "source": [
    "# LIBRARIES"
   ]
  },
  {
   "cell_type": "code",
   "execution_count": 2,
   "id": "e3faf209-ffad-4857-bd84-73333e63c88a",
   "metadata": {},
   "outputs": [],
   "source": [
    "import pandas as pd\n",
    "\n",
    "import numpy as np\n",
    "\n",
    "from imblearn.over_sampling import SMOTEN\n",
    "\n",
    "import tensorflow as tf\n",
    "\n",
    "import seaborn as sns\n",
    "\n",
    "import matplotlib.pyplot as plt\n",
    "\n",
    "from sklearn.metrics import classification_report\n",
    "from sklearn.metrics import confusion_matrix, ConfusionMatrixDisplay"
   ]
  },
  {
   "cell_type": "markdown",
   "id": "ac7fa973-9b81-42af-acb4-bfb0f1fad5f8",
   "metadata": {
    "jp-MarkdownHeadingCollapsed": true,
    "tags": []
   },
   "source": [
    "# DATA SOURCE"
   ]
  },
  {
   "cell_type": "code",
   "execution_count": 3,
   "id": "2fb216d6-69ac-4f2e-ae65-c127039e70e1",
   "metadata": {},
   "outputs": [],
   "source": [
    "X = np.load(r'C:\\Users\\yunus\\Desktop\\Feature Engineered Data\\X.npy')\n",
    "Y = np.load(r'C:\\Users\\yunus\\Desktop\\Feature Engineered Data\\Y.npy')\n",
    "X_TIME = np.load(r'C:\\Users\\yunus\\Desktop\\Feature Engineered Data\\X_TIME.npy')"
   ]
  },
  {
   "cell_type": "code",
   "execution_count": 4,
   "id": "6966331a-cbc2-4cef-a3e3-b179acb06d6a",
   "metadata": {},
   "outputs": [],
   "source": [
    "Y = Y[:,0,:,0]\n",
    "X = X[:,:,:,0]\n",
    "\n",
    "Y  = Y[:, int(Y.shape[1]/2):]"
   ]
  },
  {
   "cell_type": "markdown",
   "id": "f0800021-d6ce-4501-852a-0965924f5d15",
   "metadata": {
    "tags": []
   },
   "source": [
    "# PREPROCESSING"
   ]
  },
  {
   "cell_type": "code",
   "execution_count": 5,
   "id": "d3698fc1-f552-46c4-b8db-5af13c1a5f99",
   "metadata": {},
   "outputs": [],
   "source": [
    "Y_ORDINAL = np.sum(Y,axis = 1)\n",
    "Y_ORDINAL = np.expand_dims(a= Y_ORDINAL, axis = 1)\n",
    "\n",
    "X_RESHAPED = np.reshape(X,(X.shape[0], -1))\n",
    "X_RESHAPED = np.concatenate((X_RESHAPED,X_TIME), axis = 1)"
   ]
  },
  {
   "cell_type": "code",
   "execution_count": null,
   "id": "1b466aff-f91e-4138-a9dc-005008d64142",
   "metadata": {},
   "outputs": [],
   "source": [
    "############################################# Bagging #############################################\n",
    "aUniqueClasses =  np.unique(Y, axis = 0, return_counts=True)\n",
    "iNrOfUniqueClasses = len(aUniqueClasses[0])\n",
    "\n",
    "iSizeOfBag = int(len(Y)/NR_OF_ENSEMBLED_MODELS)\n",
    "while iSizeOfBag%NR_OF_ENSEMBLED_MODELS != 0:\n",
    "     iSizeOfBag =  iSizeOfBag + 1\n",
    "\n",
    "\n",
    "iSizeOfEachClass = int(iSizeOfBag/NR_OF_ENSEMBLED_MODELS)\n",
    "Y_bags = []\n",
    "X_bags = []\n",
    "X_TIME_bags = [] \n",
    "for i in range(NR_OF_ENSEMBLED_MODELS):\n",
    "    Y_sampled = np.empty((0, Y.shape[1]))\n",
    "    X_sampled = np.empty((0, X.shape[1], X.shape[2]))\n",
    "    X_TIME_sampled = np.empty((0, X_TIME.shape[1]))\n",
    "    for j in range(iNrOfUniqueClasses):\n",
    "        aClassToSample =  aUniqueClasses[0][j]\n",
    "        aIndicesToSample = np.where((Y == aClassToSample).all(axis=1))[0]\n",
    "        \n",
    "        iIndicesSampled = np.random.choice(aIndicesToSample, iSizeOfEachClass)\n",
    "        Y_sampled = np.concatenate((Y_sampled, Y[iIndicesSampled]))\n",
    "        X_sampled = np.concatenate((X_sampled, X[iIndicesSampled]))\n",
    "        X_TIME_sampled = np.concatenate((X_TIME_sampled, X_TIME[iIndicesSampled]))\n",
    "        \n",
    "    Y_bags.append(Y_sampled)\n",
    "    X_bags.append(X_sampled)\n",
    "    X_TIME_bags.append(X_TIME_sampled)\n",
    "    \n",
    "\n",
    "Y_bags = np.array(Y_bags)\n",
    "X_bags = np.array(X_bags)\n",
    "X_TIME_bags = np.array(X_TIME_bags) "
   ]
  },
  {
   "cell_type": "code",
   "execution_count": 6,
   "id": "5939f0b0-31c0-40db-b12b-dbe2237dcdea",
   "metadata": {},
   "outputs": [],
   "source": [
    "############################################# Random Undersampler #############################################\n",
    "from imblearn.under_sampling import RandomUnderSampler\n",
    "\n",
    "oRandomUnderSampler = RandomUnderSampler(random_state=42)\n",
    "X_res, y_res = oRandomUnderSampler.fit_resample(X_RESHAPED, Y_ORDINAL)\n"
   ]
  },
  {
   "cell_type": "code",
   "execution_count": null,
   "id": "3c7f199b-40a6-4fb7-bffe-fb31030191f1",
   "metadata": {},
   "outputs": [],
   "source": [
    "############################################# SMOTEN Oversampling #############################################\n",
    "\n",
    "\n",
    "# oSmote = SMOTEN(random_state=42)\n",
    "\n",
    "# X_res, y_res = oSmote.fit_resample(X_RESHAPED, Y_ORDINAL)\n",
    "\n",
    "\n",
    "# X_TIME_smoten = X_res[:, -X_TIME.shape[1]:]\n",
    "# X_smoten = X_res[:, :-X_TIME.shape[1]]\n",
    "# X_smoten = np.reshape(X_smoten, (-1, X.shape[1], X.shape[2]))\n",
    "# Y_smoten = np.zeros((y_res.shape[0], Y.shape[1]) )\n",
    "\n",
    "# aUniqueVals = np.unique(y_res, return_counts=False)\n",
    "# for iLabel in aUniqueVals:\n",
    "#     aIndicesToAdjust = np.where(y_res == iLabel)[0]\n",
    "#     Y_smoten[aIndicesToAdjust,:int(iLabel)] = 1\n",
    "    \n",
    "# # check quality of X_TIME_smoten"
   ]
  },
  {
   "cell_type": "markdown",
   "id": "96056231-43e2-4575-bb00-181c3d478a1c",
   "metadata": {
    "jp-MarkdownHeadingCollapsed": true,
    "tags": []
   },
   "source": [
    "# ANALYSIS"
   ]
  },
  {
   "cell_type": "markdown",
   "id": "a77c994c-050a-4336-9746-a82f296938eb",
   "metadata": {
    "tags": []
   },
   "source": [
    "## Bagging"
   ]
  },
  {
   "cell_type": "code",
   "execution_count": null,
   "id": "62332cc7-9a3a-4647-ac30-cff8bf4875a0",
   "metadata": {},
   "outputs": [],
   "source": [
    "dicModels = {}\n",
    "dicModelEpcochs = {}\n",
    "for i in range(NR_OF_ENSEMBLED_MODELS):\n",
    "    \n",
    "    print(i)\n",
    "    oModel = tf.keras.models.load_model(DATA_AUGMENTATION_BASE_MODEL_PATH)\n",
    "\n",
    "    # fit model\n",
    "    oModel.fit(\n",
    "        X_bags[i], \n",
    "        Y_bags[i], \n",
    "        epochs= 10**2, \n",
    "        batch_size=2**12, \n",
    "        verbose=0\n",
    "    )\n",
    "    \n",
    "    dicModels[i] = oModel\n",
    "    dicModelEpcochs[i] = pd.DataFrame(dicModels[i].history.history)\n",
    "    \n",
    "    \n",
    "    \n",
    "plt.figure(figsize = (20, 8))\n",
    "# show epoch history\n",
    "for i in range(NR_OF_ENSEMBLED_MODELS):\n",
    "    sns.lineplot(data =  dicModelEpcochs[i]['loss'].iloc[1:], legend = True, label = 'Train')\n",
    "plt.show()\n",
    "    \n",
    "# test  \n",
    "pred = np.zeros((Y.shape[0], NR_OF_ENSEMBLED_MODELS ,Y.shape[1]))\n",
    "for i in range(NR_OF_ENSEMBLED_MODELS):\n",
    "    pred[:, i,:] =  dicModels[i].predict(X)\n",
    "\n",
    "pred = np.mean(pred, axis = 1)\n",
    "pred[pred>=0.5] = 1\n",
    "pred[pred<0.5] = 0\n",
    "\n",
    "\n",
    "ground_true = Y\n",
    "print(classification_report(ground_true, pred, zero_division = 0))\n",
    "\n",
    "# confusion matrix\n",
    "for i in range(pred.shape[1]):\n",
    "    oCm = confusion_matrix(ground_true[:, i], pred[:, i])\n",
    "    oFig = ConfusionMatrixDisplay(confusion_matrix=oCm)\n",
    "    oFig.plot()\n",
    "    oFig.ax_.set_title('{}'.format(i))\n",
    "    plt.show()"
   ]
  },
  {
   "cell_type": "markdown",
   "id": "ce114b40-4e56-4918-83c8-72d318822418",
   "metadata": {
    "jp-MarkdownHeadingCollapsed": true,
    "tags": []
   },
   "source": [
    "# SAVE"
   ]
  },
  {
   "cell_type": "code",
   "execution_count": null,
   "id": "db8d0055-f538-4a8d-9afb-95821c8c75d5",
   "metadata": {},
   "outputs": [],
   "source": [
    "# BAGS\n",
    "np.save(r'C:\\Users\\yunus\\Desktop\\Augmented Data\\Bagging\\Y_bags.npy', Y_bags)\n",
    "np.save(r'C:\\Users\\yunus\\Desktop\\Augmented Data\\Bagging\\X_bags.npy', X_bags)\n",
    "np.save(r'C:\\Users\\yunus\\Desktop\\Augmented Data\\Bagging\\X_TIME_bags.npy', X_TIME_bags)"
   ]
  },
  {
   "cell_type": "code",
   "execution_count": null,
   "id": "cdf9c756-21fe-472a-a234-fa9caa7b1bc6",
   "metadata": {},
   "outputs": [],
   "source": [
    "# SMOTEN\n",
    "np.save(r'C:\\Users\\yunus\\Desktop\\Augmented Data\\Bagging\\X_smoten.npy', X_smoten)\n",
    "np.save(r'C:\\Users\\yunus\\Desktop\\Augmented Data\\Bagging\\Y_smoten.npy', Y_smoten)\n",
    "np.save(r'C:\\Users\\yunus\\Desktop\\Augmented Data\\Bagging\\X_TIME_smoten.npy', X_TIME_smoten)"
   ]
  }
 ],
 "metadata": {
  "kernelspec": {
   "display_name": "Python 3",
   "language": "python",
   "name": "python3"
  },
  "language_info": {
   "codemirror_mode": {
    "name": "ipython",
    "version": 3
   },
   "file_extension": ".py",
   "mimetype": "text/x-python",
   "name": "python",
   "nbconvert_exporter": "python",
   "pygments_lexer": "ipython3",
   "version": "3.7.10"
  }
 },
 "nbformat": 4,
 "nbformat_minor": 5
}
