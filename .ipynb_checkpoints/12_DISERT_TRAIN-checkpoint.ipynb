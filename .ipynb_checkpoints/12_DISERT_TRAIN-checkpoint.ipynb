{
 "cells": [
  {
   "cell_type": "code",
   "execution_count": 1,
   "id": "ea8a1af9-33ff-4dc9-9fe7-7451e867c410",
   "metadata": {},
   "outputs": [],
   "source": [
    "######################################################## LIBRARIES ########################################################\n",
    "import tensorflow as tf\n",
    "\n",
    "import numpy as np\n",
    "\n",
    "from sklearn.metrics import classification_report\n",
    "\n",
    "import CONSTANTS as c\n",
    "######################################################## CONSTANTS ########################################################\n",
    "ATTENTION_KEY_DIMS =c.ATTENTION_KEY_DIMS\n",
    "ATTENTION_NR_OF_HEADS = c.ATTENTION_NR_OF_HEADS\n",
    "ENCODER_DENSE_DIMS = c.ENCODER_DENSE_DIMS\n",
    "DROPOUT_RATE = c.DROPOUT_RATE\n",
    "NR_OF_ENCODER_BLOCKS = c.NR_OF_ENCODER_BLOCKS\n",
    "\n",
    "CHECKPOINT_PATH =  c.CHECKPOINT_PATH\n",
    "DISERT_DATA_PATH = c.DISERT_DATA_PATH\n",
    "\n",
    "STOPPER_THRESHOLD = c.STOPPER_THRESHOLD\n",
    "######################################################## DATA SOURCE ########################################################\n",
    "X_MLM = np.load(f'{DISERT_DATA_PATH}\\X_MLM.npy')\n",
    "Y_MLM = np.load(f'{DISERT_DATA_PATH}\\Y_MLM.npy')\n",
    "X_NSP = np.load(f'{DISERT_DATA_PATH}\\X_NSP.npy')\n",
    "Y_NSP = np.load(f'{DISERT_DATA_PATH}\\Y_NSP.npy')"
   ]
  },
  {
   "cell_type": "code",
   "execution_count": 3,
   "id": "feeae18c-2f6b-4bfa-892b-997aeaa18e79",
   "metadata": {},
   "outputs": [],
   "source": [
    "X_MLM = X_MLM[:4000]\n",
    "X_NSP = X_NSP[:4000]\n",
    "Y_MLM = Y_MLM[:4000]\n",
    "Y_NSP = Y_NSP[:4000]"
   ]
  },
  {
   "cell_type": "code",
   "execution_count": 2,
   "id": "995a7e1a-000c-47e4-88b6-18f5836acc21",
   "metadata": {},
   "outputs": [],
   "source": [
    "# DisERT_model.compile(\n",
    "#     optimizer=tf.keras.optimizers.Adam(learning_rate=1e-3), \n",
    "#     loss = [mlm_custom_loss, nsp__custom_loss]\n",
    "# )\n",
    "\n",
    "# print(DisERT_model.summary())\n",
    "# tf.keras.utils.plot_model(DisERT_model, show_shapes=True)"
   ]
  },
  {
   "cell_type": "code",
   "execution_count": 20,
   "id": "8ba2e42f-deb4-4449-a8ca-66ef01ff4396",
   "metadata": {},
   "outputs": [],
   "source": [
    "import time\n",
    "import os\n",
    "\n",
    "class CsvLogger(tf.keras.callbacks.Callback):\n",
    "    \n",
    "    def __init__(self, sFilePath, sDelimeter = ';'):\n",
    "        sFilePath = f'{sFilePath}.txt'\n",
    "        self.sFilePath = sFilePath\n",
    "        self.sDelimeter = sDelimeter\n",
    "\n",
    "\n",
    "    def on_epoch_begin(self, batch, logs={}):\n",
    "        self.epoch_time_start = time.time()\n",
    "        \n",
    "\n",
    "    def on_epoch_end(self, epoch, logs={}):\n",
    "        endTime = time.time()\n",
    "        \n",
    "        logs['start'] = self.epoch_time_start\n",
    "        logs['end'] = endTime\n",
    "        logs['duration'] = endTime - self.epoch_time_start\n",
    "        \n",
    "        logs['epoch'] = epoch\n",
    "        logs['learning_rate'] = self.model.optimizer.lr.numpy()\n",
    "        \n",
    "        if os.path.exists(self.sFilePath) == False:\n",
    "            with open(self.sFilePath, 'a') as f: \n",
    "                f.write(self.sDelimeter.join([str(i) for i in logs.keys()]))\n",
    "                f.write('\\n') \n",
    "                \n",
    "        with open(self.sFilePath, 'a') as f: \n",
    "            f.write(self.sDelimeter.join([str(i) for i in logs.values()]))\n",
    "            f.write('\\n')\n",
    "            \n",
    "    \n",
    "class ThresholdStopper(tf.keras.callbacks.Callback):\n",
    "    def __init__(self, threshold):\n",
    "        self.threshold = threshold\n",
    "\n",
    "    def on_batch_end(self, batch, logs={}):\n",
    "        if logs.get('loss') <= self.threshold:\n",
    "             self.model.stop_training = True"
   ]
  },
  {
   "cell_type": "code",
   "execution_count": 5,
   "id": "4445e3bf-3cab-47dc-9a1a-96d77b7f8571",
   "metadata": {},
   "outputs": [],
   "source": [
    "sCheckPointFilePath = f'{CHECKPOINT_PATH}\\model'\n",
    "sCsvLogFilePath = f'{CHECKPOINT_PATH}\\log'\n",
    "\n",
    "DisERT_model = tf.keras.models.load_model(sCheckPointFilePath,\n",
    "                                         custom_objects ={'mlm_custom_loss':mlm_custom_loss, 'nsp_custom_loss':nsp_custom_loss} )"
   ]
  },
  {
   "cell_type": "code",
   "execution_count": 22,
   "id": "72c75a8f-dbd4-4cb3-b098-8dfe6c5e62be",
   "metadata": {},
   "outputs": [
    {
     "name": "stdout",
     "output_type": "stream",
     "text": [
      "Epoch 1/2\n",
      "1/8 [==>...........................] - ETA: 3s - loss: 0.1648 - mlm_classifier_loss: 0.0360 - nsp_classifier_loss: 0.1289"
     ]
    },
    {
     "name": "stderr",
     "output_type": "stream",
     "text": [
      "WARNING:absl:Found untraced functions such as _jit_compiled_convolution_op, _jit_compiled_convolution_op, _jit_compiled_convolution_op, _jit_compiled_convolution_op, _jit_compiled_convolution_op while saving (showing 5 of 43). These functions will not be directly callable after loading.\n"
     ]
    },
    {
     "name": "stdout",
     "output_type": "stream",
     "text": [
      "INFO:tensorflow:Assets written to: C:\\Users\\yunus\\Desktop\\Checkpoints\\DisERT\\model\\assets\n"
     ]
    },
    {
     "name": "stderr",
     "output_type": "stream",
     "text": [
      "INFO:tensorflow:Assets written to: C:\\Users\\yunus\\Desktop\\Checkpoints\\DisERT\\model\\assets\n"
     ]
    },
    {
     "name": "stdout",
     "output_type": "stream",
     "text": [
      "8/8 [==============================] - 9s 1s/step - loss: 0.1648 - mlm_classifier_loss: 0.0360 - nsp_classifier_loss: 0.1289 - start: 1676676027.7823 - end: 1676676036.3023 - duration: 8.5200 - epoch: 0.0000e+00 - learning_rate: 0.0010 - lr: 0.0010\n"
     ]
    },
    {
     "data": {
      "text/plain": [
       "<keras.callbacks.History at 0x234bc16c848>"
      ]
     },
     "execution_count": 22,
     "metadata": {},
     "output_type": "execute_result"
    }
   ],
   "source": [
    "# try:\n",
    "#     DisERT_model.load_weights(sCheckPointFilePath)\n",
    "# except:\n",
    "#     print('There is no pre-trained model checkpoint')\n",
    "\n",
    "oCsvLogger=  CsvLogger(sCsvLogFilePath)\n",
    "\n",
    "oDisERTCheckPoint = tf.keras.callbacks.ModelCheckpoint(\n",
    "    filepath=sCheckPointFilePath,\n",
    "    save_weights_only=False,\n",
    "    monitor='loss',\n",
    "    mode='min',\n",
    "    save_best_only=True\n",
    ")\n",
    "\n",
    "oLearningRateReducer = tf.keras.callbacks.ReduceLROnPlateau(\n",
    "    monitor='loss', \n",
    "    factor=0.80,\n",
    "    patience=3, \n",
    "    min_lr=1e-4\n",
    ")\n",
    "\n",
    "oEarlyStopper = tf.keras.callbacks.EarlyStopping(monitor='loss', patience=20)\n",
    "\n",
    "oThresholdStopper = ThresholdStopper(STOPPER_THRESHOLD)\n",
    "\n",
    "DisERT_model.fit(\n",
    "    x = [X_MLM, X_NSP], \n",
    "    y = [Y_MLM, Y_NSP], \n",
    "    batch_size= 512,\n",
    "    epochs=2,\n",
    "    verbose=1,\n",
    "    callbacks = [oDisERTCheckPoint, oCsvLogger, oLearningRateReducer, oEarlyStopper, oThresholdStopper]\n",
    ")"
   ]
  }
 ],
 "metadata": {
  "kernelspec": {
   "display_name": "Python 3",
   "language": "python",
   "name": "python3"
  },
  "language_info": {
   "codemirror_mode": {
    "name": "ipython",
    "version": 3
   },
   "file_extension": ".py",
   "mimetype": "text/x-python",
   "name": "python",
   "nbconvert_exporter": "python",
   "pygments_lexer": "ipython3",
   "version": "3.7.10"
  }
 },
 "nbformat": 4,
 "nbformat_minor": 5
}
