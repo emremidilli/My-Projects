{
 "cells": [
  {
   "cell_type": "code",
   "execution_count": null,
   "id": "a57f4798-055f-46f6-8a6f-319370001722",
   "metadata": {},
   "outputs": [],
   "source": [
    "######################################################## LIBRARIES ########################################################\n",
    "import tensorflow as tf\n",
    "\n",
    "import numpy as np\n",
    "\n",
    "from sklearn.metrics import classification_report\n",
    "\n",
    "import CONSTANTS as c\n",
    "\n",
    "######################################################## CONSTANTS ########################################################\n",
    "\n",
    "CHECKPOINT_PATH =  c.CHECKPOINT_PATH\n",
    "DISERT_DATA_PATH = c.DISERT_DATA_PATH\n",
    "\n",
    "######################################################## DATA SOURCE ########################################################\n",
    "X_MLM = np.load(f'{DISERT_DATA_PATH}\\X_MLM.npy')\n",
    "Y_MLM = np.load(f'{DISERT_DATA_PATH}\\Y_MLM.npy')\n",
    "X_NSP = np.load(f'{DISERT_DATA_PATH}\\X_NSP.npy')\n",
    "Y_NSP = np.load(f'{DISERT_DATA_PATH}\\Y_NSP.npy')"
   ]
  },
  {
   "cell_type": "code",
   "execution_count": null,
   "id": "60083387-96e7-4bf3-86c3-ac0b9405a2c1",
   "metadata": {},
   "outputs": [],
   "source": [
    "DisERT_model.load_weights(CHECKPOINT_PATH)"
   ]
  },
  {
   "cell_type": "code",
   "execution_count": null,
   "id": "2887ea0e-4a08-4cea-abd7-4eb70dec2c46",
   "metadata": {},
   "outputs": [],
   "source": [
    "y_pred_mlm, y_pred_nsp = DisERT_model.predict([X_MLM, X_NSP])\n",
    "y_true_mlm = Y_MLM\n",
    "y_true_nsp = Y_NSP\n",
    "\n",
    "plt.plot(y_pred_mlm[900][2], color = 'red')\n",
    "plt.plot(y_pred_mlm[900][2], color = 'green')"
   ]
  },
  {
   "cell_type": "code",
   "execution_count": null,
   "id": "6d9a379c-ab91-4cbc-b785-0b43e3047435",
   "metadata": {},
   "outputs": [],
   "source": [
    "print(classification_report(y_true_nsp, tf.cast(y_pred_nsp>0.5, tf.dtypes.float32)))"
   ]
  }
 ],
 "metadata": {
  "kernelspec": {
   "display_name": "Python 3",
   "language": "python",
   "name": "python3"
  },
  "language_info": {
   "codemirror_mode": {
    "name": "ipython",
    "version": 3
   },
   "file_extension": ".py",
   "mimetype": "text/x-python",
   "name": "python",
   "nbconvert_exporter": "python",
   "pygments_lexer": "ipython3",
   "version": "3.7.10"
  }
 },
 "nbformat": 4,
 "nbformat_minor": 5
}
