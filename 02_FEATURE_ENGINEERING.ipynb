{
 "cells": [
  {
   "cell_type": "markdown",
   "id": "f631ba25-a190-4b42-88ba-bc99796cee48",
   "metadata": {
    "jp-MarkdownHeadingCollapsed": true,
    "tags": []
   },
   "source": [
    "# CONSTANTS"
   ]
  },
  {
   "cell_type": "code",
   "execution_count": 1,
   "id": "1ca66133-f98e-435d-a0a0-1bdb7f3dc57a",
   "metadata": {},
   "outputs": [],
   "source": [
    "import CONSTANTS as c\n",
    "\n",
    "NR_OF_BINS = c.NR_OF_BINS\n",
    "INTERPLOATION_POINTS = c.INTERPLOATION_POINTS\n",
    "FFT_AC_COEFFICIENT  = c.FFT_AC_COEFFICIENT\n",
    "LOWER_POINT = c.LOWER_POINT\n",
    "UPPER_POINT = c.UPPER_POINT\n",
    "THRESHOLD = c.THRESHOLD\n",
    "NR_OF_PATTERNS = c.NR_OF_PATTERNS"
   ]
  },
  {
   "cell_type": "markdown",
   "id": "66911810-92bf-4c67-9473-b81006865de4",
   "metadata": {
    "jp-MarkdownHeadingCollapsed": true,
    "tags": []
   },
   "source": [
    "# LIBRARIES"
   ]
  },
  {
   "cell_type": "code",
   "execution_count": 2,
   "id": "199f2dbf-e39b-48dd-8b58-852e090a601e",
   "metadata": {},
   "outputs": [],
   "source": [
    "import pandas as pd\n",
    "\n",
    "import numpy as np\n",
    "\n",
    "from scipy import interpolate\n",
    "from numpy.fft import fft,ifft\n",
    "\n",
    "from sklearn.preprocessing import  KBinsDiscretizer"
   ]
  },
  {
   "cell_type": "markdown",
   "id": "51a6f6f3-982d-40d9-8417-81c06f4d039a",
   "metadata": {
    "tags": []
   },
   "source": [
    "# DATA SOURCE"
   ]
  },
  {
   "cell_type": "code",
   "execution_count": 3,
   "id": "a8c0635c-750e-44e2-b23a-e0b5e5693462",
   "metadata": {},
   "outputs": [],
   "source": [
    "X_ORIGINAL = np.load(r'C:\\Users\\yunus\\Desktop\\Preprocessed Data\\X_ORIGINAL.npy')\n",
    "Y_ORIGINAL = np.load(r'C:\\Users\\yunus\\Desktop\\Preprocessed Data\\Y_ORIGINAL.npy')\n",
    "X_TIME_ORIGINAL = np.load(r'C:\\Users\\yunus\\Desktop\\Preprocessed Data\\X_TIME_ORIGINAL.npy')"
   ]
  },
  {
   "cell_type": "code",
   "execution_count": 4,
   "id": "ca5a0252-a656-4eb3-830e-1864f57a6290",
   "metadata": {},
   "outputs": [],
   "source": [
    "X_ORIGINAL = X_ORIGINAL[0:50000]\n",
    "Y_ORIGINAL = Y_ORIGINAL[0:50000]\n",
    "X_TIME_ORIGINAL = X_TIME_ORIGINAL[0:50000]"
   ]
  },
  {
   "cell_type": "markdown",
   "id": "64326b7c-af15-4526-89d5-a94fb78cb413",
   "metadata": {
    "tags": []
   },
   "source": [
    "# ANALYZE"
   ]
  },
  {
   "cell_type": "code",
   "execution_count": 5,
   "id": "bdc3fa8e-3837-4633-848d-ec4b881c184a",
   "metadata": {},
   "outputs": [
    {
     "name": "stderr",
     "output_type": "stream",
     "text": [
      "C:\\Users\\yunus\\AppData\\Local\\Continuum\\anaconda3\\envs\\tf-gpu\\lib\\site-packages\\ipykernel_launcher.py:9: ComplexWarning: Casting complex values to real discards the imaginary part\n",
      "  if __name__ == '__main__':\n"
     ]
    }
   ],
   "source": [
    "######################################################## COMPILE INPUT DATASET(S) ########################################################\n",
    "# reduce dimension of input dataset with fast fourier transform\n",
    "X = np.zeros((X_ORIGINAL.shape[0], X_ORIGINAL.shape[1], FFT_AC_COEFFICIENT, X_ORIGINAL.shape[3]))\n",
    "for i in range(X_ORIGINAL.shape[1]): #future time step\n",
    "    for j in range(X_ORIGINAL.shape[3]): #exchange rate\n",
    "        aTransformed = fft(X_ORIGINAL[:, i,:,j])\n",
    "        aTransformed = aTransformed[:, :FFT_AC_COEFFICIENT]\n",
    "        aInverseTransformed = ifft(aTransformed)\n",
    "        X[:, i,:,j] = aInverseTransformed\n",
    "        \n",
    "X_TIME = X_TIME_ORIGINAL"
   ]
  },
  {
   "cell_type": "code",
   "execution_count": 6,
   "id": "1e5e1c68-38b7-44d9-bec5-09a1cd64a1bc",
   "metadata": {},
   "outputs": [],
   "source": [
    "######################################################## COMPILE OUTPUT DATASET ########################################################\n",
    "Y= Y_ORIGINAL\n",
    "Y[Y<LOWER_POINT] = LOWER_POINT\n",
    "Y[Y>UPPER_POINT] = UPPER_POINT\n",
    "\n",
    "# interplating Y dataset (as data augmentation ?)\n",
    "Y_copy = Y.copy()\n",
    "Y = np.zeros((Y_copy.shape[0], Y_copy.shape[1], INTERPLOATION_POINTS, Y_copy.shape[3]))\n",
    "for i in range(Y_copy.shape[1]): #future time step\n",
    "    for j in range(Y_copy.shape[3]): #exchange rate\n",
    "        aX = list(range(0,60))\n",
    "        aY = Y_copy[:, i,:,j]\n",
    "\n",
    "        oInterpolate = interpolate.interp1d(aX, aY, kind = 'linear')\n",
    "\n",
    "        aX_new = np.linspace(0, 59, INTERPLOATION_POINTS)\n",
    "        aY_new = oInterpolate(aX_new)\n",
    "        \n",
    "        Y[:, i,:,j] = aY_new\n",
    "\n",
    "\n",
    "# discritize output to histogram bin size\n",
    "aHistogramBins = np.linspace(LOWER_POINT,UPPER_POINT, num = INTERPLOATION_POINTS).reshape(-1 ,1)\n",
    "oOutputDiscritizer = KBinsDiscretizer(n_bins = NR_OF_BINS, encode = 'ordinal', strategy = 'uniform')\n",
    "oOutputDiscritizer.fit_transform(aHistogramBins).astype(int)\n",
    "Y = oOutputDiscritizer.transform(Y.reshape(-1,1)).reshape(Y.shape).astype(int)\n",
    "\n",
    "\n",
    "# calculate frequencies\n",
    "Y_copy = Y.copy()\n",
    "Y = np.zeros((Y_copy.shape[0], Y_copy.shape[1], NR_OF_BINS, Y_copy.shape[3]))\n",
    "for i in range(Y_copy.shape[1]): #future time step\n",
    "    for j in range(Y_copy.shape[3]): #exchange rate\n",
    "        aOriginal = Y_copy[:, i,:,j]\n",
    "        df = pd.DataFrame(aOriginal).melt(ignore_index = False)\n",
    "        df.reset_index(inplace = True)\n",
    "        df = pd.pivot_table(df , columns = 'value', index = 'index', values = 'variable', aggfunc='count', fill_value=0)\n",
    "        Y[:, i,:,j] = df.values\n",
    "        \n",
    "# convert to softmax format\n",
    "Y = Y/INTERPLOATION_POINTS\n",
    "\n",
    "\n",
    "# set the active values to 1\n",
    "Y[Y>=THRESHOLD] = 1\n",
    "Y[Y<THRESHOLD] = 0\n",
    "\n",
    "\n",
    "# set points around zero to 1\n",
    "Y_copy = Y.copy()\n",
    "\n",
    "Y = np.zeros(Y_copy.shape)\n",
    "iZeroPoint = int(NR_OF_BINS/2)\n",
    "for i in range(Y_copy.shape[1]): #future time step\n",
    "    for j in range(Y_copy.shape[3]): #exchange rate\n",
    "        for k in range(iZeroPoint):\n",
    "            ixToFix = np.where(Y_copy[:,i,k,j] == 1)[0]\n",
    "            Y[ixToFix,i, k:iZeroPoint, j] = 1\n",
    "            \n",
    "            ixToFix = np.where(Y_copy[:,i,-k,j] == 1)[0]\n",
    "            Y[ixToFix,i, iZeroPoint:-k, j] = 1"
   ]
  },
  {
   "cell_type": "markdown",
   "id": "55cd46f7-133d-4790-8ee4-7c04fad7ff3d",
   "metadata": {
    "tags": []
   },
   "source": [
    "# SAVE"
   ]
  },
  {
   "cell_type": "code",
   "execution_count": 11,
   "id": "2e037a90-9936-4c98-9774-d02a8439ef91",
   "metadata": {},
   "outputs": [],
   "source": [
    "np.save(r'C:\\Users\\yunus\\Desktop\\Feature Engineered Data\\X.npy', X)\n",
    "np.save(r'C:\\Users\\yunus\\Desktop\\Feature Engineered Data\\Y.npy', Y)\n",
    "np.save(r'C:\\Users\\yunus\\Desktop\\Feature Engineered Data\\X_TIME.npy', X_TIME)"
   ]
  }
 ],
 "metadata": {
  "kernelspec": {
   "display_name": "Python 3",
   "language": "python",
   "name": "python3"
  },
  "language_info": {
   "codemirror_mode": {
    "name": "ipython",
    "version": 3
   },
   "file_extension": ".py",
   "mimetype": "text/x-python",
   "name": "python",
   "nbconvert_exporter": "python",
   "pygments_lexer": "ipython3",
   "version": "3.7.10"
  }
 },
 "nbformat": 4,
 "nbformat_minor": 5
}
