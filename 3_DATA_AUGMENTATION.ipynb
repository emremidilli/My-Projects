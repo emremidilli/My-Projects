{
 "cells": [
  {
   "cell_type": "markdown",
   "id": "6df9f720-80c0-4e2c-bffd-1adc408a0942",
   "metadata": {
    "jp-MarkdownHeadingCollapsed": true,
    "tags": []
   },
   "source": [
    "# CONSTANTS"
   ]
  },
  {
   "cell_type": "code",
   "execution_count": 1,
   "id": "588aac77-3d56-4391-8c5b-cde36c9defb8",
   "metadata": {},
   "outputs": [],
   "source": [
    "import CONSTANTS as c\n",
    "\n",
    "NR_OF_ENSEMBLED_MODELS = c.NR_OF_ENSEMBLED_MODELS"
   ]
  },
  {
   "cell_type": "markdown",
   "id": "2932f53b-a4c3-44dd-81b4-dfaeeec5ce62",
   "metadata": {
    "jp-MarkdownHeadingCollapsed": true,
    "tags": []
   },
   "source": [
    "# LIBRARIES"
   ]
  },
  {
   "cell_type": "code",
   "execution_count": 2,
   "id": "e3faf209-ffad-4857-bd84-73333e63c88a",
   "metadata": {},
   "outputs": [],
   "source": [
    "import numpy as np\n",
    "\n",
    "from imblearn.over_sampling import SMOTEN"
   ]
  },
  {
   "cell_type": "markdown",
   "id": "ac7fa973-9b81-42af-acb4-bfb0f1fad5f8",
   "metadata": {
    "jp-MarkdownHeadingCollapsed": true,
    "tags": []
   },
   "source": [
    "# DATA SOURCE"
   ]
  },
  {
   "cell_type": "code",
   "execution_count": 3,
   "id": "2fb216d6-69ac-4f2e-ae65-c127039e70e1",
   "metadata": {},
   "outputs": [],
   "source": [
    "X = np.load(r'C:\\Users\\yunus\\Desktop\\Feature Engineered Data\\X.npy')\n",
    "Y = np.load(r'C:\\Users\\yunus\\Desktop\\Feature Engineered Data\\Y.npy')\n",
    "X_TIME = np.load(r'C:\\Users\\yunus\\Desktop\\Feature Engineered Data\\X_TIME.npy')"
   ]
  },
  {
   "cell_type": "code",
   "execution_count": 4,
   "id": "6966331a-cbc2-4cef-a3e3-b179acb06d6a",
   "metadata": {},
   "outputs": [],
   "source": [
    "Y = Y[:,0,:,0]\n",
    "X = X[:,:,:,0]"
   ]
  },
  {
   "cell_type": "code",
   "execution_count": 5,
   "id": "47da18e3-b43c-4a10-b71e-91101107c6e8",
   "metadata": {},
   "outputs": [],
   "source": [
    "Y  = Y[:, int(Y.shape[1]/2):]"
   ]
  },
  {
   "cell_type": "markdown",
   "id": "96056231-43e2-4575-bb00-181c3d478a1c",
   "metadata": {
    "jp-MarkdownHeadingCollapsed": true,
    "tags": []
   },
   "source": [
    "# ANALYSIS"
   ]
  },
  {
   "cell_type": "markdown",
   "id": "9bce7fd8-8bcd-4525-895f-14a29d934d2c",
   "metadata": {
    "jp-MarkdownHeadingCollapsed": true,
    "tags": []
   },
   "source": [
    "## Bagging"
   ]
  },
  {
   "cell_type": "code",
   "execution_count": 6,
   "id": "1b466aff-f91e-4138-a9dc-005008d64142",
   "metadata": {},
   "outputs": [],
   "source": [
    "aUniqueClasses =  np.unique(Y, axis = 0, return_counts=True)\n",
    "iNrOfUniqueClasses = len(aUniqueClasses[0])\n",
    "\n",
    "iSizeOfBag = int(len(Y)/NR_OF_ENSEMBLED_MODELS)\n",
    "while iSizeOfBag%NR_OF_ENSEMBLED_MODELS != 0:\n",
    "     iSizeOfBag =  iSizeOfBag + 1\n",
    "\n",
    "\n",
    "iSizeOfEachClass = int(iSizeOfBag/NR_OF_ENSEMBLED_MODELS)\n",
    "Y_bags = []\n",
    "X_bags = []\n",
    "X_TIME_bags = [] \n",
    "for i in range(NR_OF_ENSEMBLED_MODELS):\n",
    "    Y_sampled = np.empty((0, Y.shape[1]))\n",
    "    X_sampled = np.empty((0, X.shape[1], X.shape[2]))\n",
    "    X_TIME_sampled = np.empty((0, X_TIME.shape[1]))\n",
    "    for j in range(iNrOfUniqueClasses):\n",
    "        aClassToSample =  aUniqueClasses[0][j]\n",
    "        aIndicesToSample = np.where((Y == aClassToSample).all(axis=1))[0]\n",
    "        \n",
    "        iIndicesSampled = np.random.choice(aIndicesToSample, iSizeOfEachClass)\n",
    "        Y_sampled = np.concatenate((Y_sampled, Y[iIndicesSampled]))\n",
    "        X_sampled = np.concatenate((X_sampled, X[iIndicesSampled]))\n",
    "        X_TIME_sampled = np.concatenate((X_TIME_sampled, X_TIME[iIndicesSampled]))\n",
    "        \n",
    "    Y_bags.append(Y_sampled)\n",
    "    X_bags.append(X_sampled)\n",
    "    X_TIME_bags.append(X_TIME_sampled)\n",
    "    \n",
    "\n",
    "Y_bags = np.array(Y_bags)\n",
    "X_bags = np.array(X_bags)\n",
    "X_TIME_bags = np.array(X_TIME_bags) "
   ]
  },
  {
   "cell_type": "markdown",
   "id": "cf7d33e7-9f12-48d7-9468-471ac73db8cc",
   "metadata": {
    "jp-MarkdownHeadingCollapsed": true,
    "tags": []
   },
   "source": [
    "## SMOTEN Oversampling"
   ]
  },
  {
   "cell_type": "code",
   "execution_count": 44,
   "id": "144aa647-a2c5-4518-98c0-e399a2ed5f0b",
   "metadata": {},
   "outputs": [],
   "source": [
    "Y_ORDINAL = np.sum(Y,axis = 1)\n",
    "\n",
    "X_RESHAPED = np.reshape(X,(X.shape[0], -1))\n",
    "X_RESHAPED = np.concatenate((X_RESHAPED,X_TIME), axis = 1)\n",
    "\n",
    "oSmote = SMOTEN(random_state=42)\n",
    "\n",
    "X_res, y_res = oSmote.fit_resample(X_RESHAPED, Y_ORDINAL)"
   ]
  },
  {
   "cell_type": "code",
   "execution_count": 68,
   "id": "794e45f5-efd4-4cb0-a3e1-272e25853ea5",
   "metadata": {},
   "outputs": [],
   "source": [
    "X_TIME_smoten = X_res[:, -X_TIME.shape[1]:]\n",
    "X_smoten = X_res[:, :-X_TIME.shape[1]]\n",
    "X_smoten = np.reshape(X_smoten, (-1, X.shape[1], X.shape[2]))\n",
    "Y_smoten = np.zeros((y_res.shape[0], Y.shape[1]) )\n",
    "\n",
    "aUniqueVals = np.unique(y_res, return_counts=False)\n",
    "for iLabel in aUniqueVals:\n",
    "    aIndicesToAdjust = np.where(y_res == iLabel)[0]\n",
    "    Y_smoten[aIndicesToAdjust,:int(iLabel)] = 1"
   ]
  },
  {
   "cell_type": "code",
   "execution_count": null,
   "id": "7dec6d98-cb82-44e6-a306-3af8e8c7ab5a",
   "metadata": {},
   "outputs": [],
   "source": [
    "# check quality of X_TIME_smoten"
   ]
  },
  {
   "cell_type": "markdown",
   "id": "ce114b40-4e56-4918-83c8-72d318822418",
   "metadata": {
    "jp-MarkdownHeadingCollapsed": true,
    "tags": []
   },
   "source": [
    "# SAVE"
   ]
  },
  {
   "cell_type": "code",
   "execution_count": 8,
   "id": "db8d0055-f538-4a8d-9afb-95821c8c75d5",
   "metadata": {},
   "outputs": [],
   "source": [
    "# BAGS\n",
    "np.save(r'C:\\Users\\yunus\\Desktop\\Augmented Data\\Bagging\\Y_bags.npy', Y_bags)\n",
    "np.save(r'C:\\Users\\yunus\\Desktop\\Augmented Data\\Bagging\\X_bags.npy', X_bags)\n",
    "np.save(r'C:\\Users\\yunus\\Desktop\\Augmented Data\\Bagging\\X_TIME_bags.npy', X_TIME_bags)"
   ]
  },
  {
   "cell_type": "code",
   "execution_count": 69,
   "id": "cdf9c756-21fe-472a-a234-fa9caa7b1bc6",
   "metadata": {},
   "outputs": [],
   "source": [
    "# SMOTEN\n",
    "np.save(r'C:\\Users\\yunus\\Desktop\\Augmented Data\\Bagging\\X_smoten.npy', X_smoten)\n",
    "np.save(r'C:\\Users\\yunus\\Desktop\\Augmented Data\\Bagging\\Y_smoten.npy', Y_smoten)\n",
    "np.save(r'C:\\Users\\yunus\\Desktop\\Augmented Data\\Bagging\\X_TIME_smoten.npy', X_TIME_smoten)"
   ]
  }
 ],
 "metadata": {
  "kernelspec": {
   "display_name": "Python 3",
   "language": "python",
   "name": "python3"
  },
  "language_info": {
   "codemirror_mode": {
    "name": "ipython",
    "version": 3
   },
   "file_extension": ".py",
   "mimetype": "text/x-python",
   "name": "python",
   "nbconvert_exporter": "python",
   "pygments_lexer": "ipython3",
   "version": "3.7.10"
  }
 },
 "nbformat": 4,
 "nbformat_minor": 5
}
