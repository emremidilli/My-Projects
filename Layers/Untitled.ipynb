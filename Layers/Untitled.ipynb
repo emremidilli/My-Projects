{
 "cells": [
  {
   "cell_type": "code",
   "execution_count": 1,
   "id": "db5f1beb-a52d-4fca-af8c-9ce292df0dd4",
   "metadata": {},
   "outputs": [],
   "source": [
    "from BERT import BERT\n",
    "from BERT import mlm_custom_loss, nsp_custom_loss\n",
    "import numpy as np\n",
    "import tensorflow as tf\n",
    "\n",
    "DISERT_DATA_PATH = r'C:\\Users\\yunus\\Desktop\\DisERT Data'\n",
    "CHECKPOINT_PATH = r'C:\\Users\\yunus\\Desktop\\Checkpoints\\DisERT'\n",
    "sCheckPointFilePath = f'{CHECKPOINT_PATH}\\model'\n",
    "\n",
    "X_MLM = np.load(f'{DISERT_DATA_PATH}\\X_MLM.npy')\n",
    "Y_MLM = np.load(f'{DISERT_DATA_PATH}\\Y_MLM.npy')\n",
    "X_NSP = np.load(f'{DISERT_DATA_PATH}\\X_NSP.npy')\n",
    "Y_NSP = np.load(f'{DISERT_DATA_PATH}\\Y_NSP.npy')\n",
    "\n",
    "X_MLM = X_MLM[:4000]\n",
    "X_NSP = X_NSP[:4000]\n",
    "Y_MLM = Y_MLM[:4000]\n",
    "Y_NSP = Y_NSP[:4000]"
   ]
  },
  {
   "cell_type": "code",
   "execution_count": 2,
   "id": "c2718691-0b12-41ca-b1a3-882041a38687",
   "metadata": {},
   "outputs": [],
   "source": [
    "# oDisERT = BERT(\n",
    "#     mlm_input_shape = tuple([10, 129]), \n",
    "#     nsp_input_shape = tuple([1, 129]),\n",
    "#     nr_of_encoder_blocks = 4,\n",
    "#     attention_key_dims = 32,\n",
    "#     attention_nr_of_heads = 2,\n",
    "#     attention_dense_dims = 128,\n",
    "#     dropout_rate = 0.0\n",
    "# )\n",
    "\n",
    "# oDisERT.compile(\n",
    "#     optimizer=tf.keras.optimizers.Adam(learning_rate=1e-3),\n",
    "#     loss = [mlm_custom_loss, nsp_custom_loss]\n",
    "# )\n",
    "\n",
    "# oDisERT.fit(\n",
    "#     x = [X_MLM, X_NSP], \n",
    "#     y = [Y_MLM, Y_NSP], \n",
    "#     batch_size= 512,\n",
    "#     epochs=2,\n",
    "#     verbose=1\n",
    "# )\n",
    "\n",
    "# tf.keras.models.save_model(oDisERT, sCheckPointFilePath)"
   ]
  },
  {
   "cell_type": "code",
   "execution_count": 3,
   "id": "4b13789b-76d1-4023-a56a-14ab54911893",
   "metadata": {},
   "outputs": [],
   "source": [
    "import time\n",
    "import os\n",
    "\n",
    "class CsvLogger(tf.keras.callbacks.Callback):\n",
    "    \n",
    "    def __init__(self, sFilePath, sDelimeter = ';'):\n",
    "        sFilePath = f'{sFilePath}.txt'\n",
    "        self.sFilePath = sFilePath\n",
    "        self.sDelimeter = sDelimeter\n",
    "\n",
    "\n",
    "    def on_epoch_begin(self, batch, logs={}):\n",
    "        self.epoch_time_start = time.time()\n",
    "        \n",
    "\n",
    "    def on_epoch_end(self, epoch, logs={}):\n",
    "        endTime = time.time()\n",
    "        \n",
    "        logs['start'] = self.epoch_time_start\n",
    "        logs['end'] = endTime\n",
    "        logs['duration'] = endTime - self.epoch_time_start\n",
    "        \n",
    "        logs['epoch'] = epoch\n",
    "        logs['learning_rate'] = self.model.optimizer.lr.numpy()\n",
    "        \n",
    "        if os.path.exists(self.sFilePath) == False:\n",
    "            with open(self.sFilePath, 'a') as f: \n",
    "                f.write(self.sDelimeter.join([str(i) for i in logs.keys()]))\n",
    "                f.write('\\n') \n",
    "                \n",
    "        with open(self.sFilePath, 'a') as f: \n",
    "            f.write(self.sDelimeter.join([str(i) for i in logs.values()]))\n",
    "            f.write('\\n')\n",
    "            \n",
    "    \n",
    "class ThresholdStopper(tf.keras.callbacks.Callback):\n",
    "    def __init__(self, threshold):\n",
    "        self.threshold = threshold\n",
    "\n",
    "    def on_batch_end(self, batch, logs={}):\n",
    "        if logs.get('loss') <= self.threshold:\n",
    "             self.model.stop_training = True\n",
    "                \n",
    "                \n",
    "sCsvLogFilePath = f'{CHECKPOINT_PATH}\\log'\n",
    "oCsvLogger=  CsvLogger(sCsvLogFilePath)\n",
    "\n",
    "oDisERTCheckPoint = tf.keras.callbacks.ModelCheckpoint(\n",
    "    filepath=sCheckPointFilePath,\n",
    "    save_weights_only=False,\n",
    "    monitor='loss',\n",
    "    mode='min',\n",
    "    save_best_only=True,\n",
    "    save_traces = True\n",
    ")\n",
    "\n",
    "oLearningRateReducer = tf.keras.callbacks.ReduceLROnPlateau(\n",
    "    monitor='loss', \n",
    "    factor=0.80,\n",
    "    patience=3, \n",
    "    min_lr=1e-4\n",
    ")\n",
    "\n",
    "oEarlyStopper = tf.keras.callbacks.EarlyStopping(monitor='loss', patience=20)\n",
    "\n",
    "oThresholdStopper = ThresholdStopper(0.05)"
   ]
  },
  {
   "cell_type": "code",
   "execution_count": 4,
   "id": "c70b5862-a089-432e-87a5-e94ae8467b0d",
   "metadata": {},
   "outputs": [
    {
     "name": "stdout",
     "output_type": "stream",
     "text": [
      "Epoch 1/5\n",
      "8/8 [==============================] - ETA: 0s - loss: 0.6192 - output_1_loss: 0.0424 - output_2_loss: 0.5767"
     ]
    },
    {
     "name": "stderr",
     "output_type": "stream",
     "text": [
      "WARNING:absl:Found untraced functions such as _update_step_xla, trans_enc_attn_layer_norm_layer_call_fn, trans_enc_attn_layer_norm_layer_call_and_return_conditional_losses, trans_enc_attn_mha_layer_call_fn, trans_enc_attn_mha_layer_call_and_return_conditional_losses while saving (showing 5 of 113). These functions will not be directly callable after loading.\n"
     ]
    },
    {
     "name": "stdout",
     "output_type": "stream",
     "text": [
      "INFO:tensorflow:Assets written to: C:\\Users\\yunus\\Desktop\\Checkpoints\\DisERT\\model\\assets\n"
     ]
    },
    {
     "name": "stderr",
     "output_type": "stream",
     "text": [
      "INFO:tensorflow:Assets written to: C:\\Users\\yunus\\Desktop\\Checkpoints\\DisERT\\model\\assets\n"
     ]
    },
    {
     "name": "stdout",
     "output_type": "stream",
     "text": [
      "8/8 [==============================] - 26s 2s/step - loss: 0.6192 - output_1_loss: 0.0424 - output_2_loss: 0.5767 - start: 1676854021.8815 - end: 1676854048.1778 - duration: 26.2963 - epoch: 0.0000e+00 - learning_rate: 0.0010 - lr: 0.0010\n",
      "Epoch 2/5\n",
      "8/8 [==============================] - ETA: 0s - loss: 0.3594 - output_1_loss: 0.0353 - output_2_loss: 0.3241"
     ]
    },
    {
     "name": "stderr",
     "output_type": "stream",
     "text": [
      "WARNING:absl:Found untraced functions such as _update_step_xla, trans_enc_attn_layer_norm_layer_call_fn, trans_enc_attn_layer_norm_layer_call_and_return_conditional_losses, trans_enc_attn_mha_layer_call_fn, trans_enc_attn_mha_layer_call_and_return_conditional_losses while saving (showing 5 of 113). These functions will not be directly callable after loading.\n"
     ]
    },
    {
     "name": "stdout",
     "output_type": "stream",
     "text": [
      "INFO:tensorflow:Assets written to: C:\\Users\\yunus\\Desktop\\Checkpoints\\DisERT\\model\\assets\n"
     ]
    },
    {
     "name": "stderr",
     "output_type": "stream",
     "text": [
      "INFO:tensorflow:Assets written to: C:\\Users\\yunus\\Desktop\\Checkpoints\\DisERT\\model\\assets\n"
     ]
    },
    {
     "name": "stdout",
     "output_type": "stream",
     "text": [
      "8/8 [==============================] - 13s 2s/step - loss: 0.3594 - output_1_loss: 0.0353 - output_2_loss: 0.3241 - start: 1676854048.1848 - end: 1676854061.3547 - duration: 13.1699 - epoch: 1.0000 - learning_rate: 0.0010 - lr: 0.0010\n",
      "Epoch 3/5\n",
      "8/8 [==============================] - ETA: 0s - loss: 0.2935 - output_1_loss: 0.0338 - output_2_loss: 0.2597"
     ]
    },
    {
     "name": "stderr",
     "output_type": "stream",
     "text": [
      "WARNING:absl:Found untraced functions such as _update_step_xla, trans_enc_attn_layer_norm_layer_call_fn, trans_enc_attn_layer_norm_layer_call_and_return_conditional_losses, trans_enc_attn_mha_layer_call_fn, trans_enc_attn_mha_layer_call_and_return_conditional_losses while saving (showing 5 of 113). These functions will not be directly callable after loading.\n"
     ]
    },
    {
     "name": "stdout",
     "output_type": "stream",
     "text": [
      "INFO:tensorflow:Assets written to: C:\\Users\\yunus\\Desktop\\Checkpoints\\DisERT\\model\\assets\n"
     ]
    },
    {
     "name": "stderr",
     "output_type": "stream",
     "text": [
      "INFO:tensorflow:Assets written to: C:\\Users\\yunus\\Desktop\\Checkpoints\\DisERT\\model\\assets\n"
     ]
    },
    {
     "name": "stdout",
     "output_type": "stream",
     "text": [
      "8/8 [==============================] - 14s 2s/step - loss: 0.2935 - output_1_loss: 0.0338 - output_2_loss: 0.2597 - start: 1676854061.3637 - end: 1676854075.8044 - duration: 14.4407 - epoch: 2.0000 - learning_rate: 0.0010 - lr: 0.0010\n",
      "Epoch 4/5\n",
      "8/8 [==============================] - ETA: 0s - loss: 0.2416 - output_1_loss: 0.0333 - output_2_loss: 0.2084"
     ]
    },
    {
     "name": "stderr",
     "output_type": "stream",
     "text": [
      "WARNING:absl:Found untraced functions such as _update_step_xla, trans_enc_attn_layer_norm_layer_call_fn, trans_enc_attn_layer_norm_layer_call_and_return_conditional_losses, trans_enc_attn_mha_layer_call_fn, trans_enc_attn_mha_layer_call_and_return_conditional_losses while saving (showing 5 of 113). These functions will not be directly callable after loading.\n"
     ]
    },
    {
     "name": "stdout",
     "output_type": "stream",
     "text": [
      "INFO:tensorflow:Assets written to: C:\\Users\\yunus\\Desktop\\Checkpoints\\DisERT\\model\\assets\n"
     ]
    },
    {
     "name": "stderr",
     "output_type": "stream",
     "text": [
      "INFO:tensorflow:Assets written to: C:\\Users\\yunus\\Desktop\\Checkpoints\\DisERT\\model\\assets\n"
     ]
    },
    {
     "name": "stdout",
     "output_type": "stream",
     "text": [
      "8/8 [==============================] - 18s 3s/step - loss: 0.2416 - output_1_loss: 0.0333 - output_2_loss: 0.2084 - start: 1676854075.8133 - end: 1676854094.0543 - duration: 18.2409 - epoch: 3.0000 - learning_rate: 0.0010 - lr: 0.0010\n",
      "Epoch 5/5\n",
      "8/8 [==============================] - ETA: 0s - loss: 0.1986 - output_1_loss: 0.0329 - output_2_loss: 0.1657"
     ]
    },
    {
     "name": "stderr",
     "output_type": "stream",
     "text": [
      "WARNING:absl:Found untraced functions such as _update_step_xla, trans_enc_attn_layer_norm_layer_call_fn, trans_enc_attn_layer_norm_layer_call_and_return_conditional_losses, trans_enc_attn_mha_layer_call_fn, trans_enc_attn_mha_layer_call_and_return_conditional_losses while saving (showing 5 of 113). These functions will not be directly callable after loading.\n"
     ]
    },
    {
     "name": "stdout",
     "output_type": "stream",
     "text": [
      "INFO:tensorflow:Assets written to: C:\\Users\\yunus\\Desktop\\Checkpoints\\DisERT\\model\\assets\n"
     ]
    },
    {
     "name": "stderr",
     "output_type": "stream",
     "text": [
      "INFO:tensorflow:Assets written to: C:\\Users\\yunus\\Desktop\\Checkpoints\\DisERT\\model\\assets\n"
     ]
    },
    {
     "name": "stdout",
     "output_type": "stream",
     "text": [
      "8/8 [==============================] - 14s 2s/step - loss: 0.1986 - output_1_loss: 0.0329 - output_2_loss: 0.1657 - start: 1676854094.0660 - end: 1676854107.7392 - duration: 13.6732 - epoch: 4.0000 - learning_rate: 0.0010 - lr: 0.0010\n"
     ]
    },
    {
     "data": {
      "text/plain": [
       "<keras.callbacks.History at 0x27e06d6a7c8>"
      ]
     },
     "execution_count": 4,
     "metadata": {},
     "output_type": "execute_result"
    }
   ],
   "source": [
    "oDisERT = tf.keras.models.load_model(\n",
    "    sCheckPointFilePath, \n",
    "    custom_objects = {\n",
    "        'BERT':BERT,\n",
    "        # 'PositionEncoder':PositionEncoder,\n",
    "        # 'TransformerEncoder': TransformerEncoder,\n",
    "        'mlm_custom_loss':mlm_custom_loss,\n",
    "        'nsp_custom_loss':nsp_custom_loss\n",
    "    }\n",
    ")\n",
    "\n",
    "oDisERT.fit(\n",
    "    x = [X_MLM, X_NSP], \n",
    "    y = [Y_MLM, Y_NSP], \n",
    "    batch_size= 512,\n",
    "    epochs=5,\n",
    "    verbose=1,\n",
    "    callbacks = [oDisERTCheckPoint, oCsvLogger, oLearningRateReducer, oEarlyStopper, oThresholdStopper]\n",
    ")\n",
    "\n",
    "# tf.keras.models.save_model(oDisERT, sCheckPointFilePath)"
   ]
  }
 ],
 "metadata": {
  "kernelspec": {
   "display_name": "Python 3",
   "language": "python",
   "name": "python3"
  },
  "language_info": {
   "codemirror_mode": {
    "name": "ipython",
    "version": 3
   },
   "file_extension": ".py",
   "mimetype": "text/x-python",
   "name": "python",
   "nbconvert_exporter": "python",
   "pygments_lexer": "ipython3",
   "version": "3.7.10"
  }
 },
 "nbformat": 4,
 "nbformat_minor": 5
}
