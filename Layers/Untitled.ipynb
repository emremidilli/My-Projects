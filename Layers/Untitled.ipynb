{
 "cells": [
  {
   "cell_type": "code",
   "execution_count": 1,
   "id": "db5f1beb-a52d-4fca-af8c-9ce292df0dd4",
   "metadata": {},
   "outputs": [],
   "source": [
    "from BERT import BERT\n",
    "from BERT import mlm_custom_loss, nsp_custom_loss\n",
    "import numpy as np\n",
    "import tensorflow as tf\n",
    "\n",
    "DISERT_DATA_PATH = r'C:\\Users\\yunus\\Desktop\\DisERT Data'\n",
    "CHECKPOINT_PATH = r'C:\\Users\\yunus\\Desktop\\Checkpoints\\DisERT'\n",
    "sCheckPointFilePath = f'{CHECKPOINT_PATH}\\model'\n",
    "\n",
    "X_MLM = np.load(f'{DISERT_DATA_PATH}\\X_MLM.npy')\n",
    "Y_MLM = np.load(f'{DISERT_DATA_PATH}\\Y_MLM.npy')\n",
    "X_NSP = np.load(f'{DISERT_DATA_PATH}\\X_NSP.npy')\n",
    "Y_NSP = np.load(f'{DISERT_DATA_PATH}\\Y_NSP.npy')\n",
    "\n",
    "X_MLM = X_MLM[:4000]\n",
    "X_NSP = X_NSP[:4000]\n",
    "Y_MLM = Y_MLM[:4000]\n",
    "Y_NSP = Y_NSP[:4000]"
   ]
  },
  {
   "cell_type": "code",
   "execution_count": 2,
   "id": "c2718691-0b12-41ca-b1a3-882041a38687",
   "metadata": {},
   "outputs": [
    {
     "name": "stdout",
     "output_type": "stream",
     "text": [
      "Epoch 1/2\n",
      "8/8 [==============================] - 10s 288ms/step - loss: 1.2680 - output_1_loss: 0.0495 - output_2_loss: 1.2184\n",
      "Epoch 2/2\n",
      "8/8 [==============================] - 2s 277ms/step - loss: 0.7648 - output_1_loss: 0.0448 - output_2_loss: 0.7200\n"
     ]
    },
    {
     "name": "stderr",
     "output_type": "stream",
     "text": [
      "WARNING:absl:Found untraced functions such as _update_step_xla, trans_enc_attn_layer_norm_layer_call_fn, trans_enc_attn_layer_norm_layer_call_and_return_conditional_losses, trans_enc_attn_mha_layer_call_fn, trans_enc_attn_mha_layer_call_and_return_conditional_losses while saving (showing 5 of 113). These functions will not be directly callable after loading.\n"
     ]
    },
    {
     "name": "stdout",
     "output_type": "stream",
     "text": [
      "INFO:tensorflow:Assets written to: C:\\Users\\yunus\\Desktop\\Checkpoints\\DisERT\\model\\assets\n"
     ]
    },
    {
     "name": "stderr",
     "output_type": "stream",
     "text": [
      "INFO:tensorflow:Assets written to: C:\\Users\\yunus\\Desktop\\Checkpoints\\DisERT\\model\\assets\n"
     ]
    }
   ],
   "source": [
    "oDisERT = BERT(\n",
    "    mlm_input_shape = tuple([10, 129]), \n",
    "    nsp_input_shape = tuple([1, 129]),\n",
    "    nr_of_encoder_blocks = 4,\n",
    "    attention_key_dims = 32,\n",
    "    attention_nr_of_heads = 2,\n",
    "    attention_dense_dims = 128,\n",
    "    dropout_rate = 0.0\n",
    ")\n",
    "\n",
    "oDisERT.compile(\n",
    "    optimizer=tf.keras.optimizers.Adam(learning_rate=1e-3),\n",
    "    loss = [mlm_custom_loss, nsp_custom_loss]\n",
    ")\n",
    "\n",
    "oDisERT.fit(\n",
    "    x = [X_MLM, X_NSP], \n",
    "    y = [Y_MLM, Y_NSP], \n",
    "    batch_size= 512,\n",
    "    epochs=2,\n",
    "    verbose=1\n",
    ")\n",
    "\n",
    "tf.keras.models.save_model(oDisERT, sCheckPointFilePath)"
   ]
  },
  {
   "cell_type": "code",
   "execution_count": 3,
   "id": "c70b5862-a089-432e-87a5-e94ae8467b0d",
   "metadata": {},
   "outputs": [],
   "source": [
    "# oDisERT = tf.keras.models.load_model(\n",
    "#     sCheckPointFilePath, \n",
    "#     custom_objects = {\n",
    "#         'BERT':BERT,\n",
    "#         # 'PositionEncoder':PositionEncoder,\n",
    "#         # 'TransformerEncoder': TransformerEncoder,\n",
    "#         'mlm_custom_loss':mlm_custom_loss,\n",
    "#         'nsp_custom_loss':nsp_custom_loss\n",
    "#     }\n",
    "# )\n",
    "\n",
    "# oDisERT.fit(\n",
    "#     x = [X_MLM, X_NSP], \n",
    "#     y = [Y_MLM, Y_NSP], \n",
    "#     batch_size= 512,\n",
    "#     epochs=5,\n",
    "#     verbose=1,\n",
    "#     # callbacks = [oDisERTCheckPoint, oCsvLogger, oLearningRateReducer, oEarlyStopper, oThresholdStopper]\n",
    "# )\n",
    "\n",
    "# tf.keras.models.save_model(oDisERT, sCheckPointFilePath)"
   ]
  }
 ],
 "metadata": {
  "kernelspec": {
   "display_name": "Python 3",
   "language": "python",
   "name": "python3"
  },
  "language_info": {
   "codemirror_mode": {
    "name": "ipython",
    "version": 3
   },
   "file_extension": ".py",
   "mimetype": "text/x-python",
   "name": "python",
   "nbconvert_exporter": "python",
   "pygments_lexer": "ipython3",
   "version": "3.7.10"
  }
 },
 "nbformat": 4,
 "nbformat_minor": 5
}
