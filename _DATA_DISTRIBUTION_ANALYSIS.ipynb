{
 "cells": [
  {
   "cell_type": "markdown",
   "id": "3b4df3b3-fce7-49c9-b79e-23c868df2290",
   "metadata": {},
   "source": [
    "Purpose of this analysis is to identify the exchange rates whose distributions of training, validation and test sets are same for each future.\n",
    "Kolmogorov-Smirnov test is used to compare the distributions."
   ]
  },
  {
   "cell_type": "markdown",
   "id": "4cf38538-dfa0-4699-8c72-bc1e433e5582",
   "metadata": {
    "jp-MarkdownHeadingCollapsed": true,
    "tags": []
   },
   "source": [
    "# IMPORT LIBRARIES"
   ]
  },
  {
   "cell_type": "code",
   "execution_count": 1,
   "id": "e1c837ba-673c-4494-8f78-f9394193858a",
   "metadata": {},
   "outputs": [],
   "source": [
    "import MetaTrader5 as mt5\n",
    "\n",
    "import pandas as pd\n",
    "\n",
    "import pytz\n",
    "\n",
    "from datetime import datetime\n",
    "\n",
    "from sklearn.model_selection import train_test_split\n",
    "\n",
    "import seaborn as sns\n",
    "\n",
    "import matplotlib.pyplot as plt\n",
    "\n",
    "from scipy.stats import entropy\n",
    "from scipy.stats import ks_2samp"
   ]
  },
  {
   "cell_type": "markdown",
   "id": "35d29603-f257-4600-822f-9c012ee276e1",
   "metadata": {
    "tags": []
   },
   "source": [
    "# CONFIG"
   ]
  },
  {
   "cell_type": "code",
   "execution_count": 2,
   "id": "7fa4e542-7223-4cce-8e65-c52808f61276",
   "metadata": {},
   "outputs": [],
   "source": [
    "pd.set_option('display.float_format', '{:.5f}'.format)"
   ]
  },
  {
   "cell_type": "code",
   "execution_count": 3,
   "id": "82c2fa12-054c-4cbf-808f-f4592e4af85f",
   "metadata": {},
   "outputs": [],
   "source": [
    "gc_s_PATH_TO_FILTER = 'Stocks\\\\United States\\\\Software'"
   ]
  },
  {
   "cell_type": "code",
   "execution_count": 4,
   "id": "ebdb6c44-2a86-43d7-ac20-32d3cab716bf",
   "metadata": {},
   "outputs": [],
   "source": [
    "gc_o_TIME_ZONE = pytz.timezone(\"Etc/UTC\")\n",
    "gc_dt_FROM = datetime(2022, 3, 1, tzinfo=gc_o_TIME_ZONE)\n",
    "gc_dt_TO = datetime(2022, 7, 1, tzinfo=gc_o_TIME_ZONE)"
   ]
  },
  {
   "cell_type": "code",
   "execution_count": 5,
   "id": "61ee5806-9499-4da6-b1d3-d8a7a59f2428",
   "metadata": {},
   "outputs": [],
   "source": [
    "gc_a_FEATURES_TO_ANALYZE = ['open', 'high', 'low', 'close']"
   ]
  },
  {
   "cell_type": "code",
   "execution_count": 6,
   "id": "3d065e76-163b-4b2b-8778-030da2a7cbc5",
   "metadata": {},
   "outputs": [],
   "source": [
    "gc_f_TRAINING_RATIO = 0.60\n",
    "gc_f_VALIDATION_RATIO = 0.20\n",
    "gc_f_TEST_RATIO = 0.20"
   ]
  },
  {
   "cell_type": "markdown",
   "id": "9cb27435-7dad-40d5-90dd-91de7dde6ee9",
   "metadata": {
    "tags": []
   },
   "source": [
    "# UDFS"
   ]
  },
  {
   "cell_type": "code",
   "execution_count": 7,
   "id": "b78c038a-d387-4f16-820a-de78dc6bd6bf",
   "metadata": {},
   "outputs": [],
   "source": [
    "def aFilterSymbolsByPath(p_tplSymbols, p_sPathToFilter):\n",
    "    aToReturn = []\n",
    "    for tplS in p_tplSymbols:\n",
    "        if p_sPathToFilter in tplS.path:\n",
    "            aToReturn.append(tplS)\n",
    "            \n",
    "    return aToReturn"
   ]
  },
  {
   "cell_type": "code",
   "execution_count": 8,
   "id": "09f26ec3-ce46-402e-81d1-6f65edb1b664",
   "metadata": {},
   "outputs": [],
   "source": [
    "def dfFetchSampleDataFromMt(p_sSymbolName):\n",
    "    aOhlSample = mt5.copy_rates_range(\n",
    "        p_sSymbolName,\n",
    "        mt5.TIMEFRAME_M15,\n",
    "        gc_dt_FROM, \n",
    "        gc_dt_TO\n",
    "    )\n",
    "\n",
    "    dfToReturn = pd.DataFrame(aOhlSample)\n",
    "    if 'time' in list(dfToReturn.columns):\n",
    "        dfToReturn.set_index('time', inplace = True)\n",
    "    else:\n",
    "        return dfFetchSampleDataFromMt(p_sSymbolName)\n",
    "    \n",
    "    return dfToReturn"
   ]
  },
  {
   "cell_type": "code",
   "execution_count": 9,
   "id": "690075bd-58a0-43c0-b662-f5f6cd41bd26",
   "metadata": {},
   "outputs": [],
   "source": [
    "def ixSplitDateset(p_dfToSplit):\n",
    "\n",
    "    ixAll = p_dfToSplit.index\n",
    "\n",
    "    ixTrain, ixTest = train_test_split(\n",
    "        ixAll,\n",
    "        test_size=1-gc_f_TRAINING_RATIO,\n",
    "        shuffle=False)\n",
    "\n",
    "    ixValidation, ixTest = train_test_split(\n",
    "        ixTest,\n",
    "        test_size=gc_f_TEST_RATIO/(gc_f_TEST_RATIO + gc_f_VALIDATION_RATIO),\n",
    "        shuffle=False)\n",
    "    \n",
    "    \n",
    "    return ixTrain, ixValidation, ixTest"
   ]
  },
  {
   "cell_type": "code",
   "execution_count": 10,
   "id": "3dbbe2f4-7532-438e-8a74-ae504e759a0c",
   "metadata": {},
   "outputs": [],
   "source": [
    "def fTestDifferenceOfDistributions(p_dfOhlcSample, p_sFeatureName ,p_ixTrain, p_ixValidation, p_ixTest):\n",
    "    # The null hypothesis is that the two distributions are identical\n",
    "    # If the KS statistic is small or the p-value is high, then we cannot reject the null hypothesis in favor of the alternative.\n",
    "    fStatsTrainVal, fPValueTrainVal = ks_2samp(\n",
    "        p_dfOhlcSample.loc[p_ixTrain, p_sFeatureName],\n",
    "        p_dfOhlcSample.loc[p_ixValidation, p_sFeatureName]\n",
    "    )\n",
    "    \n",
    "    fStatsTrainTest, fPValueTrainTest = ks_2samp(\n",
    "        p_dfOhlcSample.loc[p_ixTrain, p_sFeatureName],\n",
    "        p_dfOhlcSample.loc[p_ixTest, p_sFeatureName]\n",
    "    )\n",
    "\n",
    "    fStatsValTest, fPValueValTest = ks_2samp(\n",
    "        p_dfOhlcSample.loc[p_ixValidation, p_sFeatureName],\n",
    "        p_dfOhlcSample.loc[p_ixTest, p_sFeatureName]\n",
    "    )\n",
    "    \n",
    "    \n",
    "    \n",
    "    return fStatsTrainVal, fPValueTrainVal, fStatsTrainTest, fPValueTrainTest, fStatsValTest, fPValueValTest\n"
   ]
  },
  {
   "cell_type": "markdown",
   "id": "e362ace5-3006-4508-a2d0-607078786094",
   "metadata": {},
   "source": [
    "# MAIN"
   ]
  },
  {
   "cell_type": "code",
   "execution_count": 11,
   "id": "196b7bef-b0af-42ba-974c-8c14c46c3e1c",
   "metadata": {},
   "outputs": [],
   "source": [
    "# establish connection to the MetaTrader 5 terminal\n",
    "if not mt5.initialize():\n",
    "    print(\"initialize() failed, error code =\",mt5.last_error())\n",
    "    quit()\n",
    "    \n",
    "tplSymbols = mt5.symbols_get()\n",
    "# tplSymbols = aFilterSymbolsByPath(tplSymbols, gc_s_PATH_TO_FILTER)"
   ]
  },
  {
   "cell_type": "code",
   "execution_count": 12,
   "id": "9ce5654a-527d-44ef-ab7d-c8409676755e",
   "metadata": {},
   "outputs": [],
   "source": [
    "aColNames = [\n",
    "    'Symbol Name',\n",
    "    'Feature',\n",
    "    'Train vs Validation',\n",
    "    'Train vs Test',\n",
    "    'Validation vs Test']\n",
    "dfPValue = pd.DataFrame(columns =aColNames )\n",
    "dfStats = pd.DataFrame(columns = aColNames)\n",
    "\n",
    "for tplS in tplSymbols:\n",
    "    sSymbolName = tplS.name\n",
    "    dfOhlcSample = dfFetchSampleDataFromMt(sSymbolName)\n",
    "    \n",
    "    if len(dfOhlcSample) > 1000: #filter only the symbols that have more than specific amount of rows\n",
    "        ixTrain, ixValidation, ixTest = ixSplitDateset(dfOhlcSample)\n",
    "\n",
    "        for sFeatureName in gc_a_FEATURES_TO_ANALYZE:\n",
    "            fStatsTrainVal, fPValueTrainVal, fStatsTrainTest, fPValueTrainTest, fStatsValTest, fPValueValTest = fTestDifferenceOfDistributions(\n",
    "                dfOhlcSample, \n",
    "                sFeatureName ,\n",
    "                ixTrain, \n",
    "                ixValidation, \n",
    "                ixTest)\n",
    "\n",
    "            dfPValue = pd.concat(\n",
    "                [\n",
    "                dfPValue, \n",
    "                pd.DataFrame([[sSymbolName, sFeatureName, fPValueTrainVal,fPValueTrainTest, fPValueValTest]], columns = aColNames)\n",
    "                ]\n",
    "                , ignore_index=False\n",
    "            )\n",
    "\n",
    "            dfStats = pd.concat(\n",
    "                [dfStats, \n",
    "                pd.DataFrame([[sSymbolName, sFeatureName, fStatsTrainVal,fStatsTrainTest, fStatsValTest ]], columns = aColNames)\n",
    "                ]\n",
    "                , ignore_index=False\n",
    "            )\n",
    "\n",
    "        \n",
    "dfPValue.reset_index(drop= True, inplace = True)\n",
    "dfStats.reset_index(drop= True, inplace = True)"
   ]
  },
  {
   "cell_type": "code",
   "execution_count": 13,
   "id": "87f24d24-2761-41b5-a0a1-a20f855b9960",
   "metadata": {},
   "outputs": [],
   "source": [
    "dfPValue.reset_index(drop= True, inplace = True)\n",
    "dfStats.reset_index(drop= True, inplace = True)"
   ]
  },
  {
   "cell_type": "code",
   "execution_count": 14,
   "id": "b79adb6e-8e1c-4c05-bde1-88d670c3437b",
   "metadata": {},
   "outputs": [
    {
     "data": {
      "text/html": [
       "<div>\n",
       "<style scoped>\n",
       "    .dataframe tbody tr th:only-of-type {\n",
       "        vertical-align: middle;\n",
       "    }\n",
       "\n",
       "    .dataframe tbody tr th {\n",
       "        vertical-align: top;\n",
       "    }\n",
       "\n",
       "    .dataframe thead th {\n",
       "        text-align: right;\n",
       "    }\n",
       "</style>\n",
       "<table border=\"1\" class=\"dataframe\">\n",
       "  <thead>\n",
       "    <tr style=\"text-align: right;\">\n",
       "      <th></th>\n",
       "      <th>Symbol Name</th>\n",
       "      <th>Feature</th>\n",
       "      <th>Train vs Validation</th>\n",
       "      <th>Train vs Test</th>\n",
       "      <th>Validation vs Test</th>\n",
       "    </tr>\n",
       "  </thead>\n",
       "  <tbody>\n",
       "    <tr>\n",
       "      <th>516</th>\n",
       "      <td>ISOS.PA</td>\n",
       "      <td>open</td>\n",
       "      <td>0.00000</td>\n",
       "      <td>0.00000</td>\n",
       "      <td>0.14066</td>\n",
       "    </tr>\n",
       "    <tr>\n",
       "      <th>517</th>\n",
       "      <td>ISOS.PA</td>\n",
       "      <td>high</td>\n",
       "      <td>0.00000</td>\n",
       "      <td>0.00000</td>\n",
       "      <td>0.18335</td>\n",
       "    </tr>\n",
       "    <tr>\n",
       "      <th>518</th>\n",
       "      <td>ISOS.PA</td>\n",
       "      <td>low</td>\n",
       "      <td>0.00000</td>\n",
       "      <td>0.00000</td>\n",
       "      <td>0.23556</td>\n",
       "    </tr>\n",
       "    <tr>\n",
       "      <th>519</th>\n",
       "      <td>ISOS.PA</td>\n",
       "      <td>close</td>\n",
       "      <td>0.00000</td>\n",
       "      <td>0.00000</td>\n",
       "      <td>0.14066</td>\n",
       "    </tr>\n",
       "    <tr>\n",
       "      <th>2881</th>\n",
       "      <td>WKHS.O</td>\n",
       "      <td>high</td>\n",
       "      <td>0.00000</td>\n",
       "      <td>0.00000</td>\n",
       "      <td>0.07621</td>\n",
       "    </tr>\n",
       "    <tr>\n",
       "      <th>...</th>\n",
       "      <td>...</td>\n",
       "      <td>...</td>\n",
       "      <td>...</td>\n",
       "      <td>...</td>\n",
       "      <td>...</td>\n",
       "    </tr>\n",
       "    <tr>\n",
       "      <th>8363</th>\n",
       "      <td>TEZOS</td>\n",
       "      <td>close</td>\n",
       "      <td>1.00000</td>\n",
       "      <td>1.00000</td>\n",
       "      <td>0.00000</td>\n",
       "    </tr>\n",
       "    <tr>\n",
       "      <th>8364</th>\n",
       "      <td>ZCASH</td>\n",
       "      <td>open</td>\n",
       "      <td>1.00000</td>\n",
       "      <td>1.00000</td>\n",
       "      <td>0.00000</td>\n",
       "    </tr>\n",
       "    <tr>\n",
       "      <th>8365</th>\n",
       "      <td>ZCASH</td>\n",
       "      <td>high</td>\n",
       "      <td>1.00000</td>\n",
       "      <td>1.00000</td>\n",
       "      <td>0.00000</td>\n",
       "    </tr>\n",
       "    <tr>\n",
       "      <th>8366</th>\n",
       "      <td>ZCASH</td>\n",
       "      <td>low</td>\n",
       "      <td>1.00000</td>\n",
       "      <td>1.00000</td>\n",
       "      <td>0.00000</td>\n",
       "    </tr>\n",
       "    <tr>\n",
       "      <th>8367</th>\n",
       "      <td>ZCASH</td>\n",
       "      <td>close</td>\n",
       "      <td>1.00000</td>\n",
       "      <td>1.00000</td>\n",
       "      <td>0.00000</td>\n",
       "    </tr>\n",
       "  </tbody>\n",
       "</table>\n",
       "<p>121 rows × 5 columns</p>\n",
       "</div>"
      ],
      "text/plain": [
       "     Symbol Name Feature  Train vs Validation  Train vs Test  \\\n",
       "516      ISOS.PA    open              0.00000        0.00000   \n",
       "517      ISOS.PA    high              0.00000        0.00000   \n",
       "518      ISOS.PA     low              0.00000        0.00000   \n",
       "519      ISOS.PA   close              0.00000        0.00000   \n",
       "2881      WKHS.O    high              0.00000        0.00000   \n",
       "...          ...     ...                  ...            ...   \n",
       "8363       TEZOS   close              1.00000        1.00000   \n",
       "8364       ZCASH    open              1.00000        1.00000   \n",
       "8365       ZCASH    high              1.00000        1.00000   \n",
       "8366       ZCASH     low              1.00000        1.00000   \n",
       "8367       ZCASH   close              1.00000        1.00000   \n",
       "\n",
       "      Validation vs Test  \n",
       "516              0.14066  \n",
       "517              0.18335  \n",
       "518              0.23556  \n",
       "519              0.14066  \n",
       "2881             0.07621  \n",
       "...                  ...  \n",
       "8363             0.00000  \n",
       "8364             0.00000  \n",
       "8365             0.00000  \n",
       "8366             0.00000  \n",
       "8367             0.00000  \n",
       "\n",
       "[121 rows x 5 columns]"
      ]
     },
     "execution_count": 14,
     "metadata": {},
     "output_type": "execute_result"
    }
   ],
   "source": [
    "dfPValue[(dfPValue[['Train vs Validation', 'Train vs Test',\n",
    "       'Validation vs Test']]>= 0.05).any(axis = 1) == True]"
   ]
  },
  {
   "cell_type": "code",
   "execution_count": 22,
   "id": "3600339a-ed33-4aec-a525-db53cae37db4",
   "metadata": {},
   "outputs": [],
   "source": [
    "dfPValue.to_csv('Results\\\\train_val_test_dist_analysis_p_val.csv', sep = ';', index = False)\n",
    "dfStats.to_csv('Results\\\\train_val_test_dist_analysis_stats.csv', sep = ';', index = False)"
   ]
  },
  {
   "cell_type": "code",
   "execution_count": 23,
   "id": "5628f3a6-c90c-4664-a739-2bee9b0c1b00",
   "metadata": {},
   "outputs": [
    {
     "data": {
      "text/plain": [
       "<seaborn.axisgrid.FacetGrid at 0x1c57fcb5e48>"
      ]
     },
     "execution_count": 23,
     "metadata": {},
     "output_type": "execute_result"
    },
    {
     "data": {
      "image/png": "[encoded data removed]",
      "text/plain": [
       "<Figure size 648x216 with 3 Axes>"
      ]
     },
     "metadata": {
      "needs_background": "light"
     },
     "output_type": "display_data"
    }
   ],
   "source": [
    "dfOhlcSample = dfFetchSampleDataFromMt('ISOS.PA')\n",
    "ixTrain, ixValidation, ixTest = ixSplitDateset(dfOhlcSample)\n",
    "    \n",
    "dfOhlcSample.loc[ixTrain, 'DATASET_TYPE'] = 'train' \n",
    "dfOhlcSample.loc[ixValidation, 'DATASET_TYPE'] = 'validation' \n",
    "dfOhlcSample.loc[ixTest, 'DATASET_TYPE'] = 'test' \n",
    "\n",
    "oFig = sns.FacetGrid(data = dfOhlcSample , col = 'DATASET_TYPE', col_wrap = 3, sharex = False, sharey = False )\n",
    "oFig.map(sns.histplot, 'low')"
   ]
  }
 ],
 "metadata": {
  "kernelspec": {
   "display_name": "Python 3",
   "language": "python",
   "name": "python3"
  },
  "language_info": {
   "codemirror_mode": {
    "name": "ipython",
    "version": 3
   },
   "file_extension": ".py",
   "mimetype": "text/x-python",
   "name": "python",
   "nbconvert_exporter": "python",
   "pygments_lexer": "ipython3",
   "version": "3.7.10"
  }
 },
 "nbformat": 4,
 "nbformat_minor": 5
}
