{
 "cells": [
  {
   "cell_type": "code",
   "execution_count": 26,
   "id": "3d0cff39-f57c-41c4-8e43-e651ca49ae3d",
   "metadata": {},
   "outputs": [],
   "source": [
    "import pandas as pd\n",
    "import numpy as np\n",
    "from sklearn import preprocessing"
   ]
  },
  {
   "cell_type": "code",
   "execution_count": 7,
   "id": "249de273-ed86-45d2-b75c-f63a46c8c106",
   "metadata": {},
   "outputs": [],
   "source": [
    "dfDiabetesTestAnalysis = pd.read_csv('diabetes_test_analysis.csv')\n",
    "dfDiabetesTestInfo = pd.read_csv('diabetes_test_info.csv')\n",
    "dfDiabetesTrainAnalysis = pd.read_csv('diabetes_train_analysis.csv')\n",
    "dfDiabetesTrainInfo = pd.read_csv('diabetes_train_info.csv')"
   ]
  },
  {
   "cell_type": "markdown",
   "id": "0b357b9e-1de8-46b3-9a13-5f5c2308b170",
   "metadata": {},
   "source": [
    "# Preprocessing"
   ]
  },
  {
   "cell_type": "markdown",
   "id": "84e82fa8-27ae-4047-add5-718b9853073e",
   "metadata": {},
   "source": [
    "## Check Uniquness"
   ]
  },
  {
   "cell_type": "code",
   "execution_count": 11,
   "id": "fd0b7c6a-5b23-45c2-81ce-f730788b5f45",
   "metadata": {},
   "outputs": [
    {
     "data": {
      "text/plain": [
       "True"
      ]
     },
     "execution_count": 11,
     "metadata": {},
     "output_type": "execute_result"
    }
   ],
   "source": [
    "len(dfDiabetesTestAnalysis['id']) == len(dfDiabetesTestAnalysis['id'].unique())"
   ]
  },
  {
   "cell_type": "code",
   "execution_count": 12,
   "id": "e01b42eb-ca96-4ceb-aa30-36984a14af4e",
   "metadata": {},
   "outputs": [
    {
     "data": {
      "text/plain": [
       "True"
      ]
     },
     "execution_count": 12,
     "metadata": {},
     "output_type": "execute_result"
    }
   ],
   "source": [
    "len(dfDiabetesTestInfo['id']) == len(dfDiabetesTestInfo['id'].unique())"
   ]
  },
  {
   "cell_type": "code",
   "execution_count": 13,
   "id": "3b2242a6-a2e4-4306-88c2-e54387ce816b",
   "metadata": {},
   "outputs": [
    {
     "data": {
      "text/plain": [
       "True"
      ]
     },
     "execution_count": 13,
     "metadata": {},
     "output_type": "execute_result"
    }
   ],
   "source": [
    "len(dfDiabetesTrainAnalysis['id']) == len(dfDiabetesTrainAnalysis['id'].unique())"
   ]
  },
  {
   "cell_type": "code",
   "execution_count": 14,
   "id": "9c088ac7-d25e-4aaf-8e27-25ce3d1a718a",
   "metadata": {},
   "outputs": [
    {
     "data": {
      "text/plain": [
       "True"
      ]
     },
     "execution_count": 14,
     "metadata": {},
     "output_type": "execute_result"
    }
   ],
   "source": [
    "len(dfDiabetesTrainInfo['id']) == len(dfDiabetesTrainInfo['id'].unique())"
   ]
  },
  {
   "cell_type": "markdown",
   "id": "c73fa8c6-0846-407b-bd1e-9d5c6e4a825e",
   "metadata": {
    "jp-MarkdownHeadingCollapsed": true,
    "tags": []
   },
   "source": [
    "## Set Index"
   ]
  },
  {
   "cell_type": "code",
   "execution_count": 16,
   "id": "e377db94-eadb-47fd-85c0-8c17a5f924c9",
   "metadata": {},
   "outputs": [],
   "source": [
    "dfDiabetesTestAnalysis.set_index('id', inplace = True)\n",
    "dfDiabetesTestInfo.set_index('id', inplace = True)\n",
    "dfDiabetesTrainAnalysis.set_index('id', inplace = True)\n",
    "dfDiabetesTrainInfo.set_index('id', inplace = True)"
   ]
  },
  {
   "cell_type": "markdown",
   "id": "80836e19-1cff-4e9a-8192-5de8d125f9e5",
   "metadata": {
    "tags": []
   },
   "source": [
    "## Merge Datasets"
   ]
  },
  {
   "cell_type": "code",
   "execution_count": 18,
   "id": "22a50599-2b8f-4932-9381-80e749aab41f",
   "metadata": {},
   "outputs": [],
   "source": [
    "dfTest = dfDiabetesTestAnalysis.merge(right = dfDiabetesTestInfo, left_index = True, right_index = True )"
   ]
  },
  {
   "cell_type": "code",
   "execution_count": 19,
   "id": "4fc4ca22-0001-464a-aa5f-2f9520034962",
   "metadata": {},
   "outputs": [],
   "source": [
    "dfTrain= dfDiabetesTrainAnalysis.merge(right = dfDiabetesTrainInfo, left_index = True, right_index = True )"
   ]
  },
  {
   "cell_type": "markdown",
   "id": "a01624d6-bcc9-4fcc-bede-0d2f7a7d8996",
   "metadata": {},
   "source": [
    "## Convert Categorical Data"
   ]
  },
  {
   "cell_type": "markdown",
   "id": "a41ea8bd-52cb-4966-9217-040f81d23b50",
   "metadata": {},
   "source": [
    "### gender"
   ]
  },
  {
   "cell_type": "code",
   "execution_count": 32,
   "id": "a6868e34-bb77-4efc-94fb-22d07ef9c708",
   "metadata": {},
   "outputs": [],
   "source": [
    "aIxTrainMale = dfTrain[(dfTrain['gender'] == 'm')| (dfTrain['gender'] == 'male')].index\n",
    "dfTrain.loc[:, 'gender_encoded'] = 0\n",
    "dfTrain.loc[aIxTrainMale, 'gender_encoded'] = 1"
   ]
  },
  {
   "cell_type": "code",
   "execution_count": 38,
   "id": "b5547af5-6799-454a-be2b-8017a3928a2b",
   "metadata": {},
   "outputs": [],
   "source": [
    "aIxTestMale = dfTest[(dfTest['gender'] == 'm')| (dfTest['gender'] == 'male')].index\n",
    "dfTest.loc[:, 'gender_encoded'] = 0\n",
    "dfTest.loc[aIxTestMale, 'gender_encoded'] = 1"
   ]
  },
  {
   "cell_type": "markdown",
   "id": "1f0af32c-d78f-477f-9eae-19522a3a5de8",
   "metadata": {},
   "source": [
    "### cholestorel"
   ]
  },
  {
   "cell_type": "code",
   "execution_count": 45,
   "id": "8288cf91-fca5-4d91-b287-36b2581c5afc",
   "metadata": {},
   "outputs": [],
   "source": [
    "aIxTrainLow = dfTrain[dfTrain['cholesterol'] == 'low'].index\n",
    "aIxTrainMedium = dfTrain[dfTrain['cholesterol'] == 'medium'].index\n",
    "aIxTrainHigh = dfTrain[dfTrain['cholesterol'] == 'high'].index\n",
    "\n",
    "\n",
    "dfTrain.loc[aIxTrainLow, 'cholestorel_encoded'] = 0\n",
    "dfTrain.loc[aIxTrainMedium, 'cholestorel_encoded'] = 1\n",
    "dfTrain.loc[aIxTrainHigh, 'cholestorel_encoded'] = 2"
   ]
  },
  {
   "cell_type": "code",
   "execution_count": 46,
   "id": "4142ad0a-025f-469a-abd6-aaa791633a22",
   "metadata": {},
   "outputs": [],
   "source": [
    "aIxTestLow = dfTest[dfTest['cholesterol'] == 'low'].index\n",
    "aIxTestMedium = dfTest[dfTest['cholesterol'] == 'medium'].index\n",
    "aIxTestHigh = dfTest[dfTest['cholesterol'] == 'high'].index\n",
    "\n",
    "\n",
    "dfTest.loc[aIxTestLow, 'cholestorel_encoded'] = 0\n",
    "dfTest.loc[aIxTestMedium, 'cholestorel_encoded'] = 1\n",
    "dfTest.loc[aIxTestHigh, 'cholestorel_encoded'] = 2"
   ]
  },
  {
   "cell_type": "markdown",
   "id": "bcb3dd6e-82c5-4719-9819-7aaf51984de1",
   "metadata": {},
   "source": [
    "### gluc"
   ]
  },
  {
   "cell_type": "code",
   "execution_count": 51,
   "id": "09931c51-6956-4697-bd93-5f3e07d36ddc",
   "metadata": {},
   "outputs": [],
   "source": [
    "aIxTrainLow = dfTrain[dfTrain['gluc'] == 'low'].index\n",
    "aIxTrainMedium = dfTrain[dfTrain['gluc'] == 'medium'].index\n",
    "aIxTrainHigh = dfTrain[dfTrain['gluc'] == 'high'].index\n",
    "\n",
    "\n",
    "dfTrain.loc[aIxTrainLow, 'gluc_encoded'] = 0\n",
    "dfTrain.loc[aIxTrainMedium, 'gluc_encoded'] = 1\n",
    "dfTrain.loc[aIxTrainHigh, 'gluc_encoded'] = 2"
   ]
  },
  {
   "cell_type": "code",
   "execution_count": 52,
   "id": "abac2c1a-f955-48cd-813f-e617f6ff7a49",
   "metadata": {},
   "outputs": [],
   "source": [
    "aIxTestLow = dfTest[dfTest['gluc'] == 'low'].index\n",
    "aIxTestMedium = dfTest[dfTest['gluc'] == 'medium'].index\n",
    "aIxTestHigh = dfTest[dfTest['gluc'] == 'high'].index\n",
    "\n",
    "\n",
    "dfTest.loc[aIxTestLow, 'gluc_encoded'] = 0\n",
    "dfTest.loc[aIxTestMedium, 'gluc_encoded'] = 1\n",
    "dfTest.loc[aIxTestHigh, 'gluc_encoded'] = 2"
   ]
  },
  {
   "cell_type": "code",
   "execution_count": 54,
   "id": "564aee65-eca8-4468-a0b2-80c659221699",
   "metadata": {},
   "outputs": [],
   "source": [
    "dfTrain.drop(['gender', 'cholesterol', 'gluc'], axis = 1, inplace = True)\n",
    "dfTest.drop(['gender', 'cholesterol', 'gluc'], axis = 1, inplace = True)"
   ]
  },
  {
   "cell_type": "markdown",
   "id": "839a9c0a-2ada-42f9-926c-a28356328108",
   "metadata": {},
   "source": [
    "## Transform data"
   ]
  },
  {
   "cell_type": "code",
   "execution_count": 67,
   "id": "1dfa5176-26dc-4ae6-86f5-6f3f95f9386d",
   "metadata": {},
   "outputs": [],
   "source": [
    "dfTrain.drop(['pressure'], axis = 1 , inplace = True)\n",
    "dfTest.drop(['pressure'], axis = 1 , inplace = True)"
   ]
  },
  {
   "cell_type": "markdown",
   "id": "c50626c7-fc75-4302-af6a-ac560639eec6",
   "metadata": {
    "tags": []
   },
   "source": [
    "## Check Missing Data"
   ]
  },
  {
   "cell_type": "markdown",
   "id": "e5543b1f-ba9b-4b2a-877b-b59e8506acad",
   "metadata": {
    "tags": []
   },
   "source": [
    "### dfTrain"
   ]
  },
  {
   "cell_type": "code",
   "execution_count": 69,
   "id": "21e4f36a-3498-4959-abda-791e106e7d3c",
   "metadata": {},
   "outputs": [],
   "source": [
    "aTrainMissingWeight = dfTrain[dfTrain['weight'].isna()==True].index\n",
    "aTestMissingWeight = dfTest[dfTest['weight'].isna()==True].index"
   ]
  },
  {
   "cell_type": "code",
   "execution_count": 70,
   "id": "782f4061-0856-44cb-b607-69482156b490",
   "metadata": {},
   "outputs": [],
   "source": [
    "dfTrain.drop(aTrainMissingWeight, inplace = True)\n",
    "dfTest.drop(aTestMissingWeight, inplace = True)"
   ]
  },
  {
   "cell_type": "markdown",
   "id": "5c573e86-184f-47f6-a978-10a90d63cf41",
   "metadata": {},
   "source": [
    "# Predict"
   ]
  },
  {
   "cell_type": "code",
   "execution_count": 73,
   "id": "218c9561-3609-4ae6-9de1-01b150f3238f",
   "metadata": {},
   "outputs": [
    {
     "data": {
      "text/plain": [
       "Index(['smoke', 'alco', 'active', 'diabetes', 'age', 'height', 'weight',\n",
       "       'gender_transformed', 'cholestorel_encoded', 'gluc_encoded'],\n",
       "      dtype='object')"
      ]
     },
     "execution_count": 73,
     "metadata": {},
     "output_type": "execute_result"
    }
   ],
   "source": [
    "dfTrain.columns"
   ]
  },
  {
   "cell_type": "code",
   "execution_count": null,
   "id": "2453f7c3-58e3-49d3-bb35-c4582b850cb8",
   "metadata": {},
   "outputs": [],
   "source": [
    "from sklearn.linear_model import SGDClassifier\n",
    "oClassifier = SGDClassifier()\n",
    "\n",
    "oClassifier.fit(dfTrain.drop(['diabetes'], axis = 1),dfTrain.drop(['diabetes']) )\n"
   ]
  }
 ],
 "metadata": {
  "kernelspec": {
   "display_name": "Python 3",
   "language": "python",
   "name": "python3"
  },
  "language_info": {
   "codemirror_mode": {
    "name": "ipython",
    "version": 3
   },
   "file_extension": ".py",
   "mimetype": "text/x-python",
   "name": "python",
   "nbconvert_exporter": "python",
   "pygments_lexer": "ipython3",
   "version": "3.7.10"
  }
 },
 "nbformat": 4,
 "nbformat_minor": 5
}
