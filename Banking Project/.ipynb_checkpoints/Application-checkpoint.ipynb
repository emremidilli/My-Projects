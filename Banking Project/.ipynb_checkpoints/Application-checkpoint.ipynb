{
 "cells": [
  {
   "cell_type": "markdown",
   "id": "148aa612",
   "metadata": {},
   "source": [
    "# IMPORT LIBRARIES"
   ]
  },
  {
   "cell_type": "code",
   "execution_count": 1,
   "id": "e4de5840",
   "metadata": {},
   "outputs": [],
   "source": [
    "import pandas as pd\n",
    "import numpy as np\n",
    "\n",
    "import seaborn as sns\n",
    "\n",
    "from sklearn.linear_model import LinearRegression\n",
    "from sklearn.tree import DecisionTreeClassifier\n",
    "from sklearn.model_selection import train_test_split\n",
    "from sklearn import metrics\n",
    "from sklearn.metrics import classification_report"
   ]
  },
  {
   "cell_type": "markdown",
   "id": "362b10a9",
   "metadata": {},
   "source": [
    "# READING DATA FROM SOURCE"
   ]
  },
  {
   "cell_type": "code",
   "execution_count": 2,
   "id": "bbf01f66",
   "metadata": {},
   "outputs": [],
   "source": [
    "dfCustomers = pd.read_csv(\"customers.csv\", delimiter = \",\")\n",
    "dfCustomers.set_index(\"CLIENT_ID\", inplace = True)"
   ]
  },
  {
   "cell_type": "code",
   "execution_count": 3,
   "id": "48f9c5e7",
   "metadata": {},
   "outputs": [
    {
     "data": {
      "text/html": [
       "<div>\n",
       "<style scoped>\n",
       "    .dataframe tbody tr th:only-of-type {\n",
       "        vertical-align: middle;\n",
       "    }\n",
       "\n",
       "    .dataframe tbody tr th {\n",
       "        vertical-align: top;\n",
       "    }\n",
       "\n",
       "    .dataframe thead th {\n",
       "        text-align: right;\n",
       "    }\n",
       "</style>\n",
       "<table border=\"1\" class=\"dataframe\">\n",
       "  <thead>\n",
       "    <tr style=\"text-align: right;\">\n",
       "      <th></th>\n",
       "      <th>ACCOUNT_ID</th>\n",
       "      <th>GENDER</th>\n",
       "      <th>BIRTH_DT</th>\n",
       "      <th>ACTIVE</th>\n",
       "      <th>LOAN</th>\n",
       "      <th>DISTRICT_ID</th>\n",
       "      <th>SET_SPLIT</th>\n",
       "    </tr>\n",
       "    <tr>\n",
       "      <th>CLIENT_ID</th>\n",
       "      <th></th>\n",
       "      <th></th>\n",
       "      <th></th>\n",
       "      <th></th>\n",
       "      <th></th>\n",
       "      <th></th>\n",
       "      <th></th>\n",
       "    </tr>\n",
       "  </thead>\n",
       "  <tbody>\n",
       "    <tr>\n",
       "      <th>1</th>\n",
       "      <td>1</td>\n",
       "      <td>F</td>\n",
       "      <td>19701213</td>\n",
       "      <td>1</td>\n",
       "      <td>0.0</td>\n",
       "      <td>18</td>\n",
       "      <td>TRAIN</td>\n",
       "    </tr>\n",
       "    <tr>\n",
       "      <th>2</th>\n",
       "      <td>2</td>\n",
       "      <td>M</td>\n",
       "      <td>19450204</td>\n",
       "      <td>1</td>\n",
       "      <td>1.0</td>\n",
       "      <td>1</td>\n",
       "      <td>TRAIN</td>\n",
       "    </tr>\n",
       "    <tr>\n",
       "      <th>4</th>\n",
       "      <td>3</td>\n",
       "      <td>M</td>\n",
       "      <td>19561201</td>\n",
       "      <td>1</td>\n",
       "      <td>0.0</td>\n",
       "      <td>5</td>\n",
       "      <td>TEST</td>\n",
       "    </tr>\n",
       "    <tr>\n",
       "      <th>7</th>\n",
       "      <td>5</td>\n",
       "      <td>M</td>\n",
       "      <td>19290125</td>\n",
       "      <td>1</td>\n",
       "      <td>0.0</td>\n",
       "      <td>15</td>\n",
       "      <td>TRAIN</td>\n",
       "    </tr>\n",
       "    <tr>\n",
       "      <th>8</th>\n",
       "      <td>6</td>\n",
       "      <td>F</td>\n",
       "      <td>19380221</td>\n",
       "      <td>1</td>\n",
       "      <td>0.0</td>\n",
       "      <td>51</td>\n",
       "      <td>TRAIN</td>\n",
       "    </tr>\n",
       "  </tbody>\n",
       "</table>\n",
       "</div>"
      ],
      "text/plain": [
       "           ACCOUNT_ID GENDER  BIRTH_DT  ACTIVE  LOAN  DISTRICT_ID SET_SPLIT\n",
       "CLIENT_ID                                                                  \n",
       "1                   1      F  19701213       1   0.0           18     TRAIN\n",
       "2                   2      M  19450204       1   1.0            1     TRAIN\n",
       "4                   3      M  19561201       1   0.0            5      TEST\n",
       "7                   5      M  19290125       1   0.0           15     TRAIN\n",
       "8                   6      F  19380221       1   0.0           51     TRAIN"
      ]
     },
     "execution_count": 3,
     "metadata": {},
     "output_type": "execute_result"
    }
   ],
   "source": [
    "dfCustomers.head()"
   ]
  },
  {
   "cell_type": "code",
   "execution_count": 4,
   "id": "9237de2b",
   "metadata": {
    "scrolled": true
   },
   "outputs": [],
   "source": [
    "dfTransactions = pd.read_csv(\"transactions.csv\", delimiter = \",\")\n",
    "dfTransactions.set_index(\"TRANS_ID\", inplace = True)"
   ]
  },
  {
   "cell_type": "code",
   "execution_count": 5,
   "id": "8558e61d",
   "metadata": {},
   "outputs": [
    {
     "data": {
      "text/html": [
       "<div>\n",
       "<style scoped>\n",
       "    .dataframe tbody tr th:only-of-type {\n",
       "        vertical-align: middle;\n",
       "    }\n",
       "\n",
       "    .dataframe tbody tr th {\n",
       "        vertical-align: top;\n",
       "    }\n",
       "\n",
       "    .dataframe thead th {\n",
       "        text-align: right;\n",
       "    }\n",
       "</style>\n",
       "<table border=\"1\" class=\"dataframe\">\n",
       "  <thead>\n",
       "    <tr style=\"text-align: right;\">\n",
       "      <th></th>\n",
       "      <th>ACCOUNT_ID</th>\n",
       "      <th>DATE</th>\n",
       "      <th>AMOUNT</th>\n",
       "      <th>BALANCE</th>\n",
       "      <th>TYPE</th>\n",
       "      <th>OPERATION</th>\n",
       "    </tr>\n",
       "    <tr>\n",
       "      <th>TRANS_ID</th>\n",
       "      <th></th>\n",
       "      <th></th>\n",
       "      <th></th>\n",
       "      <th></th>\n",
       "      <th></th>\n",
       "      <th></th>\n",
       "    </tr>\n",
       "  </thead>\n",
       "  <tbody>\n",
       "    <tr>\n",
       "      <th>695247</th>\n",
       "      <td>2378.0</td>\n",
       "      <td>1011993</td>\n",
       "      <td>700.0</td>\n",
       "      <td>700.0</td>\n",
       "      <td>CREDIT</td>\n",
       "      <td>CREDIT_IN_CASH</td>\n",
       "    </tr>\n",
       "    <tr>\n",
       "      <th>171812</th>\n",
       "      <td>576.0</td>\n",
       "      <td>1011993</td>\n",
       "      <td>900.0</td>\n",
       "      <td>900.0</td>\n",
       "      <td>CREDIT</td>\n",
       "      <td>CREDIT_IN_CASH</td>\n",
       "    </tr>\n",
       "    <tr>\n",
       "      <th>207264</th>\n",
       "      <td>704.0</td>\n",
       "      <td>1011993</td>\n",
       "      <td>1000.0</td>\n",
       "      <td>1000.0</td>\n",
       "      <td>CREDIT</td>\n",
       "      <td>CREDIT_IN_CASH</td>\n",
       "    </tr>\n",
       "    <tr>\n",
       "      <th>1117247</th>\n",
       "      <td>3818.0</td>\n",
       "      <td>1011993</td>\n",
       "      <td>600.0</td>\n",
       "      <td>600.0</td>\n",
       "      <td>CREDIT</td>\n",
       "      <td>CREDIT_IN_CASH</td>\n",
       "    </tr>\n",
       "    <tr>\n",
       "      <th>579373</th>\n",
       "      <td>1972.0</td>\n",
       "      <td>2011993</td>\n",
       "      <td>400.0</td>\n",
       "      <td>400.0</td>\n",
       "      <td>CREDIT</td>\n",
       "      <td>CREDIT_IN_CASH</td>\n",
       "    </tr>\n",
       "  </tbody>\n",
       "</table>\n",
       "</div>"
      ],
      "text/plain": [
       "          ACCOUNT_ID     DATE  AMOUNT  BALANCE    TYPE       OPERATION\n",
       "TRANS_ID                                                              \n",
       "695247        2378.0  1011993   700.0    700.0  CREDIT  CREDIT_IN_CASH\n",
       "171812         576.0  1011993   900.0    900.0  CREDIT  CREDIT_IN_CASH\n",
       "207264         704.0  1011993  1000.0   1000.0  CREDIT  CREDIT_IN_CASH\n",
       "1117247       3818.0  1011993   600.0    600.0  CREDIT  CREDIT_IN_CASH\n",
       "579373        1972.0  2011993   400.0    400.0  CREDIT  CREDIT_IN_CASH"
      ]
     },
     "execution_count": 5,
     "metadata": {},
     "output_type": "execute_result"
    }
   ],
   "source": [
    "dfTransactions.head()"
   ]
  },
  {
   "cell_type": "code",
   "execution_count": 6,
   "id": "9af5ad44",
   "metadata": {},
   "outputs": [],
   "source": [
    "dfDistricts =  pd.read_csv(\"districts.csv\", delimiter = \",\")\n",
    "dfDistricts.set_index(\"DISTRICT_ID\", inplace = True)"
   ]
  },
  {
   "cell_type": "code",
   "execution_count": 7,
   "id": "0972b0fa",
   "metadata": {},
   "outputs": [
    {
     "data": {
      "text/html": [
       "<div>\n",
       "<style scoped>\n",
       "    .dataframe tbody tr th:only-of-type {\n",
       "        vertical-align: middle;\n",
       "    }\n",
       "\n",
       "    .dataframe tbody tr th {\n",
       "        vertical-align: top;\n",
       "    }\n",
       "\n",
       "    .dataframe thead th {\n",
       "        text-align: right;\n",
       "    }\n",
       "</style>\n",
       "<table border=\"1\" class=\"dataframe\">\n",
       "  <thead>\n",
       "    <tr style=\"text-align: right;\">\n",
       "      <th></th>\n",
       "      <th>N_INHAB</th>\n",
       "      <th>N_CITIES</th>\n",
       "      <th>URBAN_RATIO</th>\n",
       "      <th>AVG_SALARY</th>\n",
       "      <th>UNEMP_95</th>\n",
       "      <th>UNEMP_96</th>\n",
       "      <th>N_ENTR</th>\n",
       "      <th>CRIME_95</th>\n",
       "      <th>CRIME_96</th>\n",
       "    </tr>\n",
       "    <tr>\n",
       "      <th>DISTRICT_ID</th>\n",
       "      <th></th>\n",
       "      <th></th>\n",
       "      <th></th>\n",
       "      <th></th>\n",
       "      <th></th>\n",
       "      <th></th>\n",
       "      <th></th>\n",
       "      <th></th>\n",
       "      <th></th>\n",
       "    </tr>\n",
       "  </thead>\n",
       "  <tbody>\n",
       "    <tr>\n",
       "      <th>1</th>\n",
       "      <td>1204953</td>\n",
       "      <td>1</td>\n",
       "      <td>100.0</td>\n",
       "      <td>12541</td>\n",
       "      <td>0.29</td>\n",
       "      <td>0.43</td>\n",
       "      <td>167</td>\n",
       "      <td>85677</td>\n",
       "      <td>99107</td>\n",
       "    </tr>\n",
       "    <tr>\n",
       "      <th>2</th>\n",
       "      <td>88884</td>\n",
       "      <td>5</td>\n",
       "      <td>46.7</td>\n",
       "      <td>8507</td>\n",
       "      <td>1.67</td>\n",
       "      <td>1.85</td>\n",
       "      <td>132</td>\n",
       "      <td>2159</td>\n",
       "      <td>2674</td>\n",
       "    </tr>\n",
       "    <tr>\n",
       "      <th>3</th>\n",
       "      <td>75232</td>\n",
       "      <td>5</td>\n",
       "      <td>41.7</td>\n",
       "      <td>8980</td>\n",
       "      <td>1.95</td>\n",
       "      <td>2.21</td>\n",
       "      <td>111</td>\n",
       "      <td>2824</td>\n",
       "      <td>2813</td>\n",
       "    </tr>\n",
       "    <tr>\n",
       "      <th>4</th>\n",
       "      <td>149893</td>\n",
       "      <td>6</td>\n",
       "      <td>67.4</td>\n",
       "      <td>9753</td>\n",
       "      <td>4.64</td>\n",
       "      <td>5.05</td>\n",
       "      <td>109</td>\n",
       "      <td>5244</td>\n",
       "      <td>5892</td>\n",
       "    </tr>\n",
       "    <tr>\n",
       "      <th>5</th>\n",
       "      <td>95616</td>\n",
       "      <td>6</td>\n",
       "      <td>51.4</td>\n",
       "      <td>9307</td>\n",
       "      <td>3.85</td>\n",
       "      <td>4.43</td>\n",
       "      <td>118</td>\n",
       "      <td>2616</td>\n",
       "      <td>3040</td>\n",
       "    </tr>\n",
       "  </tbody>\n",
       "</table>\n",
       "</div>"
      ],
      "text/plain": [
       "             N_INHAB  N_CITIES  URBAN_RATIO  AVG_SALARY UNEMP_95  UNEMP_96  \\\n",
       "DISTRICT_ID                                                                  \n",
       "1            1204953         1        100.0       12541     0.29      0.43   \n",
       "2              88884         5         46.7        8507     1.67      1.85   \n",
       "3              75232         5         41.7        8980     1.95      2.21   \n",
       "4             149893         6         67.4        9753     4.64      5.05   \n",
       "5              95616         6         51.4        9307     3.85      4.43   \n",
       "\n",
       "             N_ENTR CRIME_95  CRIME_96  \n",
       "DISTRICT_ID                             \n",
       "1               167    85677     99107  \n",
       "2               132     2159      2674  \n",
       "3               111     2824      2813  \n",
       "4               109     5244      5892  \n",
       "5               118     2616      3040  "
      ]
     },
     "execution_count": 7,
     "metadata": {},
     "output_type": "execute_result"
    }
   ],
   "source": [
    "dfDistricts.head()"
   ]
  },
  {
   "cell_type": "markdown",
   "id": "68e096ce",
   "metadata": {},
   "source": [
    "# DATA EXPLORATION"
   ]
  },
  {
   "cell_type": "markdown",
   "id": "b7880cc3",
   "metadata": {},
   "source": [
    "## Exploring Uniqueness"
   ]
  },
  {
   "cell_type": "markdown",
   "id": "267c8aac",
   "metadata": {},
   "source": [
    "### dfCustomers"
   ]
  },
  {
   "cell_type": "code",
   "execution_count": 8,
   "id": "ccaada92",
   "metadata": {},
   "outputs": [
    {
     "data": {
      "text/plain": [
       "True"
      ]
     },
     "execution_count": 8,
     "metadata": {},
     "output_type": "execute_result"
    }
   ],
   "source": [
    "len(dfCustomers.index.unique()) == len(dfCustomers.index)"
   ]
  },
  {
   "cell_type": "markdown",
   "id": "ad667ef2",
   "metadata": {},
   "source": [
    "### dfDistricts"
   ]
  },
  {
   "cell_type": "code",
   "execution_count": 9,
   "id": "e76a51e4",
   "metadata": {},
   "outputs": [
    {
     "data": {
      "text/plain": [
       "True"
      ]
     },
     "execution_count": 9,
     "metadata": {},
     "output_type": "execute_result"
    }
   ],
   "source": [
    "len(dfDistricts.index.unique()) == len(dfDistricts.index)"
   ]
  },
  {
   "cell_type": "markdown",
   "id": "5eb84deb",
   "metadata": {},
   "source": [
    "### dfTransactions"
   ]
  },
  {
   "cell_type": "markdown",
   "id": "66cdcf74",
   "metadata": {},
   "source": [
    "dfTransactions contain some duplicated TRANS_IDs."
   ]
  },
  {
   "cell_type": "code",
   "execution_count": 10,
   "id": "08735d7f",
   "metadata": {
    "scrolled": true
   },
   "outputs": [
    {
     "data": {
      "text/plain": [
       "False"
      ]
     },
     "execution_count": 10,
     "metadata": {},
     "output_type": "execute_result"
    }
   ],
   "source": [
    "len(dfTransactions.index.unique()) == len(dfTransactions.index)"
   ]
  },
  {
   "cell_type": "markdown",
   "id": "88e2a6b5",
   "metadata": {},
   "source": [
    "There are 20000 rows which are duplicated."
   ]
  },
  {
   "cell_type": "code",
   "execution_count": 11,
   "id": "e94b762c",
   "metadata": {},
   "outputs": [
    {
     "data": {
      "text/html": [
       "<div>\n",
       "<style scoped>\n",
       "    .dataframe tbody tr th:only-of-type {\n",
       "        vertical-align: middle;\n",
       "    }\n",
       "\n",
       "    .dataframe tbody tr th {\n",
       "        vertical-align: top;\n",
       "    }\n",
       "\n",
       "    .dataframe thead th {\n",
       "        text-align: right;\n",
       "    }\n",
       "</style>\n",
       "<table border=\"1\" class=\"dataframe\">\n",
       "  <thead>\n",
       "    <tr style=\"text-align: right;\">\n",
       "      <th></th>\n",
       "      <th>ACCOUNT_ID</th>\n",
       "      <th>DATE</th>\n",
       "      <th>AMOUNT</th>\n",
       "      <th>BALANCE</th>\n",
       "      <th>TYPE</th>\n",
       "      <th>OPERATION</th>\n",
       "    </tr>\n",
       "    <tr>\n",
       "      <th>TRANS_ID</th>\n",
       "      <th></th>\n",
       "      <th></th>\n",
       "      <th></th>\n",
       "      <th></th>\n",
       "      <th></th>\n",
       "      <th></th>\n",
       "    </tr>\n",
       "  </thead>\n",
       "  <tbody>\n",
       "    <tr>\n",
       "      <th>612405</th>\n",
       "      <td>2087.0</td>\n",
       "      <td>29011993</td>\n",
       "      <td>16983.0</td>\n",
       "      <td>17583.0</td>\n",
       "      <td>CREDIT</td>\n",
       "      <td>CREDIT_IN_CASH</td>\n",
       "    </tr>\n",
       "    <tr>\n",
       "      <th>612405</th>\n",
       "      <td>2087.0</td>\n",
       "      <td>29011993</td>\n",
       "      <td>16983.0</td>\n",
       "      <td>17583.0</td>\n",
       "      <td>CREDIT</td>\n",
       "      <td>CREDIT_IN_CASH</td>\n",
       "    </tr>\n",
       "    <tr>\n",
       "      <th>796773</th>\n",
       "      <td>2714.0</td>\n",
       "      <td>30011993</td>\n",
       "      <td>800.0</td>\n",
       "      <td>800.0</td>\n",
       "      <td>CREDIT</td>\n",
       "      <td>CREDIT_IN_CASH</td>\n",
       "    </tr>\n",
       "    <tr>\n",
       "      <th>796773</th>\n",
       "      <td>2714.0</td>\n",
       "      <td>30011993</td>\n",
       "      <td>800.0</td>\n",
       "      <td>800.0</td>\n",
       "      <td>CREDIT</td>\n",
       "      <td>CREDIT_IN_CASH</td>\n",
       "    </tr>\n",
       "    <tr>\n",
       "      <th>542217</th>\n",
       "      <td>1844.0</td>\n",
       "      <td>7021993</td>\n",
       "      <td>3242.0</td>\n",
       "      <td>6996.6</td>\n",
       "      <td>CREDIT</td>\n",
       "      <td>COLLECTION_FROM_OTHER_BANK</td>\n",
       "    </tr>\n",
       "    <tr>\n",
       "      <th>...</th>\n",
       "      <td>...</td>\n",
       "      <td>...</td>\n",
       "      <td>...</td>\n",
       "      <td>...</td>\n",
       "      <td>...</td>\n",
       "      <td>...</td>\n",
       "    </tr>\n",
       "    <tr>\n",
       "      <th>3637054</th>\n",
       "      <td>3225.0</td>\n",
       "      <td>31121998</td>\n",
       "      <td>359.2</td>\n",
       "      <td>85171.9</td>\n",
       "      <td>CREDIT</td>\n",
       "      <td>NaN</td>\n",
       "    </tr>\n",
       "    <tr>\n",
       "      <th>3553434</th>\n",
       "      <td>696.0</td>\n",
       "      <td>31121998</td>\n",
       "      <td>234.8</td>\n",
       "      <td>56102.8</td>\n",
       "      <td>CREDIT</td>\n",
       "      <td>NaN</td>\n",
       "    </tr>\n",
       "    <tr>\n",
       "      <th>3471092</th>\n",
       "      <td>4526.0</td>\n",
       "      <td>31121998</td>\n",
       "      <td>281.5</td>\n",
       "      <td>83037.3</td>\n",
       "      <td>CREDIT</td>\n",
       "      <td>NaN</td>\n",
       "    </tr>\n",
       "    <tr>\n",
       "      <th>3457056</th>\n",
       "      <td>9707.0</td>\n",
       "      <td>31121998</td>\n",
       "      <td>272.0</td>\n",
       "      <td>99872.3</td>\n",
       "      <td>CREDIT</td>\n",
       "      <td>NaN</td>\n",
       "    </tr>\n",
       "    <tr>\n",
       "      <th>3554479</th>\n",
       "      <td>728.0</td>\n",
       "      <td>31121998</td>\n",
       "      <td>78.7</td>\n",
       "      <td>21518.0</td>\n",
       "      <td>CREDIT</td>\n",
       "      <td>NaN</td>\n",
       "    </tr>\n",
       "  </tbody>\n",
       "</table>\n",
       "<p>20000 rows × 6 columns</p>\n",
       "</div>"
      ],
      "text/plain": [
       "          ACCOUNT_ID      DATE   AMOUNT  BALANCE    TYPE  \\\n",
       "TRANS_ID                                                   \n",
       "612405        2087.0  29011993  16983.0  17583.0  CREDIT   \n",
       "612405        2087.0  29011993  16983.0  17583.0  CREDIT   \n",
       "796773        2714.0  30011993    800.0    800.0  CREDIT   \n",
       "796773        2714.0  30011993    800.0    800.0  CREDIT   \n",
       "542217        1844.0   7021993   3242.0   6996.6  CREDIT   \n",
       "...              ...       ...      ...      ...     ...   \n",
       "3637054       3225.0  31121998    359.2  85171.9  CREDIT   \n",
       "3553434        696.0  31121998    234.8  56102.8  CREDIT   \n",
       "3471092       4526.0  31121998    281.5  83037.3  CREDIT   \n",
       "3457056       9707.0  31121998    272.0  99872.3  CREDIT   \n",
       "3554479        728.0  31121998     78.7  21518.0  CREDIT   \n",
       "\n",
       "                           OPERATION  \n",
       "TRANS_ID                              \n",
       "612405                CREDIT_IN_CASH  \n",
       "612405                CREDIT_IN_CASH  \n",
       "796773                CREDIT_IN_CASH  \n",
       "796773                CREDIT_IN_CASH  \n",
       "542217    COLLECTION_FROM_OTHER_BANK  \n",
       "...                              ...  \n",
       "3637054                          NaN  \n",
       "3553434                          NaN  \n",
       "3471092                          NaN  \n",
       "3457056                          NaN  \n",
       "3554479                          NaN  \n",
       "\n",
       "[20000 rows x 6 columns]"
      ]
     },
     "execution_count": 11,
     "metadata": {},
     "output_type": "execute_result"
    }
   ],
   "source": [
    "dfTransactions[dfTransactions.index.duplicated(keep=False)]"
   ]
  },
  {
   "cell_type": "code",
   "execution_count": 12,
   "id": "29c53915",
   "metadata": {},
   "outputs": [
    {
     "data": {
      "text/html": [
       "<div>\n",
       "<style scoped>\n",
       "    .dataframe tbody tr th:only-of-type {\n",
       "        vertical-align: middle;\n",
       "    }\n",
       "\n",
       "    .dataframe tbody tr th {\n",
       "        vertical-align: top;\n",
       "    }\n",
       "\n",
       "    .dataframe thead th {\n",
       "        text-align: right;\n",
       "    }\n",
       "</style>\n",
       "<table border=\"1\" class=\"dataframe\">\n",
       "  <thead>\n",
       "    <tr style=\"text-align: right;\">\n",
       "      <th></th>\n",
       "      <th>ACCOUNT_ID</th>\n",
       "      <th>DATE</th>\n",
       "      <th>AMOUNT</th>\n",
       "      <th>BALANCE</th>\n",
       "      <th>TYPE</th>\n",
       "      <th>OPERATION</th>\n",
       "    </tr>\n",
       "    <tr>\n",
       "      <th>TRANS_ID</th>\n",
       "      <th></th>\n",
       "      <th></th>\n",
       "      <th></th>\n",
       "      <th></th>\n",
       "      <th></th>\n",
       "      <th></th>\n",
       "    </tr>\n",
       "  </thead>\n",
       "  <tbody>\n",
       "    <tr>\n",
       "      <th>3457056</th>\n",
       "      <td>9707.0</td>\n",
       "      <td>31121998</td>\n",
       "      <td>272.0</td>\n",
       "      <td>99872.3</td>\n",
       "      <td>CREDIT</td>\n",
       "      <td>NaN</td>\n",
       "    </tr>\n",
       "    <tr>\n",
       "      <th>3457056</th>\n",
       "      <td>9707.0</td>\n",
       "      <td>31121998</td>\n",
       "      <td>272.0</td>\n",
       "      <td>99872.3</td>\n",
       "      <td>CREDIT</td>\n",
       "      <td>NaN</td>\n",
       "    </tr>\n",
       "  </tbody>\n",
       "</table>\n",
       "</div>"
      ],
      "text/plain": [
       "          ACCOUNT_ID      DATE  AMOUNT  BALANCE    TYPE OPERATION\n",
       "TRANS_ID                                                         \n",
       "3457056       9707.0  31121998   272.0  99872.3  CREDIT       NaN\n",
       "3457056       9707.0  31121998   272.0  99872.3  CREDIT       NaN"
      ]
     },
     "execution_count": 12,
     "metadata": {},
     "output_type": "execute_result"
    }
   ],
   "source": [
    "dfTransactions.loc[3457056]"
   ]
  },
  {
   "cell_type": "markdown",
   "id": "7ebd17dd",
   "metadata": {},
   "source": [
    "## Exploring Data Types"
   ]
  },
  {
   "cell_type": "markdown",
   "id": "5f9c8332",
   "metadata": {},
   "source": [
    "### dfCustomers"
   ]
  },
  {
   "cell_type": "markdown",
   "id": "eaee04ac",
   "metadata": {},
   "source": [
    "\"LOAN\" field should be either 1 or 0 by description. Usually such fields have integer data types. However, it looks as float64, it s a sign that this field can include some unexpected data."
   ]
  },
  {
   "cell_type": "code",
   "execution_count": 13,
   "id": "e33c7d32",
   "metadata": {},
   "outputs": [
    {
     "name": "stdout",
     "output_type": "stream",
     "text": [
      "<class 'pandas.core.frame.DataFrame'>\n",
      "Int64Index: 4450 entries, 1 to 13998\n",
      "Data columns (total 7 columns):\n",
      " #   Column       Non-Null Count  Dtype  \n",
      "---  ------       --------------  -----  \n",
      " 0   ACCOUNT_ID   4450 non-null   int64  \n",
      " 1   GENDER       4450 non-null   object \n",
      " 2   BIRTH_DT     4450 non-null   int64  \n",
      " 3   ACTIVE       4450 non-null   int64  \n",
      " 4   LOAN         4400 non-null   float64\n",
      " 5   DISTRICT_ID  4450 non-null   int64  \n",
      " 6   SET_SPLIT    4450 non-null   object \n",
      "dtypes: float64(1), int64(4), object(2)\n",
      "memory usage: 407.2+ KB\n"
     ]
    }
   ],
   "source": [
    "dfCustomers.info()"
   ]
  },
  {
   "cell_type": "markdown",
   "id": "c1e66616",
   "metadata": {},
   "source": [
    "Confirming that each client has only 1 account id in dfCustomers dataset."
   ]
  },
  {
   "cell_type": "code",
   "execution_count": 14,
   "id": "214edc69",
   "metadata": {},
   "outputs": [
    {
     "data": {
      "text/plain": [
       "True"
      ]
     },
     "execution_count": 14,
     "metadata": {},
     "output_type": "execute_result"
    }
   ],
   "source": [
    "len(dfCustomers.index.unique()) == len(dfCustomers[\"ACCOUNT_ID\"].unique())"
   ]
  },
  {
   "cell_type": "markdown",
   "id": "d2bd49ce",
   "metadata": {},
   "source": [
    "### dfDistricts"
   ]
  },
  {
   "cell_type": "markdown",
   "id": "7d92fa19",
   "metadata": {},
   "source": [
    "\"UNEMP_95\" and \"CRIME_95\" fields look as object data type. By description of field, \"UNEMP_95\" should represent unemployment ratio which is float, however it looks as object. Similarly, \"CRIME_95\" field represents number of committed crimes which should be in integer type. However, it also looks as object. These are signs that, the fields of \"UNEMP_95\" and \"CRIME_95\" contain some unexpected data."
   ]
  },
  {
   "cell_type": "code",
   "execution_count": 15,
   "id": "dca9e684",
   "metadata": {
    "scrolled": true
   },
   "outputs": [
    {
     "name": "stdout",
     "output_type": "stream",
     "text": [
      "<class 'pandas.core.frame.DataFrame'>\n",
      "Int64Index: 77 entries, 1 to 77\n",
      "Data columns (total 9 columns):\n",
      " #   Column       Non-Null Count  Dtype  \n",
      "---  ------       --------------  -----  \n",
      " 0   N_INHAB      77 non-null     int64  \n",
      " 1   N_CITIES     77 non-null     int64  \n",
      " 2   URBAN_RATIO  77 non-null     float64\n",
      " 3   AVG_SALARY   77 non-null     int64  \n",
      " 4   UNEMP_95     77 non-null     object \n",
      " 5   UNEMP_96     77 non-null     float64\n",
      " 6   N_ENTR       77 non-null     int64  \n",
      " 7   CRIME_95     77 non-null     object \n",
      " 8   CRIME_96     77 non-null     int64  \n",
      "dtypes: float64(2), int64(5), object(2)\n",
      "memory usage: 8.1+ KB\n"
     ]
    }
   ],
   "source": [
    "dfDistricts.info()"
   ]
  },
  {
   "cell_type": "markdown",
   "id": "7da9187c",
   "metadata": {},
   "source": [
    "### dfTransactions"
   ]
  },
  {
   "cell_type": "code",
   "execution_count": 16,
   "id": "a08e312e",
   "metadata": {},
   "outputs": [
    {
     "name": "stdout",
     "output_type": "stream",
     "text": [
      "<class 'pandas.core.frame.DataFrame'>\n",
      "Int64Index: 1066320 entries, 695247 to 3624981\n",
      "Data columns (total 6 columns):\n",
      " #   Column      Non-Null Count    Dtype  \n",
      "---  ------      --------------    -----  \n",
      " 0   ACCOUNT_ID  1061320 non-null  float64\n",
      " 1   DATE        1066320 non-null  int64  \n",
      " 2   AMOUNT      1066320 non-null  float64\n",
      " 3   BALANCE     1066320 non-null  float64\n",
      " 4   TYPE        1066320 non-null  object \n",
      " 5   OPERATION   881436 non-null   object \n",
      "dtypes: float64(3), int64(1), object(2)\n",
      "memory usage: 89.2+ MB\n"
     ]
    }
   ],
   "source": [
    "dfTransactions.info()"
   ]
  },
  {
   "cell_type": "markdown",
   "id": "3e166513",
   "metadata": {},
   "source": [
    "## Exploring Missing Data"
   ]
  },
  {
   "cell_type": "markdown",
   "id": "fa14ef67",
   "metadata": {},
   "source": [
    "### dfCustomers"
   ]
  },
  {
   "cell_type": "markdown",
   "id": "197a8c1d",
   "metadata": {},
   "source": [
    "Only field 'LOAN' includes NaN values in dfCustomers dataframe."
   ]
  },
  {
   "cell_type": "code",
   "execution_count": 17,
   "id": "35401b52",
   "metadata": {},
   "outputs": [
    {
     "data": {
      "text/plain": [
       "['LOAN']"
      ]
     },
     "execution_count": 17,
     "metadata": {},
     "output_type": "execute_result"
    }
   ],
   "source": [
    "dfCustomers.columns[dfCustomers.isna().any()].tolist()"
   ]
  },
  {
   "cell_type": "markdown",
   "id": "9fa2a67f",
   "metadata": {},
   "source": [
    "Checking unique fields to be sure if any other missing values except NaN. Unique values are sorted to detect missing values on the boundaries of the sorted array."
   ]
  },
  {
   "cell_type": "code",
   "execution_count": 18,
   "id": "ed5b547d",
   "metadata": {},
   "outputs": [
    {
     "data": {
      "text/plain": [
       "array([    1,     2,     4, ..., 13968, 13971, 13998], dtype=int64)"
      ]
     },
     "execution_count": 18,
     "metadata": {},
     "output_type": "execute_result"
    }
   ],
   "source": [
    "np.sort(dfCustomers.index.unique())"
   ]
  },
  {
   "cell_type": "code",
   "execution_count": 19,
   "id": "ef9c281e",
   "metadata": {},
   "outputs": [
    {
     "data": {
      "text/plain": [
       "array([    1,     2,     3, ..., 11359, 11362, 11382], dtype=int64)"
      ]
     },
     "execution_count": 19,
     "metadata": {},
     "output_type": "execute_result"
    }
   ],
   "source": [
    "np.sort(dfCustomers[\"ACCOUNT_ID\"].unique())"
   ]
  },
  {
   "cell_type": "code",
   "execution_count": 20,
   "id": "19a46700",
   "metadata": {},
   "outputs": [
    {
     "data": {
      "text/plain": [
       "array(['F', 'M'], dtype=object)"
      ]
     },
     "execution_count": 20,
     "metadata": {},
     "output_type": "execute_result"
    }
   ],
   "source": [
    "np.sort(dfCustomers[\"GENDER\"].unique())"
   ]
  },
  {
   "cell_type": "code",
   "execution_count": 21,
   "id": "f0167a10",
   "metadata": {},
   "outputs": [
    {
     "data": {
      "text/plain": [
       "array([19180107, 19180111, 19180116, ..., 19821005, 19821020, 19821211],\n",
       "      dtype=int64)"
      ]
     },
     "execution_count": 21,
     "metadata": {},
     "output_type": "execute_result"
    }
   ],
   "source": [
    "np.sort(dfCustomers[\"BIRTH_DT\"].unique())"
   ]
  },
  {
   "cell_type": "markdown",
   "id": "b942e027",
   "metadata": {},
   "source": [
    "Confirming that each date value includes 8 characters."
   ]
  },
  {
   "cell_type": "code",
   "execution_count": 22,
   "id": "d66ce7b1",
   "metadata": {},
   "outputs": [
    {
     "data": {
      "text/plain": [
       "array([8], dtype=int64)"
      ]
     },
     "execution_count": 22,
     "metadata": {},
     "output_type": "execute_result"
    }
   ],
   "source": [
    "dfCustomers[\"BIRTH_DT\"].astype(str).str.len().unique()"
   ]
  },
  {
   "cell_type": "code",
   "execution_count": 23,
   "id": "bb88eadb",
   "metadata": {},
   "outputs": [
    {
     "data": {
      "text/plain": [
       "array([1], dtype=int64)"
      ]
     },
     "execution_count": 23,
     "metadata": {},
     "output_type": "execute_result"
    }
   ],
   "source": [
    "np.sort(dfCustomers[\"ACTIVE\"].unique())"
   ]
  },
  {
   "cell_type": "code",
   "execution_count": 24,
   "id": "ca93dfe6",
   "metadata": {},
   "outputs": [
    {
     "data": {
      "text/plain": [
       "array([ 0.,  1., nan])"
      ]
     },
     "execution_count": 24,
     "metadata": {},
     "output_type": "execute_result"
    }
   ],
   "source": [
    "np.sort(dfCustomers[\"LOAN\"].unique())"
   ]
  },
  {
   "cell_type": "code",
   "execution_count": 25,
   "id": "d371c273",
   "metadata": {},
   "outputs": [
    {
     "data": {
      "text/plain": [
       "array([ 1,  2,  3,  4,  5,  6,  7,  8,  9, 10, 11, 12, 13, 14, 15, 16, 17,\n",
       "       18, 19, 20, 21, 22, 23, 24, 25, 26, 27, 28, 29, 30, 31, 32, 33, 34,\n",
       "       35, 36, 37, 38, 39, 40, 41, 42, 43, 44, 45, 46, 47, 48, 49, 50, 51,\n",
       "       52, 53, 54, 55, 56, 57, 58, 59, 60, 61, 62, 63, 64, 65, 66, 67, 68,\n",
       "       69, 70, 71, 72, 73, 74, 75, 76, 77], dtype=int64)"
      ]
     },
     "execution_count": 25,
     "metadata": {},
     "output_type": "execute_result"
    }
   ],
   "source": [
    "np.sort(dfCustomers[\"DISTRICT_ID\"].unique())"
   ]
  },
  {
   "cell_type": "code",
   "execution_count": 26,
   "id": "a79e03ea",
   "metadata": {},
   "outputs": [
    {
     "data": {
      "text/plain": [
       "array(['TEST', 'TRAIN'], dtype=object)"
      ]
     },
     "execution_count": 26,
     "metadata": {},
     "output_type": "execute_result"
    }
   ],
   "source": [
    "np.sort(dfCustomers[\"SET_SPLIT\"].unique())"
   ]
  },
  {
   "cell_type": "markdown",
   "id": "aefd76a3",
   "metadata": {},
   "source": [
    "### dfDistricts"
   ]
  },
  {
   "cell_type": "markdown",
   "id": "62da4eef",
   "metadata": {},
   "source": [
    "Looks like there is no field that contains NaN value in dfDistricts."
   ]
  },
  {
   "cell_type": "code",
   "execution_count": 27,
   "id": "7385c778",
   "metadata": {},
   "outputs": [
    {
     "data": {
      "text/plain": [
       "[]"
      ]
     },
     "execution_count": 27,
     "metadata": {},
     "output_type": "execute_result"
    }
   ],
   "source": [
    "dfDistricts.columns[dfDistricts.isna().any()].tolist()"
   ]
  },
  {
   "cell_type": "markdown",
   "id": "fbde6c6e",
   "metadata": {},
   "source": [
    "Checking unique fields to be sure if any other missing values except NaN. Unique values are sorted to detect missing values on the boundaries of the sorted array."
   ]
  },
  {
   "cell_type": "code",
   "execution_count": 28,
   "id": "2f637ce8",
   "metadata": {},
   "outputs": [
    {
     "data": {
      "text/plain": [
       "array([ 1,  2,  3,  4,  5,  6,  7,  8,  9, 10, 11, 12, 13, 14, 15, 16, 17,\n",
       "       18, 19, 20, 21, 22, 23, 24, 25, 26, 27, 28, 29, 30, 31, 32, 33, 34,\n",
       "       35, 36, 37, 38, 39, 40, 41, 42, 43, 44, 45, 46, 47, 48, 49, 50, 51,\n",
       "       52, 53, 54, 55, 56, 57, 58, 59, 60, 61, 62, 63, 64, 65, 66, 67, 68,\n",
       "       69, 70, 71, 72, 73, 74, 75, 76, 77], dtype=int64)"
      ]
     },
     "execution_count": 28,
     "metadata": {},
     "output_type": "execute_result"
    }
   ],
   "source": [
    "np.sort(dfDistricts.index.unique())"
   ]
  },
  {
   "cell_type": "code",
   "execution_count": 29,
   "id": "1859868f",
   "metadata": {},
   "outputs": [
    {
     "data": {
      "text/plain": [
       "array([  42821,   45714,   51313,   51428,   53921,   58400,   58796,\n",
       "         67298,   70646,   70699,   72541,   74062,   75232,   75637,\n",
       "         75685,   77917,   77963,   78955,   81344,   85852,   86513,\n",
       "         87419,   88757,   88768,   88884,   92084,   93931,   94725,\n",
       "         94812,   95616,   95907,  102609,  103347,  105058,  105606,\n",
       "        106054,  107870,  107911,  108871,  109164,  110643,  112065,\n",
       "        112709,  114006,  114200,  117897,  118650,  119895,  121947,\n",
       "        122603,  124605,  125236,  125832,  127369,  128118,  133777,\n",
       "        138032,  139012,  145688,  148545,  149893,  157042,  159617,\n",
       "        161227,  161854,  161954,  162580,  170449,  177686,  182027,\n",
       "        197099,  226122,  228848,  285387,  323870,  387570, 1204953],\n",
       "      dtype=int64)"
      ]
     },
     "execution_count": 29,
     "metadata": {},
     "output_type": "execute_result"
    }
   ],
   "source": [
    "np.sort(dfDistricts[\"N_INHAB\"].unique())"
   ]
  },
  {
   "cell_type": "code",
   "execution_count": 30,
   "id": "aa50c31e",
   "metadata": {},
   "outputs": [
    {
     "data": {
      "text/plain": [
       "array([ 1,  2,  3,  4,  5,  6,  7,  8,  9, 10, 11], dtype=int64)"
      ]
     },
     "execution_count": 30,
     "metadata": {},
     "output_type": "execute_result"
    }
   ],
   "source": [
    "np.sort(dfDistricts[\"N_CITIES\"].unique())"
   ]
  },
  {
   "cell_type": "code",
   "execution_count": 31,
   "id": "a148e195",
   "metadata": {},
   "outputs": [
    {
     "data": {
      "text/plain": [
       "array([ 33.9,  36.5,  36.9,  40.7,  41.3,  41.7,  43.7,  43.8,  46. ,\n",
       "        46.7,  48. ,  48.3,  48.4,  50.5,  50.9,  51.2,  51.4,  51.5,\n",
       "        51.9,  52. ,  52.4,  52.7,  53. ,  53.5,  53.8,  55.3,  55.6,\n",
       "        56.4,  56.9,  57.2,  58. ,  58.4,  59. ,  59.1,  59.2,  59.8,\n",
       "        60.8,  61.4,  61.7,  61.9,  62.1,  62.3,  62.6,  63.1,  63.4,\n",
       "        63.6,  64.6,  65.3,  67. ,  67.4,  69.4,  69.7,  70.5,  72.8,\n",
       "        73.5,  74.7,  74.8,  76.3,  80. ,  80.5,  81. ,  81.8,  84.7,\n",
       "        85.2,  85.3,  85.5,  85.6,  87.7,  89.9, 100. ])"
      ]
     },
     "execution_count": 31,
     "metadata": {},
     "output_type": "execute_result"
    }
   ],
   "source": [
    "np.sort(dfDistricts[\"URBAN_RATIO\"].unique())"
   ]
  },
  {
   "cell_type": "code",
   "execution_count": 32,
   "id": "26607dec",
   "metadata": {},
   "outputs": [
    {
     "data": {
      "text/plain": [
       "array([ 8110,  8114,  8173,  8187,  8208,  8240,  8254,  8288,  8363,\n",
       "        8369,  8388,  8390,  8402,  8403,  8427,  8441,  8444,  8507,\n",
       "        8512,  8541,  8544,  8546,  8547,  8554,  8561,  8594,  8598,\n",
       "        8620,  8624,  8678,  8705,  8720,  8743,  8746,  8754,  8757,\n",
       "        8772,  8814,  8819,  8843,  8867,  8899,  8909,  8930,  8965,\n",
       "        8968,  8980,  8991,  8994,  9045,  9060,  9065,  9104,  9198,\n",
       "        9272,  9307,  9317,  9425,  9538,  9622,  9624,  9650,  9675,\n",
       "        9753,  9832,  9893,  9897,  9920, 10045, 10124, 10177, 10446,\n",
       "       10673, 10787, 11277, 12541], dtype=int64)"
      ]
     },
     "execution_count": 32,
     "metadata": {},
     "output_type": "execute_result"
    }
   ],
   "source": [
    "np.sort(dfDistricts[\"AVG_SALARY\"].unique())"
   ]
  },
  {
   "cell_type": "markdown",
   "id": "848155b3",
   "metadata": {},
   "source": [
    "\"UNEMP_95\" field contains value of question mark character '?'."
   ]
  },
  {
   "cell_type": "code",
   "execution_count": 33,
   "id": "21e7146b",
   "metadata": {},
   "outputs": [
    {
     "data": {
      "text/plain": [
       "array(['0.29', '0.45', '0.56', '0.65', '1.02', '1.10', '1.12', '1.25',\n",
       "       '1.29', '1.39', '1.42', '1.51', '1.60', '1.62', '1.67', '1.72',\n",
       "       '1.78', '1.79', '1.88', '1.89', '1.95', '2.26', '2.28', '2.38',\n",
       "       '2.41', '2.47', '2.51', '2.52', '2.53', '2.64', '2.65', '2.77',\n",
       "       '2.79', '2.80', '2.82', '2.83', '2.95', '3.13', '3.24', '3.32',\n",
       "       '3.33', '3.38', '3.39', '3.45', '3.51', '3.52', '3.73', '3.79',\n",
       "       '3.80', '3.83', '3.85', '4.01', '4.09', '4.46', '4.64', '4.69',\n",
       "       '4.73', '4.75', '4.76', '4.83', '5.38', '5.74', '5.75', '5.77',\n",
       "       '5.93', '6.43', '6.49', '6.63', '7.08', '7.34', '?'], dtype=object)"
      ]
     },
     "execution_count": 33,
     "metadata": {},
     "output_type": "execute_result"
    }
   ],
   "source": [
    "np.sort(dfDistricts[\"UNEMP_95\"].unique())"
   ]
  },
  {
   "cell_type": "code",
   "execution_count": 34,
   "id": "63b950ae",
   "metadata": {},
   "outputs": [
    {
     "data": {
      "text/plain": [
       "array([0.43, 0.54, 0.59, 1.21, 1.25, 1.29, 1.44, 1.54, 1.71, 1.81, 1.85,\n",
       "       1.86, 1.96, 2.01, 2.07, 2.21, 2.26, 2.31, 2.43, 2.44, 2.5 , 2.62,\n",
       "       2.66, 2.68, 2.87, 2.89, 2.94, 2.97, 3.09, 3.22, 3.26, 3.35, 3.47,\n",
       "       3.49, 3.56, 3.6 , 3.64, 3.67, 3.74, 3.76, 3.95, 3.97, 3.98, 4.02,\n",
       "       4.12, 4.2 , 4.28, 4.31, 4.43, 4.48, 4.5 , 4.52, 4.72, 4.79, 4.98,\n",
       "       5.05, 5.39, 5.44, 5.45, 5.56, 5.57, 5.66, 5.72, 5.74, 5.88, 6.55,\n",
       "       7.01, 7.07, 7.61, 7.68, 7.75, 8.23, 9.4 ])"
      ]
     },
     "execution_count": 34,
     "metadata": {},
     "output_type": "execute_result"
    }
   ],
   "source": [
    "np.sort(dfDistricts[\"UNEMP_96\"].unique())"
   ]
  },
  {
   "cell_type": "code",
   "execution_count": 35,
   "id": "8316c266",
   "metadata": {},
   "outputs": [
    {
     "data": {
      "text/plain": [
       "array([ 81,  87,  90,  94,  96,  97,  99, 100, 102, 104, 105, 106, 107,\n",
       "       108, 109, 110, 111, 112, 113, 114, 115, 116, 117, 118, 119, 120,\n",
       "       123, 124, 125, 126, 127, 128, 130, 131, 132, 135, 137, 140, 141,\n",
       "       145, 149, 154, 155, 167], dtype=int64)"
      ]
     },
     "execution_count": 35,
     "metadata": {},
     "output_type": "execute_result"
    }
   ],
   "source": [
    "np.sort(dfDistricts[\"N_ENTR\"].unique())"
   ]
  },
  {
   "cell_type": "markdown",
   "id": "9d497c52",
   "metadata": {},
   "source": [
    "\"CRIME_95\" field contains value of question mark character '?'."
   ]
  },
  {
   "cell_type": "code",
   "execution_count": 36,
   "id": "849d323e",
   "metadata": {},
   "outputs": [
    {
     "data": {
      "text/plain": [
       "array(['1003', '1029', '1089', '1328', '1562', '1563', '1580', '1597',\n",
       "       '1655', '1658', '1660', '1740', '1822', '1845', '1850', '18721',\n",
       "       '1874', '18782', '1879', '2080', '2112', '2123', '2157', '2159',\n",
       "       '2166', '2212', '2247', '2299', '2564', '2595', '2616', '2640',\n",
       "       '2653', '2719', '2824', '2854', '2879', '2985', '2987', '3244',\n",
       "       '3384', '3460', '3475', '3496', '3659', '3729', '3736', '3804',\n",
       "       '3810', '4063', '4085', '4147', '4289', '4340', '4355', '4484',\n",
       "       '4650', '4947', '4980', '5179', '5198', '5244', '5323', '5623',\n",
       "       '5796', '6041', '6079', '6445', '6604', '6949', '818', '85677',\n",
       "       '9672', '9878', '999', '?'], dtype=object)"
      ]
     },
     "execution_count": 36,
     "metadata": {},
     "output_type": "execute_result"
    }
   ],
   "source": [
    "np.sort(dfDistricts[\"CRIME_95\"].unique())"
   ]
  },
  {
   "cell_type": "code",
   "execution_count": 37,
   "id": "63f3fcf4",
   "metadata": {
    "scrolled": true
   },
   "outputs": [
    {
     "data": {
      "text/plain": [
       "array([  888,  1099,  1117,  1127,  1181,  1358,  1452,  1460,  1525,\n",
       "        1542,  1668,  1717,  1875,  1879,  1903,  1910,  1913,  2059,\n",
       "        2103,  2122,  2123,  2134,  2218,  2252,  2305,  2325,  2354,\n",
       "        2471,  2487,  2618,  2674,  2718,  2799,  2804,  2807,  2813,\n",
       "        2822,  2906,  3040,  3079,  3120,  3158,  3198,  3529,  3590,\n",
       "        3620,  3651,  3839,  3868,  3891,  3894,  4166,  4265,  4316,\n",
       "        4433,  4505,  4595,  4743,  4846,  4859,  4987,  5190,  5273,\n",
       "        5410,  5471,  5887,  5892,  6132,  6261,  6295,  6872,  9208,\n",
       "       10108, 18347, 18696, 99107], dtype=int64)"
      ]
     },
     "execution_count": 37,
     "metadata": {},
     "output_type": "execute_result"
    }
   ],
   "source": [
    "np.sort(dfDistricts[\"CRIME_96\"].unique())"
   ]
  },
  {
   "cell_type": "markdown",
   "id": "02702d82",
   "metadata": {},
   "source": [
    "### dfTransactions"
   ]
  },
  {
   "cell_type": "markdown",
   "id": "333d140d",
   "metadata": {},
   "source": [
    "\"ACCOUNT_ID\" and \"OPERATION\" operation fields contain NaN values."
   ]
  },
  {
   "cell_type": "code",
   "execution_count": 38,
   "id": "e755cae9",
   "metadata": {},
   "outputs": [
    {
     "data": {
      "text/plain": [
       "['ACCOUNT_ID', 'OPERATION']"
      ]
     },
     "execution_count": 38,
     "metadata": {},
     "output_type": "execute_result"
    }
   ],
   "source": [
    "dfTransactions.columns[dfTransactions.isna().any()].tolist()"
   ]
  },
  {
   "cell_type": "code",
   "execution_count": 39,
   "id": "df3d36bc",
   "metadata": {},
   "outputs": [
    {
     "data": {
      "text/plain": [
       "array([      1,       5,       6, ..., 3682985, 3682986, 3682987],\n",
       "      dtype=int64)"
      ]
     },
     "execution_count": 39,
     "metadata": {},
     "output_type": "execute_result"
    }
   ],
   "source": [
    "np.sort(dfTransactions.index.unique())"
   ]
  },
  {
   "cell_type": "markdown",
   "id": "95a3221f",
   "metadata": {},
   "source": [
    "\"ACCOUNT_ID\" field contains NaN values."
   ]
  },
  {
   "cell_type": "code",
   "execution_count": 40,
   "id": "4bfc190e",
   "metadata": {},
   "outputs": [
    {
     "data": {
      "text/plain": [
       "array([1.0000e+00, 2.0000e+00, 3.0000e+00, ..., 1.1362e+04, 1.1382e+04,\n",
       "              nan])"
      ]
     },
     "execution_count": 40,
     "metadata": {},
     "output_type": "execute_result"
    }
   ],
   "source": [
    "np.sort(dfTransactions[\"ACCOUNT_ID\"].unique())"
   ]
  },
  {
   "cell_type": "markdown",
   "id": "71f685a3",
   "metadata": {},
   "source": [
    "\"DATE\" field doesn't contain NaN value but date format is not in DDMMYYY format for some values."
   ]
  },
  {
   "cell_type": "code",
   "execution_count": 41,
   "id": "541707a6",
   "metadata": {},
   "outputs": [
    {
     "data": {
      "text/plain": [
       "array([ 1011993,  1011994,  1011995, ..., 31121996, 31121997, 31121998],\n",
       "      dtype=int64)"
      ]
     },
     "execution_count": 41,
     "metadata": {},
     "output_type": "execute_result"
    }
   ],
   "source": [
    "np.sort(dfTransactions[\"DATE\"].unique())"
   ]
  },
  {
   "cell_type": "markdown",
   "id": "56c5b373",
   "metadata": {},
   "source": [
    "Ther are incompatible formats of DD such as 40, 50, 41 etc. "
   ]
  },
  {
   "cell_type": "code",
   "execution_count": 42,
   "id": "eda3eebe",
   "metadata": {
    "scrolled": true
   },
   "outputs": [
    {
     "data": {
      "text/plain": [
       "array(['10', '20', '30', '40', '50', '60', '70', '80', '90', '11', '12',\n",
       "       '13', '14', '15', '16', '17', '18', '19', '21', '22', '23', '24',\n",
       "       '25', '26', '27', '28', '29', '31', '41', '51', '61', '71', '81',\n",
       "       '91'], dtype=object)"
      ]
     },
     "execution_count": 42,
     "metadata": {},
     "output_type": "execute_result"
    }
   ],
   "source": [
    " dfTransactions[\"DATE\"].astype(str).str[:2].unique()"
   ]
  },
  {
   "cell_type": "markdown",
   "id": "c1f81e15",
   "metadata": {},
   "source": [
    "Ther are incompatible formats of MM such as 71, 81, 91 etc."
   ]
  },
  {
   "cell_type": "code",
   "execution_count": 43,
   "id": "dacc1f03",
   "metadata": {
    "scrolled": false
   },
   "outputs": [
    {
     "data": {
      "text/plain": [
       "array(['11', '01', '21', '02', '31', '03', '41', '04', '51', '05', '61',\n",
       "       '06', '71', '07', '81', '08', '91', '09', '10', '12'], dtype=object)"
      ]
     },
     "execution_count": 43,
     "metadata": {},
     "output_type": "execute_result"
    }
   ],
   "source": [
    "dfTransactions[\"DATE\"].astype(str).str[2:4].unique()"
   ]
  },
  {
   "cell_type": "markdown",
   "id": "6a6e585c",
   "metadata": {},
   "source": [
    "When some accounts are checked, it is observed that they are not inserted as DDMMYYY but DDMMYYYY format. And when day of month is less than 10, they are inserted only 1 digit not 2 digits."
   ]
  },
  {
   "cell_type": "code",
   "execution_count": 44,
   "id": "7bb1c6ca",
   "metadata": {},
   "outputs": [
    {
     "data": {
      "text/html": [
       "<div>\n",
       "<style scoped>\n",
       "    .dataframe tbody tr th:only-of-type {\n",
       "        vertical-align: middle;\n",
       "    }\n",
       "\n",
       "    .dataframe tbody tr th {\n",
       "        vertical-align: top;\n",
       "    }\n",
       "\n",
       "    .dataframe thead th {\n",
       "        text-align: right;\n",
       "    }\n",
       "</style>\n",
       "<table border=\"1\" class=\"dataframe\">\n",
       "  <thead>\n",
       "    <tr style=\"text-align: right;\">\n",
       "      <th></th>\n",
       "      <th>ACCOUNT_ID</th>\n",
       "      <th>DATE</th>\n",
       "      <th>AMOUNT</th>\n",
       "      <th>BALANCE</th>\n",
       "      <th>TYPE</th>\n",
       "      <th>OPERATION</th>\n",
       "    </tr>\n",
       "    <tr>\n",
       "      <th>TRANS_ID</th>\n",
       "      <th></th>\n",
       "      <th></th>\n",
       "      <th></th>\n",
       "      <th></th>\n",
       "      <th></th>\n",
       "      <th></th>\n",
       "    </tr>\n",
       "  </thead>\n",
       "  <tbody>\n",
       "    <tr>\n",
       "      <th>192096</th>\n",
       "      <td>652.0</td>\n",
       "      <td>5011993</td>\n",
       "      <td>700.0</td>\n",
       "      <td>700.0</td>\n",
       "      <td>CREDIT</td>\n",
       "      <td>CREDIT_IN_CASH</td>\n",
       "    </tr>\n",
       "    <tr>\n",
       "      <th>232961</th>\n",
       "      <td>793.0</td>\n",
       "      <td>5011993</td>\n",
       "      <td>3401.0</td>\n",
       "      <td>4201.0</td>\n",
       "      <td>CREDIT</td>\n",
       "      <td>COLLECTION_FROM_OTHER_BANK</td>\n",
       "    </tr>\n",
       "    <tr>\n",
       "      <th>637742</th>\n",
       "      <td>2177.0</td>\n",
       "      <td>5011993</td>\n",
       "      <td>5123.0</td>\n",
       "      <td>5923.0</td>\n",
       "      <td>CREDIT</td>\n",
       "      <td>COLLECTION_FROM_OTHER_BANK</td>\n",
       "    </tr>\n",
       "    <tr>\n",
       "      <th>2908688</th>\n",
       "      <td>9635.0</td>\n",
       "      <td>5011993</td>\n",
       "      <td>400.0</td>\n",
       "      <td>400.0</td>\n",
       "      <td>CREDIT</td>\n",
       "      <td>CREDIT_IN_CASH</td>\n",
       "    </tr>\n",
       "    <tr>\n",
       "      <th>224344</th>\n",
       "      <td>764.0</td>\n",
       "      <td>5021993</td>\n",
       "      <td>6238.0</td>\n",
       "      <td>7338.0</td>\n",
       "      <td>CREDIT</td>\n",
       "      <td>COLLECTION_FROM_OTHER_BANK</td>\n",
       "    </tr>\n",
       "    <tr>\n",
       "      <th>...</th>\n",
       "      <td>...</td>\n",
       "      <td>...</td>\n",
       "      <td>...</td>\n",
       "      <td>...</td>\n",
       "      <td>...</td>\n",
       "      <td>...</td>\n",
       "    </tr>\n",
       "    <tr>\n",
       "      <th>3149369</th>\n",
       "      <td>10451.0</td>\n",
       "      <td>5091998</td>\n",
       "      <td>689.0</td>\n",
       "      <td>14496.7</td>\n",
       "      <td>WITHDRAWAL</td>\n",
       "      <td>REMITTANCE_TO_OTHER_BANK</td>\n",
       "    </tr>\n",
       "    <tr>\n",
       "      <th>3147256</th>\n",
       "      <td>10445.0</td>\n",
       "      <td>5091998</td>\n",
       "      <td>23910.0</td>\n",
       "      <td>89535.6</td>\n",
       "      <td>CREDIT</td>\n",
       "      <td>CREDIT_IN_CASH</td>\n",
       "    </tr>\n",
       "    <tr>\n",
       "      <th>3145327</th>\n",
       "      <td>10439.0</td>\n",
       "      <td>5091998</td>\n",
       "      <td>10134.0</td>\n",
       "      <td>61170.3</td>\n",
       "      <td>WITHDRAWAL</td>\n",
       "      <td>REMITTANCE_TO_OTHER_BANK</td>\n",
       "    </tr>\n",
       "    <tr>\n",
       "      <th>2908287</th>\n",
       "      <td>9633.0</td>\n",
       "      <td>5091998</td>\n",
       "      <td>6900.0</td>\n",
       "      <td>55866.3</td>\n",
       "      <td>WITHDRAWAL</td>\n",
       "      <td>WITHDRAWAL_IN_CASH</td>\n",
       "    </tr>\n",
       "    <tr>\n",
       "      <th>356694</th>\n",
       "      <td>1208.0</td>\n",
       "      <td>5091998</td>\n",
       "      <td>4426.0</td>\n",
       "      <td>46813.6</td>\n",
       "      <td>WITHDRAWAL</td>\n",
       "      <td>REMITTANCE_TO_OTHER_BANK</td>\n",
       "    </tr>\n",
       "  </tbody>\n",
       "</table>\n",
       "<p>34512 rows × 6 columns</p>\n",
       "</div>"
      ],
      "text/plain": [
       "          ACCOUNT_ID     DATE   AMOUNT  BALANCE        TYPE  \\\n",
       "TRANS_ID                                                      \n",
       "192096         652.0  5011993    700.0    700.0      CREDIT   \n",
       "232961         793.0  5011993   3401.0   4201.0      CREDIT   \n",
       "637742        2177.0  5011993   5123.0   5923.0      CREDIT   \n",
       "2908688       9635.0  5011993    400.0    400.0      CREDIT   \n",
       "224344         764.0  5021993   6238.0   7338.0      CREDIT   \n",
       "...              ...      ...      ...      ...         ...   \n",
       "3149369      10451.0  5091998    689.0  14496.7  WITHDRAWAL   \n",
       "3147256      10445.0  5091998  23910.0  89535.6      CREDIT   \n",
       "3145327      10439.0  5091998  10134.0  61170.3  WITHDRAWAL   \n",
       "2908287       9633.0  5091998   6900.0  55866.3  WITHDRAWAL   \n",
       "356694        1208.0  5091998   4426.0  46813.6  WITHDRAWAL   \n",
       "\n",
       "                           OPERATION  \n",
       "TRANS_ID                              \n",
       "192096                CREDIT_IN_CASH  \n",
       "232961    COLLECTION_FROM_OTHER_BANK  \n",
       "637742    COLLECTION_FROM_OTHER_BANK  \n",
       "2908688               CREDIT_IN_CASH  \n",
       "224344    COLLECTION_FROM_OTHER_BANK  \n",
       "...                              ...  \n",
       "3149369     REMITTANCE_TO_OTHER_BANK  \n",
       "3147256               CREDIT_IN_CASH  \n",
       "3145327     REMITTANCE_TO_OTHER_BANK  \n",
       "2908287           WITHDRAWAL_IN_CASH  \n",
       "356694      REMITTANCE_TO_OTHER_BANK  \n",
       "\n",
       "[34512 rows x 6 columns]"
      ]
     },
     "execution_count": 44,
     "metadata": {},
     "output_type": "execute_result"
    }
   ],
   "source": [
    " dfTransactions[dfTransactions[\"DATE\"].astype(str).str[:2] == \"50\"]"
   ]
  },
  {
   "cell_type": "code",
   "execution_count": 45,
   "id": "062be9c3",
   "metadata": {},
   "outputs": [
    {
     "data": {
      "text/html": [
       "<div>\n",
       "<style scoped>\n",
       "    .dataframe tbody tr th:only-of-type {\n",
       "        vertical-align: middle;\n",
       "    }\n",
       "\n",
       "    .dataframe tbody tr th {\n",
       "        vertical-align: top;\n",
       "    }\n",
       "\n",
       "    .dataframe thead th {\n",
       "        text-align: right;\n",
       "    }\n",
       "</style>\n",
       "<table border=\"1\" class=\"dataframe\">\n",
       "  <thead>\n",
       "    <tr style=\"text-align: right;\">\n",
       "      <th></th>\n",
       "      <th>ACCOUNT_ID</th>\n",
       "      <th>DATE</th>\n",
       "      <th>AMOUNT</th>\n",
       "      <th>BALANCE</th>\n",
       "      <th>TYPE</th>\n",
       "      <th>OPERATION</th>\n",
       "    </tr>\n",
       "    <tr>\n",
       "      <th>TRANS_ID</th>\n",
       "      <th></th>\n",
       "      <th></th>\n",
       "      <th></th>\n",
       "      <th></th>\n",
       "      <th></th>\n",
       "      <th></th>\n",
       "    </tr>\n",
       "  </thead>\n",
       "  <tbody>\n",
       "    <tr>\n",
       "      <th>192096</th>\n",
       "      <td>652.0</td>\n",
       "      <td>5011993</td>\n",
       "      <td>700.0</td>\n",
       "      <td>700.0</td>\n",
       "      <td>CREDIT</td>\n",
       "      <td>CREDIT_IN_CASH</td>\n",
       "    </tr>\n",
       "    <tr>\n",
       "      <th>192097</th>\n",
       "      <td>652.0</td>\n",
       "      <td>9011993</td>\n",
       "      <td>13851.0</td>\n",
       "      <td>14551.0</td>\n",
       "      <td>CREDIT</td>\n",
       "      <td>CREDIT_IN_CASH</td>\n",
       "    </tr>\n",
       "    <tr>\n",
       "      <th>3552056</th>\n",
       "      <td>652.0</td>\n",
       "      <td>31011993</td>\n",
       "      <td>45.0</td>\n",
       "      <td>14596.0</td>\n",
       "      <td>CREDIT</td>\n",
       "      <td>NaN</td>\n",
       "    </tr>\n",
       "    <tr>\n",
       "      <th>192366</th>\n",
       "      <td>652.0</td>\n",
       "      <td>4021993</td>\n",
       "      <td>2900.0</td>\n",
       "      <td>17496.0</td>\n",
       "      <td>CREDIT</td>\n",
       "      <td>CREDIT_IN_CASH</td>\n",
       "    </tr>\n",
       "    <tr>\n",
       "      <th>192098</th>\n",
       "      <td>652.0</td>\n",
       "      <td>9021993</td>\n",
       "      <td>13851.0</td>\n",
       "      <td>31347.0</td>\n",
       "      <td>CREDIT</td>\n",
       "      <td>CREDIT_IN_CASH</td>\n",
       "    </tr>\n",
       "    <tr>\n",
       "      <th>...</th>\n",
       "      <td>...</td>\n",
       "      <td>...</td>\n",
       "      <td>...</td>\n",
       "      <td>...</td>\n",
       "      <td>...</td>\n",
       "      <td>...</td>\n",
       "    </tr>\n",
       "    <tr>\n",
       "      <th>192437</th>\n",
       "      <td>652.0</td>\n",
       "      <td>5121998</td>\n",
       "      <td>4200.0</td>\n",
       "      <td>56431.3</td>\n",
       "      <td>WITHDRAWAL</td>\n",
       "      <td>WITHDRAWAL_IN_CASH</td>\n",
       "    </tr>\n",
       "    <tr>\n",
       "      <th>192168</th>\n",
       "      <td>652.0</td>\n",
       "      <td>9121998</td>\n",
       "      <td>20776.0</td>\n",
       "      <td>77207.3</td>\n",
       "      <td>CREDIT</td>\n",
       "      <td>CREDIT_IN_CASH</td>\n",
       "    </tr>\n",
       "    <tr>\n",
       "      <th>192240</th>\n",
       "      <td>652.0</td>\n",
       "      <td>11121998</td>\n",
       "      <td>7591.0</td>\n",
       "      <td>69616.3</td>\n",
       "      <td>WITHDRAWAL</td>\n",
       "      <td>REMITTANCE_TO_OTHER_BANK</td>\n",
       "    </tr>\n",
       "    <tr>\n",
       "      <th>192258</th>\n",
       "      <td>652.0</td>\n",
       "      <td>22121998</td>\n",
       "      <td>1440.0</td>\n",
       "      <td>68176.3</td>\n",
       "      <td>WITHDRAWAL</td>\n",
       "      <td>WITHDRAWAL_IN_CASH</td>\n",
       "    </tr>\n",
       "    <tr>\n",
       "      <th>3552127</th>\n",
       "      <td>652.0</td>\n",
       "      <td>31121998</td>\n",
       "      <td>273.6</td>\n",
       "      <td>68449.9</td>\n",
       "      <td>CREDIT</td>\n",
       "      <td>NaN</td>\n",
       "    </tr>\n",
       "  </tbody>\n",
       "</table>\n",
       "<p>402 rows × 6 columns</p>\n",
       "</div>"
      ],
      "text/plain": [
       "          ACCOUNT_ID      DATE   AMOUNT  BALANCE        TYPE  \\\n",
       "TRANS_ID                                                       \n",
       "192096         652.0   5011993    700.0    700.0      CREDIT   \n",
       "192097         652.0   9011993  13851.0  14551.0      CREDIT   \n",
       "3552056        652.0  31011993     45.0  14596.0      CREDIT   \n",
       "192366         652.0   4021993   2900.0  17496.0      CREDIT   \n",
       "192098         652.0   9021993  13851.0  31347.0      CREDIT   \n",
       "...              ...       ...      ...      ...         ...   \n",
       "192437         652.0   5121998   4200.0  56431.3  WITHDRAWAL   \n",
       "192168         652.0   9121998  20776.0  77207.3      CREDIT   \n",
       "192240         652.0  11121998   7591.0  69616.3  WITHDRAWAL   \n",
       "192258         652.0  22121998   1440.0  68176.3  WITHDRAWAL   \n",
       "3552127        652.0  31121998    273.6  68449.9      CREDIT   \n",
       "\n",
       "                         OPERATION  \n",
       "TRANS_ID                            \n",
       "192096              CREDIT_IN_CASH  \n",
       "192097              CREDIT_IN_CASH  \n",
       "3552056                        NaN  \n",
       "192366              CREDIT_IN_CASH  \n",
       "192098              CREDIT_IN_CASH  \n",
       "...                            ...  \n",
       "192437          WITHDRAWAL_IN_CASH  \n",
       "192168              CREDIT_IN_CASH  \n",
       "192240    REMITTANCE_TO_OTHER_BANK  \n",
       "192258          WITHDRAWAL_IN_CASH  \n",
       "3552127                        NaN  \n",
       "\n",
       "[402 rows x 6 columns]"
      ]
     },
     "execution_count": 45,
     "metadata": {},
     "output_type": "execute_result"
    }
   ],
   "source": [
    "dfTransactions[dfTransactions[\"ACCOUNT_ID\"] == 652]"
   ]
  },
  {
   "cell_type": "code",
   "execution_count": 46,
   "id": "b81dbbda",
   "metadata": {},
   "outputs": [
    {
     "data": {
      "text/plain": [
       "array(['993', '1993', '994', '1994', '995', '1995', '996', '1996', '997',\n",
       "       '1997', '998', '1998'], dtype=object)"
      ]
     },
     "execution_count": 46,
     "metadata": {},
     "output_type": "execute_result"
    }
   ],
   "source": [
    "dfTransactions[\"DATE\"].astype(str).str[4:].unique()"
   ]
  },
  {
   "cell_type": "code",
   "execution_count": 47,
   "id": "7030129d",
   "metadata": {},
   "outputs": [
    {
     "data": {
      "text/plain": [
       "array([0.00e+00, 1.00e-01, 2.00e-01, ..., 8.64e+04, 8.73e+04, 8.74e+04])"
      ]
     },
     "execution_count": 47,
     "metadata": {},
     "output_type": "execute_result"
    }
   ],
   "source": [
    "np.sort(dfTransactions[\"AMOUNT\"].unique())"
   ]
  },
  {
   "cell_type": "code",
   "execution_count": 48,
   "id": "dced84fc",
   "metadata": {},
   "outputs": [
    {
     "data": {
      "text/plain": [
       "array([-41125.7, -40938.4, -40817. , ..., 194119.3, 196106.5, 209637. ])"
      ]
     },
     "execution_count": 48,
     "metadata": {},
     "output_type": "execute_result"
    }
   ],
   "source": [
    "np.sort(dfTransactions[\"BALANCE\"].unique())"
   ]
  },
  {
   "cell_type": "code",
   "execution_count": 49,
   "id": "4e20dce4",
   "metadata": {},
   "outputs": [
    {
     "data": {
      "text/plain": [
       "array(['CREDIT', 'WITHDRAWAL'], dtype=object)"
      ]
     },
     "execution_count": 49,
     "metadata": {},
     "output_type": "execute_result"
    }
   ],
   "source": [
    "np.sort(dfTransactions[\"TYPE\"].unique())"
   ]
  },
  {
   "cell_type": "markdown",
   "id": "4b669fef",
   "metadata": {},
   "source": [
    "\"ACCOUNT_ID\" field contains NaN values."
   ]
  },
  {
   "cell_type": "code",
   "execution_count": 50,
   "id": "133afeb8",
   "metadata": {
    "scrolled": true
   },
   "outputs": [
    {
     "data": {
      "text/plain": [
       "array(['CREDIT_IN_CASH', 'COLLECTION_FROM_OTHER_BANK', nan,\n",
       "       'WITHDRAWAL_IN_CASH', 'REMITTANCE_TO_OTHER_BANK', 'CC_WITHDRAWAL'],\n",
       "      dtype=object)"
      ]
     },
     "execution_count": 50,
     "metadata": {},
     "output_type": "execute_result"
    }
   ],
   "source": [
    "dfTransactions[\"OPERATION\"].unique()"
   ]
  },
  {
   "cell_type": "markdown",
   "id": "3c4963f7",
   "metadata": {},
   "source": [
    "# PREPROCESSING"
   ]
  },
  {
   "cell_type": "markdown",
   "id": "aa69e0e4",
   "metadata": {},
   "source": [
    "Data preprocessing is applied to the copied datasets since some fields may be good enough for exploratory analysis but not complied for predictive model. That's why, preprocessing is applied only to the datasets that will be used in predictive models."
   ]
  },
  {
   "cell_type": "code",
   "execution_count": 51,
   "id": "6c826c25",
   "metadata": {},
   "outputs": [],
   "source": [
    "dfCustomersModel = dfCustomers.copy()\n",
    "dfTransactionsModel = dfTransactions.copy()\n",
    "dfDistrictsModel = dfDistricts.copy()"
   ]
  },
  {
   "cell_type": "markdown",
   "id": "4cb1ad1b",
   "metadata": {},
   "source": [
    "## Remove Duplicated Rows"
   ]
  },
  {
   "cell_type": "markdown",
   "id": "be23e922",
   "metadata": {},
   "source": [
    "### TRANS_ID"
   ]
  },
  {
   "cell_type": "markdown",
   "id": "5e6282bb",
   "metadata": {},
   "source": [
    "One of the duplicated rows are kept. Rest of them are dropped."
   ]
  },
  {
   "cell_type": "code",
   "execution_count": 52,
   "id": "a6d96df2",
   "metadata": {},
   "outputs": [],
   "source": [
    "dfTransactionsModel.drop_duplicates(inplace = True, keep = \"first\")"
   ]
  },
  {
   "cell_type": "markdown",
   "id": "c277e8b2",
   "metadata": {},
   "source": [
    "Still there are duplicated rows in terms of index but not for other values. The reason of this situation is that at least one of the duplicated rows contains NaN value."
   ]
  },
  {
   "cell_type": "code",
   "execution_count": 53,
   "id": "07c504ab",
   "metadata": {},
   "outputs": [
    {
     "data": {
      "text/plain": [
       "False"
      ]
     },
     "execution_count": 53,
     "metadata": {},
     "output_type": "execute_result"
    }
   ],
   "source": [
    "len(dfTransactionsModel.index.unique()) == len(dfTransactionsModel.index)"
   ]
  },
  {
   "cell_type": "code",
   "execution_count": 54,
   "id": "8753b13d",
   "metadata": {
    "scrolled": true
   },
   "outputs": [],
   "source": [
    "dfDuplicatedTransactions = dfTransactionsModel[dfTransactionsModel.index.duplicated(keep=False)]"
   ]
  },
  {
   "cell_type": "code",
   "execution_count": 55,
   "id": "0b1cd75a",
   "metadata": {},
   "outputs": [
    {
     "data": {
      "text/html": [
       "<div>\n",
       "<style scoped>\n",
       "    .dataframe tbody tr th:only-of-type {\n",
       "        vertical-align: middle;\n",
       "    }\n",
       "\n",
       "    .dataframe tbody tr th {\n",
       "        vertical-align: top;\n",
       "    }\n",
       "\n",
       "    .dataframe thead th {\n",
       "        text-align: right;\n",
       "    }\n",
       "</style>\n",
       "<table border=\"1\" class=\"dataframe\">\n",
       "  <thead>\n",
       "    <tr style=\"text-align: right;\">\n",
       "      <th></th>\n",
       "      <th>ACCOUNT_ID</th>\n",
       "      <th>DATE</th>\n",
       "      <th>AMOUNT</th>\n",
       "      <th>BALANCE</th>\n",
       "      <th>TYPE</th>\n",
       "      <th>OPERATION</th>\n",
       "    </tr>\n",
       "    <tr>\n",
       "      <th>TRANS_ID</th>\n",
       "      <th></th>\n",
       "      <th></th>\n",
       "      <th></th>\n",
       "      <th></th>\n",
       "      <th></th>\n",
       "      <th></th>\n",
       "    </tr>\n",
       "  </thead>\n",
       "  <tbody>\n",
       "    <tr>\n",
       "      <th>3664620</th>\n",
       "      <td>NaN</td>\n",
       "      <td>31101993</td>\n",
       "      <td>126.9</td>\n",
       "      <td>24036.0</td>\n",
       "      <td>CREDIT</td>\n",
       "      <td>NaN</td>\n",
       "    </tr>\n",
       "    <tr>\n",
       "      <th>3664620</th>\n",
       "      <td>4427.0</td>\n",
       "      <td>31101993</td>\n",
       "      <td>126.9</td>\n",
       "      <td>24036.0</td>\n",
       "      <td>CREDIT</td>\n",
       "      <td>NaN</td>\n",
       "    </tr>\n",
       "    <tr>\n",
       "      <th>2502925</th>\n",
       "      <td>8261.0</td>\n",
       "      <td>8111993</td>\n",
       "      <td>7000.0</td>\n",
       "      <td>32760.0</td>\n",
       "      <td>WITHDRAWAL</td>\n",
       "      <td>WITHDRAWAL_IN_CASH</td>\n",
       "    </tr>\n",
       "    <tr>\n",
       "      <th>2502925</th>\n",
       "      <td>NaN</td>\n",
       "      <td>8111993</td>\n",
       "      <td>7000.0</td>\n",
       "      <td>32760.0</td>\n",
       "      <td>WITHDRAWAL</td>\n",
       "      <td>WITHDRAWAL_IN_CASH</td>\n",
       "    </tr>\n",
       "    <tr>\n",
       "      <th>337461</th>\n",
       "      <td>NaN</td>\n",
       "      <td>7121993</td>\n",
       "      <td>32588.0</td>\n",
       "      <td>66428.8</td>\n",
       "      <td>CREDIT</td>\n",
       "      <td>CREDIT_IN_CASH</td>\n",
       "    </tr>\n",
       "    <tr>\n",
       "      <th>...</th>\n",
       "      <td>...</td>\n",
       "      <td>...</td>\n",
       "      <td>...</td>\n",
       "      <td>...</td>\n",
       "      <td>...</td>\n",
       "      <td>...</td>\n",
       "    </tr>\n",
       "    <tr>\n",
       "      <th>594373</th>\n",
       "      <td>NaN</td>\n",
       "      <td>13111998</td>\n",
       "      <td>1684.0</td>\n",
       "      <td>88169.7</td>\n",
       "      <td>WITHDRAWAL</td>\n",
       "      <td>REMITTANCE_TO_OTHER_BANK</td>\n",
       "    </tr>\n",
       "    <tr>\n",
       "      <th>923468</th>\n",
       "      <td>3147.0</td>\n",
       "      <td>14111998</td>\n",
       "      <td>7729.0</td>\n",
       "      <td>67408.4</td>\n",
       "      <td>WITHDRAWAL</td>\n",
       "      <td>REMITTANCE_TO_OTHER_BANK</td>\n",
       "    </tr>\n",
       "    <tr>\n",
       "      <th>923468</th>\n",
       "      <td>NaN</td>\n",
       "      <td>14111998</td>\n",
       "      <td>7729.0</td>\n",
       "      <td>67408.4</td>\n",
       "      <td>WITHDRAWAL</td>\n",
       "      <td>REMITTANCE_TO_OTHER_BANK</td>\n",
       "    </tr>\n",
       "    <tr>\n",
       "      <th>315872</th>\n",
       "      <td>NaN</td>\n",
       "      <td>2121998</td>\n",
       "      <td>3300.0</td>\n",
       "      <td>61184.7</td>\n",
       "      <td>WITHDRAWAL</td>\n",
       "      <td>CC_WITHDRAWAL</td>\n",
       "    </tr>\n",
       "    <tr>\n",
       "      <th>315872</th>\n",
       "      <td>1077.0</td>\n",
       "      <td>2121998</td>\n",
       "      <td>3300.0</td>\n",
       "      <td>61184.7</td>\n",
       "      <td>WITHDRAWAL</td>\n",
       "      <td>CC_WITHDRAWAL</td>\n",
       "    </tr>\n",
       "  </tbody>\n",
       "</table>\n",
       "<p>170 rows × 6 columns</p>\n",
       "</div>"
      ],
      "text/plain": [
       "          ACCOUNT_ID      DATE   AMOUNT  BALANCE        TYPE  \\\n",
       "TRANS_ID                                                       \n",
       "3664620          NaN  31101993    126.9  24036.0      CREDIT   \n",
       "3664620       4427.0  31101993    126.9  24036.0      CREDIT   \n",
       "2502925       8261.0   8111993   7000.0  32760.0  WITHDRAWAL   \n",
       "2502925          NaN   8111993   7000.0  32760.0  WITHDRAWAL   \n",
       "337461           NaN   7121993  32588.0  66428.8      CREDIT   \n",
       "...              ...       ...      ...      ...         ...   \n",
       "594373           NaN  13111998   1684.0  88169.7  WITHDRAWAL   \n",
       "923468        3147.0  14111998   7729.0  67408.4  WITHDRAWAL   \n",
       "923468           NaN  14111998   7729.0  67408.4  WITHDRAWAL   \n",
       "315872           NaN   2121998   3300.0  61184.7  WITHDRAWAL   \n",
       "315872        1077.0   2121998   3300.0  61184.7  WITHDRAWAL   \n",
       "\n",
       "                         OPERATION  \n",
       "TRANS_ID                            \n",
       "3664620                        NaN  \n",
       "3664620                        NaN  \n",
       "2502925         WITHDRAWAL_IN_CASH  \n",
       "2502925         WITHDRAWAL_IN_CASH  \n",
       "337461              CREDIT_IN_CASH  \n",
       "...                            ...  \n",
       "594373    REMITTANCE_TO_OTHER_BANK  \n",
       "923468    REMITTANCE_TO_OTHER_BANK  \n",
       "923468    REMITTANCE_TO_OTHER_BANK  \n",
       "315872               CC_WITHDRAWAL  \n",
       "315872               CC_WITHDRAWAL  \n",
       "\n",
       "[170 rows x 6 columns]"
      ]
     },
     "execution_count": 55,
     "metadata": {},
     "output_type": "execute_result"
    }
   ],
   "source": [
    "dfDuplicatedTransactions"
   ]
  },
  {
   "cell_type": "markdown",
   "id": "b774cb63",
   "metadata": {},
   "source": [
    "We can fill missing values by copying from its duplicated index."
   ]
  },
  {
   "cell_type": "code",
   "execution_count": 56,
   "id": "d0a11d20",
   "metadata": {},
   "outputs": [],
   "source": [
    "aDuplicatedTransIds = dfDuplicatedTransactions.index.unique()\n",
    "\n",
    "\n",
    "for iTransId in aDuplicatedTransIds:\n",
    "    \n",
    "    for j in range(dfTransactionsModel.shape[1]):\n",
    "        sColumnName = dfTransactionsModel.columns[j]\n",
    "        \n",
    "        aColumnValues = dfTransactionsModel.loc[iTransId, sColumnName]\n",
    "        \n",
    "        iNrOfMissingValues = aColumnValues.isna().sum()\n",
    "        iNrOfDuplicates = len(aColumnValues)\n",
    "        \n",
    "        if iNrOfMissingValues > 0 and iNrOfMissingValues < iNrOfDuplicates:\n",
    "            \n",
    "            aNonMissingValues = aColumnValues[aColumnValues.notna()]\n",
    "            iNrOfNonMissingValues = len(aNonMissingValues)\n",
    "            \n",
    "            if iNrOfNonMissingValues == 1:\n",
    "                dfTransactionsModel.loc[iTransId, sColumnName] = aNonMissingValues\n",
    "            \n",
    "        \n",
    "        \n"
   ]
  },
  {
   "cell_type": "markdown",
   "id": "e495b2d5",
   "metadata": {},
   "source": [
    "After filling missing values from it's duplicated row, dropping duplicates is applied once again. It is observed that, there is no more duplicated rows."
   ]
  },
  {
   "cell_type": "code",
   "execution_count": 57,
   "id": "e8174957",
   "metadata": {},
   "outputs": [],
   "source": [
    "dfTransactionsModel.drop_duplicates(inplace = True, keep = \"first\")"
   ]
  },
  {
   "cell_type": "code",
   "execution_count": 58,
   "id": "4c99675c",
   "metadata": {},
   "outputs": [
    {
     "data": {
      "text/plain": [
       "True"
      ]
     },
     "execution_count": 58,
     "metadata": {},
     "output_type": "execute_result"
    }
   ],
   "source": [
    "len(dfTransactionsModel.index.unique()) == len(dfTransactionsModel.index)"
   ]
  },
  {
   "cell_type": "markdown",
   "id": "96d13993",
   "metadata": {},
   "source": [
    "## Converting Date Formats"
   ]
  },
  {
   "cell_type": "markdown",
   "id": "4fe996c5",
   "metadata": {},
   "source": [
    "### BIRTH_DT"
   ]
  },
  {
   "cell_type": "code",
   "execution_count": 59,
   "id": "efaf6b73",
   "metadata": {},
   "outputs": [],
   "source": [
    "dfCustomersModel[\"BIRTH_DT\"] = pd.to_datetime(dfCustomersModel[\"BIRTH_DT\"], format=\"%Y%m%d\")"
   ]
  },
  {
   "cell_type": "code",
   "execution_count": 60,
   "id": "3473fbf5",
   "metadata": {},
   "outputs": [
    {
     "data": {
      "text/plain": [
       "array(['1918-01-07T00:00:00.000000000', '1918-01-11T00:00:00.000000000',\n",
       "       '1918-01-16T00:00:00.000000000', ...,\n",
       "       '1982-10-05T00:00:00.000000000', '1982-10-20T00:00:00.000000000',\n",
       "       '1982-12-11T00:00:00.000000000'], dtype='datetime64[ns]')"
      ]
     },
     "execution_count": 60,
     "metadata": {},
     "output_type": "execute_result"
    }
   ],
   "source": [
    "np.sort(dfCustomersModel[\"BIRTH_DT\"].unique())"
   ]
  },
  {
   "cell_type": "code",
   "execution_count": 61,
   "id": "9f6f18bd",
   "metadata": {},
   "outputs": [
    {
     "name": "stdout",
     "output_type": "stream",
     "text": [
      "<class 'pandas.core.frame.DataFrame'>\n",
      "Int64Index: 4450 entries, 1 to 13998\n",
      "Data columns (total 7 columns):\n",
      " #   Column       Non-Null Count  Dtype         \n",
      "---  ------       --------------  -----         \n",
      " 0   ACCOUNT_ID   4450 non-null   int64         \n",
      " 1   GENDER       4450 non-null   object        \n",
      " 2   BIRTH_DT     4450 non-null   datetime64[ns]\n",
      " 3   ACTIVE       4450 non-null   int64         \n",
      " 4   LOAN         4400 non-null   float64       \n",
      " 5   DISTRICT_ID  4450 non-null   int64         \n",
      " 6   SET_SPLIT    4450 non-null   object        \n",
      "dtypes: datetime64[ns](1), float64(1), int64(3), object(2)\n",
      "memory usage: 407.2+ KB\n"
     ]
    }
   ],
   "source": [
    "dfCustomersModel.info()"
   ]
  },
  {
   "cell_type": "markdown",
   "id": "0cd3b5e9",
   "metadata": {},
   "source": [
    "### DATE"
   ]
  },
  {
   "cell_type": "markdown",
   "id": "3252d87c",
   "metadata": {},
   "source": [
    "\"DATE\" field should be in DDMMYYY based on description however, it is in DMMYYYY format. For the days that are less than 10, day of month is represented just 1 digit. "
   ]
  },
  {
   "cell_type": "markdown",
   "id": "1ac4ee0f",
   "metadata": {},
   "source": [
    " \"0\" character is added at the beginning of the values where day of month is represented with single value. "
   ]
  },
  {
   "cell_type": "code",
   "execution_count": 62,
   "id": "2dfaa159",
   "metadata": {},
   "outputs": [],
   "source": [
    "dfTransactionsModel[\"DATE\"] = dfTransactionsModel[\"DATE\"].astype(str)\n",
    "adfTransactionsWith7DigitsDates = dfTransactionsModel[dfTransactionsModel[\"DATE\"].str.len() == 7]\n",
    "dfTransactionsModel.loc[adfTransactionsWith7DigitsDates.index, \"DATE\"] = \"0\" + dfTransactionsModel.loc[adfTransactionsWith7DigitsDates.index, \"DATE\"]"
   ]
  },
  {
   "cell_type": "code",
   "execution_count": 63,
   "id": "450b2ef2",
   "metadata": {},
   "outputs": [],
   "source": [
    "dfTransactionsModel[\"DATE\"] = pd.to_datetime(dfTransactionsModel[\"DATE\"], format=\"%d%m%Y\")"
   ]
  },
  {
   "cell_type": "code",
   "execution_count": 64,
   "id": "1e4988b5",
   "metadata": {},
   "outputs": [
    {
     "data": {
      "text/plain": [
       "array(['1993-01-01T00:00:00.000000000', '1993-01-02T00:00:00.000000000',\n",
       "       '1993-01-03T00:00:00.000000000', ...,\n",
       "       '1998-12-29T00:00:00.000000000', '1998-12-30T00:00:00.000000000',\n",
       "       '1998-12-31T00:00:00.000000000'], dtype='datetime64[ns]')"
      ]
     },
     "execution_count": 64,
     "metadata": {},
     "output_type": "execute_result"
    }
   ],
   "source": [
    "np.sort(dfTransactionsModel[\"DATE\"].unique())"
   ]
  },
  {
   "cell_type": "code",
   "execution_count": 65,
   "id": "40b61f97",
   "metadata": {},
   "outputs": [
    {
     "name": "stdout",
     "output_type": "stream",
     "text": [
      "<class 'pandas.core.frame.DataFrame'>\n",
      "Int64Index: 1056319 entries, 695247 to 3624981\n",
      "Data columns (total 6 columns):\n",
      " #   Column      Non-Null Count    Dtype         \n",
      "---  ------      --------------    -----         \n",
      " 0   ACCOUNT_ID  1051404 non-null  float64       \n",
      " 1   DATE        1056319 non-null  datetime64[ns]\n",
      " 2   AMOUNT      1056319 non-null  float64       \n",
      " 3   BALANCE     1056319 non-null  float64       \n",
      " 4   TYPE        1056319 non-null  object        \n",
      " 5   OPERATION   873206 non-null   object        \n",
      "dtypes: datetime64[ns](1), float64(3), object(2)\n",
      "memory usage: 88.7+ MB\n"
     ]
    }
   ],
   "source": [
    "dfTransactionsModel.info()"
   ]
  },
  {
   "cell_type": "markdown",
   "id": "007bfd63",
   "metadata": {},
   "source": [
    "## Missing Data Handling"
   ]
  },
  {
   "cell_type": "markdown",
   "id": "4bb1e945",
   "metadata": {},
   "source": [
    "### LOAN"
   ]
  },
  {
   "cell_type": "markdown",
   "id": "e0565daa",
   "metadata": {},
   "source": [
    "There are 50 customers which have NaN value on their \"LOAN\" field. Empty \"LOAN\" data can't be used for training or testing purposes. That's why, the customers which don't have \"LOAN\" information are dropped from dfCustomersModel and dfTransactionsModel datasets."
   ]
  },
  {
   "cell_type": "code",
   "execution_count": 66,
   "id": "1c8c6e7e",
   "metadata": {
    "scrolled": true
   },
   "outputs": [],
   "source": [
    "dfCustomersMissingLoan = dfCustomers[dfCustomers[\"LOAN\"].isna()]\n",
    "\n",
    "dfTransactionsMissingLoan = dfTransactions.reset_index().merge(\n",
    "    dfCustomersMissingLoan, \n",
    "    how = \"inner\", \n",
    "    on = \"ACCOUNT_ID\").set_index(\"TRANS_ID\")\n",
    "\n",
    "\n",
    "dfTransactionsModel.drop(dfTransactionsMissingLoan.index, inplace = True)\n",
    "dfCustomersModel.drop(dfCustomersMissingLoan.index, inplace = True)"
   ]
  },
  {
   "cell_type": "markdown",
   "id": "e0405c88",
   "metadata": {},
   "source": [
    "### UNEMP_95 & CRIME_95"
   ]
  },
  {
   "cell_type": "markdown",
   "id": "e9949ecc",
   "metadata": {},
   "source": [
    "There is 1 district (DISTRICT_ID=69) whose \"UNEMP_95\" and \"CRIME_95\" fields are empty."
   ]
  },
  {
   "cell_type": "code",
   "execution_count": 67,
   "id": "7d64525f",
   "metadata": {},
   "outputs": [
    {
     "data": {
      "text/html": [
       "<div>\n",
       "<style scoped>\n",
       "    .dataframe tbody tr th:only-of-type {\n",
       "        vertical-align: middle;\n",
       "    }\n",
       "\n",
       "    .dataframe tbody tr th {\n",
       "        vertical-align: top;\n",
       "    }\n",
       "\n",
       "    .dataframe thead th {\n",
       "        text-align: right;\n",
       "    }\n",
       "</style>\n",
       "<table border=\"1\" class=\"dataframe\">\n",
       "  <thead>\n",
       "    <tr style=\"text-align: right;\">\n",
       "      <th></th>\n",
       "      <th>N_INHAB</th>\n",
       "      <th>N_CITIES</th>\n",
       "      <th>URBAN_RATIO</th>\n",
       "      <th>AVG_SALARY</th>\n",
       "      <th>UNEMP_95</th>\n",
       "      <th>UNEMP_96</th>\n",
       "      <th>N_ENTR</th>\n",
       "      <th>CRIME_95</th>\n",
       "      <th>CRIME_96</th>\n",
       "    </tr>\n",
       "    <tr>\n",
       "      <th>DISTRICT_ID</th>\n",
       "      <th></th>\n",
       "      <th></th>\n",
       "      <th></th>\n",
       "      <th></th>\n",
       "      <th></th>\n",
       "      <th></th>\n",
       "      <th></th>\n",
       "      <th></th>\n",
       "      <th></th>\n",
       "    </tr>\n",
       "  </thead>\n",
       "  <tbody>\n",
       "    <tr>\n",
       "      <th>69</th>\n",
       "      <td>42821</td>\n",
       "      <td>3</td>\n",
       "      <td>48.4</td>\n",
       "      <td>8173</td>\n",
       "      <td>?</td>\n",
       "      <td>7.01</td>\n",
       "      <td>124</td>\n",
       "      <td>?</td>\n",
       "      <td>1358</td>\n",
       "    </tr>\n",
       "  </tbody>\n",
       "</table>\n",
       "</div>"
      ],
      "text/plain": [
       "             N_INHAB  N_CITIES  URBAN_RATIO  AVG_SALARY UNEMP_95  UNEMP_96  \\\n",
       "DISTRICT_ID                                                                  \n",
       "69             42821         3         48.4        8173        ?      7.01   \n",
       "\n",
       "             N_ENTR CRIME_95  CRIME_96  \n",
       "DISTRICT_ID                             \n",
       "69              124        ?      1358  "
      ]
     },
     "execution_count": 67,
     "metadata": {},
     "output_type": "execute_result"
    }
   ],
   "source": [
    "dfDistricts[dfDistricts[\"UNEMP_95\"] == \"?\"]"
   ]
  },
  {
   "cell_type": "code",
   "execution_count": 68,
   "id": "bc964c1e",
   "metadata": {},
   "outputs": [
    {
     "data": {
      "text/html": [
       "<div>\n",
       "<style scoped>\n",
       "    .dataframe tbody tr th:only-of-type {\n",
       "        vertical-align: middle;\n",
       "    }\n",
       "\n",
       "    .dataframe tbody tr th {\n",
       "        vertical-align: top;\n",
       "    }\n",
       "\n",
       "    .dataframe thead th {\n",
       "        text-align: right;\n",
       "    }\n",
       "</style>\n",
       "<table border=\"1\" class=\"dataframe\">\n",
       "  <thead>\n",
       "    <tr style=\"text-align: right;\">\n",
       "      <th></th>\n",
       "      <th>N_INHAB</th>\n",
       "      <th>N_CITIES</th>\n",
       "      <th>URBAN_RATIO</th>\n",
       "      <th>AVG_SALARY</th>\n",
       "      <th>UNEMP_95</th>\n",
       "      <th>UNEMP_96</th>\n",
       "      <th>N_ENTR</th>\n",
       "      <th>CRIME_95</th>\n",
       "      <th>CRIME_96</th>\n",
       "    </tr>\n",
       "    <tr>\n",
       "      <th>DISTRICT_ID</th>\n",
       "      <th></th>\n",
       "      <th></th>\n",
       "      <th></th>\n",
       "      <th></th>\n",
       "      <th></th>\n",
       "      <th></th>\n",
       "      <th></th>\n",
       "      <th></th>\n",
       "      <th></th>\n",
       "    </tr>\n",
       "  </thead>\n",
       "  <tbody>\n",
       "    <tr>\n",
       "      <th>69</th>\n",
       "      <td>42821</td>\n",
       "      <td>3</td>\n",
       "      <td>48.4</td>\n",
       "      <td>8173</td>\n",
       "      <td>?</td>\n",
       "      <td>7.01</td>\n",
       "      <td>124</td>\n",
       "      <td>?</td>\n",
       "      <td>1358</td>\n",
       "    </tr>\n",
       "  </tbody>\n",
       "</table>\n",
       "</div>"
      ],
      "text/plain": [
       "             N_INHAB  N_CITIES  URBAN_RATIO  AVG_SALARY UNEMP_95  UNEMP_96  \\\n",
       "DISTRICT_ID                                                                  \n",
       "69             42821         3         48.4        8173        ?      7.01   \n",
       "\n",
       "             N_ENTR CRIME_95  CRIME_96  \n",
       "DISTRICT_ID                             \n",
       "69              124        ?      1358  "
      ]
     },
     "execution_count": 68,
     "metadata": {},
     "output_type": "execute_result"
    }
   ],
   "source": [
    "dfDistricts[dfDistricts[\"CRIME_95\"] == \"?\"]"
   ]
  },
  {
   "cell_type": "markdown",
   "id": "eb08ea2e",
   "metadata": {},
   "source": [
    "A predictive model is used to produce a value instead of question mark. As it is mentioned above, \"UNEMP_95\" and \"CRIME_95\" are in object format not in float format. The reason of this situation was because of question mark character on DISTRIC_ID=96. \n",
    "This row is dropped for temporary purpose from dataset to convert \"UNEMP_95\" and \"CRIME_95\" to float data type so that we can perform some numerical analysis. After missing values are predicted, DISTRICT_ID = 69 will be appended back to dfDistrictsModel."
   ]
  },
  {
   "cell_type": "code",
   "execution_count": 69,
   "id": "9403f4b2",
   "metadata": {},
   "outputs": [
    {
     "name": "stdout",
     "output_type": "stream",
     "text": [
      "<class 'pandas.core.frame.DataFrame'>\n",
      "Int64Index: 76 entries, 1 to 77\n",
      "Data columns (total 9 columns):\n",
      " #   Column       Non-Null Count  Dtype  \n",
      "---  ------       --------------  -----  \n",
      " 0   N_INHAB      76 non-null     int64  \n",
      " 1   N_CITIES     76 non-null     int64  \n",
      " 2   URBAN_RATIO  76 non-null     float64\n",
      " 3   AVG_SALARY   76 non-null     int64  \n",
      " 4   UNEMP_95     76 non-null     float64\n",
      " 5   UNEMP_96     76 non-null     float64\n",
      " 6   N_ENTR       76 non-null     int64  \n",
      " 7   CRIME_95     76 non-null     int64  \n",
      " 8   CRIME_96     76 non-null     int64  \n",
      "dtypes: float64(3), int64(6)\n",
      "memory usage: 5.9 KB\n"
     ]
    }
   ],
   "source": [
    "dfMissingRows = dfDistrictsModel[(dfDistrictsModel[\"UNEMP_95\"] == \"?\") | (dfDistrictsModel[\"CRIME_95\"] == \"?\")]\n",
    "\n",
    "dfDistrictsModel.drop(dfMissingRows.index, inplace = True)\n",
    "\n",
    "dfDistrictsModel[\"UNEMP_95\"] = pd.to_numeric(dfDistrictsModel[\"UNEMP_95\"])\n",
    "dfDistrictsModel[\"CRIME_95\"] = pd.to_numeric(dfDistrictsModel[\"CRIME_95\"])\n",
    "\n",
    "dfDistrictsModel.info()"
   ]
  },
  {
   "cell_type": "markdown",
   "id": "30fdf00e",
   "metadata": {},
   "source": [
    "A heatmap is created to understand if there are any strong relationships between features."
   ]
  },
  {
   "cell_type": "code",
   "execution_count": 70,
   "id": "97a0a3a0",
   "metadata": {},
   "outputs": [
    {
     "data": {
      "text/plain": [
       "<matplotlib.axes._subplots.AxesSubplot at 0x192c1bb22c8>"
      ]
     },
     "execution_count": 70,
     "metadata": {},
     "output_type": "execute_result"
    },
    {
     "data": {
      "image/png": "[encoded data removed]",
      "text/plain": [
       "<Figure size 432x288 with 2 Axes>"
      ]
     },
     "metadata": {
      "needs_background": "light"
     },
     "output_type": "display_data"
    }
   ],
   "source": [
    "sns.heatmap(abs(dfDistrictsModel.corr()), vmin = 0, vmax = 1, cmap = \"Greens\", linewidths=0.5, annot=True)"
   ]
  },
  {
   "cell_type": "markdown",
   "id": "489aede0",
   "metadata": {},
   "source": [
    "It is observed that linear relationship between \"UNEMP_95\" and \"UNEMP_96\" are strong. That's why, a simple linear regression model can be used to predict missing value."
   ]
  },
  {
   "cell_type": "code",
   "execution_count": 71,
   "id": "8e51ec1b",
   "metadata": {},
   "outputs": [],
   "source": [
    "aX = np.array(dfDistrictsModel[\"UNEMP_96\"]).reshape(-1,1)\n",
    "aY = np.array(dfDistrictsModel[\"UNEMP_95\"]).reshape(-1,1)\n",
    "\n",
    "oLinRegModel = LinearRegression()\n",
    "\n",
    "oLinRegModel.fit(aX, aY)\n",
    "\n",
    "aUnemp95ToPredict = dfDistricts[dfDistricts[\"UNEMP_95\"] == \"?\"].loc[:, \"UNEMP_96\"]\n",
    "aUnemp95ToPredict = np.array(aUnemp95ToPredict).reshape(-1,1)\n",
    "\n",
    "aUnemp95Predicted = oLinRegModel.predict(aUnemp95ToPredict)"
   ]
  },
  {
   "cell_type": "markdown",
   "id": "91575ccf",
   "metadata": {},
   "source": [
    "There is a linear relationship between \"CRIME_95\", \"CRIME_96\" and \"N_INHAB\" fields. That's why, a simple linear regression model can be used to predict missing value."
   ]
  },
  {
   "cell_type": "code",
   "execution_count": 72,
   "id": "c8552c6f",
   "metadata": {},
   "outputs": [],
   "source": [
    "aX = np.array(np.array(dfDistrictsModel[[\"CRIME_96\", \"N_INHAB\"]]))\n",
    "aY = np.array(dfDistrictsModel[\"CRIME_95\"]).reshape(-1,1)\n",
    "\n",
    "oLinRegModel = LinearRegression()\n",
    "\n",
    "oLinRegModel.fit(aX, aY)\n",
    "\n",
    "aCrime95ToPredict = dfDistricts[dfDistricts[\"CRIME_95\"] == \"?\"].loc[:,[\"CRIME_96\", \"N_INHAB\"]]\n",
    "aCrime95ToPredict = np.array(aCrime95ToPredict)\n",
    "\n",
    "aCrime95Predicted = oLinRegModel.predict(aCrime95ToPredict)"
   ]
  },
  {
   "cell_type": "markdown",
   "id": "6289ea45",
   "metadata": {},
   "source": [
    "In order to replace question marks with predicted valeus,  missing rows are added back to dfDistrictsModel."
   ]
  },
  {
   "cell_type": "code",
   "execution_count": 73,
   "id": "dda2d6f7",
   "metadata": {},
   "outputs": [],
   "source": [
    "dfDistrictsModel= dfDistrictsModel.append(dfMissingRows)\n",
    "dfDistrictsModel.sort_index(inplace=True)"
   ]
  },
  {
   "cell_type": "markdown",
   "id": "7a1ef009",
   "metadata": {},
   "source": [
    "Predicted valeus are added to missing rows."
   ]
  },
  {
   "cell_type": "code",
   "execution_count": 74,
   "id": "c5385106",
   "metadata": {},
   "outputs": [],
   "source": [
    "dfMaskMissingUnemp95s = dfDistrictsModel[\"UNEMP_95\"] == \"?\"\n",
    "dfDistrictsModel.loc[dfMaskMissingUnemp95s,\"UNEMP_95\"] = aUnemp95Predicted"
   ]
  },
  {
   "cell_type": "code",
   "execution_count": 75,
   "id": "5df0bb73",
   "metadata": {},
   "outputs": [],
   "source": [
    "dfMaskMissingCrime95s = dfDistrictsModel[\"CRIME_95\"] == \"?\"\n",
    "dfDistrictsModel.loc[dfMaskMissingCrime95s,\"CRIME_95\"] = aCrime95Predicted"
   ]
  },
  {
   "cell_type": "markdown",
   "id": "cef51910",
   "metadata": {},
   "source": [
    "Now those columns can be converted to numerical type."
   ]
  },
  {
   "cell_type": "code",
   "execution_count": 76,
   "id": "9b4fb2d2",
   "metadata": {},
   "outputs": [
    {
     "name": "stdout",
     "output_type": "stream",
     "text": [
      "<class 'pandas.core.frame.DataFrame'>\n",
      "Int64Index: 77 entries, 1 to 77\n",
      "Data columns (total 9 columns):\n",
      " #   Column       Non-Null Count  Dtype  \n",
      "---  ------       --------------  -----  \n",
      " 0   N_INHAB      77 non-null     int64  \n",
      " 1   N_CITIES     77 non-null     int64  \n",
      " 2   URBAN_RATIO  77 non-null     float64\n",
      " 3   AVG_SALARY   77 non-null     int64  \n",
      " 4   UNEMP_95     77 non-null     float64\n",
      " 5   UNEMP_96     77 non-null     float64\n",
      " 6   N_ENTR       77 non-null     int64  \n",
      " 7   CRIME_95     77 non-null     float64\n",
      " 8   CRIME_96     77 non-null     int64  \n",
      "dtypes: float64(4), int64(5)\n",
      "memory usage: 6.0 KB\n"
     ]
    }
   ],
   "source": [
    "dfDistrictsModel[\"UNEMP_95\"] = pd.to_numeric(dfDistrictsModel[\"UNEMP_95\"])\n",
    "dfDistrictsModel[\"CRIME_95\"] = pd.to_numeric(dfDistrictsModel[\"CRIME_95\"])\n",
    "\n",
    "dfDistrictsModel.info()"
   ]
  },
  {
   "cell_type": "markdown",
   "id": "5d3a1bcb",
   "metadata": {},
   "source": [
    "### ACCOUNT_ID"
   ]
  },
  {
   "cell_type": "markdown",
   "id": "eeab78b1",
   "metadata": {},
   "source": [
    "There are 4999 rows that don't have value in \"ACCOUNT_ID\" field. This is not a big amount for this database. That's why, those rows are dropped from dfTransactionsModel."
   ]
  },
  {
   "cell_type": "code",
   "execution_count": 77,
   "id": "299c5019",
   "metadata": {},
   "outputs": [],
   "source": [
    "dfMissingAccountIds = dfTransactionsModel[dfTransactionsModel[\"ACCOUNT_ID\"].isna()]"
   ]
  },
  {
   "cell_type": "code",
   "execution_count": 78,
   "id": "f46716e9",
   "metadata": {},
   "outputs": [
    {
     "data": {
      "text/html": [
       "<div>\n",
       "<style scoped>\n",
       "    .dataframe tbody tr th:only-of-type {\n",
       "        vertical-align: middle;\n",
       "    }\n",
       "\n",
       "    .dataframe tbody tr th {\n",
       "        vertical-align: top;\n",
       "    }\n",
       "\n",
       "    .dataframe thead th {\n",
       "        text-align: right;\n",
       "    }\n",
       "</style>\n",
       "<table border=\"1\" class=\"dataframe\">\n",
       "  <thead>\n",
       "    <tr style=\"text-align: right;\">\n",
       "      <th></th>\n",
       "      <th>ACCOUNT_ID</th>\n",
       "      <th>DATE</th>\n",
       "      <th>AMOUNT</th>\n",
       "      <th>BALANCE</th>\n",
       "      <th>TYPE</th>\n",
       "      <th>OPERATION</th>\n",
       "    </tr>\n",
       "    <tr>\n",
       "      <th>TRANS_ID</th>\n",
       "      <th></th>\n",
       "      <th></th>\n",
       "      <th></th>\n",
       "      <th></th>\n",
       "      <th></th>\n",
       "      <th></th>\n",
       "    </tr>\n",
       "  </thead>\n",
       "  <tbody>\n",
       "    <tr>\n",
       "      <th>1190752</th>\n",
       "      <td>NaN</td>\n",
       "      <td>1993-01-30</td>\n",
       "      <td>300.0</td>\n",
       "      <td>300.0</td>\n",
       "      <td>CREDIT</td>\n",
       "      <td>CREDIT_IN_CASH</td>\n",
       "    </tr>\n",
       "    <tr>\n",
       "      <th>1132664</th>\n",
       "      <td>NaN</td>\n",
       "      <td>1993-02-06</td>\n",
       "      <td>4356.0</td>\n",
       "      <td>4656.0</td>\n",
       "      <td>CREDIT</td>\n",
       "      <td>COLLECTION_FROM_OTHER_BANK</td>\n",
       "    </tr>\n",
       "    <tr>\n",
       "      <th>711470</th>\n",
       "      <td>NaN</td>\n",
       "      <td>1993-02-19</td>\n",
       "      <td>500.0</td>\n",
       "      <td>500.0</td>\n",
       "      <td>CREDIT</td>\n",
       "      <td>CREDIT_IN_CASH</td>\n",
       "    </tr>\n",
       "    <tr>\n",
       "      <th>2524756</th>\n",
       "      <td>NaN</td>\n",
       "      <td>1993-03-28</td>\n",
       "      <td>600.0</td>\n",
       "      <td>600.0</td>\n",
       "      <td>CREDIT</td>\n",
       "      <td>CREDIT_IN_CASH</td>\n",
       "    </tr>\n",
       "    <tr>\n",
       "      <th>685667</th>\n",
       "      <td>NaN</td>\n",
       "      <td>1993-04-05</td>\n",
       "      <td>3247.0</td>\n",
       "      <td>6894.0</td>\n",
       "      <td>CREDIT</td>\n",
       "      <td>COLLECTION_FROM_OTHER_BANK</td>\n",
       "    </tr>\n",
       "    <tr>\n",
       "      <th>...</th>\n",
       "      <td>...</td>\n",
       "      <td>...</td>\n",
       "      <td>...</td>\n",
       "      <td>...</td>\n",
       "      <td>...</td>\n",
       "      <td>...</td>\n",
       "    </tr>\n",
       "    <tr>\n",
       "      <th>573665</th>\n",
       "      <td>NaN</td>\n",
       "      <td>1998-12-14</td>\n",
       "      <td>2080.0</td>\n",
       "      <td>48370.1</td>\n",
       "      <td>WITHDRAWAL</td>\n",
       "      <td>WITHDRAWAL_IN_CASH</td>\n",
       "    </tr>\n",
       "    <tr>\n",
       "      <th>823968</th>\n",
       "      <td>NaN</td>\n",
       "      <td>1998-12-14</td>\n",
       "      <td>2400.0</td>\n",
       "      <td>60471.9</td>\n",
       "      <td>WITHDRAWAL</td>\n",
       "      <td>WITHDRAWAL_IN_CASH</td>\n",
       "    </tr>\n",
       "    <tr>\n",
       "      <th>556532</th>\n",
       "      <td>NaN</td>\n",
       "      <td>1998-12-14</td>\n",
       "      <td>35859.0</td>\n",
       "      <td>89165.0</td>\n",
       "      <td>CREDIT</td>\n",
       "      <td>CREDIT_IN_CASH</td>\n",
       "    </tr>\n",
       "    <tr>\n",
       "      <th>26816</th>\n",
       "      <td>NaN</td>\n",
       "      <td>1998-12-14</td>\n",
       "      <td>2268.0</td>\n",
       "      <td>24598.5</td>\n",
       "      <td>WITHDRAWAL</td>\n",
       "      <td>REMITTANCE_TO_OTHER_BANK</td>\n",
       "    </tr>\n",
       "    <tr>\n",
       "      <th>453389</th>\n",
       "      <td>NaN</td>\n",
       "      <td>1998-12-14</td>\n",
       "      <td>4540.0</td>\n",
       "      <td>100836.5</td>\n",
       "      <td>WITHDRAWAL</td>\n",
       "      <td>REMITTANCE_TO_OTHER_BANK</td>\n",
       "    </tr>\n",
       "  </tbody>\n",
       "</table>\n",
       "<p>4915 rows × 6 columns</p>\n",
       "</div>"
      ],
      "text/plain": [
       "          ACCOUNT_ID       DATE   AMOUNT   BALANCE        TYPE  \\\n",
       "TRANS_ID                                                         \n",
       "1190752          NaN 1993-01-30    300.0     300.0      CREDIT   \n",
       "1132664          NaN 1993-02-06   4356.0    4656.0      CREDIT   \n",
       "711470           NaN 1993-02-19    500.0     500.0      CREDIT   \n",
       "2524756          NaN 1993-03-28    600.0     600.0      CREDIT   \n",
       "685667           NaN 1993-04-05   3247.0    6894.0      CREDIT   \n",
       "...              ...        ...      ...       ...         ...   \n",
       "573665           NaN 1998-12-14   2080.0   48370.1  WITHDRAWAL   \n",
       "823968           NaN 1998-12-14   2400.0   60471.9  WITHDRAWAL   \n",
       "556532           NaN 1998-12-14  35859.0   89165.0      CREDIT   \n",
       "26816            NaN 1998-12-14   2268.0   24598.5  WITHDRAWAL   \n",
       "453389           NaN 1998-12-14   4540.0  100836.5  WITHDRAWAL   \n",
       "\n",
       "                           OPERATION  \n",
       "TRANS_ID                              \n",
       "1190752               CREDIT_IN_CASH  \n",
       "1132664   COLLECTION_FROM_OTHER_BANK  \n",
       "711470                CREDIT_IN_CASH  \n",
       "2524756               CREDIT_IN_CASH  \n",
       "685667    COLLECTION_FROM_OTHER_BANK  \n",
       "...                              ...  \n",
       "573665            WITHDRAWAL_IN_CASH  \n",
       "823968            WITHDRAWAL_IN_CASH  \n",
       "556532                CREDIT_IN_CASH  \n",
       "26816       REMITTANCE_TO_OTHER_BANK  \n",
       "453389      REMITTANCE_TO_OTHER_BANK  \n",
       "\n",
       "[4915 rows x 6 columns]"
      ]
     },
     "execution_count": 78,
     "metadata": {},
     "output_type": "execute_result"
    }
   ],
   "source": [
    "dfMissingAccountIds"
   ]
  },
  {
   "cell_type": "code",
   "execution_count": 79,
   "id": "c4d89484",
   "metadata": {},
   "outputs": [],
   "source": [
    "dfTransactionsModel.drop(dfMissingAccountIds.index, inplace = True)"
   ]
  },
  {
   "cell_type": "markdown",
   "id": "65034125",
   "metadata": {},
   "source": [
    "### OPERATION"
   ]
  },
  {
   "cell_type": "code",
   "execution_count": 80,
   "id": "7a7119d8",
   "metadata": {},
   "outputs": [],
   "source": [
    "dfTransactionsMissingOperation = dfTransactionsModel[dfTransactionsModel[\"OPERATION\"].isna()]\n",
    "dfTransactionsNonMissingOperation = dfTransactionsModel.drop(dfTransactionsMissingOperation.index)"
   ]
  },
  {
   "cell_type": "code",
   "execution_count": 81,
   "id": "4d2a1d57",
   "metadata": {},
   "outputs": [
    {
     "data": {
      "text/html": [
       "<div>\n",
       "<style scoped>\n",
       "    .dataframe tbody tr th:only-of-type {\n",
       "        vertical-align: middle;\n",
       "    }\n",
       "\n",
       "    .dataframe tbody tr th {\n",
       "        vertical-align: top;\n",
       "    }\n",
       "\n",
       "    .dataframe thead th {\n",
       "        text-align: right;\n",
       "    }\n",
       "</style>\n",
       "<table border=\"1\" class=\"dataframe\">\n",
       "  <thead>\n",
       "    <tr style=\"text-align: right;\">\n",
       "      <th></th>\n",
       "      <th>ACCOUNT_ID</th>\n",
       "      <th>DATE</th>\n",
       "      <th>AMOUNT</th>\n",
       "      <th>BALANCE</th>\n",
       "      <th>TYPE</th>\n",
       "      <th>OPERATION</th>\n",
       "    </tr>\n",
       "    <tr>\n",
       "      <th>TRANS_ID</th>\n",
       "      <th></th>\n",
       "      <th></th>\n",
       "      <th></th>\n",
       "      <th></th>\n",
       "      <th></th>\n",
       "      <th></th>\n",
       "    </tr>\n",
       "  </thead>\n",
       "  <tbody>\n",
       "    <tr>\n",
       "      <th>3602138</th>\n",
       "      <td>2177.0</td>\n",
       "      <td>1993-01-31</td>\n",
       "      <td>21.5</td>\n",
       "      <td>5944.5</td>\n",
       "      <td>CREDIT</td>\n",
       "      <td>NaN</td>\n",
       "    </tr>\n",
       "    <tr>\n",
       "      <th>3595783</th>\n",
       "      <td>1972.0</td>\n",
       "      <td>1993-01-31</td>\n",
       "      <td>19.1</td>\n",
       "      <td>5717.1</td>\n",
       "      <td>CREDIT</td>\n",
       "      <td>NaN</td>\n",
       "    </tr>\n",
       "    <tr>\n",
       "      <th>3594124</th>\n",
       "      <td>1926.0</td>\n",
       "      <td>1993-01-31</td>\n",
       "      <td>14.0</td>\n",
       "      <td>5221.0</td>\n",
       "      <td>CREDIT</td>\n",
       "      <td>NaN</td>\n",
       "    </tr>\n",
       "    <tr>\n",
       "      <th>3648651</th>\n",
       "      <td>3592.0</td>\n",
       "      <td>1993-01-31</td>\n",
       "      <td>19.5</td>\n",
       "      <td>6626.5</td>\n",
       "      <td>CREDIT</td>\n",
       "      <td>NaN</td>\n",
       "    </tr>\n",
       "    <tr>\n",
       "      <th>3645341</th>\n",
       "      <td>3487.0</td>\n",
       "      <td>1993-01-31</td>\n",
       "      <td>42.7</td>\n",
       "      <td>16756.7</td>\n",
       "      <td>CREDIT</td>\n",
       "      <td>NaN</td>\n",
       "    </tr>\n",
       "    <tr>\n",
       "      <th>...</th>\n",
       "      <td>...</td>\n",
       "      <td>...</td>\n",
       "      <td>...</td>\n",
       "      <td>...</td>\n",
       "      <td>...</td>\n",
       "      <td>...</td>\n",
       "    </tr>\n",
       "    <tr>\n",
       "      <th>3632826</th>\n",
       "      <td>3097.0</td>\n",
       "      <td>1998-12-31</td>\n",
       "      <td>43.7</td>\n",
       "      <td>10571.3</td>\n",
       "      <td>CREDIT</td>\n",
       "      <td>NaN</td>\n",
       "    </tr>\n",
       "    <tr>\n",
       "      <th>3630290</th>\n",
       "      <td>3017.0</td>\n",
       "      <td>1998-12-31</td>\n",
       "      <td>113.7</td>\n",
       "      <td>32446.6</td>\n",
       "      <td>CREDIT</td>\n",
       "      <td>NaN</td>\n",
       "    </tr>\n",
       "    <tr>\n",
       "      <th>3629757</th>\n",
       "      <td>2998.0</td>\n",
       "      <td>1998-12-31</td>\n",
       "      <td>184.7</td>\n",
       "      <td>47355.6</td>\n",
       "      <td>CREDIT</td>\n",
       "      <td>NaN</td>\n",
       "    </tr>\n",
       "    <tr>\n",
       "      <th>3630119</th>\n",
       "      <td>3012.0</td>\n",
       "      <td>1998-12-31</td>\n",
       "      <td>179.7</td>\n",
       "      <td>41907.3</td>\n",
       "      <td>CREDIT</td>\n",
       "      <td>NaN</td>\n",
       "    </tr>\n",
       "    <tr>\n",
       "      <th>3624981</th>\n",
       "      <td>2859.0</td>\n",
       "      <td>1998-12-31</td>\n",
       "      <td>313.7</td>\n",
       "      <td>70929.5</td>\n",
       "      <td>CREDIT</td>\n",
       "      <td>NaN</td>\n",
       "    </tr>\n",
       "  </tbody>\n",
       "</table>\n",
       "<p>179947 rows × 6 columns</p>\n",
       "</div>"
      ],
      "text/plain": [
       "          ACCOUNT_ID       DATE  AMOUNT  BALANCE    TYPE OPERATION\n",
       "TRANS_ID                                                          \n",
       "3602138       2177.0 1993-01-31    21.5   5944.5  CREDIT       NaN\n",
       "3595783       1972.0 1993-01-31    19.1   5717.1  CREDIT       NaN\n",
       "3594124       1926.0 1993-01-31    14.0   5221.0  CREDIT       NaN\n",
       "3648651       3592.0 1993-01-31    19.5   6626.5  CREDIT       NaN\n",
       "3645341       3487.0 1993-01-31    42.7  16756.7  CREDIT       NaN\n",
       "...              ...        ...     ...      ...     ...       ...\n",
       "3632826       3097.0 1998-12-31    43.7  10571.3  CREDIT       NaN\n",
       "3630290       3017.0 1998-12-31   113.7  32446.6  CREDIT       NaN\n",
       "3629757       2998.0 1998-12-31   184.7  47355.6  CREDIT       NaN\n",
       "3630119       3012.0 1998-12-31   179.7  41907.3  CREDIT       NaN\n",
       "3624981       2859.0 1998-12-31   313.7  70929.5  CREDIT       NaN\n",
       "\n",
       "[179947 rows x 6 columns]"
      ]
     },
     "execution_count": 81,
     "metadata": {},
     "output_type": "execute_result"
    }
   ],
   "source": [
    "dfTransactionsMissingOperation"
   ]
  },
  {
   "cell_type": "code",
   "execution_count": 82,
   "id": "20f4e5ad",
   "metadata": {
    "scrolled": true
   },
   "outputs": [
    {
     "data": {
      "text/html": [
       "<div>\n",
       "<style scoped>\n",
       "    .dataframe tbody tr th:only-of-type {\n",
       "        vertical-align: middle;\n",
       "    }\n",
       "\n",
       "    .dataframe tbody tr th {\n",
       "        vertical-align: top;\n",
       "    }\n",
       "\n",
       "    .dataframe thead tr th {\n",
       "        text-align: left;\n",
       "    }\n",
       "\n",
       "    .dataframe thead tr:last-of-type th {\n",
       "        text-align: right;\n",
       "    }\n",
       "</style>\n",
       "<table border=\"1\" class=\"dataframe\">\n",
       "  <thead>\n",
       "    <tr>\n",
       "      <th></th>\n",
       "      <th></th>\n",
       "      <th colspan=\"3\" halign=\"left\">AMOUNT</th>\n",
       "    </tr>\n",
       "    <tr>\n",
       "      <th></th>\n",
       "      <th></th>\n",
       "      <th>count</th>\n",
       "      <th>min</th>\n",
       "      <th>max</th>\n",
       "    </tr>\n",
       "    <tr>\n",
       "      <th>TYPE</th>\n",
       "      <th>OPERATION</th>\n",
       "      <th></th>\n",
       "      <th></th>\n",
       "      <th></th>\n",
       "    </tr>\n",
       "  </thead>\n",
       "  <tbody>\n",
       "    <tr>\n",
       "      <th rowspan=\"2\" valign=\"top\">CREDIT</th>\n",
       "      <th>COLLECTION_FROM_OTHER_BANK</th>\n",
       "      <td>64243</td>\n",
       "      <td>2900.0</td>\n",
       "      <td>74812.0</td>\n",
       "    </tr>\n",
       "    <tr>\n",
       "      <th>CREDIT_IN_CASH</th>\n",
       "      <td>154111</td>\n",
       "      <td>100.0</td>\n",
       "      <td>49999.0</td>\n",
       "    </tr>\n",
       "    <tr>\n",
       "      <th rowspan=\"3\" valign=\"top\">WITHDRAWAL</th>\n",
       "      <th>CC_WITHDRAWAL</th>\n",
       "      <td>7858</td>\n",
       "      <td>100.0</td>\n",
       "      <td>8000.0</td>\n",
       "    </tr>\n",
       "    <tr>\n",
       "      <th>REMITTANCE_TO_OTHER_BANK</th>\n",
       "      <td>205306</td>\n",
       "      <td>1.0</td>\n",
       "      <td>14882.0</td>\n",
       "    </tr>\n",
       "    <tr>\n",
       "      <th>WITHDRAWAL_IN_CASH</th>\n",
       "      <td>427470</td>\n",
       "      <td>0.0</td>\n",
       "      <td>87400.0</td>\n",
       "    </tr>\n",
       "  </tbody>\n",
       "</table>\n",
       "</div>"
      ],
      "text/plain": [
       "                                       AMOUNT                 \n",
       "                                        count     min      max\n",
       "TYPE       OPERATION                                          \n",
       "CREDIT     COLLECTION_FROM_OTHER_BANK   64243  2900.0  74812.0\n",
       "           CREDIT_IN_CASH              154111   100.0  49999.0\n",
       "WITHDRAWAL CC_WITHDRAWAL                 7858   100.0   8000.0\n",
       "           REMITTANCE_TO_OTHER_BANK    205306     1.0  14882.0\n",
       "           WITHDRAWAL_IN_CASH          427470     0.0  87400.0"
      ]
     },
     "execution_count": 82,
     "metadata": {},
     "output_type": "execute_result"
    }
   ],
   "source": [
    "dfTransactionsModel[[\"TYPE\", \"OPERATION\", \"AMOUNT\"]].groupby([\"TYPE\", \"OPERATION\"]).agg([\"count\", \"min\", \"max\"])"
   ]
  },
  {
   "cell_type": "code",
   "execution_count": 88,
   "id": "0914bfa2",
   "metadata": {},
   "outputs": [],
   "source": [
    "dfX = dfTransactionsNonMissingOperation.copy()\n",
    "\n",
    "dfX.drop([\"TYPE\", \"OPERATION\", \"DATE\"], axis = 1, inplace=True)\n",
    "\n",
    "dfX[\"TRANSACTION_YEAR\"] = dfTransactionsModel[\"DATE\"].dt.year\n",
    "dfX[\"TRANSACTION_MONTH\"] = dfTransactionsModel[\"DATE\"].dt.month\n",
    "dfX[\"TRANSACTION_DAY\"] = dfTransactionsModel[\"DATE\"].dt.day\n",
    "\n",
    "\n",
    "dfX = dfX.join(pd.get_dummies(dfTransactionsNonMissingOperation[\"TYPE\"]), how= \"inner\")"
   ]
  },
  {
   "cell_type": "code",
   "execution_count": 89,
   "id": "e6eefd62",
   "metadata": {},
   "outputs": [
    {
     "data": {
      "text/html": [
       "<div>\n",
       "<style scoped>\n",
       "    .dataframe tbody tr th:only-of-type {\n",
       "        vertical-align: middle;\n",
       "    }\n",
       "\n",
       "    .dataframe tbody tr th {\n",
       "        vertical-align: top;\n",
       "    }\n",
       "\n",
       "    .dataframe thead th {\n",
       "        text-align: right;\n",
       "    }\n",
       "</style>\n",
       "<table border=\"1\" class=\"dataframe\">\n",
       "  <thead>\n",
       "    <tr style=\"text-align: right;\">\n",
       "      <th></th>\n",
       "      <th>ACCOUNT_ID</th>\n",
       "      <th>AMOUNT</th>\n",
       "      <th>BALANCE</th>\n",
       "      <th>TRANSACTION_YEAR</th>\n",
       "      <th>TRANSACTION_MONTH</th>\n",
       "      <th>TRANSACTION_DAY</th>\n",
       "      <th>CREDIT</th>\n",
       "      <th>WITHDRAWAL</th>\n",
       "    </tr>\n",
       "    <tr>\n",
       "      <th>TRANS_ID</th>\n",
       "      <th></th>\n",
       "      <th></th>\n",
       "      <th></th>\n",
       "      <th></th>\n",
       "      <th></th>\n",
       "      <th></th>\n",
       "      <th></th>\n",
       "      <th></th>\n",
       "    </tr>\n",
       "  </thead>\n",
       "  <tbody>\n",
       "    <tr>\n",
       "      <th>695247</th>\n",
       "      <td>2378.0</td>\n",
       "      <td>700.0</td>\n",
       "      <td>700.0</td>\n",
       "      <td>1993</td>\n",
       "      <td>1</td>\n",
       "      <td>1</td>\n",
       "      <td>1</td>\n",
       "      <td>0</td>\n",
       "    </tr>\n",
       "    <tr>\n",
       "      <th>171812</th>\n",
       "      <td>576.0</td>\n",
       "      <td>900.0</td>\n",
       "      <td>900.0</td>\n",
       "      <td>1993</td>\n",
       "      <td>1</td>\n",
       "      <td>1</td>\n",
       "      <td>1</td>\n",
       "      <td>0</td>\n",
       "    </tr>\n",
       "    <tr>\n",
       "      <th>207264</th>\n",
       "      <td>704.0</td>\n",
       "      <td>1000.0</td>\n",
       "      <td>1000.0</td>\n",
       "      <td>1993</td>\n",
       "      <td>1</td>\n",
       "      <td>1</td>\n",
       "      <td>1</td>\n",
       "      <td>0</td>\n",
       "    </tr>\n",
       "    <tr>\n",
       "      <th>1117247</th>\n",
       "      <td>3818.0</td>\n",
       "      <td>600.0</td>\n",
       "      <td>600.0</td>\n",
       "      <td>1993</td>\n",
       "      <td>1</td>\n",
       "      <td>1</td>\n",
       "      <td>1</td>\n",
       "      <td>0</td>\n",
       "    </tr>\n",
       "    <tr>\n",
       "      <th>579373</th>\n",
       "      <td>1972.0</td>\n",
       "      <td>400.0</td>\n",
       "      <td>400.0</td>\n",
       "      <td>1993</td>\n",
       "      <td>1</td>\n",
       "      <td>2</td>\n",
       "      <td>1</td>\n",
       "      <td>0</td>\n",
       "    </tr>\n",
       "    <tr>\n",
       "      <th>...</th>\n",
       "      <td>...</td>\n",
       "      <td>...</td>\n",
       "      <td>...</td>\n",
       "      <td>...</td>\n",
       "      <td>...</td>\n",
       "      <td>...</td>\n",
       "      <td>...</td>\n",
       "      <td>...</td>\n",
       "    </tr>\n",
       "    <tr>\n",
       "      <th>3497076</th>\n",
       "      <td>8149.0</td>\n",
       "      <td>9.3</td>\n",
       "      <td>32333.3</td>\n",
       "      <td>1998</td>\n",
       "      <td>12</td>\n",
       "      <td>31</td>\n",
       "      <td>0</td>\n",
       "      <td>1</td>\n",
       "    </tr>\n",
       "    <tr>\n",
       "      <th>3451040</th>\n",
       "      <td>4753.0</td>\n",
       "      <td>34.9</td>\n",
       "      <td>7792.3</td>\n",
       "      <td>1998</td>\n",
       "      <td>12</td>\n",
       "      <td>31</td>\n",
       "      <td>0</td>\n",
       "      <td>1</td>\n",
       "    </tr>\n",
       "    <tr>\n",
       "      <th>3448803</th>\n",
       "      <td>3109.0</td>\n",
       "      <td>42.8</td>\n",
       "      <td>-4301.8</td>\n",
       "      <td>1998</td>\n",
       "      <td>12</td>\n",
       "      <td>31</td>\n",
       "      <td>0</td>\n",
       "      <td>1</td>\n",
       "    </tr>\n",
       "    <tr>\n",
       "      <th>3456748</th>\n",
       "      <td>9484.0</td>\n",
       "      <td>0.7</td>\n",
       "      <td>11369.9</td>\n",
       "      <td>1998</td>\n",
       "      <td>12</td>\n",
       "      <td>31</td>\n",
       "      <td>0</td>\n",
       "      <td>1</td>\n",
       "    </tr>\n",
       "    <tr>\n",
       "      <th>3457892</th>\n",
       "      <td>10343.0</td>\n",
       "      <td>81.7</td>\n",
       "      <td>-6938.6</td>\n",
       "      <td>1998</td>\n",
       "      <td>12</td>\n",
       "      <td>31</td>\n",
       "      <td>0</td>\n",
       "      <td>1</td>\n",
       "    </tr>\n",
       "  </tbody>\n",
       "</table>\n",
       "<p>858988 rows × 8 columns</p>\n",
       "</div>"
      ],
      "text/plain": [
       "          ACCOUNT_ID  AMOUNT  BALANCE  TRANSACTION_YEAR  TRANSACTION_MONTH  \\\n",
       "TRANS_ID                                                                     \n",
       "695247        2378.0   700.0    700.0              1993                  1   \n",
       "171812         576.0   900.0    900.0              1993                  1   \n",
       "207264         704.0  1000.0   1000.0              1993                  1   \n",
       "1117247       3818.0   600.0    600.0              1993                  1   \n",
       "579373        1972.0   400.0    400.0              1993                  1   \n",
       "...              ...     ...      ...               ...                ...   \n",
       "3497076       8149.0     9.3  32333.3              1998                 12   \n",
       "3451040       4753.0    34.9   7792.3              1998                 12   \n",
       "3448803       3109.0    42.8  -4301.8              1998                 12   \n",
       "3456748       9484.0     0.7  11369.9              1998                 12   \n",
       "3457892      10343.0    81.7  -6938.6              1998                 12   \n",
       "\n",
       "          TRANSACTION_DAY  CREDIT  WITHDRAWAL  \n",
       "TRANS_ID                                       \n",
       "695247                  1       1           0  \n",
       "171812                  1       1           0  \n",
       "207264                  1       1           0  \n",
       "1117247                 1       1           0  \n",
       "579373                  2       1           0  \n",
       "...                   ...     ...         ...  \n",
       "3497076                31       0           1  \n",
       "3451040                31       0           1  \n",
       "3448803                31       0           1  \n",
       "3456748                31       0           1  \n",
       "3457892                31       0           1  \n",
       "\n",
       "[858988 rows x 8 columns]"
      ]
     },
     "execution_count": 89,
     "metadata": {},
     "output_type": "execute_result"
    }
   ],
   "source": [
    "dfX"
   ]
  },
  {
   "cell_type": "code",
   "execution_count": 90,
   "id": "fe7142f9",
   "metadata": {},
   "outputs": [],
   "source": [
    "dfY = pd.get_dummies(dfTransactionsNonMissingOperation[\"OPERATION\"])"
   ]
  },
  {
   "cell_type": "code",
   "execution_count": 91,
   "id": "6d8c972d",
   "metadata": {},
   "outputs": [
    {
     "data": {
      "text/html": [
       "<div>\n",
       "<style scoped>\n",
       "    .dataframe tbody tr th:only-of-type {\n",
       "        vertical-align: middle;\n",
       "    }\n",
       "\n",
       "    .dataframe tbody tr th {\n",
       "        vertical-align: top;\n",
       "    }\n",
       "\n",
       "    .dataframe thead th {\n",
       "        text-align: right;\n",
       "    }\n",
       "</style>\n",
       "<table border=\"1\" class=\"dataframe\">\n",
       "  <thead>\n",
       "    <tr style=\"text-align: right;\">\n",
       "      <th></th>\n",
       "      <th>CC_WITHDRAWAL</th>\n",
       "      <th>COLLECTION_FROM_OTHER_BANK</th>\n",
       "      <th>CREDIT_IN_CASH</th>\n",
       "      <th>REMITTANCE_TO_OTHER_BANK</th>\n",
       "      <th>WITHDRAWAL_IN_CASH</th>\n",
       "    </tr>\n",
       "    <tr>\n",
       "      <th>TRANS_ID</th>\n",
       "      <th></th>\n",
       "      <th></th>\n",
       "      <th></th>\n",
       "      <th></th>\n",
       "      <th></th>\n",
       "    </tr>\n",
       "  </thead>\n",
       "  <tbody>\n",
       "    <tr>\n",
       "      <th>695247</th>\n",
       "      <td>0</td>\n",
       "      <td>0</td>\n",
       "      <td>1</td>\n",
       "      <td>0</td>\n",
       "      <td>0</td>\n",
       "    </tr>\n",
       "    <tr>\n",
       "      <th>171812</th>\n",
       "      <td>0</td>\n",
       "      <td>0</td>\n",
       "      <td>1</td>\n",
       "      <td>0</td>\n",
       "      <td>0</td>\n",
       "    </tr>\n",
       "    <tr>\n",
       "      <th>207264</th>\n",
       "      <td>0</td>\n",
       "      <td>0</td>\n",
       "      <td>1</td>\n",
       "      <td>0</td>\n",
       "      <td>0</td>\n",
       "    </tr>\n",
       "    <tr>\n",
       "      <th>1117247</th>\n",
       "      <td>0</td>\n",
       "      <td>0</td>\n",
       "      <td>1</td>\n",
       "      <td>0</td>\n",
       "      <td>0</td>\n",
       "    </tr>\n",
       "    <tr>\n",
       "      <th>579373</th>\n",
       "      <td>0</td>\n",
       "      <td>0</td>\n",
       "      <td>1</td>\n",
       "      <td>0</td>\n",
       "      <td>0</td>\n",
       "    </tr>\n",
       "    <tr>\n",
       "      <th>...</th>\n",
       "      <td>...</td>\n",
       "      <td>...</td>\n",
       "      <td>...</td>\n",
       "      <td>...</td>\n",
       "      <td>...</td>\n",
       "    </tr>\n",
       "    <tr>\n",
       "      <th>3497076</th>\n",
       "      <td>0</td>\n",
       "      <td>0</td>\n",
       "      <td>0</td>\n",
       "      <td>0</td>\n",
       "      <td>1</td>\n",
       "    </tr>\n",
       "    <tr>\n",
       "      <th>3451040</th>\n",
       "      <td>0</td>\n",
       "      <td>0</td>\n",
       "      <td>0</td>\n",
       "      <td>0</td>\n",
       "      <td>1</td>\n",
       "    </tr>\n",
       "    <tr>\n",
       "      <th>3448803</th>\n",
       "      <td>0</td>\n",
       "      <td>0</td>\n",
       "      <td>0</td>\n",
       "      <td>0</td>\n",
       "      <td>1</td>\n",
       "    </tr>\n",
       "    <tr>\n",
       "      <th>3456748</th>\n",
       "      <td>0</td>\n",
       "      <td>0</td>\n",
       "      <td>0</td>\n",
       "      <td>0</td>\n",
       "      <td>1</td>\n",
       "    </tr>\n",
       "    <tr>\n",
       "      <th>3457892</th>\n",
       "      <td>0</td>\n",
       "      <td>0</td>\n",
       "      <td>0</td>\n",
       "      <td>0</td>\n",
       "      <td>1</td>\n",
       "    </tr>\n",
       "  </tbody>\n",
       "</table>\n",
       "<p>858988 rows × 5 columns</p>\n",
       "</div>"
      ],
      "text/plain": [
       "          CC_WITHDRAWAL  COLLECTION_FROM_OTHER_BANK  CREDIT_IN_CASH  \\\n",
       "TRANS_ID                                                              \n",
       "695247                0                           0               1   \n",
       "171812                0                           0               1   \n",
       "207264                0                           0               1   \n",
       "1117247               0                           0               1   \n",
       "579373                0                           0               1   \n",
       "...                 ...                         ...             ...   \n",
       "3497076               0                           0               0   \n",
       "3451040               0                           0               0   \n",
       "3448803               0                           0               0   \n",
       "3456748               0                           0               0   \n",
       "3457892               0                           0               0   \n",
       "\n",
       "          REMITTANCE_TO_OTHER_BANK  WITHDRAWAL_IN_CASH  \n",
       "TRANS_ID                                                \n",
       "695247                           0                   0  \n",
       "171812                           0                   0  \n",
       "207264                           0                   0  \n",
       "1117247                          0                   0  \n",
       "579373                           0                   0  \n",
       "...                            ...                 ...  \n",
       "3497076                          0                   1  \n",
       "3451040                          0                   1  \n",
       "3448803                          0                   1  \n",
       "3456748                          0                   1  \n",
       "3457892                          0                   1  \n",
       "\n",
       "[858988 rows x 5 columns]"
      ]
     },
     "execution_count": 91,
     "metadata": {},
     "output_type": "execute_result"
    }
   ],
   "source": [
    "dfY"
   ]
  },
  {
   "cell_type": "code",
   "execution_count": 96,
   "id": "2d014097",
   "metadata": {},
   "outputs": [
    {
     "name": "stdout",
     "output_type": "stream",
     "text": [
      "                            precision    recall  f1-score   support\n",
      "\n",
      "             CC_WITHDRAWAL       0.27      0.28      0.27      2399\n",
      "COLLECTION_FROM_OTHER_BANK       0.95      0.97      0.96     19398\n",
      "            CREDIT_IN_CASH       0.99      0.98      0.98     46347\n",
      "  REMITTANCE_TO_OTHER_BANK       0.95      0.97      0.96     61417\n",
      "        WITHDRAWAL_IN_CASH       0.97      0.96      0.97    128136\n",
      "\n",
      "                 micro avg       0.96      0.96      0.96    257697\n",
      "                 macro avg       0.83      0.83      0.83    257697\n",
      "              weighted avg       0.96      0.96      0.96    257697\n",
      "               samples avg       0.96      0.96      0.96    257697\n",
      "\n"
     ]
    }
   ],
   "source": [
    "X_train, X_test, y_train, y_test = train_test_split(dfX, dfY, test_size=0.3, random_state=1)\n",
    "\n",
    "oDecTreeModel =  DecisionTreeClassifier()\n",
    "oDecTreeModel.fit(X_train, y_train)\n",
    "\n",
    "y_pred = oDecTreeModel.predict(X_test)\n",
    "\n",
    "print(classification_report(y_test, y_pred, target_names=dfY.columns))\n",
    "\n",
    "print(f\"Accuracy: {round(metrics.accuracy_score(y_test, y_pred), 2)}\") "
   ]
  },
  {
   "cell_type": "code",
   "execution_count": null,
   "id": "615ca0ce",
   "metadata": {},
   "outputs": [],
   "source": []
  }
 ],
 "metadata": {
  "kernelspec": {
   "display_name": "Python 3",
   "language": "python",
   "name": "python3"
  },
  "language_info": {
   "codemirror_mode": {
    "name": "ipython",
    "version": 3
   },
   "file_extension": ".py",
   "mimetype": "text/x-python",
   "name": "python",
   "nbconvert_exporter": "python",
   "pygments_lexer": "ipython3",
   "version": "3.7.10"
  },
  "varInspector": {
   "cols": {
    "lenName": 16,
    "lenType": 16,
    "lenVar": 40
   },
   "kernels_config": {
    "python": {
     "delete_cmd_postfix": "",
     "delete_cmd_prefix": "del ",
     "library": "var_list.py",
     "varRefreshCmd": "print(var_dic_list())"
    },
    "r": {
     "delete_cmd_postfix": ") ",
     "delete_cmd_prefix": "rm(",
     "library": "var_list.r",
     "varRefreshCmd": "cat(var_dic_list()) "
    }
   },
   "types_to_exclude": [
    "module",
    "function",
    "builtin_function_or_method",
    "instance",
    "_Feature"
   ],
   "window_display": false
  }
 },
 "nbformat": 4,
 "nbformat_minor": 5
}
