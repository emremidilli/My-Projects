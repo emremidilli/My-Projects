{
 "cells": [
  {
   "cell_type": "markdown",
   "id": "148aa612",
   "metadata": {},
   "source": [
    "# IMPORT LIBRARIES"
   ]
  },
  {
   "cell_type": "code",
   "execution_count": null,
   "id": "e4de5840",
   "metadata": {},
   "outputs": [],
   "source": [
    "import pandas as pd\n",
    "import numpy as np\n",
    "\n",
    "import seaborn as sns\n",
    "\n",
    "from sklearn.linear_model import LinearRegression\n",
    "from sklearn.tree import DecisionTreeClassifier\n",
    "from sklearn.model_selection import train_test_split\n",
    "from sklearn import metrics\n",
    "from sklearn.metrics import classification_report\n",
    "\n",
    "from imblearn.over_sampling import SMOTE"
   ]
  },
  {
   "cell_type": "markdown",
   "id": "362b10a9",
   "metadata": {},
   "source": [
    "# READING DATA FROM SOURCE"
   ]
  },
  {
   "cell_type": "code",
   "execution_count": null,
   "id": "bbf01f66",
   "metadata": {},
   "outputs": [],
   "source": [
    "dfCustomers = pd.read_csv(\"customers.csv\", delimiter = \",\")\n",
    "dfCustomers.set_index(\"CLIENT_ID\", inplace = True)"
   ]
  },
  {
   "cell_type": "code",
   "execution_count": null,
   "id": "48f9c5e7",
   "metadata": {},
   "outputs": [],
   "source": [
    "dfCustomers.head()"
   ]
  },
  {
   "cell_type": "code",
   "execution_count": null,
   "id": "9237de2b",
   "metadata": {
    "scrolled": true
   },
   "outputs": [],
   "source": [
    "dfTransactions = pd.read_csv(\"transactions.csv\", delimiter = \",\")\n",
    "dfTransactions.set_index(\"TRANS_ID\", inplace = True)"
   ]
  },
  {
   "cell_type": "code",
   "execution_count": null,
   "id": "8558e61d",
   "metadata": {},
   "outputs": [],
   "source": [
    "dfTransactions.head()"
   ]
  },
  {
   "cell_type": "code",
   "execution_count": null,
   "id": "9af5ad44",
   "metadata": {},
   "outputs": [],
   "source": [
    "dfDistricts =  pd.read_csv(\"districts.csv\", delimiter = \",\")\n",
    "dfDistricts.set_index(\"DISTRICT_ID\", inplace = True)"
   ]
  },
  {
   "cell_type": "code",
   "execution_count": null,
   "id": "0972b0fa",
   "metadata": {},
   "outputs": [],
   "source": [
    "dfDistricts.head()"
   ]
  },
  {
   "cell_type": "markdown",
   "id": "68e096ce",
   "metadata": {},
   "source": [
    "# DATA EXPLORATION"
   ]
  },
  {
   "cell_type": "markdown",
   "id": "239c7463",
   "metadata": {},
   "source": [
    "## Exploring Uniqueness"
   ]
  },
  {
   "cell_type": "markdown",
   "id": "46f4c57c",
   "metadata": {},
   "source": [
    "### dfCustomers"
   ]
  },
  {
   "cell_type": "code",
   "execution_count": null,
   "id": "bfd6ffce",
   "metadata": {},
   "outputs": [],
   "source": [
    "len(dfCustomers.index.unique()) == len(dfCustomers.index)"
   ]
  },
  {
   "cell_type": "markdown",
   "id": "12d597db",
   "metadata": {},
   "source": [
    "### dfDistricts"
   ]
  },
  {
   "cell_type": "code",
   "execution_count": null,
   "id": "9bb00a25",
   "metadata": {},
   "outputs": [],
   "source": [
    "len(dfDistricts.index.unique()) == len(dfDistricts.index)"
   ]
  },
  {
   "cell_type": "markdown",
   "id": "26cb82ae",
   "metadata": {},
   "source": [
    "### dfTransactions"
   ]
  },
  {
   "cell_type": "markdown",
   "id": "55d839ea",
   "metadata": {},
   "source": [
    "dfTransactions contain some duplicated TRANS_IDs."
   ]
  },
  {
   "cell_type": "code",
   "execution_count": null,
   "id": "63e7ed40",
   "metadata": {
    "scrolled": true
   },
   "outputs": [],
   "source": [
    "len(dfTransactions.index.unique()) == len(dfTransactions.index)"
   ]
  },
  {
   "cell_type": "markdown",
   "id": "9acf6100",
   "metadata": {},
   "source": [
    "There are 20000 rows which are duplicated."
   ]
  },
  {
   "cell_type": "code",
   "execution_count": null,
   "id": "b49b103a",
   "metadata": {},
   "outputs": [],
   "source": [
    "dfTransactions[dfTransactions.index.duplicated(keep=False)]"
   ]
  },
  {
   "cell_type": "code",
   "execution_count": null,
   "id": "83b875e7",
   "metadata": {},
   "outputs": [],
   "source": [
    "dfTransactions.loc[3457056]"
   ]
  },
  {
   "cell_type": "markdown",
   "id": "7ebd17dd",
   "metadata": {},
   "source": [
    "## Exploring Data Types"
   ]
  },
  {
   "cell_type": "markdown",
   "id": "5f9c8332",
   "metadata": {},
   "source": [
    "### dfCustomers"
   ]
  },
  {
   "cell_type": "markdown",
   "id": "eaee04ac",
   "metadata": {},
   "source": [
    "\"LOAN\" field should be either 1 or 0 by description. Usually such fields have integer data types. However, it looks as float64, it s a sign that this field can include some unexpected data."
   ]
  },
  {
   "cell_type": "code",
   "execution_count": null,
   "id": "e33c7d32",
   "metadata": {},
   "outputs": [],
   "source": [
    "dfCustomers.info()"
   ]
  },
  {
   "cell_type": "markdown",
   "id": "c1e66616",
   "metadata": {},
   "source": [
    "Confirming that each client has only 1 account id in dfCustomers dataset."
   ]
  },
  {
   "cell_type": "code",
   "execution_count": null,
   "id": "214edc69",
   "metadata": {},
   "outputs": [],
   "source": [
    "len(dfCustomers.index.unique()) == len(dfCustomers[\"ACCOUNT_ID\"].unique())"
   ]
  },
  {
   "cell_type": "markdown",
   "id": "d2bd49ce",
   "metadata": {},
   "source": [
    "### dfDistricts"
   ]
  },
  {
   "cell_type": "markdown",
   "id": "7d92fa19",
   "metadata": {},
   "source": [
    "\"UNEMP_95\" and \"CRIME_95\" fields look as object data type. By description of field, \"UNEMP_95\" should represent unemployment ratio which is float, however it looks as object. Similarly, \"CRIME_95\" field represents number of committed crimes which should be in integer type. However, it also looks as object. These are signs that, the fields of \"UNEMP_95\" and \"CRIME_95\" contain some unexpected data."
   ]
  },
  {
   "cell_type": "code",
   "execution_count": null,
   "id": "dca9e684",
   "metadata": {
    "scrolled": true
   },
   "outputs": [],
   "source": [
    "dfDistricts.info()"
   ]
  },
  {
   "cell_type": "markdown",
   "id": "7da9187c",
   "metadata": {},
   "source": [
    "### dfTransactions"
   ]
  },
  {
   "cell_type": "markdown",
   "id": "5098c9d3",
   "metadata": {},
   "source": [
    "\"ACCOUNT_ID\" field's data type should be integer."
   ]
  },
  {
   "cell_type": "code",
   "execution_count": null,
   "id": "a08e312e",
   "metadata": {},
   "outputs": [],
   "source": [
    "dfTransactions.info()"
   ]
  },
  {
   "cell_type": "markdown",
   "id": "3e166513",
   "metadata": {},
   "source": [
    "## Exploring Missing Data"
   ]
  },
  {
   "cell_type": "markdown",
   "id": "fa14ef67",
   "metadata": {},
   "source": [
    "### dfCustomers"
   ]
  },
  {
   "cell_type": "markdown",
   "id": "197a8c1d",
   "metadata": {},
   "source": [
    "Only field 'LOAN' includes NaN values in dfCustomers dataframe."
   ]
  },
  {
   "cell_type": "code",
   "execution_count": null,
   "id": "35401b52",
   "metadata": {},
   "outputs": [],
   "source": [
    "dfCustomers.columns[dfCustomers.isna().any()].tolist()"
   ]
  },
  {
   "cell_type": "markdown",
   "id": "9fa2a67f",
   "metadata": {},
   "source": [
    "Checking unique fields to be sure if any other missing values except NaN. Unique values are sorted to detect missing values on the boundaries of the sorted array."
   ]
  },
  {
   "cell_type": "code",
   "execution_count": null,
   "id": "ed5b547d",
   "metadata": {},
   "outputs": [],
   "source": [
    "np.sort(dfCustomers.index.unique())"
   ]
  },
  {
   "cell_type": "code",
   "execution_count": null,
   "id": "ef9c281e",
   "metadata": {},
   "outputs": [],
   "source": [
    "np.sort(dfCustomers[\"ACCOUNT_ID\"].unique())"
   ]
  },
  {
   "cell_type": "code",
   "execution_count": null,
   "id": "19a46700",
   "metadata": {},
   "outputs": [],
   "source": [
    "np.sort(dfCustomers[\"GENDER\"].unique())"
   ]
  },
  {
   "cell_type": "code",
   "execution_count": null,
   "id": "f0167a10",
   "metadata": {},
   "outputs": [],
   "source": [
    "np.sort(dfCustomers[\"BIRTH_DT\"].unique())"
   ]
  },
  {
   "cell_type": "markdown",
   "id": "2d6828e9",
   "metadata": {},
   "source": [
    "Confirming that each date value includes 8 characters."
   ]
  },
  {
   "cell_type": "code",
   "execution_count": null,
   "id": "ae5bfdbc",
   "metadata": {},
   "outputs": [],
   "source": [
    "dfCustomers[\"BIRTH_DT\"].astype(str).str.len().unique()"
   ]
  },
  {
   "cell_type": "code",
   "execution_count": null,
   "id": "bb88eadb",
   "metadata": {},
   "outputs": [],
   "source": [
    "np.sort(dfCustomers[\"ACTIVE\"].unique())"
   ]
  },
  {
   "cell_type": "code",
   "execution_count": null,
   "id": "ca93dfe6",
   "metadata": {},
   "outputs": [],
   "source": [
    "np.sort(dfCustomers[\"LOAN\"].unique())"
   ]
  },
  {
   "cell_type": "code",
   "execution_count": null,
   "id": "d371c273",
   "metadata": {},
   "outputs": [],
   "source": [
    "np.sort(dfCustomers[\"DISTRICT_ID\"].unique())"
   ]
  },
  {
   "cell_type": "code",
   "execution_count": null,
   "id": "a79e03ea",
   "metadata": {},
   "outputs": [],
   "source": [
    "np.sort(dfCustomers[\"SET_SPLIT\"].unique())"
   ]
  },
  {
   "cell_type": "markdown",
   "id": "aefd76a3",
   "metadata": {},
   "source": [
    "### dfDistricts"
   ]
  },
  {
   "cell_type": "markdown",
   "id": "62da4eef",
   "metadata": {},
   "source": [
    "Looks like there is no field that contains NaN value in dfDistricts."
   ]
  },
  {
   "cell_type": "code",
   "execution_count": null,
   "id": "7385c778",
   "metadata": {},
   "outputs": [],
   "source": [
    "dfDistricts.columns[dfDistricts.isna().any()].tolist()"
   ]
  },
  {
   "cell_type": "markdown",
   "id": "fbde6c6e",
   "metadata": {},
   "source": [
    "Checking unique fields to be sure if any other missing values except NaN. Unique values are sorted to detect missing values on the boundaries of the sorted array."
   ]
  },
  {
   "cell_type": "code",
   "execution_count": null,
   "id": "2f637ce8",
   "metadata": {},
   "outputs": [],
   "source": [
    "np.sort(dfDistricts.index.unique())"
   ]
  },
  {
   "cell_type": "code",
   "execution_count": null,
   "id": "1859868f",
   "metadata": {},
   "outputs": [],
   "source": [
    "np.sort(dfDistricts[\"N_INHAB\"].unique())"
   ]
  },
  {
   "cell_type": "code",
   "execution_count": null,
   "id": "aa50c31e",
   "metadata": {},
   "outputs": [],
   "source": [
    "np.sort(dfDistricts[\"N_CITIES\"].unique())"
   ]
  },
  {
   "cell_type": "code",
   "execution_count": null,
   "id": "a148e195",
   "metadata": {},
   "outputs": [],
   "source": [
    "np.sort(dfDistricts[\"URBAN_RATIO\"].unique())"
   ]
  },
  {
   "cell_type": "code",
   "execution_count": null,
   "id": "26607dec",
   "metadata": {},
   "outputs": [],
   "source": [
    "np.sort(dfDistricts[\"AVG_SALARY\"].unique())"
   ]
  },
  {
   "cell_type": "markdown",
   "id": "848155b3",
   "metadata": {},
   "source": [
    "\"UNEMP_95\" field contains value of question mark character '?'."
   ]
  },
  {
   "cell_type": "code",
   "execution_count": null,
   "id": "21e7146b",
   "metadata": {},
   "outputs": [],
   "source": [
    "np.sort(dfDistricts[\"UNEMP_95\"].unique())"
   ]
  },
  {
   "cell_type": "code",
   "execution_count": null,
   "id": "63b950ae",
   "metadata": {},
   "outputs": [],
   "source": [
    "np.sort(dfDistricts[\"UNEMP_96\"].unique())"
   ]
  },
  {
   "cell_type": "code",
   "execution_count": null,
   "id": "8316c266",
   "metadata": {},
   "outputs": [],
   "source": [
    "np.sort(dfDistricts[\"N_ENTR\"].unique())"
   ]
  },
  {
   "cell_type": "markdown",
   "id": "9d497c52",
   "metadata": {},
   "source": [
    "\"CRIME_95\" field contains value of question mark character '?'."
   ]
  },
  {
   "cell_type": "code",
   "execution_count": null,
   "id": "849d323e",
   "metadata": {},
   "outputs": [],
   "source": [
    "np.sort(dfDistricts[\"CRIME_95\"].unique())"
   ]
  },
  {
   "cell_type": "code",
   "execution_count": null,
   "id": "63f3fcf4",
   "metadata": {
    "scrolled": true
   },
   "outputs": [],
   "source": [
    "np.sort(dfDistricts[\"CRIME_96\"].unique())"
   ]
  },
  {
   "cell_type": "markdown",
   "id": "02702d82",
   "metadata": {},
   "source": [
    "### dfTransactions"
   ]
  },
  {
   "cell_type": "markdown",
   "id": "333d140d",
   "metadata": {},
   "source": [
    "\"ACCOUNT_ID\" and \"OPERATION\" operation fields contain NaN values."
   ]
  },
  {
   "cell_type": "code",
   "execution_count": null,
   "id": "e755cae9",
   "metadata": {},
   "outputs": [],
   "source": [
    "dfTransactions.columns[dfTransactions.isna().any()].tolist()"
   ]
  },
  {
   "cell_type": "code",
   "execution_count": null,
   "id": "df3d36bc",
   "metadata": {},
   "outputs": [],
   "source": [
    "np.sort(dfTransactions.index.unique())"
   ]
  },
  {
   "cell_type": "markdown",
   "id": "95a3221f",
   "metadata": {},
   "source": [
    "\"ACCOUNT_ID\" field contains NaN values."
   ]
  },
  {
   "cell_type": "code",
   "execution_count": null,
   "id": "4bfc190e",
   "metadata": {},
   "outputs": [],
   "source": [
    "np.sort(dfTransactions[\"ACCOUNT_ID\"].unique())"
   ]
  },
  {
   "cell_type": "markdown",
   "id": "71f685a3",
   "metadata": {},
   "source": [
    "\"DATE\" field doesn't contain NaN value but date format is not in DDMMYYY format for some values."
   ]
  },
  {
   "cell_type": "code",
   "execution_count": null,
   "id": "541707a6",
   "metadata": {},
   "outputs": [],
   "source": [
    "np.sort(dfTransactions[\"DATE\"].unique())"
   ]
  },
  {
   "cell_type": "markdown",
   "id": "1df6bdf2",
   "metadata": {},
   "source": [
    "Ther are incompatible formats of DD such as 40, 50, 41 etc. "
   ]
  },
  {
   "cell_type": "code",
   "execution_count": null,
   "id": "4b1ac9c6",
   "metadata": {
    "scrolled": true
   },
   "outputs": [],
   "source": [
    " dfTransactions[\"DATE\"].astype(str).str[:2].unique()"
   ]
  },
  {
   "cell_type": "markdown",
   "id": "ba936a6a",
   "metadata": {},
   "source": [
    "Ther are incompatible formats of MM such as 71, 81, 91 etc."
   ]
  },
  {
   "cell_type": "code",
   "execution_count": null,
   "id": "d3b4a6b1",
   "metadata": {
    "scrolled": false
   },
   "outputs": [],
   "source": [
    "dfTransactions[\"DATE\"].astype(str).str[2:4].unique()"
   ]
  },
  {
   "cell_type": "markdown",
   "id": "5279083d",
   "metadata": {},
   "source": [
    "When some accounts are checked, it is observed that they are not inserted as DDMMYYY but DDMMYYYY format. And when day of month is less than 10, they are inserted only 1 digit not 2 digits."
   ]
  },
  {
   "cell_type": "code",
   "execution_count": null,
   "id": "1c0108d9",
   "metadata": {},
   "outputs": [],
   "source": [
    " dfTransactions[dfTransactions[\"DATE\"].astype(str).str[:2] == \"50\"]"
   ]
  },
  {
   "cell_type": "code",
   "execution_count": null,
   "id": "45a5005b",
   "metadata": {},
   "outputs": [],
   "source": [
    "dfTransactions[dfTransactions[\"ACCOUNT_ID\"] == 652]"
   ]
  },
  {
   "cell_type": "code",
   "execution_count": null,
   "id": "73e27cb4",
   "metadata": {},
   "outputs": [],
   "source": [
    "dfTransactions[\"DATE\"].astype(str).str[4:].unique()"
   ]
  },
  {
   "cell_type": "code",
   "execution_count": null,
   "id": "7030129d",
   "metadata": {},
   "outputs": [],
   "source": [
    "np.sort(dfTransactions[\"AMOUNT\"].unique())"
   ]
  },
  {
   "cell_type": "code",
   "execution_count": null,
   "id": "dced84fc",
   "metadata": {},
   "outputs": [],
   "source": [
    "np.sort(dfTransactions[\"BALANCE\"].unique())"
   ]
  },
  {
   "cell_type": "code",
   "execution_count": null,
   "id": "4e20dce4",
   "metadata": {},
   "outputs": [],
   "source": [
    "np.sort(dfTransactions[\"TYPE\"].unique())"
   ]
  },
  {
   "cell_type": "markdown",
   "id": "4b669fef",
   "metadata": {},
   "source": [
    "\"ACCOUNT_ID\" field contains NaN values."
   ]
  },
  {
   "cell_type": "code",
   "execution_count": null,
   "id": "133afeb8",
   "metadata": {
    "scrolled": true
   },
   "outputs": [],
   "source": [
    "dfTransactions[\"OPERATION\"].unique()"
   ]
  },
  {
   "cell_type": "markdown",
   "id": "3c4963f7",
   "metadata": {},
   "source": [
    "# PREPROCESSING"
   ]
  },
  {
   "cell_type": "markdown",
   "id": "aa69e0e4",
   "metadata": {},
   "source": [
    "Data preprocessing is applied to the copied datasets since some fields may be good enough for exploratory analysis but not complied for predictive model. That's why, preprocessing is applied only to the datasets that will be used in predictive models."
   ]
  },
  {
   "cell_type": "code",
   "execution_count": null,
   "id": "6c826c25",
   "metadata": {},
   "outputs": [],
   "source": [
    "dfCustomersModel = dfCustomers.copy()\n",
    "dfTransactionsModel = dfTransactions.copy()\n",
    "dfDistrictsModel = dfDistricts.copy()"
   ]
  },
  {
   "cell_type": "markdown",
   "id": "412532cb",
   "metadata": {},
   "source": [
    "## Remove Duplicated Rows"
   ]
  },
  {
   "cell_type": "markdown",
   "id": "3d46dcbc",
   "metadata": {},
   "source": [
    "### TRANS_ID"
   ]
  },
  {
   "cell_type": "markdown",
   "id": "e49f0f76",
   "metadata": {},
   "source": [
    "One of the duplicated rows are kept. Rest of them are dropped."
   ]
  },
  {
   "cell_type": "code",
   "execution_count": null,
   "id": "d4180592",
   "metadata": {},
   "outputs": [],
   "source": [
    "dfTransactionsModel.drop_duplicates(inplace = True, keep = \"first\")"
   ]
  },
  {
   "cell_type": "markdown",
   "id": "18e8e482",
   "metadata": {},
   "source": [
    "Still there are duplicated rows in terms of index but not for other values. The reason of this situation is that at least one of the duplicated rows contains NaN value."
   ]
  },
  {
   "cell_type": "code",
   "execution_count": null,
   "id": "cfc611a3",
   "metadata": {},
   "outputs": [],
   "source": [
    "len(dfTransactionsModel.index.unique()) == len(dfTransactionsModel.index)"
   ]
  },
  {
   "cell_type": "code",
   "execution_count": null,
   "id": "3206e7ae",
   "metadata": {
    "scrolled": true
   },
   "outputs": [],
   "source": [
    "dfDuplicatedTransactions = dfTransactionsModel[dfTransactionsModel.index.duplicated(keep=False)]"
   ]
  },
  {
   "cell_type": "code",
   "execution_count": null,
   "id": "b0c5b360",
   "metadata": {},
   "outputs": [],
   "source": [
    "dfDuplicatedTransactions.sort_index()"
   ]
  },
  {
   "cell_type": "markdown",
   "id": "db46ab10",
   "metadata": {},
   "source": [
    "We can fill missing values by copying from its duplicated index."
   ]
  },
  {
   "cell_type": "code",
   "execution_count": null,
   "id": "c752479d",
   "metadata": {},
   "outputs": [],
   "source": [
    "aDuplicatedTransIds = dfDuplicatedTransactions.index.unique()\n",
    "\n",
    "\n",
    "for iTransId in aDuplicatedTransIds:\n",
    "    \n",
    "    for j in range(dfTransactionsModel.shape[1]):\n",
    "        sColumnName = dfTransactionsModel.columns[j]\n",
    "        \n",
    "        aColumnValues = dfTransactionsModel.loc[iTransId, sColumnName]\n",
    "        \n",
    "        iNrOfMissingValues = aColumnValues.isna().sum()\n",
    "        iNrOfDuplicates = len(aColumnValues)\n",
    "        \n",
    "        if iNrOfMissingValues > 0 and iNrOfMissingValues < iNrOfDuplicates:\n",
    "            \n",
    "            aNonMissingValues = aColumnValues[aColumnValues.notna()]\n",
    "            iNrOfNonMissingValues = len(aNonMissingValues)\n",
    "            \n",
    "            if iNrOfNonMissingValues == 1:\n",
    "                dfTransactionsModel.loc[iTransId, sColumnName] = aNonMissingValues\n",
    "            \n",
    "        \n",
    "        \n"
   ]
  },
  {
   "cell_type": "markdown",
   "id": "f040f1da",
   "metadata": {},
   "source": [
    "After filling missing values from it's duplicated row, dropping duplicates is applied once again. It is observed that, there is no more duplicated rows."
   ]
  },
  {
   "cell_type": "code",
   "execution_count": null,
   "id": "00816633",
   "metadata": {},
   "outputs": [],
   "source": [
    "dfTransactionsModel.drop_duplicates(inplace = True, keep = \"first\")"
   ]
  },
  {
   "cell_type": "code",
   "execution_count": null,
   "id": "0ed9cdac",
   "metadata": {},
   "outputs": [],
   "source": [
    "len(dfTransactionsModel.index.unique()) == len(dfTransactionsModel.index)"
   ]
  },
  {
   "cell_type": "markdown",
   "id": "efd71ec5",
   "metadata": {},
   "source": [
    "## Converting Date Formats"
   ]
  },
  {
   "cell_type": "markdown",
   "id": "1c9d9274",
   "metadata": {},
   "source": [
    "### BIRTH_DT"
   ]
  },
  {
   "cell_type": "code",
   "execution_count": null,
   "id": "644bef2f",
   "metadata": {},
   "outputs": [],
   "source": [
    "dfCustomersModel[\"BIRTH_DT\"] = pd.to_datetime(dfCustomersModel[\"BIRTH_DT\"], format=\"%Y%m%d\")"
   ]
  },
  {
   "cell_type": "code",
   "execution_count": null,
   "id": "224dc987",
   "metadata": {},
   "outputs": [],
   "source": [
    "np.sort(dfCustomersModel[\"BIRTH_DT\"].unique())"
   ]
  },
  {
   "cell_type": "code",
   "execution_count": null,
   "id": "b98a73e9",
   "metadata": {},
   "outputs": [],
   "source": [
    "dfCustomersModel.info()"
   ]
  },
  {
   "cell_type": "markdown",
   "id": "c72c2b89",
   "metadata": {},
   "source": [
    "### DATE"
   ]
  },
  {
   "cell_type": "markdown",
   "id": "57aa4422",
   "metadata": {},
   "source": [
    "\"DATE\" field should be in DDMMYYY based on description however, it is in DMMYYYY format. For the days that are less than 10, day of month is represented just 1 digit. "
   ]
  },
  {
   "cell_type": "markdown",
   "id": "645ddc0c",
   "metadata": {},
   "source": [
    " \"0\" character is added at the beginning of the values where day of month is represented with single value. "
   ]
  },
  {
   "cell_type": "code",
   "execution_count": null,
   "id": "480ea64e",
   "metadata": {},
   "outputs": [],
   "source": [
    "dfTransactionsModel[\"DATE\"] = dfTransactionsModel[\"DATE\"].astype(str)\n",
    "adfTransactionsWith7DigitsDates = dfTransactionsModel[dfTransactionsModel[\"DATE\"].str.len() == 7]\n",
    "dfTransactionsModel.loc[adfTransactionsWith7DigitsDates.index, \"DATE\"] = \"0\" + dfTransactionsModel.loc[adfTransactionsWith7DigitsDates.index, \"DATE\"]"
   ]
  },
  {
   "cell_type": "code",
   "execution_count": null,
   "id": "cd7a11c1",
   "metadata": {},
   "outputs": [],
   "source": [
    "dfTransactionsModel[\"DATE\"] = pd.to_datetime(dfTransactionsModel[\"DATE\"], format=\"%d%m%Y\")"
   ]
  },
  {
   "cell_type": "code",
   "execution_count": null,
   "id": "92da7c4e",
   "metadata": {},
   "outputs": [],
   "source": [
    "np.sort(dfTransactionsModel[\"DATE\"].unique())"
   ]
  },
  {
   "cell_type": "code",
   "execution_count": null,
   "id": "88916a28",
   "metadata": {},
   "outputs": [],
   "source": [
    "dfTransactionsModel.info()"
   ]
  },
  {
   "cell_type": "markdown",
   "id": "007bfd63",
   "metadata": {},
   "source": [
    "## Missing Data Handling"
   ]
  },
  {
   "cell_type": "markdown",
   "id": "4bb1e945",
   "metadata": {},
   "source": [
    "### LOAN"
   ]
  },
  {
   "cell_type": "markdown",
   "id": "e0565daa",
   "metadata": {},
   "source": [
    "There are 50 customers which have NaN value on their \"LOAN\" field. Empty \"LOAN\" data can't be used for training or testing purposes. That's why, the customers which don't have \"LOAN\" information are dropped from dfCustomersModel and dfTransactionsModel datasets."
   ]
  },
  {
   "cell_type": "code",
   "execution_count": null,
   "id": "1c8c6e7e",
   "metadata": {
    "scrolled": true
   },
   "outputs": [],
   "source": [
    "dfCustomersMissingLoan = dfCustomers[dfCustomers[\"LOAN\"].isna()]\n",
    "\n",
    "dfTransactionsMissingLoan = dfTransactions.reset_index().merge(\n",
    "    dfCustomersMissingLoan, \n",
    "    how = \"inner\", \n",
    "    on = \"ACCOUNT_ID\").set_index(\"TRANS_ID\")\n",
    "\n",
    "\n",
    "dfTransactionsModel.drop(dfTransactionsMissingLoan.index, inplace = True)\n",
    "dfCustomersModel.drop(dfCustomersMissingLoan.index, inplace = True)"
   ]
  },
  {
   "cell_type": "markdown",
   "id": "e0405c88",
   "metadata": {},
   "source": [
    "### UNEMP_95 & CRIME_95"
   ]
  },
  {
   "cell_type": "markdown",
   "id": "e9949ecc",
   "metadata": {},
   "source": [
    "There is 1 district (DISTRICT_ID=69) whose \"UNEMP_95\" and \"CRIME_95\" fields are empty."
   ]
  },
  {
   "cell_type": "code",
   "execution_count": null,
   "id": "7d64525f",
   "metadata": {},
   "outputs": [],
   "source": [
    "dfDistricts[dfDistricts[\"UNEMP_95\"] == \"?\"]"
   ]
  },
  {
   "cell_type": "code",
   "execution_count": null,
   "id": "bc964c1e",
   "metadata": {},
   "outputs": [],
   "source": [
    "dfDistricts[dfDistricts[\"CRIME_95\"] == \"?\"]"
   ]
  },
  {
   "cell_type": "markdown",
   "id": "eb08ea2e",
   "metadata": {},
   "source": [
    "A predictive model is used to produce a value instead of question mark. As it is mentioned above, \"UNEMP_95\" and \"CRIME_95\" are in object format not in float format. The reason of this situation was because of question mark character on DISTRIC_ID=96. \n",
    "This row is dropped for temporary purpose from dataset to convert \"UNEMP_95\" and \"CRIME_95\" to float data type so that we can perform some numerical analysis. After missing values are predicted, DISTRICT_ID = 69 will be appended back to dfDistrictsModel."
   ]
  },
  {
   "cell_type": "code",
   "execution_count": null,
   "id": "9403f4b2",
   "metadata": {},
   "outputs": [],
   "source": [
    "dfMissingRows = dfDistrictsModel[(dfDistrictsModel[\"UNEMP_95\"] == \"?\") | (dfDistrictsModel[\"CRIME_95\"] == \"?\")]\n",
    "\n",
    "dfDistrictsModel.drop(dfMissingRows.index, inplace = True)\n",
    "\n",
    "dfDistrictsModel[\"UNEMP_95\"] = pd.to_numeric(dfDistrictsModel[\"UNEMP_95\"])\n",
    "dfDistrictsModel[\"CRIME_95\"] = pd.to_numeric(dfDistrictsModel[\"CRIME_95\"])\n",
    "\n",
    "dfDistrictsModel.info()"
   ]
  },
  {
   "cell_type": "markdown",
   "id": "30fdf00e",
   "metadata": {},
   "source": [
    "A heatmap is created to understand if there are any strong relationships between features."
   ]
  },
  {
   "cell_type": "code",
   "execution_count": null,
   "id": "97a0a3a0",
   "metadata": {},
   "outputs": [],
   "source": [
    "sns.heatmap(abs(dfDistrictsModel.corr()), vmin = 0, vmax = 1, cmap = \"Greens\", linewidths=0.5, annot=True)"
   ]
  },
  {
   "cell_type": "markdown",
   "id": "489aede0",
   "metadata": {},
   "source": [
    "It is observed that linear relationship between \"UNEMP_95\" and \"UNEMP_96\" are strong. That's why, a simple linear regression model can be used to predict missing value."
   ]
  },
  {
   "cell_type": "code",
   "execution_count": null,
   "id": "8e51ec1b",
   "metadata": {},
   "outputs": [],
   "source": [
    "aX = np.array(dfDistrictsModel[\"UNEMP_96\"]).reshape(-1,1)\n",
    "aY = np.array(dfDistrictsModel[\"UNEMP_95\"]).reshape(-1,1)\n",
    "\n",
    "oLinRegModel = LinearRegression()\n",
    "\n",
    "oLinRegModel.fit(aX, aY)\n",
    "\n",
    "aUnemp95ToPredict = dfDistricts[dfDistricts[\"UNEMP_95\"] == \"?\"].loc[:, \"UNEMP_96\"]\n",
    "aUnemp95ToPredict = np.array(aUnemp95ToPredict).reshape(-1,1)\n",
    "\n",
    "aUnemp95Predicted = oLinRegModel.predict(aUnemp95ToPredict)"
   ]
  },
  {
   "cell_type": "markdown",
   "id": "91575ccf",
   "metadata": {},
   "source": [
    "There is a linear relationship between \"CRIME_95\", \"CRIME_96\" and \"N_INHAB\" fields. That's why, a simple linear regression model can be used to predict missing value."
   ]
  },
  {
   "cell_type": "code",
   "execution_count": null,
   "id": "c8552c6f",
   "metadata": {},
   "outputs": [],
   "source": [
    "aX = np.array(np.array(dfDistrictsModel[[\"CRIME_96\", \"N_INHAB\"]]))\n",
    "aY = np.array(dfDistrictsModel[\"CRIME_95\"]).reshape(-1,1)\n",
    "\n",
    "oLinRegModel = LinearRegression()\n",
    "\n",
    "oLinRegModel.fit(aX, aY)\n",
    "\n",
    "aCrime95ToPredict = dfDistricts[dfDistricts[\"CRIME_95\"] == \"?\"].loc[:,[\"CRIME_96\", \"N_INHAB\"]]\n",
    "aCrime95ToPredict = np.array(aCrime95ToPredict)\n",
    "\n",
    "aCrime95Predicted = oLinRegModel.predict(aCrime95ToPredict)"
   ]
  },
  {
   "cell_type": "markdown",
   "id": "6289ea45",
   "metadata": {},
   "source": [
    "In order to replace question marks with predicted valeus,  missing rows are added back to dfDistrictsModel."
   ]
  },
  {
   "cell_type": "code",
   "execution_count": null,
   "id": "dda2d6f7",
   "metadata": {},
   "outputs": [],
   "source": [
    "dfDistrictsModel= dfDistrictsModel.append(dfMissingRows)\n",
    "dfDistrictsModel.sort_index(inplace=True)"
   ]
  },
  {
   "cell_type": "markdown",
   "id": "7a1ef009",
   "metadata": {},
   "source": [
    "Predicted valeus are added to missing rows."
   ]
  },
  {
   "cell_type": "code",
   "execution_count": null,
   "id": "c5385106",
   "metadata": {},
   "outputs": [],
   "source": [
    "dfMaskMissingUnemp95s = dfDistrictsModel[\"UNEMP_95\"] == \"?\"\n",
    "dfDistrictsModel.loc[dfMaskMissingUnemp95s,\"UNEMP_95\"] = aUnemp95Predicted"
   ]
  },
  {
   "cell_type": "code",
   "execution_count": null,
   "id": "5df0bb73",
   "metadata": {},
   "outputs": [],
   "source": [
    "dfMaskMissingCrime95s = dfDistrictsModel[\"CRIME_95\"] == \"?\"\n",
    "dfDistrictsModel.loc[dfMaskMissingCrime95s,\"CRIME_95\"] = aCrime95Predicted"
   ]
  },
  {
   "cell_type": "markdown",
   "id": "cef51910",
   "metadata": {},
   "source": [
    "Now those columns can be converted to numerical type."
   ]
  },
  {
   "cell_type": "code",
   "execution_count": null,
   "id": "9b4fb2d2",
   "metadata": {},
   "outputs": [],
   "source": [
    "dfDistrictsModel[\"UNEMP_95\"] = dfDistrictsModel[\"UNEMP_95\"].astype(np.float64)\n",
    "dfDistrictsModel[\"CRIME_95\"] = dfDistrictsModel[\"CRIME_95\"].astype(np.int64)\n",
    "\n",
    "dfDistrictsModel.info()"
   ]
  },
  {
   "cell_type": "markdown",
   "id": "5d3a1bcb",
   "metadata": {},
   "source": [
    "### ACCOUNT_ID"
   ]
  },
  {
   "cell_type": "markdown",
   "id": "eeab78b1",
   "metadata": {},
   "source": [
    "There are 4915 rows that don't have value in \"ACCOUNT_ID\" field. This is not a big amount for this database. That's why, those rows are dropped from dfTransactionsModel."
   ]
  },
  {
   "cell_type": "code",
   "execution_count": null,
   "id": "299c5019",
   "metadata": {},
   "outputs": [],
   "source": [
    "dfMissingAccountIds = dfTransactionsModel[dfTransactionsModel[\"ACCOUNT_ID\"].isna()]"
   ]
  },
  {
   "cell_type": "code",
   "execution_count": null,
   "id": "f46716e9",
   "metadata": {},
   "outputs": [],
   "source": [
    "dfMissingAccountIds"
   ]
  },
  {
   "cell_type": "code",
   "execution_count": null,
   "id": "c4d89484",
   "metadata": {},
   "outputs": [],
   "source": [
    "dfTransactionsModel.drop(dfMissingAccountIds.index, inplace = True)"
   ]
  },
  {
   "cell_type": "markdown",
   "id": "ae9ffc00",
   "metadata": {},
   "source": [
    "\"ACCOUNT_ID\" field is converted to integer format to be allign with dfCustomers's \"ACCOINT_ID\" field."
   ]
  },
  {
   "cell_type": "code",
   "execution_count": null,
   "id": "4bd68db5",
   "metadata": {},
   "outputs": [],
   "source": [
    "dfTransactionsModel[\"ACCOUNT_ID\"] = dfTransactionsModel[\"ACCOUNT_ID\"].astype(np.int64)"
   ]
  },
  {
   "cell_type": "markdown",
   "id": "65034125",
   "metadata": {},
   "source": [
    "### OPERATION"
   ]
  },
  {
   "cell_type": "code",
   "execution_count": null,
   "id": "7a7119d8",
   "metadata": {},
   "outputs": [],
   "source": [
    "dfTransactionsMissingOperation = dfTransactionsModel[dfTransactionsModel[\"OPERATION\"].isna()]"
   ]
  },
  {
   "cell_type": "code",
   "execution_count": null,
   "id": "a50126bd",
   "metadata": {},
   "outputs": [],
   "source": [
    "dfTransactionsMissingOperation"
   ]
  },
  {
   "cell_type": "markdown",
   "id": "6937592b",
   "metadata": {},
   "source": [
    "\"TYPE\" field of all of the missing values are \"CREDIT\". When all data is checked, \"CREDIT\" type can have 2 possible \"OPERATION\":\n",
    "\n",
    "1. COLLECTION_FROM_OTHER_BANK\n",
    "or\n",
    "2. CREDIT_IN_CASH"
   ]
  },
  {
   "cell_type": "code",
   "execution_count": null,
   "id": "602f94bd",
   "metadata": {},
   "outputs": [],
   "source": [
    "dfTransactionsMissingOperation[\"TYPE\"].unique()"
   ]
  },
  {
   "cell_type": "code",
   "execution_count": null,
   "id": "20f4e5ad",
   "metadata": {
    "scrolled": true
   },
   "outputs": [],
   "source": [
    "dfTransactionsModel[[\"TYPE\", \"OPERATION\", \"AMOUNT\"]].groupby([\"TYPE\", \"OPERATION\"]).agg([\"count\", \"min\", \"max\"])"
   ]
  },
  {
   "cell_type": "markdown",
   "id": "33700ecc",
   "metadata": {},
   "source": [
    "A decision classifier can be used to predict missing \"OPERATION\" values. In order to train the classifier, it would be enough to use only the transactions that have \"CREDIT\" type. And \"TYPE\" field doesn't need to be an input feature since it is always same for all missing data."
   ]
  },
  {
   "cell_type": "code",
   "execution_count": null,
   "id": "48a760f4",
   "metadata": {},
   "outputs": [],
   "source": [
    "dfTransactionsNonMissingOperation = dfTransactionsModel.drop(dfTransactionsMissingOperation.index)\n",
    "dfTransactionsNonMissingOperation = dfTransactionsNonMissingOperation[dfTransactionsNonMissingOperation[\"TYPE\"] == \"CREDIT\"]"
   ]
  },
  {
   "cell_type": "code",
   "execution_count": null,
   "id": "af133513",
   "metadata": {},
   "outputs": [],
   "source": [
    "dfX = dfTransactionsModel[dfTransactionsModel[\"TYPE\"] == \"CREDIT\"].copy()\n",
    "\n",
    "dfX.drop([\"TYPE\", \"OPERATION\", \"DATE\"], axis = 1, inplace=True)\n",
    "\n",
    "dfX[\"TRANSACTION_YEAR\"] = dfTransactionsModel[\"DATE\"].dt.year\n",
    "dfX[\"TRANSACTION_MONTH\"] = dfTransactionsModel[\"DATE\"].dt.month\n",
    "dfX[\"TRANSACTION_DAY\"] = dfTransactionsModel[\"DATE\"].dt.day"
   ]
  },
  {
   "cell_type": "code",
   "execution_count": null,
   "id": "e0e955f3",
   "metadata": {},
   "outputs": [],
   "source": [
    "dfX"
   ]
  },
  {
   "cell_type": "code",
   "execution_count": null,
   "id": "0e898034",
   "metadata": {},
   "outputs": [],
   "source": [
    "dfY = pd.get_dummies(dfTransactionsModel[dfTransactionsModel[\"TYPE\"] == \"CREDIT\"][\"OPERATION\"])"
   ]
  },
  {
   "cell_type": "code",
   "execution_count": null,
   "id": "853ff977",
   "metadata": {},
   "outputs": [],
   "source": [
    "dfY"
   ]
  },
  {
   "cell_type": "code",
   "execution_count": null,
   "id": "f4fdec02",
   "metadata": {},
   "outputs": [],
   "source": [
    "X_train, X_test, y_train, y_test = train_test_split(\n",
    "    dfX.loc[dfTransactionsNonMissingOperation.index], \n",
    "    dfY.loc[dfTransactionsNonMissingOperation.index], \n",
    "    test_size=0.3, \n",
    "    random_state=1, \n",
    "    shuffle=True)"
   ]
  },
  {
   "cell_type": "code",
   "execution_count": null,
   "id": "077d0a74",
   "metadata": {},
   "outputs": [],
   "source": [
    "oDecTreeModel =  DecisionTreeClassifier()\n",
    "oDecTreeModel.fit(X_train, y_train)\n",
    "\n",
    "y_pred = oDecTreeModel.predict(X_test)\n",
    "\n",
    "y_pred = pd.DataFrame(y_pred, index = y_test.index, columns = y_test.columns )"
   ]
  },
  {
   "cell_type": "markdown",
   "id": "fa44cc58",
   "metadata": {},
   "source": [
    "Both classes have good accuracy and f1 score meaning that decision tree model may able to predict both True Positives and True Negatives."
   ]
  },
  {
   "cell_type": "code",
   "execution_count": null,
   "id": "82400ee6",
   "metadata": {},
   "outputs": [],
   "source": [
    "print(classification_report(y_test, y_pred, target_names=dfY.columns))\n",
    "\n",
    "for sClass in dfY.columns:\n",
    "    print(f\"Accuracy of : \" + sClass + \": \"+ str(round(metrics.accuracy_score(y_test[sClass], y_pred[sClass]), 2))) "
   ]
  },
  {
   "cell_type": "markdown",
   "id": "7562b454",
   "metadata": {},
   "source": [
    "All of the missing values are predicted as \"CREDIT_IN_CASH\" value."
   ]
  },
  {
   "cell_type": "code",
   "execution_count": null,
   "id": "b13d88d5",
   "metadata": {},
   "outputs": [],
   "source": [
    "aPredictionsForMissingOperations = oDecTreeModel.predict(dfX.loc[dfTransactionsMissingOperation.index])\n",
    "dfPredictionsForMissingOperations = pd.DataFrame(data = aPredictionsForMissingOperations, columns = dfY.columns, index = dfTransactionsMissingOperation.index)\n",
    "\n",
    "aPredictedOperations = dfPredictionsForMissingOperations.idxmax(axis=1)\n",
    "\n",
    "dfTransactionsModel.loc[dfTransactionsMissingOperation.index,\"OPERATION\"] = aPredictedOperations"
   ]
  },
  {
   "cell_type": "code",
   "execution_count": null,
   "id": "dd59b85b",
   "metadata": {},
   "outputs": [],
   "source": [
    "aPredictedOperations.unique()"
   ]
  },
  {
   "cell_type": "markdown",
   "id": "c23b52f8",
   "metadata": {},
   "source": [
    "## Merging Datasets"
   ]
  },
  {
   "cell_type": "code",
   "execution_count": null,
   "id": "7760673a",
   "metadata": {},
   "outputs": [],
   "source": [
    "dfDataAnalysis = dfTransactionsModel.reset_index().merge(dfCustomersModel.reset_index(), on = \"ACCOUNT_ID\", how = \"inner\").set_index(\"TRANS_ID\")"
   ]
  },
  {
   "cell_type": "markdown",
   "id": "ec09bd53",
   "metadata": {},
   "source": [
    "There are transactions where \"ACCOUNT_ID\" are not in dfCustomers."
   ]
  },
  {
   "cell_type": "code",
   "execution_count": null,
   "id": "e9af780e",
   "metadata": {},
   "outputs": [],
   "source": [
    "len(dfTransactionsModel) - len(dfDataAnalysis)"
   ]
  },
  {
   "cell_type": "markdown",
   "id": "363db60f",
   "metadata": {},
   "source": [
    "There are no customer who doesn't have any transaction."
   ]
  },
  {
   "cell_type": "code",
   "execution_count": null,
   "id": "bdd62c2e",
   "metadata": {},
   "outputs": [],
   "source": [
    "len(dfDataAnalysis[\"CLIENT_ID\"].unique()) - len(dfCustomersModel)"
   ]
  },
  {
   "cell_type": "code",
   "execution_count": null,
   "id": "8257857a",
   "metadata": {},
   "outputs": [],
   "source": [
    "dfDataAnalysis = dfDataAnalysis.reset_index().merge(dfDistrictsModel.reset_index(), on = \"DISTRICT_ID\", how = \"inner\").set_index(\"TRANS_ID\")"
   ]
  },
  {
   "cell_type": "markdown",
   "id": "1bddc5db",
   "metadata": {},
   "source": [
    "There are customers from each district."
   ]
  },
  {
   "cell_type": "code",
   "execution_count": null,
   "id": "60782c55",
   "metadata": {},
   "outputs": [],
   "source": [
    "len(dfCustomersModel[\"DISTRICT_ID\"].unique()) - len(dfDistrictsModel)"
   ]
  },
  {
   "cell_type": "code",
   "execution_count": null,
   "id": "8f57d762",
   "metadata": {},
   "outputs": [],
   "source": [
    "dfDataAnalysis.head()"
   ]
  },
  {
   "cell_type": "markdown",
   "id": "25eb56d4",
   "metadata": {},
   "source": [
    "# DATA ANALYSIS"
   ]
  },
  {
   "cell_type": "code",
   "execution_count": null,
   "id": "9ee0fc13",
   "metadata": {},
   "outputs": [],
   "source": []
  }
 ],
 "metadata": {
  "kernelspec": {
   "display_name": "Python 3",
   "language": "python",
   "name": "python3"
  },
  "language_info": {
   "codemirror_mode": {
    "name": "ipython",
    "version": 3
   },
   "file_extension": ".py",
   "mimetype": "text/x-python",
   "name": "python",
   "nbconvert_exporter": "python",
   "pygments_lexer": "ipython3",
   "version": "3.7.10"
  },
  "varInspector": {
   "cols": {
    "lenName": 16,
    "lenType": 16,
    "lenVar": 40
   },
   "kernels_config": {
    "python": {
     "delete_cmd_postfix": "",
     "delete_cmd_prefix": "del ",
     "library": "var_list.py",
     "varRefreshCmd": "print(var_dic_list())"
    },
    "r": {
     "delete_cmd_postfix": ") ",
     "delete_cmd_prefix": "rm(",
     "library": "var_list.r",
     "varRefreshCmd": "cat(var_dic_list()) "
    }
   },
   "types_to_exclude": [
    "module",
    "function",
    "builtin_function_or_method",
    "instance",
    "_Feature"
   ],
   "window_display": false
  }
 },
 "nbformat": 4,
 "nbformat_minor": 5
}
