{
 "cells": [
  {
   "cell_type": "markdown",
   "id": "14857404",
   "metadata": {},
   "source": [
    "# IMPORT LIBRARIES"
   ]
  },
  {
   "cell_type": "code",
   "execution_count": 1,
   "id": "2ab14bdf",
   "metadata": {},
   "outputs": [],
   "source": [
    "import pandas as pd\n",
    "import numpy as np"
   ]
  },
  {
   "cell_type": "markdown",
   "id": "cb4bdfb1",
   "metadata": {},
   "source": [
    "# READING DATA FROM SOURCE"
   ]
  },
  {
   "cell_type": "code",
   "execution_count": 14,
   "id": "64cf2886",
   "metadata": {},
   "outputs": [],
   "source": [
    "dfCustomers = pd.read_csv(\"customers.csv\", delimiter = \",\")\n",
    "dfCustomers.set_index(\"CLIENT_ID\", inplace = True)"
   ]
  },
  {
   "cell_type": "code",
   "execution_count": 15,
   "id": "e0ceea7b",
   "metadata": {},
   "outputs": [
    {
     "data": {
      "text/html": [
       "<div>\n",
       "<style scoped>\n",
       "    .dataframe tbody tr th:only-of-type {\n",
       "        vertical-align: middle;\n",
       "    }\n",
       "\n",
       "    .dataframe tbody tr th {\n",
       "        vertical-align: top;\n",
       "    }\n",
       "\n",
       "    .dataframe thead th {\n",
       "        text-align: right;\n",
       "    }\n",
       "</style>\n",
       "<table border=\"1\" class=\"dataframe\">\n",
       "  <thead>\n",
       "    <tr style=\"text-align: right;\">\n",
       "      <th></th>\n",
       "      <th>ACCOUNT_ID</th>\n",
       "      <th>GENDER</th>\n",
       "      <th>BIRTH_DT</th>\n",
       "      <th>ACTIVE</th>\n",
       "      <th>LOAN</th>\n",
       "      <th>DISTRICT_ID</th>\n",
       "      <th>SET_SPLIT</th>\n",
       "    </tr>\n",
       "    <tr>\n",
       "      <th>CLIENT_ID</th>\n",
       "      <th></th>\n",
       "      <th></th>\n",
       "      <th></th>\n",
       "      <th></th>\n",
       "      <th></th>\n",
       "      <th></th>\n",
       "      <th></th>\n",
       "    </tr>\n",
       "  </thead>\n",
       "  <tbody>\n",
       "    <tr>\n",
       "      <th>1</th>\n",
       "      <td>1</td>\n",
       "      <td>F</td>\n",
       "      <td>19701213</td>\n",
       "      <td>1</td>\n",
       "      <td>0.0</td>\n",
       "      <td>18</td>\n",
       "      <td>TRAIN</td>\n",
       "    </tr>\n",
       "    <tr>\n",
       "      <th>2</th>\n",
       "      <td>2</td>\n",
       "      <td>M</td>\n",
       "      <td>19450204</td>\n",
       "      <td>1</td>\n",
       "      <td>1.0</td>\n",
       "      <td>1</td>\n",
       "      <td>TRAIN</td>\n",
       "    </tr>\n",
       "    <tr>\n",
       "      <th>4</th>\n",
       "      <td>3</td>\n",
       "      <td>M</td>\n",
       "      <td>19561201</td>\n",
       "      <td>1</td>\n",
       "      <td>0.0</td>\n",
       "      <td>5</td>\n",
       "      <td>TEST</td>\n",
       "    </tr>\n",
       "    <tr>\n",
       "      <th>7</th>\n",
       "      <td>5</td>\n",
       "      <td>M</td>\n",
       "      <td>19290125</td>\n",
       "      <td>1</td>\n",
       "      <td>0.0</td>\n",
       "      <td>15</td>\n",
       "      <td>TRAIN</td>\n",
       "    </tr>\n",
       "    <tr>\n",
       "      <th>8</th>\n",
       "      <td>6</td>\n",
       "      <td>F</td>\n",
       "      <td>19380221</td>\n",
       "      <td>1</td>\n",
       "      <td>0.0</td>\n",
       "      <td>51</td>\n",
       "      <td>TRAIN</td>\n",
       "    </tr>\n",
       "  </tbody>\n",
       "</table>\n",
       "</div>"
      ],
      "text/plain": [
       "           ACCOUNT_ID GENDER  BIRTH_DT  ACTIVE  LOAN  DISTRICT_ID SET_SPLIT\n",
       "CLIENT_ID                                                                  \n",
       "1                   1      F  19701213       1   0.0           18     TRAIN\n",
       "2                   2      M  19450204       1   1.0            1     TRAIN\n",
       "4                   3      M  19561201       1   0.0            5      TEST\n",
       "7                   5      M  19290125       1   0.0           15     TRAIN\n",
       "8                   6      F  19380221       1   0.0           51     TRAIN"
      ]
     },
     "execution_count": 15,
     "metadata": {},
     "output_type": "execute_result"
    }
   ],
   "source": [
    "dfCustomers.head()"
   ]
  },
  {
   "cell_type": "code",
   "execution_count": 4,
   "id": "d96498a3",
   "metadata": {
    "scrolled": true
   },
   "outputs": [],
   "source": [
    "dfTransactions = pd.read_csv(\"transactions.csv\", delimiter = \",\")\n",
    "dfTransactions.set_index(\"TRANS_ID\", inplace = True)"
   ]
  },
  {
   "cell_type": "code",
   "execution_count": 5,
   "id": "b0f789e5",
   "metadata": {},
   "outputs": [
    {
     "data": {
      "text/html": [
       "<div>\n",
       "<style scoped>\n",
       "    .dataframe tbody tr th:only-of-type {\n",
       "        vertical-align: middle;\n",
       "    }\n",
       "\n",
       "    .dataframe tbody tr th {\n",
       "        vertical-align: top;\n",
       "    }\n",
       "\n",
       "    .dataframe thead th {\n",
       "        text-align: right;\n",
       "    }\n",
       "</style>\n",
       "<table border=\"1\" class=\"dataframe\">\n",
       "  <thead>\n",
       "    <tr style=\"text-align: right;\">\n",
       "      <th></th>\n",
       "      <th>ACCOUNT_ID</th>\n",
       "      <th>DATE</th>\n",
       "      <th>AMOUNT</th>\n",
       "      <th>BALANCE</th>\n",
       "      <th>TYPE</th>\n",
       "      <th>OPERATION</th>\n",
       "    </tr>\n",
       "    <tr>\n",
       "      <th>TRANS_ID</th>\n",
       "      <th></th>\n",
       "      <th></th>\n",
       "      <th></th>\n",
       "      <th></th>\n",
       "      <th></th>\n",
       "      <th></th>\n",
       "    </tr>\n",
       "  </thead>\n",
       "  <tbody>\n",
       "    <tr>\n",
       "      <th>695247</th>\n",
       "      <td>2378.0</td>\n",
       "      <td>1011993</td>\n",
       "      <td>700.0</td>\n",
       "      <td>700.0</td>\n",
       "      <td>CREDIT</td>\n",
       "      <td>CREDIT_IN_CASH</td>\n",
       "    </tr>\n",
       "    <tr>\n",
       "      <th>171812</th>\n",
       "      <td>576.0</td>\n",
       "      <td>1011993</td>\n",
       "      <td>900.0</td>\n",
       "      <td>900.0</td>\n",
       "      <td>CREDIT</td>\n",
       "      <td>CREDIT_IN_CASH</td>\n",
       "    </tr>\n",
       "    <tr>\n",
       "      <th>207264</th>\n",
       "      <td>704.0</td>\n",
       "      <td>1011993</td>\n",
       "      <td>1000.0</td>\n",
       "      <td>1000.0</td>\n",
       "      <td>CREDIT</td>\n",
       "      <td>CREDIT_IN_CASH</td>\n",
       "    </tr>\n",
       "    <tr>\n",
       "      <th>1117247</th>\n",
       "      <td>3818.0</td>\n",
       "      <td>1011993</td>\n",
       "      <td>600.0</td>\n",
       "      <td>600.0</td>\n",
       "      <td>CREDIT</td>\n",
       "      <td>CREDIT_IN_CASH</td>\n",
       "    </tr>\n",
       "    <tr>\n",
       "      <th>579373</th>\n",
       "      <td>1972.0</td>\n",
       "      <td>2011993</td>\n",
       "      <td>400.0</td>\n",
       "      <td>400.0</td>\n",
       "      <td>CREDIT</td>\n",
       "      <td>CREDIT_IN_CASH</td>\n",
       "    </tr>\n",
       "  </tbody>\n",
       "</table>\n",
       "</div>"
      ],
      "text/plain": [
       "          ACCOUNT_ID     DATE  AMOUNT  BALANCE    TYPE       OPERATION\n",
       "TRANS_ID                                                              \n",
       "695247        2378.0  1011993   700.0    700.0  CREDIT  CREDIT_IN_CASH\n",
       "171812         576.0  1011993   900.0    900.0  CREDIT  CREDIT_IN_CASH\n",
       "207264         704.0  1011993  1000.0   1000.0  CREDIT  CREDIT_IN_CASH\n",
       "1117247       3818.0  1011993   600.0    600.0  CREDIT  CREDIT_IN_CASH\n",
       "579373        1972.0  2011993   400.0    400.0  CREDIT  CREDIT_IN_CASH"
      ]
     },
     "execution_count": 5,
     "metadata": {},
     "output_type": "execute_result"
    }
   ],
   "source": [
    "dfTransactions.head()"
   ]
  },
  {
   "cell_type": "code",
   "execution_count": 6,
   "id": "6bd85497",
   "metadata": {},
   "outputs": [],
   "source": [
    "dfDistricts =  pd.read_csv(\"districts.csv\", delimiter = \",\")\n",
    "dfDistricts.set_index(\"DISTRICT_ID\", inplace = True)"
   ]
  },
  {
   "cell_type": "code",
   "execution_count": 7,
   "id": "e5028735",
   "metadata": {},
   "outputs": [
    {
     "data": {
      "text/html": [
       "<div>\n",
       "<style scoped>\n",
       "    .dataframe tbody tr th:only-of-type {\n",
       "        vertical-align: middle;\n",
       "    }\n",
       "\n",
       "    .dataframe tbody tr th {\n",
       "        vertical-align: top;\n",
       "    }\n",
       "\n",
       "    .dataframe thead th {\n",
       "        text-align: right;\n",
       "    }\n",
       "</style>\n",
       "<table border=\"1\" class=\"dataframe\">\n",
       "  <thead>\n",
       "    <tr style=\"text-align: right;\">\n",
       "      <th></th>\n",
       "      <th>N_INHAB</th>\n",
       "      <th>N_CITIES</th>\n",
       "      <th>URBAN_RATIO</th>\n",
       "      <th>AVG_SALARY</th>\n",
       "      <th>UNEMP_95</th>\n",
       "      <th>UNEMP_96</th>\n",
       "      <th>N_ENTR</th>\n",
       "      <th>CRIME_95</th>\n",
       "      <th>CRIME_96</th>\n",
       "    </tr>\n",
       "    <tr>\n",
       "      <th>DISTRICT_ID</th>\n",
       "      <th></th>\n",
       "      <th></th>\n",
       "      <th></th>\n",
       "      <th></th>\n",
       "      <th></th>\n",
       "      <th></th>\n",
       "      <th></th>\n",
       "      <th></th>\n",
       "      <th></th>\n",
       "    </tr>\n",
       "  </thead>\n",
       "  <tbody>\n",
       "    <tr>\n",
       "      <th>1</th>\n",
       "      <td>1204953</td>\n",
       "      <td>1</td>\n",
       "      <td>100.0</td>\n",
       "      <td>12541</td>\n",
       "      <td>0.29</td>\n",
       "      <td>0.43</td>\n",
       "      <td>167</td>\n",
       "      <td>85677</td>\n",
       "      <td>99107</td>\n",
       "    </tr>\n",
       "    <tr>\n",
       "      <th>2</th>\n",
       "      <td>88884</td>\n",
       "      <td>5</td>\n",
       "      <td>46.7</td>\n",
       "      <td>8507</td>\n",
       "      <td>1.67</td>\n",
       "      <td>1.85</td>\n",
       "      <td>132</td>\n",
       "      <td>2159</td>\n",
       "      <td>2674</td>\n",
       "    </tr>\n",
       "    <tr>\n",
       "      <th>3</th>\n",
       "      <td>75232</td>\n",
       "      <td>5</td>\n",
       "      <td>41.7</td>\n",
       "      <td>8980</td>\n",
       "      <td>1.95</td>\n",
       "      <td>2.21</td>\n",
       "      <td>111</td>\n",
       "      <td>2824</td>\n",
       "      <td>2813</td>\n",
       "    </tr>\n",
       "    <tr>\n",
       "      <th>4</th>\n",
       "      <td>149893</td>\n",
       "      <td>6</td>\n",
       "      <td>67.4</td>\n",
       "      <td>9753</td>\n",
       "      <td>4.64</td>\n",
       "      <td>5.05</td>\n",
       "      <td>109</td>\n",
       "      <td>5244</td>\n",
       "      <td>5892</td>\n",
       "    </tr>\n",
       "    <tr>\n",
       "      <th>5</th>\n",
       "      <td>95616</td>\n",
       "      <td>6</td>\n",
       "      <td>51.4</td>\n",
       "      <td>9307</td>\n",
       "      <td>3.85</td>\n",
       "      <td>4.43</td>\n",
       "      <td>118</td>\n",
       "      <td>2616</td>\n",
       "      <td>3040</td>\n",
       "    </tr>\n",
       "  </tbody>\n",
       "</table>\n",
       "</div>"
      ],
      "text/plain": [
       "             N_INHAB  N_CITIES  URBAN_RATIO  AVG_SALARY UNEMP_95  UNEMP_96  \\\n",
       "DISTRICT_ID                                                                  \n",
       "1            1204953         1        100.0       12541     0.29      0.43   \n",
       "2              88884         5         46.7        8507     1.67      1.85   \n",
       "3              75232         5         41.7        8980     1.95      2.21   \n",
       "4             149893         6         67.4        9753     4.64      5.05   \n",
       "5              95616         6         51.4        9307     3.85      4.43   \n",
       "\n",
       "             N_ENTR CRIME_95  CRIME_96  \n",
       "DISTRICT_ID                             \n",
       "1               167    85677     99107  \n",
       "2               132     2159      2674  \n",
       "3               111     2824      2813  \n",
       "4               109     5244      5892  \n",
       "5               118     2616      3040  "
      ]
     },
     "execution_count": 7,
     "metadata": {},
     "output_type": "execute_result"
    }
   ],
   "source": [
    "dfDistricts.head()"
   ]
  },
  {
   "cell_type": "markdown",
   "id": "4ae7dc90",
   "metadata": {},
   "source": [
    "# DATA EXPLORATION"
   ]
  },
  {
   "cell_type": "markdown",
   "id": "5b473e60",
   "metadata": {},
   "source": [
    "## Exploring Data Types"
   ]
  },
  {
   "cell_type": "markdown",
   "id": "1a5c6033",
   "metadata": {},
   "source": [
    "### dfCustomers"
   ]
  },
  {
   "cell_type": "markdown",
   "id": "f18b66ed",
   "metadata": {},
   "source": [
    "\"LOAN\" field should be either 1 or 0 by description. Usually such fields have integer data types. However, it looks as float64, it s a sign that this field can include some unexpected data."
   ]
  },
  {
   "cell_type": "code",
   "execution_count": 8,
   "id": "05723712",
   "metadata": {},
   "outputs": [
    {
     "name": "stdout",
     "output_type": "stream",
     "text": [
      "<class 'pandas.core.frame.DataFrame'>\n",
      "Int64Index: 4450 entries, 1 to 13998\n",
      "Data columns (total 7 columns):\n",
      " #   Column       Non-Null Count  Dtype  \n",
      "---  ------       --------------  -----  \n",
      " 0   ACCOUNT_ID   4450 non-null   int64  \n",
      " 1   GENDER       4450 non-null   object \n",
      " 2   BIRTH_DT     4450 non-null   int64  \n",
      " 3   ACTIVE       4450 non-null   int64  \n",
      " 4   LOAN         4400 non-null   float64\n",
      " 5   DISTRICT_ID  4450 non-null   int64  \n",
      " 6   SET_SPLIT    4450 non-null   object \n",
      "dtypes: float64(1), int64(4), object(2)\n",
      "memory usage: 278.1+ KB\n"
     ]
    }
   ],
   "source": [
    "dfCustomers.info()"
   ]
  },
  {
   "cell_type": "markdown",
   "id": "21d5d54e",
   "metadata": {},
   "source": [
    "Confirming that each client has only 1 account id in dfCustomers dataset."
   ]
  },
  {
   "cell_type": "code",
   "execution_count": 65,
   "id": "d651e8f9",
   "metadata": {},
   "outputs": [
    {
     "data": {
      "text/plain": [
       "True"
      ]
     },
     "execution_count": 65,
     "metadata": {},
     "output_type": "execute_result"
    }
   ],
   "source": [
    "len(dfCustomers.index.unique()) == len(dfCustomers[\"ACCOUNT_ID\"].unique())"
   ]
  },
  {
   "cell_type": "markdown",
   "id": "31924a36",
   "metadata": {},
   "source": [
    "### dfDistricts"
   ]
  },
  {
   "cell_type": "markdown",
   "id": "c9c20df4",
   "metadata": {},
   "source": [
    "\"UNEMP_95\" and \"CRIME_95\" fields look as object data type. By description of field, \"UNEMP_95\" should represent unemployment ratio which is float, however it looks as object. Similarly, \"CRIME_95\" field represents number of committed crimes which should be in integer type. However, it also looks as object. These are signs that, the fields of \"UNEMP_95\" and \"CRIME_95\" contain some unexpected data."
   ]
  },
  {
   "cell_type": "code",
   "execution_count": 9,
   "id": "3d3960f0",
   "metadata": {
    "scrolled": true
   },
   "outputs": [
    {
     "name": "stdout",
     "output_type": "stream",
     "text": [
      "<class 'pandas.core.frame.DataFrame'>\n",
      "Int64Index: 77 entries, 1 to 77\n",
      "Data columns (total 9 columns):\n",
      " #   Column       Non-Null Count  Dtype  \n",
      "---  ------       --------------  -----  \n",
      " 0   N_INHAB      77 non-null     int64  \n",
      " 1   N_CITIES     77 non-null     int64  \n",
      " 2   URBAN_RATIO  77 non-null     float64\n",
      " 3   AVG_SALARY   77 non-null     int64  \n",
      " 4   UNEMP_95     77 non-null     object \n",
      " 5   UNEMP_96     77 non-null     float64\n",
      " 6   N_ENTR       77 non-null     int64  \n",
      " 7   CRIME_95     77 non-null     object \n",
      " 8   CRIME_96     77 non-null     int64  \n",
      "dtypes: float64(2), int64(5), object(2)\n",
      "memory usage: 6.0+ KB\n"
     ]
    }
   ],
   "source": [
    "dfDistricts.info()"
   ]
  },
  {
   "cell_type": "markdown",
   "id": "c10dab32",
   "metadata": {},
   "source": [
    "### dfTransactions"
   ]
  },
  {
   "cell_type": "code",
   "execution_count": 10,
   "id": "89f3370e",
   "metadata": {},
   "outputs": [
    {
     "name": "stdout",
     "output_type": "stream",
     "text": [
      "<class 'pandas.core.frame.DataFrame'>\n",
      "Int64Index: 1066320 entries, 695247 to 3624981\n",
      "Data columns (total 6 columns):\n",
      " #   Column      Non-Null Count    Dtype  \n",
      "---  ------      --------------    -----  \n",
      " 0   ACCOUNT_ID  1061320 non-null  float64\n",
      " 1   DATE        1066320 non-null  int64  \n",
      " 2   AMOUNT      1066320 non-null  float64\n",
      " 3   BALANCE     1066320 non-null  float64\n",
      " 4   TYPE        1066320 non-null  object \n",
      " 5   OPERATION   881436 non-null   object \n",
      "dtypes: float64(3), int64(1), object(2)\n",
      "memory usage: 56.9+ MB\n"
     ]
    }
   ],
   "source": [
    "dfTransactions.info()"
   ]
  },
  {
   "cell_type": "markdown",
   "id": "41bbac5b",
   "metadata": {},
   "source": [
    "## Exploring Missing Data"
   ]
  },
  {
   "cell_type": "markdown",
   "id": "7ccbc9e1",
   "metadata": {},
   "source": [
    "### dfCustomers"
   ]
  },
  {
   "cell_type": "markdown",
   "id": "f8634296",
   "metadata": {},
   "source": [
    "Only field 'LOAN' includes NaN values in dfCustomers dataframe."
   ]
  },
  {
   "cell_type": "code",
   "execution_count": 11,
   "id": "e8ced56b",
   "metadata": {},
   "outputs": [
    {
     "data": {
      "text/plain": [
       "['LOAN']"
      ]
     },
     "execution_count": 11,
     "metadata": {},
     "output_type": "execute_result"
    }
   ],
   "source": [
    "dfCustomers.columns[dfCustomers.isna().any()].tolist()"
   ]
  },
  {
   "cell_type": "markdown",
   "id": "d6064e46",
   "metadata": {},
   "source": [
    "Checking unique fields to be sure if any other missing values except NaN. Unique values are sorted to detect missing values on the boundaries of the sorted array."
   ]
  },
  {
   "cell_type": "code",
   "execution_count": 18,
   "id": "b7c8ed18",
   "metadata": {},
   "outputs": [
    {
     "data": {
      "text/plain": [
       "array([    1,     2,     4, ..., 13968, 13971, 13998], dtype=int64)"
      ]
     },
     "execution_count": 18,
     "metadata": {},
     "output_type": "execute_result"
    }
   ],
   "source": [
    "np.sort(dfCustomers.index.unique())"
   ]
  },
  {
   "cell_type": "code",
   "execution_count": 19,
   "id": "b75fe89e",
   "metadata": {},
   "outputs": [
    {
     "data": {
      "text/plain": [
       "array([    1,     2,     3, ..., 11359, 11362, 11382], dtype=int64)"
      ]
     },
     "execution_count": 19,
     "metadata": {},
     "output_type": "execute_result"
    }
   ],
   "source": [
    "np.sort(dfCustomers[\"ACCOUNT_ID\"].unique())"
   ]
  },
  {
   "cell_type": "code",
   "execution_count": 20,
   "id": "1fdbc0ab",
   "metadata": {},
   "outputs": [
    {
     "data": {
      "text/plain": [
       "array(['F', 'M'], dtype=object)"
      ]
     },
     "execution_count": 20,
     "metadata": {},
     "output_type": "execute_result"
    }
   ],
   "source": [
    "np.sort(dfCustomers[\"GENDER\"].unique())"
   ]
  },
  {
   "cell_type": "code",
   "execution_count": 21,
   "id": "159ca89d",
   "metadata": {},
   "outputs": [
    {
     "data": {
      "text/plain": [
       "array([19180107, 19180111, 19180116, ..., 19821005, 19821020, 19821211],\n",
       "      dtype=int64)"
      ]
     },
     "execution_count": 21,
     "metadata": {},
     "output_type": "execute_result"
    }
   ],
   "source": [
    "np.sort(dfCustomers[\"BIRTH_DT\"].unique())"
   ]
  },
  {
   "cell_type": "code",
   "execution_count": 22,
   "id": "4eaef0b6",
   "metadata": {},
   "outputs": [
    {
     "data": {
      "text/plain": [
       "array([1], dtype=int64)"
      ]
     },
     "execution_count": 22,
     "metadata": {},
     "output_type": "execute_result"
    }
   ],
   "source": [
    "np.sort(dfCustomers[\"ACTIVE\"].unique())"
   ]
  },
  {
   "cell_type": "code",
   "execution_count": 23,
   "id": "bf693e77",
   "metadata": {},
   "outputs": [
    {
     "data": {
      "text/plain": [
       "array([ 0.,  1., nan])"
      ]
     },
     "execution_count": 23,
     "metadata": {},
     "output_type": "execute_result"
    }
   ],
   "source": [
    "np.sort(dfCustomers[\"LOAN\"].unique())"
   ]
  },
  {
   "cell_type": "code",
   "execution_count": 24,
   "id": "317cc039",
   "metadata": {},
   "outputs": [
    {
     "data": {
      "text/plain": [
       "array([ 1,  2,  3,  4,  5,  6,  7,  8,  9, 10, 11, 12, 13, 14, 15, 16, 17,\n",
       "       18, 19, 20, 21, 22, 23, 24, 25, 26, 27, 28, 29, 30, 31, 32, 33, 34,\n",
       "       35, 36, 37, 38, 39, 40, 41, 42, 43, 44, 45, 46, 47, 48, 49, 50, 51,\n",
       "       52, 53, 54, 55, 56, 57, 58, 59, 60, 61, 62, 63, 64, 65, 66, 67, 68,\n",
       "       69, 70, 71, 72, 73, 74, 75, 76, 77], dtype=int64)"
      ]
     },
     "execution_count": 24,
     "metadata": {},
     "output_type": "execute_result"
    }
   ],
   "source": [
    "np.sort(dfCustomers[\"DISTRICT_ID\"].unique())"
   ]
  },
  {
   "cell_type": "code",
   "execution_count": 25,
   "id": "8ad58f8d",
   "metadata": {},
   "outputs": [
    {
     "data": {
      "text/plain": [
       "array(['TEST', 'TRAIN'], dtype=object)"
      ]
     },
     "execution_count": 25,
     "metadata": {},
     "output_type": "execute_result"
    }
   ],
   "source": [
    "np.sort(dfCustomers[\"SET_SPLIT\"].unique())"
   ]
  },
  {
   "cell_type": "markdown",
   "id": "a3c23505",
   "metadata": {},
   "source": [
    "### dfDistricts"
   ]
  },
  {
   "cell_type": "markdown",
   "id": "da39fa37",
   "metadata": {},
   "source": [
    "Looks like there is no field that contains NaN value in dfDistricts."
   ]
  },
  {
   "cell_type": "code",
   "execution_count": 26,
   "id": "88cef91b",
   "metadata": {},
   "outputs": [
    {
     "data": {
      "text/plain": [
       "[]"
      ]
     },
     "execution_count": 26,
     "metadata": {},
     "output_type": "execute_result"
    }
   ],
   "source": [
    "dfDistricts.columns[dfDistricts.isna().any()].tolist()"
   ]
  },
  {
   "cell_type": "markdown",
   "id": "826668c0",
   "metadata": {},
   "source": [
    "Checking unique fields to be sure if any other missing values except NaN. Unique values are sorted to detect missing values on the boundaries of the sorted array."
   ]
  },
  {
   "cell_type": "code",
   "execution_count": 28,
   "id": "c6622b72",
   "metadata": {},
   "outputs": [
    {
     "data": {
      "text/plain": [
       "array([ 1,  2,  3,  4,  5,  6,  7,  8,  9, 10, 11, 12, 13, 14, 15, 16, 17,\n",
       "       18, 19, 20, 21, 22, 23, 24, 25, 26, 27, 28, 29, 30, 31, 32, 33, 34,\n",
       "       35, 36, 37, 38, 39, 40, 41, 42, 43, 44, 45, 46, 47, 48, 49, 50, 51,\n",
       "       52, 53, 54, 55, 56, 57, 58, 59, 60, 61, 62, 63, 64, 65, 66, 67, 68,\n",
       "       69, 70, 71, 72, 73, 74, 75, 76, 77], dtype=int64)"
      ]
     },
     "execution_count": 28,
     "metadata": {},
     "output_type": "execute_result"
    }
   ],
   "source": [
    "np.sort(dfDistricts.index.unique())"
   ]
  },
  {
   "cell_type": "code",
   "execution_count": 29,
   "id": "0a8e0b75",
   "metadata": {},
   "outputs": [
    {
     "data": {
      "text/plain": [
       "array([  42821,   45714,   51313,   51428,   53921,   58400,   58796,\n",
       "         67298,   70646,   70699,   72541,   74062,   75232,   75637,\n",
       "         75685,   77917,   77963,   78955,   81344,   85852,   86513,\n",
       "         87419,   88757,   88768,   88884,   92084,   93931,   94725,\n",
       "         94812,   95616,   95907,  102609,  103347,  105058,  105606,\n",
       "        106054,  107870,  107911,  108871,  109164,  110643,  112065,\n",
       "        112709,  114006,  114200,  117897,  118650,  119895,  121947,\n",
       "        122603,  124605,  125236,  125832,  127369,  128118,  133777,\n",
       "        138032,  139012,  145688,  148545,  149893,  157042,  159617,\n",
       "        161227,  161854,  161954,  162580,  170449,  177686,  182027,\n",
       "        197099,  226122,  228848,  285387,  323870,  387570, 1204953],\n",
       "      dtype=int64)"
      ]
     },
     "execution_count": 29,
     "metadata": {},
     "output_type": "execute_result"
    }
   ],
   "source": [
    "np.sort(dfDistricts[\"N_INHAB\"].unique())"
   ]
  },
  {
   "cell_type": "code",
   "execution_count": 30,
   "id": "1829c7af",
   "metadata": {},
   "outputs": [
    {
     "data": {
      "text/plain": [
       "array([ 1,  2,  3,  4,  5,  6,  7,  8,  9, 10, 11], dtype=int64)"
      ]
     },
     "execution_count": 30,
     "metadata": {},
     "output_type": "execute_result"
    }
   ],
   "source": [
    "np.sort(dfDistricts[\"N_CITIES\"].unique())"
   ]
  },
  {
   "cell_type": "code",
   "execution_count": 31,
   "id": "d8e0e314",
   "metadata": {},
   "outputs": [
    {
     "data": {
      "text/plain": [
       "array([ 33.9,  36.5,  36.9,  40.7,  41.3,  41.7,  43.7,  43.8,  46. ,\n",
       "        46.7,  48. ,  48.3,  48.4,  50.5,  50.9,  51.2,  51.4,  51.5,\n",
       "        51.9,  52. ,  52.4,  52.7,  53. ,  53.5,  53.8,  55.3,  55.6,\n",
       "        56.4,  56.9,  57.2,  58. ,  58.4,  59. ,  59.1,  59.2,  59.8,\n",
       "        60.8,  61.4,  61.7,  61.9,  62.1,  62.3,  62.6,  63.1,  63.4,\n",
       "        63.6,  64.6,  65.3,  67. ,  67.4,  69.4,  69.7,  70.5,  72.8,\n",
       "        73.5,  74.7,  74.8,  76.3,  80. ,  80.5,  81. ,  81.8,  84.7,\n",
       "        85.2,  85.3,  85.5,  85.6,  87.7,  89.9, 100. ])"
      ]
     },
     "execution_count": 31,
     "metadata": {},
     "output_type": "execute_result"
    }
   ],
   "source": [
    "np.sort(dfDistricts[\"URBAN_RATIO\"].unique())"
   ]
  },
  {
   "cell_type": "code",
   "execution_count": 32,
   "id": "14999214",
   "metadata": {},
   "outputs": [
    {
     "data": {
      "text/plain": [
       "array([ 8110,  8114,  8173,  8187,  8208,  8240,  8254,  8288,  8363,\n",
       "        8369,  8388,  8390,  8402,  8403,  8427,  8441,  8444,  8507,\n",
       "        8512,  8541,  8544,  8546,  8547,  8554,  8561,  8594,  8598,\n",
       "        8620,  8624,  8678,  8705,  8720,  8743,  8746,  8754,  8757,\n",
       "        8772,  8814,  8819,  8843,  8867,  8899,  8909,  8930,  8965,\n",
       "        8968,  8980,  8991,  8994,  9045,  9060,  9065,  9104,  9198,\n",
       "        9272,  9307,  9317,  9425,  9538,  9622,  9624,  9650,  9675,\n",
       "        9753,  9832,  9893,  9897,  9920, 10045, 10124, 10177, 10446,\n",
       "       10673, 10787, 11277, 12541], dtype=int64)"
      ]
     },
     "execution_count": 32,
     "metadata": {},
     "output_type": "execute_result"
    }
   ],
   "source": [
    "np.sort(dfDistricts[\"AVG_SALARY\"].unique())"
   ]
  },
  {
   "cell_type": "markdown",
   "id": "b3677fb0",
   "metadata": {},
   "source": [
    "\"UNEMP_95\" field contains value of question mark character '?'."
   ]
  },
  {
   "cell_type": "code",
   "execution_count": 33,
   "id": "2464568c",
   "metadata": {},
   "outputs": [
    {
     "data": {
      "text/plain": [
       "array(['0.29', '0.45', '0.56', '0.65', '1.02', '1.10', '1.12', '1.25',\n",
       "       '1.29', '1.39', '1.42', '1.51', '1.60', '1.62', '1.67', '1.72',\n",
       "       '1.78', '1.79', '1.88', '1.89', '1.95', '2.26', '2.28', '2.38',\n",
       "       '2.41', '2.47', '2.51', '2.52', '2.53', '2.64', '2.65', '2.77',\n",
       "       '2.79', '2.80', '2.82', '2.83', '2.95', '3.13', '3.24', '3.32',\n",
       "       '3.33', '3.38', '3.39', '3.45', '3.51', '3.52', '3.73', '3.79',\n",
       "       '3.80', '3.83', '3.85', '4.01', '4.09', '4.46', '4.64', '4.69',\n",
       "       '4.73', '4.75', '4.76', '4.83', '5.38', '5.74', '5.75', '5.77',\n",
       "       '5.93', '6.43', '6.49', '6.63', '7.08', '7.34', '?'], dtype=object)"
      ]
     },
     "execution_count": 33,
     "metadata": {},
     "output_type": "execute_result"
    }
   ],
   "source": [
    "np.sort(dfDistricts[\"UNEMP_95\"].unique())"
   ]
  },
  {
   "cell_type": "code",
   "execution_count": 34,
   "id": "8e6e9974",
   "metadata": {},
   "outputs": [
    {
     "data": {
      "text/plain": [
       "array([0.43, 0.54, 0.59, 1.21, 1.25, 1.29, 1.44, 1.54, 1.71, 1.81, 1.85,\n",
       "       1.86, 1.96, 2.01, 2.07, 2.21, 2.26, 2.31, 2.43, 2.44, 2.5 , 2.62,\n",
       "       2.66, 2.68, 2.87, 2.89, 2.94, 2.97, 3.09, 3.22, 3.26, 3.35, 3.47,\n",
       "       3.49, 3.56, 3.6 , 3.64, 3.67, 3.74, 3.76, 3.95, 3.97, 3.98, 4.02,\n",
       "       4.12, 4.2 , 4.28, 4.31, 4.43, 4.48, 4.5 , 4.52, 4.72, 4.79, 4.98,\n",
       "       5.05, 5.39, 5.44, 5.45, 5.56, 5.57, 5.66, 5.72, 5.74, 5.88, 6.55,\n",
       "       7.01, 7.07, 7.61, 7.68, 7.75, 8.23, 9.4 ])"
      ]
     },
     "execution_count": 34,
     "metadata": {},
     "output_type": "execute_result"
    }
   ],
   "source": [
    "np.sort(dfDistricts[\"UNEMP_96\"].unique())"
   ]
  },
  {
   "cell_type": "code",
   "execution_count": 35,
   "id": "e2b5a8c8",
   "metadata": {},
   "outputs": [
    {
     "data": {
      "text/plain": [
       "array([ 81,  87,  90,  94,  96,  97,  99, 100, 102, 104, 105, 106, 107,\n",
       "       108, 109, 110, 111, 112, 113, 114, 115, 116, 117, 118, 119, 120,\n",
       "       123, 124, 125, 126, 127, 128, 130, 131, 132, 135, 137, 140, 141,\n",
       "       145, 149, 154, 155, 167], dtype=int64)"
      ]
     },
     "execution_count": 35,
     "metadata": {},
     "output_type": "execute_result"
    }
   ],
   "source": [
    "np.sort(dfDistricts[\"N_ENTR\"].unique())"
   ]
  },
  {
   "cell_type": "markdown",
   "id": "929e948f",
   "metadata": {},
   "source": [
    "\"CRIME_95\" field contains value of question mark character '?'."
   ]
  },
  {
   "cell_type": "code",
   "execution_count": 36,
   "id": "4d38a436",
   "metadata": {},
   "outputs": [
    {
     "data": {
      "text/plain": [
       "array(['1003', '1029', '1089', '1328', '1562', '1563', '1580', '1597',\n",
       "       '1655', '1658', '1660', '1740', '1822', '1845', '1850', '18721',\n",
       "       '1874', '18782', '1879', '2080', '2112', '2123', '2157', '2159',\n",
       "       '2166', '2212', '2247', '2299', '2564', '2595', '2616', '2640',\n",
       "       '2653', '2719', '2824', '2854', '2879', '2985', '2987', '3244',\n",
       "       '3384', '3460', '3475', '3496', '3659', '3729', '3736', '3804',\n",
       "       '3810', '4063', '4085', '4147', '4289', '4340', '4355', '4484',\n",
       "       '4650', '4947', '4980', '5179', '5198', '5244', '5323', '5623',\n",
       "       '5796', '6041', '6079', '6445', '6604', '6949', '818', '85677',\n",
       "       '9672', '9878', '999', '?'], dtype=object)"
      ]
     },
     "execution_count": 36,
     "metadata": {},
     "output_type": "execute_result"
    }
   ],
   "source": [
    "np.sort(dfDistricts[\"CRIME_95\"].unique())"
   ]
  },
  {
   "cell_type": "code",
   "execution_count": 37,
   "id": "a4a6d9a1",
   "metadata": {
    "scrolled": true
   },
   "outputs": [
    {
     "data": {
      "text/plain": [
       "array([  888,  1099,  1117,  1127,  1181,  1358,  1452,  1460,  1525,\n",
       "        1542,  1668,  1717,  1875,  1879,  1903,  1910,  1913,  2059,\n",
       "        2103,  2122,  2123,  2134,  2218,  2252,  2305,  2325,  2354,\n",
       "        2471,  2487,  2618,  2674,  2718,  2799,  2804,  2807,  2813,\n",
       "        2822,  2906,  3040,  3079,  3120,  3158,  3198,  3529,  3590,\n",
       "        3620,  3651,  3839,  3868,  3891,  3894,  4166,  4265,  4316,\n",
       "        4433,  4505,  4595,  4743,  4846,  4859,  4987,  5190,  5273,\n",
       "        5410,  5471,  5887,  5892,  6132,  6261,  6295,  6872,  9208,\n",
       "       10108, 18347, 18696, 99107], dtype=int64)"
      ]
     },
     "execution_count": 37,
     "metadata": {},
     "output_type": "execute_result"
    }
   ],
   "source": [
    "np.sort(dfDistricts[\"CRIME_96\"].unique())"
   ]
  },
  {
   "cell_type": "markdown",
   "id": "009dcb74",
   "metadata": {},
   "source": [
    "### dfTransactions"
   ]
  },
  {
   "cell_type": "markdown",
   "id": "25c08bc6",
   "metadata": {},
   "source": [
    "\"ACCOUNT_ID\" and \"OPERATION\" operation fields contain NaN values."
   ]
  },
  {
   "cell_type": "code",
   "execution_count": 38,
   "id": "f55ac689",
   "metadata": {},
   "outputs": [
    {
     "data": {
      "text/plain": [
       "['ACCOUNT_ID', 'OPERATION']"
      ]
     },
     "execution_count": 38,
     "metadata": {},
     "output_type": "execute_result"
    }
   ],
   "source": [
    "dfTransactions.columns[dfTransactions.isna().any()].tolist()"
   ]
  },
  {
   "cell_type": "code",
   "execution_count": 40,
   "id": "86732846",
   "metadata": {},
   "outputs": [
    {
     "data": {
      "text/plain": [
       "array([      1,       5,       6, ..., 3682985, 3682986, 3682987],\n",
       "      dtype=int64)"
      ]
     },
     "execution_count": 40,
     "metadata": {},
     "output_type": "execute_result"
    }
   ],
   "source": [
    "np.sort(dfTransactions.index.unique())"
   ]
  },
  {
   "cell_type": "markdown",
   "id": "be82ee4d",
   "metadata": {},
   "source": [
    "\"ACCOUNT_ID\" field contains NaN values."
   ]
  },
  {
   "cell_type": "code",
   "execution_count": 41,
   "id": "480b3863",
   "metadata": {},
   "outputs": [
    {
     "data": {
      "text/plain": [
       "array([1.0000e+00, 2.0000e+00, 3.0000e+00, ..., 1.1362e+04, 1.1382e+04,\n",
       "              nan])"
      ]
     },
     "execution_count": 41,
     "metadata": {},
     "output_type": "execute_result"
    }
   ],
   "source": [
    "np.sort(dfTransactions[\"ACCOUNT_ID\"].unique())"
   ]
  },
  {
   "cell_type": "markdown",
   "id": "6ca94d32",
   "metadata": {},
   "source": [
    "\"DATE\" field doesn't contain NaN value but date format is not in MMDDYYY format for some values. Looks like instead of YYY, some of them have YYYY. "
   ]
  },
  {
   "cell_type": "code",
   "execution_count": 42,
   "id": "7758fb98",
   "metadata": {},
   "outputs": [
    {
     "data": {
      "text/plain": [
       "array([ 1011993,  1011994,  1011995, ..., 31121996, 31121997, 31121998],\n",
       "      dtype=int64)"
      ]
     },
     "execution_count": 42,
     "metadata": {},
     "output_type": "execute_result"
    }
   ],
   "source": [
    "np.sort(dfTransactions[\"DATE\"].unique())"
   ]
  },
  {
   "cell_type": "code",
   "execution_count": 43,
   "id": "a4ddb375",
   "metadata": {},
   "outputs": [
    {
     "data": {
      "text/plain": [
       "array([0.00e+00, 1.00e-01, 2.00e-01, ..., 8.64e+04, 8.73e+04, 8.74e+04])"
      ]
     },
     "execution_count": 43,
     "metadata": {},
     "output_type": "execute_result"
    }
   ],
   "source": [
    "np.sort(dfTransactions[\"AMOUNT\"].unique())"
   ]
  },
  {
   "cell_type": "code",
   "execution_count": 44,
   "id": "aea6b767",
   "metadata": {},
   "outputs": [
    {
     "data": {
      "text/plain": [
       "array([-41125.7, -40938.4, -40817. , ..., 194119.3, 196106.5, 209637. ])"
      ]
     },
     "execution_count": 44,
     "metadata": {},
     "output_type": "execute_result"
    }
   ],
   "source": [
    "np.sort(dfTransactions[\"BALANCE\"].unique())"
   ]
  },
  {
   "cell_type": "code",
   "execution_count": 45,
   "id": "a64caa94",
   "metadata": {},
   "outputs": [
    {
     "data": {
      "text/plain": [
       "array(['CREDIT', 'WITHDRAWAL'], dtype=object)"
      ]
     },
     "execution_count": 45,
     "metadata": {},
     "output_type": "execute_result"
    }
   ],
   "source": [
    "np.sort(dfTransactions[\"TYPE\"].unique())"
   ]
  },
  {
   "cell_type": "markdown",
   "id": "0c797b8c",
   "metadata": {},
   "source": [
    "\"ACCOUNT_ID\" field contains NaN values."
   ]
  },
  {
   "cell_type": "code",
   "execution_count": 46,
   "id": "cf85c8e1",
   "metadata": {
    "scrolled": true
   },
   "outputs": [
    {
     "data": {
      "text/plain": [
       "array(['CREDIT_IN_CASH', 'COLLECTION_FROM_OTHER_BANK', nan,\n",
       "       'WITHDRAWAL_IN_CASH', 'REMITTANCE_TO_OTHER_BANK', 'CC_WITHDRAWAL'],\n",
       "      dtype=object)"
      ]
     },
     "execution_count": 46,
     "metadata": {},
     "output_type": "execute_result"
    }
   ],
   "source": [
    "dfTransactions[\"OPERATION\"].unique()"
   ]
  },
  {
   "cell_type": "markdown",
   "id": "093b4203",
   "metadata": {},
   "source": [
    "# PREPROCESSING"
   ]
  },
  {
   "cell_type": "markdown",
   "id": "203f4e83",
   "metadata": {},
   "source": [
    "Data preprocessing is applied to the copied datasets since some fields may be good enough for exploratory analysis but not complied for predictive model. That's why, preprocessing is applied only to the datasets that will be used in predictive models."
   ]
  },
  {
   "cell_type": "code",
   "execution_count": 47,
   "id": "148e8b50",
   "metadata": {},
   "outputs": [],
   "source": [
    "dfCustomersModel = dfCustomers.copy()\n",
    "dfTransactionsModel = dfTransactions.copy()\n",
    "dfDistrictsModel = dfDistricts.copy()"
   ]
  },
  {
   "cell_type": "markdown",
   "id": "1dd63041",
   "metadata": {},
   "source": [
    "## Missing Data Handling"
   ]
  },
  {
   "cell_type": "markdown",
   "id": "cf7df1c7",
   "metadata": {},
   "source": [
    "### LOAN"
   ]
  },
  {
   "cell_type": "markdown",
   "id": "9f8b5d89",
   "metadata": {},
   "source": [
    "There are 50 customers which have NaN value on their \"LOAN\" field. Empty \"LOAN\" data can't be used for training or testing purposes. That's why, the customers which don't have \"LOAN\" information are dropped from dfCustomersModel and dfTransactionsModel datasets."
   ]
  },
  {
   "cell_type": "code",
   "execution_count": 106,
   "id": "334a0a2a",
   "metadata": {
    "scrolled": true
   },
   "outputs": [],
   "source": [
    "dfCustomersMissingLoan = dfCustomers[dfCustomers[\"LOAN\"].isna()]\n",
    "\n",
    "dfTransactionsMissingLoan = dfTransactions.reset_index().merge(\n",
    "    dfCustomersMissingLoan, \n",
    "    how = \"inner\", \n",
    "    on = \"ACCOUNT_ID\").set_index(\"TRANS_ID\")\n",
    "\n",
    "\n",
    "dfTransactionsModel.drop(dfTransactionsMissingLoan.index, inplace = True)\n",
    "dfCustomersModel.drop(dfCustomersMissingLoan.index, inplace = True)"
   ]
  },
  {
   "cell_type": "markdown",
   "id": "15ec9b68",
   "metadata": {},
   "source": [
    "### UNEMP_95"
   ]
  },
  {
   "cell_type": "code",
   "execution_count": null,
   "id": "e9219f00",
   "metadata": {},
   "outputs": [],
   "source": []
  }
 ],
 "metadata": {
  "kernelspec": {
   "display_name": "Python 3",
   "language": "python",
   "name": "python3"
  },
  "language_info": {
   "codemirror_mode": {
    "name": "ipython",
    "version": 3
   },
   "file_extension": ".py",
   "mimetype": "text/x-python",
   "name": "python",
   "nbconvert_exporter": "python",
   "pygments_lexer": "ipython3",
   "version": "3.7.10"
  },
  "varInspector": {
   "cols": {
    "lenName": 16,
    "lenType": 16,
    "lenVar": 40
   },
   "kernels_config": {
    "python": {
     "delete_cmd_postfix": "",
     "delete_cmd_prefix": "del ",
     "library": "var_list.py",
     "varRefreshCmd": "print(var_dic_list())"
    },
    "r": {
     "delete_cmd_postfix": ") ",
     "delete_cmd_prefix": "rm(",
     "library": "var_list.r",
     "varRefreshCmd": "cat(var_dic_list()) "
    }
   },
   "types_to_exclude": [
    "module",
    "function",
    "builtin_function_or_method",
    "instance",
    "_Feature"
   ],
   "window_display": false
  }
 },
 "nbformat": 4,
 "nbformat_minor": 5
}
