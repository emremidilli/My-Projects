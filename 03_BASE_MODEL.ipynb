{
 "cells": [
  {
   "cell_type": "code",
   "execution_count": 1,
   "id": "ae6ae86a-8a61-40b1-9bfe-847f7a256879",
   "metadata": {},
   "outputs": [
    {
     "name": "stderr",
     "output_type": "stream",
     "text": [
      "WARNING:absl:Found untraced functions such as _update_step_xla while saving (showing 1 of 1). These functions will not be directly callable after loading.\n"
     ]
    },
    {
     "name": "stdout",
     "output_type": "stream",
     "text": [
      "INFO:tensorflow:Assets written to: Models\\Data_Augmentaiton\\Base_Model\\assets\n"
     ]
    },
    {
     "name": "stderr",
     "output_type": "stream",
     "text": [
      "INFO:tensorflow:Assets written to: Models\\Data_Augmentaiton\\Base_Model\\assets\n"
     ]
    }
   ],
   "source": [
    "import CONSTANTS as c\n",
    "import tensorflow as tf\n",
    "\n",
    "FFT_AC_COEFFICIENT = c.FFT_AC_COEFFICIENT\n",
    "BACKWARD_WINDOW_LENGTH = c.BACKWARD_WINDOW_LENGTH\n",
    "NR_OF_BINS = c.NR_OF_BINS\n",
    "DATA_AUGMENTATION_BASE_MODEL_PATH = c.DATA_AUGMENTATION_BASE_MODEL_PATH\n",
    "\n",
    "TermInput = tf.keras.Input(\n",
    "    shape=(BACKWARD_WINDOW_LENGTH,FFT_AC_COEFFICIENT)\n",
    ")\n",
    "\n",
    "W = TermInput\n",
    "\n",
    "W = tf.keras.layers.Flatten()(W)\n",
    "for _ in range(2):\n",
    "    W = tf.keras.layers.Dense(256)(W)\n",
    "    W = tf.keras.layers.ReLU()(W)\n",
    "    W = tf.keras.layers.Dropout(0.1)(W)\n",
    "\n",
    "W = tf.keras.layers.Dense(NR_OF_BINS/2, activation = 'sigmoid')(W)\n",
    "\n",
    "ModelOutput = W\n",
    "oModel = tf.keras.Model(TermInput, ModelOutput, name = 'BASE_MODEL')\n",
    "\n",
    "\n",
    "oOptimizer = tf.keras.optimizers.Adam(learning_rate=1e-2)\n",
    "oModel.compile(\n",
    "    loss = tf.keras.losses.BinaryCrossentropy(), \n",
    "    metrics = tf.keras.metrics.AUC(),\n",
    "    optimizer=oOptimizer\n",
    ")\n",
    "\n",
    "\n",
    "tf.keras.utils.plot_model(oModel, show_shapes=True, to_file = r'{}\\model.png'.format(DATA_AUGMENTATION_BASE_MODEL_PATH))\n",
    "\n",
    "oModel.save(DATA_AUGMENTATION_BASE_MODEL_PATH)"
   ]
  }
 ],
 "metadata": {
  "kernelspec": {
   "display_name": "Python 3",
   "language": "python",
   "name": "python3"
  },
  "language_info": {
   "codemirror_mode": {
    "name": "ipython",
    "version": 3
   },
   "file_extension": ".py",
   "mimetype": "text/x-python",
   "name": "python",
   "nbconvert_exporter": "python",
   "pygments_lexer": "ipython3",
   "version": "3.7.10"
  }
 },
 "nbformat": 4,
 "nbformat_minor": 5
}
