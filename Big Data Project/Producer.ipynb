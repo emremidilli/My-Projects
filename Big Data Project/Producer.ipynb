{
 "cells": [
  {
   "cell_type": "code",
   "execution_count": 1,
   "id": "01225a49-da3d-48d0-99a8-e4695a844d63",
   "metadata": {},
   "outputs": [],
   "source": [
    "from kafka import KafkaProducer\n",
    "import json"
   ]
  },
  {
   "cell_type": "code",
   "execution_count": 2,
   "id": "be5149d7-cbc4-4c16-8031-5735a66e3126",
   "metadata": {},
   "outputs": [],
   "source": [
    "oProducer = KafkaProducer(\n",
    " bootstrap_servers='localhost:9092',\n",
    " value_serializer=lambda v: json.dumps(v).encode('ascii')\n",
    ")"
   ]
  },
  {
   "cell_type": "code",
   "execution_count": 3,
   "id": "9d61124d-3e01-45bb-b9bd-522632bcb957",
   "metadata": {},
   "outputs": [],
   "source": [
    "oProducer.send(\n",
    " 'test-topic',\n",
    " value=\n",
    "    {\n",
    "     \"name\": \"Elif Rana Midilli\",\n",
    "     \"hotel\": \"Luxury Hotel\",\n",
    "     \"dateFrom\": \"25-06-2021\",\n",
    "     \"dateTo\": \"07-07-2021\",  \n",
    "     \"details\": \"I want the best room 😀😀😀😀😀!!!!\"\n",
    "     }\n",
    ")\n",
    "oProducer.close()"
   ]
  },
  {
   "cell_type": "code",
   "execution_count": null,
   "id": "3bc955c1-6ff0-4807-a506-b7ec7d81c478",
   "metadata": {},
   "outputs": [],
   "source": []
  }
 ],
 "metadata": {
  "kernelspec": {
   "display_name": "Python 3",
   "language": "python",
   "name": "python3"
  },
  "language_info": {
   "codemirror_mode": {
    "name": "ipython",
    "version": 3
   },
   "file_extension": ".py",
   "mimetype": "text/x-python",
   "name": "python",
   "nbconvert_exporter": "python",
   "pygments_lexer": "ipython3",
   "version": "3.7.10"
  }
 },
 "nbformat": 4,
 "nbformat_minor": 5
}
