{
 "cells": [
  {
   "cell_type": "code",
   "execution_count": 1,
   "id": "400413bb-c854-461b-bcd7-08372525488a",
   "metadata": {},
   "outputs": [],
   "source": [
    "import pyspark\n",
    "from pyspark.sql import SparkSession"
   ]
  },
  {
   "cell_type": "code",
   "execution_count": 2,
   "id": "a24cefd6-d7dd-4ba7-b74d-de828069839d",
   "metadata": {},
   "outputs": [],
   "source": [
    "oSparkSess = SparkSession.builder.master(\"local\").appName('Example App Name').getOrCreate()"
   ]
  },
  {
   "cell_type": "code",
   "execution_count": 3,
   "id": "3c76c769-a177-47d9-971d-bc134d6b9a3d",
   "metadata": {},
   "outputs": [],
   "source": [
    "dfOhlc = oSparkSess.read.option('header',True)\\\n",
    ".csv(r'C:\\Users\\yunus\\Desktop\\My-Projects\\Exchange Rate Prediction\\Data\\dfOhlc.csv', encoding='UTF-8')"
   ]
  }
 ],
 "metadata": {
  "kernelspec": {
   "display_name": "Python 3",
   "language": "python",
   "name": "python3"
  },
  "language_info": {
   "codemirror_mode": {
    "name": "ipython",
    "version": 3
   },
   "file_extension": ".py",
   "mimetype": "text/x-python",
   "name": "python",
   "nbconvert_exporter": "python",
   "pygments_lexer": "ipython3",
   "version": "3.7.10"
  }
 },
 "nbformat": 4,
 "nbformat_minor": 5
}
